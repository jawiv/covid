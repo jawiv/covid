{
 "cells": [
  {
   "cell_type": "code",
   "execution_count": 1,
   "metadata": {
    "jupyter": {
     "source_hidden": true
    }
   },
   "outputs": [
    {
     "data": {
      "application/javascript": [
       "IPython.OutputArea.prototype._should_scroll = function(lines) {\n",
       "    return false;\n",
       "}\n"
      ],
      "text/plain": [
       "<IPython.core.display.Javascript object>"
      ]
     },
     "metadata": {},
     "output_type": "display_data"
    }
   ],
   "source": [
    "%%javascript\n",
    "IPython.OutputArea.prototype._should_scroll = function(lines) {\n",
    "    return false;\n",
    "}"
   ]
  },
  {
   "cell_type": "code",
   "execution_count": 2,
   "metadata": {
    "execution": {
     "iopub.execute_input": "2020-03-26T21:57:12.757Z",
     "iopub.status.busy": "2020-03-26T21:57:12.752Z",
     "iopub.status.idle": "2020-03-26T21:57:13.108Z",
     "shell.execute_reply": "2020-03-26T21:57:13.112Z"
    },
    "outputExpanded": false
   },
   "outputs": [
    {
     "data": {
      "text/html": [
       "\n",
       "    <div class=\"bk-root\">\n",
       "        <a href=\"https://bokeh.org\" target=\"_blank\" class=\"bk-logo bk-logo-small bk-logo-notebook\"></a>\n",
       "        <span id=\"1002\">Loading BokehJS ...</span>\n",
       "    </div>"
      ]
     },
     "metadata": {},
     "output_type": "display_data"
    },
    {
     "data": {
      "application/javascript": [
       "\n",
       "(function(root) {\n",
       "  function now() {\n",
       "    return new Date();\n",
       "  }\n",
       "\n",
       "  var force = true;\n",
       "\n",
       "  if (typeof root._bokeh_onload_callbacks === \"undefined\" || force === true) {\n",
       "    root._bokeh_onload_callbacks = [];\n",
       "    root._bokeh_is_loading = undefined;\n",
       "  }\n",
       "\n",
       "  var JS_MIME_TYPE = 'application/javascript';\n",
       "  var HTML_MIME_TYPE = 'text/html';\n",
       "  var EXEC_MIME_TYPE = 'application/vnd.bokehjs_exec.v0+json';\n",
       "  var CLASS_NAME = 'output_bokeh rendered_html';\n",
       "\n",
       "  /**\n",
       "   * Render data to the DOM node\n",
       "   */\n",
       "  function render(props, node) {\n",
       "    var script = document.createElement(\"script\");\n",
       "    node.appendChild(script);\n",
       "  }\n",
       "\n",
       "  /**\n",
       "   * Handle when an output is cleared or removed\n",
       "   */\n",
       "  function handleClearOutput(event, handle) {\n",
       "    var cell = handle.cell;\n",
       "\n",
       "    var id = cell.output_area._bokeh_element_id;\n",
       "    var server_id = cell.output_area._bokeh_server_id;\n",
       "    // Clean up Bokeh references\n",
       "    if (id != null && id in Bokeh.index) {\n",
       "      Bokeh.index[id].model.document.clear();\n",
       "      delete Bokeh.index[id];\n",
       "    }\n",
       "\n",
       "    if (server_id !== undefined) {\n",
       "      // Clean up Bokeh references\n",
       "      var cmd = \"from bokeh.io.state import curstate; print(curstate().uuid_to_server['\" + server_id + \"'].get_sessions()[0].document.roots[0]._id)\";\n",
       "      cell.notebook.kernel.execute(cmd, {\n",
       "        iopub: {\n",
       "          output: function(msg) {\n",
       "            var id = msg.content.text.trim();\n",
       "            if (id in Bokeh.index) {\n",
       "              Bokeh.index[id].model.document.clear();\n",
       "              delete Bokeh.index[id];\n",
       "            }\n",
       "          }\n",
       "        }\n",
       "      });\n",
       "      // Destroy server and session\n",
       "      var cmd = \"import bokeh.io.notebook as ion; ion.destroy_server('\" + server_id + \"')\";\n",
       "      cell.notebook.kernel.execute(cmd);\n",
       "    }\n",
       "  }\n",
       "\n",
       "  /**\n",
       "   * Handle when a new output is added\n",
       "   */\n",
       "  function handleAddOutput(event, handle) {\n",
       "    var output_area = handle.output_area;\n",
       "    var output = handle.output;\n",
       "\n",
       "    // limit handleAddOutput to display_data with EXEC_MIME_TYPE content only\n",
       "    if ((output.output_type != \"display_data\") || (!output.data.hasOwnProperty(EXEC_MIME_TYPE))) {\n",
       "      return\n",
       "    }\n",
       "\n",
       "    var toinsert = output_area.element.find(\".\" + CLASS_NAME.split(' ')[0]);\n",
       "\n",
       "    if (output.metadata[EXEC_MIME_TYPE][\"id\"] !== undefined) {\n",
       "      toinsert[toinsert.length - 1].firstChild.textContent = output.data[JS_MIME_TYPE];\n",
       "      // store reference to embed id on output_area\n",
       "      output_area._bokeh_element_id = output.metadata[EXEC_MIME_TYPE][\"id\"];\n",
       "    }\n",
       "    if (output.metadata[EXEC_MIME_TYPE][\"server_id\"] !== undefined) {\n",
       "      var bk_div = document.createElement(\"div\");\n",
       "      bk_div.innerHTML = output.data[HTML_MIME_TYPE];\n",
       "      var script_attrs = bk_div.children[0].attributes;\n",
       "      for (var i = 0; i < script_attrs.length; i++) {\n",
       "        toinsert[toinsert.length - 1].firstChild.setAttribute(script_attrs[i].name, script_attrs[i].value);\n",
       "        toinsert[toinsert.length - 1].firstChild.textContent = bk_div.children[0].textContent\n",
       "      }\n",
       "      // store reference to server id on output_area\n",
       "      output_area._bokeh_server_id = output.metadata[EXEC_MIME_TYPE][\"server_id\"];\n",
       "    }\n",
       "  }\n",
       "\n",
       "  function register_renderer(events, OutputArea) {\n",
       "\n",
       "    function append_mime(data, metadata, element) {\n",
       "      // create a DOM node to render to\n",
       "      var toinsert = this.create_output_subarea(\n",
       "        metadata,\n",
       "        CLASS_NAME,\n",
       "        EXEC_MIME_TYPE\n",
       "      );\n",
       "      this.keyboard_manager.register_events(toinsert);\n",
       "      // Render to node\n",
       "      var props = {data: data, metadata: metadata[EXEC_MIME_TYPE]};\n",
       "      render(props, toinsert[toinsert.length - 1]);\n",
       "      element.append(toinsert);\n",
       "      return toinsert\n",
       "    }\n",
       "\n",
       "    /* Handle when an output is cleared or removed */\n",
       "    events.on('clear_output.CodeCell', handleClearOutput);\n",
       "    events.on('delete.Cell', handleClearOutput);\n",
       "\n",
       "    /* Handle when a new output is added */\n",
       "    events.on('output_added.OutputArea', handleAddOutput);\n",
       "\n",
       "    /**\n",
       "     * Register the mime type and append_mime function with output_area\n",
       "     */\n",
       "    OutputArea.prototype.register_mime_type(EXEC_MIME_TYPE, append_mime, {\n",
       "      /* Is output safe? */\n",
       "      safe: true,\n",
       "      /* Index of renderer in `output_area.display_order` */\n",
       "      index: 0\n",
       "    });\n",
       "  }\n",
       "\n",
       "  // register the mime type if in Jupyter Notebook environment and previously unregistered\n",
       "  if (root.Jupyter !== undefined) {\n",
       "    var events = require('base/js/events');\n",
       "    var OutputArea = require('notebook/js/outputarea').OutputArea;\n",
       "\n",
       "    if (OutputArea.prototype.mime_types().indexOf(EXEC_MIME_TYPE) == -1) {\n",
       "      register_renderer(events, OutputArea);\n",
       "    }\n",
       "  }\n",
       "\n",
       "  \n",
       "  if (typeof (root._bokeh_timeout) === \"undefined\" || force === true) {\n",
       "    root._bokeh_timeout = Date.now() + 5000;\n",
       "    root._bokeh_failed_load = false;\n",
       "  }\n",
       "\n",
       "  var NB_LOAD_WARNING = {'data': {'text/html':\n",
       "     \"<div style='background-color: #fdd'>\\n\"+\n",
       "     \"<p>\\n\"+\n",
       "     \"BokehJS does not appear to have successfully loaded. If loading BokehJS from CDN, this \\n\"+\n",
       "     \"may be due to a slow or bad network connection. Possible fixes:\\n\"+\n",
       "     \"</p>\\n\"+\n",
       "     \"<ul>\\n\"+\n",
       "     \"<li>re-rerun `output_notebook()` to attempt to load from CDN again, or</li>\\n\"+\n",
       "     \"<li>use INLINE resources instead, as so:</li>\\n\"+\n",
       "     \"</ul>\\n\"+\n",
       "     \"<code>\\n\"+\n",
       "     \"from bokeh.resources import INLINE\\n\"+\n",
       "     \"output_notebook(resources=INLINE)\\n\"+\n",
       "     \"</code>\\n\"+\n",
       "     \"</div>\"}};\n",
       "\n",
       "  function display_loaded() {\n",
       "    var el = document.getElementById(\"1002\");\n",
       "    if (el != null) {\n",
       "      el.textContent = \"BokehJS is loading...\";\n",
       "    }\n",
       "    if (root.Bokeh !== undefined) {\n",
       "      if (el != null) {\n",
       "        el.textContent = \"BokehJS \" + root.Bokeh.version + \" successfully loaded.\";\n",
       "      }\n",
       "    } else if (Date.now() < root._bokeh_timeout) {\n",
       "      setTimeout(display_loaded, 100)\n",
       "    }\n",
       "  }\n",
       "\n",
       "\n",
       "  function run_callbacks() {\n",
       "    try {\n",
       "      root._bokeh_onload_callbacks.forEach(function(callback) {\n",
       "        if (callback != null)\n",
       "          callback();\n",
       "      });\n",
       "    } finally {\n",
       "      delete root._bokeh_onload_callbacks\n",
       "    }\n",
       "    console.debug(\"Bokeh: all callbacks have finished\");\n",
       "  }\n",
       "\n",
       "  function load_libs(css_urls, js_urls, callback) {\n",
       "    if (css_urls == null) css_urls = [];\n",
       "    if (js_urls == null) js_urls = [];\n",
       "\n",
       "    root._bokeh_onload_callbacks.push(callback);\n",
       "    if (root._bokeh_is_loading > 0) {\n",
       "      console.debug(\"Bokeh: BokehJS is being loaded, scheduling callback at\", now());\n",
       "      return null;\n",
       "    }\n",
       "    if (js_urls == null || js_urls.length === 0) {\n",
       "      run_callbacks();\n",
       "      return null;\n",
       "    }\n",
       "    console.debug(\"Bokeh: BokehJS not loaded, scheduling load and callback at\", now());\n",
       "    root._bokeh_is_loading = css_urls.length + js_urls.length;\n",
       "\n",
       "    function on_load() {\n",
       "      root._bokeh_is_loading--;\n",
       "      if (root._bokeh_is_loading === 0) {\n",
       "        console.debug(\"Bokeh: all BokehJS libraries/stylesheets loaded\");\n",
       "        run_callbacks()\n",
       "      }\n",
       "    }\n",
       "\n",
       "    function on_error() {\n",
       "      console.error(\"failed to load \" + url);\n",
       "    }\n",
       "\n",
       "    for (var i = 0; i < css_urls.length; i++) {\n",
       "      var url = css_urls[i];\n",
       "      const element = document.createElement(\"link\");\n",
       "      element.onload = on_load;\n",
       "      element.onerror = on_error;\n",
       "      element.rel = \"stylesheet\";\n",
       "      element.type = \"text/css\";\n",
       "      element.href = url;\n",
       "      console.debug(\"Bokeh: injecting link tag for BokehJS stylesheet: \", url);\n",
       "      document.body.appendChild(element);\n",
       "    }\n",
       "\n",
       "    for (var i = 0; i < js_urls.length; i++) {\n",
       "      var url = js_urls[i];\n",
       "      var element = document.createElement('script');\n",
       "      element.onload = on_load;\n",
       "      element.onerror = on_error;\n",
       "      element.async = false;\n",
       "      element.src = url;\n",
       "      \n",
       "      console.debug(\"Bokeh: injecting script tag for BokehJS library: \", url);\n",
       "      document.head.appendChild(element);\n",
       "    }\n",
       "  };var element = document.getElementById(\"1002\");\n",
       "  if (element == null) {\n",
       "    console.error(\"Bokeh: ERROR: autoload.js configured with elementid '1002' but no matching script tag was found. \")\n",
       "    return false;\n",
       "  }\n",
       "\n",
       "  function inject_raw_css(css) {\n",
       "    const element = document.createElement(\"style\");\n",
       "    element.appendChild(document.createTextNode(css));\n",
       "    document.body.appendChild(element);\n",
       "  }\n",
       "\n",
       "  \n",
       "  var js_urls = [\"https://cdn.bokeh.org/bokeh/release/bokeh-2.0.0.min.js\", \"https://cdn.bokeh.org/bokeh/release/bokeh-widgets-2.0.0.min.js\", \"https://cdn.bokeh.org/bokeh/release/bokeh-tables-2.0.0.min.js\", \"https://cdn.bokeh.org/bokeh/release/bokeh-gl-2.0.0.min.js\"];\n",
       "  var css_urls = [];\n",
       "  \n",
       "\n",
       "  var inline_js = [\n",
       "    function(Bokeh) {\n",
       "      Bokeh.set_log_level(\"info\");\n",
       "    },\n",
       "    function(Bokeh) {\n",
       "    \n",
       "    \n",
       "    }\n",
       "  ];\n",
       "\n",
       "  function run_inline_js() {\n",
       "    \n",
       "    if (root.Bokeh !== undefined || force === true) {\n",
       "      \n",
       "    for (var i = 0; i < inline_js.length; i++) {\n",
       "      inline_js[i].call(root, root.Bokeh);\n",
       "    }\n",
       "    if (force === true) {\n",
       "        display_loaded();\n",
       "      }} else if (Date.now() < root._bokeh_timeout) {\n",
       "      setTimeout(run_inline_js, 100);\n",
       "    } else if (!root._bokeh_failed_load) {\n",
       "      console.log(\"Bokeh: BokehJS failed to load within specified timeout.\");\n",
       "      root._bokeh_failed_load = true;\n",
       "    } else if (force !== true) {\n",
       "      var cell = $(document.getElementById(\"1002\")).parents('.cell').data().cell;\n",
       "      cell.output_area.append_execute_result(NB_LOAD_WARNING)\n",
       "    }\n",
       "\n",
       "  }\n",
       "\n",
       "  if (root._bokeh_is_loading === 0) {\n",
       "    console.debug(\"Bokeh: BokehJS loaded, going straight to plotting\");\n",
       "    run_inline_js();\n",
       "  } else {\n",
       "    load_libs(css_urls, js_urls, function() {\n",
       "      console.debug(\"Bokeh: BokehJS plotting callback run at\", now());\n",
       "      run_inline_js();\n",
       "    });\n",
       "  }\n",
       "}(window));"
      ],
      "application/vnd.bokehjs_load.v0+json": "\n(function(root) {\n  function now() {\n    return new Date();\n  }\n\n  var force = true;\n\n  if (typeof root._bokeh_onload_callbacks === \"undefined\" || force === true) {\n    root._bokeh_onload_callbacks = [];\n    root._bokeh_is_loading = undefined;\n  }\n\n  \n\n  \n  if (typeof (root._bokeh_timeout) === \"undefined\" || force === true) {\n    root._bokeh_timeout = Date.now() + 5000;\n    root._bokeh_failed_load = false;\n  }\n\n  var NB_LOAD_WARNING = {'data': {'text/html':\n     \"<div style='background-color: #fdd'>\\n\"+\n     \"<p>\\n\"+\n     \"BokehJS does not appear to have successfully loaded. If loading BokehJS from CDN, this \\n\"+\n     \"may be due to a slow or bad network connection. Possible fixes:\\n\"+\n     \"</p>\\n\"+\n     \"<ul>\\n\"+\n     \"<li>re-rerun `output_notebook()` to attempt to load from CDN again, or</li>\\n\"+\n     \"<li>use INLINE resources instead, as so:</li>\\n\"+\n     \"</ul>\\n\"+\n     \"<code>\\n\"+\n     \"from bokeh.resources import INLINE\\n\"+\n     \"output_notebook(resources=INLINE)\\n\"+\n     \"</code>\\n\"+\n     \"</div>\"}};\n\n  function display_loaded() {\n    var el = document.getElementById(\"1002\");\n    if (el != null) {\n      el.textContent = \"BokehJS is loading...\";\n    }\n    if (root.Bokeh !== undefined) {\n      if (el != null) {\n        el.textContent = \"BokehJS \" + root.Bokeh.version + \" successfully loaded.\";\n      }\n    } else if (Date.now() < root._bokeh_timeout) {\n      setTimeout(display_loaded, 100)\n    }\n  }\n\n\n  function run_callbacks() {\n    try {\n      root._bokeh_onload_callbacks.forEach(function(callback) {\n        if (callback != null)\n          callback();\n      });\n    } finally {\n      delete root._bokeh_onload_callbacks\n    }\n    console.debug(\"Bokeh: all callbacks have finished\");\n  }\n\n  function load_libs(css_urls, js_urls, callback) {\n    if (css_urls == null) css_urls = [];\n    if (js_urls == null) js_urls = [];\n\n    root._bokeh_onload_callbacks.push(callback);\n    if (root._bokeh_is_loading > 0) {\n      console.debug(\"Bokeh: BokehJS is being loaded, scheduling callback at\", now());\n      return null;\n    }\n    if (js_urls == null || js_urls.length === 0) {\n      run_callbacks();\n      return null;\n    }\n    console.debug(\"Bokeh: BokehJS not loaded, scheduling load and callback at\", now());\n    root._bokeh_is_loading = css_urls.length + js_urls.length;\n\n    function on_load() {\n      root._bokeh_is_loading--;\n      if (root._bokeh_is_loading === 0) {\n        console.debug(\"Bokeh: all BokehJS libraries/stylesheets loaded\");\n        run_callbacks()\n      }\n    }\n\n    function on_error() {\n      console.error(\"failed to load \" + url);\n    }\n\n    for (var i = 0; i < css_urls.length; i++) {\n      var url = css_urls[i];\n      const element = document.createElement(\"link\");\n      element.onload = on_load;\n      element.onerror = on_error;\n      element.rel = \"stylesheet\";\n      element.type = \"text/css\";\n      element.href = url;\n      console.debug(\"Bokeh: injecting link tag for BokehJS stylesheet: \", url);\n      document.body.appendChild(element);\n    }\n\n    for (var i = 0; i < js_urls.length; i++) {\n      var url = js_urls[i];\n      var element = document.createElement('script');\n      element.onload = on_load;\n      element.onerror = on_error;\n      element.async = false;\n      element.src = url;\n      \n      console.debug(\"Bokeh: injecting script tag for BokehJS library: \", url);\n      document.head.appendChild(element);\n    }\n  };var element = document.getElementById(\"1002\");\n  if (element == null) {\n    console.error(\"Bokeh: ERROR: autoload.js configured with elementid '1002' but no matching script tag was found. \")\n    return false;\n  }\n\n  function inject_raw_css(css) {\n    const element = document.createElement(\"style\");\n    element.appendChild(document.createTextNode(css));\n    document.body.appendChild(element);\n  }\n\n  \n  var js_urls = [\"https://cdn.bokeh.org/bokeh/release/bokeh-2.0.0.min.js\", \"https://cdn.bokeh.org/bokeh/release/bokeh-widgets-2.0.0.min.js\", \"https://cdn.bokeh.org/bokeh/release/bokeh-tables-2.0.0.min.js\", \"https://cdn.bokeh.org/bokeh/release/bokeh-gl-2.0.0.min.js\"];\n  var css_urls = [];\n  \n\n  var inline_js = [\n    function(Bokeh) {\n      Bokeh.set_log_level(\"info\");\n    },\n    function(Bokeh) {\n    \n    \n    }\n  ];\n\n  function run_inline_js() {\n    \n    if (root.Bokeh !== undefined || force === true) {\n      \n    for (var i = 0; i < inline_js.length; i++) {\n      inline_js[i].call(root, root.Bokeh);\n    }\n    if (force === true) {\n        display_loaded();\n      }} else if (Date.now() < root._bokeh_timeout) {\n      setTimeout(run_inline_js, 100);\n    } else if (!root._bokeh_failed_load) {\n      console.log(\"Bokeh: BokehJS failed to load within specified timeout.\");\n      root._bokeh_failed_load = true;\n    } else if (force !== true) {\n      var cell = $(document.getElementById(\"1002\")).parents('.cell').data().cell;\n      cell.output_area.append_execute_result(NB_LOAD_WARNING)\n    }\n\n  }\n\n  if (root._bokeh_is_loading === 0) {\n    console.debug(\"Bokeh: BokehJS loaded, going straight to plotting\");\n    run_inline_js();\n  } else {\n    load_libs(css_urls, js_urls, function() {\n      console.debug(\"Bokeh: BokehJS plotting callback run at\", now());\n      run_inline_js();\n    });\n  }\n}(window));"
     },
     "metadata": {},
     "output_type": "display_data"
    }
   ],
   "source": [
    "import requests\n",
    "import pandas as pd\n",
    "import numpy as np\n",
    "import math\n",
    "import json\n",
    "from bokeh.plotting import figure, output_notebook, show\n",
    "from bokeh.models import ColumnDataSource\n",
    "from bokeh.transform import factor_cmap\n",
    "from bokeh.palettes import Spectral6\n",
    "from IPython.display import Markdown as md\n",
    "import os\n",
    "\n",
    "output_notebook()\n",
    "url = \"http://bing.com/covid/data\"\n",
    "r = requests.get(url)\n",
    "j = r.json()\n",
    "with open('state_populations.json') as data:\n",
    "    state_pop = pd.read_json(data)\n",
    "#j = r.json()\n",
    "#print(j)\n",
    "#df = pd.DataFrame(j['areas'][2])\n",
    "df = pd.json_normalize(j['areas'][0], 'areas')\n",
    "df.fillna(0, inplace=True)\n",
    "#df['totalConfirmed'].sum()\n",
    "index = df['displayName'].to_list()\n",
    "totalConfirmed = df['totalConfirmed'].to_list()\n",
    "totalDeaths = df['totalDeaths'].to_list()\n",
    "totalRecovered = df['totalRecovered'].to_list()\n",
    "df2 = pd.DataFrame({'totalConfirmed': totalConfirmed,\n",
    "                    'totalDeaths': totalDeaths,\n",
    "                    'totalRecovered': totalRecovered}, index=index)\n",
    "df2['totalRecovered'].fillna(0, inplace=True)\n",
    "df2['deathRate'] = df2['totalDeaths'].div(df2['totalConfirmed'], fill_value=0)\n",
    "df2['recoveryRate'] = df2['totalRecovered'].div(df2['totalConfirmed'], fill_value=0)\n",
    "covid = pd.merge(left=df2, right=state_pop[['state_name','population']], how='left', left_index=True, right_on='state_name')\n",
    "covid['infectionRate'] = covid['totalConfirmed'].div(covid['population'], fill_value=0)\n",
    "covid = covid[['state_name', 'population', 'totalConfirmed', 'infectionRate', 'totalDeaths', 'deathRate', 'totalRecovered', 'recoveryRate']]\n",
    "covid.set_index('state_name', inplace=True)\n",
    "\n",
    "total_population = int(covid['population'].sum())\n",
    "total_confirmed = int(covid['totalConfirmed'].sum())\n",
    "total_deaths = int(covid['totalDeaths'].sum())\n",
    "total_recoveries = int(covid['totalRecovered'].sum())\n",
    "infection_rate = total_confirmed / total_population\n",
    "death_rate = total_deaths / total_confirmed\n",
    "recovery_rate = total_recoveries / total_confirmed\n",
    "\n",
    "covid['expectedCases'] = covid['population'].mul(infection_rate)\n",
    "covid['caseDelta'] = covid['totalConfirmed'].sub(covid['expectedCases'])\n",
    "covid['caseDeltaRate'] = covid['caseDelta'].div(covid['expectedCases'], fill_value=0)\n",
    "\n",
    "covid['expectedDeaths'] = covid['totalConfirmed'].mul(death_rate)\n",
    "covid['deathDelta'] = covid['totalDeaths'].sub(covid['expectedDeaths'])\n",
    "covid['deathDeltaRate'] = covid['deathDelta'].div(covid['expectedDeaths'], fill_value=0)\n",
    "\n",
    "covid['caseShare'] = covid['totalConfirmed'].div(total_confirmed, fill_value=0)\n",
    "covid['deathShare'] = covid['totalDeaths'].div(total_deaths, fill_value=0)\n",
    "covid['recoveryShare'] = covid['totalRecovered'].div(total_recoveries, fill_value=0)"
   ]
  },
  {
   "cell_type": "code",
   "execution_count": 3,
   "metadata": {
    "execution": {
     "iopub.execute_input": "2020-03-26T21:57:19.328Z",
     "iopub.status.busy": "2020-03-26T21:57:19.326Z",
     "iopub.status.idle": "2020-03-26T21:57:19.340Z",
     "shell.execute_reply": "2020-03-26T21:57:19.349Z"
    },
    "outputExpanded": false
   },
   "outputs": [
    {
     "data": {
      "text/markdown": [
       " | Metric | `Tennessee` | `United States` |\n",
       "| --- | ---: | ---: |\n",
       "| Infection Rate | `0.0114%` | `0.0224%` |\n",
       "| Death Rate | `0.3827%` | `1.4090%` |\n",
       "| Infection Delta | `-760` | `-----` |\n",
       "| Delta % | `-49.2237%` | `-----` |\n",
       "| Expected | `1,544` | `-----` |\n",
       "| Actual | `784` | `74,166` |\n",
       "| Deaths Delta | `-8` | `-----` |\n",
       "| Delta % | `-72.8423%` | `-----` |\n",
       "| Expected | `11` | `-----` |\n",
       "| Actual | `3` | `1,045` |\n",
       "| Case Share | `1.0571%` | `-----` |\n",
       "| Death Share | `0.2871%` | `-----` |\n",
       "| Recovery Share | `0.0000%` | `-----` |\n"
      ],
      "text/plain": [
       "<IPython.core.display.Markdown object>"
      ]
     },
     "execution_count": 3,
     "metadata": {},
     "output_type": "execute_result"
    }
   ],
   "source": [
    "states_to_watch = [\"Tennessee\", \"Kentucky\", \"Indiana\"]\n",
    "stat_tuples_array = [('Infection Rate', \"infectionRate\", infection_rate, 0), \n",
    "                     ('Death Rate', \"deathRate\", death_rate, 0),\n",
    "                     ('Case Delta', \"caseDelta\", '-----', 1),\n",
    "                     ('Delta %', \"caseDeltaRate\", '-----', 0),\n",
    "                     ('Expected Cases', \"expectedCases\", '-----', 1),\n",
    "                     ('Actual Cases', \"totalConfirmed\", total_confirmed, 1),\n",
    "                     ('Deaths Delta', \"deathDelta\", '-----', 1),\n",
    "                     ('Delta %', \"deathDeltaRate\", '-----', 0),\n",
    "                     ('Expected Deaths', \"expectedDeaths\", '-----', 1),\n",
    "                     ('Actual Deaths', \"totalDeaths\", total_deaths, 1),\n",
    "                     ('Case Share', \"caseShare\", '-----', 0),\n",
    "                     ('Death Share', \"deathShare\", '-----', 0),\n",
    "                     ('Recovery Share', \"recoveryShare\", '-----', 0),\n",
    "                    ]\n",
    "table = \" | Metric | \"\n",
    "for state in states_to_watch:\n",
    "    table += \"`{}` | \".format(state)\n",
    "table += \"`United States` |\\n\"\n",
    "table += \"| --- | \"\n",
    "for state in states_to_watch:\n",
    "    table += \"---: | \"\n",
    "table += \"---: |\\n\"\n",
    "for field in stat_tuples_array:\n",
    "    table += \"| {} | \".format(field[0])\n",
    "    if field[3] == 0:\n",
    "        for state in states_to_watch:\n",
    "            table += \"`{:.4%}` | \".format(covid.loc[state, format(field[1])])\n",
    "        if isinstance(field[2], float):\n",
    "            table += \"`{:.4%}` |\\n\".format(field[2])\n",
    "        else:\n",
    "            table += \"`{}` |\\n\".format(field[2])\n",
    "    elif field[3] == 1:\n",
    "        for state in states_to_watch:\n",
    "            table += \"`{:,}` | \".format(int(covid.loc[state, field[1]]))\n",
    "        if isinstance(field[2], float) or isinstance(field[2], int):\n",
    "            table += \"`{:,}` |\\n\".format(int(field[2]))\n",
    "        else:\n",
    "            table += \"`{}` |\\n\".format(field[2])\n",
    "\n",
    "md(table)"
   ]
  },
  {
   "cell_type": "code",
   "execution_count": 4,
   "metadata": {
    "execution": {
     "iopub.execute_input": "2020-03-26T21:57:21.205Z",
     "iopub.status.busy": "2020-03-26T21:57:21.201Z",
     "iopub.status.idle": "2020-03-26T21:57:21.448Z",
     "shell.execute_reply": "2020-03-26T21:57:21.479Z"
    },
    "jupyter": {
     "source_hidden": true
    },
    "outputExpanded": false
   },
   "outputs": [
    {
     "data": {
      "text/html": [
       "\n",
       "\n",
       "\n",
       "\n",
       "\n",
       "\n",
       "  <div class=\"bk-root\" id=\"06978e4e-00b0-4617-b996-8159fe3a0549\" data-root-id=\"1112\"></div>\n"
      ]
     },
     "metadata": {},
     "output_type": "display_data"
    },
    {
     "data": {
      "application/javascript": [
       "(function(root) {\n",
       "  function embed_document(root) {\n",
       "    \n",
       "  var docs_json = {\"59fddc8c-2380-4171-b5ec-e8dc801808fc\":{\"roots\":{\"references\":[{\"attributes\":{\"below\":[{\"id\":\"1123\"}],\"center\":[{\"id\":\"1125\"},{\"id\":\"1129\"}],\"left\":[{\"id\":\"1126\"}],\"plot_width\":1000,\"renderers\":[{\"id\":\"1146\"}],\"title\":{\"id\":\"1113\"},\"toolbar\":{\"id\":\"1136\"},\"x_range\":{\"id\":\"1115\"},\"x_scale\":{\"id\":\"1119\"},\"y_range\":{\"id\":\"1117\"},\"y_scale\":{\"id\":\"1121\"}},\"id\":\"1112\",\"subtype\":\"Figure\",\"type\":\"Plot\"},{\"attributes\":{\"data_source\":{\"id\":\"1003\"},\"glyph\":{\"id\":\"1144\"},\"hover_glyph\":null,\"muted_glyph\":null,\"nonselection_glyph\":{\"id\":\"1145\"},\"selection_glyph\":null,\"view\":{\"id\":\"1147\"}},\"id\":\"1146\",\"type\":\"GlyphRenderer\"},{\"attributes\":{},\"id\":\"1130\",\"type\":\"PanTool\"},{\"attributes\":{},\"id\":\"1131\",\"type\":\"WheelZoomTool\"},{\"attributes\":{\"overlay\":{\"id\":\"1299\"}},\"id\":\"1132\",\"type\":\"BoxZoomTool\"},{\"attributes\":{},\"id\":\"1133\",\"type\":\"SaveTool\"},{\"attributes\":{\"data\":{\"caseDelta\":{\"__ndarray__\":\"0UB6s0cR4EDEHLsXFsOiQCYdOTcHs7jAgJhBsRu1RkD09gzW7RSKQCxHeTEDR47AVAyli49EcUBOaoxmSASnwJq+jXtimYdAYMAla9d7ksBqlg0RFxGSwEVZPZFjUbTAWHL3f8XQa8CopCvsz1lTQCrj3181wIfAziVjBemKm8AkKnOTWNeCwPpe+NKbB4vA9mezQ+Itm8Cgv8CIq22IwAOOsyC43pHAMBtCe/R3i8AgjwbbtwRnwPwWS6nqVoPASt6hk+wPmMC4ueCkQjKHwPyRNJ4GrXHAyhxDRUDLdMCUOwgyyRCNwFZxRzWBlHXAva8alGjGhcAkfdBvT+qDwAAGuAwga1FAYmrMThFKicDeKzK1fKaAwPqjX2rCN37A4DBcfYBoMUA41wiVL0hiwE5yZmCIPmXAdKNjXQUbWsB2EENkYYFWwHcgw22T3HHAAUlI/FdVdsA4h4MzYqdrwPWU72JXwXbApsy4yrCIZcCsTkuboVNawIm2GUBye1LARAomPMagXcDW6kHFWbB1wAUD9hGUhGPA\",\"dtype\":\"float64\",\"shape\":[51]},\"caseDeltaRate\":{\"__ndarray__\":\"BerOshI/HkDutuO1PDXzPymwvxX4oea/+taDuYyulD/P74mllJreP0PGWEyK4dW/yK+4qgelxj82B7WpUCbjvw7ACzRuPec/Dfe8mkVh2r/3qcQTvcrev0ZBOwWVOum/BolgO3DExb/pYt1l/Ne4PzoYDLvNgN+/rs6S3ylz5b/vbeBFF3Xdv2VQqaSnVOK/Gb+WHLRu57/FeS6rvF7iv8+K3wxsKOa/GOvIRShe5L/2zgtY1JzRv+tWaJCdBeK/Tpg5ajiF6b/9nMkE0F3kvxZo9Sr2wNm/7Hv5wFX73L+nRxRO1FLnvzNxmdLnPeC/G+2orbwo57+asCo2Iwnnv7y7NW7zo9s/qePgJ6y16b/bZbx98vPnv5o4XFqCv+e/DkTbBbuyvz/3BuF6OBLfv0mgPpW9t+G/D3eox25E3L8YOxabfi/avzKa/fgZX+a/obKR9hdd6L+g6dAcA2Pmvx1hCwjOp+q/4h4x8B+p5r9NQCdDYYLkv73JtPtfo+K/1HVzxrw95r87aMJDVObrv6SJcMDQt+i/\",\"dtype\":\"float64\",\"shape\":[51]},\"caseShare\":{\"__ndarray__\":\"W+hyYVQT4D/Jiuixj2OuP4idp/j3EKI/RR1QcUasnz87W3NOlM+hP3037i/zv5k/gz4zU4RgmT9BU+wF0kubPyNmL+qHyJg/OIJDd8xKlz/bgm/llzeRPzkj1g8+RpM/4nWkIw/9jT/WcaLPeSmIP7iE5bMvpoU/cZJZQ+zwhz+KHqhN3YWDPztbc06Uz4E/6V+hEPWPgT8lRKM6FgSAPy3TJpg4Dnw/FYS5RWS5ez+nzoOxCsl6P2m3KMJZgno/30zTUAyYdT/hfywWnGp3P3yg44kOMnc/NbObkpEzdj+te5/m0xtzP1cV16ROgHI/jA/c4YlhbT/+NEzzj2RrPyLK4Mrcg2k/HWQuQL3eZT/cGXqLfMVjPzBN6QdyjmI/NvB8Sq5zYT8foQ/42R5hPyCN/xLAQ14/JzCTVfwoXT9ccQE94bdcP5hVA2cCLFs/QLzhX+29WD+J5goPh/xUP9ezxwBdIFA/Gupr0INeTz+f+JapPhFKP+F/LBacakc/F8Ga/YD5Rj9NAgnlZYhGP1lIMGreUkQ/\",\"dtype\":\"float64\",\"shape\":[51]},\"deathDelta\":{\"__ndarray__\":\"fA7Kced+YcDgBRe7Wc4HQPrk/eJdIDJAQPy5OeJaJUCTY3jzdOlXQIRop7KLHB3AFhfQE37LJcDcry1SgGwTwIKQIaat2kNAkJLWolQUH8C28xs9BG42QCB3lFrttvq/ZtXAmQDLEkCo8rbhWK8aQLH5VS7YFyDAyKLsbnS6AcCsRP9dcLEPwEyO4c3TpR9AQl5xrlHYH8CWOq5eV7AQwPAH0/Xl8+o/qG/DXnOo7T8oFT5NUa3qvywNZBmGDRfAnLsI3SrtC0D+LL5s6DQAQHl0yKkqVBBAomTdTiCoEsDsgTT+SwAHwA79cIPgwgXAkRYhBRsCGUDsevYYoAsMQDgyT5CITtC/AAAAAAAA+H8AAAAAAAD4f+yntIWIQOQ/7v89MVkYF0AAAAAAAAD4f4yVxoZHxe2/AAAAAAAA+H8AAAAAAAD4fwAAAAAAAPh/AAAAAAAA+H8AAAAAAAD4fwAAAAAAAPh/AAAAAAAA+H8gu7o1m5fFPwAAAAAAAPh/AAAAAAAA+H8AAAAAAAD4f1Z0RAzdhNY/\",\"dtype\":\"float64\",\"shape\":[51]},\"deathDeltaRate\":{\"__ndarray__\":\"/G5LaEgQ0b+pJXPLe5CoP2joXhoadt8/jn46tFYk1T+SUiQ+kgwFQOXuGWevudG/4Vm630Lu2r86CqSNPlDGv6kXzkrTHvk/pb44xpPr1L8lqtOv2mz0P6mhOrgGu7W/Tzv0Tomm0z+HBpl1yVDhPwiXM708T+e/oyr0Z0E4x78grbTXvnPZv2rB7QPY2+s/7pNce9dt7L9mOW8LUFbgv575dNrUH74/IEKl2qbFwD9BQg+H6zq/vwFEdIO9ROu/6RNqTLdG5D+1IVJvzLPVP10bhtj3EuY/RzpCQbhZ6r/8OF2HR9/ivxC/a2ntcOK/td9puKiw+j8ojpHHTg3wP5OInyBSCrS/AAAAAAAA+H8AAAAAAAD4fw4pycRzHNE/LuHVfI2/BEAAAAAAAAD4f7aE+DdX2N6/AAAAAAAA+H8AAAAAAAD4fwAAAAAAAPh/AAAAAAAA+H8AAAAAAAD4fwAAAAAAAPh/AAAAAAAA+H+ofV/mQ/nJPwAAAAAAAPh/AAAAAAAA+H8AAAAAAAD4fz8vZFY7X+E/\",\"dtype\":\"float64\",\"shape\":[51]},\"deathRate\":{\"__ndarray__\":\"DSqc7KYphT+1x4MLpT2OP+QWxs9UhZU/oEMjhsUxkz8mIKNhAjKqP6/r85dF3YQ/bZa83by2gD/dj3GrdNOHP89ySf9WiqI/E4BsE4Bsgz9QxgYBZWygP88ezhMpaIo/zjRwrrLbkj9o1P4LRTyWP9aHxvrQWG8/Rb01riafhz/XulQyZ2GBP4zTr8E4/Zo/AqHkTtHCWT/w+MMBjz98PwgEAoFAIJA/BDTX95dRkD8ZkEOACVaJPxEREREREWE/LvY4TwGSlz/BeCv7HFKTPxiGYRiGYZg/ms/1x8tgZD/D7OAIIq13P7mSwLwndHg/+DPhz4Q/oz/nnHPOOeecP75jamDvmIo/AAAAAAAAAAAAAAAAAAAAAJIkSZIkSZI/2TMQlY7sqT8AAAAAAAAAAIqG+OPW5X0/AAAAAAAAAAAAAAAAAAAAAAAAAAAAAAAAAAAAAAAAAAAAAAAAAAAAAAAAAAAAAAAAAAAAAAAAAAANJ3VfHluRPwAAAAAAAAAAAAAAAAAAAAAAAAAAAAAAAGQhC1nIQpY/\",\"dtype\":\"float64\",\"shape\":[51]},\"deathShare\":{\"__ndarray__\":\"Q3kN5TWU1z8Bz6fHzdivPyivobyG8qo/iyJnr2QRpT+yAmGkHSvAP54S5ClBnpI/Fb8kQqpljT+yxbUyrYmWPwHPp8fN2K8/n5iNRmBbjz9jfxgsHJmjP9mlrydmo5E/Y38YLByZkz+eEuQpQZ6SP3cy6jSIhGc/Y38YLByZgz93Muo0iIR3PxQ5eyWLqJA/n5iNRmBbTz+fmI1GYFtvP5+YjUZgW38/n5iNRmBbfz93Muo0iIR3P5+YjUZgW08/2aWvJ2ajgT+fmI1GYFt/P2N/GCwcmYM/n5iNRmBbTz+fmI1GYFtfP5+YjUZgW18/Y38YLByZgz+L5bs99G97P3cy6jSIhGc/AAAAAAAA+H8AAAAAAAD4f3cy6jSIhGc/n5iNRmBbfz8AAAAAAAD4f5+YjUZgW08/AAAAAAAA+H8AAAAAAAD4fwAAAAAAAPh/AAAAAAAA+H8AAAAAAAD4fwAAAAAAAPh/AAAAAAAA+H+fmI1GYFtPPwAAAAAAAPh/AAAAAAAA+H8AAAAAAAD4f5+YjUZgW08/\",\"dtype\":\"float64\",\"shape\":[51]},\"expectedCases\":{\"__ndarray__\":\"evktZML/sEB5xonQ00GfQJOOnJsDdsFAnvk6kSuRoUCGhPkUiUWbQMtRXszAI6ZA67wWHdxmmEAnNUYzJDuzQLMgOcJOP5BAMOCStetrpkA1y4aIi8aiQEVZPZFjxblAS+7+rxhylEBri3oCxuyIQJXx768aIJhA55KxgnSLpEASlblJrHeUQH0vfOnNl5dA+7PZIfGOokDQX2DE1UaVQAOOsyC4zplAmA2hPfqTlUDIo8H2LemEQH6LpVR1K5FASt6hk+wrnkDcXHBSITmSQP5IGk+D9oVAZY6hIqD1hkDKHQSZZPCTQKu4o5pAQoVAva8alGgWjkAkfdBvT6qLQAD9o/lvKmRAYmrMThF6j0DeKzK1fD6GQP3RLzXhW4RA5HlU8O+SYUCca4TKF9RyQCc5MzBEL3NAutGxroKNbUA7iCGysIBrQHcgw22TjHlAAUlI/FdVfUCcw8EZscNzQPWU72JXUXtApsy4yrBobkBWp6XN0IlkQIm2GUByu19AIgUTHmNQZUDW6kHFWeB4QAUD9hGURGlA\",\"dtype\":\"float64\",\"shape\":[51]},\"expectedDeaths\":{\"__ndarray__\":\"n4Ny3LlngECij05kGgNPQIMNgQ7Rb0JA8ICRcUcpQEDaOA8ZFi1CQCHaqewiRzpAiwvoCb/lOUD3a4sUINs7QPvevLOkSjlApKS1KBXFN0BKDOTC+5ExQHJHqdVuqzNATZUfs3+aLkCshiSPU6goQLH5VS7YFyZAsii7G51uKEAr0X8XXOwjQNo4DxkWLSJAIa841yjsIUBLHVevK1ggQAKfRUGDoRxAC5InlPFKHEClwqcpqlUbQCwNZBmGDRtAMqJ7kWoJFkCB6aDJi+UXQIeLN1bVqxdAomTdTiCoFkD2QBr/JYATQId+uEFw4RJA3tK99cn7DUAUhQnnX/QLQEfmCRLRCQpAq1e/oY5RBkDkWlZZSS0EQAXWkt7d7wJAJACEnU3PAUAt82Xwu3gBQMZKY8Oj4v4/5HRUghPC/T/wuIGbpk79PxonoHOpuvs/XB0ZftI/+T/D3xnUtGr1P0jMC+kGdfA/VBA5ApoB8D84UZEyGZrqP4HpoMmL5ec/jS3O4h5y5z+Zcfv7sf7mP9XF3XmRveQ/\",\"dtype\":\"float64\",\"shape\":[51]},\"infectionRate\":{\"__ndarray__\":\"IyeADHVmXz/Yo4LfFCRAP9kwIz14LRE/ITa/quHuLT8zKANTdK81P38h9KMsTyM/sDhYsP5DMT/OgknzkZAXP14Pf6gUUzk/M70w8Co/IT9oTD+avHIeP8ys9yxt1Qg/f+Jtw9hZKD/P/BdrDRgwP5gf4ILNyx0/lBt23L9YEz9sdbGc/asfP9up1aYKERk/N/Ly2Q9sDz/rsg+cjf4YPwy5z09cDBI/LJqADrhUFT+/SriFH0QlP3/YypL7oRk/y4wPhq/DBz+yXyvlWVUVP9pPoUypiCE/z4IRWNANID/Fxb/mStIPPwcKFvWn5Rw//YchnlU2ED99KuvyR3AQP9Eynx2PATU/d5K2+PsRBz8hULC+YYMNP7fRPKyzQw4/H6ZC/pt8MD8zgM8HMjEeP5nyDtnJMBo/TBzdJKphID81KuLp/FUhP09w4CYXqBE/HMABHMABDD+LxSNH66ARP2vplJzymQM/jgYwBFkgET8hFIhmSxIVPzViLp+vgBg/Mnf720XlET+2LrH+eRP+PrAHa6MFtQo/\",\"dtype\":\"float64\",\"shape\":[51]},\"population\":[19440469,8936574,39937489,10045029,7797095,12659682,6976597,21992985,4645184,12820878,10736059,29472295,5845526,3563077,6897576,11747694,5851754,6745354,10611862,6083116,7378494,6169270,2989260,4908921,8626207,5210095,3139658,3282115,5700671,3038999,4301089,3954821,720687,4499692,3179849,2910357,628061,1345790,1371246,1056161,982895,1826156,2096640,1412687,1952570,1086759,734002,567025,761723,1778070,903027],\"recoveryRate\":{\"__ndarray__\":\"AAAAAAAAAADRuAPgisY9Pzuy8sckyGI/AAAAAAAAAAAAAAAAAAAAAMokVMPpkVE/dKBAqPzTQT8AAAAAAAAAAAAAAAAAAAAAGzC1GjC1ej8AAAAAAAAAACloGow1I4A/AAAAAAAAAAAAAAAAAAAAAAAAAAAAAAAAAAAAAAAAAAAf+XCYiSxXPwAAAAAAAAAAAAAAAAAAAAAAAAAAAAAAAAAAAAAAAAAAAAAAAAAAAAAAAAAAAAAAAAAAAAAAAAAAm0zdYo/zZD8AAAAAAAAAAAAAAAAAAAAAAAAAAAAAAAAAAAAAAAAAAAAAAAAAAAAAAAAAAAAAAAAAAAAAAAAAAEYXXXTRRbc/AAAAAAAAAAAAAAAAAAAAAAAAAAAAAAAAAAAAAAAAAADSExw9wdGTPwAAAAAAAAAAAAAAAAAAAAAAAAAAAAAAAAAAAAAAAAAAAAAAAAAAAAAAAAAAAAAAAAAAAAAAAAAAAAAAAAAAAAAAAAAAAAAAAAAAAAAAAAAAAAAAAAAAAAAAAAAAAAAAACELWchCFtI/\",\"dtype\":\"float64\",\"shape\":[51]},\"recoveryShare\":{\"__ndarray__\":\"AAAAAAAAAAAcx3Ecx3GcP1VVVVVVVbU/AAAAAAAAAAAAAAAAAAAAABzHcRzHcZw/HMdxHMdxjD8AAAAAAAAAAAAAAAAAAAAA5DiO4ziOwz8AAAAAAAAAAOQ4juM4jsM/AAAAAAAAAAAAAAAAAAAAAAAAAAAAAAAAAAAAAAAAAAAcx3Ecx3GMPwAAAAAAAAAAAAAAAAAAAAAAAAAAAAAAAAAAAAAAAAAAAAAAAAAAAAAAAAAAAAAAAAAAAAAAAAAAHMdxHMdxjD8AAAAAAAAAAAAAAAAAAAAAAAAAAAAAAAAAAAAAAAAAAAAAAAAAAAAAAAAAAAAAAAAAAAAAAAAAAKuqqqqqqtI/AAAAAAAAAAAAAAAAAAAAAAAAAAAAAAAAAAAAAAAAAABVVVVVVVWlPwAAAAAAAAAAAAAAAAAAAAAAAAAAAAAAAAAAAAAAAAAAAAAAAAAAAAAAAAAAAAAAAAAAAAAAAAAAAAAAAAAAAAAAAAAAAAAAAAAAAAAAAAAAAAAAAAAAAAAAAAAAAAAAAMdxHMdxHMc/\",\"dtype\":\"float64\",\"shape\":[51]},\"state_name\":[\"New York\",\"New Jersey\",\"California\",\"Michigan\",\"Washington\",\"Illinois\",\"Massachusetts\",\"Florida\",\"Louisiana\",\"Pennsylvania\",\"Georgia\",\"Texas\",\"Colorado\",\"Connecticut\",\"Tennessee\",\"Ohio\",\"Wisconsin\",\"Indiana\",\"North Carolina\",\"Maryland\",\"Arizona\",\"Missouri\",\"Mississippi\",\"Alabama\",\"Virginia\",\"South Carolina\",\"Nevada\",\"Utah\",\"Minnesota\",\"Arkansas\",\"Oregon\",\"Oklahoma\",\"District of Columbia\",\"Kentucky\",\"Iowa\",\"Kansas\",\"Vermont\",\"Maine\",\"New Hampshire\",\"Rhode Island\",\"Delaware\",\"Idaho\",\"New Mexico\",\"Hawaii\",\"Nebraska\",\"Montana\",\"Alaska\",\"Wyoming\",\"North Dakota\",\"West Virginia\",\"South Dakota\"],\"totalConfirmed\":[37258,4402,2617,2294,2580,1865,1838,1977,1795,1687,1247,1396,1086,875,784,867,707,645,636,580,508,502,485,480,391,424,420,402,346,335,266,248,231,198,179,168,158,155,137,132,130,123,112,95,73,71,59,53,52,51,46],\"totalDeaths\":{\"__ndarray__\":\"AAAAAAAQeEAAAAAAAEBQQAAAAAAAgEtAAAAAAACARUAAAAAAAIBgQAAAAAAAADNAAAAAAAAALkAAAAAAAAA3QAAAAAAAQFBAAAAAAAAAMEAAAAAAAABEQAAAAAAAADJAAAAAAAAANEAAAAAAAAAzQAAAAAAAAAhAAAAAAAAAJEAAAAAAAAAYQAAAAAAAADFAAAAAAAAA8D8AAAAAAAAQQAAAAAAAACBAAAAAAAAAIEAAAAAAAAAYQAAAAAAAAPA/AAAAAAAAIkAAAAAAAAAgQAAAAAAAACRAAAAAAAAA8D8AAAAAAAAAQAAAAAAAAABAAAAAAAAAJEAAAAAAAAAcQAAAAAAAAAhAAAAAAAAA+H8AAAAAAAD4fwAAAAAAAAhAAAAAAAAAIEAAAAAAAAD4fwAAAAAAAPA/AAAAAAAA+H8AAAAAAAD4fwAAAAAAAPh/AAAAAAAA+H8AAAAAAAD4fwAAAAAAAPh/AAAAAAAA+H8AAAAAAADwPwAAAAAAAPh/AAAAAAAA+H8AAAAAAAD4fwAAAAAAAPA/\",\"dtype\":\"float64\",\"shape\":[51]},\"totalRecovered\":{\"__ndarray__\":\"AAAAAAAAAAAAAAAAAAAAQAAAAAAAABhAAAAAAAAAAAAAAAAAAAAAAAAAAAAAAABAAAAAAAAA8D8AAAAAAAAAAAAAAAAAAAAAAAAAAAAAJkAAAAAAAAAAAAAAAAAAACZAAAAAAAAAAAAAAAAAAAAAAAAAAAAAAAAAAAAAAAAAAAAAAAAAAADwPwAAAAAAAAAAAAAAAAAAAAAAAAAAAAAAAAAAAAAAAAAAAAAAAAAAAAAAAAAAAAAAAAAAAAAAAAAAAAAAAAAA8D8AAAAAAAAAAAAAAAAAAAAAAAAAAAAAAAAAAAAAAAAAAAAAAAAAAAAAAAAAAAAAAAAAAAAAAAAAAAAAAAAAADVAAAAAAAAAAAAAAAAAAAAAAAAAAAAAAAAAAAAAAAAAAAAAAAAAAAAIQAAAAAAAAAAAAAAAAAAAAAAAAAAAAAAAAAAAAAAAAAAAAAAAAAAAAAAAAAAAAAAAAAAAAAAAAAAAAAAAAAAAAAAAAAAAAAAAAAAAAAAAAAAAAAAAAAAAAAAAAAAAAAAAAAAAAAAAACpA\",\"dtype\":\"float64\",\"shape\":[51]}},\"selected\":{\"id\":\"1298\"},\"selection_policy\":{\"id\":\"1297\"}},\"id\":\"1003\",\"type\":\"ColumnDataSource\"},{\"attributes\":{},\"id\":\"1134\",\"type\":\"ResetTool\"},{\"attributes\":{\"text\":\"COVID US National Infection Rate: 0.0224%\"},\"id\":\"1113\",\"type\":\"Title\"},{\"attributes\":{},\"id\":\"1135\",\"type\":\"HelpTool\"},{\"attributes\":{\"factors\":[\"New York\",\"New Jersey\",\"California\",\"Michigan\",\"Washington\",\"Illinois\",\"Massachusetts\",\"Florida\",\"Louisiana\",\"Pennsylvania\",\"Georgia\",\"Texas\",\"Colorado\",\"Connecticut\",\"Tennessee\",\"Ohio\",\"Wisconsin\",\"Indiana\",\"North Carolina\",\"Maryland\",\"Arizona\",\"Missouri\",\"Mississippi\",\"Alabama\",\"Virginia\",\"South Carolina\",\"Nevada\",\"Utah\",\"Minnesota\",\"Arkansas\",\"Oregon\",\"Oklahoma\",\"District of Columbia\",\"Kentucky\",\"Iowa\",\"Kansas\",\"Vermont\",\"Maine\",\"New Hampshire\",\"Rhode Island\",\"Delaware\",\"Idaho\",\"New Mexico\",\"Hawaii\",\"Nebraska\",\"Montana\",\"Alaska\",\"Wyoming\",\"North Dakota\",\"West Virginia\",\"South Dakota\"]},\"id\":\"1115\",\"type\":\"FactorRange\"},{\"attributes\":{\"active_drag\":\"auto\",\"active_inspect\":\"auto\",\"active_multi\":null,\"active_scroll\":\"auto\",\"active_tap\":\"auto\",\"tools\":[{\"id\":\"1130\"},{\"id\":\"1131\"},{\"id\":\"1132\"},{\"id\":\"1133\"},{\"id\":\"1134\"},{\"id\":\"1135\"}]},\"id\":\"1136\",\"type\":\"Toolbar\"},{\"attributes\":{},\"id\":\"1297\",\"type\":\"UnionRenderers\"},{\"attributes\":{\"end\":0.0021851121789027064,\"start\":0},\"id\":\"1117\",\"type\":\"DataRange1d\"},{\"attributes\":{},\"id\":\"1119\",\"type\":\"CategoricalScale\"},{\"attributes\":{\"fill_alpha\":{\"value\":0.1},\"fill_color\":{\"value\":\"#1f77b4\"},\"line_alpha\":{\"value\":0.1},\"line_color\":{\"value\":\"#1f77b4\"},\"top\":{\"field\":\"infectionRate\"},\"width\":{\"value\":0.5},\"x\":{\"field\":\"state_name\"}},\"id\":\"1145\",\"type\":\"VBar\"},{\"attributes\":{},\"id\":\"1121\",\"type\":\"LinearScale\"},{\"attributes\":{\"source\":{\"id\":\"1003\"}},\"id\":\"1147\",\"type\":\"CDSView\"},{\"attributes\":{\"formatter\":{\"id\":\"1295\"},\"major_label_orientation\":0.7853981633974483,\"ticker\":{\"id\":\"1124\"}},\"id\":\"1123\",\"type\":\"CategoricalAxis\"},{\"attributes\":{},\"id\":\"1293\",\"type\":\"BasicTickFormatter\"},{\"attributes\":{},\"id\":\"1295\",\"type\":\"CategoricalTickFormatter\"},{\"attributes\":{},\"id\":\"1124\",\"type\":\"CategoricalTicker\"},{\"attributes\":{\"axis\":{\"id\":\"1123\"},\"grid_line_color\":null,\"ticker\":null},\"id\":\"1125\",\"type\":\"Grid\"},{\"attributes\":{},\"id\":\"1298\",\"type\":\"Selection\"},{\"attributes\":{\"formatter\":{\"id\":\"1293\"},\"ticker\":{\"id\":\"1127\"}},\"id\":\"1126\",\"type\":\"LinearAxis\"},{\"attributes\":{},\"id\":\"1127\",\"type\":\"BasicTicker\"},{\"attributes\":{\"bottom_units\":\"screen\",\"fill_alpha\":0.5,\"fill_color\":\"lightgrey\",\"left_units\":\"screen\",\"level\":\"overlay\",\"line_alpha\":1.0,\"line_color\":\"black\",\"line_dash\":[4,4],\"line_width\":2,\"render_mode\":\"css\",\"right_units\":\"screen\",\"top_units\":\"screen\"},\"id\":\"1299\",\"type\":\"BoxAnnotation\"},{\"attributes\":{\"axis\":{\"id\":\"1126\"},\"dimension\":1,\"ticker\":null},\"id\":\"1129\",\"type\":\"Grid\"},{\"attributes\":{\"fill_color\":{\"value\":\"#1f77b4\"},\"line_color\":{\"value\":\"#1f77b4\"},\"top\":{\"field\":\"infectionRate\"},\"width\":{\"value\":0.5},\"x\":{\"field\":\"state_name\"}},\"id\":\"1144\",\"type\":\"VBar\"}],\"root_ids\":[\"1112\"]},\"title\":\"Bokeh Application\",\"version\":\"2.0.0\"}};\n",
       "  var render_items = [{\"docid\":\"59fddc8c-2380-4171-b5ec-e8dc801808fc\",\"root_ids\":[\"1112\"],\"roots\":{\"1112\":\"06978e4e-00b0-4617-b996-8159fe3a0549\"}}];\n",
       "  root.Bokeh.embed.embed_items_notebook(docs_json, render_items);\n",
       "\n",
       "  }\n",
       "  if (root.Bokeh !== undefined) {\n",
       "    embed_document(root);\n",
       "  } else {\n",
       "    var attempts = 0;\n",
       "    var timer = setInterval(function(root) {\n",
       "      if (root.Bokeh !== undefined) {\n",
       "        clearInterval(timer);\n",
       "        embed_document(root);\n",
       "      } else {\n",
       "        attempts++;\n",
       "        if (attempts > 100) {\n",
       "          clearInterval(timer);\n",
       "          console.log(\"Bokeh: ERROR: Unable to run BokehJS code because BokehJS library is missing\");\n",
       "        }\n",
       "      }\n",
       "    }, 10, root)\n",
       "  }\n",
       "})(window);"
      ],
      "application/vnd.bokehjs_exec.v0+json": ""
     },
     "metadata": {
      "application/vnd.bokehjs_exec.v0+json": {
       "id": "1112"
      }
     },
     "output_type": "display_data"
    },
    {
     "data": {
      "text/html": [
       "\n",
       "\n",
       "\n",
       "\n",
       "\n",
       "\n",
       "  <div class=\"bk-root\" id=\"f4b505ea-c9ed-46d3-9d54-b31d8f797755\" data-root-id=\"1148\"></div>\n"
      ]
     },
     "metadata": {},
     "output_type": "display_data"
    },
    {
     "data": {
      "application/javascript": [
       "(function(root) {\n",
       "  function embed_document(root) {\n",
       "    \n",
       "  var docs_json = {\"a93e156b-eb3b-4c79-b952-2d8f604fdbd0\":{\"roots\":{\"references\":[{\"attributes\":{\"below\":[{\"id\":\"1159\"}],\"center\":[{\"id\":\"1161\"},{\"id\":\"1165\"}],\"left\":[{\"id\":\"1162\"}],\"plot_width\":1000,\"renderers\":[{\"id\":\"1182\"}],\"title\":{\"id\":\"1149\"},\"toolbar\":{\"id\":\"1172\"},\"x_range\":{\"id\":\"1151\"},\"x_scale\":{\"id\":\"1155\"},\"y_range\":{\"id\":\"1153\"},\"y_scale\":{\"id\":\"1157\"}},\"id\":\"1148\",\"subtype\":\"Figure\",\"type\":\"Plot\"},{\"attributes\":{\"axis\":{\"id\":\"1159\"},\"grid_line_color\":null,\"ticker\":null},\"id\":\"1161\",\"type\":\"Grid\"},{\"attributes\":{\"formatter\":{\"id\":\"1357\"},\"ticker\":{\"id\":\"1163\"}},\"id\":\"1162\",\"type\":\"LinearAxis\"},{\"attributes\":{},\"id\":\"1163\",\"type\":\"BasicTicker\"},{\"attributes\":{\"bottom_units\":\"screen\",\"fill_alpha\":0.5,\"fill_color\":\"lightgrey\",\"left_units\":\"screen\",\"level\":\"overlay\",\"line_alpha\":1.0,\"line_color\":\"black\",\"line_dash\":[4,4],\"line_width\":2,\"render_mode\":\"css\",\"right_units\":\"screen\",\"top_units\":\"screen\"},\"id\":\"1363\",\"type\":\"BoxAnnotation\"},{\"attributes\":{\"axis\":{\"id\":\"1162\"},\"dimension\":1,\"ticker\":null},\"id\":\"1165\",\"type\":\"Grid\"},{\"attributes\":{\"data\":{\"caseDelta\":{\"__ndarray__\":\"0UB6s0cR4EDEHLsXFsOiQCYdOTcHs7jAgJhBsRu1RkD09gzW7RSKQCxHeTEDR47AVAyli49EcUBOaoxmSASnwJq+jXtimYdAYMAla9d7ksBqlg0RFxGSwEVZPZFjUbTAWHL3f8XQa8CopCvsz1lTQCrj3181wIfAziVjBemKm8AkKnOTWNeCwPpe+NKbB4vA9mezQ+Itm8Cgv8CIq22IwAOOsyC43pHAMBtCe/R3i8AgjwbbtwRnwPwWS6nqVoPASt6hk+wPmMC4ueCkQjKHwPyRNJ4GrXHAyhxDRUDLdMCUOwgyyRCNwFZxRzWBlHXAva8alGjGhcAkfdBvT+qDwAAGuAwga1FAYmrMThFKicDeKzK1fKaAwPqjX2rCN37A4DBcfYBoMUA41wiVL0hiwE5yZmCIPmXAdKNjXQUbWsB2EENkYYFWwHcgw22T3HHAAUlI/FdVdsA4h4MzYqdrwPWU72JXwXbApsy4yrCIZcCsTkuboVNawIm2GUBye1LARAomPMagXcDW6kHFWbB1wAUD9hGUhGPA\",\"dtype\":\"float64\",\"shape\":[51]},\"caseDeltaRate\":{\"__ndarray__\":\"BerOshI/HkDutuO1PDXzPymwvxX4oea/+taDuYyulD/P74mllJreP0PGWEyK4dW/yK+4qgelxj82B7WpUCbjvw7ACzRuPec/Dfe8mkVh2r/3qcQTvcrev0ZBOwWVOum/BolgO3DExb/pYt1l/Ne4PzoYDLvNgN+/rs6S3ylz5b/vbeBFF3Xdv2VQqaSnVOK/Gb+WHLRu57/FeS6rvF7iv8+K3wxsKOa/GOvIRShe5L/2zgtY1JzRv+tWaJCdBeK/Tpg5ajiF6b/9nMkE0F3kvxZo9Sr2wNm/7Hv5wFX73L+nRxRO1FLnvzNxmdLnPeC/G+2orbwo57+asCo2Iwnnv7y7NW7zo9s/qePgJ6y16b/bZbx98vPnv5o4XFqCv+e/DkTbBbuyvz/3BuF6OBLfv0mgPpW9t+G/D3eox25E3L8YOxabfi/avzKa/fgZX+a/obKR9hdd6L+g6dAcA2Pmvx1hCwjOp+q/4h4x8B+p5r9NQCdDYYLkv73JtPtfo+K/1HVzxrw95r87aMJDVObrv6SJcMDQt+i/\",\"dtype\":\"float64\",\"shape\":[51]},\"caseShare\":{\"__ndarray__\":\"W+hyYVQT4D/Jiuixj2OuP4idp/j3EKI/RR1QcUasnz87W3NOlM+hP3037i/zv5k/gz4zU4RgmT9BU+wF0kubPyNmL+qHyJg/OIJDd8xKlz/bgm/llzeRPzkj1g8+RpM/4nWkIw/9jT/WcaLPeSmIP7iE5bMvpoU/cZJZQ+zwhz+KHqhN3YWDPztbc06Uz4E/6V+hEPWPgT8lRKM6FgSAPy3TJpg4Dnw/FYS5RWS5ez+nzoOxCsl6P2m3KMJZgno/30zTUAyYdT/hfywWnGp3P3yg44kOMnc/NbObkpEzdj+te5/m0xtzP1cV16ROgHI/jA/c4YlhbT/+NEzzj2RrPyLK4Mrcg2k/HWQuQL3eZT/cGXqLfMVjPzBN6QdyjmI/NvB8Sq5zYT8foQ/42R5hPyCN/xLAQ14/JzCTVfwoXT9ccQE94bdcP5hVA2cCLFs/QLzhX+29WD+J5goPh/xUP9ezxwBdIFA/Gupr0INeTz+f+JapPhFKP+F/LBacakc/F8Ga/YD5Rj9NAgnlZYhGP1lIMGreUkQ/\",\"dtype\":\"float64\",\"shape\":[51]},\"deathDelta\":{\"__ndarray__\":\"fA7Kced+YcDgBRe7Wc4HQPrk/eJdIDJAQPy5OeJaJUCTY3jzdOlXQIRop7KLHB3AFhfQE37LJcDcry1SgGwTwIKQIaat2kNAkJLWolQUH8C28xs9BG42QCB3lFrttvq/ZtXAmQDLEkCo8rbhWK8aQLH5VS7YFyDAyKLsbnS6AcCsRP9dcLEPwEyO4c3TpR9AQl5xrlHYH8CWOq5eV7AQwPAH0/Xl8+o/qG/DXnOo7T8oFT5NUa3qvywNZBmGDRfAnLsI3SrtC0D+LL5s6DQAQHl0yKkqVBBAomTdTiCoEsDsgTT+SwAHwA79cIPgwgXAkRYhBRsCGUDsevYYoAsMQDgyT5CITtC/AAAAAAAA+H8AAAAAAAD4f+yntIWIQOQ/7v89MVkYF0AAAAAAAAD4f4yVxoZHxe2/AAAAAAAA+H8AAAAAAAD4fwAAAAAAAPh/AAAAAAAA+H8AAAAAAAD4fwAAAAAAAPh/AAAAAAAA+H8gu7o1m5fFPwAAAAAAAPh/AAAAAAAA+H8AAAAAAAD4f1Z0RAzdhNY/\",\"dtype\":\"float64\",\"shape\":[51]},\"deathDeltaRate\":{\"__ndarray__\":\"/G5LaEgQ0b+pJXPLe5CoP2joXhoadt8/jn46tFYk1T+SUiQ+kgwFQOXuGWevudG/4Vm630Lu2r86CqSNPlDGv6kXzkrTHvk/pb44xpPr1L8lqtOv2mz0P6mhOrgGu7W/Tzv0Tomm0z+HBpl1yVDhPwiXM708T+e/oyr0Z0E4x78grbTXvnPZv2rB7QPY2+s/7pNce9dt7L9mOW8LUFbgv575dNrUH74/IEKl2qbFwD9BQg+H6zq/vwFEdIO9ROu/6RNqTLdG5D+1IVJvzLPVP10bhtj3EuY/RzpCQbhZ6r/8OF2HR9/ivxC/a2ntcOK/td9puKiw+j8ojpHHTg3wP5OInyBSCrS/AAAAAAAA+H8AAAAAAAD4fw4pycRzHNE/LuHVfI2/BEAAAAAAAAD4f7aE+DdX2N6/AAAAAAAA+H8AAAAAAAD4fwAAAAAAAPh/AAAAAAAA+H8AAAAAAAD4fwAAAAAAAPh/AAAAAAAA+H+ofV/mQ/nJPwAAAAAAAPh/AAAAAAAA+H8AAAAAAAD4fz8vZFY7X+E/\",\"dtype\":\"float64\",\"shape\":[51]},\"deathRate\":{\"__ndarray__\":\"DSqc7KYphT+1x4MLpT2OP+QWxs9UhZU/oEMjhsUxkz8mIKNhAjKqP6/r85dF3YQ/bZa83by2gD/dj3GrdNOHP89ySf9WiqI/E4BsE4Bsgz9QxgYBZWygP88ezhMpaIo/zjRwrrLbkj9o1P4LRTyWP9aHxvrQWG8/Rb01riafhz/XulQyZ2GBP4zTr8E4/Zo/AqHkTtHCWT/w+MMBjz98PwgEAoFAIJA/BDTX95dRkD8ZkEOACVaJPxEREREREWE/LvY4TwGSlz/BeCv7HFKTPxiGYRiGYZg/ms/1x8tgZD/D7OAIIq13P7mSwLwndHg/+DPhz4Q/oz/nnHPOOeecP75jamDvmIo/AAAAAAAAAAAAAAAAAAAAAJIkSZIkSZI/2TMQlY7sqT8AAAAAAAAAAIqG+OPW5X0/AAAAAAAAAAAAAAAAAAAAAAAAAAAAAAAAAAAAAAAAAAAAAAAAAAAAAAAAAAAAAAAAAAAAAAAAAAANJ3VfHluRPwAAAAAAAAAAAAAAAAAAAAAAAAAAAAAAAGQhC1nIQpY/\",\"dtype\":\"float64\",\"shape\":[51]},\"deathShare\":{\"__ndarray__\":\"Q3kN5TWU1z8Bz6fHzdivPyivobyG8qo/iyJnr2QRpT+yAmGkHSvAP54S5ClBnpI/Fb8kQqpljT+yxbUyrYmWPwHPp8fN2K8/n5iNRmBbjz9jfxgsHJmjP9mlrydmo5E/Y38YLByZkz+eEuQpQZ6SP3cy6jSIhGc/Y38YLByZgz93Muo0iIR3PxQ5eyWLqJA/n5iNRmBbTz+fmI1GYFtvP5+YjUZgW38/n5iNRmBbfz93Muo0iIR3P5+YjUZgW08/2aWvJ2ajgT+fmI1GYFt/P2N/GCwcmYM/n5iNRmBbTz+fmI1GYFtfP5+YjUZgW18/Y38YLByZgz+L5bs99G97P3cy6jSIhGc/AAAAAAAA+H8AAAAAAAD4f3cy6jSIhGc/n5iNRmBbfz8AAAAAAAD4f5+YjUZgW08/AAAAAAAA+H8AAAAAAAD4fwAAAAAAAPh/AAAAAAAA+H8AAAAAAAD4fwAAAAAAAPh/AAAAAAAA+H+fmI1GYFtPPwAAAAAAAPh/AAAAAAAA+H8AAAAAAAD4f5+YjUZgW08/\",\"dtype\":\"float64\",\"shape\":[51]},\"expectedCases\":{\"__ndarray__\":\"evktZML/sEB5xonQ00GfQJOOnJsDdsFAnvk6kSuRoUCGhPkUiUWbQMtRXszAI6ZA67wWHdxmmEAnNUYzJDuzQLMgOcJOP5BAMOCStetrpkA1y4aIi8aiQEVZPZFjxblAS+7+rxhylEBri3oCxuyIQJXx768aIJhA55KxgnSLpEASlblJrHeUQH0vfOnNl5dA+7PZIfGOokDQX2DE1UaVQAOOsyC4zplAmA2hPfqTlUDIo8H2LemEQH6LpVR1K5FASt6hk+wrnkDcXHBSITmSQP5IGk+D9oVAZY6hIqD1hkDKHQSZZPCTQKu4o5pAQoVAva8alGgWjkAkfdBvT6qLQAD9o/lvKmRAYmrMThF6j0DeKzK1fD6GQP3RLzXhW4RA5HlU8O+SYUCca4TKF9RyQCc5MzBEL3NAutGxroKNbUA7iCGysIBrQHcgw22TjHlAAUlI/FdVfUCcw8EZscNzQPWU72JXUXtApsy4yrBobkBWp6XN0IlkQIm2GUByu19AIgUTHmNQZUDW6kHFWeB4QAUD9hGURGlA\",\"dtype\":\"float64\",\"shape\":[51]},\"expectedDeaths\":{\"__ndarray__\":\"n4Ny3LlngECij05kGgNPQIMNgQ7Rb0JA8ICRcUcpQEDaOA8ZFi1CQCHaqewiRzpAiwvoCb/lOUD3a4sUINs7QPvevLOkSjlApKS1KBXFN0BKDOTC+5ExQHJHqdVuqzNATZUfs3+aLkCshiSPU6goQLH5VS7YFyZAsii7G51uKEAr0X8XXOwjQNo4DxkWLSJAIa841yjsIUBLHVevK1ggQAKfRUGDoRxAC5InlPFKHEClwqcpqlUbQCwNZBmGDRtAMqJ7kWoJFkCB6aDJi+UXQIeLN1bVqxdAomTdTiCoFkD2QBr/JYATQId+uEFw4RJA3tK99cn7DUAUhQnnX/QLQEfmCRLRCQpAq1e/oY5RBkDkWlZZSS0EQAXWkt7d7wJAJACEnU3PAUAt82Xwu3gBQMZKY8Oj4v4/5HRUghPC/T/wuIGbpk79PxonoHOpuvs/XB0ZftI/+T/D3xnUtGr1P0jMC+kGdfA/VBA5ApoB8D84UZEyGZrqP4HpoMmL5ec/jS3O4h5y5z+Zcfv7sf7mP9XF3XmRveQ/\",\"dtype\":\"float64\",\"shape\":[51]},\"infectionRate\":{\"__ndarray__\":\"IyeADHVmXz/Yo4LfFCRAP9kwIz14LRE/ITa/quHuLT8zKANTdK81P38h9KMsTyM/sDhYsP5DMT/OgknzkZAXP14Pf6gUUzk/M70w8Co/IT9oTD+avHIeP8ys9yxt1Qg/f+Jtw9hZKD/P/BdrDRgwP5gf4ILNyx0/lBt23L9YEz9sdbGc/asfP9up1aYKERk/N/Ly2Q9sDz/rsg+cjf4YPwy5z09cDBI/LJqADrhUFT+/SriFH0QlP3/YypL7oRk/y4wPhq/DBz+yXyvlWVUVP9pPoUypiCE/z4IRWNANID/Fxb/mStIPPwcKFvWn5Rw//YchnlU2ED99KuvyR3AQP9Eynx2PATU/d5K2+PsRBz8hULC+YYMNP7fRPKyzQw4/H6ZC/pt8MD8zgM8HMjEeP5nyDtnJMBo/TBzdJKphID81KuLp/FUhP09w4CYXqBE/HMABHMABDD+LxSNH66ARP2vplJzymQM/jgYwBFkgET8hFIhmSxIVPzViLp+vgBg/Mnf720XlET+2LrH+eRP+PrAHa6MFtQo/\",\"dtype\":\"float64\",\"shape\":[51]},\"population\":[19440469,8936574,39937489,10045029,7797095,12659682,6976597,21992985,4645184,12820878,10736059,29472295,5845526,3563077,6897576,11747694,5851754,6745354,10611862,6083116,7378494,6169270,2989260,4908921,8626207,5210095,3139658,3282115,5700671,3038999,4301089,3954821,720687,4499692,3179849,2910357,628061,1345790,1371246,1056161,982895,1826156,2096640,1412687,1952570,1086759,734002,567025,761723,1778070,903027],\"recoveryRate\":{\"__ndarray__\":\"AAAAAAAAAADRuAPgisY9Pzuy8sckyGI/AAAAAAAAAAAAAAAAAAAAAMokVMPpkVE/dKBAqPzTQT8AAAAAAAAAAAAAAAAAAAAAGzC1GjC1ej8AAAAAAAAAACloGow1I4A/AAAAAAAAAAAAAAAAAAAAAAAAAAAAAAAAAAAAAAAAAAAf+XCYiSxXPwAAAAAAAAAAAAAAAAAAAAAAAAAAAAAAAAAAAAAAAAAAAAAAAAAAAAAAAAAAAAAAAAAAAAAAAAAAm0zdYo/zZD8AAAAAAAAAAAAAAAAAAAAAAAAAAAAAAAAAAAAAAAAAAAAAAAAAAAAAAAAAAAAAAAAAAAAAAAAAAEYXXXTRRbc/AAAAAAAAAAAAAAAAAAAAAAAAAAAAAAAAAAAAAAAAAADSExw9wdGTPwAAAAAAAAAAAAAAAAAAAAAAAAAAAAAAAAAAAAAAAAAAAAAAAAAAAAAAAAAAAAAAAAAAAAAAAAAAAAAAAAAAAAAAAAAAAAAAAAAAAAAAAAAAAAAAAAAAAAAAAAAAAAAAACELWchCFtI/\",\"dtype\":\"float64\",\"shape\":[51]},\"recoveryShare\":{\"__ndarray__\":\"AAAAAAAAAAAcx3Ecx3GcP1VVVVVVVbU/AAAAAAAAAAAAAAAAAAAAABzHcRzHcZw/HMdxHMdxjD8AAAAAAAAAAAAAAAAAAAAA5DiO4ziOwz8AAAAAAAAAAOQ4juM4jsM/AAAAAAAAAAAAAAAAAAAAAAAAAAAAAAAAAAAAAAAAAAAcx3Ecx3GMPwAAAAAAAAAAAAAAAAAAAAAAAAAAAAAAAAAAAAAAAAAAAAAAAAAAAAAAAAAAAAAAAAAAAAAAAAAAHMdxHMdxjD8AAAAAAAAAAAAAAAAAAAAAAAAAAAAAAAAAAAAAAAAAAAAAAAAAAAAAAAAAAAAAAAAAAAAAAAAAAKuqqqqqqtI/AAAAAAAAAAAAAAAAAAAAAAAAAAAAAAAAAAAAAAAAAABVVVVVVVWlPwAAAAAAAAAAAAAAAAAAAAAAAAAAAAAAAAAAAAAAAAAAAAAAAAAAAAAAAAAAAAAAAAAAAAAAAAAAAAAAAAAAAAAAAAAAAAAAAAAAAAAAAAAAAAAAAAAAAAAAAAAAAAAAAMdxHMdxHMc/\",\"dtype\":\"float64\",\"shape\":[51]},\"state_name\":[\"New York\",\"New Jersey\",\"California\",\"Michigan\",\"Washington\",\"Illinois\",\"Massachusetts\",\"Florida\",\"Louisiana\",\"Pennsylvania\",\"Georgia\",\"Texas\",\"Colorado\",\"Connecticut\",\"Tennessee\",\"Ohio\",\"Wisconsin\",\"Indiana\",\"North Carolina\",\"Maryland\",\"Arizona\",\"Missouri\",\"Mississippi\",\"Alabama\",\"Virginia\",\"South Carolina\",\"Nevada\",\"Utah\",\"Minnesota\",\"Arkansas\",\"Oregon\",\"Oklahoma\",\"District of Columbia\",\"Kentucky\",\"Iowa\",\"Kansas\",\"Vermont\",\"Maine\",\"New Hampshire\",\"Rhode Island\",\"Delaware\",\"Idaho\",\"New Mexico\",\"Hawaii\",\"Nebraska\",\"Montana\",\"Alaska\",\"Wyoming\",\"North Dakota\",\"West Virginia\",\"South Dakota\"],\"totalConfirmed\":[37258,4402,2617,2294,2580,1865,1838,1977,1795,1687,1247,1396,1086,875,784,867,707,645,636,580,508,502,485,480,391,424,420,402,346,335,266,248,231,198,179,168,158,155,137,132,130,123,112,95,73,71,59,53,52,51,46],\"totalDeaths\":{\"__ndarray__\":\"AAAAAAAQeEAAAAAAAEBQQAAAAAAAgEtAAAAAAACARUAAAAAAAIBgQAAAAAAAADNAAAAAAAAALkAAAAAAAAA3QAAAAAAAQFBAAAAAAAAAMEAAAAAAAABEQAAAAAAAADJAAAAAAAAANEAAAAAAAAAzQAAAAAAAAAhAAAAAAAAAJEAAAAAAAAAYQAAAAAAAADFAAAAAAAAA8D8AAAAAAAAQQAAAAAAAACBAAAAAAAAAIEAAAAAAAAAYQAAAAAAAAPA/AAAAAAAAIkAAAAAAAAAgQAAAAAAAACRAAAAAAAAA8D8AAAAAAAAAQAAAAAAAAABAAAAAAAAAJEAAAAAAAAAcQAAAAAAAAAhAAAAAAAAA+H8AAAAAAAD4fwAAAAAAAAhAAAAAAAAAIEAAAAAAAAD4fwAAAAAAAPA/AAAAAAAA+H8AAAAAAAD4fwAAAAAAAPh/AAAAAAAA+H8AAAAAAAD4fwAAAAAAAPh/AAAAAAAA+H8AAAAAAADwPwAAAAAAAPh/AAAAAAAA+H8AAAAAAAD4fwAAAAAAAPA/\",\"dtype\":\"float64\",\"shape\":[51]},\"totalRecovered\":{\"__ndarray__\":\"AAAAAAAAAAAAAAAAAAAAQAAAAAAAABhAAAAAAAAAAAAAAAAAAAAAAAAAAAAAAABAAAAAAAAA8D8AAAAAAAAAAAAAAAAAAAAAAAAAAAAAJkAAAAAAAAAAAAAAAAAAACZAAAAAAAAAAAAAAAAAAAAAAAAAAAAAAAAAAAAAAAAAAAAAAAAAAADwPwAAAAAAAAAAAAAAAAAAAAAAAAAAAAAAAAAAAAAAAAAAAAAAAAAAAAAAAAAAAAAAAAAAAAAAAAAAAAAAAAAA8D8AAAAAAAAAAAAAAAAAAAAAAAAAAAAAAAAAAAAAAAAAAAAAAAAAAAAAAAAAAAAAAAAAAAAAAAAAAAAAAAAAADVAAAAAAAAAAAAAAAAAAAAAAAAAAAAAAAAAAAAAAAAAAAAAAAAAAAAIQAAAAAAAAAAAAAAAAAAAAAAAAAAAAAAAAAAAAAAAAAAAAAAAAAAAAAAAAAAAAAAAAAAAAAAAAAAAAAAAAAAAAAAAAAAAAAAAAAAAAAAAAAAAAAAAAAAAAAAAAAAAAAAAAAAAAAAAACpA\",\"dtype\":\"float64\",\"shape\":[51]}},\"selected\":{\"id\":\"1298\"},\"selection_policy\":{\"id\":\"1297\"}},\"id\":\"1003\",\"type\":\"ColumnDataSource\"},{\"attributes\":{},\"id\":\"1357\",\"type\":\"BasicTickFormatter\"},{\"attributes\":{\"fill_color\":{\"value\":\"#1f77b4\"},\"line_color\":{\"value\":\"#1f77b4\"},\"top\":{\"field\":\"caseDelta\"},\"width\":{\"value\":0.5},\"x\":{\"field\":\"state_name\"}},\"id\":\"1180\",\"type\":\"VBar\"},{\"attributes\":{\"data_source\":{\"id\":\"1003\"},\"glyph\":{\"id\":\"1180\"},\"hover_glyph\":null,\"muted_glyph\":null,\"nonselection_glyph\":{\"id\":\"1181\"},\"selection_glyph\":null,\"view\":{\"id\":\"1183\"}},\"id\":\"1182\",\"type\":\"GlyphRenderer\"},{\"attributes\":{},\"id\":\"1166\",\"type\":\"PanTool\"},{\"attributes\":{},\"id\":\"1297\",\"type\":\"UnionRenderers\"},{\"attributes\":{},\"id\":\"1167\",\"type\":\"WheelZoomTool\"},{\"attributes\":{\"overlay\":{\"id\":\"1363\"}},\"id\":\"1168\",\"type\":\"BoxZoomTool\"},{\"attributes\":{},\"id\":\"1169\",\"type\":\"SaveTool\"},{\"attributes\":{\"text\":\"COVID US Confirmed / Expected Delta\"},\"id\":\"1149\",\"type\":\"Title\"},{\"attributes\":{},\"id\":\"1170\",\"type\":\"ResetTool\"},{\"attributes\":{},\"id\":\"1171\",\"type\":\"HelpTool\"},{\"attributes\":{\"factors\":[\"New York\",\"New Jersey\",\"California\",\"Michigan\",\"Washington\",\"Illinois\",\"Massachusetts\",\"Florida\",\"Louisiana\",\"Pennsylvania\",\"Georgia\",\"Texas\",\"Colorado\",\"Connecticut\",\"Tennessee\",\"Ohio\",\"Wisconsin\",\"Indiana\",\"North Carolina\",\"Maryland\",\"Arizona\",\"Missouri\",\"Mississippi\",\"Alabama\",\"Virginia\",\"South Carolina\",\"Nevada\",\"Utah\",\"Minnesota\",\"Arkansas\",\"Oregon\",\"Oklahoma\",\"District of Columbia\",\"Kentucky\",\"Iowa\",\"Kansas\",\"Vermont\",\"Maine\",\"New Hampshire\",\"Rhode Island\",\"Delaware\",\"Idaho\",\"New Mexico\",\"Hawaii\",\"Nebraska\",\"Montana\",\"Alaska\",\"Wyoming\",\"North Dakota\",\"West Virginia\",\"South Dakota\"]},\"id\":\"1151\",\"type\":\"FactorRange\"},{\"attributes\":{},\"id\":\"1359\",\"type\":\"CategoricalTickFormatter\"},{\"attributes\":{\"active_drag\":\"auto\",\"active_inspect\":\"auto\",\"active_multi\":null,\"active_scroll\":\"auto\",\"active_tap\":\"auto\",\"tools\":[{\"id\":\"1166\"},{\"id\":\"1167\"},{\"id\":\"1168\"},{\"id\":\"1169\"},{\"id\":\"1170\"},{\"id\":\"1171\"}]},\"id\":\"1172\",\"type\":\"Toolbar\"},{\"attributes\":{\"end\":37778.90273985199,\"start\":-11195.690267358841},\"id\":\"1153\",\"type\":\"DataRange1d\"},{\"attributes\":{},\"id\":\"1298\",\"type\":\"Selection\"},{\"attributes\":{},\"id\":\"1155\",\"type\":\"CategoricalScale\"},{\"attributes\":{\"fill_alpha\":{\"value\":0.1},\"fill_color\":{\"value\":\"#1f77b4\"},\"line_alpha\":{\"value\":0.1},\"line_color\":{\"value\":\"#1f77b4\"},\"top\":{\"field\":\"caseDelta\"},\"width\":{\"value\":0.5},\"x\":{\"field\":\"state_name\"}},\"id\":\"1181\",\"type\":\"VBar\"},{\"attributes\":{},\"id\":\"1157\",\"type\":\"LinearScale\"},{\"attributes\":{\"formatter\":{\"id\":\"1359\"},\"major_label_orientation\":0.7853981633974483,\"ticker\":{\"id\":\"1160\"}},\"id\":\"1159\",\"type\":\"CategoricalAxis\"},{\"attributes\":{\"source\":{\"id\":\"1003\"}},\"id\":\"1183\",\"type\":\"CDSView\"},{\"attributes\":{},\"id\":\"1160\",\"type\":\"CategoricalTicker\"}],\"root_ids\":[\"1148\"]},\"title\":\"Bokeh Application\",\"version\":\"2.0.0\"}};\n",
       "  var render_items = [{\"docid\":\"a93e156b-eb3b-4c79-b952-2d8f604fdbd0\",\"root_ids\":[\"1148\"],\"roots\":{\"1148\":\"f4b505ea-c9ed-46d3-9d54-b31d8f797755\"}}];\n",
       "  root.Bokeh.embed.embed_items_notebook(docs_json, render_items);\n",
       "\n",
       "  }\n",
       "  if (root.Bokeh !== undefined) {\n",
       "    embed_document(root);\n",
       "  } else {\n",
       "    var attempts = 0;\n",
       "    var timer = setInterval(function(root) {\n",
       "      if (root.Bokeh !== undefined) {\n",
       "        clearInterval(timer);\n",
       "        embed_document(root);\n",
       "      } else {\n",
       "        attempts++;\n",
       "        if (attempts > 100) {\n",
       "          clearInterval(timer);\n",
       "          console.log(\"Bokeh: ERROR: Unable to run BokehJS code because BokehJS library is missing\");\n",
       "        }\n",
       "      }\n",
       "    }, 10, root)\n",
       "  }\n",
       "})(window);"
      ],
      "application/vnd.bokehjs_exec.v0+json": ""
     },
     "metadata": {
      "application/vnd.bokehjs_exec.v0+json": {
       "id": "1148"
      }
     },
     "output_type": "display_data"
    },
    {
     "data": {
      "text/html": [
       "\n",
       "\n",
       "\n",
       "\n",
       "\n",
       "\n",
       "  <div class=\"bk-root\" id=\"16c72ee5-a756-45ce-94cd-856ebd407e88\" data-root-id=\"1184\"></div>\n"
      ]
     },
     "metadata": {},
     "output_type": "display_data"
    },
    {
     "data": {
      "application/javascript": [
       "(function(root) {\n",
       "  function embed_document(root) {\n",
       "    \n",
       "  var docs_json = {\"b3d3875c-3534-421f-847b-e0ccac119e0a\":{\"roots\":{\"references\":[{\"attributes\":{\"below\":[{\"id\":\"1195\"}],\"center\":[{\"id\":\"1197\"},{\"id\":\"1201\"}],\"left\":[{\"id\":\"1198\"}],\"plot_width\":1000,\"renderers\":[{\"id\":\"1218\"}],\"title\":{\"id\":\"1185\"},\"toolbar\":{\"id\":\"1208\"},\"x_range\":{\"id\":\"1187\"},\"x_scale\":{\"id\":\"1191\"},\"y_range\":{\"id\":\"1189\"},\"y_scale\":{\"id\":\"1193\"}},\"id\":\"1184\",\"subtype\":\"Figure\",\"type\":\"Plot\"},{\"attributes\":{\"factors\":[\"New York\",\"New Jersey\",\"California\",\"Michigan\",\"Washington\",\"Illinois\",\"Massachusetts\",\"Florida\",\"Louisiana\",\"Pennsylvania\",\"Georgia\",\"Texas\",\"Colorado\",\"Connecticut\",\"Tennessee\",\"Ohio\",\"Wisconsin\",\"Indiana\",\"North Carolina\",\"Maryland\",\"Arizona\",\"Missouri\",\"Mississippi\",\"Alabama\",\"Virginia\",\"South Carolina\",\"Nevada\",\"Utah\",\"Minnesota\",\"Arkansas\",\"Oregon\",\"Oklahoma\",\"District of Columbia\",\"Kentucky\",\"Iowa\",\"Kansas\",\"Vermont\",\"Maine\",\"New Hampshire\",\"Rhode Island\",\"Delaware\",\"Idaho\",\"New Mexico\",\"Hawaii\",\"Nebraska\",\"Montana\",\"Alaska\",\"Wyoming\",\"North Dakota\",\"West Virginia\",\"South Dakota\"]},\"id\":\"1187\",\"type\":\"FactorRange\"},{\"attributes\":{\"active_drag\":\"auto\",\"active_inspect\":\"auto\",\"active_multi\":null,\"active_scroll\":\"auto\",\"active_tap\":\"auto\",\"tools\":[{\"id\":\"1202\"},{\"id\":\"1203\"},{\"id\":\"1204\"},{\"id\":\"1205\"},{\"id\":\"1206\"},{\"id\":\"1207\"}]},\"id\":\"1208\",\"type\":\"Toolbar\"},{\"attributes\":{\"end\":0.5723188933412795,\"start\":0},\"id\":\"1189\",\"type\":\"DataRange1d\"},{\"attributes\":{\"source\":{\"id\":\"1003\"}},\"id\":\"1219\",\"type\":\"CDSView\"},{\"attributes\":{},\"id\":\"1429\",\"type\":\"BasicTickFormatter\"},{\"attributes\":{},\"id\":\"1191\",\"type\":\"CategoricalScale\"},{\"attributes\":{\"data_source\":{\"id\":\"1003\"},\"glyph\":{\"id\":\"1216\"},\"hover_glyph\":null,\"muted_glyph\":null,\"nonselection_glyph\":{\"id\":\"1217\"},\"selection_glyph\":null,\"view\":{\"id\":\"1219\"}},\"id\":\"1218\",\"type\":\"GlyphRenderer\"},{\"attributes\":{},\"id\":\"1193\",\"type\":\"LinearScale\"},{\"attributes\":{\"data\":{\"caseDelta\":{\"__ndarray__\":\"0UB6s0cR4EDEHLsXFsOiQCYdOTcHs7jAgJhBsRu1RkD09gzW7RSKQCxHeTEDR47AVAyli49EcUBOaoxmSASnwJq+jXtimYdAYMAla9d7ksBqlg0RFxGSwEVZPZFjUbTAWHL3f8XQa8CopCvsz1lTQCrj3181wIfAziVjBemKm8AkKnOTWNeCwPpe+NKbB4vA9mezQ+Itm8Cgv8CIq22IwAOOsyC43pHAMBtCe/R3i8AgjwbbtwRnwPwWS6nqVoPASt6hk+wPmMC4ueCkQjKHwPyRNJ4GrXHAyhxDRUDLdMCUOwgyyRCNwFZxRzWBlHXAva8alGjGhcAkfdBvT+qDwAAGuAwga1FAYmrMThFKicDeKzK1fKaAwPqjX2rCN37A4DBcfYBoMUA41wiVL0hiwE5yZmCIPmXAdKNjXQUbWsB2EENkYYFWwHcgw22T3HHAAUlI/FdVdsA4h4MzYqdrwPWU72JXwXbApsy4yrCIZcCsTkuboVNawIm2GUBye1LARAomPMagXcDW6kHFWbB1wAUD9hGUhGPA\",\"dtype\":\"float64\",\"shape\":[51]},\"caseDeltaRate\":{\"__ndarray__\":\"BerOshI/HkDutuO1PDXzPymwvxX4oea/+taDuYyulD/P74mllJreP0PGWEyK4dW/yK+4qgelxj82B7WpUCbjvw7ACzRuPec/Dfe8mkVh2r/3qcQTvcrev0ZBOwWVOum/BolgO3DExb/pYt1l/Ne4PzoYDLvNgN+/rs6S3ylz5b/vbeBFF3Xdv2VQqaSnVOK/Gb+WHLRu57/FeS6rvF7iv8+K3wxsKOa/GOvIRShe5L/2zgtY1JzRv+tWaJCdBeK/Tpg5ajiF6b/9nMkE0F3kvxZo9Sr2wNm/7Hv5wFX73L+nRxRO1FLnvzNxmdLnPeC/G+2orbwo57+asCo2Iwnnv7y7NW7zo9s/qePgJ6y16b/bZbx98vPnv5o4XFqCv+e/DkTbBbuyvz/3BuF6OBLfv0mgPpW9t+G/D3eox25E3L8YOxabfi/avzKa/fgZX+a/obKR9hdd6L+g6dAcA2Pmvx1hCwjOp+q/4h4x8B+p5r9NQCdDYYLkv73JtPtfo+K/1HVzxrw95r87aMJDVObrv6SJcMDQt+i/\",\"dtype\":\"float64\",\"shape\":[51]},\"caseShare\":{\"__ndarray__\":\"W+hyYVQT4D/Jiuixj2OuP4idp/j3EKI/RR1QcUasnz87W3NOlM+hP3037i/zv5k/gz4zU4RgmT9BU+wF0kubPyNmL+qHyJg/OIJDd8xKlz/bgm/llzeRPzkj1g8+RpM/4nWkIw/9jT/WcaLPeSmIP7iE5bMvpoU/cZJZQ+zwhz+KHqhN3YWDPztbc06Uz4E/6V+hEPWPgT8lRKM6FgSAPy3TJpg4Dnw/FYS5RWS5ez+nzoOxCsl6P2m3KMJZgno/30zTUAyYdT/hfywWnGp3P3yg44kOMnc/NbObkpEzdj+te5/m0xtzP1cV16ROgHI/jA/c4YlhbT/+NEzzj2RrPyLK4Mrcg2k/HWQuQL3eZT/cGXqLfMVjPzBN6QdyjmI/NvB8Sq5zYT8foQ/42R5hPyCN/xLAQ14/JzCTVfwoXT9ccQE94bdcP5hVA2cCLFs/QLzhX+29WD+J5goPh/xUP9ezxwBdIFA/Gupr0INeTz+f+JapPhFKP+F/LBacakc/F8Ga/YD5Rj9NAgnlZYhGP1lIMGreUkQ/\",\"dtype\":\"float64\",\"shape\":[51]},\"deathDelta\":{\"__ndarray__\":\"fA7Kced+YcDgBRe7Wc4HQPrk/eJdIDJAQPy5OeJaJUCTY3jzdOlXQIRop7KLHB3AFhfQE37LJcDcry1SgGwTwIKQIaat2kNAkJLWolQUH8C28xs9BG42QCB3lFrttvq/ZtXAmQDLEkCo8rbhWK8aQLH5VS7YFyDAyKLsbnS6AcCsRP9dcLEPwEyO4c3TpR9AQl5xrlHYH8CWOq5eV7AQwPAH0/Xl8+o/qG/DXnOo7T8oFT5NUa3qvywNZBmGDRfAnLsI3SrtC0D+LL5s6DQAQHl0yKkqVBBAomTdTiCoEsDsgTT+SwAHwA79cIPgwgXAkRYhBRsCGUDsevYYoAsMQDgyT5CITtC/AAAAAAAA+H8AAAAAAAD4f+yntIWIQOQ/7v89MVkYF0AAAAAAAAD4f4yVxoZHxe2/AAAAAAAA+H8AAAAAAAD4fwAAAAAAAPh/AAAAAAAA+H8AAAAAAAD4fwAAAAAAAPh/AAAAAAAA+H8gu7o1m5fFPwAAAAAAAPh/AAAAAAAA+H8AAAAAAAD4f1Z0RAzdhNY/\",\"dtype\":\"float64\",\"shape\":[51]},\"deathDeltaRate\":{\"__ndarray__\":\"/G5LaEgQ0b+pJXPLe5CoP2joXhoadt8/jn46tFYk1T+SUiQ+kgwFQOXuGWevudG/4Vm630Lu2r86CqSNPlDGv6kXzkrTHvk/pb44xpPr1L8lqtOv2mz0P6mhOrgGu7W/Tzv0Tomm0z+HBpl1yVDhPwiXM708T+e/oyr0Z0E4x78grbTXvnPZv2rB7QPY2+s/7pNce9dt7L9mOW8LUFbgv575dNrUH74/IEKl2qbFwD9BQg+H6zq/vwFEdIO9ROu/6RNqTLdG5D+1IVJvzLPVP10bhtj3EuY/RzpCQbhZ6r/8OF2HR9/ivxC/a2ntcOK/td9puKiw+j8ojpHHTg3wP5OInyBSCrS/AAAAAAAA+H8AAAAAAAD4fw4pycRzHNE/LuHVfI2/BEAAAAAAAAD4f7aE+DdX2N6/AAAAAAAA+H8AAAAAAAD4fwAAAAAAAPh/AAAAAAAA+H8AAAAAAAD4fwAAAAAAAPh/AAAAAAAA+H+ofV/mQ/nJPwAAAAAAAPh/AAAAAAAA+H8AAAAAAAD4fz8vZFY7X+E/\",\"dtype\":\"float64\",\"shape\":[51]},\"deathRate\":{\"__ndarray__\":\"DSqc7KYphT+1x4MLpT2OP+QWxs9UhZU/oEMjhsUxkz8mIKNhAjKqP6/r85dF3YQ/bZa83by2gD/dj3GrdNOHP89ySf9WiqI/E4BsE4Bsgz9QxgYBZWygP88ezhMpaIo/zjRwrrLbkj9o1P4LRTyWP9aHxvrQWG8/Rb01riafhz/XulQyZ2GBP4zTr8E4/Zo/AqHkTtHCWT/w+MMBjz98PwgEAoFAIJA/BDTX95dRkD8ZkEOACVaJPxEREREREWE/LvY4TwGSlz/BeCv7HFKTPxiGYRiGYZg/ms/1x8tgZD/D7OAIIq13P7mSwLwndHg/+DPhz4Q/oz/nnHPOOeecP75jamDvmIo/AAAAAAAAAAAAAAAAAAAAAJIkSZIkSZI/2TMQlY7sqT8AAAAAAAAAAIqG+OPW5X0/AAAAAAAAAAAAAAAAAAAAAAAAAAAAAAAAAAAAAAAAAAAAAAAAAAAAAAAAAAAAAAAAAAAAAAAAAAANJ3VfHluRPwAAAAAAAAAAAAAAAAAAAAAAAAAAAAAAAGQhC1nIQpY/\",\"dtype\":\"float64\",\"shape\":[51]},\"deathShare\":{\"__ndarray__\":\"Q3kN5TWU1z8Bz6fHzdivPyivobyG8qo/iyJnr2QRpT+yAmGkHSvAP54S5ClBnpI/Fb8kQqpljT+yxbUyrYmWPwHPp8fN2K8/n5iNRmBbjz9jfxgsHJmjP9mlrydmo5E/Y38YLByZkz+eEuQpQZ6SP3cy6jSIhGc/Y38YLByZgz93Muo0iIR3PxQ5eyWLqJA/n5iNRmBbTz+fmI1GYFtvP5+YjUZgW38/n5iNRmBbfz93Muo0iIR3P5+YjUZgW08/2aWvJ2ajgT+fmI1GYFt/P2N/GCwcmYM/n5iNRmBbTz+fmI1GYFtfP5+YjUZgW18/Y38YLByZgz+L5bs99G97P3cy6jSIhGc/AAAAAAAA+H8AAAAAAAD4f3cy6jSIhGc/n5iNRmBbfz8AAAAAAAD4f5+YjUZgW08/AAAAAAAA+H8AAAAAAAD4fwAAAAAAAPh/AAAAAAAA+H8AAAAAAAD4fwAAAAAAAPh/AAAAAAAA+H+fmI1GYFtPPwAAAAAAAPh/AAAAAAAA+H8AAAAAAAD4f5+YjUZgW08/\",\"dtype\":\"float64\",\"shape\":[51]},\"expectedCases\":{\"__ndarray__\":\"evktZML/sEB5xonQ00GfQJOOnJsDdsFAnvk6kSuRoUCGhPkUiUWbQMtRXszAI6ZA67wWHdxmmEAnNUYzJDuzQLMgOcJOP5BAMOCStetrpkA1y4aIi8aiQEVZPZFjxblAS+7+rxhylEBri3oCxuyIQJXx768aIJhA55KxgnSLpEASlblJrHeUQH0vfOnNl5dA+7PZIfGOokDQX2DE1UaVQAOOsyC4zplAmA2hPfqTlUDIo8H2LemEQH6LpVR1K5FASt6hk+wrnkDcXHBSITmSQP5IGk+D9oVAZY6hIqD1hkDKHQSZZPCTQKu4o5pAQoVAva8alGgWjkAkfdBvT6qLQAD9o/lvKmRAYmrMThF6j0DeKzK1fD6GQP3RLzXhW4RA5HlU8O+SYUCca4TKF9RyQCc5MzBEL3NAutGxroKNbUA7iCGysIBrQHcgw22TjHlAAUlI/FdVfUCcw8EZscNzQPWU72JXUXtApsy4yrBobkBWp6XN0IlkQIm2GUByu19AIgUTHmNQZUDW6kHFWeB4QAUD9hGURGlA\",\"dtype\":\"float64\",\"shape\":[51]},\"expectedDeaths\":{\"__ndarray__\":\"n4Ny3LlngECij05kGgNPQIMNgQ7Rb0JA8ICRcUcpQEDaOA8ZFi1CQCHaqewiRzpAiwvoCb/lOUD3a4sUINs7QPvevLOkSjlApKS1KBXFN0BKDOTC+5ExQHJHqdVuqzNATZUfs3+aLkCshiSPU6goQLH5VS7YFyZAsii7G51uKEAr0X8XXOwjQNo4DxkWLSJAIa841yjsIUBLHVevK1ggQAKfRUGDoRxAC5InlPFKHEClwqcpqlUbQCwNZBmGDRtAMqJ7kWoJFkCB6aDJi+UXQIeLN1bVqxdAomTdTiCoFkD2QBr/JYATQId+uEFw4RJA3tK99cn7DUAUhQnnX/QLQEfmCRLRCQpAq1e/oY5RBkDkWlZZSS0EQAXWkt7d7wJAJACEnU3PAUAt82Xwu3gBQMZKY8Oj4v4/5HRUghPC/T/wuIGbpk79PxonoHOpuvs/XB0ZftI/+T/D3xnUtGr1P0jMC+kGdfA/VBA5ApoB8D84UZEyGZrqP4HpoMmL5ec/jS3O4h5y5z+Zcfv7sf7mP9XF3XmRveQ/\",\"dtype\":\"float64\",\"shape\":[51]},\"infectionRate\":{\"__ndarray__\":\"IyeADHVmXz/Yo4LfFCRAP9kwIz14LRE/ITa/quHuLT8zKANTdK81P38h9KMsTyM/sDhYsP5DMT/OgknzkZAXP14Pf6gUUzk/M70w8Co/IT9oTD+avHIeP8ys9yxt1Qg/f+Jtw9hZKD/P/BdrDRgwP5gf4ILNyx0/lBt23L9YEz9sdbGc/asfP9up1aYKERk/N/Ly2Q9sDz/rsg+cjf4YPwy5z09cDBI/LJqADrhUFT+/SriFH0QlP3/YypL7oRk/y4wPhq/DBz+yXyvlWVUVP9pPoUypiCE/z4IRWNANID/Fxb/mStIPPwcKFvWn5Rw//YchnlU2ED99KuvyR3AQP9Eynx2PATU/d5K2+PsRBz8hULC+YYMNP7fRPKyzQw4/H6ZC/pt8MD8zgM8HMjEeP5nyDtnJMBo/TBzdJKphID81KuLp/FUhP09w4CYXqBE/HMABHMABDD+LxSNH66ARP2vplJzymQM/jgYwBFkgET8hFIhmSxIVPzViLp+vgBg/Mnf720XlET+2LrH+eRP+PrAHa6MFtQo/\",\"dtype\":\"float64\",\"shape\":[51]},\"population\":[19440469,8936574,39937489,10045029,7797095,12659682,6976597,21992985,4645184,12820878,10736059,29472295,5845526,3563077,6897576,11747694,5851754,6745354,10611862,6083116,7378494,6169270,2989260,4908921,8626207,5210095,3139658,3282115,5700671,3038999,4301089,3954821,720687,4499692,3179849,2910357,628061,1345790,1371246,1056161,982895,1826156,2096640,1412687,1952570,1086759,734002,567025,761723,1778070,903027],\"recoveryRate\":{\"__ndarray__\":\"AAAAAAAAAADRuAPgisY9Pzuy8sckyGI/AAAAAAAAAAAAAAAAAAAAAMokVMPpkVE/dKBAqPzTQT8AAAAAAAAAAAAAAAAAAAAAGzC1GjC1ej8AAAAAAAAAACloGow1I4A/AAAAAAAAAAAAAAAAAAAAAAAAAAAAAAAAAAAAAAAAAAAf+XCYiSxXPwAAAAAAAAAAAAAAAAAAAAAAAAAAAAAAAAAAAAAAAAAAAAAAAAAAAAAAAAAAAAAAAAAAAAAAAAAAm0zdYo/zZD8AAAAAAAAAAAAAAAAAAAAAAAAAAAAAAAAAAAAAAAAAAAAAAAAAAAAAAAAAAAAAAAAAAAAAAAAAAEYXXXTRRbc/AAAAAAAAAAAAAAAAAAAAAAAAAAAAAAAAAAAAAAAAAADSExw9wdGTPwAAAAAAAAAAAAAAAAAAAAAAAAAAAAAAAAAAAAAAAAAAAAAAAAAAAAAAAAAAAAAAAAAAAAAAAAAAAAAAAAAAAAAAAAAAAAAAAAAAAAAAAAAAAAAAAAAAAAAAAAAAAAAAACELWchCFtI/\",\"dtype\":\"float64\",\"shape\":[51]},\"recoveryShare\":{\"__ndarray__\":\"AAAAAAAAAAAcx3Ecx3GcP1VVVVVVVbU/AAAAAAAAAAAAAAAAAAAAABzHcRzHcZw/HMdxHMdxjD8AAAAAAAAAAAAAAAAAAAAA5DiO4ziOwz8AAAAAAAAAAOQ4juM4jsM/AAAAAAAAAAAAAAAAAAAAAAAAAAAAAAAAAAAAAAAAAAAcx3Ecx3GMPwAAAAAAAAAAAAAAAAAAAAAAAAAAAAAAAAAAAAAAAAAAAAAAAAAAAAAAAAAAAAAAAAAAAAAAAAAAHMdxHMdxjD8AAAAAAAAAAAAAAAAAAAAAAAAAAAAAAAAAAAAAAAAAAAAAAAAAAAAAAAAAAAAAAAAAAAAAAAAAAKuqqqqqqtI/AAAAAAAAAAAAAAAAAAAAAAAAAAAAAAAAAAAAAAAAAABVVVVVVVWlPwAAAAAAAAAAAAAAAAAAAAAAAAAAAAAAAAAAAAAAAAAAAAAAAAAAAAAAAAAAAAAAAAAAAAAAAAAAAAAAAAAAAAAAAAAAAAAAAAAAAAAAAAAAAAAAAAAAAAAAAAAAAAAAAMdxHMdxHMc/\",\"dtype\":\"float64\",\"shape\":[51]},\"state_name\":[\"New York\",\"New Jersey\",\"California\",\"Michigan\",\"Washington\",\"Illinois\",\"Massachusetts\",\"Florida\",\"Louisiana\",\"Pennsylvania\",\"Georgia\",\"Texas\",\"Colorado\",\"Connecticut\",\"Tennessee\",\"Ohio\",\"Wisconsin\",\"Indiana\",\"North Carolina\",\"Maryland\",\"Arizona\",\"Missouri\",\"Mississippi\",\"Alabama\",\"Virginia\",\"South Carolina\",\"Nevada\",\"Utah\",\"Minnesota\",\"Arkansas\",\"Oregon\",\"Oklahoma\",\"District of Columbia\",\"Kentucky\",\"Iowa\",\"Kansas\",\"Vermont\",\"Maine\",\"New Hampshire\",\"Rhode Island\",\"Delaware\",\"Idaho\",\"New Mexico\",\"Hawaii\",\"Nebraska\",\"Montana\",\"Alaska\",\"Wyoming\",\"North Dakota\",\"West Virginia\",\"South Dakota\"],\"totalConfirmed\":[37258,4402,2617,2294,2580,1865,1838,1977,1795,1687,1247,1396,1086,875,784,867,707,645,636,580,508,502,485,480,391,424,420,402,346,335,266,248,231,198,179,168,158,155,137,132,130,123,112,95,73,71,59,53,52,51,46],\"totalDeaths\":{\"__ndarray__\":\"AAAAAAAQeEAAAAAAAEBQQAAAAAAAgEtAAAAAAACARUAAAAAAAIBgQAAAAAAAADNAAAAAAAAALkAAAAAAAAA3QAAAAAAAQFBAAAAAAAAAMEAAAAAAAABEQAAAAAAAADJAAAAAAAAANEAAAAAAAAAzQAAAAAAAAAhAAAAAAAAAJEAAAAAAAAAYQAAAAAAAADFAAAAAAAAA8D8AAAAAAAAQQAAAAAAAACBAAAAAAAAAIEAAAAAAAAAYQAAAAAAAAPA/AAAAAAAAIkAAAAAAAAAgQAAAAAAAACRAAAAAAAAA8D8AAAAAAAAAQAAAAAAAAABAAAAAAAAAJEAAAAAAAAAcQAAAAAAAAAhAAAAAAAAA+H8AAAAAAAD4fwAAAAAAAAhAAAAAAAAAIEAAAAAAAAD4fwAAAAAAAPA/AAAAAAAA+H8AAAAAAAD4fwAAAAAAAPh/AAAAAAAA+H8AAAAAAAD4fwAAAAAAAPh/AAAAAAAA+H8AAAAAAADwPwAAAAAAAPh/AAAAAAAA+H8AAAAAAAD4fwAAAAAAAPA/\",\"dtype\":\"float64\",\"shape\":[51]},\"totalRecovered\":{\"__ndarray__\":\"AAAAAAAAAAAAAAAAAAAAQAAAAAAAABhAAAAAAAAAAAAAAAAAAAAAAAAAAAAAAABAAAAAAAAA8D8AAAAAAAAAAAAAAAAAAAAAAAAAAAAAJkAAAAAAAAAAAAAAAAAAACZAAAAAAAAAAAAAAAAAAAAAAAAAAAAAAAAAAAAAAAAAAAAAAAAAAADwPwAAAAAAAAAAAAAAAAAAAAAAAAAAAAAAAAAAAAAAAAAAAAAAAAAAAAAAAAAAAAAAAAAAAAAAAAAAAAAAAAAA8D8AAAAAAAAAAAAAAAAAAAAAAAAAAAAAAAAAAAAAAAAAAAAAAAAAAAAAAAAAAAAAAAAAAAAAAAAAAAAAAAAAADVAAAAAAAAAAAAAAAAAAAAAAAAAAAAAAAAAAAAAAAAAAAAAAAAAAAAIQAAAAAAAAAAAAAAAAAAAAAAAAAAAAAAAAAAAAAAAAAAAAAAAAAAAAAAAAAAAAAAAAAAAAAAAAAAAAAAAAAAAAAAAAAAAAAAAAAAAAAAAAAAAAAAAAAAAAAAAAAAAAAAAAAAAAAAAACpA\",\"dtype\":\"float64\",\"shape\":[51]}},\"selected\":{\"id\":\"1298\"},\"selection_policy\":{\"id\":\"1297\"}},\"id\":\"1003\",\"type\":\"ColumnDataSource\"},{\"attributes\":{\"formatter\":{\"id\":\"1431\"},\"major_label_orientation\":0.7853981633974483,\"ticker\":{\"id\":\"1196\"}},\"id\":\"1195\",\"type\":\"CategoricalAxis\"},{\"attributes\":{\"text\":\"COVID US Percentage Share of Confirmed Cases by State\"},\"id\":\"1185\",\"type\":\"Title\"},{\"attributes\":{},\"id\":\"1196\",\"type\":\"CategoricalTicker\"},{\"attributes\":{\"fill_alpha\":{\"value\":0.1},\"fill_color\":{\"value\":\"#1f77b4\"},\"line_alpha\":{\"value\":0.1},\"line_color\":{\"value\":\"#1f77b4\"},\"top\":{\"field\":\"caseShare\"},\"width\":{\"value\":0.5},\"x\":{\"field\":\"state_name\"}},\"id\":\"1217\",\"type\":\"VBar\"},{\"attributes\":{\"axis\":{\"id\":\"1195\"},\"grid_line_color\":null,\"ticker\":null},\"id\":\"1197\",\"type\":\"Grid\"},{\"attributes\":{},\"id\":\"1431\",\"type\":\"CategoricalTickFormatter\"},{\"attributes\":{\"formatter\":{\"id\":\"1429\"},\"ticker\":{\"id\":\"1199\"}},\"id\":\"1198\",\"type\":\"LinearAxis\"},{\"attributes\":{},\"id\":\"1297\",\"type\":\"UnionRenderers\"},{\"attributes\":{},\"id\":\"1199\",\"type\":\"BasicTicker\"},{\"attributes\":{\"axis\":{\"id\":\"1198\"},\"dimension\":1,\"ticker\":null},\"id\":\"1201\",\"type\":\"Grid\"},{\"attributes\":{\"fill_color\":{\"value\":\"#1f77b4\"},\"line_color\":{\"value\":\"#1f77b4\"},\"top\":{\"field\":\"caseShare\"},\"width\":{\"value\":0.5},\"x\":{\"field\":\"state_name\"}},\"id\":\"1216\",\"type\":\"VBar\"},{\"attributes\":{\"bottom_units\":\"screen\",\"fill_alpha\":0.5,\"fill_color\":\"lightgrey\",\"left_units\":\"screen\",\"level\":\"overlay\",\"line_alpha\":1.0,\"line_color\":\"black\",\"line_dash\":[4,4],\"line_width\":2,\"render_mode\":\"css\",\"right_units\":\"screen\",\"top_units\":\"screen\"},\"id\":\"1435\",\"type\":\"BoxAnnotation\"},{\"attributes\":{},\"id\":\"1202\",\"type\":\"PanTool\"},{\"attributes\":{},\"id\":\"1298\",\"type\":\"Selection\"},{\"attributes\":{},\"id\":\"1203\",\"type\":\"WheelZoomTool\"},{\"attributes\":{\"overlay\":{\"id\":\"1435\"}},\"id\":\"1204\",\"type\":\"BoxZoomTool\"},{\"attributes\":{},\"id\":\"1205\",\"type\":\"SaveTool\"},{\"attributes\":{},\"id\":\"1206\",\"type\":\"ResetTool\"},{\"attributes\":{},\"id\":\"1207\",\"type\":\"HelpTool\"}],\"root_ids\":[\"1184\"]},\"title\":\"Bokeh Application\",\"version\":\"2.0.0\"}};\n",
       "  var render_items = [{\"docid\":\"b3d3875c-3534-421f-847b-e0ccac119e0a\",\"root_ids\":[\"1184\"],\"roots\":{\"1184\":\"16c72ee5-a756-45ce-94cd-856ebd407e88\"}}];\n",
       "  root.Bokeh.embed.embed_items_notebook(docs_json, render_items);\n",
       "\n",
       "  }\n",
       "  if (root.Bokeh !== undefined) {\n",
       "    embed_document(root);\n",
       "  } else {\n",
       "    var attempts = 0;\n",
       "    var timer = setInterval(function(root) {\n",
       "      if (root.Bokeh !== undefined) {\n",
       "        clearInterval(timer);\n",
       "        embed_document(root);\n",
       "      } else {\n",
       "        attempts++;\n",
       "        if (attempts > 100) {\n",
       "          clearInterval(timer);\n",
       "          console.log(\"Bokeh: ERROR: Unable to run BokehJS code because BokehJS library is missing\");\n",
       "        }\n",
       "      }\n",
       "    }, 10, root)\n",
       "  }\n",
       "})(window);"
      ],
      "application/vnd.bokehjs_exec.v0+json": ""
     },
     "metadata": {
      "application/vnd.bokehjs_exec.v0+json": {
       "id": "1184"
      }
     },
     "output_type": "display_data"
    },
    {
     "data": {
      "text/html": [
       "\n",
       "\n",
       "\n",
       "\n",
       "\n",
       "\n",
       "  <div class=\"bk-root\" id=\"60636b52-9deb-4817-ac71-e62bca7da844\" data-root-id=\"1220\"></div>\n"
      ]
     },
     "metadata": {},
     "output_type": "display_data"
    },
    {
     "data": {
      "application/javascript": [
       "(function(root) {\n",
       "  function embed_document(root) {\n",
       "    \n",
       "  var docs_json = {\"6968835c-c137-4be4-9cb6-19150b411597\":{\"roots\":{\"references\":[{\"attributes\":{\"below\":[{\"id\":\"1231\"}],\"center\":[{\"id\":\"1233\"},{\"id\":\"1237\"}],\"left\":[{\"id\":\"1234\"}],\"plot_width\":1000,\"renderers\":[{\"id\":\"1254\"}],\"title\":{\"id\":\"1221\"},\"toolbar\":{\"id\":\"1244\"},\"x_range\":{\"id\":\"1223\"},\"x_scale\":{\"id\":\"1227\"},\"y_range\":{\"id\":\"1225\"},\"y_scale\":{\"id\":\"1229\"}},\"id\":\"1220\",\"subtype\":\"Figure\",\"type\":\"Plot\"},{\"attributes\":{},\"id\":\"1242\",\"type\":\"ResetTool\"},{\"attributes\":{},\"id\":\"1243\",\"type\":\"HelpTool\"},{\"attributes\":{\"active_drag\":\"auto\",\"active_inspect\":\"auto\",\"active_multi\":null,\"active_scroll\":\"auto\",\"active_tap\":\"auto\",\"tools\":[{\"id\":\"1238\"},{\"id\":\"1239\"},{\"id\":\"1240\"},{\"id\":\"1241\"},{\"id\":\"1242\"},{\"id\":\"1243\"}]},\"id\":\"1244\",\"type\":\"Toolbar\"},{\"attributes\":{},\"id\":\"1227\",\"type\":\"CategoricalScale\"},{\"attributes\":{},\"id\":\"1511\",\"type\":\"CategoricalTickFormatter\"},{\"attributes\":{},\"id\":\"1229\",\"type\":\"LinearScale\"},{\"attributes\":{\"data\":{\"caseDelta\":{\"__ndarray__\":\"0UB6s0cR4EDEHLsXFsOiQCYdOTcHs7jAgJhBsRu1RkD09gzW7RSKQCxHeTEDR47AVAyli49EcUBOaoxmSASnwJq+jXtimYdAYMAla9d7ksBqlg0RFxGSwEVZPZFjUbTAWHL3f8XQa8CopCvsz1lTQCrj3181wIfAziVjBemKm8AkKnOTWNeCwPpe+NKbB4vA9mezQ+Itm8Cgv8CIq22IwAOOsyC43pHAMBtCe/R3i8AgjwbbtwRnwPwWS6nqVoPASt6hk+wPmMC4ueCkQjKHwPyRNJ4GrXHAyhxDRUDLdMCUOwgyyRCNwFZxRzWBlHXAva8alGjGhcAkfdBvT+qDwAAGuAwga1FAYmrMThFKicDeKzK1fKaAwPqjX2rCN37A4DBcfYBoMUA41wiVL0hiwE5yZmCIPmXAdKNjXQUbWsB2EENkYYFWwHcgw22T3HHAAUlI/FdVdsA4h4MzYqdrwPWU72JXwXbApsy4yrCIZcCsTkuboVNawIm2GUBye1LARAomPMagXcDW6kHFWbB1wAUD9hGUhGPA\",\"dtype\":\"float64\",\"shape\":[51]},\"caseDeltaRate\":{\"__ndarray__\":\"BerOshI/HkDutuO1PDXzPymwvxX4oea/+taDuYyulD/P74mllJreP0PGWEyK4dW/yK+4qgelxj82B7WpUCbjvw7ACzRuPec/Dfe8mkVh2r/3qcQTvcrev0ZBOwWVOum/BolgO3DExb/pYt1l/Ne4PzoYDLvNgN+/rs6S3ylz5b/vbeBFF3Xdv2VQqaSnVOK/Gb+WHLRu57/FeS6rvF7iv8+K3wxsKOa/GOvIRShe5L/2zgtY1JzRv+tWaJCdBeK/Tpg5ajiF6b/9nMkE0F3kvxZo9Sr2wNm/7Hv5wFX73L+nRxRO1FLnvzNxmdLnPeC/G+2orbwo57+asCo2Iwnnv7y7NW7zo9s/qePgJ6y16b/bZbx98vPnv5o4XFqCv+e/DkTbBbuyvz/3BuF6OBLfv0mgPpW9t+G/D3eox25E3L8YOxabfi/avzKa/fgZX+a/obKR9hdd6L+g6dAcA2Pmvx1hCwjOp+q/4h4x8B+p5r9NQCdDYYLkv73JtPtfo+K/1HVzxrw95r87aMJDVObrv6SJcMDQt+i/\",\"dtype\":\"float64\",\"shape\":[51]},\"caseShare\":{\"__ndarray__\":\"W+hyYVQT4D/Jiuixj2OuP4idp/j3EKI/RR1QcUasnz87W3NOlM+hP3037i/zv5k/gz4zU4RgmT9BU+wF0kubPyNmL+qHyJg/OIJDd8xKlz/bgm/llzeRPzkj1g8+RpM/4nWkIw/9jT/WcaLPeSmIP7iE5bMvpoU/cZJZQ+zwhz+KHqhN3YWDPztbc06Uz4E/6V+hEPWPgT8lRKM6FgSAPy3TJpg4Dnw/FYS5RWS5ez+nzoOxCsl6P2m3KMJZgno/30zTUAyYdT/hfywWnGp3P3yg44kOMnc/NbObkpEzdj+te5/m0xtzP1cV16ROgHI/jA/c4YlhbT/+NEzzj2RrPyLK4Mrcg2k/HWQuQL3eZT/cGXqLfMVjPzBN6QdyjmI/NvB8Sq5zYT8foQ/42R5hPyCN/xLAQ14/JzCTVfwoXT9ccQE94bdcP5hVA2cCLFs/QLzhX+29WD+J5goPh/xUP9ezxwBdIFA/Gupr0INeTz+f+JapPhFKP+F/LBacakc/F8Ga/YD5Rj9NAgnlZYhGP1lIMGreUkQ/\",\"dtype\":\"float64\",\"shape\":[51]},\"deathDelta\":{\"__ndarray__\":\"fA7Kced+YcDgBRe7Wc4HQPrk/eJdIDJAQPy5OeJaJUCTY3jzdOlXQIRop7KLHB3AFhfQE37LJcDcry1SgGwTwIKQIaat2kNAkJLWolQUH8C28xs9BG42QCB3lFrttvq/ZtXAmQDLEkCo8rbhWK8aQLH5VS7YFyDAyKLsbnS6AcCsRP9dcLEPwEyO4c3TpR9AQl5xrlHYH8CWOq5eV7AQwPAH0/Xl8+o/qG/DXnOo7T8oFT5NUa3qvywNZBmGDRfAnLsI3SrtC0D+LL5s6DQAQHl0yKkqVBBAomTdTiCoEsDsgTT+SwAHwA79cIPgwgXAkRYhBRsCGUDsevYYoAsMQDgyT5CITtC/AAAAAAAA+H8AAAAAAAD4f+yntIWIQOQ/7v89MVkYF0AAAAAAAAD4f4yVxoZHxe2/AAAAAAAA+H8AAAAAAAD4fwAAAAAAAPh/AAAAAAAA+H8AAAAAAAD4fwAAAAAAAPh/AAAAAAAA+H8gu7o1m5fFPwAAAAAAAPh/AAAAAAAA+H8AAAAAAAD4f1Z0RAzdhNY/\",\"dtype\":\"float64\",\"shape\":[51]},\"deathDeltaRate\":{\"__ndarray__\":\"/G5LaEgQ0b+pJXPLe5CoP2joXhoadt8/jn46tFYk1T+SUiQ+kgwFQOXuGWevudG/4Vm630Lu2r86CqSNPlDGv6kXzkrTHvk/pb44xpPr1L8lqtOv2mz0P6mhOrgGu7W/Tzv0Tomm0z+HBpl1yVDhPwiXM708T+e/oyr0Z0E4x78grbTXvnPZv2rB7QPY2+s/7pNce9dt7L9mOW8LUFbgv575dNrUH74/IEKl2qbFwD9BQg+H6zq/vwFEdIO9ROu/6RNqTLdG5D+1IVJvzLPVP10bhtj3EuY/RzpCQbhZ6r/8OF2HR9/ivxC/a2ntcOK/td9puKiw+j8ojpHHTg3wP5OInyBSCrS/AAAAAAAA+H8AAAAAAAD4fw4pycRzHNE/LuHVfI2/BEAAAAAAAAD4f7aE+DdX2N6/AAAAAAAA+H8AAAAAAAD4fwAAAAAAAPh/AAAAAAAA+H8AAAAAAAD4fwAAAAAAAPh/AAAAAAAA+H+ofV/mQ/nJPwAAAAAAAPh/AAAAAAAA+H8AAAAAAAD4fz8vZFY7X+E/\",\"dtype\":\"float64\",\"shape\":[51]},\"deathRate\":{\"__ndarray__\":\"DSqc7KYphT+1x4MLpT2OP+QWxs9UhZU/oEMjhsUxkz8mIKNhAjKqP6/r85dF3YQ/bZa83by2gD/dj3GrdNOHP89ySf9WiqI/E4BsE4Bsgz9QxgYBZWygP88ezhMpaIo/zjRwrrLbkj9o1P4LRTyWP9aHxvrQWG8/Rb01riafhz/XulQyZ2GBP4zTr8E4/Zo/AqHkTtHCWT/w+MMBjz98PwgEAoFAIJA/BDTX95dRkD8ZkEOACVaJPxEREREREWE/LvY4TwGSlz/BeCv7HFKTPxiGYRiGYZg/ms/1x8tgZD/D7OAIIq13P7mSwLwndHg/+DPhz4Q/oz/nnHPOOeecP75jamDvmIo/AAAAAAAAAAAAAAAAAAAAAJIkSZIkSZI/2TMQlY7sqT8AAAAAAAAAAIqG+OPW5X0/AAAAAAAAAAAAAAAAAAAAAAAAAAAAAAAAAAAAAAAAAAAAAAAAAAAAAAAAAAAAAAAAAAAAAAAAAAANJ3VfHluRPwAAAAAAAAAAAAAAAAAAAAAAAAAAAAAAAGQhC1nIQpY/\",\"dtype\":\"float64\",\"shape\":[51]},\"deathShare\":{\"__ndarray__\":\"Q3kN5TWU1z8Bz6fHzdivPyivobyG8qo/iyJnr2QRpT+yAmGkHSvAP54S5ClBnpI/Fb8kQqpljT+yxbUyrYmWPwHPp8fN2K8/n5iNRmBbjz9jfxgsHJmjP9mlrydmo5E/Y38YLByZkz+eEuQpQZ6SP3cy6jSIhGc/Y38YLByZgz93Muo0iIR3PxQ5eyWLqJA/n5iNRmBbTz+fmI1GYFtvP5+YjUZgW38/n5iNRmBbfz93Muo0iIR3P5+YjUZgW08/2aWvJ2ajgT+fmI1GYFt/P2N/GCwcmYM/n5iNRmBbTz+fmI1GYFtfP5+YjUZgW18/Y38YLByZgz+L5bs99G97P3cy6jSIhGc/AAAAAAAA+H8AAAAAAAD4f3cy6jSIhGc/n5iNRmBbfz8AAAAAAAD4f5+YjUZgW08/AAAAAAAA+H8AAAAAAAD4fwAAAAAAAPh/AAAAAAAA+H8AAAAAAAD4fwAAAAAAAPh/AAAAAAAA+H+fmI1GYFtPPwAAAAAAAPh/AAAAAAAA+H8AAAAAAAD4f5+YjUZgW08/\",\"dtype\":\"float64\",\"shape\":[51]},\"expectedCases\":{\"__ndarray__\":\"evktZML/sEB5xonQ00GfQJOOnJsDdsFAnvk6kSuRoUCGhPkUiUWbQMtRXszAI6ZA67wWHdxmmEAnNUYzJDuzQLMgOcJOP5BAMOCStetrpkA1y4aIi8aiQEVZPZFjxblAS+7+rxhylEBri3oCxuyIQJXx768aIJhA55KxgnSLpEASlblJrHeUQH0vfOnNl5dA+7PZIfGOokDQX2DE1UaVQAOOsyC4zplAmA2hPfqTlUDIo8H2LemEQH6LpVR1K5FASt6hk+wrnkDcXHBSITmSQP5IGk+D9oVAZY6hIqD1hkDKHQSZZPCTQKu4o5pAQoVAva8alGgWjkAkfdBvT6qLQAD9o/lvKmRAYmrMThF6j0DeKzK1fD6GQP3RLzXhW4RA5HlU8O+SYUCca4TKF9RyQCc5MzBEL3NAutGxroKNbUA7iCGysIBrQHcgw22TjHlAAUlI/FdVfUCcw8EZscNzQPWU72JXUXtApsy4yrBobkBWp6XN0IlkQIm2GUByu19AIgUTHmNQZUDW6kHFWeB4QAUD9hGURGlA\",\"dtype\":\"float64\",\"shape\":[51]},\"expectedDeaths\":{\"__ndarray__\":\"n4Ny3LlngECij05kGgNPQIMNgQ7Rb0JA8ICRcUcpQEDaOA8ZFi1CQCHaqewiRzpAiwvoCb/lOUD3a4sUINs7QPvevLOkSjlApKS1KBXFN0BKDOTC+5ExQHJHqdVuqzNATZUfs3+aLkCshiSPU6goQLH5VS7YFyZAsii7G51uKEAr0X8XXOwjQNo4DxkWLSJAIa841yjsIUBLHVevK1ggQAKfRUGDoRxAC5InlPFKHEClwqcpqlUbQCwNZBmGDRtAMqJ7kWoJFkCB6aDJi+UXQIeLN1bVqxdAomTdTiCoFkD2QBr/JYATQId+uEFw4RJA3tK99cn7DUAUhQnnX/QLQEfmCRLRCQpAq1e/oY5RBkDkWlZZSS0EQAXWkt7d7wJAJACEnU3PAUAt82Xwu3gBQMZKY8Oj4v4/5HRUghPC/T/wuIGbpk79PxonoHOpuvs/XB0ZftI/+T/D3xnUtGr1P0jMC+kGdfA/VBA5ApoB8D84UZEyGZrqP4HpoMmL5ec/jS3O4h5y5z+Zcfv7sf7mP9XF3XmRveQ/\",\"dtype\":\"float64\",\"shape\":[51]},\"infectionRate\":{\"__ndarray__\":\"IyeADHVmXz/Yo4LfFCRAP9kwIz14LRE/ITa/quHuLT8zKANTdK81P38h9KMsTyM/sDhYsP5DMT/OgknzkZAXP14Pf6gUUzk/M70w8Co/IT9oTD+avHIeP8ys9yxt1Qg/f+Jtw9hZKD/P/BdrDRgwP5gf4ILNyx0/lBt23L9YEz9sdbGc/asfP9up1aYKERk/N/Ly2Q9sDz/rsg+cjf4YPwy5z09cDBI/LJqADrhUFT+/SriFH0QlP3/YypL7oRk/y4wPhq/DBz+yXyvlWVUVP9pPoUypiCE/z4IRWNANID/Fxb/mStIPPwcKFvWn5Rw//YchnlU2ED99KuvyR3AQP9Eynx2PATU/d5K2+PsRBz8hULC+YYMNP7fRPKyzQw4/H6ZC/pt8MD8zgM8HMjEeP5nyDtnJMBo/TBzdJKphID81KuLp/FUhP09w4CYXqBE/HMABHMABDD+LxSNH66ARP2vplJzymQM/jgYwBFkgET8hFIhmSxIVPzViLp+vgBg/Mnf720XlET+2LrH+eRP+PrAHa6MFtQo/\",\"dtype\":\"float64\",\"shape\":[51]},\"population\":[19440469,8936574,39937489,10045029,7797095,12659682,6976597,21992985,4645184,12820878,10736059,29472295,5845526,3563077,6897576,11747694,5851754,6745354,10611862,6083116,7378494,6169270,2989260,4908921,8626207,5210095,3139658,3282115,5700671,3038999,4301089,3954821,720687,4499692,3179849,2910357,628061,1345790,1371246,1056161,982895,1826156,2096640,1412687,1952570,1086759,734002,567025,761723,1778070,903027],\"recoveryRate\":{\"__ndarray__\":\"AAAAAAAAAADRuAPgisY9Pzuy8sckyGI/AAAAAAAAAAAAAAAAAAAAAMokVMPpkVE/dKBAqPzTQT8AAAAAAAAAAAAAAAAAAAAAGzC1GjC1ej8AAAAAAAAAACloGow1I4A/AAAAAAAAAAAAAAAAAAAAAAAAAAAAAAAAAAAAAAAAAAAf+XCYiSxXPwAAAAAAAAAAAAAAAAAAAAAAAAAAAAAAAAAAAAAAAAAAAAAAAAAAAAAAAAAAAAAAAAAAAAAAAAAAm0zdYo/zZD8AAAAAAAAAAAAAAAAAAAAAAAAAAAAAAAAAAAAAAAAAAAAAAAAAAAAAAAAAAAAAAAAAAAAAAAAAAEYXXXTRRbc/AAAAAAAAAAAAAAAAAAAAAAAAAAAAAAAAAAAAAAAAAADSExw9wdGTPwAAAAAAAAAAAAAAAAAAAAAAAAAAAAAAAAAAAAAAAAAAAAAAAAAAAAAAAAAAAAAAAAAAAAAAAAAAAAAAAAAAAAAAAAAAAAAAAAAAAAAAAAAAAAAAAAAAAAAAAAAAAAAAACELWchCFtI/\",\"dtype\":\"float64\",\"shape\":[51]},\"recoveryShare\":{\"__ndarray__\":\"AAAAAAAAAAAcx3Ecx3GcP1VVVVVVVbU/AAAAAAAAAAAAAAAAAAAAABzHcRzHcZw/HMdxHMdxjD8AAAAAAAAAAAAAAAAAAAAA5DiO4ziOwz8AAAAAAAAAAOQ4juM4jsM/AAAAAAAAAAAAAAAAAAAAAAAAAAAAAAAAAAAAAAAAAAAcx3Ecx3GMPwAAAAAAAAAAAAAAAAAAAAAAAAAAAAAAAAAAAAAAAAAAAAAAAAAAAAAAAAAAAAAAAAAAAAAAAAAAHMdxHMdxjD8AAAAAAAAAAAAAAAAAAAAAAAAAAAAAAAAAAAAAAAAAAAAAAAAAAAAAAAAAAAAAAAAAAAAAAAAAAKuqqqqqqtI/AAAAAAAAAAAAAAAAAAAAAAAAAAAAAAAAAAAAAAAAAABVVVVVVVWlPwAAAAAAAAAAAAAAAAAAAAAAAAAAAAAAAAAAAAAAAAAAAAAAAAAAAAAAAAAAAAAAAAAAAAAAAAAAAAAAAAAAAAAAAAAAAAAAAAAAAAAAAAAAAAAAAAAAAAAAAAAAAAAAAMdxHMdxHMc/\",\"dtype\":\"float64\",\"shape\":[51]},\"state_name\":[\"New York\",\"New Jersey\",\"California\",\"Michigan\",\"Washington\",\"Illinois\",\"Massachusetts\",\"Florida\",\"Louisiana\",\"Pennsylvania\",\"Georgia\",\"Texas\",\"Colorado\",\"Connecticut\",\"Tennessee\",\"Ohio\",\"Wisconsin\",\"Indiana\",\"North Carolina\",\"Maryland\",\"Arizona\",\"Missouri\",\"Mississippi\",\"Alabama\",\"Virginia\",\"South Carolina\",\"Nevada\",\"Utah\",\"Minnesota\",\"Arkansas\",\"Oregon\",\"Oklahoma\",\"District of Columbia\",\"Kentucky\",\"Iowa\",\"Kansas\",\"Vermont\",\"Maine\",\"New Hampshire\",\"Rhode Island\",\"Delaware\",\"Idaho\",\"New Mexico\",\"Hawaii\",\"Nebraska\",\"Montana\",\"Alaska\",\"Wyoming\",\"North Dakota\",\"West Virginia\",\"South Dakota\"],\"totalConfirmed\":[37258,4402,2617,2294,2580,1865,1838,1977,1795,1687,1247,1396,1086,875,784,867,707,645,636,580,508,502,485,480,391,424,420,402,346,335,266,248,231,198,179,168,158,155,137,132,130,123,112,95,73,71,59,53,52,51,46],\"totalDeaths\":{\"__ndarray__\":\"AAAAAAAQeEAAAAAAAEBQQAAAAAAAgEtAAAAAAACARUAAAAAAAIBgQAAAAAAAADNAAAAAAAAALkAAAAAAAAA3QAAAAAAAQFBAAAAAAAAAMEAAAAAAAABEQAAAAAAAADJAAAAAAAAANEAAAAAAAAAzQAAAAAAAAAhAAAAAAAAAJEAAAAAAAAAYQAAAAAAAADFAAAAAAAAA8D8AAAAAAAAQQAAAAAAAACBAAAAAAAAAIEAAAAAAAAAYQAAAAAAAAPA/AAAAAAAAIkAAAAAAAAAgQAAAAAAAACRAAAAAAAAA8D8AAAAAAAAAQAAAAAAAAABAAAAAAAAAJEAAAAAAAAAcQAAAAAAAAAhAAAAAAAAA+H8AAAAAAAD4fwAAAAAAAAhAAAAAAAAAIEAAAAAAAAD4fwAAAAAAAPA/AAAAAAAA+H8AAAAAAAD4fwAAAAAAAPh/AAAAAAAA+H8AAAAAAAD4fwAAAAAAAPh/AAAAAAAA+H8AAAAAAADwPwAAAAAAAPh/AAAAAAAA+H8AAAAAAAD4fwAAAAAAAPA/\",\"dtype\":\"float64\",\"shape\":[51]},\"totalRecovered\":{\"__ndarray__\":\"AAAAAAAAAAAAAAAAAAAAQAAAAAAAABhAAAAAAAAAAAAAAAAAAAAAAAAAAAAAAABAAAAAAAAA8D8AAAAAAAAAAAAAAAAAAAAAAAAAAAAAJkAAAAAAAAAAAAAAAAAAACZAAAAAAAAAAAAAAAAAAAAAAAAAAAAAAAAAAAAAAAAAAAAAAAAAAADwPwAAAAAAAAAAAAAAAAAAAAAAAAAAAAAAAAAAAAAAAAAAAAAAAAAAAAAAAAAAAAAAAAAAAAAAAAAAAAAAAAAA8D8AAAAAAAAAAAAAAAAAAAAAAAAAAAAAAAAAAAAAAAAAAAAAAAAAAAAAAAAAAAAAAAAAAAAAAAAAAAAAAAAAADVAAAAAAAAAAAAAAAAAAAAAAAAAAAAAAAAAAAAAAAAAAAAAAAAAAAAIQAAAAAAAAAAAAAAAAAAAAAAAAAAAAAAAAAAAAAAAAAAAAAAAAAAAAAAAAAAAAAAAAAAAAAAAAAAAAAAAAAAAAAAAAAAAAAAAAAAAAAAAAAAAAAAAAAAAAAAAAAAAAAAAAAAAAAAAACpA\",\"dtype\":\"float64\",\"shape\":[51]}},\"selected\":{\"id\":\"1298\"},\"selection_policy\":{\"id\":\"1297\"}},\"id\":\"1003\",\"type\":\"ColumnDataSource\"},{\"attributes\":{\"fill_alpha\":{\"value\":0.1},\"fill_color\":{\"value\":\"#1f77b4\"},\"line_alpha\":{\"value\":0.1},\"line_color\":{\"value\":\"#1f77b4\"},\"top\":{\"field\":\"deathShare\"},\"width\":{\"value\":0.5},\"x\":{\"field\":\"state_name\"}},\"id\":\"1253\",\"type\":\"VBar\"},{\"attributes\":{\"text\":\"COVID US Percentage Share of Deaths by State\"},\"id\":\"1221\",\"type\":\"Title\"},{\"attributes\":{\"source\":{\"id\":\"1003\"}},\"id\":\"1255\",\"type\":\"CDSView\"},{\"attributes\":{\"formatter\":{\"id\":\"1511\"},\"major_label_orientation\":0.7853981633974483,\"ticker\":{\"id\":\"1232\"}},\"id\":\"1231\",\"type\":\"CategoricalAxis\"},{\"attributes\":{},\"id\":\"1509\",\"type\":\"BasicTickFormatter\"},{\"attributes\":{},\"id\":\"1297\",\"type\":\"UnionRenderers\"},{\"attributes\":{},\"id\":\"1232\",\"type\":\"CategoricalTicker\"},{\"attributes\":{\"axis\":{\"id\":\"1231\"},\"grid_line_color\":null,\"ticker\":null},\"id\":\"1233\",\"type\":\"Grid\"},{\"attributes\":{\"end\":0.4304368121015343,\"start\":0},\"id\":\"1225\",\"type\":\"DataRange1d\"},{\"attributes\":{\"formatter\":{\"id\":\"1509\"},\"ticker\":{\"id\":\"1235\"}},\"id\":\"1234\",\"type\":\"LinearAxis\"},{\"attributes\":{},\"id\":\"1235\",\"type\":\"BasicTicker\"},{\"attributes\":{\"axis\":{\"id\":\"1234\"},\"dimension\":1,\"ticker\":null},\"id\":\"1237\",\"type\":\"Grid\"},{\"attributes\":{\"fill_color\":{\"value\":\"#1f77b4\"},\"line_color\":{\"value\":\"#1f77b4\"},\"top\":{\"field\":\"deathShare\"},\"width\":{\"value\":0.5},\"x\":{\"field\":\"state_name\"}},\"id\":\"1252\",\"type\":\"VBar\"},{\"attributes\":{},\"id\":\"1298\",\"type\":\"Selection\"},{\"attributes\":{\"data_source\":{\"id\":\"1003\"},\"glyph\":{\"id\":\"1252\"},\"hover_glyph\":null,\"muted_glyph\":null,\"nonselection_glyph\":{\"id\":\"1253\"},\"selection_glyph\":null,\"view\":{\"id\":\"1255\"}},\"id\":\"1254\",\"type\":\"GlyphRenderer\"},{\"attributes\":{},\"id\":\"1238\",\"type\":\"PanTool\"},{\"attributes\":{},\"id\":\"1239\",\"type\":\"WheelZoomTool\"},{\"attributes\":{\"overlay\":{\"id\":\"1515\"}},\"id\":\"1240\",\"type\":\"BoxZoomTool\"},{\"attributes\":{\"bottom_units\":\"screen\",\"fill_alpha\":0.5,\"fill_color\":\"lightgrey\",\"left_units\":\"screen\",\"level\":\"overlay\",\"line_alpha\":1.0,\"line_color\":\"black\",\"line_dash\":[4,4],\"line_width\":2,\"render_mode\":\"css\",\"right_units\":\"screen\",\"top_units\":\"screen\"},\"id\":\"1515\",\"type\":\"BoxAnnotation\"},{\"attributes\":{\"factors\":[\"New York\",\"New Jersey\",\"California\",\"Michigan\",\"Washington\",\"Illinois\",\"Massachusetts\",\"Florida\",\"Louisiana\",\"Pennsylvania\",\"Georgia\",\"Texas\",\"Colorado\",\"Connecticut\",\"Tennessee\",\"Ohio\",\"Wisconsin\",\"Indiana\",\"North Carolina\",\"Maryland\",\"Arizona\",\"Missouri\",\"Mississippi\",\"Alabama\",\"Virginia\",\"South Carolina\",\"Nevada\",\"Utah\",\"Minnesota\",\"Arkansas\",\"Oregon\",\"Oklahoma\",\"District of Columbia\",\"Kentucky\",\"Iowa\",\"Kansas\",\"Vermont\",\"Maine\",\"New Hampshire\",\"Rhode Island\",\"Delaware\",\"Idaho\",\"New Mexico\",\"Hawaii\",\"Nebraska\",\"Montana\",\"Alaska\",\"Wyoming\",\"North Dakota\",\"West Virginia\",\"South Dakota\"]},\"id\":\"1223\",\"type\":\"FactorRange\"},{\"attributes\":{},\"id\":\"1241\",\"type\":\"SaveTool\"}],\"root_ids\":[\"1220\"]},\"title\":\"Bokeh Application\",\"version\":\"2.0.0\"}};\n",
       "  var render_items = [{\"docid\":\"6968835c-c137-4be4-9cb6-19150b411597\",\"root_ids\":[\"1220\"],\"roots\":{\"1220\":\"60636b52-9deb-4817-ac71-e62bca7da844\"}}];\n",
       "  root.Bokeh.embed.embed_items_notebook(docs_json, render_items);\n",
       "\n",
       "  }\n",
       "  if (root.Bokeh !== undefined) {\n",
       "    embed_document(root);\n",
       "  } else {\n",
       "    var attempts = 0;\n",
       "    var timer = setInterval(function(root) {\n",
       "      if (root.Bokeh !== undefined) {\n",
       "        clearInterval(timer);\n",
       "        embed_document(root);\n",
       "      } else {\n",
       "        attempts++;\n",
       "        if (attempts > 100) {\n",
       "          clearInterval(timer);\n",
       "          console.log(\"Bokeh: ERROR: Unable to run BokehJS code because BokehJS library is missing\");\n",
       "        }\n",
       "      }\n",
       "    }, 10, root)\n",
       "  }\n",
       "})(window);"
      ],
      "application/vnd.bokehjs_exec.v0+json": ""
     },
     "metadata": {
      "application/vnd.bokehjs_exec.v0+json": {
       "id": "1220"
      }
     },
     "output_type": "display_data"
    },
    {
     "data": {
      "text/html": [
       "\n",
       "\n",
       "\n",
       "\n",
       "\n",
       "\n",
       "  <div class=\"bk-root\" id=\"e2ab0661-c7ba-49c2-8548-760972005de4\" data-root-id=\"1004\"></div>\n"
      ]
     },
     "metadata": {},
     "output_type": "display_data"
    },
    {
     "data": {
      "application/javascript": [
       "(function(root) {\n",
       "  function embed_document(root) {\n",
       "    \n",
       "  var docs_json = {\"3779477d-f71f-410e-aecc-c79982a9a2fb\":{\"roots\":{\"references\":[{\"attributes\":{\"below\":[{\"id\":\"1015\"}],\"center\":[{\"id\":\"1017\"},{\"id\":\"1021\"}],\"left\":[{\"id\":\"1018\"}],\"plot_width\":1000,\"renderers\":[{\"id\":\"1038\"}],\"title\":{\"id\":\"1005\"},\"toolbar\":{\"id\":\"1028\"},\"x_range\":{\"id\":\"1007\"},\"x_scale\":{\"id\":\"1011\"},\"y_range\":{\"id\":\"1009\"},\"y_scale\":{\"id\":\"1013\"}},\"id\":\"1004\",\"subtype\":\"Figure\",\"type\":\"Plot\"},{\"attributes\":{\"fill_color\":{\"value\":\"#1f77b4\"},\"line_color\":{\"value\":\"white\"},\"top\":{\"field\":\"totalConfirmed\"},\"width\":{\"value\":0.5},\"x\":{\"field\":\"state_name\"}},\"id\":\"1036\",\"type\":\"VBar\"},{\"attributes\":{},\"id\":\"1022\",\"type\":\"PanTool\"},{\"attributes\":{},\"id\":\"1023\",\"type\":\"WheelZoomTool\"},{\"attributes\":{\"overlay\":{\"id\":\"1603\"}},\"id\":\"1024\",\"type\":\"BoxZoomTool\"},{\"attributes\":{},\"id\":\"1597\",\"type\":\"BasicTickFormatter\"},{\"attributes\":{\"data\":{\"caseDelta\":{\"__ndarray__\":\"0UB6s0cR4EDEHLsXFsOiQCYdOTcHs7jAgJhBsRu1RkD09gzW7RSKQCxHeTEDR47AVAyli49EcUBOaoxmSASnwJq+jXtimYdAYMAla9d7ksBqlg0RFxGSwEVZPZFjUbTAWHL3f8XQa8CopCvsz1lTQCrj3181wIfAziVjBemKm8AkKnOTWNeCwPpe+NKbB4vA9mezQ+Itm8Cgv8CIq22IwAOOsyC43pHAMBtCe/R3i8AgjwbbtwRnwPwWS6nqVoPASt6hk+wPmMC4ueCkQjKHwPyRNJ4GrXHAyhxDRUDLdMCUOwgyyRCNwFZxRzWBlHXAva8alGjGhcAkfdBvT+qDwAAGuAwga1FAYmrMThFKicDeKzK1fKaAwPqjX2rCN37A4DBcfYBoMUA41wiVL0hiwE5yZmCIPmXAdKNjXQUbWsB2EENkYYFWwHcgw22T3HHAAUlI/FdVdsA4h4MzYqdrwPWU72JXwXbApsy4yrCIZcCsTkuboVNawIm2GUBye1LARAomPMagXcDW6kHFWbB1wAUD9hGUhGPA\",\"dtype\":\"float64\",\"shape\":[51]},\"caseDeltaRate\":{\"__ndarray__\":\"BerOshI/HkDutuO1PDXzPymwvxX4oea/+taDuYyulD/P74mllJreP0PGWEyK4dW/yK+4qgelxj82B7WpUCbjvw7ACzRuPec/Dfe8mkVh2r/3qcQTvcrev0ZBOwWVOum/BolgO3DExb/pYt1l/Ne4PzoYDLvNgN+/rs6S3ylz5b/vbeBFF3Xdv2VQqaSnVOK/Gb+WHLRu57/FeS6rvF7iv8+K3wxsKOa/GOvIRShe5L/2zgtY1JzRv+tWaJCdBeK/Tpg5ajiF6b/9nMkE0F3kvxZo9Sr2wNm/7Hv5wFX73L+nRxRO1FLnvzNxmdLnPeC/G+2orbwo57+asCo2Iwnnv7y7NW7zo9s/qePgJ6y16b/bZbx98vPnv5o4XFqCv+e/DkTbBbuyvz/3BuF6OBLfv0mgPpW9t+G/D3eox25E3L8YOxabfi/avzKa/fgZX+a/obKR9hdd6L+g6dAcA2Pmvx1hCwjOp+q/4h4x8B+p5r9NQCdDYYLkv73JtPtfo+K/1HVzxrw95r87aMJDVObrv6SJcMDQt+i/\",\"dtype\":\"float64\",\"shape\":[51]},\"caseShare\":{\"__ndarray__\":\"W+hyYVQT4D/Jiuixj2OuP4idp/j3EKI/RR1QcUasnz87W3NOlM+hP3037i/zv5k/gz4zU4RgmT9BU+wF0kubPyNmL+qHyJg/OIJDd8xKlz/bgm/llzeRPzkj1g8+RpM/4nWkIw/9jT/WcaLPeSmIP7iE5bMvpoU/cZJZQ+zwhz+KHqhN3YWDPztbc06Uz4E/6V+hEPWPgT8lRKM6FgSAPy3TJpg4Dnw/FYS5RWS5ez+nzoOxCsl6P2m3KMJZgno/30zTUAyYdT/hfywWnGp3P3yg44kOMnc/NbObkpEzdj+te5/m0xtzP1cV16ROgHI/jA/c4YlhbT/+NEzzj2RrPyLK4Mrcg2k/HWQuQL3eZT/cGXqLfMVjPzBN6QdyjmI/NvB8Sq5zYT8foQ/42R5hPyCN/xLAQ14/JzCTVfwoXT9ccQE94bdcP5hVA2cCLFs/QLzhX+29WD+J5goPh/xUP9ezxwBdIFA/Gupr0INeTz+f+JapPhFKP+F/LBacakc/F8Ga/YD5Rj9NAgnlZYhGP1lIMGreUkQ/\",\"dtype\":\"float64\",\"shape\":[51]},\"deathDelta\":{\"__ndarray__\":\"fA7Kced+YcDgBRe7Wc4HQPrk/eJdIDJAQPy5OeJaJUCTY3jzdOlXQIRop7KLHB3AFhfQE37LJcDcry1SgGwTwIKQIaat2kNAkJLWolQUH8C28xs9BG42QCB3lFrttvq/ZtXAmQDLEkCo8rbhWK8aQLH5VS7YFyDAyKLsbnS6AcCsRP9dcLEPwEyO4c3TpR9AQl5xrlHYH8CWOq5eV7AQwPAH0/Xl8+o/qG/DXnOo7T8oFT5NUa3qvywNZBmGDRfAnLsI3SrtC0D+LL5s6DQAQHl0yKkqVBBAomTdTiCoEsDsgTT+SwAHwA79cIPgwgXAkRYhBRsCGUDsevYYoAsMQDgyT5CITtC/AAAAAAAA+H8AAAAAAAD4f+yntIWIQOQ/7v89MVkYF0AAAAAAAAD4f4yVxoZHxe2/AAAAAAAA+H8AAAAAAAD4fwAAAAAAAPh/AAAAAAAA+H8AAAAAAAD4fwAAAAAAAPh/AAAAAAAA+H8gu7o1m5fFPwAAAAAAAPh/AAAAAAAA+H8AAAAAAAD4f1Z0RAzdhNY/\",\"dtype\":\"float64\",\"shape\":[51]},\"deathDeltaRate\":{\"__ndarray__\":\"/G5LaEgQ0b+pJXPLe5CoP2joXhoadt8/jn46tFYk1T+SUiQ+kgwFQOXuGWevudG/4Vm630Lu2r86CqSNPlDGv6kXzkrTHvk/pb44xpPr1L8lqtOv2mz0P6mhOrgGu7W/Tzv0Tomm0z+HBpl1yVDhPwiXM708T+e/oyr0Z0E4x78grbTXvnPZv2rB7QPY2+s/7pNce9dt7L9mOW8LUFbgv575dNrUH74/IEKl2qbFwD9BQg+H6zq/vwFEdIO9ROu/6RNqTLdG5D+1IVJvzLPVP10bhtj3EuY/RzpCQbhZ6r/8OF2HR9/ivxC/a2ntcOK/td9puKiw+j8ojpHHTg3wP5OInyBSCrS/AAAAAAAA+H8AAAAAAAD4fw4pycRzHNE/LuHVfI2/BEAAAAAAAAD4f7aE+DdX2N6/AAAAAAAA+H8AAAAAAAD4fwAAAAAAAPh/AAAAAAAA+H8AAAAAAAD4fwAAAAAAAPh/AAAAAAAA+H+ofV/mQ/nJPwAAAAAAAPh/AAAAAAAA+H8AAAAAAAD4fz8vZFY7X+E/\",\"dtype\":\"float64\",\"shape\":[51]},\"deathRate\":{\"__ndarray__\":\"DSqc7KYphT+1x4MLpT2OP+QWxs9UhZU/oEMjhsUxkz8mIKNhAjKqP6/r85dF3YQ/bZa83by2gD/dj3GrdNOHP89ySf9WiqI/E4BsE4Bsgz9QxgYBZWygP88ezhMpaIo/zjRwrrLbkj9o1P4LRTyWP9aHxvrQWG8/Rb01riafhz/XulQyZ2GBP4zTr8E4/Zo/AqHkTtHCWT/w+MMBjz98PwgEAoFAIJA/BDTX95dRkD8ZkEOACVaJPxEREREREWE/LvY4TwGSlz/BeCv7HFKTPxiGYRiGYZg/ms/1x8tgZD/D7OAIIq13P7mSwLwndHg/+DPhz4Q/oz/nnHPOOeecP75jamDvmIo/AAAAAAAAAAAAAAAAAAAAAJIkSZIkSZI/2TMQlY7sqT8AAAAAAAAAAIqG+OPW5X0/AAAAAAAAAAAAAAAAAAAAAAAAAAAAAAAAAAAAAAAAAAAAAAAAAAAAAAAAAAAAAAAAAAAAAAAAAAANJ3VfHluRPwAAAAAAAAAAAAAAAAAAAAAAAAAAAAAAAGQhC1nIQpY/\",\"dtype\":\"float64\",\"shape\":[51]},\"deathShare\":{\"__ndarray__\":\"Q3kN5TWU1z8Bz6fHzdivPyivobyG8qo/iyJnr2QRpT+yAmGkHSvAP54S5ClBnpI/Fb8kQqpljT+yxbUyrYmWPwHPp8fN2K8/n5iNRmBbjz9jfxgsHJmjP9mlrydmo5E/Y38YLByZkz+eEuQpQZ6SP3cy6jSIhGc/Y38YLByZgz93Muo0iIR3PxQ5eyWLqJA/n5iNRmBbTz+fmI1GYFtvP5+YjUZgW38/n5iNRmBbfz93Muo0iIR3P5+YjUZgW08/2aWvJ2ajgT+fmI1GYFt/P2N/GCwcmYM/n5iNRmBbTz+fmI1GYFtfP5+YjUZgW18/Y38YLByZgz+L5bs99G97P3cy6jSIhGc/AAAAAAAA+H8AAAAAAAD4f3cy6jSIhGc/n5iNRmBbfz8AAAAAAAD4f5+YjUZgW08/AAAAAAAA+H8AAAAAAAD4fwAAAAAAAPh/AAAAAAAA+H8AAAAAAAD4fwAAAAAAAPh/AAAAAAAA+H+fmI1GYFtPPwAAAAAAAPh/AAAAAAAA+H8AAAAAAAD4f5+YjUZgW08/\",\"dtype\":\"float64\",\"shape\":[51]},\"expectedCases\":{\"__ndarray__\":\"evktZML/sEB5xonQ00GfQJOOnJsDdsFAnvk6kSuRoUCGhPkUiUWbQMtRXszAI6ZA67wWHdxmmEAnNUYzJDuzQLMgOcJOP5BAMOCStetrpkA1y4aIi8aiQEVZPZFjxblAS+7+rxhylEBri3oCxuyIQJXx768aIJhA55KxgnSLpEASlblJrHeUQH0vfOnNl5dA+7PZIfGOokDQX2DE1UaVQAOOsyC4zplAmA2hPfqTlUDIo8H2LemEQH6LpVR1K5FASt6hk+wrnkDcXHBSITmSQP5IGk+D9oVAZY6hIqD1hkDKHQSZZPCTQKu4o5pAQoVAva8alGgWjkAkfdBvT6qLQAD9o/lvKmRAYmrMThF6j0DeKzK1fD6GQP3RLzXhW4RA5HlU8O+SYUCca4TKF9RyQCc5MzBEL3NAutGxroKNbUA7iCGysIBrQHcgw22TjHlAAUlI/FdVfUCcw8EZscNzQPWU72JXUXtApsy4yrBobkBWp6XN0IlkQIm2GUByu19AIgUTHmNQZUDW6kHFWeB4QAUD9hGURGlA\",\"dtype\":\"float64\",\"shape\":[51]},\"expectedDeaths\":{\"__ndarray__\":\"n4Ny3LlngECij05kGgNPQIMNgQ7Rb0JA8ICRcUcpQEDaOA8ZFi1CQCHaqewiRzpAiwvoCb/lOUD3a4sUINs7QPvevLOkSjlApKS1KBXFN0BKDOTC+5ExQHJHqdVuqzNATZUfs3+aLkCshiSPU6goQLH5VS7YFyZAsii7G51uKEAr0X8XXOwjQNo4DxkWLSJAIa841yjsIUBLHVevK1ggQAKfRUGDoRxAC5InlPFKHEClwqcpqlUbQCwNZBmGDRtAMqJ7kWoJFkCB6aDJi+UXQIeLN1bVqxdAomTdTiCoFkD2QBr/JYATQId+uEFw4RJA3tK99cn7DUAUhQnnX/QLQEfmCRLRCQpAq1e/oY5RBkDkWlZZSS0EQAXWkt7d7wJAJACEnU3PAUAt82Xwu3gBQMZKY8Oj4v4/5HRUghPC/T/wuIGbpk79PxonoHOpuvs/XB0ZftI/+T/D3xnUtGr1P0jMC+kGdfA/VBA5ApoB8D84UZEyGZrqP4HpoMmL5ec/jS3O4h5y5z+Zcfv7sf7mP9XF3XmRveQ/\",\"dtype\":\"float64\",\"shape\":[51]},\"infectionRate\":{\"__ndarray__\":\"IyeADHVmXz/Yo4LfFCRAP9kwIz14LRE/ITa/quHuLT8zKANTdK81P38h9KMsTyM/sDhYsP5DMT/OgknzkZAXP14Pf6gUUzk/M70w8Co/IT9oTD+avHIeP8ys9yxt1Qg/f+Jtw9hZKD/P/BdrDRgwP5gf4ILNyx0/lBt23L9YEz9sdbGc/asfP9up1aYKERk/N/Ly2Q9sDz/rsg+cjf4YPwy5z09cDBI/LJqADrhUFT+/SriFH0QlP3/YypL7oRk/y4wPhq/DBz+yXyvlWVUVP9pPoUypiCE/z4IRWNANID/Fxb/mStIPPwcKFvWn5Rw//YchnlU2ED99KuvyR3AQP9Eynx2PATU/d5K2+PsRBz8hULC+YYMNP7fRPKyzQw4/H6ZC/pt8MD8zgM8HMjEeP5nyDtnJMBo/TBzdJKphID81KuLp/FUhP09w4CYXqBE/HMABHMABDD+LxSNH66ARP2vplJzymQM/jgYwBFkgET8hFIhmSxIVPzViLp+vgBg/Mnf720XlET+2LrH+eRP+PrAHa6MFtQo/\",\"dtype\":\"float64\",\"shape\":[51]},\"population\":[19440469,8936574,39937489,10045029,7797095,12659682,6976597,21992985,4645184,12820878,10736059,29472295,5845526,3563077,6897576,11747694,5851754,6745354,10611862,6083116,7378494,6169270,2989260,4908921,8626207,5210095,3139658,3282115,5700671,3038999,4301089,3954821,720687,4499692,3179849,2910357,628061,1345790,1371246,1056161,982895,1826156,2096640,1412687,1952570,1086759,734002,567025,761723,1778070,903027],\"recoveryRate\":{\"__ndarray__\":\"AAAAAAAAAADRuAPgisY9Pzuy8sckyGI/AAAAAAAAAAAAAAAAAAAAAMokVMPpkVE/dKBAqPzTQT8AAAAAAAAAAAAAAAAAAAAAGzC1GjC1ej8AAAAAAAAAACloGow1I4A/AAAAAAAAAAAAAAAAAAAAAAAAAAAAAAAAAAAAAAAAAAAf+XCYiSxXPwAAAAAAAAAAAAAAAAAAAAAAAAAAAAAAAAAAAAAAAAAAAAAAAAAAAAAAAAAAAAAAAAAAAAAAAAAAm0zdYo/zZD8AAAAAAAAAAAAAAAAAAAAAAAAAAAAAAAAAAAAAAAAAAAAAAAAAAAAAAAAAAAAAAAAAAAAAAAAAAEYXXXTRRbc/AAAAAAAAAAAAAAAAAAAAAAAAAAAAAAAAAAAAAAAAAADSExw9wdGTPwAAAAAAAAAAAAAAAAAAAAAAAAAAAAAAAAAAAAAAAAAAAAAAAAAAAAAAAAAAAAAAAAAAAAAAAAAAAAAAAAAAAAAAAAAAAAAAAAAAAAAAAAAAAAAAAAAAAAAAAAAAAAAAACELWchCFtI/\",\"dtype\":\"float64\",\"shape\":[51]},\"recoveryShare\":{\"__ndarray__\":\"AAAAAAAAAAAcx3Ecx3GcP1VVVVVVVbU/AAAAAAAAAAAAAAAAAAAAABzHcRzHcZw/HMdxHMdxjD8AAAAAAAAAAAAAAAAAAAAA5DiO4ziOwz8AAAAAAAAAAOQ4juM4jsM/AAAAAAAAAAAAAAAAAAAAAAAAAAAAAAAAAAAAAAAAAAAcx3Ecx3GMPwAAAAAAAAAAAAAAAAAAAAAAAAAAAAAAAAAAAAAAAAAAAAAAAAAAAAAAAAAAAAAAAAAAAAAAAAAAHMdxHMdxjD8AAAAAAAAAAAAAAAAAAAAAAAAAAAAAAAAAAAAAAAAAAAAAAAAAAAAAAAAAAAAAAAAAAAAAAAAAAKuqqqqqqtI/AAAAAAAAAAAAAAAAAAAAAAAAAAAAAAAAAAAAAAAAAABVVVVVVVWlPwAAAAAAAAAAAAAAAAAAAAAAAAAAAAAAAAAAAAAAAAAAAAAAAAAAAAAAAAAAAAAAAAAAAAAAAAAAAAAAAAAAAAAAAAAAAAAAAAAAAAAAAAAAAAAAAAAAAAAAAAAAAAAAAMdxHMdxHMc/\",\"dtype\":\"float64\",\"shape\":[51]},\"state_name\":[\"New York\",\"New Jersey\",\"California\",\"Michigan\",\"Washington\",\"Illinois\",\"Massachusetts\",\"Florida\",\"Louisiana\",\"Pennsylvania\",\"Georgia\",\"Texas\",\"Colorado\",\"Connecticut\",\"Tennessee\",\"Ohio\",\"Wisconsin\",\"Indiana\",\"North Carolina\",\"Maryland\",\"Arizona\",\"Missouri\",\"Mississippi\",\"Alabama\",\"Virginia\",\"South Carolina\",\"Nevada\",\"Utah\",\"Minnesota\",\"Arkansas\",\"Oregon\",\"Oklahoma\",\"District of Columbia\",\"Kentucky\",\"Iowa\",\"Kansas\",\"Vermont\",\"Maine\",\"New Hampshire\",\"Rhode Island\",\"Delaware\",\"Idaho\",\"New Mexico\",\"Hawaii\",\"Nebraska\",\"Montana\",\"Alaska\",\"Wyoming\",\"North Dakota\",\"West Virginia\",\"South Dakota\"],\"totalConfirmed\":[37258,4402,2617,2294,2580,1865,1838,1977,1795,1687,1247,1396,1086,875,784,867,707,645,636,580,508,502,485,480,391,424,420,402,346,335,266,248,231,198,179,168,158,155,137,132,130,123,112,95,73,71,59,53,52,51,46],\"totalDeaths\":{\"__ndarray__\":\"AAAAAAAQeEAAAAAAAEBQQAAAAAAAgEtAAAAAAACARUAAAAAAAIBgQAAAAAAAADNAAAAAAAAALkAAAAAAAAA3QAAAAAAAQFBAAAAAAAAAMEAAAAAAAABEQAAAAAAAADJAAAAAAAAANEAAAAAAAAAzQAAAAAAAAAhAAAAAAAAAJEAAAAAAAAAYQAAAAAAAADFAAAAAAAAA8D8AAAAAAAAQQAAAAAAAACBAAAAAAAAAIEAAAAAAAAAYQAAAAAAAAPA/AAAAAAAAIkAAAAAAAAAgQAAAAAAAACRAAAAAAAAA8D8AAAAAAAAAQAAAAAAAAABAAAAAAAAAJEAAAAAAAAAcQAAAAAAAAAhAAAAAAAAA+H8AAAAAAAD4fwAAAAAAAAhAAAAAAAAAIEAAAAAAAAD4fwAAAAAAAPA/AAAAAAAA+H8AAAAAAAD4fwAAAAAAAPh/AAAAAAAA+H8AAAAAAAD4fwAAAAAAAPh/AAAAAAAA+H8AAAAAAADwPwAAAAAAAPh/AAAAAAAA+H8AAAAAAAD4fwAAAAAAAPA/\",\"dtype\":\"float64\",\"shape\":[51]},\"totalRecovered\":{\"__ndarray__\":\"AAAAAAAAAAAAAAAAAAAAQAAAAAAAABhAAAAAAAAAAAAAAAAAAAAAAAAAAAAAAABAAAAAAAAA8D8AAAAAAAAAAAAAAAAAAAAAAAAAAAAAJkAAAAAAAAAAAAAAAAAAACZAAAAAAAAAAAAAAAAAAAAAAAAAAAAAAAAAAAAAAAAAAAAAAAAAAADwPwAAAAAAAAAAAAAAAAAAAAAAAAAAAAAAAAAAAAAAAAAAAAAAAAAAAAAAAAAAAAAAAAAAAAAAAAAAAAAAAAAA8D8AAAAAAAAAAAAAAAAAAAAAAAAAAAAAAAAAAAAAAAAAAAAAAAAAAAAAAAAAAAAAAAAAAAAAAAAAAAAAAAAAADVAAAAAAAAAAAAAAAAAAAAAAAAAAAAAAAAAAAAAAAAAAAAAAAAAAAAIQAAAAAAAAAAAAAAAAAAAAAAAAAAAAAAAAAAAAAAAAAAAAAAAAAAAAAAAAAAAAAAAAAAAAAAAAAAAAAAAAAAAAAAAAAAAAAAAAAAAAAAAAAAAAAAAAAAAAAAAAAAAAAAAAAAAAAAAACpA\",\"dtype\":\"float64\",\"shape\":[51]}},\"selected\":{\"id\":\"1298\"},\"selection_policy\":{\"id\":\"1297\"}},\"id\":\"1003\",\"type\":\"ColumnDataSource\"},{\"attributes\":{},\"id\":\"1025\",\"type\":\"SaveTool\"},{\"attributes\":{},\"id\":\"1011\",\"type\":\"CategoricalScale\"},{\"attributes\":{},\"id\":\"1026\",\"type\":\"ResetTool\"},{\"attributes\":{},\"id\":\"1027\",\"type\":\"HelpTool\"},{\"attributes\":{},\"id\":\"1297\",\"type\":\"UnionRenderers\"},{\"attributes\":{\"active_drag\":\"auto\",\"active_inspect\":\"auto\",\"active_multi\":null,\"active_scroll\":\"auto\",\"active_tap\":\"auto\",\"tools\":[{\"id\":\"1022\"},{\"id\":\"1023\"},{\"id\":\"1024\"},{\"id\":\"1025\"},{\"id\":\"1026\"},{\"id\":\"1027\"}]},\"id\":\"1028\",\"type\":\"Toolbar\"},{\"attributes\":{},\"id\":\"1013\",\"type\":\"LinearScale\"},{\"attributes\":{\"data_source\":{\"id\":\"1003\"},\"glyph\":{\"id\":\"1036\"},\"hover_glyph\":null,\"muted_glyph\":null,\"nonselection_glyph\":{\"id\":\"1037\"},\"selection_glyph\":null,\"view\":{\"id\":\"1039\"}},\"id\":\"1038\",\"type\":\"GlyphRenderer\"},{\"attributes\":{\"formatter\":{\"id\":\"1599\"},\"major_label_orientation\":0.7853981633974483,\"ticker\":{\"id\":\"1016\"}},\"id\":\"1015\",\"type\":\"CategoricalAxis\"},{\"attributes\":{},\"id\":\"1016\",\"type\":\"CategoricalTicker\"},{\"attributes\":{},\"id\":\"1599\",\"type\":\"CategoricalTickFormatter\"},{\"attributes\":{\"source\":{\"id\":\"1003\"}},\"id\":\"1039\",\"type\":\"CDSView\"},{\"attributes\":{\"formatter\":{\"id\":\"1597\"},\"ticker\":{\"id\":\"1019\"}},\"id\":\"1018\",\"type\":\"LinearAxis\"},{\"attributes\":{\"end\":42446.60304354933,\"start\":0},\"id\":\"1009\",\"type\":\"DataRange1d\"},{\"attributes\":{},\"id\":\"1298\",\"type\":\"Selection\"},{\"attributes\":{\"factors\":[\"New York\",\"New Jersey\",\"California\",\"Michigan\",\"Washington\",\"Illinois\",\"Massachusetts\",\"Florida\",\"Louisiana\",\"Pennsylvania\",\"Georgia\",\"Texas\",\"Colorado\",\"Connecticut\",\"Tennessee\",\"Ohio\",\"Wisconsin\",\"Indiana\",\"North Carolina\",\"Maryland\",\"Arizona\",\"Missouri\",\"Mississippi\",\"Alabama\",\"Virginia\",\"South Carolina\",\"Nevada\",\"Utah\",\"Minnesota\",\"Arkansas\",\"Oregon\",\"Oklahoma\",\"District of Columbia\",\"Kentucky\",\"Iowa\",\"Kansas\",\"Vermont\",\"Maine\",\"New Hampshire\",\"Rhode Island\",\"Delaware\",\"Idaho\",\"New Mexico\",\"Hawaii\",\"Nebraska\",\"Montana\",\"Alaska\",\"Wyoming\",\"North Dakota\",\"West Virginia\",\"South Dakota\"]},\"id\":\"1007\",\"type\":\"FactorRange\"},{\"attributes\":{\"text\":\"COVID Confirmed: 74,166 - Death Rate: 1.4090% - Recovery Rate: 0.0971%\"},\"id\":\"1005\",\"type\":\"Title\"},{\"attributes\":{\"axis\":{\"id\":\"1015\"},\"grid_line_color\":null,\"ticker\":null},\"id\":\"1017\",\"type\":\"Grid\"},{\"attributes\":{},\"id\":\"1019\",\"type\":\"BasicTicker\"},{\"attributes\":{\"bottom_units\":\"screen\",\"fill_alpha\":0.5,\"fill_color\":\"lightgrey\",\"left_units\":\"screen\",\"level\":\"overlay\",\"line_alpha\":1.0,\"line_color\":\"black\",\"line_dash\":[4,4],\"line_width\":2,\"render_mode\":\"css\",\"right_units\":\"screen\",\"top_units\":\"screen\"},\"id\":\"1603\",\"type\":\"BoxAnnotation\"},{\"attributes\":{\"axis\":{\"id\":\"1018\"},\"dimension\":1,\"ticker\":null},\"id\":\"1021\",\"type\":\"Grid\"},{\"attributes\":{\"fill_alpha\":{\"value\":0.1},\"fill_color\":{\"value\":\"#1f77b4\"},\"line_alpha\":{\"value\":0.1},\"line_color\":{\"value\":\"white\"},\"top\":{\"field\":\"totalConfirmed\"},\"width\":{\"value\":0.5},\"x\":{\"field\":\"state_name\"}},\"id\":\"1037\",\"type\":\"VBar\"}],\"root_ids\":[\"1004\"]},\"title\":\"Bokeh Application\",\"version\":\"2.0.0\"}};\n",
       "  var render_items = [{\"docid\":\"3779477d-f71f-410e-aecc-c79982a9a2fb\",\"root_ids\":[\"1004\"],\"roots\":{\"1004\":\"e2ab0661-c7ba-49c2-8548-760972005de4\"}}];\n",
       "  root.Bokeh.embed.embed_items_notebook(docs_json, render_items);\n",
       "\n",
       "  }\n",
       "  if (root.Bokeh !== undefined) {\n",
       "    embed_document(root);\n",
       "  } else {\n",
       "    var attempts = 0;\n",
       "    var timer = setInterval(function(root) {\n",
       "      if (root.Bokeh !== undefined) {\n",
       "        clearInterval(timer);\n",
       "        embed_document(root);\n",
       "      } else {\n",
       "        attempts++;\n",
       "        if (attempts > 100) {\n",
       "          clearInterval(timer);\n",
       "          console.log(\"Bokeh: ERROR: Unable to run BokehJS code because BokehJS library is missing\");\n",
       "        }\n",
       "      }\n",
       "    }, 10, root)\n",
       "  }\n",
       "})(window);"
      ],
      "application/vnd.bokehjs_exec.v0+json": ""
     },
     "metadata": {
      "application/vnd.bokehjs_exec.v0+json": {
       "id": "1004"
      }
     },
     "output_type": "display_data"
    },
    {
     "data": {
      "text/html": [
       "\n",
       "\n",
       "\n",
       "\n",
       "\n",
       "\n",
       "  <div class=\"bk-root\" id=\"be1aa567-ce48-484f-b37b-6f321b4eb86a\" data-root-id=\"1040\"></div>\n"
      ]
     },
     "metadata": {},
     "output_type": "display_data"
    },
    {
     "data": {
      "application/javascript": [
       "(function(root) {\n",
       "  function embed_document(root) {\n",
       "    \n",
       "  var docs_json = {\"63c647df-09bb-45eb-a548-1b505c227ec5\":{\"roots\":{\"references\":[{\"attributes\":{\"below\":[{\"id\":\"1051\"}],\"center\":[{\"id\":\"1053\"},{\"id\":\"1057\"}],\"left\":[{\"id\":\"1054\"}],\"plot_width\":1000,\"renderers\":[{\"id\":\"1074\"}],\"title\":{\"id\":\"1041\"},\"toolbar\":{\"id\":\"1064\"},\"x_range\":{\"id\":\"1043\"},\"x_scale\":{\"id\":\"1047\"},\"y_range\":{\"id\":\"1045\"},\"y_scale\":{\"id\":\"1049\"}},\"id\":\"1040\",\"subtype\":\"Figure\",\"type\":\"Plot\"},{\"attributes\":{},\"id\":\"1052\",\"type\":\"CategoricalTicker\"},{\"attributes\":{\"axis\":{\"id\":\"1051\"},\"grid_line_color\":null,\"ticker\":null},\"id\":\"1053\",\"type\":\"Grid\"},{\"attributes\":{\"formatter\":{\"id\":\"1693\"},\"ticker\":{\"id\":\"1055\"}},\"id\":\"1054\",\"type\":\"LinearAxis\"},{\"attributes\":{},\"id\":\"1055\",\"type\":\"BasicTicker\"},{\"attributes\":{\"data\":{\"caseDelta\":{\"__ndarray__\":\"0UB6s0cR4EDEHLsXFsOiQCYdOTcHs7jAgJhBsRu1RkD09gzW7RSKQCxHeTEDR47AVAyli49EcUBOaoxmSASnwJq+jXtimYdAYMAla9d7ksBqlg0RFxGSwEVZPZFjUbTAWHL3f8XQa8CopCvsz1lTQCrj3181wIfAziVjBemKm8AkKnOTWNeCwPpe+NKbB4vA9mezQ+Itm8Cgv8CIq22IwAOOsyC43pHAMBtCe/R3i8AgjwbbtwRnwPwWS6nqVoPASt6hk+wPmMC4ueCkQjKHwPyRNJ4GrXHAyhxDRUDLdMCUOwgyyRCNwFZxRzWBlHXAva8alGjGhcAkfdBvT+qDwAAGuAwga1FAYmrMThFKicDeKzK1fKaAwPqjX2rCN37A4DBcfYBoMUA41wiVL0hiwE5yZmCIPmXAdKNjXQUbWsB2EENkYYFWwHcgw22T3HHAAUlI/FdVdsA4h4MzYqdrwPWU72JXwXbApsy4yrCIZcCsTkuboVNawIm2GUBye1LARAomPMagXcDW6kHFWbB1wAUD9hGUhGPA\",\"dtype\":\"float64\",\"shape\":[51]},\"caseDeltaRate\":{\"__ndarray__\":\"BerOshI/HkDutuO1PDXzPymwvxX4oea/+taDuYyulD/P74mllJreP0PGWEyK4dW/yK+4qgelxj82B7WpUCbjvw7ACzRuPec/Dfe8mkVh2r/3qcQTvcrev0ZBOwWVOum/BolgO3DExb/pYt1l/Ne4PzoYDLvNgN+/rs6S3ylz5b/vbeBFF3Xdv2VQqaSnVOK/Gb+WHLRu57/FeS6rvF7iv8+K3wxsKOa/GOvIRShe5L/2zgtY1JzRv+tWaJCdBeK/Tpg5ajiF6b/9nMkE0F3kvxZo9Sr2wNm/7Hv5wFX73L+nRxRO1FLnvzNxmdLnPeC/G+2orbwo57+asCo2Iwnnv7y7NW7zo9s/qePgJ6y16b/bZbx98vPnv5o4XFqCv+e/DkTbBbuyvz/3BuF6OBLfv0mgPpW9t+G/D3eox25E3L8YOxabfi/avzKa/fgZX+a/obKR9hdd6L+g6dAcA2Pmvx1hCwjOp+q/4h4x8B+p5r9NQCdDYYLkv73JtPtfo+K/1HVzxrw95r87aMJDVObrv6SJcMDQt+i/\",\"dtype\":\"float64\",\"shape\":[51]},\"caseShare\":{\"__ndarray__\":\"W+hyYVQT4D/Jiuixj2OuP4idp/j3EKI/RR1QcUasnz87W3NOlM+hP3037i/zv5k/gz4zU4RgmT9BU+wF0kubPyNmL+qHyJg/OIJDd8xKlz/bgm/llzeRPzkj1g8+RpM/4nWkIw/9jT/WcaLPeSmIP7iE5bMvpoU/cZJZQ+zwhz+KHqhN3YWDPztbc06Uz4E/6V+hEPWPgT8lRKM6FgSAPy3TJpg4Dnw/FYS5RWS5ez+nzoOxCsl6P2m3KMJZgno/30zTUAyYdT/hfywWnGp3P3yg44kOMnc/NbObkpEzdj+te5/m0xtzP1cV16ROgHI/jA/c4YlhbT/+NEzzj2RrPyLK4Mrcg2k/HWQuQL3eZT/cGXqLfMVjPzBN6QdyjmI/NvB8Sq5zYT8foQ/42R5hPyCN/xLAQ14/JzCTVfwoXT9ccQE94bdcP5hVA2cCLFs/QLzhX+29WD+J5goPh/xUP9ezxwBdIFA/Gupr0INeTz+f+JapPhFKP+F/LBacakc/F8Ga/YD5Rj9NAgnlZYhGP1lIMGreUkQ/\",\"dtype\":\"float64\",\"shape\":[51]},\"deathDelta\":{\"__ndarray__\":\"fA7Kced+YcDgBRe7Wc4HQPrk/eJdIDJAQPy5OeJaJUCTY3jzdOlXQIRop7KLHB3AFhfQE37LJcDcry1SgGwTwIKQIaat2kNAkJLWolQUH8C28xs9BG42QCB3lFrttvq/ZtXAmQDLEkCo8rbhWK8aQLH5VS7YFyDAyKLsbnS6AcCsRP9dcLEPwEyO4c3TpR9AQl5xrlHYH8CWOq5eV7AQwPAH0/Xl8+o/qG/DXnOo7T8oFT5NUa3qvywNZBmGDRfAnLsI3SrtC0D+LL5s6DQAQHl0yKkqVBBAomTdTiCoEsDsgTT+SwAHwA79cIPgwgXAkRYhBRsCGUDsevYYoAsMQDgyT5CITtC/AAAAAAAA+H8AAAAAAAD4f+yntIWIQOQ/7v89MVkYF0AAAAAAAAD4f4yVxoZHxe2/AAAAAAAA+H8AAAAAAAD4fwAAAAAAAPh/AAAAAAAA+H8AAAAAAAD4fwAAAAAAAPh/AAAAAAAA+H8gu7o1m5fFPwAAAAAAAPh/AAAAAAAA+H8AAAAAAAD4f1Z0RAzdhNY/\",\"dtype\":\"float64\",\"shape\":[51]},\"deathDeltaRate\":{\"__ndarray__\":\"/G5LaEgQ0b+pJXPLe5CoP2joXhoadt8/jn46tFYk1T+SUiQ+kgwFQOXuGWevudG/4Vm630Lu2r86CqSNPlDGv6kXzkrTHvk/pb44xpPr1L8lqtOv2mz0P6mhOrgGu7W/Tzv0Tomm0z+HBpl1yVDhPwiXM708T+e/oyr0Z0E4x78grbTXvnPZv2rB7QPY2+s/7pNce9dt7L9mOW8LUFbgv575dNrUH74/IEKl2qbFwD9BQg+H6zq/vwFEdIO9ROu/6RNqTLdG5D+1IVJvzLPVP10bhtj3EuY/RzpCQbhZ6r/8OF2HR9/ivxC/a2ntcOK/td9puKiw+j8ojpHHTg3wP5OInyBSCrS/AAAAAAAA+H8AAAAAAAD4fw4pycRzHNE/LuHVfI2/BEAAAAAAAAD4f7aE+DdX2N6/AAAAAAAA+H8AAAAAAAD4fwAAAAAAAPh/AAAAAAAA+H8AAAAAAAD4fwAAAAAAAPh/AAAAAAAA+H+ofV/mQ/nJPwAAAAAAAPh/AAAAAAAA+H8AAAAAAAD4fz8vZFY7X+E/\",\"dtype\":\"float64\",\"shape\":[51]},\"deathRate\":{\"__ndarray__\":\"DSqc7KYphT+1x4MLpT2OP+QWxs9UhZU/oEMjhsUxkz8mIKNhAjKqP6/r85dF3YQ/bZa83by2gD/dj3GrdNOHP89ySf9WiqI/E4BsE4Bsgz9QxgYBZWygP88ezhMpaIo/zjRwrrLbkj9o1P4LRTyWP9aHxvrQWG8/Rb01riafhz/XulQyZ2GBP4zTr8E4/Zo/AqHkTtHCWT/w+MMBjz98PwgEAoFAIJA/BDTX95dRkD8ZkEOACVaJPxEREREREWE/LvY4TwGSlz/BeCv7HFKTPxiGYRiGYZg/ms/1x8tgZD/D7OAIIq13P7mSwLwndHg/+DPhz4Q/oz/nnHPOOeecP75jamDvmIo/AAAAAAAAAAAAAAAAAAAAAJIkSZIkSZI/2TMQlY7sqT8AAAAAAAAAAIqG+OPW5X0/AAAAAAAAAAAAAAAAAAAAAAAAAAAAAAAAAAAAAAAAAAAAAAAAAAAAAAAAAAAAAAAAAAAAAAAAAAANJ3VfHluRPwAAAAAAAAAAAAAAAAAAAAAAAAAAAAAAAGQhC1nIQpY/\",\"dtype\":\"float64\",\"shape\":[51]},\"deathShare\":{\"__ndarray__\":\"Q3kN5TWU1z8Bz6fHzdivPyivobyG8qo/iyJnr2QRpT+yAmGkHSvAP54S5ClBnpI/Fb8kQqpljT+yxbUyrYmWPwHPp8fN2K8/n5iNRmBbjz9jfxgsHJmjP9mlrydmo5E/Y38YLByZkz+eEuQpQZ6SP3cy6jSIhGc/Y38YLByZgz93Muo0iIR3PxQ5eyWLqJA/n5iNRmBbTz+fmI1GYFtvP5+YjUZgW38/n5iNRmBbfz93Muo0iIR3P5+YjUZgW08/2aWvJ2ajgT+fmI1GYFt/P2N/GCwcmYM/n5iNRmBbTz+fmI1GYFtfP5+YjUZgW18/Y38YLByZgz+L5bs99G97P3cy6jSIhGc/AAAAAAAA+H8AAAAAAAD4f3cy6jSIhGc/n5iNRmBbfz8AAAAAAAD4f5+YjUZgW08/AAAAAAAA+H8AAAAAAAD4fwAAAAAAAPh/AAAAAAAA+H8AAAAAAAD4fwAAAAAAAPh/AAAAAAAA+H+fmI1GYFtPPwAAAAAAAPh/AAAAAAAA+H8AAAAAAAD4f5+YjUZgW08/\",\"dtype\":\"float64\",\"shape\":[51]},\"expectedCases\":{\"__ndarray__\":\"evktZML/sEB5xonQ00GfQJOOnJsDdsFAnvk6kSuRoUCGhPkUiUWbQMtRXszAI6ZA67wWHdxmmEAnNUYzJDuzQLMgOcJOP5BAMOCStetrpkA1y4aIi8aiQEVZPZFjxblAS+7+rxhylEBri3oCxuyIQJXx768aIJhA55KxgnSLpEASlblJrHeUQH0vfOnNl5dA+7PZIfGOokDQX2DE1UaVQAOOsyC4zplAmA2hPfqTlUDIo8H2LemEQH6LpVR1K5FASt6hk+wrnkDcXHBSITmSQP5IGk+D9oVAZY6hIqD1hkDKHQSZZPCTQKu4o5pAQoVAva8alGgWjkAkfdBvT6qLQAD9o/lvKmRAYmrMThF6j0DeKzK1fD6GQP3RLzXhW4RA5HlU8O+SYUCca4TKF9RyQCc5MzBEL3NAutGxroKNbUA7iCGysIBrQHcgw22TjHlAAUlI/FdVfUCcw8EZscNzQPWU72JXUXtApsy4yrBobkBWp6XN0IlkQIm2GUByu19AIgUTHmNQZUDW6kHFWeB4QAUD9hGURGlA\",\"dtype\":\"float64\",\"shape\":[51]},\"expectedDeaths\":{\"__ndarray__\":\"n4Ny3LlngECij05kGgNPQIMNgQ7Rb0JA8ICRcUcpQEDaOA8ZFi1CQCHaqewiRzpAiwvoCb/lOUD3a4sUINs7QPvevLOkSjlApKS1KBXFN0BKDOTC+5ExQHJHqdVuqzNATZUfs3+aLkCshiSPU6goQLH5VS7YFyZAsii7G51uKEAr0X8XXOwjQNo4DxkWLSJAIa841yjsIUBLHVevK1ggQAKfRUGDoRxAC5InlPFKHEClwqcpqlUbQCwNZBmGDRtAMqJ7kWoJFkCB6aDJi+UXQIeLN1bVqxdAomTdTiCoFkD2QBr/JYATQId+uEFw4RJA3tK99cn7DUAUhQnnX/QLQEfmCRLRCQpAq1e/oY5RBkDkWlZZSS0EQAXWkt7d7wJAJACEnU3PAUAt82Xwu3gBQMZKY8Oj4v4/5HRUghPC/T/wuIGbpk79PxonoHOpuvs/XB0ZftI/+T/D3xnUtGr1P0jMC+kGdfA/VBA5ApoB8D84UZEyGZrqP4HpoMmL5ec/jS3O4h5y5z+Zcfv7sf7mP9XF3XmRveQ/\",\"dtype\":\"float64\",\"shape\":[51]},\"infectionRate\":{\"__ndarray__\":\"IyeADHVmXz/Yo4LfFCRAP9kwIz14LRE/ITa/quHuLT8zKANTdK81P38h9KMsTyM/sDhYsP5DMT/OgknzkZAXP14Pf6gUUzk/M70w8Co/IT9oTD+avHIeP8ys9yxt1Qg/f+Jtw9hZKD/P/BdrDRgwP5gf4ILNyx0/lBt23L9YEz9sdbGc/asfP9up1aYKERk/N/Ly2Q9sDz/rsg+cjf4YPwy5z09cDBI/LJqADrhUFT+/SriFH0QlP3/YypL7oRk/y4wPhq/DBz+yXyvlWVUVP9pPoUypiCE/z4IRWNANID/Fxb/mStIPPwcKFvWn5Rw//YchnlU2ED99KuvyR3AQP9Eynx2PATU/d5K2+PsRBz8hULC+YYMNP7fRPKyzQw4/H6ZC/pt8MD8zgM8HMjEeP5nyDtnJMBo/TBzdJKphID81KuLp/FUhP09w4CYXqBE/HMABHMABDD+LxSNH66ARP2vplJzymQM/jgYwBFkgET8hFIhmSxIVPzViLp+vgBg/Mnf720XlET+2LrH+eRP+PrAHa6MFtQo/\",\"dtype\":\"float64\",\"shape\":[51]},\"population\":[19440469,8936574,39937489,10045029,7797095,12659682,6976597,21992985,4645184,12820878,10736059,29472295,5845526,3563077,6897576,11747694,5851754,6745354,10611862,6083116,7378494,6169270,2989260,4908921,8626207,5210095,3139658,3282115,5700671,3038999,4301089,3954821,720687,4499692,3179849,2910357,628061,1345790,1371246,1056161,982895,1826156,2096640,1412687,1952570,1086759,734002,567025,761723,1778070,903027],\"recoveryRate\":{\"__ndarray__\":\"AAAAAAAAAADRuAPgisY9Pzuy8sckyGI/AAAAAAAAAAAAAAAAAAAAAMokVMPpkVE/dKBAqPzTQT8AAAAAAAAAAAAAAAAAAAAAGzC1GjC1ej8AAAAAAAAAACloGow1I4A/AAAAAAAAAAAAAAAAAAAAAAAAAAAAAAAAAAAAAAAAAAAf+XCYiSxXPwAAAAAAAAAAAAAAAAAAAAAAAAAAAAAAAAAAAAAAAAAAAAAAAAAAAAAAAAAAAAAAAAAAAAAAAAAAm0zdYo/zZD8AAAAAAAAAAAAAAAAAAAAAAAAAAAAAAAAAAAAAAAAAAAAAAAAAAAAAAAAAAAAAAAAAAAAAAAAAAEYXXXTRRbc/AAAAAAAAAAAAAAAAAAAAAAAAAAAAAAAAAAAAAAAAAADSExw9wdGTPwAAAAAAAAAAAAAAAAAAAAAAAAAAAAAAAAAAAAAAAAAAAAAAAAAAAAAAAAAAAAAAAAAAAAAAAAAAAAAAAAAAAAAAAAAAAAAAAAAAAAAAAAAAAAAAAAAAAAAAAAAAAAAAACELWchCFtI/\",\"dtype\":\"float64\",\"shape\":[51]},\"recoveryShare\":{\"__ndarray__\":\"AAAAAAAAAAAcx3Ecx3GcP1VVVVVVVbU/AAAAAAAAAAAAAAAAAAAAABzHcRzHcZw/HMdxHMdxjD8AAAAAAAAAAAAAAAAAAAAA5DiO4ziOwz8AAAAAAAAAAOQ4juM4jsM/AAAAAAAAAAAAAAAAAAAAAAAAAAAAAAAAAAAAAAAAAAAcx3Ecx3GMPwAAAAAAAAAAAAAAAAAAAAAAAAAAAAAAAAAAAAAAAAAAAAAAAAAAAAAAAAAAAAAAAAAAAAAAAAAAHMdxHMdxjD8AAAAAAAAAAAAAAAAAAAAAAAAAAAAAAAAAAAAAAAAAAAAAAAAAAAAAAAAAAAAAAAAAAAAAAAAAAKuqqqqqqtI/AAAAAAAAAAAAAAAAAAAAAAAAAAAAAAAAAAAAAAAAAABVVVVVVVWlPwAAAAAAAAAAAAAAAAAAAAAAAAAAAAAAAAAAAAAAAAAAAAAAAAAAAAAAAAAAAAAAAAAAAAAAAAAAAAAAAAAAAAAAAAAAAAAAAAAAAAAAAAAAAAAAAAAAAAAAAAAAAAAAAMdxHMdxHMc/\",\"dtype\":\"float64\",\"shape\":[51]},\"state_name\":[\"New York\",\"New Jersey\",\"California\",\"Michigan\",\"Washington\",\"Illinois\",\"Massachusetts\",\"Florida\",\"Louisiana\",\"Pennsylvania\",\"Georgia\",\"Texas\",\"Colorado\",\"Connecticut\",\"Tennessee\",\"Ohio\",\"Wisconsin\",\"Indiana\",\"North Carolina\",\"Maryland\",\"Arizona\",\"Missouri\",\"Mississippi\",\"Alabama\",\"Virginia\",\"South Carolina\",\"Nevada\",\"Utah\",\"Minnesota\",\"Arkansas\",\"Oregon\",\"Oklahoma\",\"District of Columbia\",\"Kentucky\",\"Iowa\",\"Kansas\",\"Vermont\",\"Maine\",\"New Hampshire\",\"Rhode Island\",\"Delaware\",\"Idaho\",\"New Mexico\",\"Hawaii\",\"Nebraska\",\"Montana\",\"Alaska\",\"Wyoming\",\"North Dakota\",\"West Virginia\",\"South Dakota\"],\"totalConfirmed\":[37258,4402,2617,2294,2580,1865,1838,1977,1795,1687,1247,1396,1086,875,784,867,707,645,636,580,508,502,485,480,391,424,420,402,346,335,266,248,231,198,179,168,158,155,137,132,130,123,112,95,73,71,59,53,52,51,46],\"totalDeaths\":{\"__ndarray__\":\"AAAAAAAQeEAAAAAAAEBQQAAAAAAAgEtAAAAAAACARUAAAAAAAIBgQAAAAAAAADNAAAAAAAAALkAAAAAAAAA3QAAAAAAAQFBAAAAAAAAAMEAAAAAAAABEQAAAAAAAADJAAAAAAAAANEAAAAAAAAAzQAAAAAAAAAhAAAAAAAAAJEAAAAAAAAAYQAAAAAAAADFAAAAAAAAA8D8AAAAAAAAQQAAAAAAAACBAAAAAAAAAIEAAAAAAAAAYQAAAAAAAAPA/AAAAAAAAIkAAAAAAAAAgQAAAAAAAACRAAAAAAAAA8D8AAAAAAAAAQAAAAAAAAABAAAAAAAAAJEAAAAAAAAAcQAAAAAAAAAhAAAAAAAAA+H8AAAAAAAD4fwAAAAAAAAhAAAAAAAAAIEAAAAAAAAD4fwAAAAAAAPA/AAAAAAAA+H8AAAAAAAD4fwAAAAAAAPh/AAAAAAAA+H8AAAAAAAD4fwAAAAAAAPh/AAAAAAAA+H8AAAAAAADwPwAAAAAAAPh/AAAAAAAA+H8AAAAAAAD4fwAAAAAAAPA/\",\"dtype\":\"float64\",\"shape\":[51]},\"totalRecovered\":{\"__ndarray__\":\"AAAAAAAAAAAAAAAAAAAAQAAAAAAAABhAAAAAAAAAAAAAAAAAAAAAAAAAAAAAAABAAAAAAAAA8D8AAAAAAAAAAAAAAAAAAAAAAAAAAAAAJkAAAAAAAAAAAAAAAAAAACZAAAAAAAAAAAAAAAAAAAAAAAAAAAAAAAAAAAAAAAAAAAAAAAAAAADwPwAAAAAAAAAAAAAAAAAAAAAAAAAAAAAAAAAAAAAAAAAAAAAAAAAAAAAAAAAAAAAAAAAAAAAAAAAAAAAAAAAA8D8AAAAAAAAAAAAAAAAAAAAAAAAAAAAAAAAAAAAAAAAAAAAAAAAAAAAAAAAAAAAAAAAAAAAAAAAAAAAAAAAAADVAAAAAAAAAAAAAAAAAAAAAAAAAAAAAAAAAAAAAAAAAAAAAAAAAAAAIQAAAAAAAAAAAAAAAAAAAAAAAAAAAAAAAAAAAAAAAAAAAAAAAAAAAAAAAAAAAAAAAAAAAAAAAAAAAAAAAAAAAAAAAAAAAAAAAAAAAAAAAAAAAAAAAAAAAAAAAAAAAAAAAAAAAAAAAACpA\",\"dtype\":\"float64\",\"shape\":[51]}},\"selected\":{\"id\":\"1298\"},\"selection_policy\":{\"id\":\"1297\"}},\"id\":\"1003\",\"type\":\"ColumnDataSource\"},{\"attributes\":{\"axis\":{\"id\":\"1054\"},\"dimension\":1,\"ticker\":null},\"id\":\"1057\",\"type\":\"Grid\"},{\"attributes\":{\"fill_color\":{\"value\":\"#1f77b4\"},\"line_color\":{\"value\":\"white\"},\"top\":{\"field\":\"totalDeaths\"},\"width\":{\"value\":0.5},\"x\":{\"field\":\"state_name\"}},\"id\":\"1072\",\"type\":\"VBar\"},{\"attributes\":{},\"id\":\"1297\",\"type\":\"UnionRenderers\"},{\"attributes\":{\"fill_alpha\":{\"value\":0.1},\"fill_color\":{\"value\":\"#1f77b4\"},\"line_alpha\":{\"value\":0.1},\"line_color\":{\"value\":\"white\"},\"top\":{\"field\":\"totalDeaths\"},\"width\":{\"value\":0.5},\"x\":{\"field\":\"state_name\"}},\"id\":\"1073\",\"type\":\"VBar\"},{\"attributes\":{},\"id\":\"1058\",\"type\":\"PanTool\"},{\"attributes\":{},\"id\":\"1059\",\"type\":\"WheelZoomTool\"},{\"attributes\":{\"overlay\":{\"id\":\"1699\"}},\"id\":\"1060\",\"type\":\"BoxZoomTool\"},{\"attributes\":{},\"id\":\"1693\",\"type\":\"BasicTickFormatter\"},{\"attributes\":{},\"id\":\"1061\",\"type\":\"SaveTool\"},{\"attributes\":{\"text\":\"COVID Deaths: 1,045 - Death Rate: 1.4090%\"},\"id\":\"1041\",\"type\":\"Title\"},{\"attributes\":{},\"id\":\"1062\",\"type\":\"ResetTool\"},{\"attributes\":{},\"id\":\"1063\",\"type\":\"HelpTool\"},{\"attributes\":{\"factors\":[\"New York\",\"New Jersey\",\"California\",\"Michigan\",\"Washington\",\"Illinois\",\"Massachusetts\",\"Florida\",\"Louisiana\",\"Pennsylvania\",\"Georgia\",\"Texas\",\"Colorado\",\"Connecticut\",\"Tennessee\",\"Ohio\",\"Wisconsin\",\"Indiana\",\"North Carolina\",\"Maryland\",\"Arizona\",\"Missouri\",\"Mississippi\",\"Alabama\",\"Virginia\",\"South Carolina\",\"Nevada\",\"Utah\",\"Minnesota\",\"Arkansas\",\"Oregon\",\"Oklahoma\",\"District of Columbia\",\"Kentucky\",\"Iowa\",\"Kansas\",\"Vermont\",\"Maine\",\"New Hampshire\",\"Rhode Island\",\"Delaware\",\"Idaho\",\"New Mexico\",\"Hawaii\",\"Nebraska\",\"Montana\",\"Alaska\",\"Wyoming\",\"North Dakota\",\"West Virginia\",\"South Dakota\"]},\"id\":\"1043\",\"type\":\"FactorRange\"},{\"attributes\":{},\"id\":\"1298\",\"type\":\"Selection\"},{\"attributes\":{\"active_drag\":\"auto\",\"active_inspect\":\"auto\",\"active_multi\":null,\"active_scroll\":\"auto\",\"active_tap\":\"auto\",\"tools\":[{\"id\":\"1058\"},{\"id\":\"1059\"},{\"id\":\"1060\"},{\"id\":\"1061\"},{\"id\":\"1062\"},{\"id\":\"1063\"}]},\"id\":\"1064\",\"type\":\"Toolbar\"},{\"attributes\":{\"end\":449.8064686461034,\"start\":0},\"id\":\"1045\",\"type\":\"DataRange1d\"},{\"attributes\":{\"data_source\":{\"id\":\"1003\"},\"glyph\":{\"id\":\"1072\"},\"hover_glyph\":null,\"muted_glyph\":null,\"nonselection_glyph\":{\"id\":\"1073\"},\"selection_glyph\":null,\"view\":{\"id\":\"1075\"}},\"id\":\"1074\",\"type\":\"GlyphRenderer\"},{\"attributes\":{},\"id\":\"1047\",\"type\":\"CategoricalScale\"},{\"attributes\":{},\"id\":\"1695\",\"type\":\"CategoricalTickFormatter\"},{\"attributes\":{\"bottom_units\":\"screen\",\"fill_alpha\":0.5,\"fill_color\":\"lightgrey\",\"left_units\":\"screen\",\"level\":\"overlay\",\"line_alpha\":1.0,\"line_color\":\"black\",\"line_dash\":[4,4],\"line_width\":2,\"render_mode\":\"css\",\"right_units\":\"screen\",\"top_units\":\"screen\"},\"id\":\"1699\",\"type\":\"BoxAnnotation\"},{\"attributes\":{},\"id\":\"1049\",\"type\":\"LinearScale\"},{\"attributes\":{\"source\":{\"id\":\"1003\"}},\"id\":\"1075\",\"type\":\"CDSView\"},{\"attributes\":{\"formatter\":{\"id\":\"1695\"},\"major_label_orientation\":0.7853981633974483,\"ticker\":{\"id\":\"1052\"}},\"id\":\"1051\",\"type\":\"CategoricalAxis\"}],\"root_ids\":[\"1040\"]},\"title\":\"Bokeh Application\",\"version\":\"2.0.0\"}};\n",
       "  var render_items = [{\"docid\":\"63c647df-09bb-45eb-a548-1b505c227ec5\",\"root_ids\":[\"1040\"],\"roots\":{\"1040\":\"be1aa567-ce48-484f-b37b-6f321b4eb86a\"}}];\n",
       "  root.Bokeh.embed.embed_items_notebook(docs_json, render_items);\n",
       "\n",
       "  }\n",
       "  if (root.Bokeh !== undefined) {\n",
       "    embed_document(root);\n",
       "  } else {\n",
       "    var attempts = 0;\n",
       "    var timer = setInterval(function(root) {\n",
       "      if (root.Bokeh !== undefined) {\n",
       "        clearInterval(timer);\n",
       "        embed_document(root);\n",
       "      } else {\n",
       "        attempts++;\n",
       "        if (attempts > 100) {\n",
       "          clearInterval(timer);\n",
       "          console.log(\"Bokeh: ERROR: Unable to run BokehJS code because BokehJS library is missing\");\n",
       "        }\n",
       "      }\n",
       "    }, 10, root)\n",
       "  }\n",
       "})(window);"
      ],
      "application/vnd.bokehjs_exec.v0+json": ""
     },
     "metadata": {
      "application/vnd.bokehjs_exec.v0+json": {
       "id": "1040"
      }
     },
     "output_type": "display_data"
    },
    {
     "data": {
      "text/html": [
       "\n",
       "\n",
       "\n",
       "\n",
       "\n",
       "\n",
       "  <div class=\"bk-root\" id=\"f8a43013-8ea6-4a0f-a735-2a29250349b7\" data-root-id=\"1076\"></div>\n"
      ]
     },
     "metadata": {},
     "output_type": "display_data"
    },
    {
     "data": {
      "application/javascript": [
       "(function(root) {\n",
       "  function embed_document(root) {\n",
       "    \n",
       "  var docs_json = {\"0656645f-96bd-4373-87a1-8ef65410db3f\":{\"roots\":{\"references\":[{\"attributes\":{\"below\":[{\"id\":\"1087\"}],\"center\":[{\"id\":\"1089\"},{\"id\":\"1093\"}],\"left\":[{\"id\":\"1090\"}],\"plot_width\":1000,\"renderers\":[{\"id\":\"1110\"}],\"title\":{\"id\":\"1077\"},\"toolbar\":{\"id\":\"1100\"},\"x_range\":{\"id\":\"1079\"},\"x_scale\":{\"id\":\"1083\"},\"y_range\":{\"id\":\"1081\"},\"y_scale\":{\"id\":\"1085\"}},\"id\":\"1076\",\"subtype\":\"Figure\",\"type\":\"Plot\"},{\"attributes\":{\"active_drag\":\"auto\",\"active_inspect\":\"auto\",\"active_multi\":null,\"active_scroll\":\"auto\",\"active_tap\":\"auto\",\"tools\":[{\"id\":\"1094\"},{\"id\":\"1095\"},{\"id\":\"1096\"},{\"id\":\"1097\"},{\"id\":\"1098\"},{\"id\":\"1099\"}]},\"id\":\"1100\",\"type\":\"Toolbar\"},{\"attributes\":{},\"id\":\"1797\",\"type\":\"BasicTickFormatter\"},{\"attributes\":{\"factors\":[\"New York\",\"New Jersey\",\"California\",\"Michigan\",\"Washington\",\"Illinois\",\"Massachusetts\",\"Florida\",\"Louisiana\",\"Pennsylvania\",\"Georgia\",\"Texas\",\"Colorado\",\"Connecticut\",\"Tennessee\",\"Ohio\",\"Wisconsin\",\"Indiana\",\"North Carolina\",\"Maryland\",\"Arizona\",\"Missouri\",\"Mississippi\",\"Alabama\",\"Virginia\",\"South Carolina\",\"Nevada\",\"Utah\",\"Minnesota\",\"Arkansas\",\"Oregon\",\"Oklahoma\",\"District of Columbia\",\"Kentucky\",\"Iowa\",\"Kansas\",\"Vermont\",\"Maine\",\"New Hampshire\",\"Rhode Island\",\"Delaware\",\"Idaho\",\"New Mexico\",\"Hawaii\",\"Nebraska\",\"Montana\",\"Alaska\",\"Wyoming\",\"North Dakota\",\"West Virginia\",\"South Dakota\"]},\"id\":\"1079\",\"type\":\"FactorRange\"},{\"attributes\":{\"source\":{\"id\":\"1003\"}},\"id\":\"1111\",\"type\":\"CDSView\"},{\"attributes\":{\"end\":25.01585094637854,\"start\":0},\"id\":\"1081\",\"type\":\"DataRange1d\"},{\"attributes\":{},\"id\":\"1083\",\"type\":\"CategoricalScale\"},{\"attributes\":{\"data\":{\"caseDelta\":{\"__ndarray__\":\"0UB6s0cR4EDEHLsXFsOiQCYdOTcHs7jAgJhBsRu1RkD09gzW7RSKQCxHeTEDR47AVAyli49EcUBOaoxmSASnwJq+jXtimYdAYMAla9d7ksBqlg0RFxGSwEVZPZFjUbTAWHL3f8XQa8CopCvsz1lTQCrj3181wIfAziVjBemKm8AkKnOTWNeCwPpe+NKbB4vA9mezQ+Itm8Cgv8CIq22IwAOOsyC43pHAMBtCe/R3i8AgjwbbtwRnwPwWS6nqVoPASt6hk+wPmMC4ueCkQjKHwPyRNJ4GrXHAyhxDRUDLdMCUOwgyyRCNwFZxRzWBlHXAva8alGjGhcAkfdBvT+qDwAAGuAwga1FAYmrMThFKicDeKzK1fKaAwPqjX2rCN37A4DBcfYBoMUA41wiVL0hiwE5yZmCIPmXAdKNjXQUbWsB2EENkYYFWwHcgw22T3HHAAUlI/FdVdsA4h4MzYqdrwPWU72JXwXbApsy4yrCIZcCsTkuboVNawIm2GUBye1LARAomPMagXcDW6kHFWbB1wAUD9hGUhGPA\",\"dtype\":\"float64\",\"shape\":[51]},\"caseDeltaRate\":{\"__ndarray__\":\"BerOshI/HkDutuO1PDXzPymwvxX4oea/+taDuYyulD/P74mllJreP0PGWEyK4dW/yK+4qgelxj82B7WpUCbjvw7ACzRuPec/Dfe8mkVh2r/3qcQTvcrev0ZBOwWVOum/BolgO3DExb/pYt1l/Ne4PzoYDLvNgN+/rs6S3ylz5b/vbeBFF3Xdv2VQqaSnVOK/Gb+WHLRu57/FeS6rvF7iv8+K3wxsKOa/GOvIRShe5L/2zgtY1JzRv+tWaJCdBeK/Tpg5ajiF6b/9nMkE0F3kvxZo9Sr2wNm/7Hv5wFX73L+nRxRO1FLnvzNxmdLnPeC/G+2orbwo57+asCo2Iwnnv7y7NW7zo9s/qePgJ6y16b/bZbx98vPnv5o4XFqCv+e/DkTbBbuyvz/3BuF6OBLfv0mgPpW9t+G/D3eox25E3L8YOxabfi/avzKa/fgZX+a/obKR9hdd6L+g6dAcA2Pmvx1hCwjOp+q/4h4x8B+p5r9NQCdDYYLkv73JtPtfo+K/1HVzxrw95r87aMJDVObrv6SJcMDQt+i/\",\"dtype\":\"float64\",\"shape\":[51]},\"caseShare\":{\"__ndarray__\":\"W+hyYVQT4D/Jiuixj2OuP4idp/j3EKI/RR1QcUasnz87W3NOlM+hP3037i/zv5k/gz4zU4RgmT9BU+wF0kubPyNmL+qHyJg/OIJDd8xKlz/bgm/llzeRPzkj1g8+RpM/4nWkIw/9jT/WcaLPeSmIP7iE5bMvpoU/cZJZQ+zwhz+KHqhN3YWDPztbc06Uz4E/6V+hEPWPgT8lRKM6FgSAPy3TJpg4Dnw/FYS5RWS5ez+nzoOxCsl6P2m3KMJZgno/30zTUAyYdT/hfywWnGp3P3yg44kOMnc/NbObkpEzdj+te5/m0xtzP1cV16ROgHI/jA/c4YlhbT/+NEzzj2RrPyLK4Mrcg2k/HWQuQL3eZT/cGXqLfMVjPzBN6QdyjmI/NvB8Sq5zYT8foQ/42R5hPyCN/xLAQ14/JzCTVfwoXT9ccQE94bdcP5hVA2cCLFs/QLzhX+29WD+J5goPh/xUP9ezxwBdIFA/Gupr0INeTz+f+JapPhFKP+F/LBacakc/F8Ga/YD5Rj9NAgnlZYhGP1lIMGreUkQ/\",\"dtype\":\"float64\",\"shape\":[51]},\"deathDelta\":{\"__ndarray__\":\"fA7Kced+YcDgBRe7Wc4HQPrk/eJdIDJAQPy5OeJaJUCTY3jzdOlXQIRop7KLHB3AFhfQE37LJcDcry1SgGwTwIKQIaat2kNAkJLWolQUH8C28xs9BG42QCB3lFrttvq/ZtXAmQDLEkCo8rbhWK8aQLH5VS7YFyDAyKLsbnS6AcCsRP9dcLEPwEyO4c3TpR9AQl5xrlHYH8CWOq5eV7AQwPAH0/Xl8+o/qG/DXnOo7T8oFT5NUa3qvywNZBmGDRfAnLsI3SrtC0D+LL5s6DQAQHl0yKkqVBBAomTdTiCoEsDsgTT+SwAHwA79cIPgwgXAkRYhBRsCGUDsevYYoAsMQDgyT5CITtC/AAAAAAAA+H8AAAAAAAD4f+yntIWIQOQ/7v89MVkYF0AAAAAAAAD4f4yVxoZHxe2/AAAAAAAA+H8AAAAAAAD4fwAAAAAAAPh/AAAAAAAA+H8AAAAAAAD4fwAAAAAAAPh/AAAAAAAA+H8gu7o1m5fFPwAAAAAAAPh/AAAAAAAA+H8AAAAAAAD4f1Z0RAzdhNY/\",\"dtype\":\"float64\",\"shape\":[51]},\"deathDeltaRate\":{\"__ndarray__\":\"/G5LaEgQ0b+pJXPLe5CoP2joXhoadt8/jn46tFYk1T+SUiQ+kgwFQOXuGWevudG/4Vm630Lu2r86CqSNPlDGv6kXzkrTHvk/pb44xpPr1L8lqtOv2mz0P6mhOrgGu7W/Tzv0Tomm0z+HBpl1yVDhPwiXM708T+e/oyr0Z0E4x78grbTXvnPZv2rB7QPY2+s/7pNce9dt7L9mOW8LUFbgv575dNrUH74/IEKl2qbFwD9BQg+H6zq/vwFEdIO9ROu/6RNqTLdG5D+1IVJvzLPVP10bhtj3EuY/RzpCQbhZ6r/8OF2HR9/ivxC/a2ntcOK/td9puKiw+j8ojpHHTg3wP5OInyBSCrS/AAAAAAAA+H8AAAAAAAD4fw4pycRzHNE/LuHVfI2/BEAAAAAAAAD4f7aE+DdX2N6/AAAAAAAA+H8AAAAAAAD4fwAAAAAAAPh/AAAAAAAA+H8AAAAAAAD4fwAAAAAAAPh/AAAAAAAA+H+ofV/mQ/nJPwAAAAAAAPh/AAAAAAAA+H8AAAAAAAD4fz8vZFY7X+E/\",\"dtype\":\"float64\",\"shape\":[51]},\"deathRate\":{\"__ndarray__\":\"DSqc7KYphT+1x4MLpT2OP+QWxs9UhZU/oEMjhsUxkz8mIKNhAjKqP6/r85dF3YQ/bZa83by2gD/dj3GrdNOHP89ySf9WiqI/E4BsE4Bsgz9QxgYBZWygP88ezhMpaIo/zjRwrrLbkj9o1P4LRTyWP9aHxvrQWG8/Rb01riafhz/XulQyZ2GBP4zTr8E4/Zo/AqHkTtHCWT/w+MMBjz98PwgEAoFAIJA/BDTX95dRkD8ZkEOACVaJPxEREREREWE/LvY4TwGSlz/BeCv7HFKTPxiGYRiGYZg/ms/1x8tgZD/D7OAIIq13P7mSwLwndHg/+DPhz4Q/oz/nnHPOOeecP75jamDvmIo/AAAAAAAAAAAAAAAAAAAAAJIkSZIkSZI/2TMQlY7sqT8AAAAAAAAAAIqG+OPW5X0/AAAAAAAAAAAAAAAAAAAAAAAAAAAAAAAAAAAAAAAAAAAAAAAAAAAAAAAAAAAAAAAAAAAAAAAAAAANJ3VfHluRPwAAAAAAAAAAAAAAAAAAAAAAAAAAAAAAAGQhC1nIQpY/\",\"dtype\":\"float64\",\"shape\":[51]},\"deathShare\":{\"__ndarray__\":\"Q3kN5TWU1z8Bz6fHzdivPyivobyG8qo/iyJnr2QRpT+yAmGkHSvAP54S5ClBnpI/Fb8kQqpljT+yxbUyrYmWPwHPp8fN2K8/n5iNRmBbjz9jfxgsHJmjP9mlrydmo5E/Y38YLByZkz+eEuQpQZ6SP3cy6jSIhGc/Y38YLByZgz93Muo0iIR3PxQ5eyWLqJA/n5iNRmBbTz+fmI1GYFtvP5+YjUZgW38/n5iNRmBbfz93Muo0iIR3P5+YjUZgW08/2aWvJ2ajgT+fmI1GYFt/P2N/GCwcmYM/n5iNRmBbTz+fmI1GYFtfP5+YjUZgW18/Y38YLByZgz+L5bs99G97P3cy6jSIhGc/AAAAAAAA+H8AAAAAAAD4f3cy6jSIhGc/n5iNRmBbfz8AAAAAAAD4f5+YjUZgW08/AAAAAAAA+H8AAAAAAAD4fwAAAAAAAPh/AAAAAAAA+H8AAAAAAAD4fwAAAAAAAPh/AAAAAAAA+H+fmI1GYFtPPwAAAAAAAPh/AAAAAAAA+H8AAAAAAAD4f5+YjUZgW08/\",\"dtype\":\"float64\",\"shape\":[51]},\"expectedCases\":{\"__ndarray__\":\"evktZML/sEB5xonQ00GfQJOOnJsDdsFAnvk6kSuRoUCGhPkUiUWbQMtRXszAI6ZA67wWHdxmmEAnNUYzJDuzQLMgOcJOP5BAMOCStetrpkA1y4aIi8aiQEVZPZFjxblAS+7+rxhylEBri3oCxuyIQJXx768aIJhA55KxgnSLpEASlblJrHeUQH0vfOnNl5dA+7PZIfGOokDQX2DE1UaVQAOOsyC4zplAmA2hPfqTlUDIo8H2LemEQH6LpVR1K5FASt6hk+wrnkDcXHBSITmSQP5IGk+D9oVAZY6hIqD1hkDKHQSZZPCTQKu4o5pAQoVAva8alGgWjkAkfdBvT6qLQAD9o/lvKmRAYmrMThF6j0DeKzK1fD6GQP3RLzXhW4RA5HlU8O+SYUCca4TKF9RyQCc5MzBEL3NAutGxroKNbUA7iCGysIBrQHcgw22TjHlAAUlI/FdVfUCcw8EZscNzQPWU72JXUXtApsy4yrBobkBWp6XN0IlkQIm2GUByu19AIgUTHmNQZUDW6kHFWeB4QAUD9hGURGlA\",\"dtype\":\"float64\",\"shape\":[51]},\"expectedDeaths\":{\"__ndarray__\":\"n4Ny3LlngECij05kGgNPQIMNgQ7Rb0JA8ICRcUcpQEDaOA8ZFi1CQCHaqewiRzpAiwvoCb/lOUD3a4sUINs7QPvevLOkSjlApKS1KBXFN0BKDOTC+5ExQHJHqdVuqzNATZUfs3+aLkCshiSPU6goQLH5VS7YFyZAsii7G51uKEAr0X8XXOwjQNo4DxkWLSJAIa841yjsIUBLHVevK1ggQAKfRUGDoRxAC5InlPFKHEClwqcpqlUbQCwNZBmGDRtAMqJ7kWoJFkCB6aDJi+UXQIeLN1bVqxdAomTdTiCoFkD2QBr/JYATQId+uEFw4RJA3tK99cn7DUAUhQnnX/QLQEfmCRLRCQpAq1e/oY5RBkDkWlZZSS0EQAXWkt7d7wJAJACEnU3PAUAt82Xwu3gBQMZKY8Oj4v4/5HRUghPC/T/wuIGbpk79PxonoHOpuvs/XB0ZftI/+T/D3xnUtGr1P0jMC+kGdfA/VBA5ApoB8D84UZEyGZrqP4HpoMmL5ec/jS3O4h5y5z+Zcfv7sf7mP9XF3XmRveQ/\",\"dtype\":\"float64\",\"shape\":[51]},\"infectionRate\":{\"__ndarray__\":\"IyeADHVmXz/Yo4LfFCRAP9kwIz14LRE/ITa/quHuLT8zKANTdK81P38h9KMsTyM/sDhYsP5DMT/OgknzkZAXP14Pf6gUUzk/M70w8Co/IT9oTD+avHIeP8ys9yxt1Qg/f+Jtw9hZKD/P/BdrDRgwP5gf4ILNyx0/lBt23L9YEz9sdbGc/asfP9up1aYKERk/N/Ly2Q9sDz/rsg+cjf4YPwy5z09cDBI/LJqADrhUFT+/SriFH0QlP3/YypL7oRk/y4wPhq/DBz+yXyvlWVUVP9pPoUypiCE/z4IRWNANID/Fxb/mStIPPwcKFvWn5Rw//YchnlU2ED99KuvyR3AQP9Eynx2PATU/d5K2+PsRBz8hULC+YYMNP7fRPKyzQw4/H6ZC/pt8MD8zgM8HMjEeP5nyDtnJMBo/TBzdJKphID81KuLp/FUhP09w4CYXqBE/HMABHMABDD+LxSNH66ARP2vplJzymQM/jgYwBFkgET8hFIhmSxIVPzViLp+vgBg/Mnf720XlET+2LrH+eRP+PrAHa6MFtQo/\",\"dtype\":\"float64\",\"shape\":[51]},\"population\":[19440469,8936574,39937489,10045029,7797095,12659682,6976597,21992985,4645184,12820878,10736059,29472295,5845526,3563077,6897576,11747694,5851754,6745354,10611862,6083116,7378494,6169270,2989260,4908921,8626207,5210095,3139658,3282115,5700671,3038999,4301089,3954821,720687,4499692,3179849,2910357,628061,1345790,1371246,1056161,982895,1826156,2096640,1412687,1952570,1086759,734002,567025,761723,1778070,903027],\"recoveryRate\":{\"__ndarray__\":\"AAAAAAAAAADRuAPgisY9Pzuy8sckyGI/AAAAAAAAAAAAAAAAAAAAAMokVMPpkVE/dKBAqPzTQT8AAAAAAAAAAAAAAAAAAAAAGzC1GjC1ej8AAAAAAAAAACloGow1I4A/AAAAAAAAAAAAAAAAAAAAAAAAAAAAAAAAAAAAAAAAAAAf+XCYiSxXPwAAAAAAAAAAAAAAAAAAAAAAAAAAAAAAAAAAAAAAAAAAAAAAAAAAAAAAAAAAAAAAAAAAAAAAAAAAm0zdYo/zZD8AAAAAAAAAAAAAAAAAAAAAAAAAAAAAAAAAAAAAAAAAAAAAAAAAAAAAAAAAAAAAAAAAAAAAAAAAAEYXXXTRRbc/AAAAAAAAAAAAAAAAAAAAAAAAAAAAAAAAAAAAAAAAAADSExw9wdGTPwAAAAAAAAAAAAAAAAAAAAAAAAAAAAAAAAAAAAAAAAAAAAAAAAAAAAAAAAAAAAAAAAAAAAAAAAAAAAAAAAAAAAAAAAAAAAAAAAAAAAAAAAAAAAAAAAAAAAAAAAAAAAAAACELWchCFtI/\",\"dtype\":\"float64\",\"shape\":[51]},\"recoveryShare\":{\"__ndarray__\":\"AAAAAAAAAAAcx3Ecx3GcP1VVVVVVVbU/AAAAAAAAAAAAAAAAAAAAABzHcRzHcZw/HMdxHMdxjD8AAAAAAAAAAAAAAAAAAAAA5DiO4ziOwz8AAAAAAAAAAOQ4juM4jsM/AAAAAAAAAAAAAAAAAAAAAAAAAAAAAAAAAAAAAAAAAAAcx3Ecx3GMPwAAAAAAAAAAAAAAAAAAAAAAAAAAAAAAAAAAAAAAAAAAAAAAAAAAAAAAAAAAAAAAAAAAAAAAAAAAHMdxHMdxjD8AAAAAAAAAAAAAAAAAAAAAAAAAAAAAAAAAAAAAAAAAAAAAAAAAAAAAAAAAAAAAAAAAAAAAAAAAAKuqqqqqqtI/AAAAAAAAAAAAAAAAAAAAAAAAAAAAAAAAAAAAAAAAAABVVVVVVVWlPwAAAAAAAAAAAAAAAAAAAAAAAAAAAAAAAAAAAAAAAAAAAAAAAAAAAAAAAAAAAAAAAAAAAAAAAAAAAAAAAAAAAAAAAAAAAAAAAAAAAAAAAAAAAAAAAAAAAAAAAAAAAAAAAMdxHMdxHMc/\",\"dtype\":\"float64\",\"shape\":[51]},\"state_name\":[\"New York\",\"New Jersey\",\"California\",\"Michigan\",\"Washington\",\"Illinois\",\"Massachusetts\",\"Florida\",\"Louisiana\",\"Pennsylvania\",\"Georgia\",\"Texas\",\"Colorado\",\"Connecticut\",\"Tennessee\",\"Ohio\",\"Wisconsin\",\"Indiana\",\"North Carolina\",\"Maryland\",\"Arizona\",\"Missouri\",\"Mississippi\",\"Alabama\",\"Virginia\",\"South Carolina\",\"Nevada\",\"Utah\",\"Minnesota\",\"Arkansas\",\"Oregon\",\"Oklahoma\",\"District of Columbia\",\"Kentucky\",\"Iowa\",\"Kansas\",\"Vermont\",\"Maine\",\"New Hampshire\",\"Rhode Island\",\"Delaware\",\"Idaho\",\"New Mexico\",\"Hawaii\",\"Nebraska\",\"Montana\",\"Alaska\",\"Wyoming\",\"North Dakota\",\"West Virginia\",\"South Dakota\"],\"totalConfirmed\":[37258,4402,2617,2294,2580,1865,1838,1977,1795,1687,1247,1396,1086,875,784,867,707,645,636,580,508,502,485,480,391,424,420,402,346,335,266,248,231,198,179,168,158,155,137,132,130,123,112,95,73,71,59,53,52,51,46],\"totalDeaths\":{\"__ndarray__\":\"AAAAAAAQeEAAAAAAAEBQQAAAAAAAgEtAAAAAAACARUAAAAAAAIBgQAAAAAAAADNAAAAAAAAALkAAAAAAAAA3QAAAAAAAQFBAAAAAAAAAMEAAAAAAAABEQAAAAAAAADJAAAAAAAAANEAAAAAAAAAzQAAAAAAAAAhAAAAAAAAAJEAAAAAAAAAYQAAAAAAAADFAAAAAAAAA8D8AAAAAAAAQQAAAAAAAACBAAAAAAAAAIEAAAAAAAAAYQAAAAAAAAPA/AAAAAAAAIkAAAAAAAAAgQAAAAAAAACRAAAAAAAAA8D8AAAAAAAAAQAAAAAAAAABAAAAAAAAAJEAAAAAAAAAcQAAAAAAAAAhAAAAAAAAA+H8AAAAAAAD4fwAAAAAAAAhAAAAAAAAAIEAAAAAAAAD4fwAAAAAAAPA/AAAAAAAA+H8AAAAAAAD4fwAAAAAAAPh/AAAAAAAA+H8AAAAAAAD4fwAAAAAAAPh/AAAAAAAA+H8AAAAAAADwPwAAAAAAAPh/AAAAAAAA+H8AAAAAAAD4fwAAAAAAAPA/\",\"dtype\":\"float64\",\"shape\":[51]},\"totalRecovered\":{\"__ndarray__\":\"AAAAAAAAAAAAAAAAAAAAQAAAAAAAABhAAAAAAAAAAAAAAAAAAAAAAAAAAAAAAABAAAAAAAAA8D8AAAAAAAAAAAAAAAAAAAAAAAAAAAAAJkAAAAAAAAAAAAAAAAAAACZAAAAAAAAAAAAAAAAAAAAAAAAAAAAAAAAAAAAAAAAAAAAAAAAAAADwPwAAAAAAAAAAAAAAAAAAAAAAAAAAAAAAAAAAAAAAAAAAAAAAAAAAAAAAAAAAAAAAAAAAAAAAAAAAAAAAAAAA8D8AAAAAAAAAAAAAAAAAAAAAAAAAAAAAAAAAAAAAAAAAAAAAAAAAAAAAAAAAAAAAAAAAAAAAAAAAAAAAAAAAADVAAAAAAAAAAAAAAAAAAAAAAAAAAAAAAAAAAAAAAAAAAAAAAAAAAAAIQAAAAAAAAAAAAAAAAAAAAAAAAAAAAAAAAAAAAAAAAAAAAAAAAAAAAAAAAAAAAAAAAAAAAAAAAAAAAAAAAAAAAAAAAAAAAAAAAAAAAAAAAAAAAAAAAAAAAAAAAAAAAAAAAAAAAAAAACpA\",\"dtype\":\"float64\",\"shape\":[51]}},\"selected\":{\"id\":\"1298\"},\"selection_policy\":{\"id\":\"1297\"}},\"id\":\"1003\",\"type\":\"ColumnDataSource\"},{\"attributes\":{},\"id\":\"1085\",\"type\":\"LinearScale\"},{\"attributes\":{\"formatter\":{\"id\":\"1799\"},\"major_label_orientation\":0.7853981633974483,\"ticker\":{\"id\":\"1088\"}},\"id\":\"1087\",\"type\":\"CategoricalAxis\"},{\"attributes\":{},\"id\":\"1799\",\"type\":\"CategoricalTickFormatter\"},{\"attributes\":{},\"id\":\"1088\",\"type\":\"CategoricalTicker\"},{\"attributes\":{},\"id\":\"1297\",\"type\":\"UnionRenderers\"},{\"attributes\":{\"axis\":{\"id\":\"1087\"},\"grid_line_color\":null,\"ticker\":null},\"id\":\"1089\",\"type\":\"Grid\"},{\"attributes\":{\"formatter\":{\"id\":\"1797\"},\"ticker\":{\"id\":\"1091\"}},\"id\":\"1090\",\"type\":\"LinearAxis\"},{\"attributes\":{\"fill_color\":{\"value\":\"#1f77b4\"},\"line_color\":{\"value\":\"white\"},\"top\":{\"field\":\"totalRecovered\"},\"width\":{\"value\":0.5},\"x\":{\"field\":\"state_name\"}},\"id\":\"1108\",\"type\":\"VBar\"},{\"attributes\":{},\"id\":\"1091\",\"type\":\"BasicTicker\"},{\"attributes\":{\"axis\":{\"id\":\"1090\"},\"dimension\":1,\"ticker\":null},\"id\":\"1093\",\"type\":\"Grid\"},{\"attributes\":{\"data_source\":{\"id\":\"1003\"},\"glyph\":{\"id\":\"1108\"},\"hover_glyph\":null,\"muted_glyph\":null,\"nonselection_glyph\":{\"id\":\"1109\"},\"selection_glyph\":null,\"view\":{\"id\":\"1111\"}},\"id\":\"1110\",\"type\":\"GlyphRenderer\"},{\"attributes\":{},\"id\":\"1094\",\"type\":\"PanTool\"},{\"attributes\":{},\"id\":\"1298\",\"type\":\"Selection\"},{\"attributes\":{},\"id\":\"1095\",\"type\":\"WheelZoomTool\"},{\"attributes\":{\"bottom_units\":\"screen\",\"fill_alpha\":0.5,\"fill_color\":\"lightgrey\",\"left_units\":\"screen\",\"level\":\"overlay\",\"line_alpha\":1.0,\"line_color\":\"black\",\"line_dash\":[4,4],\"line_width\":2,\"render_mode\":\"css\",\"right_units\":\"screen\",\"top_units\":\"screen\"},\"id\":\"1803\",\"type\":\"BoxAnnotation\"},{\"attributes\":{\"overlay\":{\"id\":\"1803\"}},\"id\":\"1096\",\"type\":\"BoxZoomTool\"},{\"attributes\":{},\"id\":\"1097\",\"type\":\"SaveTool\"},{\"attributes\":{\"fill_alpha\":{\"value\":0.1},\"fill_color\":{\"value\":\"#1f77b4\"},\"line_alpha\":{\"value\":0.1},\"line_color\":{\"value\":\"white\"},\"top\":{\"field\":\"totalRecovered\"},\"width\":{\"value\":0.5},\"x\":{\"field\":\"state_name\"}},\"id\":\"1109\",\"type\":\"VBar\"},{\"attributes\":{},\"id\":\"1098\",\"type\":\"ResetTool\"},{\"attributes\":{},\"id\":\"1099\",\"type\":\"HelpTool\"},{\"attributes\":{\"text\":\"COVID Recovered: 72 - Recovery Rate: 0.0971%\"},\"id\":\"1077\",\"type\":\"Title\"}],\"root_ids\":[\"1076\"]},\"title\":\"Bokeh Application\",\"version\":\"2.0.0\"}};\n",
       "  var render_items = [{\"docid\":\"0656645f-96bd-4373-87a1-8ef65410db3f\",\"root_ids\":[\"1076\"],\"roots\":{\"1076\":\"f8a43013-8ea6-4a0f-a735-2a29250349b7\"}}];\n",
       "  root.Bokeh.embed.embed_items_notebook(docs_json, render_items);\n",
       "\n",
       "  }\n",
       "  if (root.Bokeh !== undefined) {\n",
       "    embed_document(root);\n",
       "  } else {\n",
       "    var attempts = 0;\n",
       "    var timer = setInterval(function(root) {\n",
       "      if (root.Bokeh !== undefined) {\n",
       "        clearInterval(timer);\n",
       "        embed_document(root);\n",
       "      } else {\n",
       "        attempts++;\n",
       "        if (attempts > 100) {\n",
       "          clearInterval(timer);\n",
       "          console.log(\"Bokeh: ERROR: Unable to run BokehJS code because BokehJS library is missing\");\n",
       "        }\n",
       "      }\n",
       "    }, 10, root)\n",
       "  }\n",
       "})(window);"
      ],
      "application/vnd.bokehjs_exec.v0+json": ""
     },
     "metadata": {
      "application/vnd.bokehjs_exec.v0+json": {
       "id": "1076"
      }
     },
     "output_type": "display_data"
    },
    {
     "data": {
      "text/html": [
       "\n",
       "\n",
       "\n",
       "\n",
       "\n",
       "\n",
       "  <div class=\"bk-root\" id=\"4dfd3c02-14d5-464c-82da-288cba03fe86\" data-root-id=\"1256\"></div>\n"
      ]
     },
     "metadata": {},
     "output_type": "display_data"
    },
    {
     "data": {
      "application/javascript": [
       "(function(root) {\n",
       "  function embed_document(root) {\n",
       "    \n",
       "  var docs_json = {\"97f28a6f-379e-4152-a40a-6959bbfd265b\":{\"roots\":{\"references\":[{\"attributes\":{\"below\":[{\"id\":\"1267\"}],\"center\":[{\"id\":\"1269\"},{\"id\":\"1273\"}],\"left\":[{\"id\":\"1270\"}],\"plot_width\":1000,\"renderers\":[{\"id\":\"1290\"}],\"title\":{\"id\":\"1257\"},\"toolbar\":{\"id\":\"1280\"},\"x_range\":{\"id\":\"1259\"},\"x_scale\":{\"id\":\"1263\"},\"y_range\":{\"id\":\"1261\"},\"y_scale\":{\"id\":\"1265\"}},\"id\":\"1256\",\"subtype\":\"Figure\",\"type\":\"Plot\"},{\"attributes\":{\"fill_color\":{\"value\":\"#1f77b4\"},\"line_color\":{\"value\":\"#1f77b4\"},\"top\":{\"field\":\"recoveryShare\"},\"width\":{\"value\":0.5},\"x\":{\"field\":\"state_name\"}},\"id\":\"1288\",\"type\":\"VBar\"},{\"attributes\":{\"data_source\":{\"id\":\"1003\"},\"glyph\":{\"id\":\"1288\"},\"hover_glyph\":null,\"muted_glyph\":null,\"nonselection_glyph\":{\"id\":\"1289\"},\"selection_glyph\":null,\"view\":{\"id\":\"1291\"}},\"id\":\"1290\",\"type\":\"GlyphRenderer\"},{\"attributes\":{},\"id\":\"1274\",\"type\":\"PanTool\"},{\"attributes\":{},\"id\":\"1275\",\"type\":\"WheelZoomTool\"},{\"attributes\":{\"data\":{\"caseDelta\":{\"__ndarray__\":\"0UB6s0cR4EDEHLsXFsOiQCYdOTcHs7jAgJhBsRu1RkD09gzW7RSKQCxHeTEDR47AVAyli49EcUBOaoxmSASnwJq+jXtimYdAYMAla9d7ksBqlg0RFxGSwEVZPZFjUbTAWHL3f8XQa8CopCvsz1lTQCrj3181wIfAziVjBemKm8AkKnOTWNeCwPpe+NKbB4vA9mezQ+Itm8Cgv8CIq22IwAOOsyC43pHAMBtCe/R3i8AgjwbbtwRnwPwWS6nqVoPASt6hk+wPmMC4ueCkQjKHwPyRNJ4GrXHAyhxDRUDLdMCUOwgyyRCNwFZxRzWBlHXAva8alGjGhcAkfdBvT+qDwAAGuAwga1FAYmrMThFKicDeKzK1fKaAwPqjX2rCN37A4DBcfYBoMUA41wiVL0hiwE5yZmCIPmXAdKNjXQUbWsB2EENkYYFWwHcgw22T3HHAAUlI/FdVdsA4h4MzYqdrwPWU72JXwXbApsy4yrCIZcCsTkuboVNawIm2GUBye1LARAomPMagXcDW6kHFWbB1wAUD9hGUhGPA\",\"dtype\":\"float64\",\"shape\":[51]},\"caseDeltaRate\":{\"__ndarray__\":\"BerOshI/HkDutuO1PDXzPymwvxX4oea/+taDuYyulD/P74mllJreP0PGWEyK4dW/yK+4qgelxj82B7WpUCbjvw7ACzRuPec/Dfe8mkVh2r/3qcQTvcrev0ZBOwWVOum/BolgO3DExb/pYt1l/Ne4PzoYDLvNgN+/rs6S3ylz5b/vbeBFF3Xdv2VQqaSnVOK/Gb+WHLRu57/FeS6rvF7iv8+K3wxsKOa/GOvIRShe5L/2zgtY1JzRv+tWaJCdBeK/Tpg5ajiF6b/9nMkE0F3kvxZo9Sr2wNm/7Hv5wFX73L+nRxRO1FLnvzNxmdLnPeC/G+2orbwo57+asCo2Iwnnv7y7NW7zo9s/qePgJ6y16b/bZbx98vPnv5o4XFqCv+e/DkTbBbuyvz/3BuF6OBLfv0mgPpW9t+G/D3eox25E3L8YOxabfi/avzKa/fgZX+a/obKR9hdd6L+g6dAcA2Pmvx1hCwjOp+q/4h4x8B+p5r9NQCdDYYLkv73JtPtfo+K/1HVzxrw95r87aMJDVObrv6SJcMDQt+i/\",\"dtype\":\"float64\",\"shape\":[51]},\"caseShare\":{\"__ndarray__\":\"W+hyYVQT4D/Jiuixj2OuP4idp/j3EKI/RR1QcUasnz87W3NOlM+hP3037i/zv5k/gz4zU4RgmT9BU+wF0kubPyNmL+qHyJg/OIJDd8xKlz/bgm/llzeRPzkj1g8+RpM/4nWkIw/9jT/WcaLPeSmIP7iE5bMvpoU/cZJZQ+zwhz+KHqhN3YWDPztbc06Uz4E/6V+hEPWPgT8lRKM6FgSAPy3TJpg4Dnw/FYS5RWS5ez+nzoOxCsl6P2m3KMJZgno/30zTUAyYdT/hfywWnGp3P3yg44kOMnc/NbObkpEzdj+te5/m0xtzP1cV16ROgHI/jA/c4YlhbT/+NEzzj2RrPyLK4Mrcg2k/HWQuQL3eZT/cGXqLfMVjPzBN6QdyjmI/NvB8Sq5zYT8foQ/42R5hPyCN/xLAQ14/JzCTVfwoXT9ccQE94bdcP5hVA2cCLFs/QLzhX+29WD+J5goPh/xUP9ezxwBdIFA/Gupr0INeTz+f+JapPhFKP+F/LBacakc/F8Ga/YD5Rj9NAgnlZYhGP1lIMGreUkQ/\",\"dtype\":\"float64\",\"shape\":[51]},\"deathDelta\":{\"__ndarray__\":\"fA7Kced+YcDgBRe7Wc4HQPrk/eJdIDJAQPy5OeJaJUCTY3jzdOlXQIRop7KLHB3AFhfQE37LJcDcry1SgGwTwIKQIaat2kNAkJLWolQUH8C28xs9BG42QCB3lFrttvq/ZtXAmQDLEkCo8rbhWK8aQLH5VS7YFyDAyKLsbnS6AcCsRP9dcLEPwEyO4c3TpR9AQl5xrlHYH8CWOq5eV7AQwPAH0/Xl8+o/qG/DXnOo7T8oFT5NUa3qvywNZBmGDRfAnLsI3SrtC0D+LL5s6DQAQHl0yKkqVBBAomTdTiCoEsDsgTT+SwAHwA79cIPgwgXAkRYhBRsCGUDsevYYoAsMQDgyT5CITtC/AAAAAAAA+H8AAAAAAAD4f+yntIWIQOQ/7v89MVkYF0AAAAAAAAD4f4yVxoZHxe2/AAAAAAAA+H8AAAAAAAD4fwAAAAAAAPh/AAAAAAAA+H8AAAAAAAD4fwAAAAAAAPh/AAAAAAAA+H8gu7o1m5fFPwAAAAAAAPh/AAAAAAAA+H8AAAAAAAD4f1Z0RAzdhNY/\",\"dtype\":\"float64\",\"shape\":[51]},\"deathDeltaRate\":{\"__ndarray__\":\"/G5LaEgQ0b+pJXPLe5CoP2joXhoadt8/jn46tFYk1T+SUiQ+kgwFQOXuGWevudG/4Vm630Lu2r86CqSNPlDGv6kXzkrTHvk/pb44xpPr1L8lqtOv2mz0P6mhOrgGu7W/Tzv0Tomm0z+HBpl1yVDhPwiXM708T+e/oyr0Z0E4x78grbTXvnPZv2rB7QPY2+s/7pNce9dt7L9mOW8LUFbgv575dNrUH74/IEKl2qbFwD9BQg+H6zq/vwFEdIO9ROu/6RNqTLdG5D+1IVJvzLPVP10bhtj3EuY/RzpCQbhZ6r/8OF2HR9/ivxC/a2ntcOK/td9puKiw+j8ojpHHTg3wP5OInyBSCrS/AAAAAAAA+H8AAAAAAAD4fw4pycRzHNE/LuHVfI2/BEAAAAAAAAD4f7aE+DdX2N6/AAAAAAAA+H8AAAAAAAD4fwAAAAAAAPh/AAAAAAAA+H8AAAAAAAD4fwAAAAAAAPh/AAAAAAAA+H+ofV/mQ/nJPwAAAAAAAPh/AAAAAAAA+H8AAAAAAAD4fz8vZFY7X+E/\",\"dtype\":\"float64\",\"shape\":[51]},\"deathRate\":{\"__ndarray__\":\"DSqc7KYphT+1x4MLpT2OP+QWxs9UhZU/oEMjhsUxkz8mIKNhAjKqP6/r85dF3YQ/bZa83by2gD/dj3GrdNOHP89ySf9WiqI/E4BsE4Bsgz9QxgYBZWygP88ezhMpaIo/zjRwrrLbkj9o1P4LRTyWP9aHxvrQWG8/Rb01riafhz/XulQyZ2GBP4zTr8E4/Zo/AqHkTtHCWT/w+MMBjz98PwgEAoFAIJA/BDTX95dRkD8ZkEOACVaJPxEREREREWE/LvY4TwGSlz/BeCv7HFKTPxiGYRiGYZg/ms/1x8tgZD/D7OAIIq13P7mSwLwndHg/+DPhz4Q/oz/nnHPOOeecP75jamDvmIo/AAAAAAAAAAAAAAAAAAAAAJIkSZIkSZI/2TMQlY7sqT8AAAAAAAAAAIqG+OPW5X0/AAAAAAAAAAAAAAAAAAAAAAAAAAAAAAAAAAAAAAAAAAAAAAAAAAAAAAAAAAAAAAAAAAAAAAAAAAANJ3VfHluRPwAAAAAAAAAAAAAAAAAAAAAAAAAAAAAAAGQhC1nIQpY/\",\"dtype\":\"float64\",\"shape\":[51]},\"deathShare\":{\"__ndarray__\":\"Q3kN5TWU1z8Bz6fHzdivPyivobyG8qo/iyJnr2QRpT+yAmGkHSvAP54S5ClBnpI/Fb8kQqpljT+yxbUyrYmWPwHPp8fN2K8/n5iNRmBbjz9jfxgsHJmjP9mlrydmo5E/Y38YLByZkz+eEuQpQZ6SP3cy6jSIhGc/Y38YLByZgz93Muo0iIR3PxQ5eyWLqJA/n5iNRmBbTz+fmI1GYFtvP5+YjUZgW38/n5iNRmBbfz93Muo0iIR3P5+YjUZgW08/2aWvJ2ajgT+fmI1GYFt/P2N/GCwcmYM/n5iNRmBbTz+fmI1GYFtfP5+YjUZgW18/Y38YLByZgz+L5bs99G97P3cy6jSIhGc/AAAAAAAA+H8AAAAAAAD4f3cy6jSIhGc/n5iNRmBbfz8AAAAAAAD4f5+YjUZgW08/AAAAAAAA+H8AAAAAAAD4fwAAAAAAAPh/AAAAAAAA+H8AAAAAAAD4fwAAAAAAAPh/AAAAAAAA+H+fmI1GYFtPPwAAAAAAAPh/AAAAAAAA+H8AAAAAAAD4f5+YjUZgW08/\",\"dtype\":\"float64\",\"shape\":[51]},\"expectedCases\":{\"__ndarray__\":\"evktZML/sEB5xonQ00GfQJOOnJsDdsFAnvk6kSuRoUCGhPkUiUWbQMtRXszAI6ZA67wWHdxmmEAnNUYzJDuzQLMgOcJOP5BAMOCStetrpkA1y4aIi8aiQEVZPZFjxblAS+7+rxhylEBri3oCxuyIQJXx768aIJhA55KxgnSLpEASlblJrHeUQH0vfOnNl5dA+7PZIfGOokDQX2DE1UaVQAOOsyC4zplAmA2hPfqTlUDIo8H2LemEQH6LpVR1K5FASt6hk+wrnkDcXHBSITmSQP5IGk+D9oVAZY6hIqD1hkDKHQSZZPCTQKu4o5pAQoVAva8alGgWjkAkfdBvT6qLQAD9o/lvKmRAYmrMThF6j0DeKzK1fD6GQP3RLzXhW4RA5HlU8O+SYUCca4TKF9RyQCc5MzBEL3NAutGxroKNbUA7iCGysIBrQHcgw22TjHlAAUlI/FdVfUCcw8EZscNzQPWU72JXUXtApsy4yrBobkBWp6XN0IlkQIm2GUByu19AIgUTHmNQZUDW6kHFWeB4QAUD9hGURGlA\",\"dtype\":\"float64\",\"shape\":[51]},\"expectedDeaths\":{\"__ndarray__\":\"n4Ny3LlngECij05kGgNPQIMNgQ7Rb0JA8ICRcUcpQEDaOA8ZFi1CQCHaqewiRzpAiwvoCb/lOUD3a4sUINs7QPvevLOkSjlApKS1KBXFN0BKDOTC+5ExQHJHqdVuqzNATZUfs3+aLkCshiSPU6goQLH5VS7YFyZAsii7G51uKEAr0X8XXOwjQNo4DxkWLSJAIa841yjsIUBLHVevK1ggQAKfRUGDoRxAC5InlPFKHEClwqcpqlUbQCwNZBmGDRtAMqJ7kWoJFkCB6aDJi+UXQIeLN1bVqxdAomTdTiCoFkD2QBr/JYATQId+uEFw4RJA3tK99cn7DUAUhQnnX/QLQEfmCRLRCQpAq1e/oY5RBkDkWlZZSS0EQAXWkt7d7wJAJACEnU3PAUAt82Xwu3gBQMZKY8Oj4v4/5HRUghPC/T/wuIGbpk79PxonoHOpuvs/XB0ZftI/+T/D3xnUtGr1P0jMC+kGdfA/VBA5ApoB8D84UZEyGZrqP4HpoMmL5ec/jS3O4h5y5z+Zcfv7sf7mP9XF3XmRveQ/\",\"dtype\":\"float64\",\"shape\":[51]},\"infectionRate\":{\"__ndarray__\":\"IyeADHVmXz/Yo4LfFCRAP9kwIz14LRE/ITa/quHuLT8zKANTdK81P38h9KMsTyM/sDhYsP5DMT/OgknzkZAXP14Pf6gUUzk/M70w8Co/IT9oTD+avHIeP8ys9yxt1Qg/f+Jtw9hZKD/P/BdrDRgwP5gf4ILNyx0/lBt23L9YEz9sdbGc/asfP9up1aYKERk/N/Ly2Q9sDz/rsg+cjf4YPwy5z09cDBI/LJqADrhUFT+/SriFH0QlP3/YypL7oRk/y4wPhq/DBz+yXyvlWVUVP9pPoUypiCE/z4IRWNANID/Fxb/mStIPPwcKFvWn5Rw//YchnlU2ED99KuvyR3AQP9Eynx2PATU/d5K2+PsRBz8hULC+YYMNP7fRPKyzQw4/H6ZC/pt8MD8zgM8HMjEeP5nyDtnJMBo/TBzdJKphID81KuLp/FUhP09w4CYXqBE/HMABHMABDD+LxSNH66ARP2vplJzymQM/jgYwBFkgET8hFIhmSxIVPzViLp+vgBg/Mnf720XlET+2LrH+eRP+PrAHa6MFtQo/\",\"dtype\":\"float64\",\"shape\":[51]},\"population\":[19440469,8936574,39937489,10045029,7797095,12659682,6976597,21992985,4645184,12820878,10736059,29472295,5845526,3563077,6897576,11747694,5851754,6745354,10611862,6083116,7378494,6169270,2989260,4908921,8626207,5210095,3139658,3282115,5700671,3038999,4301089,3954821,720687,4499692,3179849,2910357,628061,1345790,1371246,1056161,982895,1826156,2096640,1412687,1952570,1086759,734002,567025,761723,1778070,903027],\"recoveryRate\":{\"__ndarray__\":\"AAAAAAAAAADRuAPgisY9Pzuy8sckyGI/AAAAAAAAAAAAAAAAAAAAAMokVMPpkVE/dKBAqPzTQT8AAAAAAAAAAAAAAAAAAAAAGzC1GjC1ej8AAAAAAAAAACloGow1I4A/AAAAAAAAAAAAAAAAAAAAAAAAAAAAAAAAAAAAAAAAAAAf+XCYiSxXPwAAAAAAAAAAAAAAAAAAAAAAAAAAAAAAAAAAAAAAAAAAAAAAAAAAAAAAAAAAAAAAAAAAAAAAAAAAm0zdYo/zZD8AAAAAAAAAAAAAAAAAAAAAAAAAAAAAAAAAAAAAAAAAAAAAAAAAAAAAAAAAAAAAAAAAAAAAAAAAAEYXXXTRRbc/AAAAAAAAAAAAAAAAAAAAAAAAAAAAAAAAAAAAAAAAAADSExw9wdGTPwAAAAAAAAAAAAAAAAAAAAAAAAAAAAAAAAAAAAAAAAAAAAAAAAAAAAAAAAAAAAAAAAAAAAAAAAAAAAAAAAAAAAAAAAAAAAAAAAAAAAAAAAAAAAAAAAAAAAAAAAAAAAAAACELWchCFtI/\",\"dtype\":\"float64\",\"shape\":[51]},\"recoveryShare\":{\"__ndarray__\":\"AAAAAAAAAAAcx3Ecx3GcP1VVVVVVVbU/AAAAAAAAAAAAAAAAAAAAABzHcRzHcZw/HMdxHMdxjD8AAAAAAAAAAAAAAAAAAAAA5DiO4ziOwz8AAAAAAAAAAOQ4juM4jsM/AAAAAAAAAAAAAAAAAAAAAAAAAAAAAAAAAAAAAAAAAAAcx3Ecx3GMPwAAAAAAAAAAAAAAAAAAAAAAAAAAAAAAAAAAAAAAAAAAAAAAAAAAAAAAAAAAAAAAAAAAAAAAAAAAHMdxHMdxjD8AAAAAAAAAAAAAAAAAAAAAAAAAAAAAAAAAAAAAAAAAAAAAAAAAAAAAAAAAAAAAAAAAAAAAAAAAAKuqqqqqqtI/AAAAAAAAAAAAAAAAAAAAAAAAAAAAAAAAAAAAAAAAAABVVVVVVVWlPwAAAAAAAAAAAAAAAAAAAAAAAAAAAAAAAAAAAAAAAAAAAAAAAAAAAAAAAAAAAAAAAAAAAAAAAAAAAAAAAAAAAAAAAAAAAAAAAAAAAAAAAAAAAAAAAAAAAAAAAAAAAAAAAMdxHMdxHMc/\",\"dtype\":\"float64\",\"shape\":[51]},\"state_name\":[\"New York\",\"New Jersey\",\"California\",\"Michigan\",\"Washington\",\"Illinois\",\"Massachusetts\",\"Florida\",\"Louisiana\",\"Pennsylvania\",\"Georgia\",\"Texas\",\"Colorado\",\"Connecticut\",\"Tennessee\",\"Ohio\",\"Wisconsin\",\"Indiana\",\"North Carolina\",\"Maryland\",\"Arizona\",\"Missouri\",\"Mississippi\",\"Alabama\",\"Virginia\",\"South Carolina\",\"Nevada\",\"Utah\",\"Minnesota\",\"Arkansas\",\"Oregon\",\"Oklahoma\",\"District of Columbia\",\"Kentucky\",\"Iowa\",\"Kansas\",\"Vermont\",\"Maine\",\"New Hampshire\",\"Rhode Island\",\"Delaware\",\"Idaho\",\"New Mexico\",\"Hawaii\",\"Nebraska\",\"Montana\",\"Alaska\",\"Wyoming\",\"North Dakota\",\"West Virginia\",\"South Dakota\"],\"totalConfirmed\":[37258,4402,2617,2294,2580,1865,1838,1977,1795,1687,1247,1396,1086,875,784,867,707,645,636,580,508,502,485,480,391,424,420,402,346,335,266,248,231,198,179,168,158,155,137,132,130,123,112,95,73,71,59,53,52,51,46],\"totalDeaths\":{\"__ndarray__\":\"AAAAAAAQeEAAAAAAAEBQQAAAAAAAgEtAAAAAAACARUAAAAAAAIBgQAAAAAAAADNAAAAAAAAALkAAAAAAAAA3QAAAAAAAQFBAAAAAAAAAMEAAAAAAAABEQAAAAAAAADJAAAAAAAAANEAAAAAAAAAzQAAAAAAAAAhAAAAAAAAAJEAAAAAAAAAYQAAAAAAAADFAAAAAAAAA8D8AAAAAAAAQQAAAAAAAACBAAAAAAAAAIEAAAAAAAAAYQAAAAAAAAPA/AAAAAAAAIkAAAAAAAAAgQAAAAAAAACRAAAAAAAAA8D8AAAAAAAAAQAAAAAAAAABAAAAAAAAAJEAAAAAAAAAcQAAAAAAAAAhAAAAAAAAA+H8AAAAAAAD4fwAAAAAAAAhAAAAAAAAAIEAAAAAAAAD4fwAAAAAAAPA/AAAAAAAA+H8AAAAAAAD4fwAAAAAAAPh/AAAAAAAA+H8AAAAAAAD4fwAAAAAAAPh/AAAAAAAA+H8AAAAAAADwPwAAAAAAAPh/AAAAAAAA+H8AAAAAAAD4fwAAAAAAAPA/\",\"dtype\":\"float64\",\"shape\":[51]},\"totalRecovered\":{\"__ndarray__\":\"AAAAAAAAAAAAAAAAAAAAQAAAAAAAABhAAAAAAAAAAAAAAAAAAAAAAAAAAAAAAABAAAAAAAAA8D8AAAAAAAAAAAAAAAAAAAAAAAAAAAAAJkAAAAAAAAAAAAAAAAAAACZAAAAAAAAAAAAAAAAAAAAAAAAAAAAAAAAAAAAAAAAAAAAAAAAAAADwPwAAAAAAAAAAAAAAAAAAAAAAAAAAAAAAAAAAAAAAAAAAAAAAAAAAAAAAAAAAAAAAAAAAAAAAAAAAAAAAAAAA8D8AAAAAAAAAAAAAAAAAAAAAAAAAAAAAAAAAAAAAAAAAAAAAAAAAAAAAAAAAAAAAAAAAAAAAAAAAAAAAAAAAADVAAAAAAAAAAAAAAAAAAAAAAAAAAAAAAAAAAAAAAAAAAAAAAAAAAAAIQAAAAAAAAAAAAAAAAAAAAAAAAAAAAAAAAAAAAAAAAAAAAAAAAAAAAAAAAAAAAAAAAAAAAAAAAAAAAAAAAAAAAAAAAAAAAAAAAAAAAAAAAAAAAAAAAAAAAAAAAAAAAAAAAAAAAAAAACpA\",\"dtype\":\"float64\",\"shape\":[51]}},\"selected\":{\"id\":\"1298\"},\"selection_policy\":{\"id\":\"1297\"}},\"id\":\"1003\",\"type\":\"ColumnDataSource\"},{\"attributes\":{\"overlay\":{\"id\":\"1915\"}},\"id\":\"1276\",\"type\":\"BoxZoomTool\"},{\"attributes\":{},\"id\":\"1277\",\"type\":\"SaveTool\"},{\"attributes\":{\"text\":\"COVID US Percentage Share of Recoveries by State\"},\"id\":\"1257\",\"type\":\"Title\"},{\"attributes\":{},\"id\":\"1278\",\"type\":\"ResetTool\"},{\"attributes\":{},\"id\":\"1297\",\"type\":\"UnionRenderers\"},{\"attributes\":{},\"id\":\"1279\",\"type\":\"HelpTool\"},{\"attributes\":{\"factors\":[\"New York\",\"New Jersey\",\"California\",\"Michigan\",\"Washington\",\"Illinois\",\"Massachusetts\",\"Florida\",\"Louisiana\",\"Pennsylvania\",\"Georgia\",\"Texas\",\"Colorado\",\"Connecticut\",\"Tennessee\",\"Ohio\",\"Wisconsin\",\"Indiana\",\"North Carolina\",\"Maryland\",\"Arizona\",\"Missouri\",\"Mississippi\",\"Alabama\",\"Virginia\",\"South Carolina\",\"Nevada\",\"Utah\",\"Minnesota\",\"Arkansas\",\"Oregon\",\"Oklahoma\",\"District of Columbia\",\"Kentucky\",\"Iowa\",\"Kansas\",\"Vermont\",\"Maine\",\"New Hampshire\",\"Rhode Island\",\"Delaware\",\"Idaho\",\"New Mexico\",\"Hawaii\",\"Nebraska\",\"Montana\",\"Alaska\",\"Wyoming\",\"North Dakota\",\"West Virginia\",\"South Dakota\"]},\"id\":\"1259\",\"type\":\"FactorRange\"},{\"attributes\":{\"active_drag\":\"auto\",\"active_inspect\":\"auto\",\"active_multi\":null,\"active_scroll\":\"auto\",\"active_tap\":\"auto\",\"tools\":[{\"id\":\"1274\"},{\"id\":\"1275\"},{\"id\":\"1276\"},{\"id\":\"1277\"},{\"id\":\"1278\"},{\"id\":\"1279\"}]},\"id\":\"1280\",\"type\":\"Toolbar\"},{\"attributes\":{\"end\":0.34744237425525754,\"start\":0},\"id\":\"1261\",\"type\":\"DataRange1d\"},{\"attributes\":{},\"id\":\"1263\",\"type\":\"CategoricalScale\"},{\"attributes\":{\"fill_alpha\":{\"value\":0.1},\"fill_color\":{\"value\":\"#1f77b4\"},\"line_alpha\":{\"value\":0.1},\"line_color\":{\"value\":\"#1f77b4\"},\"top\":{\"field\":\"recoveryShare\"},\"width\":{\"value\":0.5},\"x\":{\"field\":\"state_name\"}},\"id\":\"1289\",\"type\":\"VBar\"},{\"attributes\":{},\"id\":\"1265\",\"type\":\"LinearScale\"},{\"attributes\":{\"formatter\":{\"id\":\"1911\"},\"major_label_orientation\":0.7853981633974483,\"ticker\":{\"id\":\"1268\"}},\"id\":\"1267\",\"type\":\"CategoricalAxis\"},{\"attributes\":{\"source\":{\"id\":\"1003\"}},\"id\":\"1291\",\"type\":\"CDSView\"},{\"attributes\":{},\"id\":\"1909\",\"type\":\"BasicTickFormatter\"},{\"attributes\":{\"bottom_units\":\"screen\",\"fill_alpha\":0.5,\"fill_color\":\"lightgrey\",\"left_units\":\"screen\",\"level\":\"overlay\",\"line_alpha\":1.0,\"line_color\":\"black\",\"line_dash\":[4,4],\"line_width\":2,\"render_mode\":\"css\",\"right_units\":\"screen\",\"top_units\":\"screen\"},\"id\":\"1915\",\"type\":\"BoxAnnotation\"},{\"attributes\":{},\"id\":\"1298\",\"type\":\"Selection\"},{\"attributes\":{},\"id\":\"1268\",\"type\":\"CategoricalTicker\"},{\"attributes\":{\"axis\":{\"id\":\"1267\"},\"grid_line_color\":null,\"ticker\":null},\"id\":\"1269\",\"type\":\"Grid\"},{\"attributes\":{\"formatter\":{\"id\":\"1909\"},\"ticker\":{\"id\":\"1271\"}},\"id\":\"1270\",\"type\":\"LinearAxis\"},{\"attributes\":{},\"id\":\"1271\",\"type\":\"BasicTicker\"},{\"attributes\":{},\"id\":\"1911\",\"type\":\"CategoricalTickFormatter\"},{\"attributes\":{\"axis\":{\"id\":\"1270\"},\"dimension\":1,\"ticker\":null},\"id\":\"1273\",\"type\":\"Grid\"}],\"root_ids\":[\"1256\"]},\"title\":\"Bokeh Application\",\"version\":\"2.0.0\"}};\n",
       "  var render_items = [{\"docid\":\"97f28a6f-379e-4152-a40a-6959bbfd265b\",\"root_ids\":[\"1256\"],\"roots\":{\"1256\":\"4dfd3c02-14d5-464c-82da-288cba03fe86\"}}];\n",
       "  root.Bokeh.embed.embed_items_notebook(docs_json, render_items);\n",
       "\n",
       "  }\n",
       "  if (root.Bokeh !== undefined) {\n",
       "    embed_document(root);\n",
       "  } else {\n",
       "    var attempts = 0;\n",
       "    var timer = setInterval(function(root) {\n",
       "      if (root.Bokeh !== undefined) {\n",
       "        clearInterval(timer);\n",
       "        embed_document(root);\n",
       "      } else {\n",
       "        attempts++;\n",
       "        if (attempts > 100) {\n",
       "          clearInterval(timer);\n",
       "          console.log(\"Bokeh: ERROR: Unable to run BokehJS code because BokehJS library is missing\");\n",
       "        }\n",
       "      }\n",
       "    }, 10, root)\n",
       "  }\n",
       "})(window);"
      ],
      "application/vnd.bokehjs_exec.v0+json": ""
     },
     "metadata": {
      "application/vnd.bokehjs_exec.v0+json": {
       "id": "1256"
      }
     },
     "output_type": "display_data"
    }
   ],
   "source": [
    "source = ColumnDataSource(data=covid)\n",
    "plot_height = 600\n",
    "plot_width = 1000\n",
    "width = 0.5\n",
    "\n",
    "title_p = \"COVID Confirmed: {:,} - Death Rate: {:.4%} - Recovery Rate: {:.4%}\".format(total_confirmed, death_rate, recovery_rate)\n",
    "title_q = \"COVID Deaths: {:,} - Death Rate: {:.4%}\".format(total_deaths, death_rate)\n",
    "title_z = \"COVID Recovered: {:,} - Recovery Rate: {:.4%}\".format(total_recoveries, recovery_rate)\n",
    "title_x = \"COVID US National Infection Rate: {:.4%}\".format(infection_rate)\n",
    "title_y = \"COVID US Confirmed / Expected Delta\"\n",
    "title_m = \"COVID US Percentage Share of Confirmed Cases by State\"\n",
    "title_n = \"COVID US Percentage Share of Deaths by State\"\n",
    "title_o = \"COVID US Percentage Share of Recoveries by State\"\n",
    "\n",
    "p = figure(x_range=index, plot_height=plot_height, plot_width=plot_width, title=title_p)\n",
    "p.vbar(x='state_name', top='totalConfirmed', width=width, source=source, line_color='white')\n",
    "p.xgrid.grid_line_color = None\n",
    "p.y_range.start = 0\n",
    "p.y_range.end = covid['totalConfirmed'].max() + covid['totalConfirmed'].std()\n",
    "p.xaxis.major_label_orientation = math.pi / 4\n",
    "\n",
    "q = figure(x_range=index, plot_height=plot_height, plot_width=plot_width, title=title_q)\n",
    "q.vbar(x='state_name', top='totalDeaths', width=width, source=source, line_color='white')\n",
    "q.xgrid.grid_line_color = None\n",
    "q.y_range.start = 0\n",
    "q.y_range.end = covid['totalDeaths'].max() + covid['totalDeaths'].std()\n",
    "q.xaxis.major_label_orientation = math.pi / 4\n",
    "\n",
    "z = figure(x_range=index, plot_height=plot_height, plot_width=plot_width, title=title_z)\n",
    "z.vbar(x='state_name', top='totalRecovered', width=width, source=source, line_color='white')\n",
    "z.xgrid.grid_line_color = None\n",
    "z.y_range.start = 0\n",
    "z.y_range.end = covid['totalRecovered'].max() + covid['totalRecovered'].std()\n",
    "z.xaxis.major_label_orientation = math.pi / 4\n",
    "\n",
    "x = figure(x_range=index, plot_height=plot_height, plot_width=plot_width, title=title_x)\n",
    "x.vbar(x='state_name', top='infectionRate', width=width, source=source)\n",
    "x.xgrid.grid_line_color = None\n",
    "x.y_range.start = 0\n",
    "x.y_range.end = covid['infectionRate'].max() + covid['infectionRate'].std()\n",
    "x.xaxis.major_label_orientation = math.pi / 4\n",
    "\n",
    "y = figure(x_range=index, plot_height=plot_height, plot_width=plot_width, title=title_y)\n",
    "y.vbar(x='state_name', top='caseDelta', width=width, source=source)\n",
    "y.xgrid.grid_line_color = None\n",
    "y.y_range.start = covid['caseDelta'].min() - covid['caseDelta'].std()\n",
    "y.y_range.end = covid['caseDelta'].max() + covid['caseDelta'].std()\n",
    "y.xaxis.major_label_orientation = math.pi / 4\n",
    "\n",
    "m = figure(x_range=index, plot_height=plot_height, plot_width=plot_width, title=title_m)\n",
    "m.vbar(x='state_name', top='caseShare', width=width, source=source)\n",
    "m.xgrid.grid_line_color = None\n",
    "m.y_range.start = 0\n",
    "m.y_range.end = covid['caseShare'].max() + covid['caseShare'].std()\n",
    "m.xaxis.major_label_orientation = math.pi / 4\n",
    "\n",
    "n = figure(x_range=index, plot_height=plot_height, plot_width=plot_width, title=title_n)\n",
    "n.vbar(x='state_name', top='deathShare', width=width, source=source)\n",
    "n.xgrid.grid_line_color = None\n",
    "n.y_range.start = 0\n",
    "n.y_range.end = covid['deathShare'].max() + covid['deathShare'].std()\n",
    "n.xaxis.major_label_orientation = math.pi / 4\n",
    "\n",
    "o = figure(x_range=index, plot_height=plot_height, plot_width=plot_width, title=title_o)\n",
    "o.vbar(x='state_name', top='recoveryShare', width=width, source=source)\n",
    "o.xgrid.grid_line_color = None\n",
    "o.y_range.start = 0\n",
    "o.y_range.end = covid['recoveryShare'].max() + covid['recoveryShare'].std()\n",
    "o.xaxis.major_label_orientation = math.pi / 4\n",
    "\n",
    "show(x)\n",
    "show(y)\n",
    "show(m)\n",
    "show(n)\n",
    "show(p)\n",
    "show(q)\n",
    "show(z)\n",
    "show(o)"
   ]
  }
 ],
 "metadata": {
  "kernelspec": {
   "display_name": "Python 3",
   "language": "python",
   "name": "python3"
  },
  "language_info": {
   "codemirror_mode": {
    "name": "ipython",
    "version": 3
   },
   "file_extension": ".py",
   "mimetype": "text/x-python",
   "name": "python",
   "nbconvert_exporter": "python",
   "pygments_lexer": "ipython3",
   "version": "3.7.3"
  },
  "nteract": {
   "version": "0.22.0"
  }
 },
 "nbformat": 4,
 "nbformat_minor": 4
}
