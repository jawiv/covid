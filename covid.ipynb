{
  "cells": [
    {
      "cell_type": "code",
      "source": [
        "import requests\n",
        "import pandas as pd\n",
        "import numpy as np\n",
        "import math\n",
        "import json\n",
        "from bokeh.plotting import figure, output_notebook, show\n",
        "from bokeh.models import ColumnDataSource\n",
        "from bokeh.transform import factor_cmap\n",
        "from bokeh.palettes import Spectral6\n",
        "from IPython.display import Markdown as md\n",
        "import os\n",
        "\n",
        "output_notebook()\n",
        "url = \"http://bing.com/covid/data\"\n",
        "r = requests.get(url)\n",
        "j = r.json()\n",
        "with open('state_populations.json') as data:\n",
        "    state_pop = pd.read_json(data)\n",
        "#j = r.json()\n",
        "#print(j)\n",
        "#df = pd.DataFrame(j['areas'][2])\n",
        "df = pd.json_normalize(j['areas'][0], 'areas')\n",
        "df.fillna(0, inplace=True)\n",
        "#df['totalConfirmed'].sum()\n",
        "index = df['displayName'].to_list()\n",
        "totalConfirmed = df['totalConfirmed'].to_list()\n",
        "totalDeaths = df['totalDeaths'].to_list()\n",
        "totalRecovered = df['totalRecovered'].to_list()\n",
        "df2 = pd.DataFrame({'totalConfirmed': totalConfirmed,\n",
        "                    'totalDeaths': totalDeaths,\n",
        "                    'totalRecovered': totalRecovered}, index=index)\n",
        "df2['totalRecovered'].fillna(0, inplace=True)\n",
        "df2['deathRate'] = df2['totalDeaths'].div(df2['totalConfirmed'], fill_value=0)\n",
        "df2['recoveryRate'] = df2['totalRecovered'].div(df2['totalConfirmed'], fill_value=0)\n",
        "covid = pd.merge(left=df2, right=state_pop[['state_name','population']], how='left', left_index=True, right_on='state_name')\n",
        "covid['infectionRate'] = covid['totalConfirmed'].div(covid['population'], fill_value=0)\n",
        "covid = covid[['state_name', 'population', 'totalConfirmed', 'infectionRate', 'totalDeaths', 'deathRate', 'totalRecovered', 'recoveryRate']]\n",
        "covid.set_index('state_name', inplace=True)\n",
        "\n",
        "total_population = int(covid['population'].sum())\n",
        "total_confirmed = int(covid['totalConfirmed'].sum())\n",
        "total_deaths = int(covid['totalDeaths'].sum())\n",
        "total_recoveries = int(covid['totalRecovered'].sum())\n",
        "infection_rate = total_confirmed / total_population\n",
        "death_rate = total_deaths / total_confirmed\n",
        "recovery_rate = total_recoveries / total_confirmed\n",
        "\n",
        "covid['expectedCases'] = covid['population'].mul(infection_rate)\n",
        "covid['caseDelta'] = covid['totalConfirmed'].sub(covid['expectedCases'])\n",
        "covid['caseDeltaRate'] = covid['caseDelta'].div(covid['expectedCases'], fill_value=0)\n",
        "\n",
        "covid['expectedDeaths'] = covid['totalConfirmed'].mul(death_rate)\n",
        "covid['deathDelta'] = covid['totalDeaths'].sub(covid['expectedDeaths'])\n",
        "covid['deathDeltaRate'] = covid['deathDelta'].div(covid['expectedDeaths'], fill_value=0)\n",
        "\n",
        "covid['caseShare'] = covid['totalConfirmed'].div(total_confirmed, fill_value=0)\n",
        "covid['deathShare'] = covid['totalDeaths'].div(total_deaths, fill_value=0)\n",
        "covid['recoveryShare'] = covid['totalRecovered'].div(total_recoveries, fill_value=0)"
      ],
      "outputs": [
        {
          "output_type": "display_data",
          "data": {
            "text/html": [
              "\n",
              "    <div class=\"bk-root\">\n",
              "        <a href=\"https://bokeh.org\" target=\"_blank\" class=\"bk-logo bk-logo-small bk-logo-notebook\"></a>\n",
              "        <span id=\"1001\">Loading BokehJS ...</span>\n",
              "    </div>"
            ]
          },
          "metadata": {}
        },
        {
          "output_type": "display_data",
          "data": {
            "application/javascript": [
              "\n",
              "(function(root) {\n",
              "  function now() {\n",
              "    return new Date();\n",
              "  }\n",
              "\n",
              "  var force = true;\n",
              "\n",
              "  if (typeof root._bokeh_onload_callbacks === \"undefined\" || force === true) {\n",
              "    root._bokeh_onload_callbacks = [];\n",
              "    root._bokeh_is_loading = undefined;\n",
              "  }\n",
              "\n",
              "  var JS_MIME_TYPE = 'application/javascript';\n",
              "  var HTML_MIME_TYPE = 'text/html';\n",
              "  var EXEC_MIME_TYPE = 'application/vnd.bokehjs_exec.v0+json';\n",
              "  var CLASS_NAME = 'output_bokeh rendered_html';\n",
              "\n",
              "  /**\n",
              "   * Render data to the DOM node\n",
              "   */\n",
              "  function render(props, node) {\n",
              "    var script = document.createElement(\"script\");\n",
              "    node.appendChild(script);\n",
              "  }\n",
              "\n",
              "  /**\n",
              "   * Handle when an output is cleared or removed\n",
              "   */\n",
              "  function handleClearOutput(event, handle) {\n",
              "    var cell = handle.cell;\n",
              "\n",
              "    var id = cell.output_area._bokeh_element_id;\n",
              "    var server_id = cell.output_area._bokeh_server_id;\n",
              "    // Clean up Bokeh references\n",
              "    if (id != null && id in Bokeh.index) {\n",
              "      Bokeh.index[id].model.document.clear();\n",
              "      delete Bokeh.index[id];\n",
              "    }\n",
              "\n",
              "    if (server_id !== undefined) {\n",
              "      // Clean up Bokeh references\n",
              "      var cmd = \"from bokeh.io.state import curstate; print(curstate().uuid_to_server['\" + server_id + \"'].get_sessions()[0].document.roots[0]._id)\";\n",
              "      cell.notebook.kernel.execute(cmd, {\n",
              "        iopub: {\n",
              "          output: function(msg) {\n",
              "            var id = msg.content.text.trim();\n",
              "            if (id in Bokeh.index) {\n",
              "              Bokeh.index[id].model.document.clear();\n",
              "              delete Bokeh.index[id];\n",
              "            }\n",
              "          }\n",
              "        }\n",
              "      });\n",
              "      // Destroy server and session\n",
              "      var cmd = \"import bokeh.io.notebook as ion; ion.destroy_server('\" + server_id + \"')\";\n",
              "      cell.notebook.kernel.execute(cmd);\n",
              "    }\n",
              "  }\n",
              "\n",
              "  /**\n",
              "   * Handle when a new output is added\n",
              "   */\n",
              "  function handleAddOutput(event, handle) {\n",
              "    var output_area = handle.output_area;\n",
              "    var output = handle.output;\n",
              "\n",
              "    // limit handleAddOutput to display_data with EXEC_MIME_TYPE content only\n",
              "    if ((output.output_type != \"display_data\") || (!output.data.hasOwnProperty(EXEC_MIME_TYPE))) {\n",
              "      return\n",
              "    }\n",
              "\n",
              "    var toinsert = output_area.element.find(\".\" + CLASS_NAME.split(' ')[0]);\n",
              "\n",
              "    if (output.metadata[EXEC_MIME_TYPE][\"id\"] !== undefined) {\n",
              "      toinsert[toinsert.length - 1].firstChild.textContent = output.data[JS_MIME_TYPE];\n",
              "      // store reference to embed id on output_area\n",
              "      output_area._bokeh_element_id = output.metadata[EXEC_MIME_TYPE][\"id\"];\n",
              "    }\n",
              "    if (output.metadata[EXEC_MIME_TYPE][\"server_id\"] !== undefined) {\n",
              "      var bk_div = document.createElement(\"div\");\n",
              "      bk_div.innerHTML = output.data[HTML_MIME_TYPE];\n",
              "      var script_attrs = bk_div.children[0].attributes;\n",
              "      for (var i = 0; i < script_attrs.length; i++) {\n",
              "        toinsert[toinsert.length - 1].firstChild.setAttribute(script_attrs[i].name, script_attrs[i].value);\n",
              "        toinsert[toinsert.length - 1].firstChild.textContent = bk_div.children[0].textContent\n",
              "      }\n",
              "      // store reference to server id on output_area\n",
              "      output_area._bokeh_server_id = output.metadata[EXEC_MIME_TYPE][\"server_id\"];\n",
              "    }\n",
              "  }\n",
              "\n",
              "  function register_renderer(events, OutputArea) {\n",
              "\n",
              "    function append_mime(data, metadata, element) {\n",
              "      // create a DOM node to render to\n",
              "      var toinsert = this.create_output_subarea(\n",
              "        metadata,\n",
              "        CLASS_NAME,\n",
              "        EXEC_MIME_TYPE\n",
              "      );\n",
              "      this.keyboard_manager.register_events(toinsert);\n",
              "      // Render to node\n",
              "      var props = {data: data, metadata: metadata[EXEC_MIME_TYPE]};\n",
              "      render(props, toinsert[toinsert.length - 1]);\n",
              "      element.append(toinsert);\n",
              "      return toinsert\n",
              "    }\n",
              "\n",
              "    /* Handle when an output is cleared or removed */\n",
              "    events.on('clear_output.CodeCell', handleClearOutput);\n",
              "    events.on('delete.Cell', handleClearOutput);\n",
              "\n",
              "    /* Handle when a new output is added */\n",
              "    events.on('output_added.OutputArea', handleAddOutput);\n",
              "\n",
              "    /**\n",
              "     * Register the mime type and append_mime function with output_area\n",
              "     */\n",
              "    OutputArea.prototype.register_mime_type(EXEC_MIME_TYPE, append_mime, {\n",
              "      /* Is output safe? */\n",
              "      safe: true,\n",
              "      /* Index of renderer in `output_area.display_order` */\n",
              "      index: 0\n",
              "    });\n",
              "  }\n",
              "\n",
              "  // register the mime type if in Jupyter Notebook environment and previously unregistered\n",
              "  if (root.Jupyter !== undefined) {\n",
              "    var events = require('base/js/events');\n",
              "    var OutputArea = require('notebook/js/outputarea').OutputArea;\n",
              "\n",
              "    if (OutputArea.prototype.mime_types().indexOf(EXEC_MIME_TYPE) == -1) {\n",
              "      register_renderer(events, OutputArea);\n",
              "    }\n",
              "  }\n",
              "\n",
              "  \n",
              "  if (typeof (root._bokeh_timeout) === \"undefined\" || force === true) {\n",
              "    root._bokeh_timeout = Date.now() + 5000;\n",
              "    root._bokeh_failed_load = false;\n",
              "  }\n",
              "\n",
              "  var NB_LOAD_WARNING = {'data': {'text/html':\n",
              "     \"<div style='background-color: #fdd'>\\n\"+\n",
              "     \"<p>\\n\"+\n",
              "     \"BokehJS does not appear to have successfully loaded. If loading BokehJS from CDN, this \\n\"+\n",
              "     \"may be due to a slow or bad network connection. Possible fixes:\\n\"+\n",
              "     \"</p>\\n\"+\n",
              "     \"<ul>\\n\"+\n",
              "     \"<li>re-rerun `output_notebook()` to attempt to load from CDN again, or</li>\\n\"+\n",
              "     \"<li>use INLINE resources instead, as so:</li>\\n\"+\n",
              "     \"</ul>\\n\"+\n",
              "     \"<code>\\n\"+\n",
              "     \"from bokeh.resources import INLINE\\n\"+\n",
              "     \"output_notebook(resources=INLINE)\\n\"+\n",
              "     \"</code>\\n\"+\n",
              "     \"</div>\"}};\n",
              "\n",
              "  function display_loaded() {\n",
              "    var el = document.getElementById(\"1001\");\n",
              "    if (el != null) {\n",
              "      el.textContent = \"BokehJS is loading...\";\n",
              "    }\n",
              "    if (root.Bokeh !== undefined) {\n",
              "      if (el != null) {\n",
              "        el.textContent = \"BokehJS \" + root.Bokeh.version + \" successfully loaded.\";\n",
              "      }\n",
              "    } else if (Date.now() < root._bokeh_timeout) {\n",
              "      setTimeout(display_loaded, 100)\n",
              "    }\n",
              "  }\n",
              "\n",
              "\n",
              "  function run_callbacks() {\n",
              "    try {\n",
              "      root._bokeh_onload_callbacks.forEach(function(callback) {\n",
              "        if (callback != null)\n",
              "          callback();\n",
              "      });\n",
              "    } finally {\n",
              "      delete root._bokeh_onload_callbacks\n",
              "    }\n",
              "    console.debug(\"Bokeh: all callbacks have finished\");\n",
              "  }\n",
              "\n",
              "  function load_libs(css_urls, js_urls, callback) {\n",
              "    if (css_urls == null) css_urls = [];\n",
              "    if (js_urls == null) js_urls = [];\n",
              "\n",
              "    root._bokeh_onload_callbacks.push(callback);\n",
              "    if (root._bokeh_is_loading > 0) {\n",
              "      console.debug(\"Bokeh: BokehJS is being loaded, scheduling callback at\", now());\n",
              "      return null;\n",
              "    }\n",
              "    if (js_urls == null || js_urls.length === 0) {\n",
              "      run_callbacks();\n",
              "      return null;\n",
              "    }\n",
              "    console.debug(\"Bokeh: BokehJS not loaded, scheduling load and callback at\", now());\n",
              "    root._bokeh_is_loading = css_urls.length + js_urls.length;\n",
              "\n",
              "    function on_load() {\n",
              "      root._bokeh_is_loading--;\n",
              "      if (root._bokeh_is_loading === 0) {\n",
              "        console.debug(\"Bokeh: all BokehJS libraries/stylesheets loaded\");\n",
              "        run_callbacks()\n",
              "      }\n",
              "    }\n",
              "\n",
              "    function on_error() {\n",
              "      console.error(\"failed to load \" + url);\n",
              "    }\n",
              "\n",
              "    for (var i = 0; i < css_urls.length; i++) {\n",
              "      var url = css_urls[i];\n",
              "      const element = document.createElement(\"link\");\n",
              "      element.onload = on_load;\n",
              "      element.onerror = on_error;\n",
              "      element.rel = \"stylesheet\";\n",
              "      element.type = \"text/css\";\n",
              "      element.href = url;\n",
              "      console.debug(\"Bokeh: injecting link tag for BokehJS stylesheet: \", url);\n",
              "      document.body.appendChild(element);\n",
              "    }\n",
              "\n",
              "    for (var i = 0; i < js_urls.length; i++) {\n",
              "      var url = js_urls[i];\n",
              "      var element = document.createElement('script');\n",
              "      element.onload = on_load;\n",
              "      element.onerror = on_error;\n",
              "      element.async = false;\n",
              "      element.src = url;\n",
              "      \n",
              "      console.debug(\"Bokeh: injecting script tag for BokehJS library: \", url);\n",
              "      document.head.appendChild(element);\n",
              "    }\n",
              "  };var element = document.getElementById(\"1001\");\n",
              "  if (element == null) {\n",
              "    console.error(\"Bokeh: ERROR: autoload.js configured with elementid '1001' but no matching script tag was found. \")\n",
              "    return false;\n",
              "  }\n",
              "\n",
              "  function inject_raw_css(css) {\n",
              "    const element = document.createElement(\"style\");\n",
              "    element.appendChild(document.createTextNode(css));\n",
              "    document.body.appendChild(element);\n",
              "  }\n",
              "\n",
              "  \n",
              "  var js_urls = [\"https://cdn.bokeh.org/bokeh/release/bokeh-2.0.0.min.js\", \"https://cdn.bokeh.org/bokeh/release/bokeh-widgets-2.0.0.min.js\", \"https://cdn.bokeh.org/bokeh/release/bokeh-tables-2.0.0.min.js\", \"https://cdn.bokeh.org/bokeh/release/bokeh-gl-2.0.0.min.js\"];\n",
              "  var css_urls = [];\n",
              "  \n",
              "\n",
              "  var inline_js = [\n",
              "    function(Bokeh) {\n",
              "      Bokeh.set_log_level(\"info\");\n",
              "    },\n",
              "    function(Bokeh) {\n",
              "    \n",
              "    \n",
              "    }\n",
              "  ];\n",
              "\n",
              "  function run_inline_js() {\n",
              "    \n",
              "    if (root.Bokeh !== undefined || force === true) {\n",
              "      \n",
              "    for (var i = 0; i < inline_js.length; i++) {\n",
              "      inline_js[i].call(root, root.Bokeh);\n",
              "    }\n",
              "    if (force === true) {\n",
              "        display_loaded();\n",
              "      }} else if (Date.now() < root._bokeh_timeout) {\n",
              "      setTimeout(run_inline_js, 100);\n",
              "    } else if (!root._bokeh_failed_load) {\n",
              "      console.log(\"Bokeh: BokehJS failed to load within specified timeout.\");\n",
              "      root._bokeh_failed_load = true;\n",
              "    } else if (force !== true) {\n",
              "      var cell = $(document.getElementById(\"1001\")).parents('.cell').data().cell;\n",
              "      cell.output_area.append_execute_result(NB_LOAD_WARNING)\n",
              "    }\n",
              "\n",
              "  }\n",
              "\n",
              "  if (root._bokeh_is_loading === 0) {\n",
              "    console.debug(\"Bokeh: BokehJS loaded, going straight to plotting\");\n",
              "    run_inline_js();\n",
              "  } else {\n",
              "    load_libs(css_urls, js_urls, function() {\n",
              "      console.debug(\"Bokeh: BokehJS plotting callback run at\", now());\n",
              "      run_inline_js();\n",
              "    });\n",
              "  }\n",
              "}(window));"
            ],
            "application/vnd.bokehjs_load.v0+json": "\n(function(root) {\n  function now() {\n    return new Date();\n  }\n\n  var force = true;\n\n  if (typeof root._bokeh_onload_callbacks === \"undefined\" || force === true) {\n    root._bokeh_onload_callbacks = [];\n    root._bokeh_is_loading = undefined;\n  }\n\n  \n\n  \n  if (typeof (root._bokeh_timeout) === \"undefined\" || force === true) {\n    root._bokeh_timeout = Date.now() + 5000;\n    root._bokeh_failed_load = false;\n  }\n\n  var NB_LOAD_WARNING = {'data': {'text/html':\n     \"<div style='background-color: #fdd'>\\n\"+\n     \"<p>\\n\"+\n     \"BokehJS does not appear to have successfully loaded. If loading BokehJS from CDN, this \\n\"+\n     \"may be due to a slow or bad network connection. Possible fixes:\\n\"+\n     \"</p>\\n\"+\n     \"<ul>\\n\"+\n     \"<li>re-rerun `output_notebook()` to attempt to load from CDN again, or</li>\\n\"+\n     \"<li>use INLINE resources instead, as so:</li>\\n\"+\n     \"</ul>\\n\"+\n     \"<code>\\n\"+\n     \"from bokeh.resources import INLINE\\n\"+\n     \"output_notebook(resources=INLINE)\\n\"+\n     \"</code>\\n\"+\n     \"</div>\"}};\n\n  function display_loaded() {\n    var el = document.getElementById(\"1001\");\n    if (el != null) {\n      el.textContent = \"BokehJS is loading...\";\n    }\n    if (root.Bokeh !== undefined) {\n      if (el != null) {\n        el.textContent = \"BokehJS \" + root.Bokeh.version + \" successfully loaded.\";\n      }\n    } else if (Date.now() < root._bokeh_timeout) {\n      setTimeout(display_loaded, 100)\n    }\n  }\n\n\n  function run_callbacks() {\n    try {\n      root._bokeh_onload_callbacks.forEach(function(callback) {\n        if (callback != null)\n          callback();\n      });\n    } finally {\n      delete root._bokeh_onload_callbacks\n    }\n    console.debug(\"Bokeh: all callbacks have finished\");\n  }\n\n  function load_libs(css_urls, js_urls, callback) {\n    if (css_urls == null) css_urls = [];\n    if (js_urls == null) js_urls = [];\n\n    root._bokeh_onload_callbacks.push(callback);\n    if (root._bokeh_is_loading > 0) {\n      console.debug(\"Bokeh: BokehJS is being loaded, scheduling callback at\", now());\n      return null;\n    }\n    if (js_urls == null || js_urls.length === 0) {\n      run_callbacks();\n      return null;\n    }\n    console.debug(\"Bokeh: BokehJS not loaded, scheduling load and callback at\", now());\n    root._bokeh_is_loading = css_urls.length + js_urls.length;\n\n    function on_load() {\n      root._bokeh_is_loading--;\n      if (root._bokeh_is_loading === 0) {\n        console.debug(\"Bokeh: all BokehJS libraries/stylesheets loaded\");\n        run_callbacks()\n      }\n    }\n\n    function on_error() {\n      console.error(\"failed to load \" + url);\n    }\n\n    for (var i = 0; i < css_urls.length; i++) {\n      var url = css_urls[i];\n      const element = document.createElement(\"link\");\n      element.onload = on_load;\n      element.onerror = on_error;\n      element.rel = \"stylesheet\";\n      element.type = \"text/css\";\n      element.href = url;\n      console.debug(\"Bokeh: injecting link tag for BokehJS stylesheet: \", url);\n      document.body.appendChild(element);\n    }\n\n    for (var i = 0; i < js_urls.length; i++) {\n      var url = js_urls[i];\n      var element = document.createElement('script');\n      element.onload = on_load;\n      element.onerror = on_error;\n      element.async = false;\n      element.src = url;\n      \n      console.debug(\"Bokeh: injecting script tag for BokehJS library: \", url);\n      document.head.appendChild(element);\n    }\n  };var element = document.getElementById(\"1001\");\n  if (element == null) {\n    console.error(\"Bokeh: ERROR: autoload.js configured with elementid '1001' but no matching script tag was found. \")\n    return false;\n  }\n\n  function inject_raw_css(css) {\n    const element = document.createElement(\"style\");\n    element.appendChild(document.createTextNode(css));\n    document.body.appendChild(element);\n  }\n\n  \n  var js_urls = [\"https://cdn.bokeh.org/bokeh/release/bokeh-2.0.0.min.js\", \"https://cdn.bokeh.org/bokeh/release/bokeh-widgets-2.0.0.min.js\", \"https://cdn.bokeh.org/bokeh/release/bokeh-tables-2.0.0.min.js\", \"https://cdn.bokeh.org/bokeh/release/bokeh-gl-2.0.0.min.js\"];\n  var css_urls = [];\n  \n\n  var inline_js = [\n    function(Bokeh) {\n      Bokeh.set_log_level(\"info\");\n    },\n    function(Bokeh) {\n    \n    \n    }\n  ];\n\n  function run_inline_js() {\n    \n    if (root.Bokeh !== undefined || force === true) {\n      \n    for (var i = 0; i < inline_js.length; i++) {\n      inline_js[i].call(root, root.Bokeh);\n    }\n    if (force === true) {\n        display_loaded();\n      }} else if (Date.now() < root._bokeh_timeout) {\n      setTimeout(run_inline_js, 100);\n    } else if (!root._bokeh_failed_load) {\n      console.log(\"Bokeh: BokehJS failed to load within specified timeout.\");\n      root._bokeh_failed_load = true;\n    } else if (force !== true) {\n      var cell = $(document.getElementById(\"1001\")).parents('.cell').data().cell;\n      cell.output_area.append_execute_result(NB_LOAD_WARNING)\n    }\n\n  }\n\n  if (root._bokeh_is_loading === 0) {\n    console.debug(\"Bokeh: BokehJS loaded, going straight to plotting\");\n    run_inline_js();\n  } else {\n    load_libs(css_urls, js_urls, function() {\n      console.debug(\"Bokeh: BokehJS plotting callback run at\", now());\n      run_inline_js();\n    });\n  }\n}(window));"
          },
          "metadata": {}
        }
      ],
      "execution_count": 1,
      "metadata": {
        "execution": {
          "iopub.execute_input": "2020-03-27T01:31:19.361Z",
          "iopub.status.busy": "2020-03-27T01:31:19.356Z",
          "iopub.status.idle": "2020-03-27T01:31:26.510Z",
          "shell.execute_reply": "2020-03-27T01:31:26.562Z"
        },
        "jupyter": {
          "source_hidden": true
        },
        "outputExpanded": false
      }
    },
    {
      "cell_type": "code",
      "source": [
        "states_to_watch = [\"Tennessee\", \"Kentucky\", \"Indiana\", \"New York\"]"
      ],
      "outputs": [],
      "execution_count": 2,
      "metadata": {
        "collapsed": false,
        "jupyter": {
          "source_hidden": false,
          "outputs_hidden": false
        },
        "nteract": {
          "transient": {
            "deleting": false
          }
        },
        "execution": {
          "iopub.status.busy": "2020-03-27T01:31:26.519Z",
          "iopub.execute_input": "2020-03-27T01:31:26.526Z",
          "iopub.status.idle": "2020-03-27T01:31:26.531Z",
          "shell.execute_reply": "2020-03-27T01:31:26.565Z"
        }
      }
    },
    {
      "cell_type": "code",
      "source": [
        "stat_tuples_array = [('Infection Rate', \"infectionRate\", infection_rate, 0), \n",
        "                     ('Death Rate', \"deathRate\", death_rate, 0),\n",
        "                     ('Case Delta', \"caseDelta\", '-----', 1),\n",
        "                     ('Delta %', \"caseDeltaRate\", '-----', 0),\n",
        "                     ('Expected Cases', \"expectedCases\", '-----', 1),\n",
        "                     ('Actual Cases', \"totalConfirmed\", total_confirmed, 1),\n",
        "                     ('Deaths Delta', \"deathDelta\", '-----', 1),\n",
        "                     ('Delta %', \"deathDeltaRate\", '-----', 0),\n",
        "                     ('Expected Deaths', \"expectedDeaths\", '-----', 1),\n",
        "                     ('Actual Deaths', \"totalDeaths\", total_deaths, 1),\n",
        "                     ('Case Share', \"caseShare\", '-----', 0),\n",
        "                     ('Death Share', \"deathShare\", '-----', 0),\n",
        "                     ('Recovery Share', \"recoveryShare\", '-----', 0),\n",
        "                    ]\n",
        "table = \" | Metric | \"\n",
        "for state in states_to_watch:\n",
        "    table += \"`{}` | \".format(state)\n",
        "table += \"`United States` |\\n\"\n",
        "table += \"| --- | \"\n",
        "for state in states_to_watch:\n",
        "    table += \"---: | \"\n",
        "table += \"---: |\\n\"\n",
        "for field in stat_tuples_array:\n",
        "    table += \"| {} | \".format(field[0])\n",
        "    if field[3] == 0:\n",
        "        for state in states_to_watch:\n",
        "            table += \"`{:.4%}` | \".format(covid.loc[state, format(field[1])])\n",
        "        if isinstance(field[2], float):\n",
        "            table += \"`{:.4%}` |\\n\".format(field[2])\n",
        "        else:\n",
        "            table += \"`{}` |\\n\".format(field[2])\n",
        "    elif field[3] == 1:\n",
        "        for state in states_to_watch:\n",
        "            table += \"`{:,}` | \".format(int(covid.loc[state, field[1]]))\n",
        "        if isinstance(field[2], float) or isinstance(field[2], int):\n",
        "            table += \"`{:,}` |\\n\".format(int(field[2]))\n",
        "        else:\n",
        "            table += \"`{}` |\\n\".format(field[2])\n",
        "\n",
        "md(table)"
      ],
      "outputs": [
        {
          "output_type": "execute_result",
          "execution_count": 3,
          "data": {
            "text/plain": [
              "<IPython.core.display.Markdown object>"
            ],
            "text/markdown": [
              " | Metric | `Tennessee` | `Kentucky` | `Indiana` | `New York` | `United States` |\n",
              "| --- | ---: | ---: | ---: | ---: | ---: |\n",
              "| Infection Rate | `0.0139%` | `0.0055%` | `0.0096%` | `0.1917%` | `0.0247%` |\n",
              "| Death Rate | `0.3135%` | `0.0000%` | `2.6357%` | `1.0333%` | `1.4277%` |\n",
              "| Case Delta | `-746` | `-863` | `-1,020` | `32,457` | `-----` |\n",
              "| Delta % | `-43.8097%` | `-77.6790%` | `-61.2742%` | `676.1728%` | `-----` |\n",
              "| Expected Cases | `1,703` | `1,111` | `1,665` | `4,800` | `-----` |\n",
              "| Actual Cases | `957` | `248` | `645` | `37,258` | `81,809` |\n",
              "| Deaths Delta | `-10` | `-3` | `7` | `-146` | `-----` |\n",
              "| Delta % | `-78.0433%` | `-100.0000%` | `84.6067%` | `-27.6232%` | `-----` |\n",
              "| Expected Deaths | `13` | `3` | `9` | `531` | `-----` |\n",
              "| Actual Deaths | `3` | `0` | `17` | `385` | `1,168` |\n",
              "| Case Share | `1.1698%` | `0.3031%` | `0.7884%` | `45.5427%` | `-----` |\n",
              "| Death Share | `0.2568%` | `0.0000%` | `1.4555%` | `32.9623%` | `-----` |\n",
              "| Recovery Share | `0.0000%` | `0.0000%` | `0.0000%` | `0.0000%` | `-----` |\n"
            ]
          },
          "metadata": {}
        }
      ],
      "execution_count": 3,
      "metadata": {
        "execution": {
          "iopub.execute_input": "2020-03-27T01:31:26.543Z",
          "iopub.status.busy": "2020-03-27T01:31:26.538Z",
          "iopub.status.idle": "2020-03-27T01:31:26.559Z",
          "shell.execute_reply": "2020-03-27T01:31:26.568Z"
        },
        "jupyter": {
          "source_hidden": true
        },
        "outputExpanded": false
      }
    },
    {
      "cell_type": "code",
      "source": [
        "source = ColumnDataSource(data=covid)\n",
        "plot_height = 600\n",
        "plot_width = 1000\n",
        "width = 0.5\n",
        "\n",
        "title_p = \"COVID Confirmed: {:,} - Death Rate: {:.4%} - Recovery Rate: {:.4%}\".format(total_confirmed, death_rate, recovery_rate)\n",
        "title_q = \"COVID Deaths: {:,} - Death Rate: {:.4%}\".format(total_deaths, death_rate)\n",
        "title_z = \"COVID Recovered: {:,} - Recovery Rate: {:.4%}\".format(total_recoveries, recovery_rate)\n",
        "title_x = \"COVID US National Infection Rate: {:.4%}\".format(infection_rate)\n",
        "title_y = \"COVID US Confirmed / Expected Delta\"\n",
        "title_m = \"COVID US Percentage Share of Confirmed Cases by State\"\n",
        "title_n = \"COVID US Percentage Share of Deaths by State\"\n",
        "title_o = \"COVID US Percentage Share of Recoveries by State\"\n",
        "\n",
        "p = figure(x_range=index, plot_height=plot_height, plot_width=plot_width, title=title_p)\n",
        "p.vbar(x='state_name', top='totalConfirmed', width=width, source=source, line_color='white')\n",
        "p.xgrid.grid_line_color = None\n",
        "p.y_range.start = 0\n",
        "p.y_range.end = covid['totalConfirmed'].max() + covid['totalConfirmed'].std()\n",
        "p.xaxis.major_label_orientation = math.pi / 4\n",
        "\n",
        "q = figure(x_range=index, plot_height=plot_height, plot_width=plot_width, title=title_q)\n",
        "q.vbar(x='state_name', top='totalDeaths', width=width, source=source, line_color='white')\n",
        "q.xgrid.grid_line_color = None\n",
        "q.y_range.start = 0\n",
        "q.y_range.end = covid['totalDeaths'].max() + covid['totalDeaths'].std()\n",
        "q.xaxis.major_label_orientation = math.pi / 4\n",
        "\n",
        "z = figure(x_range=index, plot_height=plot_height, plot_width=plot_width, title=title_z)\n",
        "z.vbar(x='state_name', top='totalRecovered', width=width, source=source, line_color='white')\n",
        "z.xgrid.grid_line_color = None\n",
        "z.y_range.start = 0\n",
        "z.y_range.end = covid['totalRecovered'].max() + covid['totalRecovered'].std()\n",
        "z.xaxis.major_label_orientation = math.pi / 4\n",
        "\n",
        "x = figure(x_range=index, plot_height=plot_height, plot_width=plot_width, title=title_x)\n",
        "x.vbar(x='state_name', top='infectionRate', width=width, source=source)\n",
        "x.xgrid.grid_line_color = None\n",
        "x.y_range.start = 0\n",
        "x.y_range.end = covid['infectionRate'].max() + covid['infectionRate'].std()\n",
        "x.xaxis.major_label_orientation = math.pi / 4\n",
        "\n",
        "y = figure(x_range=index, plot_height=plot_height, plot_width=plot_width, title=title_y)\n",
        "y.vbar(x='state_name', top='caseDelta', width=width, source=source)\n",
        "y.xgrid.grid_line_color = None\n",
        "y.y_range.start = covid['caseDelta'].min() - covid['caseDelta'].std()\n",
        "y.y_range.end = covid['caseDelta'].max() + covid['caseDelta'].std()\n",
        "y.xaxis.major_label_orientation = math.pi / 4\n",
        "\n",
        "m = figure(x_range=index, plot_height=plot_height, plot_width=plot_width, title=title_m)\n",
        "m.vbar(x='state_name', top='caseShare', width=width, source=source)\n",
        "m.xgrid.grid_line_color = None\n",
        "m.y_range.start = 0\n",
        "m.y_range.end = covid['caseShare'].max() + covid['caseShare'].std()\n",
        "m.xaxis.major_label_orientation = math.pi / 4\n",
        "\n",
        "n = figure(x_range=index, plot_height=plot_height, plot_width=plot_width, title=title_n)\n",
        "n.vbar(x='state_name', top='deathShare', width=width, source=source)\n",
        "n.xgrid.grid_line_color = None\n",
        "n.y_range.start = 0\n",
        "n.y_range.end = covid['deathShare'].max() + covid['deathShare'].std()\n",
        "n.xaxis.major_label_orientation = math.pi / 4\n",
        "\n",
        "o = figure(x_range=index, plot_height=plot_height, plot_width=plot_width, title=title_o)\n",
        "o.vbar(x='state_name', top='recoveryShare', width=width, source=source)\n",
        "o.xgrid.grid_line_color = None\n",
        "o.y_range.start = 0\n",
        "o.y_range.end = covid['recoveryShare'].max() + covid['recoveryShare'].std()\n",
        "o.xaxis.major_label_orientation = math.pi / 4\n",
        "\n",
        "show(x)\n",
        "show(y)\n",
        "show(m)\n",
        "show(n)\n",
        "show(p)\n",
        "show(q)\n",
        "show(z)\n",
        "show(o)"
      ],
      "outputs": [
        {
          "output_type": "display_data",
          "data": {
            "text/html": [
              "\n",
              "\n",
              "\n",
              "\n",
              "\n",
              "\n",
              "  <div class=\"bk-root\" id=\"2a127553-11f5-4a81-889e-70a6594f657e\" data-root-id=\"1111\"></div>\n"
            ]
          },
          "metadata": {}
        },
        {
          "output_type": "display_data",
          "data": {
            "application/javascript": [
              "(function(root) {\n",
              "  function embed_document(root) {\n",
              "    \n",
              "  var docs_json = {\"72d95364-be61-4c37-b0f2-7289786cb686\":{\"roots\":{\"references\":[{\"attributes\":{\"below\":[{\"id\":\"1122\"}],\"center\":[{\"id\":\"1124\"},{\"id\":\"1128\"}],\"left\":[{\"id\":\"1125\"}],\"plot_width\":1000,\"renderers\":[{\"id\":\"1145\"}],\"title\":{\"id\":\"1112\"},\"toolbar\":{\"id\":\"1135\"},\"x_range\":{\"id\":\"1114\"},\"x_scale\":{\"id\":\"1118\"},\"y_range\":{\"id\":\"1116\"},\"y_scale\":{\"id\":\"1120\"}},\"id\":\"1111\",\"subtype\":\"Figure\",\"type\":\"Plot\"},{\"attributes\":{\"axis\":{\"id\":\"1125\"},\"dimension\":1,\"ticker\":null},\"id\":\"1128\",\"type\":\"Grid\"},{\"attributes\":{},\"id\":\"1298\",\"type\":\"UnionRenderers\"},{\"attributes\":{\"fill_alpha\":{\"value\":0.1},\"fill_color\":{\"value\":\"#1f77b4\"},\"line_alpha\":{\"value\":0.1},\"line_color\":{\"value\":\"#1f77b4\"},\"top\":{\"field\":\"infectionRate\"},\"width\":{\"value\":0.5},\"x\":{\"field\":\"state_name\"}},\"id\":\"1144\",\"type\":\"VBar\"},{\"attributes\":{\"fill_color\":{\"value\":\"#1f77b4\"},\"line_color\":{\"value\":\"#1f77b4\"},\"top\":{\"field\":\"infectionRate\"},\"width\":{\"value\":0.5},\"x\":{\"field\":\"state_name\"}},\"id\":\"1143\",\"type\":\"VBar\"},{\"attributes\":{},\"id\":\"1293\",\"type\":\"BasicTickFormatter\"},{\"attributes\":{},\"id\":\"1129\",\"type\":\"PanTool\"},{\"attributes\":{},\"id\":\"1130\",\"type\":\"WheelZoomTool\"},{\"attributes\":{},\"id\":\"1297\",\"type\":\"Selection\"},{\"attributes\":{},\"id\":\"1295\",\"type\":\"CategoricalTickFormatter\"},{\"attributes\":{\"overlay\":{\"id\":\"1296\"}},\"id\":\"1131\",\"type\":\"BoxZoomTool\"},{\"attributes\":{\"data\":{\"caseDelta\":{\"__ndarray__\":\"3/WZ83Gy30BG1IgOZD2yQBPXVsL/BpRA3AvgSVLHusDgglnUE3t3QGTeAcxRX4LARnUszfcEp8Aoc7cZxbKFQLiQ3ZgQGJJArBb7ft4al8AUPFaAvpeRwID/M0vrvSrAbcVYYET5tsDsHdFCr4ZgQNz2ZsYiUYfA0tE4UunGn8BebQcdRQ+HwOryMKRx5I/Ajqks6hMBn8DcnnWMStCMwLckihWPh5TAQnVwwnnqj8BUadfOWqNvwFxd5vPX4IbAovXbCeUXmsCgWimdxPOJwM4bFOraM3bApoGiDqmGecAt0/T6aZaQwH5EdW0u9nnABDJAbSlQh8D8kHCwHkNWQOIY/S4pxIbAOCAj93j4isB5TiJtmV5wwHZkNqRR8YLAmfa1P/o0gcDgBkTrT/JXwIDdFE7fWwdAABnJ16EpZsCSCxA3xTJpwLpLFIAz23fAes8u44AsXMDoDeBmNlpuwMpEdAAGknnA8lzAXOxKZsBMvCRnS49ewEh8kLGWwFXAJqTcn64CYcBSCLI2oEB4wOxSBqsuH2bA\",\"dtype\":\"float64\",\"shape\":[51]},\"caseDeltaRate\":{\"__ndarray__\":\"29qYhgIMG0BXThRTwu0AQLvp+6biTeU/Kr3X0No+5r9NTXftXmPDPxWzATruEsi/lK9XXNVc4b99MPPV3MvZPyHhKd5lJ/A/Q7x8oAXl3b86GGsGzS7bv5WHmfLW+IK/Y+88zIbc6b/hhdq4JTzDP0Uhj3LJCdy/fupaMH1v5r8hF5aZnlfgvwWqpLeUm+O/K+o2tJw76L/XKVecuKTjv1k76j7QE+e/YBWur1x05b99Cb80RPLVvxGqcQHtU+O/uQLwVdAW6b9zs7WYR6jkv6M29UuwU92//85t2G0g4L9maDyPVyLov98EDGHKtuG/HIlFjoB65r/bO1S+XQPgP+hJpe+I3+e/H9kxv3Xb6L8i9o+JUpbiv0EA3FJotOi/ncuqVd6E6L91xfzvzYHXv1HdgEqqR5M/cKs71uIS4b+VYsqKUw3jv7JtnWX1l+e/NH5aJOW33b8gdDZnmEbmvxtfcdugJ+u/9s/FbHRE5b8nG/pYM5XlvwDSkVPy4uO/5J4xLSMn57/YE1wDZUjsv89EDwz6Zem/\",\"dtype\":\"float64\",\"shape\":[51]},\"caseShare\":{\"__ndarray__\":\"tGp94bUl3T9IVJt6Q4S1P2LM/n8pEqQ/kDGRMSDQoj8tkKbUzN+hP+kXN5qexJ8/O4/0x5UXnz+v0gDp5ECeP+hOgAUC2pw/6sC/grkdlT/hJvgLnxaTP2NJJHQ15pE/0PzK3EJ5kT/bKAB9llWJP0pe/Tgc9Yc/W0HKJlS0hT+0fzZ48LKBP6qkw9eZJYA/i0OweNjXfz/8O6+xEgp9P7IN9/o4b3k/LF8SgVEieT8Fxl9SbEh4P+uJdhdWCHg/gZnRK/0Hdz/Sz+MvuNR2P664h1RLB3U/G63Z5pQgdD+Npdgfz1JxP+y6CmvRxXA/3HnCfJOkbz+irIBgebxqP6awLQdq1Wg/prAtB2rVaD8D80b/9uxiP5kCohOe7GE/WC0GqqLSYD/SfiEwu4VgP9x5wnyTpF8/0Bz5iMQKXz+G7kDS6m9bP9ckU9alPFs/v2rA7gcJWj9cgnVQkDpVP6sFna1XPU0/cOeYkUAGUj+O9pofzKFHP1yCdVCQOkU//+6ZWAbURD+hW75gfG1EP856dInKbEI/\",\"dtype\":\"float64\",\"shape\":[51]},\"deathDelta\":{\"__ndarray__\":\"bBtm6gZeYsCIsGTfcysxwHCvAFWkTVlA3I3ZHW0qKEAYB+S6dDkzQIyuzc+JeCTAgM1LYJvbGcCg4IkzCgQjwP/S3NiqC0lAFnBFMs8rIMCo81iWMjo6QFjiNDxYqwxA0IV4PQTl/r/MoteywDQaQIz/ADGUUyXAzDUFD0D5BECopngkacAAwFywyQs5Kh9ACg2p6TJSHMBs4KtSfR8RwACj8Q0Y6ec/iFs4Rtim6j/w7qlv3JTtv1A1wzKCaRfA6OwEOuO6GUDoTcDSu+oDQFoxlROuAxBAc0lQ1yn1EsCqOaaA6IQHwNT0YHiLhvy/gBbZ4iP0GUCkE0vI6fvpv4Lizw+TrAtAfh0w8GxTDMCIlpgmsk3TP/fKZE7kcQTAINFD2Pk+4z+nNOaCidgCwECLbPER+hpAbxIeFiS0AcAiIKSvT5fuvwys7VBaIu6/wnlTDE2y/b+yCMabzDb4vzyNAwH8rPC//GcSpiGP9L8Y+8yvzC3EP7IIxpvMNui/m5QPPdfB57+EIFne4Uznv9pHbvbR99U/\",\"dtype\":\"float64\",\"shape\":[51]},\"deathDeltaRate\":{\"__ndarray__\":\"oj2gmcit0b8wxJW1EmPGv5gK2uYprwFAlpmrur0E0j+pZNi/jizeP3x8krD9E9K/ngRTB/NUx78lH1Y7QKLRv/Qt+WqYWvg/aPwu+yJ81b9b6znBCUbzPweW4TK+d8Y/VJIGSiXNuL9mHFMEKAXdP6zMahtO+ei/US0oaTYcyz9NgNXnl43KvyMX4AD7Eus/8rHkGabz6L+uKB4J34rgv4FrhuS0X7o/YfG2/rO/vT+L5KjKlBbBv0ocwQqeVOu/6LczIKBX7z+Wv1b+WnnYP9gFYReEXeU/CAddbK1s6r/sd1TVVAvjv9NlNwxH29e/aL+Yub0C9z+Tz+xG+EPLvzdw4MCBQ+8/AAAAAAAA8L/YyVona528PwAAAAAAAPC/xYgRI0YM0D8AAAAAAADwv5ucCFL46gdAAAAAAAAA8L+/dxqWmEffv5Kp2jwBCt+/AAAAAAAA8L8AAAAAAADwvwAAAAAAAPC/AAAAAAAA8L+dA1F/lvTHPwAAAAAAAPC/AAAAAAAA8L8AAAAAAADwvymhsd2OueA/\",\"dtype\":\"float64\",\"shape\":[51]},\"deathRate\":{\"__ndarray__\":\"DSqc7KYphT+heNrjKiCIP1mXqED6d6c/VdEtbWG8kj8WOoMVOoOVPzcZl+f0+oQ/YhrAJurohz+ZRxzF6y6FP4/1XbK6b6I/E4BsE4Bsgz/Sib9/ix2gP1eH0pyeL5E/zx7OEyloij+DK7k9vz+VP9oQVeokrmk/9E2oAl23kT8f+XCYiSyHP4zTr8E4/Zo/AqHkTtHCaT/w+MMBjz98PwgEAoFAIJA/BDTX95dRkD8ZkEOACVaJPxEREREREWE/zxEo2mrwnD9eQ3kN5TWUPxiGYRiGYZg/ms/1x8tgZD/D7OAIIq13PwtukM0dV4I/pSN7BqLSoT9wgQtc4AKHP+ecc84555w/AAAAAAAAAAAQBEEQBEGQPwAAAAAAAAAAkiRJkiRJkj8AAAAAAAAAAFQ6smcgKq0/AAAAAAAAAACKhvjj1uV9Px4eHh4eHn4/AAAAAAAAAAAAAAAAAAAAAAAAAAAAAAAAAAAAAAAAAAANJ3VfHluRPwAAAAAAAAAAAAAAAAAAAAAAAAAAAAAAAGQhC1nIQpY/\",\"dtype\":\"float64\",\"shape\":[51]},\"deathShare\":{\"__ndarray__\":\"iREjRowY1T8OHDhw4MCxP8GBAwcOHMA/wYEDBw4cqD/SpEmTJk2qP7Zs2bJly5Y/y5YtW7ZsmT+vXr169eqVPxIjRowYMbI/4MCBAwcOjD+oUKFChQqlP6hQoUKFCpU//Pjx48ePjz+TJk2aNGmSP6hQoUKFCmU/0qRJkyZNij/gwIEDBw58P+7cuXPnzo0/4MCBAwcOXD/gwIEDBw5sP+DAgQMHDnw/4MCBAwcOfD+oUKFChQp1P+DAgQMHDkw/tmzZsmXLhj/8+PHjx49/P4wYMWLEiIE/4MCBAwcOTD/gwIEDBw5cP6hQoUKFCmU/mjRp0qRJgz+oUKFChQplP8SIESNGjHg/AAAAAAAAAACoUKFChQplPwAAAAAAAAAAqFChQoUKZT8AAAAAAAAAAPz48ePHj38/AAAAAAAAAADgwIEDBw5MP+DAgQMHDkw/AAAAAAAAAAAAAAAAAAAAAAAAAAAAAAAAAAAAAAAAAADgwIEDBw5MPwAAAAAAAAAAAAAAAAAAAAAAAAAAAAAAAODAgQMHDkw/\",\"dtype\":\"float64\",\"shape\":[51]},\"expectedCases\":{\"__ndarray__\":\"gyiYMTjAskB1V+7iNz2hQO0oqT0AFZ5A7gXwJKlCw0Ckz3SFnWCjQJl3AHPUa6hAozqW5ns2tUBsRiRzneqaQEhvImfv65FAVot9P2+7qEAKHitA37WkQP9nltZ7jZZAbcVYYERtvECFuEsvVH6LQG57M2ORnJpA6WgcqXSppkCvtoOOopOWQHV5GNI4BppAx1QW9Yl4pEBuzzpGJXiXQLckihWPd5xAoTo44TzNl0BV2rWz1hCHQK4u8/lr8JJA0frthPKjoEBQrZRO4hmUQOcNCnXtOYhA00BRh1RTiUAt0/T6af6VQD+iujYXc4dAAhmgthSYkECCt8encD5mQOIY/S4phI5AHJCRezxckUB5TiJtmS58QHZkNqRRiYhAmfa1P/p0hkC4AdH6k0xwQIqsx4KQYmNAgIzk69DEdEDJBYibYil1QN0lCsCZLYBAvWeXcUBWbkD0BnAzG811QMpEdAAGIn5AeS5gLnbFcEAmXpKzpadmQCQ+yFhLgGFAJqTcn66CZ0BSCLI2oHB7QOxSBqsu32tA\",\"dtype\":\"float64\",\"shape\":[51]},\"expectedDeaths\":{\"__ndarray__\":\"24aZuoGfgEAiLNn33IpYQCCh/lW35EZAiZyJuGR1RUB0/I2iRWNEQKNr83MiHkJAsHkJbHO7QUAoeOKMAkFBQAEtIydVdEBAC7gimecVOEBYDKdpzcU1QLVjefiUajRAXYjXQ1DuM0CaLpSmn+UsQIz/ADGUUytAjbI+/K/BKECqKR5JGjAkQNInG3rjaiJAhYbUdBkpIkA28FWpvo8gQKDLQf7cAh1Aj/Q49ySrHEDePfWNm7IbQFA1wzKCaRtAGBP7xRxFGkAM2Z8WogoaQKbOauxR/BdAc0lQ1yn1FkDVHFNAdMITQDU9GN6iIRNAgOkmHdwLEkDpxBJy+n4OQH4dMPBsUwxAfh0w8GxTDEAv7Sy7SZYFQPfKZE7kcQRAuAvviUEwA0CnNOaCidgCQIDpJh3cCwJAbxIeFiS0AUARENLXp0v/PwbWdigtEf8/wnlTDE2y/T+yCMabzDb4PzyNAwH8rPA//GcSpiGP9D86wQzUjPTqP7IIxpvMNug/m5QPPdfB5z+EIFne4UznPxPcyAQXBOU/\",\"dtype\":\"float64\",\"shape\":[51]},\"infectionRate\":{\"__ndarray__\":\"IyeADHVmXz+spYT4YTZJPyCr5D+W9Do/kGKI+R+7Ez+WInb4F6IyP8C16Dv1Rio/uE35IJ6bHT+utGmLXbQ2P+rCOvyIQkA/M70w8Co/IT9YWk91Op4iP198lHE8CDA/zKz3LG3VCD943lGJIp0yP7sdSUR9LyI/lBt23L9YEz9sdbGc/asfP9up1aYKERk/N/Ly2Q9sDz/rsg+cjf4YPwy5z09cDBI/LJqADrhUFT+/SriFH0QlP3/YypL7oRk/SksS+Eb1Cz9MIz1Sh/EWP9pPoUypiCE/z4IRWNANID/Fxb/mStIPPwcKFvWn5Rw/4WWZ9XhCEz8TuSXFnkc4P30q6/JHcBA/+nt1+WTlDD+Nxbw7gSEbPyFQsL5hgw0/t9E8rLNDDj9fYxSuFHokPx+mQv6bfDA/M4DPBzIxHj+Z8g7ZyTAaPxEQAREQARE/NSri6fxVIT/sDBWzd6sTP2vplJzymQM/4/n7tZ+1FT8hFIhmSxIVPzViLp+vgBg/Mnf720XlET+2LrH+eRP+PrAHa6MFtQo/\",\"dtype\":\"float64\",\"shape\":[51]},\"population\":[19440469,8936574,7797095,39937489,10045029,12659682,21992985,6976597,4645184,12820878,10736059,5845526,29472295,3563077,6897576,11747694,5851754,6745354,10611862,6083116,7378494,6169270,2989260,4908921,8626207,5210095,3139658,3282115,5700671,3038999,4301089,720687,3954821,4499692,1826156,3179849,2910357,1056161,628061,1345790,1371246,2096640,982895,1412687,1952570,1086759,734002,567025,761723,1778070,903027],\"recoveryRate\":{\"__ndarray__\":\"AAAAAAAAAAAzmA5S7w8zPwAAAAAAAAAAhnVyoO5ZYD8AAAAAAAAAAPbjfn9o0kk/AAAAAAAAAACbhNy+Vh07PwAAAAAAAAAAGzC1GjC1ej8AAAAAAAAAAAAAAAAAAAAAKWgajDUjgD8AAAAAAAAAAAAAAAAAAAAAAAAAAAAAAAAAAAAAAAAAAAAAAAAAAAAAAAAAAAAAAAAAAAAAAAAAAAAAAAAAAAAAAAAAAAAAAAAAAAAAAAAAAAAAAAAAAAAAHYGirQbPYT8AAAAAAAAAAAAAAAAAAAAAAAAAAAAAAAAAAAAAAAAAADZ3XElg3qM/AAAAAAAAAAB4afZdmn3HPwAAAAAAAAAAAAAAAAAAAAAAAAAAAAAAAAAAAAAAAAAAAAAAAAAAAAAAAAAAAAAAAAAAAAAAAAAA0hMcPcHRkz8AAAAAAAAAAAAAAAAAAAAAAAAAAAAAAAAAAAAAAAAAAAAAAAAAAAAAAAAAAAAAAAAAAAAAAAAAAAAAAAAAAAAAAAAAAAAAAAAAAAAAAAAAAGQhC1nIQtY/\",\"dtype\":\"float64\",\"shape\":[51]},\"recoveryShare\":{\"__ndarray__\":\"AAAAAAAAAAAdgaKtBs+RPwAAAAAAAAAAq8FzBIq2qj8AAAAAAAAAAB2Boq0Gz5E/AAAAAAAAAAAdgaKtBs+BPwAAAAAAAAAAiHG/Lql8uD8AAAAAAAAAAAAAAAAAAAAAiHG/Lql8uD8AAAAAAAAAAAAAAAAAAAAAAAAAAAAAAAAAAAAAAAAAAAAAAAAAAAAAAAAAAAAAAAAAAAAAAAAAAAAAAAAAAAAAAAAAAAAAAAAAAAAAAAAAAAAAAAAAAAAAHYGirQbPgT8AAAAAAAAAAAAAAAAAAAAAAAAAAAAAAAAAAAAAAAAAAM8RKNpq8Lw/AAAAAAAAAAC01eA5AkXbPwAAAAAAAAAAAAAAAAAAAAAAAAAAAAAAAAAAAAAAAAAAAAAAAAAAAAAAAAAAAAAAAAAAAAAAAAAAq8FzBIq2mj8AAAAAAAAAAAAAAAAAAAAAAAAAAAAAAAAAAAAAAAAAAAAAAAAAAAAAAAAAAAAAAAAAAAAAAAAAAAAAAAAAAAAAAAAAAAAAAAAAAAAAAAAAAB2Boq0Gz8E/\",\"dtype\":\"float64\",\"shape\":[51]},\"state_name\":[\"New York\",\"New Jersey\",\"Washington\",\"California\",\"Michigan\",\"Illinois\",\"Florida\",\"Massachusetts\",\"Louisiana\",\"Pennsylvania\",\"Georgia\",\"Colorado\",\"Texas\",\"Connecticut\",\"Tennessee\",\"Ohio\",\"Wisconsin\",\"Indiana\",\"North Carolina\",\"Maryland\",\"Arizona\",\"Missouri\",\"Mississippi\",\"Alabama\",\"Virginia\",\"South Carolina\",\"Nevada\",\"Utah\",\"Minnesota\",\"Arkansas\",\"Oregon\",\"District of Columbia\",\"Oklahoma\",\"Kentucky\",\"Idaho\",\"Iowa\",\"Kansas\",\"Rhode Island\",\"Vermont\",\"Maine\",\"New Hampshire\",\"New Mexico\",\"Delaware\",\"Hawaii\",\"Nebraska\",\"Montana\",\"Alaska\",\"Wyoming\",\"North Dakota\",\"West Virginia\",\"South Dakota\"],\"totalConfirmed\":[37258,6876,3207,3006,2856,2538,2484,2417,2305,1687,1525,1430,1396,1012,957,867,707,645,636,580,508,502,485,480,460,456,420,402,346,335,316,267,248,248,189,179,168,165,158,155,137,136,130,106,73,90,59,53,52,51,46],\"totalDeaths\":{\"__ndarray__\":\"AAAAAAAQeEAAAAAAAEBUQAAAAAAAYGJAAAAAAACAS0AAAAAAAABOQAAAAAAAADpAAAAAAAAAPUAAAAAAAAA5QAAAAAAAwFRAAAAAAAAAMEAAAAAAAABIQAAAAAAAADhAAAAAAAAAMkAAAAAAAAA1QAAAAAAAAAhAAAAAAAAALkAAAAAAAAAgQAAAAAAAADFAAAAAAAAAAEAAAAAAAAAQQAAAAAAAACBAAAAAAAAAIEAAAAAAAAAYQAAAAAAAAPA/AAAAAAAAKkAAAAAAAAAiQAAAAAAAACRAAAAAAAAA8D8AAAAAAAAAQAAAAAAAAAhAAAAAAAAAJkAAAAAAAAAIQAAAAAAAABxAAAAAAAAAAAAAAAAAAAAIQAAAAAAAAAAAAAAAAAAACEAAAAAAAAAAAAAAAAAAACJAAAAAAAAAAAAAAAAAAADwPwAAAAAAAPA/AAAAAAAAAAAAAAAAAAAAAAAAAAAAAAAAAAAAAAAAAAAAAAAAAADwPwAAAAAAAAAAAAAAAAAAAAAAAAAAAAAAAAAAAAAAAPA/\",\"dtype\":\"float64\",\"shape\":[51]},\"totalRecovered\":{\"__ndarray__\":\"AAAAAAAAAAAAAAAAAAAAQAAAAAAAAAAAAAAAAAAAGEAAAAAAAAAAAAAAAAAAAABAAAAAAAAAAAAAAAAAAADwPwAAAAAAAAAAAAAAAAAAJkAAAAAAAAAAAAAAAAAAAAAAAAAAAAAAJkAAAAAAAAAAAAAAAAAAAAAAAAAAAAAAAAAAAAAAAAAAAAAAAAAAAAAAAAAAAAAAAAAAAAAAAAAAAAAAAAAAAAAAAAAAAAAAAAAAAAAAAAAAAAAAAAAAAAAAAAAAAAAA8D8AAAAAAAAAAAAAAAAAAAAAAAAAAAAAAAAAAAAAAAAAAAAAAAAAACpAAAAAAAAAAAAAAAAAAIBIQAAAAAAAAAAAAAAAAAAAAAAAAAAAAAAAAAAAAAAAAAAAAAAAAAAAAAAAAAAAAAAAAAAAAAAAAAAAAAAAAAAACEAAAAAAAAAAAAAAAAAAAAAAAAAAAAAAAAAAAAAAAAAAAAAAAAAAAAAAAAAAAAAAAAAAAAAAAAAAAAAAAAAAAAAAAAAAAAAAAAAAAAAAAAAAAAAAAAAAADBA\",\"dtype\":\"float64\",\"shape\":[51]}},\"selected\":{\"id\":\"1297\"},\"selection_policy\":{\"id\":\"1298\"}},\"id\":\"1002\",\"type\":\"ColumnDataSource\"},{\"attributes\":{},\"id\":\"1132\",\"type\":\"SaveTool\"},{\"attributes\":{\"text\":\"COVID US National Infection Rate: 0.0247%\"},\"id\":\"1112\",\"type\":\"Title\"},{\"attributes\":{},\"id\":\"1133\",\"type\":\"ResetTool\"},{\"attributes\":{\"source\":{\"id\":\"1002\"}},\"id\":\"1146\",\"type\":\"CDSView\"},{\"attributes\":{},\"id\":\"1134\",\"type\":\"HelpTool\"},{\"attributes\":{\"factors\":[\"New York\",\"New Jersey\",\"Washington\",\"California\",\"Michigan\",\"Illinois\",\"Florida\",\"Massachusetts\",\"Louisiana\",\"Pennsylvania\",\"Georgia\",\"Colorado\",\"Texas\",\"Connecticut\",\"Tennessee\",\"Ohio\",\"Wisconsin\",\"Indiana\",\"North Carolina\",\"Maryland\",\"Arizona\",\"Missouri\",\"Mississippi\",\"Alabama\",\"Virginia\",\"South Carolina\",\"Nevada\",\"Utah\",\"Minnesota\",\"Arkansas\",\"Oregon\",\"District of Columbia\",\"Oklahoma\",\"Kentucky\",\"Idaho\",\"Iowa\",\"Kansas\",\"Rhode Island\",\"Vermont\",\"Maine\",\"New Hampshire\",\"New Mexico\",\"Delaware\",\"Hawaii\",\"Nebraska\",\"Montana\",\"Alaska\",\"Wyoming\",\"North Dakota\",\"West Virginia\",\"South Dakota\"]},\"id\":\"1114\",\"type\":\"FactorRange\"},{\"attributes\":{\"active_drag\":\"auto\",\"active_inspect\":\"auto\",\"active_multi\":null,\"active_scroll\":\"auto\",\"active_tap\":\"auto\",\"tools\":[{\"id\":\"1129\"},{\"id\":\"1130\"},{\"id\":\"1131\"},{\"id\":\"1132\"},{\"id\":\"1133\"},{\"id\":\"1134\"}]},\"id\":\"1135\",\"type\":\"Toolbar\"},{\"attributes\":{\"end\":0.002198860982618324,\"start\":0},\"id\":\"1116\",\"type\":\"DataRange1d\"},{\"attributes\":{},\"id\":\"1118\",\"type\":\"CategoricalScale\"},{\"attributes\":{},\"id\":\"1120\",\"type\":\"LinearScale\"},{\"attributes\":{\"data_source\":{\"id\":\"1002\"},\"glyph\":{\"id\":\"1143\"},\"hover_glyph\":null,\"muted_glyph\":null,\"nonselection_glyph\":{\"id\":\"1144\"},\"selection_glyph\":null,\"view\":{\"id\":\"1146\"}},\"id\":\"1145\",\"type\":\"GlyphRenderer\"},{\"attributes\":{\"formatter\":{\"id\":\"1295\"},\"major_label_orientation\":0.7853981633974483,\"ticker\":{\"id\":\"1123\"}},\"id\":\"1122\",\"type\":\"CategoricalAxis\"},{\"attributes\":{},\"id\":\"1123\",\"type\":\"CategoricalTicker\"},{\"attributes\":{\"axis\":{\"id\":\"1122\"},\"grid_line_color\":null,\"ticker\":null},\"id\":\"1124\",\"type\":\"Grid\"},{\"attributes\":{\"bottom_units\":\"screen\",\"fill_alpha\":0.5,\"fill_color\":\"lightgrey\",\"left_units\":\"screen\",\"level\":\"overlay\",\"line_alpha\":1.0,\"line_color\":\"black\",\"line_dash\":[4,4],\"line_width\":2,\"render_mode\":\"css\",\"right_units\":\"screen\",\"top_units\":\"screen\"},\"id\":\"1296\",\"type\":\"BoxAnnotation\"},{\"attributes\":{\"formatter\":{\"id\":\"1293\"},\"ticker\":{\"id\":\"1126\"}},\"id\":\"1125\",\"type\":\"LinearAxis\"},{\"attributes\":{},\"id\":\"1126\",\"type\":\"BasicTicker\"}],\"root_ids\":[\"1111\"]},\"title\":\"Bokeh Application\",\"version\":\"2.0.0\"}};\n",
              "  var render_items = [{\"docid\":\"72d95364-be61-4c37-b0f2-7289786cb686\",\"root_ids\":[\"1111\"],\"roots\":{\"1111\":\"2a127553-11f5-4a81-889e-70a6594f657e\"}}];\n",
              "  root.Bokeh.embed.embed_items_notebook(docs_json, render_items);\n",
              "\n",
              "  }\n",
              "  if (root.Bokeh !== undefined) {\n",
              "    embed_document(root);\n",
              "  } else {\n",
              "    var attempts = 0;\n",
              "    var timer = setInterval(function(root) {\n",
              "      if (root.Bokeh !== undefined) {\n",
              "        clearInterval(timer);\n",
              "        embed_document(root);\n",
              "      } else {\n",
              "        attempts++;\n",
              "        if (attempts > 100) {\n",
              "          clearInterval(timer);\n",
              "          console.log(\"Bokeh: ERROR: Unable to run BokehJS code because BokehJS library is missing\");\n",
              "        }\n",
              "      }\n",
              "    }, 10, root)\n",
              "  }\n",
              "})(window);"
            ],
            "application/vnd.bokehjs_exec.v0+json": ""
          },
          "metadata": {
            "application/vnd.bokehjs_exec.v0+json": {
              "id": "1111"
            }
          }
        },
        {
          "output_type": "display_data",
          "data": {
            "text/html": [
              "\n",
              "\n",
              "\n",
              "\n",
              "\n",
              "\n",
              "  <div class=\"bk-root\" id=\"7efc98d2-7713-40b5-ba6e-a635a1fba86a\" data-root-id=\"1147\"></div>\n"
            ]
          },
          "metadata": {}
        },
        {
          "output_type": "display_data",
          "data": {
            "application/javascript": [
              "(function(root) {\n",
              "  function embed_document(root) {\n",
              "    \n",
              "  var docs_json = {\"f5c4069e-38ac-4885-9ae4-43dca936442e\":{\"roots\":{\"references\":[{\"attributes\":{\"below\":[{\"id\":\"1158\"}],\"center\":[{\"id\":\"1160\"},{\"id\":\"1164\"}],\"left\":[{\"id\":\"1161\"}],\"plot_width\":1000,\"renderers\":[{\"id\":\"1181\"}],\"title\":{\"id\":\"1148\"},\"toolbar\":{\"id\":\"1171\"},\"x_range\":{\"id\":\"1150\"},\"x_scale\":{\"id\":\"1154\"},\"y_range\":{\"id\":\"1152\"},\"y_scale\":{\"id\":\"1156\"}},\"id\":\"1147\",\"subtype\":\"Figure\",\"type\":\"Plot\"},{\"attributes\":{},\"id\":\"1156\",\"type\":\"LinearScale\"},{\"attributes\":{},\"id\":\"1298\",\"type\":\"UnionRenderers\"},{\"attributes\":{\"formatter\":{\"id\":\"1359\"},\"major_label_orientation\":0.7853981633974483,\"ticker\":{\"id\":\"1159\"}},\"id\":\"1158\",\"type\":\"CategoricalAxis\"},{\"attributes\":{},\"id\":\"1159\",\"type\":\"CategoricalTicker\"},{\"attributes\":{\"axis\":{\"id\":\"1158\"},\"grid_line_color\":null,\"ticker\":null},\"id\":\"1160\",\"type\":\"Grid\"},{\"attributes\":{\"data_source\":{\"id\":\"1002\"},\"glyph\":{\"id\":\"1179\"},\"hover_glyph\":null,\"muted_glyph\":null,\"nonselection_glyph\":{\"id\":\"1180\"},\"selection_glyph\":null,\"view\":{\"id\":\"1182\"}},\"id\":\"1181\",\"type\":\"GlyphRenderer\"},{\"attributes\":{},\"id\":\"1357\",\"type\":\"BasicTickFormatter\"},{\"attributes\":{\"formatter\":{\"id\":\"1357\"},\"ticker\":{\"id\":\"1162\"}},\"id\":\"1161\",\"type\":\"LinearAxis\"},{\"attributes\":{},\"id\":\"1162\",\"type\":\"BasicTicker\"},{\"attributes\":{\"axis\":{\"id\":\"1161\"},\"dimension\":1,\"ticker\":null},\"id\":\"1164\",\"type\":\"Grid\"},{\"attributes\":{\"data\":{\"caseDelta\":{\"__ndarray__\":\"3/WZ83Gy30BG1IgOZD2yQBPXVsL/BpRA3AvgSVLHusDgglnUE3t3QGTeAcxRX4LARnUszfcEp8Aoc7cZxbKFQLiQ3ZgQGJJArBb7ft4al8AUPFaAvpeRwID/M0vrvSrAbcVYYET5tsDsHdFCr4ZgQNz2ZsYiUYfA0tE4UunGn8BebQcdRQ+HwOryMKRx5I/Ajqks6hMBn8DcnnWMStCMwLckihWPh5TAQnVwwnnqj8BUadfOWqNvwFxd5vPX4IbAovXbCeUXmsCgWimdxPOJwM4bFOraM3bApoGiDqmGecAt0/T6aZaQwH5EdW0u9nnABDJAbSlQh8D8kHCwHkNWQOIY/S4pxIbAOCAj93j4isB5TiJtmV5wwHZkNqRR8YLAmfa1P/o0gcDgBkTrT/JXwIDdFE7fWwdAABnJ16EpZsCSCxA3xTJpwLpLFIAz23fAes8u44AsXMDoDeBmNlpuwMpEdAAGknnA8lzAXOxKZsBMvCRnS49ewEh8kLGWwFXAJqTcn64CYcBSCLI2oEB4wOxSBqsuH2bA\",\"dtype\":\"float64\",\"shape\":[51]},\"caseDeltaRate\":{\"__ndarray__\":\"29qYhgIMG0BXThRTwu0AQLvp+6biTeU/Kr3X0No+5r9NTXftXmPDPxWzATruEsi/lK9XXNVc4b99MPPV3MvZPyHhKd5lJ/A/Q7x8oAXl3b86GGsGzS7bv5WHmfLW+IK/Y+88zIbc6b/hhdq4JTzDP0Uhj3LJCdy/fupaMH1v5r8hF5aZnlfgvwWqpLeUm+O/K+o2tJw76L/XKVecuKTjv1k76j7QE+e/YBWur1x05b99Cb80RPLVvxGqcQHtU+O/uQLwVdAW6b9zs7WYR6jkv6M29UuwU92//85t2G0g4L9maDyPVyLov98EDGHKtuG/HIlFjoB65r/bO1S+XQPgP+hJpe+I3+e/H9kxv3Xb6L8i9o+JUpbiv0EA3FJotOi/ncuqVd6E6L91xfzvzYHXv1HdgEqqR5M/cKs71uIS4b+VYsqKUw3jv7JtnWX1l+e/NH5aJOW33b8gdDZnmEbmvxtfcdugJ+u/9s/FbHRE5b8nG/pYM5XlvwDSkVPy4uO/5J4xLSMn57/YE1wDZUjsv89EDwz6Zem/\",\"dtype\":\"float64\",\"shape\":[51]},\"caseShare\":{\"__ndarray__\":\"tGp94bUl3T9IVJt6Q4S1P2LM/n8pEqQ/kDGRMSDQoj8tkKbUzN+hP+kXN5qexJ8/O4/0x5UXnz+v0gDp5ECeP+hOgAUC2pw/6sC/grkdlT/hJvgLnxaTP2NJJHQ15pE/0PzK3EJ5kT/bKAB9llWJP0pe/Tgc9Yc/W0HKJlS0hT+0fzZ48LKBP6qkw9eZJYA/i0OweNjXfz/8O6+xEgp9P7IN9/o4b3k/LF8SgVEieT8Fxl9SbEh4P+uJdhdWCHg/gZnRK/0Hdz/Sz+MvuNR2P664h1RLB3U/G63Z5pQgdD+Npdgfz1JxP+y6CmvRxXA/3HnCfJOkbz+irIBgebxqP6awLQdq1Wg/prAtB2rVaD8D80b/9uxiP5kCohOe7GE/WC0GqqLSYD/SfiEwu4VgP9x5wnyTpF8/0Bz5iMQKXz+G7kDS6m9bP9ckU9alPFs/v2rA7gcJWj9cgnVQkDpVP6sFna1XPU0/cOeYkUAGUj+O9pofzKFHP1yCdVCQOkU//+6ZWAbURD+hW75gfG1EP856dInKbEI/\",\"dtype\":\"float64\",\"shape\":[51]},\"deathDelta\":{\"__ndarray__\":\"bBtm6gZeYsCIsGTfcysxwHCvAFWkTVlA3I3ZHW0qKEAYB+S6dDkzQIyuzc+JeCTAgM1LYJvbGcCg4IkzCgQjwP/S3NiqC0lAFnBFMs8rIMCo81iWMjo6QFjiNDxYqwxA0IV4PQTl/r/MoteywDQaQIz/ADGUUyXAzDUFD0D5BECopngkacAAwFywyQs5Kh9ACg2p6TJSHMBs4KtSfR8RwACj8Q0Y6ec/iFs4Rtim6j/w7qlv3JTtv1A1wzKCaRfA6OwEOuO6GUDoTcDSu+oDQFoxlROuAxBAc0lQ1yn1EsCqOaaA6IQHwNT0YHiLhvy/gBbZ4iP0GUCkE0vI6fvpv4Lizw+TrAtAfh0w8GxTDMCIlpgmsk3TP/fKZE7kcQTAINFD2Pk+4z+nNOaCidgCwECLbPER+hpAbxIeFiS0AcAiIKSvT5fuvwys7VBaIu6/wnlTDE2y/b+yCMabzDb4vzyNAwH8rPC//GcSpiGP9L8Y+8yvzC3EP7IIxpvMNui/m5QPPdfB57+EIFne4Uznv9pHbvbR99U/\",\"dtype\":\"float64\",\"shape\":[51]},\"deathDeltaRate\":{\"__ndarray__\":\"oj2gmcit0b8wxJW1EmPGv5gK2uYprwFAlpmrur0E0j+pZNi/jizeP3x8krD9E9K/ngRTB/NUx78lH1Y7QKLRv/Qt+WqYWvg/aPwu+yJ81b9b6znBCUbzPweW4TK+d8Y/VJIGSiXNuL9mHFMEKAXdP6zMahtO+ei/US0oaTYcyz9NgNXnl43KvyMX4AD7Eus/8rHkGabz6L+uKB4J34rgv4FrhuS0X7o/YfG2/rO/vT+L5KjKlBbBv0ocwQqeVOu/6LczIKBX7z+Wv1b+WnnYP9gFYReEXeU/CAddbK1s6r/sd1TVVAvjv9NlNwxH29e/aL+Yub0C9z+Tz+xG+EPLvzdw4MCBQ+8/AAAAAAAA8L/YyVona528PwAAAAAAAPC/xYgRI0YM0D8AAAAAAADwv5ucCFL46gdAAAAAAAAA8L+/dxqWmEffv5Kp2jwBCt+/AAAAAAAA8L8AAAAAAADwvwAAAAAAAPC/AAAAAAAA8L+dA1F/lvTHPwAAAAAAAPC/AAAAAAAA8L8AAAAAAADwvymhsd2OueA/\",\"dtype\":\"float64\",\"shape\":[51]},\"deathRate\":{\"__ndarray__\":\"DSqc7KYphT+heNrjKiCIP1mXqED6d6c/VdEtbWG8kj8WOoMVOoOVPzcZl+f0+oQ/YhrAJurohz+ZRxzF6y6FP4/1XbK6b6I/E4BsE4Bsgz/Sib9/ix2gP1eH0pyeL5E/zx7OEyloij+DK7k9vz+VP9oQVeokrmk/9E2oAl23kT8f+XCYiSyHP4zTr8E4/Zo/AqHkTtHCaT/w+MMBjz98PwgEAoFAIJA/BDTX95dRkD8ZkEOACVaJPxEREREREWE/zxEo2mrwnD9eQ3kN5TWUPxiGYRiGYZg/ms/1x8tgZD/D7OAIIq13PwtukM0dV4I/pSN7BqLSoT9wgQtc4AKHP+ecc84555w/AAAAAAAAAAAQBEEQBEGQPwAAAAAAAAAAkiRJkiRJkj8AAAAAAAAAAFQ6smcgKq0/AAAAAAAAAACKhvjj1uV9Px4eHh4eHn4/AAAAAAAAAAAAAAAAAAAAAAAAAAAAAAAAAAAAAAAAAAANJ3VfHluRPwAAAAAAAAAAAAAAAAAAAAAAAAAAAAAAAGQhC1nIQpY/\",\"dtype\":\"float64\",\"shape\":[51]},\"deathShare\":{\"__ndarray__\":\"iREjRowY1T8OHDhw4MCxP8GBAwcOHMA/wYEDBw4cqD/SpEmTJk2qP7Zs2bJly5Y/y5YtW7ZsmT+vXr169eqVPxIjRowYMbI/4MCBAwcOjD+oUKFChQqlP6hQoUKFCpU//Pjx48ePjz+TJk2aNGmSP6hQoUKFCmU/0qRJkyZNij/gwIEDBw58P+7cuXPnzo0/4MCBAwcOXD/gwIEDBw5sP+DAgQMHDnw/4MCBAwcOfD+oUKFChQp1P+DAgQMHDkw/tmzZsmXLhj/8+PHjx49/P4wYMWLEiIE/4MCBAwcOTD/gwIEDBw5cP6hQoUKFCmU/mjRp0qRJgz+oUKFChQplP8SIESNGjHg/AAAAAAAAAACoUKFChQplPwAAAAAAAAAAqFChQoUKZT8AAAAAAAAAAPz48ePHj38/AAAAAAAAAADgwIEDBw5MP+DAgQMHDkw/AAAAAAAAAAAAAAAAAAAAAAAAAAAAAAAAAAAAAAAAAADgwIEDBw5MPwAAAAAAAAAAAAAAAAAAAAAAAAAAAAAAAODAgQMHDkw/\",\"dtype\":\"float64\",\"shape\":[51]},\"expectedCases\":{\"__ndarray__\":\"gyiYMTjAskB1V+7iNz2hQO0oqT0AFZ5A7gXwJKlCw0Ckz3SFnWCjQJl3AHPUa6hAozqW5ns2tUBsRiRzneqaQEhvImfv65FAVot9P2+7qEAKHitA37WkQP9nltZ7jZZAbcVYYERtvECFuEsvVH6LQG57M2ORnJpA6WgcqXSppkCvtoOOopOWQHV5GNI4BppAx1QW9Yl4pEBuzzpGJXiXQLckihWPd5xAoTo44TzNl0BV2rWz1hCHQK4u8/lr8JJA0frthPKjoEBQrZRO4hmUQOcNCnXtOYhA00BRh1RTiUAt0/T6af6VQD+iujYXc4dAAhmgthSYkECCt8encD5mQOIY/S4phI5AHJCRezxckUB5TiJtmS58QHZkNqRRiYhAmfa1P/p0hkC4AdH6k0xwQIqsx4KQYmNAgIzk69DEdEDJBYibYil1QN0lCsCZLYBAvWeXcUBWbkD0BnAzG811QMpEdAAGIn5AeS5gLnbFcEAmXpKzpadmQCQ+yFhLgGFAJqTcn66CZ0BSCLI2oHB7QOxSBqsu32tA\",\"dtype\":\"float64\",\"shape\":[51]},\"expectedDeaths\":{\"__ndarray__\":\"24aZuoGfgEAiLNn33IpYQCCh/lW35EZAiZyJuGR1RUB0/I2iRWNEQKNr83MiHkJAsHkJbHO7QUAoeOKMAkFBQAEtIydVdEBAC7gimecVOEBYDKdpzcU1QLVjefiUajRAXYjXQ1DuM0CaLpSmn+UsQIz/ADGUUytAjbI+/K/BKECqKR5JGjAkQNInG3rjaiJAhYbUdBkpIkA28FWpvo8gQKDLQf7cAh1Aj/Q49ySrHEDePfWNm7IbQFA1wzKCaRtAGBP7xRxFGkAM2Z8WogoaQKbOauxR/BdAc0lQ1yn1FkDVHFNAdMITQDU9GN6iIRNAgOkmHdwLEkDpxBJy+n4OQH4dMPBsUwxAfh0w8GxTDEAv7Sy7SZYFQPfKZE7kcQRAuAvviUEwA0CnNOaCidgCQIDpJh3cCwJAbxIeFiS0AUARENLXp0v/PwbWdigtEf8/wnlTDE2y/T+yCMabzDb4PzyNAwH8rPA//GcSpiGP9D86wQzUjPTqP7IIxpvMNug/m5QPPdfB5z+EIFne4UznPxPcyAQXBOU/\",\"dtype\":\"float64\",\"shape\":[51]},\"infectionRate\":{\"__ndarray__\":\"IyeADHVmXz+spYT4YTZJPyCr5D+W9Do/kGKI+R+7Ez+WInb4F6IyP8C16Dv1Rio/uE35IJ6bHT+utGmLXbQ2P+rCOvyIQkA/M70w8Co/IT9YWk91Op4iP198lHE8CDA/zKz3LG3VCD943lGJIp0yP7sdSUR9LyI/lBt23L9YEz9sdbGc/asfP9up1aYKERk/N/Ly2Q9sDz/rsg+cjf4YPwy5z09cDBI/LJqADrhUFT+/SriFH0QlP3/YypL7oRk/SksS+Eb1Cz9MIz1Sh/EWP9pPoUypiCE/z4IRWNANID/Fxb/mStIPPwcKFvWn5Rw/4WWZ9XhCEz8TuSXFnkc4P30q6/JHcBA/+nt1+WTlDD+Nxbw7gSEbPyFQsL5hgw0/t9E8rLNDDj9fYxSuFHokPx+mQv6bfDA/M4DPBzIxHj+Z8g7ZyTAaPxEQAREQARE/NSri6fxVIT/sDBWzd6sTP2vplJzymQM/4/n7tZ+1FT8hFIhmSxIVPzViLp+vgBg/Mnf720XlET+2LrH+eRP+PrAHa6MFtQo/\",\"dtype\":\"float64\",\"shape\":[51]},\"population\":[19440469,8936574,7797095,39937489,10045029,12659682,21992985,6976597,4645184,12820878,10736059,5845526,29472295,3563077,6897576,11747694,5851754,6745354,10611862,6083116,7378494,6169270,2989260,4908921,8626207,5210095,3139658,3282115,5700671,3038999,4301089,720687,3954821,4499692,1826156,3179849,2910357,1056161,628061,1345790,1371246,2096640,982895,1412687,1952570,1086759,734002,567025,761723,1778070,903027],\"recoveryRate\":{\"__ndarray__\":\"AAAAAAAAAAAzmA5S7w8zPwAAAAAAAAAAhnVyoO5ZYD8AAAAAAAAAAPbjfn9o0kk/AAAAAAAAAACbhNy+Vh07PwAAAAAAAAAAGzC1GjC1ej8AAAAAAAAAAAAAAAAAAAAAKWgajDUjgD8AAAAAAAAAAAAAAAAAAAAAAAAAAAAAAAAAAAAAAAAAAAAAAAAAAAAAAAAAAAAAAAAAAAAAAAAAAAAAAAAAAAAAAAAAAAAAAAAAAAAAAAAAAAAAAAAAAAAAHYGirQbPYT8AAAAAAAAAAAAAAAAAAAAAAAAAAAAAAAAAAAAAAAAAADZ3XElg3qM/AAAAAAAAAAB4afZdmn3HPwAAAAAAAAAAAAAAAAAAAAAAAAAAAAAAAAAAAAAAAAAAAAAAAAAAAAAAAAAAAAAAAAAAAAAAAAAA0hMcPcHRkz8AAAAAAAAAAAAAAAAAAAAAAAAAAAAAAAAAAAAAAAAAAAAAAAAAAAAAAAAAAAAAAAAAAAAAAAAAAAAAAAAAAAAAAAAAAAAAAAAAAAAAAAAAAGQhC1nIQtY/\",\"dtype\":\"float64\",\"shape\":[51]},\"recoveryShare\":{\"__ndarray__\":\"AAAAAAAAAAAdgaKtBs+RPwAAAAAAAAAAq8FzBIq2qj8AAAAAAAAAAB2Boq0Gz5E/AAAAAAAAAAAdgaKtBs+BPwAAAAAAAAAAiHG/Lql8uD8AAAAAAAAAAAAAAAAAAAAAiHG/Lql8uD8AAAAAAAAAAAAAAAAAAAAAAAAAAAAAAAAAAAAAAAAAAAAAAAAAAAAAAAAAAAAAAAAAAAAAAAAAAAAAAAAAAAAAAAAAAAAAAAAAAAAAAAAAAAAAAAAAAAAAHYGirQbPgT8AAAAAAAAAAAAAAAAAAAAAAAAAAAAAAAAAAAAAAAAAAM8RKNpq8Lw/AAAAAAAAAAC01eA5AkXbPwAAAAAAAAAAAAAAAAAAAAAAAAAAAAAAAAAAAAAAAAAAAAAAAAAAAAAAAAAAAAAAAAAAAAAAAAAAq8FzBIq2mj8AAAAAAAAAAAAAAAAAAAAAAAAAAAAAAAAAAAAAAAAAAAAAAAAAAAAAAAAAAAAAAAAAAAAAAAAAAAAAAAAAAAAAAAAAAAAAAAAAAAAAAAAAAB2Boq0Gz8E/\",\"dtype\":\"float64\",\"shape\":[51]},\"state_name\":[\"New York\",\"New Jersey\",\"Washington\",\"California\",\"Michigan\",\"Illinois\",\"Florida\",\"Massachusetts\",\"Louisiana\",\"Pennsylvania\",\"Georgia\",\"Colorado\",\"Texas\",\"Connecticut\",\"Tennessee\",\"Ohio\",\"Wisconsin\",\"Indiana\",\"North Carolina\",\"Maryland\",\"Arizona\",\"Missouri\",\"Mississippi\",\"Alabama\",\"Virginia\",\"South Carolina\",\"Nevada\",\"Utah\",\"Minnesota\",\"Arkansas\",\"Oregon\",\"District of Columbia\",\"Oklahoma\",\"Kentucky\",\"Idaho\",\"Iowa\",\"Kansas\",\"Rhode Island\",\"Vermont\",\"Maine\",\"New Hampshire\",\"New Mexico\",\"Delaware\",\"Hawaii\",\"Nebraska\",\"Montana\",\"Alaska\",\"Wyoming\",\"North Dakota\",\"West Virginia\",\"South Dakota\"],\"totalConfirmed\":[37258,6876,3207,3006,2856,2538,2484,2417,2305,1687,1525,1430,1396,1012,957,867,707,645,636,580,508,502,485,480,460,456,420,402,346,335,316,267,248,248,189,179,168,165,158,155,137,136,130,106,73,90,59,53,52,51,46],\"totalDeaths\":{\"__ndarray__\":\"AAAAAAAQeEAAAAAAAEBUQAAAAAAAYGJAAAAAAACAS0AAAAAAAABOQAAAAAAAADpAAAAAAAAAPUAAAAAAAAA5QAAAAAAAwFRAAAAAAAAAMEAAAAAAAABIQAAAAAAAADhAAAAAAAAAMkAAAAAAAAA1QAAAAAAAAAhAAAAAAAAALkAAAAAAAAAgQAAAAAAAADFAAAAAAAAAAEAAAAAAAAAQQAAAAAAAACBAAAAAAAAAIEAAAAAAAAAYQAAAAAAAAPA/AAAAAAAAKkAAAAAAAAAiQAAAAAAAACRAAAAAAAAA8D8AAAAAAAAAQAAAAAAAAAhAAAAAAAAAJkAAAAAAAAAIQAAAAAAAABxAAAAAAAAAAAAAAAAAAAAIQAAAAAAAAAAAAAAAAAAACEAAAAAAAAAAAAAAAAAAACJAAAAAAAAAAAAAAAAAAADwPwAAAAAAAPA/AAAAAAAAAAAAAAAAAAAAAAAAAAAAAAAAAAAAAAAAAAAAAAAAAADwPwAAAAAAAAAAAAAAAAAAAAAAAAAAAAAAAAAAAAAAAPA/\",\"dtype\":\"float64\",\"shape\":[51]},\"totalRecovered\":{\"__ndarray__\":\"AAAAAAAAAAAAAAAAAAAAQAAAAAAAAAAAAAAAAAAAGEAAAAAAAAAAAAAAAAAAAABAAAAAAAAAAAAAAAAAAADwPwAAAAAAAAAAAAAAAAAAJkAAAAAAAAAAAAAAAAAAAAAAAAAAAAAAJkAAAAAAAAAAAAAAAAAAAAAAAAAAAAAAAAAAAAAAAAAAAAAAAAAAAAAAAAAAAAAAAAAAAAAAAAAAAAAAAAAAAAAAAAAAAAAAAAAAAAAAAAAAAAAAAAAAAAAAAAAAAAAA8D8AAAAAAAAAAAAAAAAAAAAAAAAAAAAAAAAAAAAAAAAAAAAAAAAAACpAAAAAAAAAAAAAAAAAAIBIQAAAAAAAAAAAAAAAAAAAAAAAAAAAAAAAAAAAAAAAAAAAAAAAAAAAAAAAAAAAAAAAAAAAAAAAAAAAAAAAAAAACEAAAAAAAAAAAAAAAAAAAAAAAAAAAAAAAAAAAAAAAAAAAAAAAAAAAAAAAAAAAAAAAAAAAAAAAAAAAAAAAAAAAAAAAAAAAAAAAAAAAAAAAAAAAAAAAAAAADBA\",\"dtype\":\"float64\",\"shape\":[51]}},\"selected\":{\"id\":\"1297\"},\"selection_policy\":{\"id\":\"1298\"}},\"id\":\"1002\",\"type\":\"ColumnDataSource\"},{\"attributes\":{\"fill_color\":{\"value\":\"#1f77b4\"},\"line_color\":{\"value\":\"#1f77b4\"},\"top\":{\"field\":\"caseDelta\"},\"width\":{\"value\":0.5},\"x\":{\"field\":\"state_name\"}},\"id\":\"1179\",\"type\":\"VBar\"},{\"attributes\":{},\"id\":\"1165\",\"type\":\"PanTool\"},{\"attributes\":{},\"id\":\"1359\",\"type\":\"CategoricalTickFormatter\"},{\"attributes\":{},\"id\":\"1166\",\"type\":\"WheelZoomTool\"},{\"attributes\":{\"overlay\":{\"id\":\"1360\"}},\"id\":\"1167\",\"type\":\"BoxZoomTool\"},{\"attributes\":{},\"id\":\"1168\",\"type\":\"SaveTool\"},{\"attributes\":{\"bottom_units\":\"screen\",\"fill_alpha\":0.5,\"fill_color\":\"lightgrey\",\"left_units\":\"screen\",\"level\":\"overlay\",\"line_alpha\":1.0,\"line_color\":\"black\",\"line_dash\":[4,4],\"line_width\":2,\"render_mode\":\"css\",\"right_units\":\"screen\",\"top_units\":\"screen\"},\"id\":\"1360\",\"type\":\"BoxAnnotation\"},{\"attributes\":{\"text\":\"COVID US Confirmed / Expected Delta\"},\"id\":\"1148\",\"type\":\"Title\"},{\"attributes\":{},\"id\":\"1169\",\"type\":\"ResetTool\"},{\"attributes\":{\"source\":{\"id\":\"1002\"}},\"id\":\"1182\",\"type\":\"CDSView\"},{\"attributes\":{},\"id\":\"1170\",\"type\":\"HelpTool\"},{\"attributes\":{\"factors\":[\"New York\",\"New Jersey\",\"Washington\",\"California\",\"Michigan\",\"Illinois\",\"Florida\",\"Massachusetts\",\"Louisiana\",\"Pennsylvania\",\"Georgia\",\"Colorado\",\"Texas\",\"Connecticut\",\"Tennessee\",\"Ohio\",\"Wisconsin\",\"Indiana\",\"North Carolina\",\"Maryland\",\"Arizona\",\"Missouri\",\"Mississippi\",\"Alabama\",\"Virginia\",\"South Carolina\",\"Nevada\",\"Utah\",\"Minnesota\",\"Arkansas\",\"Oregon\",\"District of Columbia\",\"Oklahoma\",\"Kentucky\",\"Idaho\",\"Iowa\",\"Kansas\",\"Rhode Island\",\"Vermont\",\"Maine\",\"New Hampshire\",\"New Mexico\",\"Delaware\",\"Hawaii\",\"Nebraska\",\"Montana\",\"Alaska\",\"Wyoming\",\"North Dakota\",\"West Virginia\",\"South Dakota\"]},\"id\":\"1150\",\"type\":\"FactorRange\"},{\"attributes\":{\"active_drag\":\"auto\",\"active_inspect\":\"auto\",\"active_multi\":null,\"active_scroll\":\"auto\",\"active_tap\":\"auto\",\"tools\":[{\"id\":\"1165\"},{\"id\":\"1166\"},{\"id\":\"1167\"},{\"id\":\"1168\"},{\"id\":\"1169\"},{\"id\":\"1170\"}]},\"id\":\"1171\",\"type\":\"Toolbar\"},{\"attributes\":{\"fill_alpha\":{\"value\":0.1},\"fill_color\":{\"value\":\"#1f77b4\"},\"line_alpha\":{\"value\":0.1},\"line_color\":{\"value\":\"#1f77b4\"},\"top\":{\"field\":\"caseDelta\"},\"width\":{\"value\":0.5},\"x\":{\"field\":\"state_name\"}},\"id\":\"1180\",\"type\":\"VBar\"},{\"attributes\":{\"end\":37348.1972560604,\"start\":-11745.738202556202},\"id\":\"1152\",\"type\":\"DataRange1d\"},{\"attributes\":{},\"id\":\"1297\",\"type\":\"Selection\"},{\"attributes\":{},\"id\":\"1154\",\"type\":\"CategoricalScale\"}],\"root_ids\":[\"1147\"]},\"title\":\"Bokeh Application\",\"version\":\"2.0.0\"}};\n",
              "  var render_items = [{\"docid\":\"f5c4069e-38ac-4885-9ae4-43dca936442e\",\"root_ids\":[\"1147\"],\"roots\":{\"1147\":\"7efc98d2-7713-40b5-ba6e-a635a1fba86a\"}}];\n",
              "  root.Bokeh.embed.embed_items_notebook(docs_json, render_items);\n",
              "\n",
              "  }\n",
              "  if (root.Bokeh !== undefined) {\n",
              "    embed_document(root);\n",
              "  } else {\n",
              "    var attempts = 0;\n",
              "    var timer = setInterval(function(root) {\n",
              "      if (root.Bokeh !== undefined) {\n",
              "        clearInterval(timer);\n",
              "        embed_document(root);\n",
              "      } else {\n",
              "        attempts++;\n",
              "        if (attempts > 100) {\n",
              "          clearInterval(timer);\n",
              "          console.log(\"Bokeh: ERROR: Unable to run BokehJS code because BokehJS library is missing\");\n",
              "        }\n",
              "      }\n",
              "    }, 10, root)\n",
              "  }\n",
              "})(window);"
            ],
            "application/vnd.bokehjs_exec.v0+json": ""
          },
          "metadata": {
            "application/vnd.bokehjs_exec.v0+json": {
              "id": "1147"
            }
          }
        },
        {
          "output_type": "display_data",
          "data": {
            "text/html": [
              "\n",
              "\n",
              "\n",
              "\n",
              "\n",
              "\n",
              "  <div class=\"bk-root\" id=\"2d392b0e-cd74-4af6-8659-717e24c97292\" data-root-id=\"1183\"></div>\n"
            ]
          },
          "metadata": {}
        },
        {
          "output_type": "display_data",
          "data": {
            "application/javascript": [
              "(function(root) {\n",
              "  function embed_document(root) {\n",
              "    \n",
              "  var docs_json = {\"0fc02a96-3df7-457c-a568-bb2ebc2d9fee\":{\"roots\":{\"references\":[{\"attributes\":{\"below\":[{\"id\":\"1194\"}],\"center\":[{\"id\":\"1196\"},{\"id\":\"1200\"}],\"left\":[{\"id\":\"1197\"}],\"plot_width\":1000,\"renderers\":[{\"id\":\"1217\"}],\"title\":{\"id\":\"1184\"},\"toolbar\":{\"id\":\"1207\"},\"x_range\":{\"id\":\"1186\"},\"x_scale\":{\"id\":\"1190\"},\"y_range\":{\"id\":\"1188\"},\"y_scale\":{\"id\":\"1192\"}},\"id\":\"1183\",\"subtype\":\"Figure\",\"type\":\"Plot\"},{\"attributes\":{\"overlay\":{\"id\":\"1432\"}},\"id\":\"1203\",\"type\":\"BoxZoomTool\"},{\"attributes\":{\"fill_alpha\":{\"value\":0.1},\"fill_color\":{\"value\":\"#1f77b4\"},\"line_alpha\":{\"value\":0.1},\"line_color\":{\"value\":\"#1f77b4\"},\"top\":{\"field\":\"caseShare\"},\"width\":{\"value\":0.5},\"x\":{\"field\":\"state_name\"}},\"id\":\"1216\",\"type\":\"VBar\"},{\"attributes\":{},\"id\":\"1204\",\"type\":\"SaveTool\"},{\"attributes\":{},\"id\":\"1298\",\"type\":\"UnionRenderers\"},{\"attributes\":{},\"id\":\"1205\",\"type\":\"ResetTool\"},{\"attributes\":{\"text\":\"COVID US Percentage Share of Confirmed Cases by State\"},\"id\":\"1184\",\"type\":\"Title\"},{\"attributes\":{},\"id\":\"1206\",\"type\":\"HelpTool\"},{\"attributes\":{\"factors\":[\"New York\",\"New Jersey\",\"Washington\",\"California\",\"Michigan\",\"Illinois\",\"Florida\",\"Massachusetts\",\"Louisiana\",\"Pennsylvania\",\"Georgia\",\"Colorado\",\"Texas\",\"Connecticut\",\"Tennessee\",\"Ohio\",\"Wisconsin\",\"Indiana\",\"North Carolina\",\"Maryland\",\"Arizona\",\"Missouri\",\"Mississippi\",\"Alabama\",\"Virginia\",\"South Carolina\",\"Nevada\",\"Utah\",\"Minnesota\",\"Arkansas\",\"Oregon\",\"District of Columbia\",\"Oklahoma\",\"Kentucky\",\"Idaho\",\"Iowa\",\"Kansas\",\"Rhode Island\",\"Vermont\",\"Maine\",\"New Hampshire\",\"New Mexico\",\"Delaware\",\"Hawaii\",\"Nebraska\",\"Montana\",\"Alaska\",\"Wyoming\",\"North Dakota\",\"West Virginia\",\"South Dakota\"]},\"id\":\"1186\",\"type\":\"FactorRange\"},{\"attributes\":{\"active_drag\":\"auto\",\"active_inspect\":\"auto\",\"active_multi\":null,\"active_scroll\":\"auto\",\"active_tap\":\"auto\",\"tools\":[{\"id\":\"1201\"},{\"id\":\"1202\"},{\"id\":\"1203\"},{\"id\":\"1204\"},{\"id\":\"1205\"},{\"id\":\"1206\"}]},\"id\":\"1207\",\"type\":\"Toolbar\"},{\"attributes\":{},\"id\":\"1429\",\"type\":\"BasicTickFormatter\"},{\"attributes\":{\"end\":0.5194458717488097,\"start\":0},\"id\":\"1188\",\"type\":\"DataRange1d\"},{\"attributes\":{\"source\":{\"id\":\"1002\"}},\"id\":\"1218\",\"type\":\"CDSView\"},{\"attributes\":{},\"id\":\"1190\",\"type\":\"CategoricalScale\"},{\"attributes\":{\"data\":{\"caseDelta\":{\"__ndarray__\":\"3/WZ83Gy30BG1IgOZD2yQBPXVsL/BpRA3AvgSVLHusDgglnUE3t3QGTeAcxRX4LARnUszfcEp8Aoc7cZxbKFQLiQ3ZgQGJJArBb7ft4al8AUPFaAvpeRwID/M0vrvSrAbcVYYET5tsDsHdFCr4ZgQNz2ZsYiUYfA0tE4UunGn8BebQcdRQ+HwOryMKRx5I/Ajqks6hMBn8DcnnWMStCMwLckihWPh5TAQnVwwnnqj8BUadfOWqNvwFxd5vPX4IbAovXbCeUXmsCgWimdxPOJwM4bFOraM3bApoGiDqmGecAt0/T6aZaQwH5EdW0u9nnABDJAbSlQh8D8kHCwHkNWQOIY/S4pxIbAOCAj93j4isB5TiJtmV5wwHZkNqRR8YLAmfa1P/o0gcDgBkTrT/JXwIDdFE7fWwdAABnJ16EpZsCSCxA3xTJpwLpLFIAz23fAes8u44AsXMDoDeBmNlpuwMpEdAAGknnA8lzAXOxKZsBMvCRnS49ewEh8kLGWwFXAJqTcn64CYcBSCLI2oEB4wOxSBqsuH2bA\",\"dtype\":\"float64\",\"shape\":[51]},\"caseDeltaRate\":{\"__ndarray__\":\"29qYhgIMG0BXThRTwu0AQLvp+6biTeU/Kr3X0No+5r9NTXftXmPDPxWzATruEsi/lK9XXNVc4b99MPPV3MvZPyHhKd5lJ/A/Q7x8oAXl3b86GGsGzS7bv5WHmfLW+IK/Y+88zIbc6b/hhdq4JTzDP0Uhj3LJCdy/fupaMH1v5r8hF5aZnlfgvwWqpLeUm+O/K+o2tJw76L/XKVecuKTjv1k76j7QE+e/YBWur1x05b99Cb80RPLVvxGqcQHtU+O/uQLwVdAW6b9zs7WYR6jkv6M29UuwU92//85t2G0g4L9maDyPVyLov98EDGHKtuG/HIlFjoB65r/bO1S+XQPgP+hJpe+I3+e/H9kxv3Xb6L8i9o+JUpbiv0EA3FJotOi/ncuqVd6E6L91xfzvzYHXv1HdgEqqR5M/cKs71uIS4b+VYsqKUw3jv7JtnWX1l+e/NH5aJOW33b8gdDZnmEbmvxtfcdugJ+u/9s/FbHRE5b8nG/pYM5XlvwDSkVPy4uO/5J4xLSMn57/YE1wDZUjsv89EDwz6Zem/\",\"dtype\":\"float64\",\"shape\":[51]},\"caseShare\":{\"__ndarray__\":\"tGp94bUl3T9IVJt6Q4S1P2LM/n8pEqQ/kDGRMSDQoj8tkKbUzN+hP+kXN5qexJ8/O4/0x5UXnz+v0gDp5ECeP+hOgAUC2pw/6sC/grkdlT/hJvgLnxaTP2NJJHQ15pE/0PzK3EJ5kT/bKAB9llWJP0pe/Tgc9Yc/W0HKJlS0hT+0fzZ48LKBP6qkw9eZJYA/i0OweNjXfz/8O6+xEgp9P7IN9/o4b3k/LF8SgVEieT8Fxl9SbEh4P+uJdhdWCHg/gZnRK/0Hdz/Sz+MvuNR2P664h1RLB3U/G63Z5pQgdD+Npdgfz1JxP+y6CmvRxXA/3HnCfJOkbz+irIBgebxqP6awLQdq1Wg/prAtB2rVaD8D80b/9uxiP5kCohOe7GE/WC0GqqLSYD/SfiEwu4VgP9x5wnyTpF8/0Bz5iMQKXz+G7kDS6m9bP9ckU9alPFs/v2rA7gcJWj9cgnVQkDpVP6sFna1XPU0/cOeYkUAGUj+O9pofzKFHP1yCdVCQOkU//+6ZWAbURD+hW75gfG1EP856dInKbEI/\",\"dtype\":\"float64\",\"shape\":[51]},\"deathDelta\":{\"__ndarray__\":\"bBtm6gZeYsCIsGTfcysxwHCvAFWkTVlA3I3ZHW0qKEAYB+S6dDkzQIyuzc+JeCTAgM1LYJvbGcCg4IkzCgQjwP/S3NiqC0lAFnBFMs8rIMCo81iWMjo6QFjiNDxYqwxA0IV4PQTl/r/MoteywDQaQIz/ADGUUyXAzDUFD0D5BECopngkacAAwFywyQs5Kh9ACg2p6TJSHMBs4KtSfR8RwACj8Q0Y6ec/iFs4Rtim6j/w7qlv3JTtv1A1wzKCaRfA6OwEOuO6GUDoTcDSu+oDQFoxlROuAxBAc0lQ1yn1EsCqOaaA6IQHwNT0YHiLhvy/gBbZ4iP0GUCkE0vI6fvpv4Lizw+TrAtAfh0w8GxTDMCIlpgmsk3TP/fKZE7kcQTAINFD2Pk+4z+nNOaCidgCwECLbPER+hpAbxIeFiS0AcAiIKSvT5fuvwys7VBaIu6/wnlTDE2y/b+yCMabzDb4vzyNAwH8rPC//GcSpiGP9L8Y+8yvzC3EP7IIxpvMNui/m5QPPdfB57+EIFne4Uznv9pHbvbR99U/\",\"dtype\":\"float64\",\"shape\":[51]},\"deathDeltaRate\":{\"__ndarray__\":\"oj2gmcit0b8wxJW1EmPGv5gK2uYprwFAlpmrur0E0j+pZNi/jizeP3x8krD9E9K/ngRTB/NUx78lH1Y7QKLRv/Qt+WqYWvg/aPwu+yJ81b9b6znBCUbzPweW4TK+d8Y/VJIGSiXNuL9mHFMEKAXdP6zMahtO+ei/US0oaTYcyz9NgNXnl43KvyMX4AD7Eus/8rHkGabz6L+uKB4J34rgv4FrhuS0X7o/YfG2/rO/vT+L5KjKlBbBv0ocwQqeVOu/6LczIKBX7z+Wv1b+WnnYP9gFYReEXeU/CAddbK1s6r/sd1TVVAvjv9NlNwxH29e/aL+Yub0C9z+Tz+xG+EPLvzdw4MCBQ+8/AAAAAAAA8L/YyVona528PwAAAAAAAPC/xYgRI0YM0D8AAAAAAADwv5ucCFL46gdAAAAAAAAA8L+/dxqWmEffv5Kp2jwBCt+/AAAAAAAA8L8AAAAAAADwvwAAAAAAAPC/AAAAAAAA8L+dA1F/lvTHPwAAAAAAAPC/AAAAAAAA8L8AAAAAAADwvymhsd2OueA/\",\"dtype\":\"float64\",\"shape\":[51]},\"deathRate\":{\"__ndarray__\":\"DSqc7KYphT+heNrjKiCIP1mXqED6d6c/VdEtbWG8kj8WOoMVOoOVPzcZl+f0+oQ/YhrAJurohz+ZRxzF6y6FP4/1XbK6b6I/E4BsE4Bsgz/Sib9/ix2gP1eH0pyeL5E/zx7OEyloij+DK7k9vz+VP9oQVeokrmk/9E2oAl23kT8f+XCYiSyHP4zTr8E4/Zo/AqHkTtHCaT/w+MMBjz98PwgEAoFAIJA/BDTX95dRkD8ZkEOACVaJPxEREREREWE/zxEo2mrwnD9eQ3kN5TWUPxiGYRiGYZg/ms/1x8tgZD/D7OAIIq13PwtukM0dV4I/pSN7BqLSoT9wgQtc4AKHP+ecc84555w/AAAAAAAAAAAQBEEQBEGQPwAAAAAAAAAAkiRJkiRJkj8AAAAAAAAAAFQ6smcgKq0/AAAAAAAAAACKhvjj1uV9Px4eHh4eHn4/AAAAAAAAAAAAAAAAAAAAAAAAAAAAAAAAAAAAAAAAAAANJ3VfHluRPwAAAAAAAAAAAAAAAAAAAAAAAAAAAAAAAGQhC1nIQpY/\",\"dtype\":\"float64\",\"shape\":[51]},\"deathShare\":{\"__ndarray__\":\"iREjRowY1T8OHDhw4MCxP8GBAwcOHMA/wYEDBw4cqD/SpEmTJk2qP7Zs2bJly5Y/y5YtW7ZsmT+vXr169eqVPxIjRowYMbI/4MCBAwcOjD+oUKFChQqlP6hQoUKFCpU//Pjx48ePjz+TJk2aNGmSP6hQoUKFCmU/0qRJkyZNij/gwIEDBw58P+7cuXPnzo0/4MCBAwcOXD/gwIEDBw5sP+DAgQMHDnw/4MCBAwcOfD+oUKFChQp1P+DAgQMHDkw/tmzZsmXLhj/8+PHjx49/P4wYMWLEiIE/4MCBAwcOTD/gwIEDBw5cP6hQoUKFCmU/mjRp0qRJgz+oUKFChQplP8SIESNGjHg/AAAAAAAAAACoUKFChQplPwAAAAAAAAAAqFChQoUKZT8AAAAAAAAAAPz48ePHj38/AAAAAAAAAADgwIEDBw5MP+DAgQMHDkw/AAAAAAAAAAAAAAAAAAAAAAAAAAAAAAAAAAAAAAAAAADgwIEDBw5MPwAAAAAAAAAAAAAAAAAAAAAAAAAAAAAAAODAgQMHDkw/\",\"dtype\":\"float64\",\"shape\":[51]},\"expectedCases\":{\"__ndarray__\":\"gyiYMTjAskB1V+7iNz2hQO0oqT0AFZ5A7gXwJKlCw0Ckz3SFnWCjQJl3AHPUa6hAozqW5ns2tUBsRiRzneqaQEhvImfv65FAVot9P2+7qEAKHitA37WkQP9nltZ7jZZAbcVYYERtvECFuEsvVH6LQG57M2ORnJpA6WgcqXSppkCvtoOOopOWQHV5GNI4BppAx1QW9Yl4pEBuzzpGJXiXQLckihWPd5xAoTo44TzNl0BV2rWz1hCHQK4u8/lr8JJA0frthPKjoEBQrZRO4hmUQOcNCnXtOYhA00BRh1RTiUAt0/T6af6VQD+iujYXc4dAAhmgthSYkECCt8encD5mQOIY/S4phI5AHJCRezxckUB5TiJtmS58QHZkNqRRiYhAmfa1P/p0hkC4AdH6k0xwQIqsx4KQYmNAgIzk69DEdEDJBYibYil1QN0lCsCZLYBAvWeXcUBWbkD0BnAzG811QMpEdAAGIn5AeS5gLnbFcEAmXpKzpadmQCQ+yFhLgGFAJqTcn66CZ0BSCLI2oHB7QOxSBqsu32tA\",\"dtype\":\"float64\",\"shape\":[51]},\"expectedDeaths\":{\"__ndarray__\":\"24aZuoGfgEAiLNn33IpYQCCh/lW35EZAiZyJuGR1RUB0/I2iRWNEQKNr83MiHkJAsHkJbHO7QUAoeOKMAkFBQAEtIydVdEBAC7gimecVOEBYDKdpzcU1QLVjefiUajRAXYjXQ1DuM0CaLpSmn+UsQIz/ADGUUytAjbI+/K/BKECqKR5JGjAkQNInG3rjaiJAhYbUdBkpIkA28FWpvo8gQKDLQf7cAh1Aj/Q49ySrHEDePfWNm7IbQFA1wzKCaRtAGBP7xRxFGkAM2Z8WogoaQKbOauxR/BdAc0lQ1yn1FkDVHFNAdMITQDU9GN6iIRNAgOkmHdwLEkDpxBJy+n4OQH4dMPBsUwxAfh0w8GxTDEAv7Sy7SZYFQPfKZE7kcQRAuAvviUEwA0CnNOaCidgCQIDpJh3cCwJAbxIeFiS0AUARENLXp0v/PwbWdigtEf8/wnlTDE2y/T+yCMabzDb4PzyNAwH8rPA//GcSpiGP9D86wQzUjPTqP7IIxpvMNug/m5QPPdfB5z+EIFne4UznPxPcyAQXBOU/\",\"dtype\":\"float64\",\"shape\":[51]},\"infectionRate\":{\"__ndarray__\":\"IyeADHVmXz+spYT4YTZJPyCr5D+W9Do/kGKI+R+7Ez+WInb4F6IyP8C16Dv1Rio/uE35IJ6bHT+utGmLXbQ2P+rCOvyIQkA/M70w8Co/IT9YWk91Op4iP198lHE8CDA/zKz3LG3VCD943lGJIp0yP7sdSUR9LyI/lBt23L9YEz9sdbGc/asfP9up1aYKERk/N/Ly2Q9sDz/rsg+cjf4YPwy5z09cDBI/LJqADrhUFT+/SriFH0QlP3/YypL7oRk/SksS+Eb1Cz9MIz1Sh/EWP9pPoUypiCE/z4IRWNANID/Fxb/mStIPPwcKFvWn5Rw/4WWZ9XhCEz8TuSXFnkc4P30q6/JHcBA/+nt1+WTlDD+Nxbw7gSEbPyFQsL5hgw0/t9E8rLNDDj9fYxSuFHokPx+mQv6bfDA/M4DPBzIxHj+Z8g7ZyTAaPxEQAREQARE/NSri6fxVIT/sDBWzd6sTP2vplJzymQM/4/n7tZ+1FT8hFIhmSxIVPzViLp+vgBg/Mnf720XlET+2LrH+eRP+PrAHa6MFtQo/\",\"dtype\":\"float64\",\"shape\":[51]},\"population\":[19440469,8936574,7797095,39937489,10045029,12659682,21992985,6976597,4645184,12820878,10736059,5845526,29472295,3563077,6897576,11747694,5851754,6745354,10611862,6083116,7378494,6169270,2989260,4908921,8626207,5210095,3139658,3282115,5700671,3038999,4301089,720687,3954821,4499692,1826156,3179849,2910357,1056161,628061,1345790,1371246,2096640,982895,1412687,1952570,1086759,734002,567025,761723,1778070,903027],\"recoveryRate\":{\"__ndarray__\":\"AAAAAAAAAAAzmA5S7w8zPwAAAAAAAAAAhnVyoO5ZYD8AAAAAAAAAAPbjfn9o0kk/AAAAAAAAAACbhNy+Vh07PwAAAAAAAAAAGzC1GjC1ej8AAAAAAAAAAAAAAAAAAAAAKWgajDUjgD8AAAAAAAAAAAAAAAAAAAAAAAAAAAAAAAAAAAAAAAAAAAAAAAAAAAAAAAAAAAAAAAAAAAAAAAAAAAAAAAAAAAAAAAAAAAAAAAAAAAAAAAAAAAAAAAAAAAAAHYGirQbPYT8AAAAAAAAAAAAAAAAAAAAAAAAAAAAAAAAAAAAAAAAAADZ3XElg3qM/AAAAAAAAAAB4afZdmn3HPwAAAAAAAAAAAAAAAAAAAAAAAAAAAAAAAAAAAAAAAAAAAAAAAAAAAAAAAAAAAAAAAAAAAAAAAAAA0hMcPcHRkz8AAAAAAAAAAAAAAAAAAAAAAAAAAAAAAAAAAAAAAAAAAAAAAAAAAAAAAAAAAAAAAAAAAAAAAAAAAAAAAAAAAAAAAAAAAAAAAAAAAAAAAAAAAGQhC1nIQtY/\",\"dtype\":\"float64\",\"shape\":[51]},\"recoveryShare\":{\"__ndarray__\":\"AAAAAAAAAAAdgaKtBs+RPwAAAAAAAAAAq8FzBIq2qj8AAAAAAAAAAB2Boq0Gz5E/AAAAAAAAAAAdgaKtBs+BPwAAAAAAAAAAiHG/Lql8uD8AAAAAAAAAAAAAAAAAAAAAiHG/Lql8uD8AAAAAAAAAAAAAAAAAAAAAAAAAAAAAAAAAAAAAAAAAAAAAAAAAAAAAAAAAAAAAAAAAAAAAAAAAAAAAAAAAAAAAAAAAAAAAAAAAAAAAAAAAAAAAAAAAAAAAHYGirQbPgT8AAAAAAAAAAAAAAAAAAAAAAAAAAAAAAAAAAAAAAAAAAM8RKNpq8Lw/AAAAAAAAAAC01eA5AkXbPwAAAAAAAAAAAAAAAAAAAAAAAAAAAAAAAAAAAAAAAAAAAAAAAAAAAAAAAAAAAAAAAAAAAAAAAAAAq8FzBIq2mj8AAAAAAAAAAAAAAAAAAAAAAAAAAAAAAAAAAAAAAAAAAAAAAAAAAAAAAAAAAAAAAAAAAAAAAAAAAAAAAAAAAAAAAAAAAAAAAAAAAAAAAAAAAB2Boq0Gz8E/\",\"dtype\":\"float64\",\"shape\":[51]},\"state_name\":[\"New York\",\"New Jersey\",\"Washington\",\"California\",\"Michigan\",\"Illinois\",\"Florida\",\"Massachusetts\",\"Louisiana\",\"Pennsylvania\",\"Georgia\",\"Colorado\",\"Texas\",\"Connecticut\",\"Tennessee\",\"Ohio\",\"Wisconsin\",\"Indiana\",\"North Carolina\",\"Maryland\",\"Arizona\",\"Missouri\",\"Mississippi\",\"Alabama\",\"Virginia\",\"South Carolina\",\"Nevada\",\"Utah\",\"Minnesota\",\"Arkansas\",\"Oregon\",\"District of Columbia\",\"Oklahoma\",\"Kentucky\",\"Idaho\",\"Iowa\",\"Kansas\",\"Rhode Island\",\"Vermont\",\"Maine\",\"New Hampshire\",\"New Mexico\",\"Delaware\",\"Hawaii\",\"Nebraska\",\"Montana\",\"Alaska\",\"Wyoming\",\"North Dakota\",\"West Virginia\",\"South Dakota\"],\"totalConfirmed\":[37258,6876,3207,3006,2856,2538,2484,2417,2305,1687,1525,1430,1396,1012,957,867,707,645,636,580,508,502,485,480,460,456,420,402,346,335,316,267,248,248,189,179,168,165,158,155,137,136,130,106,73,90,59,53,52,51,46],\"totalDeaths\":{\"__ndarray__\":\"AAAAAAAQeEAAAAAAAEBUQAAAAAAAYGJAAAAAAACAS0AAAAAAAABOQAAAAAAAADpAAAAAAAAAPUAAAAAAAAA5QAAAAAAAwFRAAAAAAAAAMEAAAAAAAABIQAAAAAAAADhAAAAAAAAAMkAAAAAAAAA1QAAAAAAAAAhAAAAAAAAALkAAAAAAAAAgQAAAAAAAADFAAAAAAAAAAEAAAAAAAAAQQAAAAAAAACBAAAAAAAAAIEAAAAAAAAAYQAAAAAAAAPA/AAAAAAAAKkAAAAAAAAAiQAAAAAAAACRAAAAAAAAA8D8AAAAAAAAAQAAAAAAAAAhAAAAAAAAAJkAAAAAAAAAIQAAAAAAAABxAAAAAAAAAAAAAAAAAAAAIQAAAAAAAAAAAAAAAAAAACEAAAAAAAAAAAAAAAAAAACJAAAAAAAAAAAAAAAAAAADwPwAAAAAAAPA/AAAAAAAAAAAAAAAAAAAAAAAAAAAAAAAAAAAAAAAAAAAAAAAAAADwPwAAAAAAAAAAAAAAAAAAAAAAAAAAAAAAAAAAAAAAAPA/\",\"dtype\":\"float64\",\"shape\":[51]},\"totalRecovered\":{\"__ndarray__\":\"AAAAAAAAAAAAAAAAAAAAQAAAAAAAAAAAAAAAAAAAGEAAAAAAAAAAAAAAAAAAAABAAAAAAAAAAAAAAAAAAADwPwAAAAAAAAAAAAAAAAAAJkAAAAAAAAAAAAAAAAAAAAAAAAAAAAAAJkAAAAAAAAAAAAAAAAAAAAAAAAAAAAAAAAAAAAAAAAAAAAAAAAAAAAAAAAAAAAAAAAAAAAAAAAAAAAAAAAAAAAAAAAAAAAAAAAAAAAAAAAAAAAAAAAAAAAAAAAAAAAAA8D8AAAAAAAAAAAAAAAAAAAAAAAAAAAAAAAAAAAAAAAAAAAAAAAAAACpAAAAAAAAAAAAAAAAAAIBIQAAAAAAAAAAAAAAAAAAAAAAAAAAAAAAAAAAAAAAAAAAAAAAAAAAAAAAAAAAAAAAAAAAAAAAAAAAAAAAAAAAACEAAAAAAAAAAAAAAAAAAAAAAAAAAAAAAAAAAAAAAAAAAAAAAAAAAAAAAAAAAAAAAAAAAAAAAAAAAAAAAAAAAAAAAAAAAAAAAAAAAAAAAAAAAAAAAAAAAADBA\",\"dtype\":\"float64\",\"shape\":[51]}},\"selected\":{\"id\":\"1297\"},\"selection_policy\":{\"id\":\"1298\"}},\"id\":\"1002\",\"type\":\"ColumnDataSource\"},{\"attributes\":{},\"id\":\"1192\",\"type\":\"LinearScale\"},{\"attributes\":{\"data_source\":{\"id\":\"1002\"},\"glyph\":{\"id\":\"1215\"},\"hover_glyph\":null,\"muted_glyph\":null,\"nonselection_glyph\":{\"id\":\"1216\"},\"selection_glyph\":null,\"view\":{\"id\":\"1218\"}},\"id\":\"1217\",\"type\":\"GlyphRenderer\"},{\"attributes\":{\"formatter\":{\"id\":\"1431\"},\"major_label_orientation\":0.7853981633974483,\"ticker\":{\"id\":\"1195\"}},\"id\":\"1194\",\"type\":\"CategoricalAxis\"},{\"attributes\":{},\"id\":\"1195\",\"type\":\"CategoricalTicker\"},{\"attributes\":{\"axis\":{\"id\":\"1194\"},\"grid_line_color\":null,\"ticker\":null},\"id\":\"1196\",\"type\":\"Grid\"},{\"attributes\":{\"bottom_units\":\"screen\",\"fill_alpha\":0.5,\"fill_color\":\"lightgrey\",\"left_units\":\"screen\",\"level\":\"overlay\",\"line_alpha\":1.0,\"line_color\":\"black\",\"line_dash\":[4,4],\"line_width\":2,\"render_mode\":\"css\",\"right_units\":\"screen\",\"top_units\":\"screen\"},\"id\":\"1432\",\"type\":\"BoxAnnotation\"},{\"attributes\":{\"formatter\":{\"id\":\"1429\"},\"ticker\":{\"id\":\"1198\"}},\"id\":\"1197\",\"type\":\"LinearAxis\"},{\"attributes\":{},\"id\":\"1198\",\"type\":\"BasicTicker\"},{\"attributes\":{},\"id\":\"1431\",\"type\":\"CategoricalTickFormatter\"},{\"attributes\":{\"axis\":{\"id\":\"1197\"},\"dimension\":1,\"ticker\":null},\"id\":\"1200\",\"type\":\"Grid\"},{\"attributes\":{\"fill_color\":{\"value\":\"#1f77b4\"},\"line_color\":{\"value\":\"#1f77b4\"},\"top\":{\"field\":\"caseShare\"},\"width\":{\"value\":0.5},\"x\":{\"field\":\"state_name\"}},\"id\":\"1215\",\"type\":\"VBar\"},{\"attributes\":{},\"id\":\"1201\",\"type\":\"PanTool\"},{\"attributes\":{},\"id\":\"1202\",\"type\":\"WheelZoomTool\"},{\"attributes\":{},\"id\":\"1297\",\"type\":\"Selection\"}],\"root_ids\":[\"1183\"]},\"title\":\"Bokeh Application\",\"version\":\"2.0.0\"}};\n",
              "  var render_items = [{\"docid\":\"0fc02a96-3df7-457c-a568-bb2ebc2d9fee\",\"root_ids\":[\"1183\"],\"roots\":{\"1183\":\"2d392b0e-cd74-4af6-8659-717e24c97292\"}}];\n",
              "  root.Bokeh.embed.embed_items_notebook(docs_json, render_items);\n",
              "\n",
              "  }\n",
              "  if (root.Bokeh !== undefined) {\n",
              "    embed_document(root);\n",
              "  } else {\n",
              "    var attempts = 0;\n",
              "    var timer = setInterval(function(root) {\n",
              "      if (root.Bokeh !== undefined) {\n",
              "        clearInterval(timer);\n",
              "        embed_document(root);\n",
              "      } else {\n",
              "        attempts++;\n",
              "        if (attempts > 100) {\n",
              "          clearInterval(timer);\n",
              "          console.log(\"Bokeh: ERROR: Unable to run BokehJS code because BokehJS library is missing\");\n",
              "        }\n",
              "      }\n",
              "    }, 10, root)\n",
              "  }\n",
              "})(window);"
            ],
            "application/vnd.bokehjs_exec.v0+json": ""
          },
          "metadata": {
            "application/vnd.bokehjs_exec.v0+json": {
              "id": "1183"
            }
          }
        },
        {
          "output_type": "display_data",
          "data": {
            "text/html": [
              "\n",
              "\n",
              "\n",
              "\n",
              "\n",
              "\n",
              "  <div class=\"bk-root\" id=\"20b4100a-af96-41a6-b93d-3b76ea1ab87b\" data-root-id=\"1219\"></div>\n"
            ]
          },
          "metadata": {}
        },
        {
          "output_type": "display_data",
          "data": {
            "application/javascript": [
              "(function(root) {\n",
              "  function embed_document(root) {\n",
              "    \n",
              "  var docs_json = {\"d3feacfa-c141-4d8c-a1fa-3eaafcfbdc13\":{\"roots\":{\"references\":[{\"attributes\":{\"below\":[{\"id\":\"1230\"}],\"center\":[{\"id\":\"1232\"},{\"id\":\"1236\"}],\"left\":[{\"id\":\"1233\"}],\"plot_width\":1000,\"renderers\":[{\"id\":\"1253\"}],\"title\":{\"id\":\"1220\"},\"toolbar\":{\"id\":\"1243\"},\"x_range\":{\"id\":\"1222\"},\"x_scale\":{\"id\":\"1226\"},\"y_range\":{\"id\":\"1224\"},\"y_scale\":{\"id\":\"1228\"}},\"id\":\"1219\",\"subtype\":\"Figure\",\"type\":\"Plot\"},{\"attributes\":{},\"id\":\"1237\",\"type\":\"PanTool\"},{\"attributes\":{},\"id\":\"1298\",\"type\":\"UnionRenderers\"},{\"attributes\":{},\"id\":\"1238\",\"type\":\"WheelZoomTool\"},{\"attributes\":{\"end\":0.37963684809252785,\"start\":0},\"id\":\"1224\",\"type\":\"DataRange1d\"},{\"attributes\":{\"overlay\":{\"id\":\"1512\"}},\"id\":\"1239\",\"type\":\"BoxZoomTool\"},{\"attributes\":{},\"id\":\"1511\",\"type\":\"CategoricalTickFormatter\"},{\"attributes\":{},\"id\":\"1240\",\"type\":\"SaveTool\"},{\"attributes\":{},\"id\":\"1241\",\"type\":\"ResetTool\"},{\"attributes\":{},\"id\":\"1242\",\"type\":\"HelpTool\"},{\"attributes\":{\"active_drag\":\"auto\",\"active_inspect\":\"auto\",\"active_multi\":null,\"active_scroll\":\"auto\",\"active_tap\":\"auto\",\"tools\":[{\"id\":\"1237\"},{\"id\":\"1238\"},{\"id\":\"1239\"},{\"id\":\"1240\"},{\"id\":\"1241\"},{\"id\":\"1242\"}]},\"id\":\"1243\",\"type\":\"Toolbar\"},{\"attributes\":{\"data\":{\"caseDelta\":{\"__ndarray__\":\"3/WZ83Gy30BG1IgOZD2yQBPXVsL/BpRA3AvgSVLHusDgglnUE3t3QGTeAcxRX4LARnUszfcEp8Aoc7cZxbKFQLiQ3ZgQGJJArBb7ft4al8AUPFaAvpeRwID/M0vrvSrAbcVYYET5tsDsHdFCr4ZgQNz2ZsYiUYfA0tE4UunGn8BebQcdRQ+HwOryMKRx5I/Ajqks6hMBn8DcnnWMStCMwLckihWPh5TAQnVwwnnqj8BUadfOWqNvwFxd5vPX4IbAovXbCeUXmsCgWimdxPOJwM4bFOraM3bApoGiDqmGecAt0/T6aZaQwH5EdW0u9nnABDJAbSlQh8D8kHCwHkNWQOIY/S4pxIbAOCAj93j4isB5TiJtmV5wwHZkNqRR8YLAmfa1P/o0gcDgBkTrT/JXwIDdFE7fWwdAABnJ16EpZsCSCxA3xTJpwLpLFIAz23fAes8u44AsXMDoDeBmNlpuwMpEdAAGknnA8lzAXOxKZsBMvCRnS49ewEh8kLGWwFXAJqTcn64CYcBSCLI2oEB4wOxSBqsuH2bA\",\"dtype\":\"float64\",\"shape\":[51]},\"caseDeltaRate\":{\"__ndarray__\":\"29qYhgIMG0BXThRTwu0AQLvp+6biTeU/Kr3X0No+5r9NTXftXmPDPxWzATruEsi/lK9XXNVc4b99MPPV3MvZPyHhKd5lJ/A/Q7x8oAXl3b86GGsGzS7bv5WHmfLW+IK/Y+88zIbc6b/hhdq4JTzDP0Uhj3LJCdy/fupaMH1v5r8hF5aZnlfgvwWqpLeUm+O/K+o2tJw76L/XKVecuKTjv1k76j7QE+e/YBWur1x05b99Cb80RPLVvxGqcQHtU+O/uQLwVdAW6b9zs7WYR6jkv6M29UuwU92//85t2G0g4L9maDyPVyLov98EDGHKtuG/HIlFjoB65r/bO1S+XQPgP+hJpe+I3+e/H9kxv3Xb6L8i9o+JUpbiv0EA3FJotOi/ncuqVd6E6L91xfzvzYHXv1HdgEqqR5M/cKs71uIS4b+VYsqKUw3jv7JtnWX1l+e/NH5aJOW33b8gdDZnmEbmvxtfcdugJ+u/9s/FbHRE5b8nG/pYM5XlvwDSkVPy4uO/5J4xLSMn57/YE1wDZUjsv89EDwz6Zem/\",\"dtype\":\"float64\",\"shape\":[51]},\"caseShare\":{\"__ndarray__\":\"tGp94bUl3T9IVJt6Q4S1P2LM/n8pEqQ/kDGRMSDQoj8tkKbUzN+hP+kXN5qexJ8/O4/0x5UXnz+v0gDp5ECeP+hOgAUC2pw/6sC/grkdlT/hJvgLnxaTP2NJJHQ15pE/0PzK3EJ5kT/bKAB9llWJP0pe/Tgc9Yc/W0HKJlS0hT+0fzZ48LKBP6qkw9eZJYA/i0OweNjXfz/8O6+xEgp9P7IN9/o4b3k/LF8SgVEieT8Fxl9SbEh4P+uJdhdWCHg/gZnRK/0Hdz/Sz+MvuNR2P664h1RLB3U/G63Z5pQgdD+Npdgfz1JxP+y6CmvRxXA/3HnCfJOkbz+irIBgebxqP6awLQdq1Wg/prAtB2rVaD8D80b/9uxiP5kCohOe7GE/WC0GqqLSYD/SfiEwu4VgP9x5wnyTpF8/0Bz5iMQKXz+G7kDS6m9bP9ckU9alPFs/v2rA7gcJWj9cgnVQkDpVP6sFna1XPU0/cOeYkUAGUj+O9pofzKFHP1yCdVCQOkU//+6ZWAbURD+hW75gfG1EP856dInKbEI/\",\"dtype\":\"float64\",\"shape\":[51]},\"deathDelta\":{\"__ndarray__\":\"bBtm6gZeYsCIsGTfcysxwHCvAFWkTVlA3I3ZHW0qKEAYB+S6dDkzQIyuzc+JeCTAgM1LYJvbGcCg4IkzCgQjwP/S3NiqC0lAFnBFMs8rIMCo81iWMjo6QFjiNDxYqwxA0IV4PQTl/r/MoteywDQaQIz/ADGUUyXAzDUFD0D5BECopngkacAAwFywyQs5Kh9ACg2p6TJSHMBs4KtSfR8RwACj8Q0Y6ec/iFs4Rtim6j/w7qlv3JTtv1A1wzKCaRfA6OwEOuO6GUDoTcDSu+oDQFoxlROuAxBAc0lQ1yn1EsCqOaaA6IQHwNT0YHiLhvy/gBbZ4iP0GUCkE0vI6fvpv4Lizw+TrAtAfh0w8GxTDMCIlpgmsk3TP/fKZE7kcQTAINFD2Pk+4z+nNOaCidgCwECLbPER+hpAbxIeFiS0AcAiIKSvT5fuvwys7VBaIu6/wnlTDE2y/b+yCMabzDb4vzyNAwH8rPC//GcSpiGP9L8Y+8yvzC3EP7IIxpvMNui/m5QPPdfB57+EIFne4Uznv9pHbvbR99U/\",\"dtype\":\"float64\",\"shape\":[51]},\"deathDeltaRate\":{\"__ndarray__\":\"oj2gmcit0b8wxJW1EmPGv5gK2uYprwFAlpmrur0E0j+pZNi/jizeP3x8krD9E9K/ngRTB/NUx78lH1Y7QKLRv/Qt+WqYWvg/aPwu+yJ81b9b6znBCUbzPweW4TK+d8Y/VJIGSiXNuL9mHFMEKAXdP6zMahtO+ei/US0oaTYcyz9NgNXnl43KvyMX4AD7Eus/8rHkGabz6L+uKB4J34rgv4FrhuS0X7o/YfG2/rO/vT+L5KjKlBbBv0ocwQqeVOu/6LczIKBX7z+Wv1b+WnnYP9gFYReEXeU/CAddbK1s6r/sd1TVVAvjv9NlNwxH29e/aL+Yub0C9z+Tz+xG+EPLvzdw4MCBQ+8/AAAAAAAA8L/YyVona528PwAAAAAAAPC/xYgRI0YM0D8AAAAAAADwv5ucCFL46gdAAAAAAAAA8L+/dxqWmEffv5Kp2jwBCt+/AAAAAAAA8L8AAAAAAADwvwAAAAAAAPC/AAAAAAAA8L+dA1F/lvTHPwAAAAAAAPC/AAAAAAAA8L8AAAAAAADwvymhsd2OueA/\",\"dtype\":\"float64\",\"shape\":[51]},\"deathRate\":{\"__ndarray__\":\"DSqc7KYphT+heNrjKiCIP1mXqED6d6c/VdEtbWG8kj8WOoMVOoOVPzcZl+f0+oQ/YhrAJurohz+ZRxzF6y6FP4/1XbK6b6I/E4BsE4Bsgz/Sib9/ix2gP1eH0pyeL5E/zx7OEyloij+DK7k9vz+VP9oQVeokrmk/9E2oAl23kT8f+XCYiSyHP4zTr8E4/Zo/AqHkTtHCaT/w+MMBjz98PwgEAoFAIJA/BDTX95dRkD8ZkEOACVaJPxEREREREWE/zxEo2mrwnD9eQ3kN5TWUPxiGYRiGYZg/ms/1x8tgZD/D7OAIIq13PwtukM0dV4I/pSN7BqLSoT9wgQtc4AKHP+ecc84555w/AAAAAAAAAAAQBEEQBEGQPwAAAAAAAAAAkiRJkiRJkj8AAAAAAAAAAFQ6smcgKq0/AAAAAAAAAACKhvjj1uV9Px4eHh4eHn4/AAAAAAAAAAAAAAAAAAAAAAAAAAAAAAAAAAAAAAAAAAANJ3VfHluRPwAAAAAAAAAAAAAAAAAAAAAAAAAAAAAAAGQhC1nIQpY/\",\"dtype\":\"float64\",\"shape\":[51]},\"deathShare\":{\"__ndarray__\":\"iREjRowY1T8OHDhw4MCxP8GBAwcOHMA/wYEDBw4cqD/SpEmTJk2qP7Zs2bJly5Y/y5YtW7ZsmT+vXr169eqVPxIjRowYMbI/4MCBAwcOjD+oUKFChQqlP6hQoUKFCpU//Pjx48ePjz+TJk2aNGmSP6hQoUKFCmU/0qRJkyZNij/gwIEDBw58P+7cuXPnzo0/4MCBAwcOXD/gwIEDBw5sP+DAgQMHDnw/4MCBAwcOfD+oUKFChQp1P+DAgQMHDkw/tmzZsmXLhj/8+PHjx49/P4wYMWLEiIE/4MCBAwcOTD/gwIEDBw5cP6hQoUKFCmU/mjRp0qRJgz+oUKFChQplP8SIESNGjHg/AAAAAAAAAACoUKFChQplPwAAAAAAAAAAqFChQoUKZT8AAAAAAAAAAPz48ePHj38/AAAAAAAAAADgwIEDBw5MP+DAgQMHDkw/AAAAAAAAAAAAAAAAAAAAAAAAAAAAAAAAAAAAAAAAAADgwIEDBw5MPwAAAAAAAAAAAAAAAAAAAAAAAAAAAAAAAODAgQMHDkw/\",\"dtype\":\"float64\",\"shape\":[51]},\"expectedCases\":{\"__ndarray__\":\"gyiYMTjAskB1V+7iNz2hQO0oqT0AFZ5A7gXwJKlCw0Ckz3SFnWCjQJl3AHPUa6hAozqW5ns2tUBsRiRzneqaQEhvImfv65FAVot9P2+7qEAKHitA37WkQP9nltZ7jZZAbcVYYERtvECFuEsvVH6LQG57M2ORnJpA6WgcqXSppkCvtoOOopOWQHV5GNI4BppAx1QW9Yl4pEBuzzpGJXiXQLckihWPd5xAoTo44TzNl0BV2rWz1hCHQK4u8/lr8JJA0frthPKjoEBQrZRO4hmUQOcNCnXtOYhA00BRh1RTiUAt0/T6af6VQD+iujYXc4dAAhmgthSYkECCt8encD5mQOIY/S4phI5AHJCRezxckUB5TiJtmS58QHZkNqRRiYhAmfa1P/p0hkC4AdH6k0xwQIqsx4KQYmNAgIzk69DEdEDJBYibYil1QN0lCsCZLYBAvWeXcUBWbkD0BnAzG811QMpEdAAGIn5AeS5gLnbFcEAmXpKzpadmQCQ+yFhLgGFAJqTcn66CZ0BSCLI2oHB7QOxSBqsu32tA\",\"dtype\":\"float64\",\"shape\":[51]},\"expectedDeaths\":{\"__ndarray__\":\"24aZuoGfgEAiLNn33IpYQCCh/lW35EZAiZyJuGR1RUB0/I2iRWNEQKNr83MiHkJAsHkJbHO7QUAoeOKMAkFBQAEtIydVdEBAC7gimecVOEBYDKdpzcU1QLVjefiUajRAXYjXQ1DuM0CaLpSmn+UsQIz/ADGUUytAjbI+/K/BKECqKR5JGjAkQNInG3rjaiJAhYbUdBkpIkA28FWpvo8gQKDLQf7cAh1Aj/Q49ySrHEDePfWNm7IbQFA1wzKCaRtAGBP7xRxFGkAM2Z8WogoaQKbOauxR/BdAc0lQ1yn1FkDVHFNAdMITQDU9GN6iIRNAgOkmHdwLEkDpxBJy+n4OQH4dMPBsUwxAfh0w8GxTDEAv7Sy7SZYFQPfKZE7kcQRAuAvviUEwA0CnNOaCidgCQIDpJh3cCwJAbxIeFiS0AUARENLXp0v/PwbWdigtEf8/wnlTDE2y/T+yCMabzDb4PzyNAwH8rPA//GcSpiGP9D86wQzUjPTqP7IIxpvMNug/m5QPPdfB5z+EIFne4UznPxPcyAQXBOU/\",\"dtype\":\"float64\",\"shape\":[51]},\"infectionRate\":{\"__ndarray__\":\"IyeADHVmXz+spYT4YTZJPyCr5D+W9Do/kGKI+R+7Ez+WInb4F6IyP8C16Dv1Rio/uE35IJ6bHT+utGmLXbQ2P+rCOvyIQkA/M70w8Co/IT9YWk91Op4iP198lHE8CDA/zKz3LG3VCD943lGJIp0yP7sdSUR9LyI/lBt23L9YEz9sdbGc/asfP9up1aYKERk/N/Ly2Q9sDz/rsg+cjf4YPwy5z09cDBI/LJqADrhUFT+/SriFH0QlP3/YypL7oRk/SksS+Eb1Cz9MIz1Sh/EWP9pPoUypiCE/z4IRWNANID/Fxb/mStIPPwcKFvWn5Rw/4WWZ9XhCEz8TuSXFnkc4P30q6/JHcBA/+nt1+WTlDD+Nxbw7gSEbPyFQsL5hgw0/t9E8rLNDDj9fYxSuFHokPx+mQv6bfDA/M4DPBzIxHj+Z8g7ZyTAaPxEQAREQARE/NSri6fxVIT/sDBWzd6sTP2vplJzymQM/4/n7tZ+1FT8hFIhmSxIVPzViLp+vgBg/Mnf720XlET+2LrH+eRP+PrAHa6MFtQo/\",\"dtype\":\"float64\",\"shape\":[51]},\"population\":[19440469,8936574,7797095,39937489,10045029,12659682,21992985,6976597,4645184,12820878,10736059,5845526,29472295,3563077,6897576,11747694,5851754,6745354,10611862,6083116,7378494,6169270,2989260,4908921,8626207,5210095,3139658,3282115,5700671,3038999,4301089,720687,3954821,4499692,1826156,3179849,2910357,1056161,628061,1345790,1371246,2096640,982895,1412687,1952570,1086759,734002,567025,761723,1778070,903027],\"recoveryRate\":{\"__ndarray__\":\"AAAAAAAAAAAzmA5S7w8zPwAAAAAAAAAAhnVyoO5ZYD8AAAAAAAAAAPbjfn9o0kk/AAAAAAAAAACbhNy+Vh07PwAAAAAAAAAAGzC1GjC1ej8AAAAAAAAAAAAAAAAAAAAAKWgajDUjgD8AAAAAAAAAAAAAAAAAAAAAAAAAAAAAAAAAAAAAAAAAAAAAAAAAAAAAAAAAAAAAAAAAAAAAAAAAAAAAAAAAAAAAAAAAAAAAAAAAAAAAAAAAAAAAAAAAAAAAHYGirQbPYT8AAAAAAAAAAAAAAAAAAAAAAAAAAAAAAAAAAAAAAAAAADZ3XElg3qM/AAAAAAAAAAB4afZdmn3HPwAAAAAAAAAAAAAAAAAAAAAAAAAAAAAAAAAAAAAAAAAAAAAAAAAAAAAAAAAAAAAAAAAAAAAAAAAA0hMcPcHRkz8AAAAAAAAAAAAAAAAAAAAAAAAAAAAAAAAAAAAAAAAAAAAAAAAAAAAAAAAAAAAAAAAAAAAAAAAAAAAAAAAAAAAAAAAAAAAAAAAAAAAAAAAAAGQhC1nIQtY/\",\"dtype\":\"float64\",\"shape\":[51]},\"recoveryShare\":{\"__ndarray__\":\"AAAAAAAAAAAdgaKtBs+RPwAAAAAAAAAAq8FzBIq2qj8AAAAAAAAAAB2Boq0Gz5E/AAAAAAAAAAAdgaKtBs+BPwAAAAAAAAAAiHG/Lql8uD8AAAAAAAAAAAAAAAAAAAAAiHG/Lql8uD8AAAAAAAAAAAAAAAAAAAAAAAAAAAAAAAAAAAAAAAAAAAAAAAAAAAAAAAAAAAAAAAAAAAAAAAAAAAAAAAAAAAAAAAAAAAAAAAAAAAAAAAAAAAAAAAAAAAAAHYGirQbPgT8AAAAAAAAAAAAAAAAAAAAAAAAAAAAAAAAAAAAAAAAAAM8RKNpq8Lw/AAAAAAAAAAC01eA5AkXbPwAAAAAAAAAAAAAAAAAAAAAAAAAAAAAAAAAAAAAAAAAAAAAAAAAAAAAAAAAAAAAAAAAAAAAAAAAAq8FzBIq2mj8AAAAAAAAAAAAAAAAAAAAAAAAAAAAAAAAAAAAAAAAAAAAAAAAAAAAAAAAAAAAAAAAAAAAAAAAAAAAAAAAAAAAAAAAAAAAAAAAAAAAAAAAAAB2Boq0Gz8E/\",\"dtype\":\"float64\",\"shape\":[51]},\"state_name\":[\"New York\",\"New Jersey\",\"Washington\",\"California\",\"Michigan\",\"Illinois\",\"Florida\",\"Massachusetts\",\"Louisiana\",\"Pennsylvania\",\"Georgia\",\"Colorado\",\"Texas\",\"Connecticut\",\"Tennessee\",\"Ohio\",\"Wisconsin\",\"Indiana\",\"North Carolina\",\"Maryland\",\"Arizona\",\"Missouri\",\"Mississippi\",\"Alabama\",\"Virginia\",\"South Carolina\",\"Nevada\",\"Utah\",\"Minnesota\",\"Arkansas\",\"Oregon\",\"District of Columbia\",\"Oklahoma\",\"Kentucky\",\"Idaho\",\"Iowa\",\"Kansas\",\"Rhode Island\",\"Vermont\",\"Maine\",\"New Hampshire\",\"New Mexico\",\"Delaware\",\"Hawaii\",\"Nebraska\",\"Montana\",\"Alaska\",\"Wyoming\",\"North Dakota\",\"West Virginia\",\"South Dakota\"],\"totalConfirmed\":[37258,6876,3207,3006,2856,2538,2484,2417,2305,1687,1525,1430,1396,1012,957,867,707,645,636,580,508,502,485,480,460,456,420,402,346,335,316,267,248,248,189,179,168,165,158,155,137,136,130,106,73,90,59,53,52,51,46],\"totalDeaths\":{\"__ndarray__\":\"AAAAAAAQeEAAAAAAAEBUQAAAAAAAYGJAAAAAAACAS0AAAAAAAABOQAAAAAAAADpAAAAAAAAAPUAAAAAAAAA5QAAAAAAAwFRAAAAAAAAAMEAAAAAAAABIQAAAAAAAADhAAAAAAAAAMkAAAAAAAAA1QAAAAAAAAAhAAAAAAAAALkAAAAAAAAAgQAAAAAAAADFAAAAAAAAAAEAAAAAAAAAQQAAAAAAAACBAAAAAAAAAIEAAAAAAAAAYQAAAAAAAAPA/AAAAAAAAKkAAAAAAAAAiQAAAAAAAACRAAAAAAAAA8D8AAAAAAAAAQAAAAAAAAAhAAAAAAAAAJkAAAAAAAAAIQAAAAAAAABxAAAAAAAAAAAAAAAAAAAAIQAAAAAAAAAAAAAAAAAAACEAAAAAAAAAAAAAAAAAAACJAAAAAAAAAAAAAAAAAAADwPwAAAAAAAPA/AAAAAAAAAAAAAAAAAAAAAAAAAAAAAAAAAAAAAAAAAAAAAAAAAADwPwAAAAAAAAAAAAAAAAAAAAAAAAAAAAAAAAAAAAAAAPA/\",\"dtype\":\"float64\",\"shape\":[51]},\"totalRecovered\":{\"__ndarray__\":\"AAAAAAAAAAAAAAAAAAAAQAAAAAAAAAAAAAAAAAAAGEAAAAAAAAAAAAAAAAAAAABAAAAAAAAAAAAAAAAAAADwPwAAAAAAAAAAAAAAAAAAJkAAAAAAAAAAAAAAAAAAAAAAAAAAAAAAJkAAAAAAAAAAAAAAAAAAAAAAAAAAAAAAAAAAAAAAAAAAAAAAAAAAAAAAAAAAAAAAAAAAAAAAAAAAAAAAAAAAAAAAAAAAAAAAAAAAAAAAAAAAAAAAAAAAAAAAAAAAAAAA8D8AAAAAAAAAAAAAAAAAAAAAAAAAAAAAAAAAAAAAAAAAAAAAAAAAACpAAAAAAAAAAAAAAAAAAIBIQAAAAAAAAAAAAAAAAAAAAAAAAAAAAAAAAAAAAAAAAAAAAAAAAAAAAAAAAAAAAAAAAAAAAAAAAAAAAAAAAAAACEAAAAAAAAAAAAAAAAAAAAAAAAAAAAAAAAAAAAAAAAAAAAAAAAAAAAAAAAAAAAAAAAAAAAAAAAAAAAAAAAAAAAAAAAAAAAAAAAAAAAAAAAAAAAAAAAAAADBA\",\"dtype\":\"float64\",\"shape\":[51]}},\"selected\":{\"id\":\"1297\"},\"selection_policy\":{\"id\":\"1298\"}},\"id\":\"1002\",\"type\":\"ColumnDataSource\"},{\"attributes\":{},\"id\":\"1226\",\"type\":\"CategoricalScale\"},{\"attributes\":{\"text\":\"COVID US Percentage Share of Deaths by State\"},\"id\":\"1220\",\"type\":\"Title\"},{\"attributes\":{},\"id\":\"1228\",\"type\":\"LinearScale\"},{\"attributes\":{\"data_source\":{\"id\":\"1002\"},\"glyph\":{\"id\":\"1251\"},\"hover_glyph\":null,\"muted_glyph\":null,\"nonselection_glyph\":{\"id\":\"1252\"},\"selection_glyph\":null,\"view\":{\"id\":\"1254\"}},\"id\":\"1253\",\"type\":\"GlyphRenderer\"},{\"attributes\":{\"formatter\":{\"id\":\"1511\"},\"major_label_orientation\":0.7853981633974483,\"ticker\":{\"id\":\"1231\"}},\"id\":\"1230\",\"type\":\"CategoricalAxis\"},{\"attributes\":{},\"id\":\"1231\",\"type\":\"CategoricalTicker\"},{\"attributes\":{\"axis\":{\"id\":\"1230\"},\"grid_line_color\":null,\"ticker\":null},\"id\":\"1232\",\"type\":\"Grid\"},{\"attributes\":{\"formatter\":{\"id\":\"1509\"},\"ticker\":{\"id\":\"1234\"}},\"id\":\"1233\",\"type\":\"LinearAxis\"},{\"attributes\":{},\"id\":\"1234\",\"type\":\"BasicTicker\"},{\"attributes\":{\"bottom_units\":\"screen\",\"fill_alpha\":0.5,\"fill_color\":\"lightgrey\",\"left_units\":\"screen\",\"level\":\"overlay\",\"line_alpha\":1.0,\"line_color\":\"black\",\"line_dash\":[4,4],\"line_width\":2,\"render_mode\":\"css\",\"right_units\":\"screen\",\"top_units\":\"screen\"},\"id\":\"1512\",\"type\":\"BoxAnnotation\"},{\"attributes\":{\"axis\":{\"id\":\"1233\"},\"dimension\":1,\"ticker\":null},\"id\":\"1236\",\"type\":\"Grid\"},{\"attributes\":{},\"id\":\"1509\",\"type\":\"BasicTickFormatter\"},{\"attributes\":{\"factors\":[\"New York\",\"New Jersey\",\"Washington\",\"California\",\"Michigan\",\"Illinois\",\"Florida\",\"Massachusetts\",\"Louisiana\",\"Pennsylvania\",\"Georgia\",\"Colorado\",\"Texas\",\"Connecticut\",\"Tennessee\",\"Ohio\",\"Wisconsin\",\"Indiana\",\"North Carolina\",\"Maryland\",\"Arizona\",\"Missouri\",\"Mississippi\",\"Alabama\",\"Virginia\",\"South Carolina\",\"Nevada\",\"Utah\",\"Minnesota\",\"Arkansas\",\"Oregon\",\"District of Columbia\",\"Oklahoma\",\"Kentucky\",\"Idaho\",\"Iowa\",\"Kansas\",\"Rhode Island\",\"Vermont\",\"Maine\",\"New Hampshire\",\"New Mexico\",\"Delaware\",\"Hawaii\",\"Nebraska\",\"Montana\",\"Alaska\",\"Wyoming\",\"North Dakota\",\"West Virginia\",\"South Dakota\"]},\"id\":\"1222\",\"type\":\"FactorRange\"},{\"attributes\":{\"fill_alpha\":{\"value\":0.1},\"fill_color\":{\"value\":\"#1f77b4\"},\"line_alpha\":{\"value\":0.1},\"line_color\":{\"value\":\"#1f77b4\"},\"top\":{\"field\":\"deathShare\"},\"width\":{\"value\":0.5},\"x\":{\"field\":\"state_name\"}},\"id\":\"1252\",\"type\":\"VBar\"},{\"attributes\":{\"source\":{\"id\":\"1002\"}},\"id\":\"1254\",\"type\":\"CDSView\"},{\"attributes\":{\"fill_color\":{\"value\":\"#1f77b4\"},\"line_color\":{\"value\":\"#1f77b4\"},\"top\":{\"field\":\"deathShare\"},\"width\":{\"value\":0.5},\"x\":{\"field\":\"state_name\"}},\"id\":\"1251\",\"type\":\"VBar\"},{\"attributes\":{},\"id\":\"1297\",\"type\":\"Selection\"}],\"root_ids\":[\"1219\"]},\"title\":\"Bokeh Application\",\"version\":\"2.0.0\"}};\n",
              "  var render_items = [{\"docid\":\"d3feacfa-c141-4d8c-a1fa-3eaafcfbdc13\",\"root_ids\":[\"1219\"],\"roots\":{\"1219\":\"20b4100a-af96-41a6-b93d-3b76ea1ab87b\"}}];\n",
              "  root.Bokeh.embed.embed_items_notebook(docs_json, render_items);\n",
              "\n",
              "  }\n",
              "  if (root.Bokeh !== undefined) {\n",
              "    embed_document(root);\n",
              "  } else {\n",
              "    var attempts = 0;\n",
              "    var timer = setInterval(function(root) {\n",
              "      if (root.Bokeh !== undefined) {\n",
              "        clearInterval(timer);\n",
              "        embed_document(root);\n",
              "      } else {\n",
              "        attempts++;\n",
              "        if (attempts > 100) {\n",
              "          clearInterval(timer);\n",
              "          console.log(\"Bokeh: ERROR: Unable to run BokehJS code because BokehJS library is missing\");\n",
              "        }\n",
              "      }\n",
              "    }, 10, root)\n",
              "  }\n",
              "})(window);"
            ],
            "application/vnd.bokehjs_exec.v0+json": ""
          },
          "metadata": {
            "application/vnd.bokehjs_exec.v0+json": {
              "id": "1219"
            }
          }
        },
        {
          "output_type": "display_data",
          "data": {
            "text/html": [
              "\n",
              "\n",
              "\n",
              "\n",
              "\n",
              "\n",
              "  <div class=\"bk-root\" id=\"4db38db2-48c3-43de-9a7e-fd8308a9e7d8\" data-root-id=\"1003\"></div>\n"
            ]
          },
          "metadata": {}
        },
        {
          "output_type": "display_data",
          "data": {
            "application/javascript": [
              "(function(root) {\n",
              "  function embed_document(root) {\n",
              "    \n",
              "  var docs_json = {\"f23c2068-81ed-4dd3-a79e-883ef99862ff\":{\"roots\":{\"references\":[{\"attributes\":{\"below\":[{\"id\":\"1014\"}],\"center\":[{\"id\":\"1016\"},{\"id\":\"1020\"}],\"left\":[{\"id\":\"1017\"}],\"plot_width\":1000,\"renderers\":[{\"id\":\"1037\"}],\"title\":{\"id\":\"1004\"},\"toolbar\":{\"id\":\"1027\"},\"x_range\":{\"id\":\"1006\"},\"x_scale\":{\"id\":\"1010\"},\"y_range\":{\"id\":\"1008\"},\"y_scale\":{\"id\":\"1012\"}},\"id\":\"1003\",\"subtype\":\"Figure\",\"type\":\"Plot\"},{\"attributes\":{},\"id\":\"1018\",\"type\":\"BasicTicker\"},{\"attributes\":{},\"id\":\"1298\",\"type\":\"UnionRenderers\"},{\"attributes\":{\"axis\":{\"id\":\"1017\"},\"dimension\":1,\"ticker\":null},\"id\":\"1020\",\"type\":\"Grid\"},{\"attributes\":{},\"id\":\"1599\",\"type\":\"CategoricalTickFormatter\"},{\"attributes\":{\"fill_color\":{\"value\":\"#1f77b4\"},\"line_color\":{\"value\":\"white\"},\"top\":{\"field\":\"totalConfirmed\"},\"width\":{\"value\":0.5},\"x\":{\"field\":\"state_name\"}},\"id\":\"1035\",\"type\":\"VBar\"},{\"attributes\":{\"fill_alpha\":{\"value\":0.1},\"fill_color\":{\"value\":\"#1f77b4\"},\"line_alpha\":{\"value\":0.1},\"line_color\":{\"value\":\"white\"},\"top\":{\"field\":\"totalConfirmed\"},\"width\":{\"value\":0.5},\"x\":{\"field\":\"state_name\"}},\"id\":\"1036\",\"type\":\"VBar\"},{\"attributes\":{},\"id\":\"1021\",\"type\":\"PanTool\"},{\"attributes\":{},\"id\":\"1597\",\"type\":\"BasicTickFormatter\"},{\"attributes\":{},\"id\":\"1022\",\"type\":\"WheelZoomTool\"},{\"attributes\":{\"data\":{\"caseDelta\":{\"__ndarray__\":\"3/WZ83Gy30BG1IgOZD2yQBPXVsL/BpRA3AvgSVLHusDgglnUE3t3QGTeAcxRX4LARnUszfcEp8Aoc7cZxbKFQLiQ3ZgQGJJArBb7ft4al8AUPFaAvpeRwID/M0vrvSrAbcVYYET5tsDsHdFCr4ZgQNz2ZsYiUYfA0tE4UunGn8BebQcdRQ+HwOryMKRx5I/Ajqks6hMBn8DcnnWMStCMwLckihWPh5TAQnVwwnnqj8BUadfOWqNvwFxd5vPX4IbAovXbCeUXmsCgWimdxPOJwM4bFOraM3bApoGiDqmGecAt0/T6aZaQwH5EdW0u9nnABDJAbSlQh8D8kHCwHkNWQOIY/S4pxIbAOCAj93j4isB5TiJtmV5wwHZkNqRR8YLAmfa1P/o0gcDgBkTrT/JXwIDdFE7fWwdAABnJ16EpZsCSCxA3xTJpwLpLFIAz23fAes8u44AsXMDoDeBmNlpuwMpEdAAGknnA8lzAXOxKZsBMvCRnS49ewEh8kLGWwFXAJqTcn64CYcBSCLI2oEB4wOxSBqsuH2bA\",\"dtype\":\"float64\",\"shape\":[51]},\"caseDeltaRate\":{\"__ndarray__\":\"29qYhgIMG0BXThRTwu0AQLvp+6biTeU/Kr3X0No+5r9NTXftXmPDPxWzATruEsi/lK9XXNVc4b99MPPV3MvZPyHhKd5lJ/A/Q7x8oAXl3b86GGsGzS7bv5WHmfLW+IK/Y+88zIbc6b/hhdq4JTzDP0Uhj3LJCdy/fupaMH1v5r8hF5aZnlfgvwWqpLeUm+O/K+o2tJw76L/XKVecuKTjv1k76j7QE+e/YBWur1x05b99Cb80RPLVvxGqcQHtU+O/uQLwVdAW6b9zs7WYR6jkv6M29UuwU92//85t2G0g4L9maDyPVyLov98EDGHKtuG/HIlFjoB65r/bO1S+XQPgP+hJpe+I3+e/H9kxv3Xb6L8i9o+JUpbiv0EA3FJotOi/ncuqVd6E6L91xfzvzYHXv1HdgEqqR5M/cKs71uIS4b+VYsqKUw3jv7JtnWX1l+e/NH5aJOW33b8gdDZnmEbmvxtfcdugJ+u/9s/FbHRE5b8nG/pYM5XlvwDSkVPy4uO/5J4xLSMn57/YE1wDZUjsv89EDwz6Zem/\",\"dtype\":\"float64\",\"shape\":[51]},\"caseShare\":{\"__ndarray__\":\"tGp94bUl3T9IVJt6Q4S1P2LM/n8pEqQ/kDGRMSDQoj8tkKbUzN+hP+kXN5qexJ8/O4/0x5UXnz+v0gDp5ECeP+hOgAUC2pw/6sC/grkdlT/hJvgLnxaTP2NJJHQ15pE/0PzK3EJ5kT/bKAB9llWJP0pe/Tgc9Yc/W0HKJlS0hT+0fzZ48LKBP6qkw9eZJYA/i0OweNjXfz/8O6+xEgp9P7IN9/o4b3k/LF8SgVEieT8Fxl9SbEh4P+uJdhdWCHg/gZnRK/0Hdz/Sz+MvuNR2P664h1RLB3U/G63Z5pQgdD+Npdgfz1JxP+y6CmvRxXA/3HnCfJOkbz+irIBgebxqP6awLQdq1Wg/prAtB2rVaD8D80b/9uxiP5kCohOe7GE/WC0GqqLSYD/SfiEwu4VgP9x5wnyTpF8/0Bz5iMQKXz+G7kDS6m9bP9ckU9alPFs/v2rA7gcJWj9cgnVQkDpVP6sFna1XPU0/cOeYkUAGUj+O9pofzKFHP1yCdVCQOkU//+6ZWAbURD+hW75gfG1EP856dInKbEI/\",\"dtype\":\"float64\",\"shape\":[51]},\"deathDelta\":{\"__ndarray__\":\"bBtm6gZeYsCIsGTfcysxwHCvAFWkTVlA3I3ZHW0qKEAYB+S6dDkzQIyuzc+JeCTAgM1LYJvbGcCg4IkzCgQjwP/S3NiqC0lAFnBFMs8rIMCo81iWMjo6QFjiNDxYqwxA0IV4PQTl/r/MoteywDQaQIz/ADGUUyXAzDUFD0D5BECopngkacAAwFywyQs5Kh9ACg2p6TJSHMBs4KtSfR8RwACj8Q0Y6ec/iFs4Rtim6j/w7qlv3JTtv1A1wzKCaRfA6OwEOuO6GUDoTcDSu+oDQFoxlROuAxBAc0lQ1yn1EsCqOaaA6IQHwNT0YHiLhvy/gBbZ4iP0GUCkE0vI6fvpv4Lizw+TrAtAfh0w8GxTDMCIlpgmsk3TP/fKZE7kcQTAINFD2Pk+4z+nNOaCidgCwECLbPER+hpAbxIeFiS0AcAiIKSvT5fuvwys7VBaIu6/wnlTDE2y/b+yCMabzDb4vzyNAwH8rPC//GcSpiGP9L8Y+8yvzC3EP7IIxpvMNui/m5QPPdfB57+EIFne4Uznv9pHbvbR99U/\",\"dtype\":\"float64\",\"shape\":[51]},\"deathDeltaRate\":{\"__ndarray__\":\"oj2gmcit0b8wxJW1EmPGv5gK2uYprwFAlpmrur0E0j+pZNi/jizeP3x8krD9E9K/ngRTB/NUx78lH1Y7QKLRv/Qt+WqYWvg/aPwu+yJ81b9b6znBCUbzPweW4TK+d8Y/VJIGSiXNuL9mHFMEKAXdP6zMahtO+ei/US0oaTYcyz9NgNXnl43KvyMX4AD7Eus/8rHkGabz6L+uKB4J34rgv4FrhuS0X7o/YfG2/rO/vT+L5KjKlBbBv0ocwQqeVOu/6LczIKBX7z+Wv1b+WnnYP9gFYReEXeU/CAddbK1s6r/sd1TVVAvjv9NlNwxH29e/aL+Yub0C9z+Tz+xG+EPLvzdw4MCBQ+8/AAAAAAAA8L/YyVona528PwAAAAAAAPC/xYgRI0YM0D8AAAAAAADwv5ucCFL46gdAAAAAAAAA8L+/dxqWmEffv5Kp2jwBCt+/AAAAAAAA8L8AAAAAAADwvwAAAAAAAPC/AAAAAAAA8L+dA1F/lvTHPwAAAAAAAPC/AAAAAAAA8L8AAAAAAADwvymhsd2OueA/\",\"dtype\":\"float64\",\"shape\":[51]},\"deathRate\":{\"__ndarray__\":\"DSqc7KYphT+heNrjKiCIP1mXqED6d6c/VdEtbWG8kj8WOoMVOoOVPzcZl+f0+oQ/YhrAJurohz+ZRxzF6y6FP4/1XbK6b6I/E4BsE4Bsgz/Sib9/ix2gP1eH0pyeL5E/zx7OEyloij+DK7k9vz+VP9oQVeokrmk/9E2oAl23kT8f+XCYiSyHP4zTr8E4/Zo/AqHkTtHCaT/w+MMBjz98PwgEAoFAIJA/BDTX95dRkD8ZkEOACVaJPxEREREREWE/zxEo2mrwnD9eQ3kN5TWUPxiGYRiGYZg/ms/1x8tgZD/D7OAIIq13PwtukM0dV4I/pSN7BqLSoT9wgQtc4AKHP+ecc84555w/AAAAAAAAAAAQBEEQBEGQPwAAAAAAAAAAkiRJkiRJkj8AAAAAAAAAAFQ6smcgKq0/AAAAAAAAAACKhvjj1uV9Px4eHh4eHn4/AAAAAAAAAAAAAAAAAAAAAAAAAAAAAAAAAAAAAAAAAAANJ3VfHluRPwAAAAAAAAAAAAAAAAAAAAAAAAAAAAAAAGQhC1nIQpY/\",\"dtype\":\"float64\",\"shape\":[51]},\"deathShare\":{\"__ndarray__\":\"iREjRowY1T8OHDhw4MCxP8GBAwcOHMA/wYEDBw4cqD/SpEmTJk2qP7Zs2bJly5Y/y5YtW7ZsmT+vXr169eqVPxIjRowYMbI/4MCBAwcOjD+oUKFChQqlP6hQoUKFCpU//Pjx48ePjz+TJk2aNGmSP6hQoUKFCmU/0qRJkyZNij/gwIEDBw58P+7cuXPnzo0/4MCBAwcOXD/gwIEDBw5sP+DAgQMHDnw/4MCBAwcOfD+oUKFChQp1P+DAgQMHDkw/tmzZsmXLhj/8+PHjx49/P4wYMWLEiIE/4MCBAwcOTD/gwIEDBw5cP6hQoUKFCmU/mjRp0qRJgz+oUKFChQplP8SIESNGjHg/AAAAAAAAAACoUKFChQplPwAAAAAAAAAAqFChQoUKZT8AAAAAAAAAAPz48ePHj38/AAAAAAAAAADgwIEDBw5MP+DAgQMHDkw/AAAAAAAAAAAAAAAAAAAAAAAAAAAAAAAAAAAAAAAAAADgwIEDBw5MPwAAAAAAAAAAAAAAAAAAAAAAAAAAAAAAAODAgQMHDkw/\",\"dtype\":\"float64\",\"shape\":[51]},\"expectedCases\":{\"__ndarray__\":\"gyiYMTjAskB1V+7iNz2hQO0oqT0AFZ5A7gXwJKlCw0Ckz3SFnWCjQJl3AHPUa6hAozqW5ns2tUBsRiRzneqaQEhvImfv65FAVot9P2+7qEAKHitA37WkQP9nltZ7jZZAbcVYYERtvECFuEsvVH6LQG57M2ORnJpA6WgcqXSppkCvtoOOopOWQHV5GNI4BppAx1QW9Yl4pEBuzzpGJXiXQLckihWPd5xAoTo44TzNl0BV2rWz1hCHQK4u8/lr8JJA0frthPKjoEBQrZRO4hmUQOcNCnXtOYhA00BRh1RTiUAt0/T6af6VQD+iujYXc4dAAhmgthSYkECCt8encD5mQOIY/S4phI5AHJCRezxckUB5TiJtmS58QHZkNqRRiYhAmfa1P/p0hkC4AdH6k0xwQIqsx4KQYmNAgIzk69DEdEDJBYibYil1QN0lCsCZLYBAvWeXcUBWbkD0BnAzG811QMpEdAAGIn5AeS5gLnbFcEAmXpKzpadmQCQ+yFhLgGFAJqTcn66CZ0BSCLI2oHB7QOxSBqsu32tA\",\"dtype\":\"float64\",\"shape\":[51]},\"expectedDeaths\":{\"__ndarray__\":\"24aZuoGfgEAiLNn33IpYQCCh/lW35EZAiZyJuGR1RUB0/I2iRWNEQKNr83MiHkJAsHkJbHO7QUAoeOKMAkFBQAEtIydVdEBAC7gimecVOEBYDKdpzcU1QLVjefiUajRAXYjXQ1DuM0CaLpSmn+UsQIz/ADGUUytAjbI+/K/BKECqKR5JGjAkQNInG3rjaiJAhYbUdBkpIkA28FWpvo8gQKDLQf7cAh1Aj/Q49ySrHEDePfWNm7IbQFA1wzKCaRtAGBP7xRxFGkAM2Z8WogoaQKbOauxR/BdAc0lQ1yn1FkDVHFNAdMITQDU9GN6iIRNAgOkmHdwLEkDpxBJy+n4OQH4dMPBsUwxAfh0w8GxTDEAv7Sy7SZYFQPfKZE7kcQRAuAvviUEwA0CnNOaCidgCQIDpJh3cCwJAbxIeFiS0AUARENLXp0v/PwbWdigtEf8/wnlTDE2y/T+yCMabzDb4PzyNAwH8rPA//GcSpiGP9D86wQzUjPTqP7IIxpvMNug/m5QPPdfB5z+EIFne4UznPxPcyAQXBOU/\",\"dtype\":\"float64\",\"shape\":[51]},\"infectionRate\":{\"__ndarray__\":\"IyeADHVmXz+spYT4YTZJPyCr5D+W9Do/kGKI+R+7Ez+WInb4F6IyP8C16Dv1Rio/uE35IJ6bHT+utGmLXbQ2P+rCOvyIQkA/M70w8Co/IT9YWk91Op4iP198lHE8CDA/zKz3LG3VCD943lGJIp0yP7sdSUR9LyI/lBt23L9YEz9sdbGc/asfP9up1aYKERk/N/Ly2Q9sDz/rsg+cjf4YPwy5z09cDBI/LJqADrhUFT+/SriFH0QlP3/YypL7oRk/SksS+Eb1Cz9MIz1Sh/EWP9pPoUypiCE/z4IRWNANID/Fxb/mStIPPwcKFvWn5Rw/4WWZ9XhCEz8TuSXFnkc4P30q6/JHcBA/+nt1+WTlDD+Nxbw7gSEbPyFQsL5hgw0/t9E8rLNDDj9fYxSuFHokPx+mQv6bfDA/M4DPBzIxHj+Z8g7ZyTAaPxEQAREQARE/NSri6fxVIT/sDBWzd6sTP2vplJzymQM/4/n7tZ+1FT8hFIhmSxIVPzViLp+vgBg/Mnf720XlET+2LrH+eRP+PrAHa6MFtQo/\",\"dtype\":\"float64\",\"shape\":[51]},\"population\":[19440469,8936574,7797095,39937489,10045029,12659682,21992985,6976597,4645184,12820878,10736059,5845526,29472295,3563077,6897576,11747694,5851754,6745354,10611862,6083116,7378494,6169270,2989260,4908921,8626207,5210095,3139658,3282115,5700671,3038999,4301089,720687,3954821,4499692,1826156,3179849,2910357,1056161,628061,1345790,1371246,2096640,982895,1412687,1952570,1086759,734002,567025,761723,1778070,903027],\"recoveryRate\":{\"__ndarray__\":\"AAAAAAAAAAAzmA5S7w8zPwAAAAAAAAAAhnVyoO5ZYD8AAAAAAAAAAPbjfn9o0kk/AAAAAAAAAACbhNy+Vh07PwAAAAAAAAAAGzC1GjC1ej8AAAAAAAAAAAAAAAAAAAAAKWgajDUjgD8AAAAAAAAAAAAAAAAAAAAAAAAAAAAAAAAAAAAAAAAAAAAAAAAAAAAAAAAAAAAAAAAAAAAAAAAAAAAAAAAAAAAAAAAAAAAAAAAAAAAAAAAAAAAAAAAAAAAAHYGirQbPYT8AAAAAAAAAAAAAAAAAAAAAAAAAAAAAAAAAAAAAAAAAADZ3XElg3qM/AAAAAAAAAAB4afZdmn3HPwAAAAAAAAAAAAAAAAAAAAAAAAAAAAAAAAAAAAAAAAAAAAAAAAAAAAAAAAAAAAAAAAAAAAAAAAAA0hMcPcHRkz8AAAAAAAAAAAAAAAAAAAAAAAAAAAAAAAAAAAAAAAAAAAAAAAAAAAAAAAAAAAAAAAAAAAAAAAAAAAAAAAAAAAAAAAAAAAAAAAAAAAAAAAAAAGQhC1nIQtY/\",\"dtype\":\"float64\",\"shape\":[51]},\"recoveryShare\":{\"__ndarray__\":\"AAAAAAAAAAAdgaKtBs+RPwAAAAAAAAAAq8FzBIq2qj8AAAAAAAAAAB2Boq0Gz5E/AAAAAAAAAAAdgaKtBs+BPwAAAAAAAAAAiHG/Lql8uD8AAAAAAAAAAAAAAAAAAAAAiHG/Lql8uD8AAAAAAAAAAAAAAAAAAAAAAAAAAAAAAAAAAAAAAAAAAAAAAAAAAAAAAAAAAAAAAAAAAAAAAAAAAAAAAAAAAAAAAAAAAAAAAAAAAAAAAAAAAAAAAAAAAAAAHYGirQbPgT8AAAAAAAAAAAAAAAAAAAAAAAAAAAAAAAAAAAAAAAAAAM8RKNpq8Lw/AAAAAAAAAAC01eA5AkXbPwAAAAAAAAAAAAAAAAAAAAAAAAAAAAAAAAAAAAAAAAAAAAAAAAAAAAAAAAAAAAAAAAAAAAAAAAAAq8FzBIq2mj8AAAAAAAAAAAAAAAAAAAAAAAAAAAAAAAAAAAAAAAAAAAAAAAAAAAAAAAAAAAAAAAAAAAAAAAAAAAAAAAAAAAAAAAAAAAAAAAAAAAAAAAAAAB2Boq0Gz8E/\",\"dtype\":\"float64\",\"shape\":[51]},\"state_name\":[\"New York\",\"New Jersey\",\"Washington\",\"California\",\"Michigan\",\"Illinois\",\"Florida\",\"Massachusetts\",\"Louisiana\",\"Pennsylvania\",\"Georgia\",\"Colorado\",\"Texas\",\"Connecticut\",\"Tennessee\",\"Ohio\",\"Wisconsin\",\"Indiana\",\"North Carolina\",\"Maryland\",\"Arizona\",\"Missouri\",\"Mississippi\",\"Alabama\",\"Virginia\",\"South Carolina\",\"Nevada\",\"Utah\",\"Minnesota\",\"Arkansas\",\"Oregon\",\"District of Columbia\",\"Oklahoma\",\"Kentucky\",\"Idaho\",\"Iowa\",\"Kansas\",\"Rhode Island\",\"Vermont\",\"Maine\",\"New Hampshire\",\"New Mexico\",\"Delaware\",\"Hawaii\",\"Nebraska\",\"Montana\",\"Alaska\",\"Wyoming\",\"North Dakota\",\"West Virginia\",\"South Dakota\"],\"totalConfirmed\":[37258,6876,3207,3006,2856,2538,2484,2417,2305,1687,1525,1430,1396,1012,957,867,707,645,636,580,508,502,485,480,460,456,420,402,346,335,316,267,248,248,189,179,168,165,158,155,137,136,130,106,73,90,59,53,52,51,46],\"totalDeaths\":{\"__ndarray__\":\"AAAAAAAQeEAAAAAAAEBUQAAAAAAAYGJAAAAAAACAS0AAAAAAAABOQAAAAAAAADpAAAAAAAAAPUAAAAAAAAA5QAAAAAAAwFRAAAAAAAAAMEAAAAAAAABIQAAAAAAAADhAAAAAAAAAMkAAAAAAAAA1QAAAAAAAAAhAAAAAAAAALkAAAAAAAAAgQAAAAAAAADFAAAAAAAAAAEAAAAAAAAAQQAAAAAAAACBAAAAAAAAAIEAAAAAAAAAYQAAAAAAAAPA/AAAAAAAAKkAAAAAAAAAiQAAAAAAAACRAAAAAAAAA8D8AAAAAAAAAQAAAAAAAAAhAAAAAAAAAJkAAAAAAAAAIQAAAAAAAABxAAAAAAAAAAAAAAAAAAAAIQAAAAAAAAAAAAAAAAAAACEAAAAAAAAAAAAAAAAAAACJAAAAAAAAAAAAAAAAAAADwPwAAAAAAAPA/AAAAAAAAAAAAAAAAAAAAAAAAAAAAAAAAAAAAAAAAAAAAAAAAAADwPwAAAAAAAAAAAAAAAAAAAAAAAAAAAAAAAAAAAAAAAPA/\",\"dtype\":\"float64\",\"shape\":[51]},\"totalRecovered\":{\"__ndarray__\":\"AAAAAAAAAAAAAAAAAAAAQAAAAAAAAAAAAAAAAAAAGEAAAAAAAAAAAAAAAAAAAABAAAAAAAAAAAAAAAAAAADwPwAAAAAAAAAAAAAAAAAAJkAAAAAAAAAAAAAAAAAAAAAAAAAAAAAAJkAAAAAAAAAAAAAAAAAAAAAAAAAAAAAAAAAAAAAAAAAAAAAAAAAAAAAAAAAAAAAAAAAAAAAAAAAAAAAAAAAAAAAAAAAAAAAAAAAAAAAAAAAAAAAAAAAAAAAAAAAAAAAA8D8AAAAAAAAAAAAAAAAAAAAAAAAAAAAAAAAAAAAAAAAAAAAAAAAAACpAAAAAAAAAAAAAAAAAAIBIQAAAAAAAAAAAAAAAAAAAAAAAAAAAAAAAAAAAAAAAAAAAAAAAAAAAAAAAAAAAAAAAAAAAAAAAAAAAAAAAAAAACEAAAAAAAAAAAAAAAAAAAAAAAAAAAAAAAAAAAAAAAAAAAAAAAAAAAAAAAAAAAAAAAAAAAAAAAAAAAAAAAAAAAAAAAAAAAAAAAAAAAAAAAAAAAAAAAAAAADBA\",\"dtype\":\"float64\",\"shape\":[51]}},\"selected\":{\"id\":\"1297\"},\"selection_policy\":{\"id\":\"1298\"}},\"id\":\"1002\",\"type\":\"ColumnDataSource\"},{\"attributes\":{\"overlay\":{\"id\":\"1600\"}},\"id\":\"1023\",\"type\":\"BoxZoomTool\"},{\"attributes\":{},\"id\":\"1024\",\"type\":\"SaveTool\"},{\"attributes\":{\"text\":\"COVID Confirmed: 81,809 - Death Rate: 1.4277% - Recovery Rate: 0.1406%\"},\"id\":\"1004\",\"type\":\"Title\"},{\"attributes\":{},\"id\":\"1025\",\"type\":\"ResetTool\"},{\"attributes\":{},\"id\":\"1026\",\"type\":\"HelpTool\"},{\"attributes\":{},\"id\":\"1012\",\"type\":\"LinearScale\"},{\"attributes\":{\"active_drag\":\"auto\",\"active_inspect\":\"auto\",\"active_multi\":null,\"active_scroll\":\"auto\",\"active_tap\":\"auto\",\"tools\":[{\"id\":\"1021\"},{\"id\":\"1022\"},{\"id\":\"1023\"},{\"id\":\"1024\"},{\"id\":\"1025\"},{\"id\":\"1026\"}]},\"id\":\"1027\",\"type\":\"Toolbar\"},{\"attributes\":{\"formatter\":{\"id\":\"1599\"},\"major_label_orientation\":0.7853981633974483,\"ticker\":{\"id\":\"1015\"}},\"id\":\"1014\",\"type\":\"CategoricalAxis\"},{\"attributes\":{},\"id\":\"1015\",\"type\":\"CategoricalTicker\"},{\"attributes\":{\"source\":{\"id\":\"1002\"}},\"id\":\"1038\",\"type\":\"CDSView\"},{\"attributes\":{\"formatter\":{\"id\":\"1597\"},\"ticker\":{\"id\":\"1018\"}},\"id\":\"1017\",\"type\":\"LinearAxis\"},{\"attributes\":{\"data_source\":{\"id\":\"1002\"},\"glyph\":{\"id\":\"1035\"},\"hover_glyph\":null,\"muted_glyph\":null,\"nonselection_glyph\":{\"id\":\"1036\"},\"selection_glyph\":null,\"view\":{\"id\":\"1038\"}},\"id\":\"1037\",\"type\":\"GlyphRenderer\"},{\"attributes\":{\"axis\":{\"id\":\"1014\"},\"grid_line_color\":null,\"ticker\":null},\"id\":\"1016\",\"type\":\"Grid\"},{\"attributes\":{},\"id\":\"1010\",\"type\":\"CategoricalScale\"},{\"attributes\":{\"bottom_units\":\"screen\",\"fill_alpha\":0.5,\"fill_color\":\"lightgrey\",\"left_units\":\"screen\",\"level\":\"overlay\",\"line_alpha\":1.0,\"line_color\":\"black\",\"line_dash\":[4,4],\"line_width\":2,\"render_mode\":\"css\",\"right_units\":\"screen\",\"top_units\":\"screen\"},\"id\":\"1600\",\"type\":\"BoxAnnotation\"},{\"attributes\":{\"end\":42495.34732189837,\"start\":0},\"id\":\"1008\",\"type\":\"DataRange1d\"},{\"attributes\":{\"factors\":[\"New York\",\"New Jersey\",\"Washington\",\"California\",\"Michigan\",\"Illinois\",\"Florida\",\"Massachusetts\",\"Louisiana\",\"Pennsylvania\",\"Georgia\",\"Colorado\",\"Texas\",\"Connecticut\",\"Tennessee\",\"Ohio\",\"Wisconsin\",\"Indiana\",\"North Carolina\",\"Maryland\",\"Arizona\",\"Missouri\",\"Mississippi\",\"Alabama\",\"Virginia\",\"South Carolina\",\"Nevada\",\"Utah\",\"Minnesota\",\"Arkansas\",\"Oregon\",\"District of Columbia\",\"Oklahoma\",\"Kentucky\",\"Idaho\",\"Iowa\",\"Kansas\",\"Rhode Island\",\"Vermont\",\"Maine\",\"New Hampshire\",\"New Mexico\",\"Delaware\",\"Hawaii\",\"Nebraska\",\"Montana\",\"Alaska\",\"Wyoming\",\"North Dakota\",\"West Virginia\",\"South Dakota\"]},\"id\":\"1006\",\"type\":\"FactorRange\"},{\"attributes\":{},\"id\":\"1297\",\"type\":\"Selection\"}],\"root_ids\":[\"1003\"]},\"title\":\"Bokeh Application\",\"version\":\"2.0.0\"}};\n",
              "  var render_items = [{\"docid\":\"f23c2068-81ed-4dd3-a79e-883ef99862ff\",\"root_ids\":[\"1003\"],\"roots\":{\"1003\":\"4db38db2-48c3-43de-9a7e-fd8308a9e7d8\"}}];\n",
              "  root.Bokeh.embed.embed_items_notebook(docs_json, render_items);\n",
              "\n",
              "  }\n",
              "  if (root.Bokeh !== undefined) {\n",
              "    embed_document(root);\n",
              "  } else {\n",
              "    var attempts = 0;\n",
              "    var timer = setInterval(function(root) {\n",
              "      if (root.Bokeh !== undefined) {\n",
              "        clearInterval(timer);\n",
              "        embed_document(root);\n",
              "      } else {\n",
              "        attempts++;\n",
              "        if (attempts > 100) {\n",
              "          clearInterval(timer);\n",
              "          console.log(\"Bokeh: ERROR: Unable to run BokehJS code because BokehJS library is missing\");\n",
              "        }\n",
              "      }\n",
              "    }, 10, root)\n",
              "  }\n",
              "})(window);"
            ],
            "application/vnd.bokehjs_exec.v0+json": ""
          },
          "metadata": {
            "application/vnd.bokehjs_exec.v0+json": {
              "id": "1003"
            }
          }
        },
        {
          "output_type": "display_data",
          "data": {
            "text/html": [
              "\n",
              "\n",
              "\n",
              "\n",
              "\n",
              "\n",
              "  <div class=\"bk-root\" id=\"c019f74c-fd2e-4f99-b96a-5ccfad0b518a\" data-root-id=\"1039\"></div>\n"
            ]
          },
          "metadata": {}
        },
        {
          "output_type": "display_data",
          "data": {
            "application/javascript": [
              "(function(root) {\n",
              "  function embed_document(root) {\n",
              "    \n",
              "  var docs_json = {\"323f039b-bdfa-4782-9432-f40606f79737\":{\"roots\":{\"references\":[{\"attributes\":{\"below\":[{\"id\":\"1050\"}],\"center\":[{\"id\":\"1052\"},{\"id\":\"1056\"}],\"left\":[{\"id\":\"1053\"}],\"plot_width\":1000,\"renderers\":[{\"id\":\"1073\"}],\"title\":{\"id\":\"1040\"},\"toolbar\":{\"id\":\"1063\"},\"x_range\":{\"id\":\"1042\"},\"x_scale\":{\"id\":\"1046\"},\"y_range\":{\"id\":\"1044\"},\"y_scale\":{\"id\":\"1048\"}},\"id\":\"1039\",\"subtype\":\"Figure\",\"type\":\"Plot\"},{\"attributes\":{},\"id\":\"1046\",\"type\":\"CategoricalScale\"},{\"attributes\":{\"source\":{\"id\":\"1002\"}},\"id\":\"1074\",\"type\":\"CDSView\"},{\"attributes\":{},\"id\":\"1298\",\"type\":\"UnionRenderers\"},{\"attributes\":{},\"id\":\"1048\",\"type\":\"LinearScale\"},{\"attributes\":{\"formatter\":{\"id\":\"1695\"},\"major_label_orientation\":0.7853981633974483,\"ticker\":{\"id\":\"1051\"}},\"id\":\"1050\",\"type\":\"CategoricalAxis\"},{\"attributes\":{},\"id\":\"1051\",\"type\":\"CategoricalTicker\"},{\"attributes\":{\"axis\":{\"id\":\"1050\"},\"grid_line_color\":null,\"ticker\":null},\"id\":\"1052\",\"type\":\"Grid\"},{\"attributes\":{},\"id\":\"1693\",\"type\":\"BasicTickFormatter\"},{\"attributes\":{\"formatter\":{\"id\":\"1693\"},\"ticker\":{\"id\":\"1054\"}},\"id\":\"1053\",\"type\":\"LinearAxis\"},{\"attributes\":{},\"id\":\"1054\",\"type\":\"BasicTicker\"},{\"attributes\":{\"data\":{\"caseDelta\":{\"__ndarray__\":\"3/WZ83Gy30BG1IgOZD2yQBPXVsL/BpRA3AvgSVLHusDgglnUE3t3QGTeAcxRX4LARnUszfcEp8Aoc7cZxbKFQLiQ3ZgQGJJArBb7ft4al8AUPFaAvpeRwID/M0vrvSrAbcVYYET5tsDsHdFCr4ZgQNz2ZsYiUYfA0tE4UunGn8BebQcdRQ+HwOryMKRx5I/Ajqks6hMBn8DcnnWMStCMwLckihWPh5TAQnVwwnnqj8BUadfOWqNvwFxd5vPX4IbAovXbCeUXmsCgWimdxPOJwM4bFOraM3bApoGiDqmGecAt0/T6aZaQwH5EdW0u9nnABDJAbSlQh8D8kHCwHkNWQOIY/S4pxIbAOCAj93j4isB5TiJtmV5wwHZkNqRR8YLAmfa1P/o0gcDgBkTrT/JXwIDdFE7fWwdAABnJ16EpZsCSCxA3xTJpwLpLFIAz23fAes8u44AsXMDoDeBmNlpuwMpEdAAGknnA8lzAXOxKZsBMvCRnS49ewEh8kLGWwFXAJqTcn64CYcBSCLI2oEB4wOxSBqsuH2bA\",\"dtype\":\"float64\",\"shape\":[51]},\"caseDeltaRate\":{\"__ndarray__\":\"29qYhgIMG0BXThRTwu0AQLvp+6biTeU/Kr3X0No+5r9NTXftXmPDPxWzATruEsi/lK9XXNVc4b99MPPV3MvZPyHhKd5lJ/A/Q7x8oAXl3b86GGsGzS7bv5WHmfLW+IK/Y+88zIbc6b/hhdq4JTzDP0Uhj3LJCdy/fupaMH1v5r8hF5aZnlfgvwWqpLeUm+O/K+o2tJw76L/XKVecuKTjv1k76j7QE+e/YBWur1x05b99Cb80RPLVvxGqcQHtU+O/uQLwVdAW6b9zs7WYR6jkv6M29UuwU92//85t2G0g4L9maDyPVyLov98EDGHKtuG/HIlFjoB65r/bO1S+XQPgP+hJpe+I3+e/H9kxv3Xb6L8i9o+JUpbiv0EA3FJotOi/ncuqVd6E6L91xfzvzYHXv1HdgEqqR5M/cKs71uIS4b+VYsqKUw3jv7JtnWX1l+e/NH5aJOW33b8gdDZnmEbmvxtfcdugJ+u/9s/FbHRE5b8nG/pYM5XlvwDSkVPy4uO/5J4xLSMn57/YE1wDZUjsv89EDwz6Zem/\",\"dtype\":\"float64\",\"shape\":[51]},\"caseShare\":{\"__ndarray__\":\"tGp94bUl3T9IVJt6Q4S1P2LM/n8pEqQ/kDGRMSDQoj8tkKbUzN+hP+kXN5qexJ8/O4/0x5UXnz+v0gDp5ECeP+hOgAUC2pw/6sC/grkdlT/hJvgLnxaTP2NJJHQ15pE/0PzK3EJ5kT/bKAB9llWJP0pe/Tgc9Yc/W0HKJlS0hT+0fzZ48LKBP6qkw9eZJYA/i0OweNjXfz/8O6+xEgp9P7IN9/o4b3k/LF8SgVEieT8Fxl9SbEh4P+uJdhdWCHg/gZnRK/0Hdz/Sz+MvuNR2P664h1RLB3U/G63Z5pQgdD+Npdgfz1JxP+y6CmvRxXA/3HnCfJOkbz+irIBgebxqP6awLQdq1Wg/prAtB2rVaD8D80b/9uxiP5kCohOe7GE/WC0GqqLSYD/SfiEwu4VgP9x5wnyTpF8/0Bz5iMQKXz+G7kDS6m9bP9ckU9alPFs/v2rA7gcJWj9cgnVQkDpVP6sFna1XPU0/cOeYkUAGUj+O9pofzKFHP1yCdVCQOkU//+6ZWAbURD+hW75gfG1EP856dInKbEI/\",\"dtype\":\"float64\",\"shape\":[51]},\"deathDelta\":{\"__ndarray__\":\"bBtm6gZeYsCIsGTfcysxwHCvAFWkTVlA3I3ZHW0qKEAYB+S6dDkzQIyuzc+JeCTAgM1LYJvbGcCg4IkzCgQjwP/S3NiqC0lAFnBFMs8rIMCo81iWMjo6QFjiNDxYqwxA0IV4PQTl/r/MoteywDQaQIz/ADGUUyXAzDUFD0D5BECopngkacAAwFywyQs5Kh9ACg2p6TJSHMBs4KtSfR8RwACj8Q0Y6ec/iFs4Rtim6j/w7qlv3JTtv1A1wzKCaRfA6OwEOuO6GUDoTcDSu+oDQFoxlROuAxBAc0lQ1yn1EsCqOaaA6IQHwNT0YHiLhvy/gBbZ4iP0GUCkE0vI6fvpv4Lizw+TrAtAfh0w8GxTDMCIlpgmsk3TP/fKZE7kcQTAINFD2Pk+4z+nNOaCidgCwECLbPER+hpAbxIeFiS0AcAiIKSvT5fuvwys7VBaIu6/wnlTDE2y/b+yCMabzDb4vzyNAwH8rPC//GcSpiGP9L8Y+8yvzC3EP7IIxpvMNui/m5QPPdfB57+EIFne4Uznv9pHbvbR99U/\",\"dtype\":\"float64\",\"shape\":[51]},\"deathDeltaRate\":{\"__ndarray__\":\"oj2gmcit0b8wxJW1EmPGv5gK2uYprwFAlpmrur0E0j+pZNi/jizeP3x8krD9E9K/ngRTB/NUx78lH1Y7QKLRv/Qt+WqYWvg/aPwu+yJ81b9b6znBCUbzPweW4TK+d8Y/VJIGSiXNuL9mHFMEKAXdP6zMahtO+ei/US0oaTYcyz9NgNXnl43KvyMX4AD7Eus/8rHkGabz6L+uKB4J34rgv4FrhuS0X7o/YfG2/rO/vT+L5KjKlBbBv0ocwQqeVOu/6LczIKBX7z+Wv1b+WnnYP9gFYReEXeU/CAddbK1s6r/sd1TVVAvjv9NlNwxH29e/aL+Yub0C9z+Tz+xG+EPLvzdw4MCBQ+8/AAAAAAAA8L/YyVona528PwAAAAAAAPC/xYgRI0YM0D8AAAAAAADwv5ucCFL46gdAAAAAAAAA8L+/dxqWmEffv5Kp2jwBCt+/AAAAAAAA8L8AAAAAAADwvwAAAAAAAPC/AAAAAAAA8L+dA1F/lvTHPwAAAAAAAPC/AAAAAAAA8L8AAAAAAADwvymhsd2OueA/\",\"dtype\":\"float64\",\"shape\":[51]},\"deathRate\":{\"__ndarray__\":\"DSqc7KYphT+heNrjKiCIP1mXqED6d6c/VdEtbWG8kj8WOoMVOoOVPzcZl+f0+oQ/YhrAJurohz+ZRxzF6y6FP4/1XbK6b6I/E4BsE4Bsgz/Sib9/ix2gP1eH0pyeL5E/zx7OEyloij+DK7k9vz+VP9oQVeokrmk/9E2oAl23kT8f+XCYiSyHP4zTr8E4/Zo/AqHkTtHCaT/w+MMBjz98PwgEAoFAIJA/BDTX95dRkD8ZkEOACVaJPxEREREREWE/zxEo2mrwnD9eQ3kN5TWUPxiGYRiGYZg/ms/1x8tgZD/D7OAIIq13PwtukM0dV4I/pSN7BqLSoT9wgQtc4AKHP+ecc84555w/AAAAAAAAAAAQBEEQBEGQPwAAAAAAAAAAkiRJkiRJkj8AAAAAAAAAAFQ6smcgKq0/AAAAAAAAAACKhvjj1uV9Px4eHh4eHn4/AAAAAAAAAAAAAAAAAAAAAAAAAAAAAAAAAAAAAAAAAAANJ3VfHluRPwAAAAAAAAAAAAAAAAAAAAAAAAAAAAAAAGQhC1nIQpY/\",\"dtype\":\"float64\",\"shape\":[51]},\"deathShare\":{\"__ndarray__\":\"iREjRowY1T8OHDhw4MCxP8GBAwcOHMA/wYEDBw4cqD/SpEmTJk2qP7Zs2bJly5Y/y5YtW7ZsmT+vXr169eqVPxIjRowYMbI/4MCBAwcOjD+oUKFChQqlP6hQoUKFCpU//Pjx48ePjz+TJk2aNGmSP6hQoUKFCmU/0qRJkyZNij/gwIEDBw58P+7cuXPnzo0/4MCBAwcOXD/gwIEDBw5sP+DAgQMHDnw/4MCBAwcOfD+oUKFChQp1P+DAgQMHDkw/tmzZsmXLhj/8+PHjx49/P4wYMWLEiIE/4MCBAwcOTD/gwIEDBw5cP6hQoUKFCmU/mjRp0qRJgz+oUKFChQplP8SIESNGjHg/AAAAAAAAAACoUKFChQplPwAAAAAAAAAAqFChQoUKZT8AAAAAAAAAAPz48ePHj38/AAAAAAAAAADgwIEDBw5MP+DAgQMHDkw/AAAAAAAAAAAAAAAAAAAAAAAAAAAAAAAAAAAAAAAAAADgwIEDBw5MPwAAAAAAAAAAAAAAAAAAAAAAAAAAAAAAAODAgQMHDkw/\",\"dtype\":\"float64\",\"shape\":[51]},\"expectedCases\":{\"__ndarray__\":\"gyiYMTjAskB1V+7iNz2hQO0oqT0AFZ5A7gXwJKlCw0Ckz3SFnWCjQJl3AHPUa6hAozqW5ns2tUBsRiRzneqaQEhvImfv65FAVot9P2+7qEAKHitA37WkQP9nltZ7jZZAbcVYYERtvECFuEsvVH6LQG57M2ORnJpA6WgcqXSppkCvtoOOopOWQHV5GNI4BppAx1QW9Yl4pEBuzzpGJXiXQLckihWPd5xAoTo44TzNl0BV2rWz1hCHQK4u8/lr8JJA0frthPKjoEBQrZRO4hmUQOcNCnXtOYhA00BRh1RTiUAt0/T6af6VQD+iujYXc4dAAhmgthSYkECCt8encD5mQOIY/S4phI5AHJCRezxckUB5TiJtmS58QHZkNqRRiYhAmfa1P/p0hkC4AdH6k0xwQIqsx4KQYmNAgIzk69DEdEDJBYibYil1QN0lCsCZLYBAvWeXcUBWbkD0BnAzG811QMpEdAAGIn5AeS5gLnbFcEAmXpKzpadmQCQ+yFhLgGFAJqTcn66CZ0BSCLI2oHB7QOxSBqsu32tA\",\"dtype\":\"float64\",\"shape\":[51]},\"expectedDeaths\":{\"__ndarray__\":\"24aZuoGfgEAiLNn33IpYQCCh/lW35EZAiZyJuGR1RUB0/I2iRWNEQKNr83MiHkJAsHkJbHO7QUAoeOKMAkFBQAEtIydVdEBAC7gimecVOEBYDKdpzcU1QLVjefiUajRAXYjXQ1DuM0CaLpSmn+UsQIz/ADGUUytAjbI+/K/BKECqKR5JGjAkQNInG3rjaiJAhYbUdBkpIkA28FWpvo8gQKDLQf7cAh1Aj/Q49ySrHEDePfWNm7IbQFA1wzKCaRtAGBP7xRxFGkAM2Z8WogoaQKbOauxR/BdAc0lQ1yn1FkDVHFNAdMITQDU9GN6iIRNAgOkmHdwLEkDpxBJy+n4OQH4dMPBsUwxAfh0w8GxTDEAv7Sy7SZYFQPfKZE7kcQRAuAvviUEwA0CnNOaCidgCQIDpJh3cCwJAbxIeFiS0AUARENLXp0v/PwbWdigtEf8/wnlTDE2y/T+yCMabzDb4PzyNAwH8rPA//GcSpiGP9D86wQzUjPTqP7IIxpvMNug/m5QPPdfB5z+EIFne4UznPxPcyAQXBOU/\",\"dtype\":\"float64\",\"shape\":[51]},\"infectionRate\":{\"__ndarray__\":\"IyeADHVmXz+spYT4YTZJPyCr5D+W9Do/kGKI+R+7Ez+WInb4F6IyP8C16Dv1Rio/uE35IJ6bHT+utGmLXbQ2P+rCOvyIQkA/M70w8Co/IT9YWk91Op4iP198lHE8CDA/zKz3LG3VCD943lGJIp0yP7sdSUR9LyI/lBt23L9YEz9sdbGc/asfP9up1aYKERk/N/Ly2Q9sDz/rsg+cjf4YPwy5z09cDBI/LJqADrhUFT+/SriFH0QlP3/YypL7oRk/SksS+Eb1Cz9MIz1Sh/EWP9pPoUypiCE/z4IRWNANID/Fxb/mStIPPwcKFvWn5Rw/4WWZ9XhCEz8TuSXFnkc4P30q6/JHcBA/+nt1+WTlDD+Nxbw7gSEbPyFQsL5hgw0/t9E8rLNDDj9fYxSuFHokPx+mQv6bfDA/M4DPBzIxHj+Z8g7ZyTAaPxEQAREQARE/NSri6fxVIT/sDBWzd6sTP2vplJzymQM/4/n7tZ+1FT8hFIhmSxIVPzViLp+vgBg/Mnf720XlET+2LrH+eRP+PrAHa6MFtQo/\",\"dtype\":\"float64\",\"shape\":[51]},\"population\":[19440469,8936574,7797095,39937489,10045029,12659682,21992985,6976597,4645184,12820878,10736059,5845526,29472295,3563077,6897576,11747694,5851754,6745354,10611862,6083116,7378494,6169270,2989260,4908921,8626207,5210095,3139658,3282115,5700671,3038999,4301089,720687,3954821,4499692,1826156,3179849,2910357,1056161,628061,1345790,1371246,2096640,982895,1412687,1952570,1086759,734002,567025,761723,1778070,903027],\"recoveryRate\":{\"__ndarray__\":\"AAAAAAAAAAAzmA5S7w8zPwAAAAAAAAAAhnVyoO5ZYD8AAAAAAAAAAPbjfn9o0kk/AAAAAAAAAACbhNy+Vh07PwAAAAAAAAAAGzC1GjC1ej8AAAAAAAAAAAAAAAAAAAAAKWgajDUjgD8AAAAAAAAAAAAAAAAAAAAAAAAAAAAAAAAAAAAAAAAAAAAAAAAAAAAAAAAAAAAAAAAAAAAAAAAAAAAAAAAAAAAAAAAAAAAAAAAAAAAAAAAAAAAAAAAAAAAAHYGirQbPYT8AAAAAAAAAAAAAAAAAAAAAAAAAAAAAAAAAAAAAAAAAADZ3XElg3qM/AAAAAAAAAAB4afZdmn3HPwAAAAAAAAAAAAAAAAAAAAAAAAAAAAAAAAAAAAAAAAAAAAAAAAAAAAAAAAAAAAAAAAAAAAAAAAAA0hMcPcHRkz8AAAAAAAAAAAAAAAAAAAAAAAAAAAAAAAAAAAAAAAAAAAAAAAAAAAAAAAAAAAAAAAAAAAAAAAAAAAAAAAAAAAAAAAAAAAAAAAAAAAAAAAAAAGQhC1nIQtY/\",\"dtype\":\"float64\",\"shape\":[51]},\"recoveryShare\":{\"__ndarray__\":\"AAAAAAAAAAAdgaKtBs+RPwAAAAAAAAAAq8FzBIq2qj8AAAAAAAAAAB2Boq0Gz5E/AAAAAAAAAAAdgaKtBs+BPwAAAAAAAAAAiHG/Lql8uD8AAAAAAAAAAAAAAAAAAAAAiHG/Lql8uD8AAAAAAAAAAAAAAAAAAAAAAAAAAAAAAAAAAAAAAAAAAAAAAAAAAAAAAAAAAAAAAAAAAAAAAAAAAAAAAAAAAAAAAAAAAAAAAAAAAAAAAAAAAAAAAAAAAAAAHYGirQbPgT8AAAAAAAAAAAAAAAAAAAAAAAAAAAAAAAAAAAAAAAAAAM8RKNpq8Lw/AAAAAAAAAAC01eA5AkXbPwAAAAAAAAAAAAAAAAAAAAAAAAAAAAAAAAAAAAAAAAAAAAAAAAAAAAAAAAAAAAAAAAAAAAAAAAAAq8FzBIq2mj8AAAAAAAAAAAAAAAAAAAAAAAAAAAAAAAAAAAAAAAAAAAAAAAAAAAAAAAAAAAAAAAAAAAAAAAAAAAAAAAAAAAAAAAAAAAAAAAAAAAAAAAAAAB2Boq0Gz8E/\",\"dtype\":\"float64\",\"shape\":[51]},\"state_name\":[\"New York\",\"New Jersey\",\"Washington\",\"California\",\"Michigan\",\"Illinois\",\"Florida\",\"Massachusetts\",\"Louisiana\",\"Pennsylvania\",\"Georgia\",\"Colorado\",\"Texas\",\"Connecticut\",\"Tennessee\",\"Ohio\",\"Wisconsin\",\"Indiana\",\"North Carolina\",\"Maryland\",\"Arizona\",\"Missouri\",\"Mississippi\",\"Alabama\",\"Virginia\",\"South Carolina\",\"Nevada\",\"Utah\",\"Minnesota\",\"Arkansas\",\"Oregon\",\"District of Columbia\",\"Oklahoma\",\"Kentucky\",\"Idaho\",\"Iowa\",\"Kansas\",\"Rhode Island\",\"Vermont\",\"Maine\",\"New Hampshire\",\"New Mexico\",\"Delaware\",\"Hawaii\",\"Nebraska\",\"Montana\",\"Alaska\",\"Wyoming\",\"North Dakota\",\"West Virginia\",\"South Dakota\"],\"totalConfirmed\":[37258,6876,3207,3006,2856,2538,2484,2417,2305,1687,1525,1430,1396,1012,957,867,707,645,636,580,508,502,485,480,460,456,420,402,346,335,316,267,248,248,189,179,168,165,158,155,137,136,130,106,73,90,59,53,52,51,46],\"totalDeaths\":{\"__ndarray__\":\"AAAAAAAQeEAAAAAAAEBUQAAAAAAAYGJAAAAAAACAS0AAAAAAAABOQAAAAAAAADpAAAAAAAAAPUAAAAAAAAA5QAAAAAAAwFRAAAAAAAAAMEAAAAAAAABIQAAAAAAAADhAAAAAAAAAMkAAAAAAAAA1QAAAAAAAAAhAAAAAAAAALkAAAAAAAAAgQAAAAAAAADFAAAAAAAAAAEAAAAAAAAAQQAAAAAAAACBAAAAAAAAAIEAAAAAAAAAYQAAAAAAAAPA/AAAAAAAAKkAAAAAAAAAiQAAAAAAAACRAAAAAAAAA8D8AAAAAAAAAQAAAAAAAAAhAAAAAAAAAJkAAAAAAAAAIQAAAAAAAABxAAAAAAAAAAAAAAAAAAAAIQAAAAAAAAAAAAAAAAAAACEAAAAAAAAAAAAAAAAAAACJAAAAAAAAAAAAAAAAAAADwPwAAAAAAAPA/AAAAAAAAAAAAAAAAAAAAAAAAAAAAAAAAAAAAAAAAAAAAAAAAAADwPwAAAAAAAAAAAAAAAAAAAAAAAAAAAAAAAAAAAAAAAPA/\",\"dtype\":\"float64\",\"shape\":[51]},\"totalRecovered\":{\"__ndarray__\":\"AAAAAAAAAAAAAAAAAAAAQAAAAAAAAAAAAAAAAAAAGEAAAAAAAAAAAAAAAAAAAABAAAAAAAAAAAAAAAAAAADwPwAAAAAAAAAAAAAAAAAAJkAAAAAAAAAAAAAAAAAAAAAAAAAAAAAAJkAAAAAAAAAAAAAAAAAAAAAAAAAAAAAAAAAAAAAAAAAAAAAAAAAAAAAAAAAAAAAAAAAAAAAAAAAAAAAAAAAAAAAAAAAAAAAAAAAAAAAAAAAAAAAAAAAAAAAAAAAAAAAA8D8AAAAAAAAAAAAAAAAAAAAAAAAAAAAAAAAAAAAAAAAAAAAAAAAAACpAAAAAAAAAAAAAAAAAAIBIQAAAAAAAAAAAAAAAAAAAAAAAAAAAAAAAAAAAAAAAAAAAAAAAAAAAAAAAAAAAAAAAAAAAAAAAAAAAAAAAAAAACEAAAAAAAAAAAAAAAAAAAAAAAAAAAAAAAAAAAAAAAAAAAAAAAAAAAAAAAAAAAAAAAAAAAAAAAAAAAAAAAAAAAAAAAAAAAAAAAAAAAAAAAAAAAAAAAAAAADBA\",\"dtype\":\"float64\",\"shape\":[51]}},\"selected\":{\"id\":\"1297\"},\"selection_policy\":{\"id\":\"1298\"}},\"id\":\"1002\",\"type\":\"ColumnDataSource\"},{\"attributes\":{\"axis\":{\"id\":\"1053\"},\"dimension\":1,\"ticker\":null},\"id\":\"1056\",\"type\":\"Grid\"},{\"attributes\":{\"data_source\":{\"id\":\"1002\"},\"glyph\":{\"id\":\"1071\"},\"hover_glyph\":null,\"muted_glyph\":null,\"nonselection_glyph\":{\"id\":\"1072\"},\"selection_glyph\":null,\"view\":{\"id\":\"1074\"}},\"id\":\"1073\",\"type\":\"GlyphRenderer\"},{\"attributes\":{\"fill_color\":{\"value\":\"#1f77b4\"},\"line_color\":{\"value\":\"white\"},\"top\":{\"field\":\"totalDeaths\"},\"width\":{\"value\":0.5},\"x\":{\"field\":\"state_name\"}},\"id\":\"1071\",\"type\":\"VBar\"},{\"attributes\":{\"bottom_units\":\"screen\",\"fill_alpha\":0.5,\"fill_color\":\"lightgrey\",\"left_units\":\"screen\",\"level\":\"overlay\",\"line_alpha\":1.0,\"line_color\":\"black\",\"line_dash\":[4,4],\"line_width\":2,\"render_mode\":\"css\",\"right_units\":\"screen\",\"top_units\":\"screen\"},\"id\":\"1696\",\"type\":\"BoxAnnotation\"},{\"attributes\":{},\"id\":\"1057\",\"type\":\"PanTool\"},{\"attributes\":{},\"id\":\"1695\",\"type\":\"CategoricalTickFormatter\"},{\"attributes\":{},\"id\":\"1058\",\"type\":\"WheelZoomTool\"},{\"attributes\":{\"overlay\":{\"id\":\"1696\"}},\"id\":\"1059\",\"type\":\"BoxZoomTool\"},{\"attributes\":{},\"id\":\"1060\",\"type\":\"SaveTool\"},{\"attributes\":{\"fill_alpha\":{\"value\":0.1},\"fill_color\":{\"value\":\"#1f77b4\"},\"line_alpha\":{\"value\":0.1},\"line_color\":{\"value\":\"white\"},\"top\":{\"field\":\"totalDeaths\"},\"width\":{\"value\":0.5},\"x\":{\"field\":\"state_name\"}},\"id\":\"1072\",\"type\":\"VBar\"},{\"attributes\":{},\"id\":\"1061\",\"type\":\"ResetTool\"},{\"attributes\":{\"text\":\"COVID Deaths: 1,168 - Death Rate: 1.4277%\"},\"id\":\"1040\",\"type\":\"Title\"},{\"attributes\":{},\"id\":\"1062\",\"type\":\"HelpTool\"},{\"attributes\":{\"factors\":[\"New York\",\"New Jersey\",\"Washington\",\"California\",\"Michigan\",\"Illinois\",\"Florida\",\"Massachusetts\",\"Louisiana\",\"Pennsylvania\",\"Georgia\",\"Colorado\",\"Texas\",\"Connecticut\",\"Tennessee\",\"Ohio\",\"Wisconsin\",\"Indiana\",\"North Carolina\",\"Maryland\",\"Arizona\",\"Missouri\",\"Mississippi\",\"Alabama\",\"Virginia\",\"South Carolina\",\"Nevada\",\"Utah\",\"Minnesota\",\"Arkansas\",\"Oregon\",\"District of Columbia\",\"Oklahoma\",\"Kentucky\",\"Idaho\",\"Iowa\",\"Kansas\",\"Rhode Island\",\"Vermont\",\"Maine\",\"New Hampshire\",\"New Mexico\",\"Delaware\",\"Hawaii\",\"Nebraska\",\"Montana\",\"Alaska\",\"Wyoming\",\"North Dakota\",\"West Virginia\",\"South Dakota\"]},\"id\":\"1042\",\"type\":\"FactorRange\"},{\"attributes\":{\"active_drag\":\"auto\",\"active_inspect\":\"auto\",\"active_multi\":null,\"active_scroll\":\"auto\",\"active_tap\":\"auto\",\"tools\":[{\"id\":\"1057\"},{\"id\":\"1058\"},{\"id\":\"1059\"},{\"id\":\"1060\"},{\"id\":\"1061\"},{\"id\":\"1062\"}]},\"id\":\"1063\",\"type\":\"Toolbar\"},{\"attributes\":{},\"id\":\"1297\",\"type\":\"Selection\"},{\"attributes\":{\"end\":443.41583857207246,\"start\":0},\"id\":\"1044\",\"type\":\"DataRange1d\"}],\"root_ids\":[\"1039\"]},\"title\":\"Bokeh Application\",\"version\":\"2.0.0\"}};\n",
              "  var render_items = [{\"docid\":\"323f039b-bdfa-4782-9432-f40606f79737\",\"root_ids\":[\"1039\"],\"roots\":{\"1039\":\"c019f74c-fd2e-4f99-b96a-5ccfad0b518a\"}}];\n",
              "  root.Bokeh.embed.embed_items_notebook(docs_json, render_items);\n",
              "\n",
              "  }\n",
              "  if (root.Bokeh !== undefined) {\n",
              "    embed_document(root);\n",
              "  } else {\n",
              "    var attempts = 0;\n",
              "    var timer = setInterval(function(root) {\n",
              "      if (root.Bokeh !== undefined) {\n",
              "        clearInterval(timer);\n",
              "        embed_document(root);\n",
              "      } else {\n",
              "        attempts++;\n",
              "        if (attempts > 100) {\n",
              "          clearInterval(timer);\n",
              "          console.log(\"Bokeh: ERROR: Unable to run BokehJS code because BokehJS library is missing\");\n",
              "        }\n",
              "      }\n",
              "    }, 10, root)\n",
              "  }\n",
              "})(window);"
            ],
            "application/vnd.bokehjs_exec.v0+json": ""
          },
          "metadata": {
            "application/vnd.bokehjs_exec.v0+json": {
              "id": "1039"
            }
          }
        },
        {
          "output_type": "display_data",
          "data": {
            "text/html": [
              "\n",
              "\n",
              "\n",
              "\n",
              "\n",
              "\n",
              "  <div class=\"bk-root\" id=\"62996504-a2a1-4663-bfd9-da1f5b4a7e17\" data-root-id=\"1075\"></div>\n"
            ]
          },
          "metadata": {}
        },
        {
          "output_type": "display_data",
          "data": {
            "application/javascript": [
              "(function(root) {\n",
              "  function embed_document(root) {\n",
              "    \n",
              "  var docs_json = {\"1d4448ac-6cde-4279-b150-45f2af10ecc2\":{\"roots\":{\"references\":[{\"attributes\":{\"below\":[{\"id\":\"1086\"}],\"center\":[{\"id\":\"1088\"},{\"id\":\"1092\"}],\"left\":[{\"id\":\"1089\"}],\"plot_width\":1000,\"renderers\":[{\"id\":\"1109\"}],\"title\":{\"id\":\"1076\"},\"toolbar\":{\"id\":\"1099\"},\"x_range\":{\"id\":\"1078\"},\"x_scale\":{\"id\":\"1082\"},\"y_range\":{\"id\":\"1080\"},\"y_scale\":{\"id\":\"1084\"}},\"id\":\"1075\",\"subtype\":\"Figure\",\"type\":\"Plot\"},{\"attributes\":{},\"id\":\"1096\",\"type\":\"SaveTool\"},{\"attributes\":{},\"id\":\"1298\",\"type\":\"UnionRenderers\"},{\"attributes\":{\"data_source\":{\"id\":\"1002\"},\"glyph\":{\"id\":\"1107\"},\"hover_glyph\":null,\"muted_glyph\":null,\"nonselection_glyph\":{\"id\":\"1108\"},\"selection_glyph\":null,\"view\":{\"id\":\"1110\"}},\"id\":\"1109\",\"type\":\"GlyphRenderer\"},{\"attributes\":{},\"id\":\"1097\",\"type\":\"ResetTool\"},{\"attributes\":{\"fill_color\":{\"value\":\"#1f77b4\"},\"line_color\":{\"value\":\"white\"},\"top\":{\"field\":\"totalRecovered\"},\"width\":{\"value\":0.5},\"x\":{\"field\":\"state_name\"}},\"id\":\"1107\",\"type\":\"VBar\"},{\"attributes\":{},\"id\":\"1098\",\"type\":\"HelpTool\"},{\"attributes\":{\"source\":{\"id\":\"1002\"}},\"id\":\"1110\",\"type\":\"CDSView\"},{\"attributes\":{\"text\":\"COVID Recovered: 115 - Recovery Rate: 0.1406%\"},\"id\":\"1076\",\"type\":\"Title\"},{\"attributes\":{\"active_drag\":\"auto\",\"active_inspect\":\"auto\",\"active_multi\":null,\"active_scroll\":\"auto\",\"active_tap\":\"auto\",\"tools\":[{\"id\":\"1093\"},{\"id\":\"1094\"},{\"id\":\"1095\"},{\"id\":\"1096\"},{\"id\":\"1097\"},{\"id\":\"1098\"}]},\"id\":\"1099\",\"type\":\"Toolbar\"},{\"attributes\":{\"factors\":[\"New York\",\"New Jersey\",\"Washington\",\"California\",\"Michigan\",\"Illinois\",\"Florida\",\"Massachusetts\",\"Louisiana\",\"Pennsylvania\",\"Georgia\",\"Colorado\",\"Texas\",\"Connecticut\",\"Tennessee\",\"Ohio\",\"Wisconsin\",\"Indiana\",\"North Carolina\",\"Maryland\",\"Arizona\",\"Missouri\",\"Mississippi\",\"Alabama\",\"Virginia\",\"South Carolina\",\"Nevada\",\"Utah\",\"Minnesota\",\"Arkansas\",\"Oregon\",\"District of Columbia\",\"Oklahoma\",\"Kentucky\",\"Idaho\",\"Iowa\",\"Kansas\",\"Rhode Island\",\"Vermont\",\"Maine\",\"New Hampshire\",\"New Mexico\",\"Delaware\",\"Hawaii\",\"Nebraska\",\"Montana\",\"Alaska\",\"Wyoming\",\"North Dakota\",\"West Virginia\",\"South Dakota\"]},\"id\":\"1078\",\"type\":\"FactorRange\"},{\"attributes\":{},\"id\":\"1297\",\"type\":\"Selection\"},{\"attributes\":{\"end\":56.567940637332995,\"start\":0},\"id\":\"1080\",\"type\":\"DataRange1d\"},{\"attributes\":{\"data\":{\"caseDelta\":{\"__ndarray__\":\"3/WZ83Gy30BG1IgOZD2yQBPXVsL/BpRA3AvgSVLHusDgglnUE3t3QGTeAcxRX4LARnUszfcEp8Aoc7cZxbKFQLiQ3ZgQGJJArBb7ft4al8AUPFaAvpeRwID/M0vrvSrAbcVYYET5tsDsHdFCr4ZgQNz2ZsYiUYfA0tE4UunGn8BebQcdRQ+HwOryMKRx5I/Ajqks6hMBn8DcnnWMStCMwLckihWPh5TAQnVwwnnqj8BUadfOWqNvwFxd5vPX4IbAovXbCeUXmsCgWimdxPOJwM4bFOraM3bApoGiDqmGecAt0/T6aZaQwH5EdW0u9nnABDJAbSlQh8D8kHCwHkNWQOIY/S4pxIbAOCAj93j4isB5TiJtmV5wwHZkNqRR8YLAmfa1P/o0gcDgBkTrT/JXwIDdFE7fWwdAABnJ16EpZsCSCxA3xTJpwLpLFIAz23fAes8u44AsXMDoDeBmNlpuwMpEdAAGknnA8lzAXOxKZsBMvCRnS49ewEh8kLGWwFXAJqTcn64CYcBSCLI2oEB4wOxSBqsuH2bA\",\"dtype\":\"float64\",\"shape\":[51]},\"caseDeltaRate\":{\"__ndarray__\":\"29qYhgIMG0BXThRTwu0AQLvp+6biTeU/Kr3X0No+5r9NTXftXmPDPxWzATruEsi/lK9XXNVc4b99MPPV3MvZPyHhKd5lJ/A/Q7x8oAXl3b86GGsGzS7bv5WHmfLW+IK/Y+88zIbc6b/hhdq4JTzDP0Uhj3LJCdy/fupaMH1v5r8hF5aZnlfgvwWqpLeUm+O/K+o2tJw76L/XKVecuKTjv1k76j7QE+e/YBWur1x05b99Cb80RPLVvxGqcQHtU+O/uQLwVdAW6b9zs7WYR6jkv6M29UuwU92//85t2G0g4L9maDyPVyLov98EDGHKtuG/HIlFjoB65r/bO1S+XQPgP+hJpe+I3+e/H9kxv3Xb6L8i9o+JUpbiv0EA3FJotOi/ncuqVd6E6L91xfzvzYHXv1HdgEqqR5M/cKs71uIS4b+VYsqKUw3jv7JtnWX1l+e/NH5aJOW33b8gdDZnmEbmvxtfcdugJ+u/9s/FbHRE5b8nG/pYM5XlvwDSkVPy4uO/5J4xLSMn57/YE1wDZUjsv89EDwz6Zem/\",\"dtype\":\"float64\",\"shape\":[51]},\"caseShare\":{\"__ndarray__\":\"tGp94bUl3T9IVJt6Q4S1P2LM/n8pEqQ/kDGRMSDQoj8tkKbUzN+hP+kXN5qexJ8/O4/0x5UXnz+v0gDp5ECeP+hOgAUC2pw/6sC/grkdlT/hJvgLnxaTP2NJJHQ15pE/0PzK3EJ5kT/bKAB9llWJP0pe/Tgc9Yc/W0HKJlS0hT+0fzZ48LKBP6qkw9eZJYA/i0OweNjXfz/8O6+xEgp9P7IN9/o4b3k/LF8SgVEieT8Fxl9SbEh4P+uJdhdWCHg/gZnRK/0Hdz/Sz+MvuNR2P664h1RLB3U/G63Z5pQgdD+Npdgfz1JxP+y6CmvRxXA/3HnCfJOkbz+irIBgebxqP6awLQdq1Wg/prAtB2rVaD8D80b/9uxiP5kCohOe7GE/WC0GqqLSYD/SfiEwu4VgP9x5wnyTpF8/0Bz5iMQKXz+G7kDS6m9bP9ckU9alPFs/v2rA7gcJWj9cgnVQkDpVP6sFna1XPU0/cOeYkUAGUj+O9pofzKFHP1yCdVCQOkU//+6ZWAbURD+hW75gfG1EP856dInKbEI/\",\"dtype\":\"float64\",\"shape\":[51]},\"deathDelta\":{\"__ndarray__\":\"bBtm6gZeYsCIsGTfcysxwHCvAFWkTVlA3I3ZHW0qKEAYB+S6dDkzQIyuzc+JeCTAgM1LYJvbGcCg4IkzCgQjwP/S3NiqC0lAFnBFMs8rIMCo81iWMjo6QFjiNDxYqwxA0IV4PQTl/r/MoteywDQaQIz/ADGUUyXAzDUFD0D5BECopngkacAAwFywyQs5Kh9ACg2p6TJSHMBs4KtSfR8RwACj8Q0Y6ec/iFs4Rtim6j/w7qlv3JTtv1A1wzKCaRfA6OwEOuO6GUDoTcDSu+oDQFoxlROuAxBAc0lQ1yn1EsCqOaaA6IQHwNT0YHiLhvy/gBbZ4iP0GUCkE0vI6fvpv4Lizw+TrAtAfh0w8GxTDMCIlpgmsk3TP/fKZE7kcQTAINFD2Pk+4z+nNOaCidgCwECLbPER+hpAbxIeFiS0AcAiIKSvT5fuvwys7VBaIu6/wnlTDE2y/b+yCMabzDb4vzyNAwH8rPC//GcSpiGP9L8Y+8yvzC3EP7IIxpvMNui/m5QPPdfB57+EIFne4Uznv9pHbvbR99U/\",\"dtype\":\"float64\",\"shape\":[51]},\"deathDeltaRate\":{\"__ndarray__\":\"oj2gmcit0b8wxJW1EmPGv5gK2uYprwFAlpmrur0E0j+pZNi/jizeP3x8krD9E9K/ngRTB/NUx78lH1Y7QKLRv/Qt+WqYWvg/aPwu+yJ81b9b6znBCUbzPweW4TK+d8Y/VJIGSiXNuL9mHFMEKAXdP6zMahtO+ei/US0oaTYcyz9NgNXnl43KvyMX4AD7Eus/8rHkGabz6L+uKB4J34rgv4FrhuS0X7o/YfG2/rO/vT+L5KjKlBbBv0ocwQqeVOu/6LczIKBX7z+Wv1b+WnnYP9gFYReEXeU/CAddbK1s6r/sd1TVVAvjv9NlNwxH29e/aL+Yub0C9z+Tz+xG+EPLvzdw4MCBQ+8/AAAAAAAA8L/YyVona528PwAAAAAAAPC/xYgRI0YM0D8AAAAAAADwv5ucCFL46gdAAAAAAAAA8L+/dxqWmEffv5Kp2jwBCt+/AAAAAAAA8L8AAAAAAADwvwAAAAAAAPC/AAAAAAAA8L+dA1F/lvTHPwAAAAAAAPC/AAAAAAAA8L8AAAAAAADwvymhsd2OueA/\",\"dtype\":\"float64\",\"shape\":[51]},\"deathRate\":{\"__ndarray__\":\"DSqc7KYphT+heNrjKiCIP1mXqED6d6c/VdEtbWG8kj8WOoMVOoOVPzcZl+f0+oQ/YhrAJurohz+ZRxzF6y6FP4/1XbK6b6I/E4BsE4Bsgz/Sib9/ix2gP1eH0pyeL5E/zx7OEyloij+DK7k9vz+VP9oQVeokrmk/9E2oAl23kT8f+XCYiSyHP4zTr8E4/Zo/AqHkTtHCaT/w+MMBjz98PwgEAoFAIJA/BDTX95dRkD8ZkEOACVaJPxEREREREWE/zxEo2mrwnD9eQ3kN5TWUPxiGYRiGYZg/ms/1x8tgZD/D7OAIIq13PwtukM0dV4I/pSN7BqLSoT9wgQtc4AKHP+ecc84555w/AAAAAAAAAAAQBEEQBEGQPwAAAAAAAAAAkiRJkiRJkj8AAAAAAAAAAFQ6smcgKq0/AAAAAAAAAACKhvjj1uV9Px4eHh4eHn4/AAAAAAAAAAAAAAAAAAAAAAAAAAAAAAAAAAAAAAAAAAANJ3VfHluRPwAAAAAAAAAAAAAAAAAAAAAAAAAAAAAAAGQhC1nIQpY/\",\"dtype\":\"float64\",\"shape\":[51]},\"deathShare\":{\"__ndarray__\":\"iREjRowY1T8OHDhw4MCxP8GBAwcOHMA/wYEDBw4cqD/SpEmTJk2qP7Zs2bJly5Y/y5YtW7ZsmT+vXr169eqVPxIjRowYMbI/4MCBAwcOjD+oUKFChQqlP6hQoUKFCpU//Pjx48ePjz+TJk2aNGmSP6hQoUKFCmU/0qRJkyZNij/gwIEDBw58P+7cuXPnzo0/4MCBAwcOXD/gwIEDBw5sP+DAgQMHDnw/4MCBAwcOfD+oUKFChQp1P+DAgQMHDkw/tmzZsmXLhj/8+PHjx49/P4wYMWLEiIE/4MCBAwcOTD/gwIEDBw5cP6hQoUKFCmU/mjRp0qRJgz+oUKFChQplP8SIESNGjHg/AAAAAAAAAACoUKFChQplPwAAAAAAAAAAqFChQoUKZT8AAAAAAAAAAPz48ePHj38/AAAAAAAAAADgwIEDBw5MP+DAgQMHDkw/AAAAAAAAAAAAAAAAAAAAAAAAAAAAAAAAAAAAAAAAAADgwIEDBw5MPwAAAAAAAAAAAAAAAAAAAAAAAAAAAAAAAODAgQMHDkw/\",\"dtype\":\"float64\",\"shape\":[51]},\"expectedCases\":{\"__ndarray__\":\"gyiYMTjAskB1V+7iNz2hQO0oqT0AFZ5A7gXwJKlCw0Ckz3SFnWCjQJl3AHPUa6hAozqW5ns2tUBsRiRzneqaQEhvImfv65FAVot9P2+7qEAKHitA37WkQP9nltZ7jZZAbcVYYERtvECFuEsvVH6LQG57M2ORnJpA6WgcqXSppkCvtoOOopOWQHV5GNI4BppAx1QW9Yl4pEBuzzpGJXiXQLckihWPd5xAoTo44TzNl0BV2rWz1hCHQK4u8/lr8JJA0frthPKjoEBQrZRO4hmUQOcNCnXtOYhA00BRh1RTiUAt0/T6af6VQD+iujYXc4dAAhmgthSYkECCt8encD5mQOIY/S4phI5AHJCRezxckUB5TiJtmS58QHZkNqRRiYhAmfa1P/p0hkC4AdH6k0xwQIqsx4KQYmNAgIzk69DEdEDJBYibYil1QN0lCsCZLYBAvWeXcUBWbkD0BnAzG811QMpEdAAGIn5AeS5gLnbFcEAmXpKzpadmQCQ+yFhLgGFAJqTcn66CZ0BSCLI2oHB7QOxSBqsu32tA\",\"dtype\":\"float64\",\"shape\":[51]},\"expectedDeaths\":{\"__ndarray__\":\"24aZuoGfgEAiLNn33IpYQCCh/lW35EZAiZyJuGR1RUB0/I2iRWNEQKNr83MiHkJAsHkJbHO7QUAoeOKMAkFBQAEtIydVdEBAC7gimecVOEBYDKdpzcU1QLVjefiUajRAXYjXQ1DuM0CaLpSmn+UsQIz/ADGUUytAjbI+/K/BKECqKR5JGjAkQNInG3rjaiJAhYbUdBkpIkA28FWpvo8gQKDLQf7cAh1Aj/Q49ySrHEDePfWNm7IbQFA1wzKCaRtAGBP7xRxFGkAM2Z8WogoaQKbOauxR/BdAc0lQ1yn1FkDVHFNAdMITQDU9GN6iIRNAgOkmHdwLEkDpxBJy+n4OQH4dMPBsUwxAfh0w8GxTDEAv7Sy7SZYFQPfKZE7kcQRAuAvviUEwA0CnNOaCidgCQIDpJh3cCwJAbxIeFiS0AUARENLXp0v/PwbWdigtEf8/wnlTDE2y/T+yCMabzDb4PzyNAwH8rPA//GcSpiGP9D86wQzUjPTqP7IIxpvMNug/m5QPPdfB5z+EIFne4UznPxPcyAQXBOU/\",\"dtype\":\"float64\",\"shape\":[51]},\"infectionRate\":{\"__ndarray__\":\"IyeADHVmXz+spYT4YTZJPyCr5D+W9Do/kGKI+R+7Ez+WInb4F6IyP8C16Dv1Rio/uE35IJ6bHT+utGmLXbQ2P+rCOvyIQkA/M70w8Co/IT9YWk91Op4iP198lHE8CDA/zKz3LG3VCD943lGJIp0yP7sdSUR9LyI/lBt23L9YEz9sdbGc/asfP9up1aYKERk/N/Ly2Q9sDz/rsg+cjf4YPwy5z09cDBI/LJqADrhUFT+/SriFH0QlP3/YypL7oRk/SksS+Eb1Cz9MIz1Sh/EWP9pPoUypiCE/z4IRWNANID/Fxb/mStIPPwcKFvWn5Rw/4WWZ9XhCEz8TuSXFnkc4P30q6/JHcBA/+nt1+WTlDD+Nxbw7gSEbPyFQsL5hgw0/t9E8rLNDDj9fYxSuFHokPx+mQv6bfDA/M4DPBzIxHj+Z8g7ZyTAaPxEQAREQARE/NSri6fxVIT/sDBWzd6sTP2vplJzymQM/4/n7tZ+1FT8hFIhmSxIVPzViLp+vgBg/Mnf720XlET+2LrH+eRP+PrAHa6MFtQo/\",\"dtype\":\"float64\",\"shape\":[51]},\"population\":[19440469,8936574,7797095,39937489,10045029,12659682,21992985,6976597,4645184,12820878,10736059,5845526,29472295,3563077,6897576,11747694,5851754,6745354,10611862,6083116,7378494,6169270,2989260,4908921,8626207,5210095,3139658,3282115,5700671,3038999,4301089,720687,3954821,4499692,1826156,3179849,2910357,1056161,628061,1345790,1371246,2096640,982895,1412687,1952570,1086759,734002,567025,761723,1778070,903027],\"recoveryRate\":{\"__ndarray__\":\"AAAAAAAAAAAzmA5S7w8zPwAAAAAAAAAAhnVyoO5ZYD8AAAAAAAAAAPbjfn9o0kk/AAAAAAAAAACbhNy+Vh07PwAAAAAAAAAAGzC1GjC1ej8AAAAAAAAAAAAAAAAAAAAAKWgajDUjgD8AAAAAAAAAAAAAAAAAAAAAAAAAAAAAAAAAAAAAAAAAAAAAAAAAAAAAAAAAAAAAAAAAAAAAAAAAAAAAAAAAAAAAAAAAAAAAAAAAAAAAAAAAAAAAAAAAAAAAHYGirQbPYT8AAAAAAAAAAAAAAAAAAAAAAAAAAAAAAAAAAAAAAAAAADZ3XElg3qM/AAAAAAAAAAB4afZdmn3HPwAAAAAAAAAAAAAAAAAAAAAAAAAAAAAAAAAAAAAAAAAAAAAAAAAAAAAAAAAAAAAAAAAAAAAAAAAA0hMcPcHRkz8AAAAAAAAAAAAAAAAAAAAAAAAAAAAAAAAAAAAAAAAAAAAAAAAAAAAAAAAAAAAAAAAAAAAAAAAAAAAAAAAAAAAAAAAAAAAAAAAAAAAAAAAAAGQhC1nIQtY/\",\"dtype\":\"float64\",\"shape\":[51]},\"recoveryShare\":{\"__ndarray__\":\"AAAAAAAAAAAdgaKtBs+RPwAAAAAAAAAAq8FzBIq2qj8AAAAAAAAAAB2Boq0Gz5E/AAAAAAAAAAAdgaKtBs+BPwAAAAAAAAAAiHG/Lql8uD8AAAAAAAAAAAAAAAAAAAAAiHG/Lql8uD8AAAAAAAAAAAAAAAAAAAAAAAAAAAAAAAAAAAAAAAAAAAAAAAAAAAAAAAAAAAAAAAAAAAAAAAAAAAAAAAAAAAAAAAAAAAAAAAAAAAAAAAAAAAAAAAAAAAAAHYGirQbPgT8AAAAAAAAAAAAAAAAAAAAAAAAAAAAAAAAAAAAAAAAAAM8RKNpq8Lw/AAAAAAAAAAC01eA5AkXbPwAAAAAAAAAAAAAAAAAAAAAAAAAAAAAAAAAAAAAAAAAAAAAAAAAAAAAAAAAAAAAAAAAAAAAAAAAAq8FzBIq2mj8AAAAAAAAAAAAAAAAAAAAAAAAAAAAAAAAAAAAAAAAAAAAAAAAAAAAAAAAAAAAAAAAAAAAAAAAAAAAAAAAAAAAAAAAAAAAAAAAAAAAAAAAAAB2Boq0Gz8E/\",\"dtype\":\"float64\",\"shape\":[51]},\"state_name\":[\"New York\",\"New Jersey\",\"Washington\",\"California\",\"Michigan\",\"Illinois\",\"Florida\",\"Massachusetts\",\"Louisiana\",\"Pennsylvania\",\"Georgia\",\"Colorado\",\"Texas\",\"Connecticut\",\"Tennessee\",\"Ohio\",\"Wisconsin\",\"Indiana\",\"North Carolina\",\"Maryland\",\"Arizona\",\"Missouri\",\"Mississippi\",\"Alabama\",\"Virginia\",\"South Carolina\",\"Nevada\",\"Utah\",\"Minnesota\",\"Arkansas\",\"Oregon\",\"District of Columbia\",\"Oklahoma\",\"Kentucky\",\"Idaho\",\"Iowa\",\"Kansas\",\"Rhode Island\",\"Vermont\",\"Maine\",\"New Hampshire\",\"New Mexico\",\"Delaware\",\"Hawaii\",\"Nebraska\",\"Montana\",\"Alaska\",\"Wyoming\",\"North Dakota\",\"West Virginia\",\"South Dakota\"],\"totalConfirmed\":[37258,6876,3207,3006,2856,2538,2484,2417,2305,1687,1525,1430,1396,1012,957,867,707,645,636,580,508,502,485,480,460,456,420,402,346,335,316,267,248,248,189,179,168,165,158,155,137,136,130,106,73,90,59,53,52,51,46],\"totalDeaths\":{\"__ndarray__\":\"AAAAAAAQeEAAAAAAAEBUQAAAAAAAYGJAAAAAAACAS0AAAAAAAABOQAAAAAAAADpAAAAAAAAAPUAAAAAAAAA5QAAAAAAAwFRAAAAAAAAAMEAAAAAAAABIQAAAAAAAADhAAAAAAAAAMkAAAAAAAAA1QAAAAAAAAAhAAAAAAAAALkAAAAAAAAAgQAAAAAAAADFAAAAAAAAAAEAAAAAAAAAQQAAAAAAAACBAAAAAAAAAIEAAAAAAAAAYQAAAAAAAAPA/AAAAAAAAKkAAAAAAAAAiQAAAAAAAACRAAAAAAAAA8D8AAAAAAAAAQAAAAAAAAAhAAAAAAAAAJkAAAAAAAAAIQAAAAAAAABxAAAAAAAAAAAAAAAAAAAAIQAAAAAAAAAAAAAAAAAAACEAAAAAAAAAAAAAAAAAAACJAAAAAAAAAAAAAAAAAAADwPwAAAAAAAPA/AAAAAAAAAAAAAAAAAAAAAAAAAAAAAAAAAAAAAAAAAAAAAAAAAADwPwAAAAAAAAAAAAAAAAAAAAAAAAAAAAAAAAAAAAAAAPA/\",\"dtype\":\"float64\",\"shape\":[51]},\"totalRecovered\":{\"__ndarray__\":\"AAAAAAAAAAAAAAAAAAAAQAAAAAAAAAAAAAAAAAAAGEAAAAAAAAAAAAAAAAAAAABAAAAAAAAAAAAAAAAAAADwPwAAAAAAAAAAAAAAAAAAJkAAAAAAAAAAAAAAAAAAAAAAAAAAAAAAJkAAAAAAAAAAAAAAAAAAAAAAAAAAAAAAAAAAAAAAAAAAAAAAAAAAAAAAAAAAAAAAAAAAAAAAAAAAAAAAAAAAAAAAAAAAAAAAAAAAAAAAAAAAAAAAAAAAAAAAAAAAAAAA8D8AAAAAAAAAAAAAAAAAAAAAAAAAAAAAAAAAAAAAAAAAAAAAAAAAACpAAAAAAAAAAAAAAAAAAIBIQAAAAAAAAAAAAAAAAAAAAAAAAAAAAAAAAAAAAAAAAAAAAAAAAAAAAAAAAAAAAAAAAAAAAAAAAAAAAAAAAAAACEAAAAAAAAAAAAAAAAAAAAAAAAAAAAAAAAAAAAAAAAAAAAAAAAAAAAAAAAAAAAAAAAAAAAAAAAAAAAAAAAAAAAAAAAAAAAAAAAAAAAAAAAAAAAAAAAAAADBA\",\"dtype\":\"float64\",\"shape\":[51]}},\"selected\":{\"id\":\"1297\"},\"selection_policy\":{\"id\":\"1298\"}},\"id\":\"1002\",\"type\":\"ColumnDataSource\"},{\"attributes\":{},\"id\":\"1082\",\"type\":\"CategoricalScale\"},{\"attributes\":{},\"id\":\"1084\",\"type\":\"LinearScale\"},{\"attributes\":{},\"id\":\"1799\",\"type\":\"CategoricalTickFormatter\"},{\"attributes\":{\"formatter\":{\"id\":\"1799\"},\"major_label_orientation\":0.7853981633974483,\"ticker\":{\"id\":\"1087\"}},\"id\":\"1086\",\"type\":\"CategoricalAxis\"},{\"attributes\":{},\"id\":\"1087\",\"type\":\"CategoricalTicker\"},{\"attributes\":{\"axis\":{\"id\":\"1086\"},\"grid_line_color\":null,\"ticker\":null},\"id\":\"1088\",\"type\":\"Grid\"},{\"attributes\":{\"formatter\":{\"id\":\"1797\"},\"ticker\":{\"id\":\"1090\"}},\"id\":\"1089\",\"type\":\"LinearAxis\"},{\"attributes\":{},\"id\":\"1090\",\"type\":\"BasicTicker\"},{\"attributes\":{\"axis\":{\"id\":\"1089\"},\"dimension\":1,\"ticker\":null},\"id\":\"1092\",\"type\":\"Grid\"},{\"attributes\":{\"fill_alpha\":{\"value\":0.1},\"fill_color\":{\"value\":\"#1f77b4\"},\"line_alpha\":{\"value\":0.1},\"line_color\":{\"value\":\"white\"},\"top\":{\"field\":\"totalRecovered\"},\"width\":{\"value\":0.5},\"x\":{\"field\":\"state_name\"}},\"id\":\"1108\",\"type\":\"VBar\"},{\"attributes\":{},\"id\":\"1093\",\"type\":\"PanTool\"},{\"attributes\":{},\"id\":\"1094\",\"type\":\"WheelZoomTool\"},{\"attributes\":{},\"id\":\"1797\",\"type\":\"BasicTickFormatter\"},{\"attributes\":{\"bottom_units\":\"screen\",\"fill_alpha\":0.5,\"fill_color\":\"lightgrey\",\"left_units\":\"screen\",\"level\":\"overlay\",\"line_alpha\":1.0,\"line_color\":\"black\",\"line_dash\":[4,4],\"line_width\":2,\"render_mode\":\"css\",\"right_units\":\"screen\",\"top_units\":\"screen\"},\"id\":\"1800\",\"type\":\"BoxAnnotation\"},{\"attributes\":{\"overlay\":{\"id\":\"1800\"}},\"id\":\"1095\",\"type\":\"BoxZoomTool\"}],\"root_ids\":[\"1075\"]},\"title\":\"Bokeh Application\",\"version\":\"2.0.0\"}};\n",
              "  var render_items = [{\"docid\":\"1d4448ac-6cde-4279-b150-45f2af10ecc2\",\"root_ids\":[\"1075\"],\"roots\":{\"1075\":\"62996504-a2a1-4663-bfd9-da1f5b4a7e17\"}}];\n",
              "  root.Bokeh.embed.embed_items_notebook(docs_json, render_items);\n",
              "\n",
              "  }\n",
              "  if (root.Bokeh !== undefined) {\n",
              "    embed_document(root);\n",
              "  } else {\n",
              "    var attempts = 0;\n",
              "    var timer = setInterval(function(root) {\n",
              "      if (root.Bokeh !== undefined) {\n",
              "        clearInterval(timer);\n",
              "        embed_document(root);\n",
              "      } else {\n",
              "        attempts++;\n",
              "        if (attempts > 100) {\n",
              "          clearInterval(timer);\n",
              "          console.log(\"Bokeh: ERROR: Unable to run BokehJS code because BokehJS library is missing\");\n",
              "        }\n",
              "      }\n",
              "    }, 10, root)\n",
              "  }\n",
              "})(window);"
            ],
            "application/vnd.bokehjs_exec.v0+json": ""
          },
          "metadata": {
            "application/vnd.bokehjs_exec.v0+json": {
              "id": "1075"
            }
          }
        },
        {
          "output_type": "display_data",
          "data": {
            "text/html": [
              "\n",
              "\n",
              "\n",
              "\n",
              "\n",
              "\n",
              "  <div class=\"bk-root\" id=\"1dd05333-c704-4b44-8a55-b4aa1576a105\" data-root-id=\"1255\"></div>\n"
            ]
          },
          "metadata": {}
        },
        {
          "output_type": "display_data",
          "data": {
            "application/javascript": [
              "(function(root) {\n",
              "  function embed_document(root) {\n",
              "    \n",
              "  var docs_json = {\"8fb490fc-9a7a-4ce9-84e5-b631c244961c\":{\"roots\":{\"references\":[{\"attributes\":{\"below\":[{\"id\":\"1266\"}],\"center\":[{\"id\":\"1268\"},{\"id\":\"1272\"}],\"left\":[{\"id\":\"1269\"}],\"plot_width\":1000,\"renderers\":[{\"id\":\"1289\"}],\"title\":{\"id\":\"1256\"},\"toolbar\":{\"id\":\"1279\"},\"x_range\":{\"id\":\"1258\"},\"x_scale\":{\"id\":\"1262\"},\"y_range\":{\"id\":\"1260\"},\"y_scale\":{\"id\":\"1264\"}},\"id\":\"1255\",\"subtype\":\"Figure\",\"type\":\"Plot\"},{\"attributes\":{\"formatter\":{\"id\":\"1909\"},\"ticker\":{\"id\":\"1270\"}},\"id\":\"1269\",\"type\":\"LinearAxis\"},{\"attributes\":{},\"id\":\"1298\",\"type\":\"UnionRenderers\"},{\"attributes\":{},\"id\":\"1270\",\"type\":\"BasicTicker\"},{\"attributes\":{\"axis\":{\"id\":\"1269\"},\"dimension\":1,\"ticker\":null},\"id\":\"1272\",\"type\":\"Grid\"},{\"attributes\":{\"fill_color\":{\"value\":\"#1f77b4\"},\"line_color\":{\"value\":\"#1f77b4\"},\"top\":{\"field\":\"recoveryShare\"},\"width\":{\"value\":0.5},\"x\":{\"field\":\"state_name\"}},\"id\":\"1287\",\"type\":\"VBar\"},{\"attributes\":{},\"id\":\"1273\",\"type\":\"PanTool\"},{\"attributes\":{},\"id\":\"1911\",\"type\":\"CategoricalTickFormatter\"},{\"attributes\":{\"data\":{\"caseDelta\":{\"__ndarray__\":\"3/WZ83Gy30BG1IgOZD2yQBPXVsL/BpRA3AvgSVLHusDgglnUE3t3QGTeAcxRX4LARnUszfcEp8Aoc7cZxbKFQLiQ3ZgQGJJArBb7ft4al8AUPFaAvpeRwID/M0vrvSrAbcVYYET5tsDsHdFCr4ZgQNz2ZsYiUYfA0tE4UunGn8BebQcdRQ+HwOryMKRx5I/Ajqks6hMBn8DcnnWMStCMwLckihWPh5TAQnVwwnnqj8BUadfOWqNvwFxd5vPX4IbAovXbCeUXmsCgWimdxPOJwM4bFOraM3bApoGiDqmGecAt0/T6aZaQwH5EdW0u9nnABDJAbSlQh8D8kHCwHkNWQOIY/S4pxIbAOCAj93j4isB5TiJtmV5wwHZkNqRR8YLAmfa1P/o0gcDgBkTrT/JXwIDdFE7fWwdAABnJ16EpZsCSCxA3xTJpwLpLFIAz23fAes8u44AsXMDoDeBmNlpuwMpEdAAGknnA8lzAXOxKZsBMvCRnS49ewEh8kLGWwFXAJqTcn64CYcBSCLI2oEB4wOxSBqsuH2bA\",\"dtype\":\"float64\",\"shape\":[51]},\"caseDeltaRate\":{\"__ndarray__\":\"29qYhgIMG0BXThRTwu0AQLvp+6biTeU/Kr3X0No+5r9NTXftXmPDPxWzATruEsi/lK9XXNVc4b99MPPV3MvZPyHhKd5lJ/A/Q7x8oAXl3b86GGsGzS7bv5WHmfLW+IK/Y+88zIbc6b/hhdq4JTzDP0Uhj3LJCdy/fupaMH1v5r8hF5aZnlfgvwWqpLeUm+O/K+o2tJw76L/XKVecuKTjv1k76j7QE+e/YBWur1x05b99Cb80RPLVvxGqcQHtU+O/uQLwVdAW6b9zs7WYR6jkv6M29UuwU92//85t2G0g4L9maDyPVyLov98EDGHKtuG/HIlFjoB65r/bO1S+XQPgP+hJpe+I3+e/H9kxv3Xb6L8i9o+JUpbiv0EA3FJotOi/ncuqVd6E6L91xfzvzYHXv1HdgEqqR5M/cKs71uIS4b+VYsqKUw3jv7JtnWX1l+e/NH5aJOW33b8gdDZnmEbmvxtfcdugJ+u/9s/FbHRE5b8nG/pYM5XlvwDSkVPy4uO/5J4xLSMn57/YE1wDZUjsv89EDwz6Zem/\",\"dtype\":\"float64\",\"shape\":[51]},\"caseShare\":{\"__ndarray__\":\"tGp94bUl3T9IVJt6Q4S1P2LM/n8pEqQ/kDGRMSDQoj8tkKbUzN+hP+kXN5qexJ8/O4/0x5UXnz+v0gDp5ECeP+hOgAUC2pw/6sC/grkdlT/hJvgLnxaTP2NJJHQ15pE/0PzK3EJ5kT/bKAB9llWJP0pe/Tgc9Yc/W0HKJlS0hT+0fzZ48LKBP6qkw9eZJYA/i0OweNjXfz/8O6+xEgp9P7IN9/o4b3k/LF8SgVEieT8Fxl9SbEh4P+uJdhdWCHg/gZnRK/0Hdz/Sz+MvuNR2P664h1RLB3U/G63Z5pQgdD+Npdgfz1JxP+y6CmvRxXA/3HnCfJOkbz+irIBgebxqP6awLQdq1Wg/prAtB2rVaD8D80b/9uxiP5kCohOe7GE/WC0GqqLSYD/SfiEwu4VgP9x5wnyTpF8/0Bz5iMQKXz+G7kDS6m9bP9ckU9alPFs/v2rA7gcJWj9cgnVQkDpVP6sFna1XPU0/cOeYkUAGUj+O9pofzKFHP1yCdVCQOkU//+6ZWAbURD+hW75gfG1EP856dInKbEI/\",\"dtype\":\"float64\",\"shape\":[51]},\"deathDelta\":{\"__ndarray__\":\"bBtm6gZeYsCIsGTfcysxwHCvAFWkTVlA3I3ZHW0qKEAYB+S6dDkzQIyuzc+JeCTAgM1LYJvbGcCg4IkzCgQjwP/S3NiqC0lAFnBFMs8rIMCo81iWMjo6QFjiNDxYqwxA0IV4PQTl/r/MoteywDQaQIz/ADGUUyXAzDUFD0D5BECopngkacAAwFywyQs5Kh9ACg2p6TJSHMBs4KtSfR8RwACj8Q0Y6ec/iFs4Rtim6j/w7qlv3JTtv1A1wzKCaRfA6OwEOuO6GUDoTcDSu+oDQFoxlROuAxBAc0lQ1yn1EsCqOaaA6IQHwNT0YHiLhvy/gBbZ4iP0GUCkE0vI6fvpv4Lizw+TrAtAfh0w8GxTDMCIlpgmsk3TP/fKZE7kcQTAINFD2Pk+4z+nNOaCidgCwECLbPER+hpAbxIeFiS0AcAiIKSvT5fuvwys7VBaIu6/wnlTDE2y/b+yCMabzDb4vzyNAwH8rPC//GcSpiGP9L8Y+8yvzC3EP7IIxpvMNui/m5QPPdfB57+EIFne4Uznv9pHbvbR99U/\",\"dtype\":\"float64\",\"shape\":[51]},\"deathDeltaRate\":{\"__ndarray__\":\"oj2gmcit0b8wxJW1EmPGv5gK2uYprwFAlpmrur0E0j+pZNi/jizeP3x8krD9E9K/ngRTB/NUx78lH1Y7QKLRv/Qt+WqYWvg/aPwu+yJ81b9b6znBCUbzPweW4TK+d8Y/VJIGSiXNuL9mHFMEKAXdP6zMahtO+ei/US0oaTYcyz9NgNXnl43KvyMX4AD7Eus/8rHkGabz6L+uKB4J34rgv4FrhuS0X7o/YfG2/rO/vT+L5KjKlBbBv0ocwQqeVOu/6LczIKBX7z+Wv1b+WnnYP9gFYReEXeU/CAddbK1s6r/sd1TVVAvjv9NlNwxH29e/aL+Yub0C9z+Tz+xG+EPLvzdw4MCBQ+8/AAAAAAAA8L/YyVona528PwAAAAAAAPC/xYgRI0YM0D8AAAAAAADwv5ucCFL46gdAAAAAAAAA8L+/dxqWmEffv5Kp2jwBCt+/AAAAAAAA8L8AAAAAAADwvwAAAAAAAPC/AAAAAAAA8L+dA1F/lvTHPwAAAAAAAPC/AAAAAAAA8L8AAAAAAADwvymhsd2OueA/\",\"dtype\":\"float64\",\"shape\":[51]},\"deathRate\":{\"__ndarray__\":\"DSqc7KYphT+heNrjKiCIP1mXqED6d6c/VdEtbWG8kj8WOoMVOoOVPzcZl+f0+oQ/YhrAJurohz+ZRxzF6y6FP4/1XbK6b6I/E4BsE4Bsgz/Sib9/ix2gP1eH0pyeL5E/zx7OEyloij+DK7k9vz+VP9oQVeokrmk/9E2oAl23kT8f+XCYiSyHP4zTr8E4/Zo/AqHkTtHCaT/w+MMBjz98PwgEAoFAIJA/BDTX95dRkD8ZkEOACVaJPxEREREREWE/zxEo2mrwnD9eQ3kN5TWUPxiGYRiGYZg/ms/1x8tgZD/D7OAIIq13PwtukM0dV4I/pSN7BqLSoT9wgQtc4AKHP+ecc84555w/AAAAAAAAAAAQBEEQBEGQPwAAAAAAAAAAkiRJkiRJkj8AAAAAAAAAAFQ6smcgKq0/AAAAAAAAAACKhvjj1uV9Px4eHh4eHn4/AAAAAAAAAAAAAAAAAAAAAAAAAAAAAAAAAAAAAAAAAAANJ3VfHluRPwAAAAAAAAAAAAAAAAAAAAAAAAAAAAAAAGQhC1nIQpY/\",\"dtype\":\"float64\",\"shape\":[51]},\"deathShare\":{\"__ndarray__\":\"iREjRowY1T8OHDhw4MCxP8GBAwcOHMA/wYEDBw4cqD/SpEmTJk2qP7Zs2bJly5Y/y5YtW7ZsmT+vXr169eqVPxIjRowYMbI/4MCBAwcOjD+oUKFChQqlP6hQoUKFCpU//Pjx48ePjz+TJk2aNGmSP6hQoUKFCmU/0qRJkyZNij/gwIEDBw58P+7cuXPnzo0/4MCBAwcOXD/gwIEDBw5sP+DAgQMHDnw/4MCBAwcOfD+oUKFChQp1P+DAgQMHDkw/tmzZsmXLhj/8+PHjx49/P4wYMWLEiIE/4MCBAwcOTD/gwIEDBw5cP6hQoUKFCmU/mjRp0qRJgz+oUKFChQplP8SIESNGjHg/AAAAAAAAAACoUKFChQplPwAAAAAAAAAAqFChQoUKZT8AAAAAAAAAAPz48ePHj38/AAAAAAAAAADgwIEDBw5MP+DAgQMHDkw/AAAAAAAAAAAAAAAAAAAAAAAAAAAAAAAAAAAAAAAAAADgwIEDBw5MPwAAAAAAAAAAAAAAAAAAAAAAAAAAAAAAAODAgQMHDkw/\",\"dtype\":\"float64\",\"shape\":[51]},\"expectedCases\":{\"__ndarray__\":\"gyiYMTjAskB1V+7iNz2hQO0oqT0AFZ5A7gXwJKlCw0Ckz3SFnWCjQJl3AHPUa6hAozqW5ns2tUBsRiRzneqaQEhvImfv65FAVot9P2+7qEAKHitA37WkQP9nltZ7jZZAbcVYYERtvECFuEsvVH6LQG57M2ORnJpA6WgcqXSppkCvtoOOopOWQHV5GNI4BppAx1QW9Yl4pEBuzzpGJXiXQLckihWPd5xAoTo44TzNl0BV2rWz1hCHQK4u8/lr8JJA0frthPKjoEBQrZRO4hmUQOcNCnXtOYhA00BRh1RTiUAt0/T6af6VQD+iujYXc4dAAhmgthSYkECCt8encD5mQOIY/S4phI5AHJCRezxckUB5TiJtmS58QHZkNqRRiYhAmfa1P/p0hkC4AdH6k0xwQIqsx4KQYmNAgIzk69DEdEDJBYibYil1QN0lCsCZLYBAvWeXcUBWbkD0BnAzG811QMpEdAAGIn5AeS5gLnbFcEAmXpKzpadmQCQ+yFhLgGFAJqTcn66CZ0BSCLI2oHB7QOxSBqsu32tA\",\"dtype\":\"float64\",\"shape\":[51]},\"expectedDeaths\":{\"__ndarray__\":\"24aZuoGfgEAiLNn33IpYQCCh/lW35EZAiZyJuGR1RUB0/I2iRWNEQKNr83MiHkJAsHkJbHO7QUAoeOKMAkFBQAEtIydVdEBAC7gimecVOEBYDKdpzcU1QLVjefiUajRAXYjXQ1DuM0CaLpSmn+UsQIz/ADGUUytAjbI+/K/BKECqKR5JGjAkQNInG3rjaiJAhYbUdBkpIkA28FWpvo8gQKDLQf7cAh1Aj/Q49ySrHEDePfWNm7IbQFA1wzKCaRtAGBP7xRxFGkAM2Z8WogoaQKbOauxR/BdAc0lQ1yn1FkDVHFNAdMITQDU9GN6iIRNAgOkmHdwLEkDpxBJy+n4OQH4dMPBsUwxAfh0w8GxTDEAv7Sy7SZYFQPfKZE7kcQRAuAvviUEwA0CnNOaCidgCQIDpJh3cCwJAbxIeFiS0AUARENLXp0v/PwbWdigtEf8/wnlTDE2y/T+yCMabzDb4PzyNAwH8rPA//GcSpiGP9D86wQzUjPTqP7IIxpvMNug/m5QPPdfB5z+EIFne4UznPxPcyAQXBOU/\",\"dtype\":\"float64\",\"shape\":[51]},\"infectionRate\":{\"__ndarray__\":\"IyeADHVmXz+spYT4YTZJPyCr5D+W9Do/kGKI+R+7Ez+WInb4F6IyP8C16Dv1Rio/uE35IJ6bHT+utGmLXbQ2P+rCOvyIQkA/M70w8Co/IT9YWk91Op4iP198lHE8CDA/zKz3LG3VCD943lGJIp0yP7sdSUR9LyI/lBt23L9YEz9sdbGc/asfP9up1aYKERk/N/Ly2Q9sDz/rsg+cjf4YPwy5z09cDBI/LJqADrhUFT+/SriFH0QlP3/YypL7oRk/SksS+Eb1Cz9MIz1Sh/EWP9pPoUypiCE/z4IRWNANID/Fxb/mStIPPwcKFvWn5Rw/4WWZ9XhCEz8TuSXFnkc4P30q6/JHcBA/+nt1+WTlDD+Nxbw7gSEbPyFQsL5hgw0/t9E8rLNDDj9fYxSuFHokPx+mQv6bfDA/M4DPBzIxHj+Z8g7ZyTAaPxEQAREQARE/NSri6fxVIT/sDBWzd6sTP2vplJzymQM/4/n7tZ+1FT8hFIhmSxIVPzViLp+vgBg/Mnf720XlET+2LrH+eRP+PrAHa6MFtQo/\",\"dtype\":\"float64\",\"shape\":[51]},\"population\":[19440469,8936574,7797095,39937489,10045029,12659682,21992985,6976597,4645184,12820878,10736059,5845526,29472295,3563077,6897576,11747694,5851754,6745354,10611862,6083116,7378494,6169270,2989260,4908921,8626207,5210095,3139658,3282115,5700671,3038999,4301089,720687,3954821,4499692,1826156,3179849,2910357,1056161,628061,1345790,1371246,2096640,982895,1412687,1952570,1086759,734002,567025,761723,1778070,903027],\"recoveryRate\":{\"__ndarray__\":\"AAAAAAAAAAAzmA5S7w8zPwAAAAAAAAAAhnVyoO5ZYD8AAAAAAAAAAPbjfn9o0kk/AAAAAAAAAACbhNy+Vh07PwAAAAAAAAAAGzC1GjC1ej8AAAAAAAAAAAAAAAAAAAAAKWgajDUjgD8AAAAAAAAAAAAAAAAAAAAAAAAAAAAAAAAAAAAAAAAAAAAAAAAAAAAAAAAAAAAAAAAAAAAAAAAAAAAAAAAAAAAAAAAAAAAAAAAAAAAAAAAAAAAAAAAAAAAAHYGirQbPYT8AAAAAAAAAAAAAAAAAAAAAAAAAAAAAAAAAAAAAAAAAADZ3XElg3qM/AAAAAAAAAAB4afZdmn3HPwAAAAAAAAAAAAAAAAAAAAAAAAAAAAAAAAAAAAAAAAAAAAAAAAAAAAAAAAAAAAAAAAAAAAAAAAAA0hMcPcHRkz8AAAAAAAAAAAAAAAAAAAAAAAAAAAAAAAAAAAAAAAAAAAAAAAAAAAAAAAAAAAAAAAAAAAAAAAAAAAAAAAAAAAAAAAAAAAAAAAAAAAAAAAAAAGQhC1nIQtY/\",\"dtype\":\"float64\",\"shape\":[51]},\"recoveryShare\":{\"__ndarray__\":\"AAAAAAAAAAAdgaKtBs+RPwAAAAAAAAAAq8FzBIq2qj8AAAAAAAAAAB2Boq0Gz5E/AAAAAAAAAAAdgaKtBs+BPwAAAAAAAAAAiHG/Lql8uD8AAAAAAAAAAAAAAAAAAAAAiHG/Lql8uD8AAAAAAAAAAAAAAAAAAAAAAAAAAAAAAAAAAAAAAAAAAAAAAAAAAAAAAAAAAAAAAAAAAAAAAAAAAAAAAAAAAAAAAAAAAAAAAAAAAAAAAAAAAAAAAAAAAAAAHYGirQbPgT8AAAAAAAAAAAAAAAAAAAAAAAAAAAAAAAAAAAAAAAAAAM8RKNpq8Lw/AAAAAAAAAAC01eA5AkXbPwAAAAAAAAAAAAAAAAAAAAAAAAAAAAAAAAAAAAAAAAAAAAAAAAAAAAAAAAAAAAAAAAAAAAAAAAAAq8FzBIq2mj8AAAAAAAAAAAAAAAAAAAAAAAAAAAAAAAAAAAAAAAAAAAAAAAAAAAAAAAAAAAAAAAAAAAAAAAAAAAAAAAAAAAAAAAAAAAAAAAAAAAAAAAAAAB2Boq0Gz8E/\",\"dtype\":\"float64\",\"shape\":[51]},\"state_name\":[\"New York\",\"New Jersey\",\"Washington\",\"California\",\"Michigan\",\"Illinois\",\"Florida\",\"Massachusetts\",\"Louisiana\",\"Pennsylvania\",\"Georgia\",\"Colorado\",\"Texas\",\"Connecticut\",\"Tennessee\",\"Ohio\",\"Wisconsin\",\"Indiana\",\"North Carolina\",\"Maryland\",\"Arizona\",\"Missouri\",\"Mississippi\",\"Alabama\",\"Virginia\",\"South Carolina\",\"Nevada\",\"Utah\",\"Minnesota\",\"Arkansas\",\"Oregon\",\"District of Columbia\",\"Oklahoma\",\"Kentucky\",\"Idaho\",\"Iowa\",\"Kansas\",\"Rhode Island\",\"Vermont\",\"Maine\",\"New Hampshire\",\"New Mexico\",\"Delaware\",\"Hawaii\",\"Nebraska\",\"Montana\",\"Alaska\",\"Wyoming\",\"North Dakota\",\"West Virginia\",\"South Dakota\"],\"totalConfirmed\":[37258,6876,3207,3006,2856,2538,2484,2417,2305,1687,1525,1430,1396,1012,957,867,707,645,636,580,508,502,485,480,460,456,420,402,346,335,316,267,248,248,189,179,168,165,158,155,137,136,130,106,73,90,59,53,52,51,46],\"totalDeaths\":{\"__ndarray__\":\"AAAAAAAQeEAAAAAAAEBUQAAAAAAAYGJAAAAAAACAS0AAAAAAAABOQAAAAAAAADpAAAAAAAAAPUAAAAAAAAA5QAAAAAAAwFRAAAAAAAAAMEAAAAAAAABIQAAAAAAAADhAAAAAAAAAMkAAAAAAAAA1QAAAAAAAAAhAAAAAAAAALkAAAAAAAAAgQAAAAAAAADFAAAAAAAAAAEAAAAAAAAAQQAAAAAAAACBAAAAAAAAAIEAAAAAAAAAYQAAAAAAAAPA/AAAAAAAAKkAAAAAAAAAiQAAAAAAAACRAAAAAAAAA8D8AAAAAAAAAQAAAAAAAAAhAAAAAAAAAJkAAAAAAAAAIQAAAAAAAABxAAAAAAAAAAAAAAAAAAAAIQAAAAAAAAAAAAAAAAAAACEAAAAAAAAAAAAAAAAAAACJAAAAAAAAAAAAAAAAAAADwPwAAAAAAAPA/AAAAAAAAAAAAAAAAAAAAAAAAAAAAAAAAAAAAAAAAAAAAAAAAAADwPwAAAAAAAAAAAAAAAAAAAAAAAAAAAAAAAAAAAAAAAPA/\",\"dtype\":\"float64\",\"shape\":[51]},\"totalRecovered\":{\"__ndarray__\":\"AAAAAAAAAAAAAAAAAAAAQAAAAAAAAAAAAAAAAAAAGEAAAAAAAAAAAAAAAAAAAABAAAAAAAAAAAAAAAAAAADwPwAAAAAAAAAAAAAAAAAAJkAAAAAAAAAAAAAAAAAAAAAAAAAAAAAAJkAAAAAAAAAAAAAAAAAAAAAAAAAAAAAAAAAAAAAAAAAAAAAAAAAAAAAAAAAAAAAAAAAAAAAAAAAAAAAAAAAAAAAAAAAAAAAAAAAAAAAAAAAAAAAAAAAAAAAAAAAAAAAA8D8AAAAAAAAAAAAAAAAAAAAAAAAAAAAAAAAAAAAAAAAAAAAAAAAAACpAAAAAAAAAAAAAAAAAAIBIQAAAAAAAAAAAAAAAAAAAAAAAAAAAAAAAAAAAAAAAAAAAAAAAAAAAAAAAAAAAAAAAAAAAAAAAAAAAAAAAAAAACEAAAAAAAAAAAAAAAAAAAAAAAAAAAAAAAAAAAAAAAAAAAAAAAAAAAAAAAAAAAAAAAAAAAAAAAAAAAAAAAAAAAAAAAAAAAAAAAAAAAAAAAAAAAAAAAAAAADBA\",\"dtype\":\"float64\",\"shape\":[51]}},\"selected\":{\"id\":\"1297\"},\"selection_policy\":{\"id\":\"1298\"}},\"id\":\"1002\",\"type\":\"ColumnDataSource\"},{\"attributes\":{},\"id\":\"1274\",\"type\":\"WheelZoomTool\"},{\"attributes\":{\"overlay\":{\"id\":\"1912\"}},\"id\":\"1275\",\"type\":\"BoxZoomTool\"},{\"attributes\":{\"fill_alpha\":{\"value\":0.1},\"fill_color\":{\"value\":\"#1f77b4\"},\"line_alpha\":{\"value\":0.1},\"line_color\":{\"value\":\"#1f77b4\"},\"top\":{\"field\":\"recoveryShare\"},\"width\":{\"value\":0.5},\"x\":{\"field\":\"state_name\"}},\"id\":\"1288\",\"type\":\"VBar\"},{\"attributes\":{},\"id\":\"1276\",\"type\":\"SaveTool\"},{\"attributes\":{\"text\":\"COVID US Percentage Share of Recoveries by State\"},\"id\":\"1256\",\"type\":\"Title\"},{\"attributes\":{},\"id\":\"1277\",\"type\":\"ResetTool\"},{\"attributes\":{},\"id\":\"1278\",\"type\":\"HelpTool\"},{\"attributes\":{\"factors\":[\"New York\",\"New Jersey\",\"Washington\",\"California\",\"Michigan\",\"Illinois\",\"Florida\",\"Massachusetts\",\"Louisiana\",\"Pennsylvania\",\"Georgia\",\"Colorado\",\"Texas\",\"Connecticut\",\"Tennessee\",\"Ohio\",\"Wisconsin\",\"Indiana\",\"North Carolina\",\"Maryland\",\"Arizona\",\"Missouri\",\"Mississippi\",\"Alabama\",\"Virginia\",\"South Carolina\",\"Nevada\",\"Utah\",\"Minnesota\",\"Arkansas\",\"Oregon\",\"District of Columbia\",\"Oklahoma\",\"Kentucky\",\"Idaho\",\"Iowa\",\"Kansas\",\"Rhode Island\",\"Vermont\",\"Maine\",\"New Hampshire\",\"New Mexico\",\"Delaware\",\"Hawaii\",\"Nebraska\",\"Montana\",\"Alaska\",\"Wyoming\",\"North Dakota\",\"West Virginia\",\"South Dakota\"]},\"id\":\"1258\",\"type\":\"FactorRange\"},{\"attributes\":{\"active_drag\":\"auto\",\"active_inspect\":\"auto\",\"active_multi\":null,\"active_scroll\":\"auto\",\"active_tap\":\"auto\",\"tools\":[{\"id\":\"1273\"},{\"id\":\"1274\"},{\"id\":\"1275\"},{\"id\":\"1276\"},{\"id\":\"1277\"},{\"id\":\"1278\"}]},\"id\":\"1279\",\"type\":\"Toolbar\"},{\"attributes\":{},\"id\":\"1909\",\"type\":\"BasicTickFormatter\"},{\"attributes\":{\"end\":0.49189513597680856,\"start\":0},\"id\":\"1260\",\"type\":\"DataRange1d\"},{\"attributes\":{\"bottom_units\":\"screen\",\"fill_alpha\":0.5,\"fill_color\":\"lightgrey\",\"left_units\":\"screen\",\"level\":\"overlay\",\"line_alpha\":1.0,\"line_color\":\"black\",\"line_dash\":[4,4],\"line_width\":2,\"render_mode\":\"css\",\"right_units\":\"screen\",\"top_units\":\"screen\"},\"id\":\"1912\",\"type\":\"BoxAnnotation\"},{\"attributes\":{\"source\":{\"id\":\"1002\"}},\"id\":\"1290\",\"type\":\"CDSView\"},{\"attributes\":{},\"id\":\"1262\",\"type\":\"CategoricalScale\"},{\"attributes\":{},\"id\":\"1264\",\"type\":\"LinearScale\"},{\"attributes\":{\"data_source\":{\"id\":\"1002\"},\"glyph\":{\"id\":\"1287\"},\"hover_glyph\":null,\"muted_glyph\":null,\"nonselection_glyph\":{\"id\":\"1288\"},\"selection_glyph\":null,\"view\":{\"id\":\"1290\"}},\"id\":\"1289\",\"type\":\"GlyphRenderer\"},{\"attributes\":{\"formatter\":{\"id\":\"1911\"},\"major_label_orientation\":0.7853981633974483,\"ticker\":{\"id\":\"1267\"}},\"id\":\"1266\",\"type\":\"CategoricalAxis\"},{\"attributes\":{},\"id\":\"1267\",\"type\":\"CategoricalTicker\"},{\"attributes\":{},\"id\":\"1297\",\"type\":\"Selection\"},{\"attributes\":{\"axis\":{\"id\":\"1266\"},\"grid_line_color\":null,\"ticker\":null},\"id\":\"1268\",\"type\":\"Grid\"}],\"root_ids\":[\"1255\"]},\"title\":\"Bokeh Application\",\"version\":\"2.0.0\"}};\n",
              "  var render_items = [{\"docid\":\"8fb490fc-9a7a-4ce9-84e5-b631c244961c\",\"root_ids\":[\"1255\"],\"roots\":{\"1255\":\"1dd05333-c704-4b44-8a55-b4aa1576a105\"}}];\n",
              "  root.Bokeh.embed.embed_items_notebook(docs_json, render_items);\n",
              "\n",
              "  }\n",
              "  if (root.Bokeh !== undefined) {\n",
              "    embed_document(root);\n",
              "  } else {\n",
              "    var attempts = 0;\n",
              "    var timer = setInterval(function(root) {\n",
              "      if (root.Bokeh !== undefined) {\n",
              "        clearInterval(timer);\n",
              "        embed_document(root);\n",
              "      } else {\n",
              "        attempts++;\n",
              "        if (attempts > 100) {\n",
              "          clearInterval(timer);\n",
              "          console.log(\"Bokeh: ERROR: Unable to run BokehJS code because BokehJS library is missing\");\n",
              "        }\n",
              "      }\n",
              "    }, 10, root)\n",
              "  }\n",
              "})(window);"
            ],
            "application/vnd.bokehjs_exec.v0+json": ""
          },
          "metadata": {
            "application/vnd.bokehjs_exec.v0+json": {
              "id": "1255"
            }
          }
        }
      ],
      "execution_count": 4,
      "metadata": {
        "execution": {
          "iopub.execute_input": "2020-03-27T01:31:39.099Z",
          "iopub.status.busy": "2020-03-27T01:31:39.097Z",
          "iopub.status.idle": "2020-03-27T01:31:39.479Z",
          "shell.execute_reply": "2020-03-27T01:31:39.503Z"
        },
        "jupyter": {
          "source_hidden": true
        },
        "outputExpanded": false
      }
    }
  ],
  "metadata": {
    "kernelspec": {
      "display_name": "Python 3",
      "language": "python",
      "name": "python3"
    },
    "language_info": {
      "name": "python",
      "version": "3.7.3",
      "mimetype": "text/x-python",
      "codemirror_mode": {
        "name": "ipython",
        "version": 3
      },
      "pygments_lexer": "ipython3",
      "nbconvert_exporter": "python",
      "file_extension": ".py"
    },
    "nteract": {
      "version": "0.22.0"
    }
  },
  "nbformat": 4,
  "nbformat_minor": 4
}