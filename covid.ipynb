{
 "cells": [
  {
   "cell_type": "code",
   "execution_count": 50,
   "metadata": {
    "execution": {
     "iopub.execute_input": "2020-03-30T00:16:50.028Z",
     "iopub.status.busy": "2020-03-30T00:16:50.025Z",
     "iopub.status.idle": "2020-03-30T00:16:50.249Z",
     "shell.execute_reply": "2020-03-30T00:16:50.252Z"
    },
    "jupyter": {
     "source_hidden": true
    }
   },
   "outputs": [
    {
     "data": {
      "text/html": [
       "\n",
       "    <div class=\"bk-root\">\n",
       "        <a href=\"https://bokeh.org\" target=\"_blank\" class=\"bk-logo bk-logo-small bk-logo-notebook\"></a>\n",
       "        <span id=\"3810\">Loading BokehJS ...</span>\n",
       "    </div>"
      ]
     },
     "metadata": {},
     "output_type": "display_data"
    },
    {
     "data": {
      "application/javascript": [
       "\n",
       "(function(root) {\n",
       "  function now() {\n",
       "    return new Date();\n",
       "  }\n",
       "\n",
       "  var force = true;\n",
       "\n",
       "  if (typeof root._bokeh_onload_callbacks === \"undefined\" || force === true) {\n",
       "    root._bokeh_onload_callbacks = [];\n",
       "    root._bokeh_is_loading = undefined;\n",
       "  }\n",
       "\n",
       "  var JS_MIME_TYPE = 'application/javascript';\n",
       "  var HTML_MIME_TYPE = 'text/html';\n",
       "  var EXEC_MIME_TYPE = 'application/vnd.bokehjs_exec.v0+json';\n",
       "  var CLASS_NAME = 'output_bokeh rendered_html';\n",
       "\n",
       "  /**\n",
       "   * Render data to the DOM node\n",
       "   */\n",
       "  function render(props, node) {\n",
       "    var script = document.createElement(\"script\");\n",
       "    node.appendChild(script);\n",
       "  }\n",
       "\n",
       "  /**\n",
       "   * Handle when an output is cleared or removed\n",
       "   */\n",
       "  function handleClearOutput(event, handle) {\n",
       "    var cell = handle.cell;\n",
       "\n",
       "    var id = cell.output_area._bokeh_element_id;\n",
       "    var server_id = cell.output_area._bokeh_server_id;\n",
       "    // Clean up Bokeh references\n",
       "    if (id != null && id in Bokeh.index) {\n",
       "      Bokeh.index[id].model.document.clear();\n",
       "      delete Bokeh.index[id];\n",
       "    }\n",
       "\n",
       "    if (server_id !== undefined) {\n",
       "      // Clean up Bokeh references\n",
       "      var cmd = \"from bokeh.io.state import curstate; print(curstate().uuid_to_server['\" + server_id + \"'].get_sessions()[0].document.roots[0]._id)\";\n",
       "      cell.notebook.kernel.execute(cmd, {\n",
       "        iopub: {\n",
       "          output: function(msg) {\n",
       "            var id = msg.content.text.trim();\n",
       "            if (id in Bokeh.index) {\n",
       "              Bokeh.index[id].model.document.clear();\n",
       "              delete Bokeh.index[id];\n",
       "            }\n",
       "          }\n",
       "        }\n",
       "      });\n",
       "      // Destroy server and session\n",
       "      var cmd = \"import bokeh.io.notebook as ion; ion.destroy_server('\" + server_id + \"')\";\n",
       "      cell.notebook.kernel.execute(cmd);\n",
       "    }\n",
       "  }\n",
       "\n",
       "  /**\n",
       "   * Handle when a new output is added\n",
       "   */\n",
       "  function handleAddOutput(event, handle) {\n",
       "    var output_area = handle.output_area;\n",
       "    var output = handle.output;\n",
       "\n",
       "    // limit handleAddOutput to display_data with EXEC_MIME_TYPE content only\n",
       "    if ((output.output_type != \"display_data\") || (!output.data.hasOwnProperty(EXEC_MIME_TYPE))) {\n",
       "      return\n",
       "    }\n",
       "\n",
       "    var toinsert = output_area.element.find(\".\" + CLASS_NAME.split(' ')[0]);\n",
       "\n",
       "    if (output.metadata[EXEC_MIME_TYPE][\"id\"] !== undefined) {\n",
       "      toinsert[toinsert.length - 1].firstChild.textContent = output.data[JS_MIME_TYPE];\n",
       "      // store reference to embed id on output_area\n",
       "      output_area._bokeh_element_id = output.metadata[EXEC_MIME_TYPE][\"id\"];\n",
       "    }\n",
       "    if (output.metadata[EXEC_MIME_TYPE][\"server_id\"] !== undefined) {\n",
       "      var bk_div = document.createElement(\"div\");\n",
       "      bk_div.innerHTML = output.data[HTML_MIME_TYPE];\n",
       "      var script_attrs = bk_div.children[0].attributes;\n",
       "      for (var i = 0; i < script_attrs.length; i++) {\n",
       "        toinsert[toinsert.length - 1].firstChild.setAttribute(script_attrs[i].name, script_attrs[i].value);\n",
       "        toinsert[toinsert.length - 1].firstChild.textContent = bk_div.children[0].textContent\n",
       "      }\n",
       "      // store reference to server id on output_area\n",
       "      output_area._bokeh_server_id = output.metadata[EXEC_MIME_TYPE][\"server_id\"];\n",
       "    }\n",
       "  }\n",
       "\n",
       "  function register_renderer(events, OutputArea) {\n",
       "\n",
       "    function append_mime(data, metadata, element) {\n",
       "      // create a DOM node to render to\n",
       "      var toinsert = this.create_output_subarea(\n",
       "        metadata,\n",
       "        CLASS_NAME,\n",
       "        EXEC_MIME_TYPE\n",
       "      );\n",
       "      this.keyboard_manager.register_events(toinsert);\n",
       "      // Render to node\n",
       "      var props = {data: data, metadata: metadata[EXEC_MIME_TYPE]};\n",
       "      render(props, toinsert[toinsert.length - 1]);\n",
       "      element.append(toinsert);\n",
       "      return toinsert\n",
       "    }\n",
       "\n",
       "    /* Handle when an output is cleared or removed */\n",
       "    events.on('clear_output.CodeCell', handleClearOutput);\n",
       "    events.on('delete.Cell', handleClearOutput);\n",
       "\n",
       "    /* Handle when a new output is added */\n",
       "    events.on('output_added.OutputArea', handleAddOutput);\n",
       "\n",
       "    /**\n",
       "     * Register the mime type and append_mime function with output_area\n",
       "     */\n",
       "    OutputArea.prototype.register_mime_type(EXEC_MIME_TYPE, append_mime, {\n",
       "      /* Is output safe? */\n",
       "      safe: true,\n",
       "      /* Index of renderer in `output_area.display_order` */\n",
       "      index: 0\n",
       "    });\n",
       "  }\n",
       "\n",
       "  // register the mime type if in Jupyter Notebook environment and previously unregistered\n",
       "  if (root.Jupyter !== undefined) {\n",
       "    var events = require('base/js/events');\n",
       "    var OutputArea = require('notebook/js/outputarea').OutputArea;\n",
       "\n",
       "    if (OutputArea.prototype.mime_types().indexOf(EXEC_MIME_TYPE) == -1) {\n",
       "      register_renderer(events, OutputArea);\n",
       "    }\n",
       "  }\n",
       "\n",
       "  \n",
       "  if (typeof (root._bokeh_timeout) === \"undefined\" || force === true) {\n",
       "    root._bokeh_timeout = Date.now() + 5000;\n",
       "    root._bokeh_failed_load = false;\n",
       "  }\n",
       "\n",
       "  var NB_LOAD_WARNING = {'data': {'text/html':\n",
       "     \"<div style='background-color: #fdd'>\\n\"+\n",
       "     \"<p>\\n\"+\n",
       "     \"BokehJS does not appear to have successfully loaded. If loading BokehJS from CDN, this \\n\"+\n",
       "     \"may be due to a slow or bad network connection. Possible fixes:\\n\"+\n",
       "     \"</p>\\n\"+\n",
       "     \"<ul>\\n\"+\n",
       "     \"<li>re-rerun `output_notebook()` to attempt to load from CDN again, or</li>\\n\"+\n",
       "     \"<li>use INLINE resources instead, as so:</li>\\n\"+\n",
       "     \"</ul>\\n\"+\n",
       "     \"<code>\\n\"+\n",
       "     \"from bokeh.resources import INLINE\\n\"+\n",
       "     \"output_notebook(resources=INLINE)\\n\"+\n",
       "     \"</code>\\n\"+\n",
       "     \"</div>\"}};\n",
       "\n",
       "  function display_loaded() {\n",
       "    var el = document.getElementById(\"3810\");\n",
       "    if (el != null) {\n",
       "      el.textContent = \"BokehJS is loading...\";\n",
       "    }\n",
       "    if (root.Bokeh !== undefined) {\n",
       "      if (el != null) {\n",
       "        el.textContent = \"BokehJS \" + root.Bokeh.version + \" successfully loaded.\";\n",
       "      }\n",
       "    } else if (Date.now() < root._bokeh_timeout) {\n",
       "      setTimeout(display_loaded, 100)\n",
       "    }\n",
       "  }\n",
       "\n",
       "\n",
       "  function run_callbacks() {\n",
       "    try {\n",
       "      root._bokeh_onload_callbacks.forEach(function(callback) {\n",
       "        if (callback != null)\n",
       "          callback();\n",
       "      });\n",
       "    } finally {\n",
       "      delete root._bokeh_onload_callbacks\n",
       "    }\n",
       "    console.debug(\"Bokeh: all callbacks have finished\");\n",
       "  }\n",
       "\n",
       "  function load_libs(css_urls, js_urls, callback) {\n",
       "    if (css_urls == null) css_urls = [];\n",
       "    if (js_urls == null) js_urls = [];\n",
       "\n",
       "    root._bokeh_onload_callbacks.push(callback);\n",
       "    if (root._bokeh_is_loading > 0) {\n",
       "      console.debug(\"Bokeh: BokehJS is being loaded, scheduling callback at\", now());\n",
       "      return null;\n",
       "    }\n",
       "    if (js_urls == null || js_urls.length === 0) {\n",
       "      run_callbacks();\n",
       "      return null;\n",
       "    }\n",
       "    console.debug(\"Bokeh: BokehJS not loaded, scheduling load and callback at\", now());\n",
       "    root._bokeh_is_loading = css_urls.length + js_urls.length;\n",
       "\n",
       "    function on_load() {\n",
       "      root._bokeh_is_loading--;\n",
       "      if (root._bokeh_is_loading === 0) {\n",
       "        console.debug(\"Bokeh: all BokehJS libraries/stylesheets loaded\");\n",
       "        run_callbacks()\n",
       "      }\n",
       "    }\n",
       "\n",
       "    function on_error() {\n",
       "      console.error(\"failed to load \" + url);\n",
       "    }\n",
       "\n",
       "    for (var i = 0; i < css_urls.length; i++) {\n",
       "      var url = css_urls[i];\n",
       "      const element = document.createElement(\"link\");\n",
       "      element.onload = on_load;\n",
       "      element.onerror = on_error;\n",
       "      element.rel = \"stylesheet\";\n",
       "      element.type = \"text/css\";\n",
       "      element.href = url;\n",
       "      console.debug(\"Bokeh: injecting link tag for BokehJS stylesheet: \", url);\n",
       "      document.body.appendChild(element);\n",
       "    }\n",
       "\n",
       "    for (var i = 0; i < js_urls.length; i++) {\n",
       "      var url = js_urls[i];\n",
       "      var element = document.createElement('script');\n",
       "      element.onload = on_load;\n",
       "      element.onerror = on_error;\n",
       "      element.async = false;\n",
       "      element.src = url;\n",
       "      \n",
       "      console.debug(\"Bokeh: injecting script tag for BokehJS library: \", url);\n",
       "      document.head.appendChild(element);\n",
       "    }\n",
       "  };var element = document.getElementById(\"3810\");\n",
       "  if (element == null) {\n",
       "    console.error(\"Bokeh: ERROR: autoload.js configured with elementid '3810' but no matching script tag was found. \")\n",
       "    return false;\n",
       "  }\n",
       "\n",
       "  function inject_raw_css(css) {\n",
       "    const element = document.createElement(\"style\");\n",
       "    element.appendChild(document.createTextNode(css));\n",
       "    document.body.appendChild(element);\n",
       "  }\n",
       "\n",
       "  \n",
       "  var js_urls = [\"https://cdn.bokeh.org/bokeh/release/bokeh-2.0.0.min.js\", \"https://cdn.bokeh.org/bokeh/release/bokeh-widgets-2.0.0.min.js\", \"https://cdn.bokeh.org/bokeh/release/bokeh-tables-2.0.0.min.js\", \"https://cdn.bokeh.org/bokeh/release/bokeh-gl-2.0.0.min.js\"];\n",
       "  var css_urls = [];\n",
       "  \n",
       "\n",
       "  var inline_js = [\n",
       "    function(Bokeh) {\n",
       "      Bokeh.set_log_level(\"info\");\n",
       "    },\n",
       "    function(Bokeh) {\n",
       "    \n",
       "    \n",
       "    }\n",
       "  ];\n",
       "\n",
       "  function run_inline_js() {\n",
       "    \n",
       "    if (root.Bokeh !== undefined || force === true) {\n",
       "      \n",
       "    for (var i = 0; i < inline_js.length; i++) {\n",
       "      inline_js[i].call(root, root.Bokeh);\n",
       "    }\n",
       "    if (force === true) {\n",
       "        display_loaded();\n",
       "      }} else if (Date.now() < root._bokeh_timeout) {\n",
       "      setTimeout(run_inline_js, 100);\n",
       "    } else if (!root._bokeh_failed_load) {\n",
       "      console.log(\"Bokeh: BokehJS failed to load within specified timeout.\");\n",
       "      root._bokeh_failed_load = true;\n",
       "    } else if (force !== true) {\n",
       "      var cell = $(document.getElementById(\"3810\")).parents('.cell').data().cell;\n",
       "      cell.output_area.append_execute_result(NB_LOAD_WARNING)\n",
       "    }\n",
       "\n",
       "  }\n",
       "\n",
       "  if (root._bokeh_is_loading === 0) {\n",
       "    console.debug(\"Bokeh: BokehJS loaded, going straight to plotting\");\n",
       "    run_inline_js();\n",
       "  } else {\n",
       "    load_libs(css_urls, js_urls, function() {\n",
       "      console.debug(\"Bokeh: BokehJS plotting callback run at\", now());\n",
       "      run_inline_js();\n",
       "    });\n",
       "  }\n",
       "}(window));"
      ],
      "application/vnd.bokehjs_load.v0+json": "\n(function(root) {\n  function now() {\n    return new Date();\n  }\n\n  var force = true;\n\n  if (typeof root._bokeh_onload_callbacks === \"undefined\" || force === true) {\n    root._bokeh_onload_callbacks = [];\n    root._bokeh_is_loading = undefined;\n  }\n\n  \n\n  \n  if (typeof (root._bokeh_timeout) === \"undefined\" || force === true) {\n    root._bokeh_timeout = Date.now() + 5000;\n    root._bokeh_failed_load = false;\n  }\n\n  var NB_LOAD_WARNING = {'data': {'text/html':\n     \"<div style='background-color: #fdd'>\\n\"+\n     \"<p>\\n\"+\n     \"BokehJS does not appear to have successfully loaded. If loading BokehJS from CDN, this \\n\"+\n     \"may be due to a slow or bad network connection. Possible fixes:\\n\"+\n     \"</p>\\n\"+\n     \"<ul>\\n\"+\n     \"<li>re-rerun `output_notebook()` to attempt to load from CDN again, or</li>\\n\"+\n     \"<li>use INLINE resources instead, as so:</li>\\n\"+\n     \"</ul>\\n\"+\n     \"<code>\\n\"+\n     \"from bokeh.resources import INLINE\\n\"+\n     \"output_notebook(resources=INLINE)\\n\"+\n     \"</code>\\n\"+\n     \"</div>\"}};\n\n  function display_loaded() {\n    var el = document.getElementById(\"3810\");\n    if (el != null) {\n      el.textContent = \"BokehJS is loading...\";\n    }\n    if (root.Bokeh !== undefined) {\n      if (el != null) {\n        el.textContent = \"BokehJS \" + root.Bokeh.version + \" successfully loaded.\";\n      }\n    } else if (Date.now() < root._bokeh_timeout) {\n      setTimeout(display_loaded, 100)\n    }\n  }\n\n\n  function run_callbacks() {\n    try {\n      root._bokeh_onload_callbacks.forEach(function(callback) {\n        if (callback != null)\n          callback();\n      });\n    } finally {\n      delete root._bokeh_onload_callbacks\n    }\n    console.debug(\"Bokeh: all callbacks have finished\");\n  }\n\n  function load_libs(css_urls, js_urls, callback) {\n    if (css_urls == null) css_urls = [];\n    if (js_urls == null) js_urls = [];\n\n    root._bokeh_onload_callbacks.push(callback);\n    if (root._bokeh_is_loading > 0) {\n      console.debug(\"Bokeh: BokehJS is being loaded, scheduling callback at\", now());\n      return null;\n    }\n    if (js_urls == null || js_urls.length === 0) {\n      run_callbacks();\n      return null;\n    }\n    console.debug(\"Bokeh: BokehJS not loaded, scheduling load and callback at\", now());\n    root._bokeh_is_loading = css_urls.length + js_urls.length;\n\n    function on_load() {\n      root._bokeh_is_loading--;\n      if (root._bokeh_is_loading === 0) {\n        console.debug(\"Bokeh: all BokehJS libraries/stylesheets loaded\");\n        run_callbacks()\n      }\n    }\n\n    function on_error() {\n      console.error(\"failed to load \" + url);\n    }\n\n    for (var i = 0; i < css_urls.length; i++) {\n      var url = css_urls[i];\n      const element = document.createElement(\"link\");\n      element.onload = on_load;\n      element.onerror = on_error;\n      element.rel = \"stylesheet\";\n      element.type = \"text/css\";\n      element.href = url;\n      console.debug(\"Bokeh: injecting link tag for BokehJS stylesheet: \", url);\n      document.body.appendChild(element);\n    }\n\n    for (var i = 0; i < js_urls.length; i++) {\n      var url = js_urls[i];\n      var element = document.createElement('script');\n      element.onload = on_load;\n      element.onerror = on_error;\n      element.async = false;\n      element.src = url;\n      \n      console.debug(\"Bokeh: injecting script tag for BokehJS library: \", url);\n      document.head.appendChild(element);\n    }\n  };var element = document.getElementById(\"3810\");\n  if (element == null) {\n    console.error(\"Bokeh: ERROR: autoload.js configured with elementid '3810' but no matching script tag was found. \")\n    return false;\n  }\n\n  function inject_raw_css(css) {\n    const element = document.createElement(\"style\");\n    element.appendChild(document.createTextNode(css));\n    document.body.appendChild(element);\n  }\n\n  \n  var js_urls = [\"https://cdn.bokeh.org/bokeh/release/bokeh-2.0.0.min.js\", \"https://cdn.bokeh.org/bokeh/release/bokeh-widgets-2.0.0.min.js\", \"https://cdn.bokeh.org/bokeh/release/bokeh-tables-2.0.0.min.js\", \"https://cdn.bokeh.org/bokeh/release/bokeh-gl-2.0.0.min.js\"];\n  var css_urls = [];\n  \n\n  var inline_js = [\n    function(Bokeh) {\n      Bokeh.set_log_level(\"info\");\n    },\n    function(Bokeh) {\n    \n    \n    }\n  ];\n\n  function run_inline_js() {\n    \n    if (root.Bokeh !== undefined || force === true) {\n      \n    for (var i = 0; i < inline_js.length; i++) {\n      inline_js[i].call(root, root.Bokeh);\n    }\n    if (force === true) {\n        display_loaded();\n      }} else if (Date.now() < root._bokeh_timeout) {\n      setTimeout(run_inline_js, 100);\n    } else if (!root._bokeh_failed_load) {\n      console.log(\"Bokeh: BokehJS failed to load within specified timeout.\");\n      root._bokeh_failed_load = true;\n    } else if (force !== true) {\n      var cell = $(document.getElementById(\"3810\")).parents('.cell').data().cell;\n      cell.output_area.append_execute_result(NB_LOAD_WARNING)\n    }\n\n  }\n\n  if (root._bokeh_is_loading === 0) {\n    console.debug(\"Bokeh: BokehJS loaded, going straight to plotting\");\n    run_inline_js();\n  } else {\n    load_libs(css_urls, js_urls, function() {\n      console.debug(\"Bokeh: BokehJS plotting callback run at\", now());\n      run_inline_js();\n    });\n  }\n}(window));"
     },
     "metadata": {},
     "output_type": "display_data"
    }
   ],
   "source": [
    "import requests\n",
    "import pandas as pd\n",
    "import numpy as np\n",
    "import math\n",
    "import json\n",
    "from bokeh.plotting import figure, output_notebook, show\n",
    "from bokeh.models import ColumnDataSource, NumeralTickFormatter\n",
    "from bokeh.models.widgets import Tabs, Panel\n",
    "from bokeh.transform import factor_cmap\n",
    "from bokeh.palettes import Spectral6\n",
    "from IPython.display import Markdown as md\n",
    "import plotly.graph_objects as go\n",
    "import os\n",
    "\n",
    "# Initialize Bokeh for charts\n",
    "output_notebook()\n",
    "\n",
    "# Load State Covid json file\n",
    "with open('states_current.json') as data:\n",
    "    sars = pd.read_json(data)\n",
    "\n",
    "# COLUMN REFERENCE\n",
    "# stats: state, positive, negative, pending, hospitalized, death, lastUpdateEt, totalTestResults, grade, score\n",
    "\n",
    "# Drop columns not currently being used\n",
    "drop_columns = [\"positiveScore\",\n",
    "                \"negativeScore\",\n",
    "                \"negativeRegularScore\",\n",
    "                \"commercialScore\",\n",
    "                \"total\",\n",
    "                \"checkTimeEt\",\n",
    "                \"fips\",\n",
    "                \"dateModified\",\n",
    "                \"dateChecked\",\n",
    "                \"notes\",\n",
    "                \"hash\",\n",
    "               ]\n",
    "sars.drop(columns=drop_columns, inplace=True)\n",
    "\n",
    "# Drop states\n",
    "drop_states = [\"PR\",\n",
    "               \"AS\",\n",
    "               \"GU\",\n",
    "               \"MP\",\n",
    "               \"VI\",\n",
    "              ]\n",
    "for state in drop_states:\n",
    "    sars.drop(sars[sars.state == state].index, inplace=True)\n",
    "\n",
    "# Fill any missing data with zeroes\n",
    "sars['pending'].fillna(0, inplace=True)\n",
    "sars['hospitalized'].fillna(0, inplace=True)\n",
    "sars['death'].fillna(0, inplace=True)\n",
    "sars['negative'].fillna(0, inplace=True)\n",
    "sars['score'].fillna(0, inplace=True)\n",
    "\n",
    "\n",
    "# Load State Population file\n",
    "with open('state_populations.json') as data:\n",
    "    state_pop = pd.read_json(data)\n",
    "\n",
    "# Merge state population data with covid data into new covid dataframe\n",
    "covid = pd.merge(left=sars, right=state_pop[['state_code','state_name','population']], how='left', left_on='state', right_on='state_code')\n",
    "\n",
    "# Create new columns in covid dataframe\n",
    "covid['infectionRate'] = covid['positive'].div(covid['population'], fill_value=0)\n",
    "covid['positiveRate'] = covid['positive'].div(covid['totalTestResults'], fill_value=0)\n",
    "covid['negativeRate'] = covid['negative'].div(covid['totalTestResults'], fill_value=0)\n",
    "covid['hospitalRate'] = covid['hospitalized'].div(covid['positive'], fill_value=0)\n",
    "covid['deathRate'] = covid['death'].div(covid['positive'], fill_value=0)\n",
    "covid['testRate'] = covid['totalTestResults'].div(covid['population'], fill_value=0)\n",
    "covid['positivePC'] = covid['infectionRate'].mul(1000000)\n",
    "covid['hospitalPC'] = covid['positivePC'].mul(covid['hospitalRate'])\n",
    "covid['deathPC'] = covid['positivePC'].mul(covid['deathRate'])\n",
    "covid['testPC'] = covid['testRate'].mul(1000000)\n",
    "\n",
    "# Reorder dataframe\n",
    "covid = covid[['state_name',\n",
    "               'state',\n",
    "               'population',\n",
    "               'positive',\n",
    "               'negative',\n",
    "               'pending',\n",
    "               'totalTestResults',\n",
    "               'infectionRate',\n",
    "               'positiveRate',\n",
    "               'negativeRate',\n",
    "               'hospitalized',\n",
    "               'hospitalRate',\n",
    "               'death',\n",
    "               'deathRate',\n",
    "               'testRate',\n",
    "               'positivePC',\n",
    "               'hospitalPC',\n",
    "               'deathPC',\n",
    "               'testPC',\n",
    "             ]]\n",
    "\n",
    "# Create index list for for bokeh graphs\n",
    "index = covid['state_name'].to_list()\n",
    "\n",
    "# Set new index for covid dataframe\n",
    "covid.set_index('state_name', inplace=True)\n",
    "\n",
    "# Sum US Statistics from covid dataframe \n",
    "total_population = int(covid['population'].sum())\n",
    "total_positives = int(covid['positive'].sum())\n",
    "total_negatives = int(covid['negative'].sum())\n",
    "total_pendings = int(covid['pending'].sum())\n",
    "total_hospitalized = int(covid['hospitalized'].sum())\n",
    "total_test_results = int(covid['totalTestResults'].sum())\n",
    "total_deaths = int(covid['death'].sum())\n",
    "\n",
    "# Calculate rates for US Statistics\n",
    "infection_rate = total_positives / total_population\n",
    "positive_rate = total_positives / total_test_results\n",
    "negative_rate = total_negatives / total_test_results\n",
    "pending_rate = total_pendings / total_test_results\n",
    "hospitalization_rate = total_hospitalized / total_positives\n",
    "death_rate = total_deaths / total_positives\n",
    "test_rate = total_test_results / total_population\n",
    "positive_pc = infection_rate * 1000000\n",
    "hospital_pc = positive_pc * hospitalization_rate\n",
    "death_pc = positive_pc * death_rate\n",
    "test_pc = test_rate * 1000000\n",
    "\n",
    "# Create tracking data for various metrics to see how each state is performing\n",
    "covid['expectedPositives'] = covid['population'].mul(infection_rate)\n",
    "covid['positiveDelta'] = covid['positive'].sub(covid['expectedPositives'])\n",
    "covid['positiveDeltaRate'] = covid['positiveDelta'].div(covid['expectedPositives'], fill_value=0)\n",
    "\n",
    "covid['expectedNegatives'] = covid['totalTestResults'].mul(negative_rate)\n",
    "covid['negativeDelta'] = covid['negative'].sub(covid['expectedNegatives'])\n",
    "covid['negativeDeltaRate'] = covid['negativeDelta'].div(covid['expectedNegatives'], fill_value=0)\n",
    "\n",
    "covid['expectedHospitalizations'] = covid['positive'].mul(hospitalization_rate)\n",
    "covid['hospitalDelta'] = covid['hospitalized'].sub(covid['expectedHospitalizations'])\n",
    "covid['hospitalDeltaRate'] = covid['hospitalDelta'].div(covid['expectedHospitalizations'], fill_value=0)\n",
    "\n",
    "covid['expectedDeaths'] = covid['positive'].mul(death_rate)\n",
    "covid['deathDelta'] = covid['death'].sub(covid['expectedDeaths'])\n",
    "covid['deathDeltaRate'] = covid['deathDelta'].div(covid['expectedDeaths'], fill_value=0)\n",
    "\n",
    "covid['expectedTests'] = covid['population'].mul(test_rate)\n",
    "covid['testDelta'] = covid['totalTestResults'].sub(covid['expectedTests'])\n",
    "covid['testDeltaRate'] = covid['testDelta'].div(covid['expectedTests'], fill_value=0)\n",
    "\n",
    "covid['expectedPending'] = covid['totalTestResults'].mul(pending_rate)\n",
    "covid['pendingDelta'] = covid['pending'].sub(covid['expectedPending'])\n",
    "covid['pendingDeltaRate'] = covid['pendingDelta'].div(covid['expectedPending'], fill_value=0)\n",
    "\n",
    "covid['populationShare'] = covid['population'].div(total_population, fill_value=0)\n",
    "covid['positiveShare'] = covid['positive'].div(total_positives, fill_value=0)\n",
    "covid['negativeShare'] = covid['negative'].div(total_negatives, fill_value=0)\n",
    "covid['pendingShare'] = covid['pending'].div(total_pendings, fill_value=0)\n",
    "covid['hospitalShare'] = covid['hospitalized'].div(total_hospitalized, fill_value=0)\n",
    "covid['deathShare'] = covid['death'].div(total_deaths, fill_value=0)\n",
    "covid['testShare'] = covid['totalTestResults'].div(total_test_results, fill_value=0)\n",
    "\n",
    "covid['positiveShareDelta'] = covid['positiveShare'].sub(covid['populationShare'])\n",
    "covid['hospitalShareDelta'] = covid['hospitalShare'].sub(covid['populationShare'])\n",
    "covid['deathShareDelta'] = covid['deathShare'].sub(covid['populationShare'])\n",
    "covid['testShareDelta'] = covid['testShare'].sub(covid['populationShare'])"
   ]
  },
  {
   "cell_type": "code",
   "execution_count": 51,
   "metadata": {
    "execution": {
     "iopub.execute_input": "2020-03-30T00:15:52.218Z",
     "iopub.status.busy": "2020-03-30T00:15:52.214Z",
     "iopub.status.idle": "2020-03-30T00:15:52.224Z",
     "shell.execute_reply": "2020-03-30T00:15:52.228Z"
    },
    "nteract": {
     "transient": {
      "deleting": false
     }
    }
   },
   "outputs": [],
   "source": [
    "# Define which states to track in the markdown sections below.\n",
    "# Standard Capitalization for each state name in the comma-separated list\n",
    "states_to_watch = [\"Tennessee\", \"California\", \"Indiana\", \"New York\"]"
   ]
  },
  {
   "cell_type": "markdown",
   "metadata": {},
   "source": [
    "## SARS-CoV-2 / COVID-19 Testing"
   ]
  },
  {
   "cell_type": "code",
   "execution_count": 52,
   "metadata": {
    "execution": {
     "iopub.execute_input": "2020-03-30T00:16:57.051Z",
     "iopub.status.busy": "2020-03-30T00:16:57.048Z",
     "iopub.status.idle": "2020-03-30T00:16:57.064Z",
     "shell.execute_reply": "2020-03-30T00:16:57.066Z"
    },
    "jupyter": {
     "source_hidden": true
    },
    "outputExpanded": false
   },
   "outputs": [
    {
     "data": {
      "text/markdown": [
       " | Metric | `Tennessee` | `California` | `Indiana` | `New York` | `United States` |\n",
       "| --- | ---: | ---: | ---: | ---: | ---: |\n",
       "| Positive Population % | `0.0813%` | `0.0560%` | `0.1221%` | `1.0032%` | `0.1742%` |\n",
       "| Tested Per 1M | `11,046` | `4,999` | `6,602` | `24,606` | `8,923` |\n",
       "| Positive Per 1M | `813` | `559` | `1,220` | `10,032` | `1,741` |\n",
       "| Positive Test Rate | `7.3627%` | `11.1926%` | `18.4917%` | `40.7710%` | `19.5176%` |\n",
       "| Negative Test Rate | `92.6373%` | `88.8074%` | `81.5083%` | `59.2290%` | `80.4824%` |\n",
       "| Expected Positives | `12,013` | `69,557` | `11,748` | `33,858` | `-----` |\n",
       "| Actual Positives | `5,610` | `22,348` | `8,236` | `195,031` | `577,046` |\n",
       "| Positive Delta | `-6,403` | `-47,209` | `-3,512` | `161,172` | `-----` |\n",
       "| Delta % | `-53.3015%` | `-67.8712%` | `-29.8952%` | `476.0142%` | `-----` |\n",
       "| Expected Tests | `61,550` | `356,383` | `60,192` | `173,477` | `-----` |\n",
       "| Actual Tests | `76,195` | `199,667` | `44,539` | `478,357` | `2,956,540` |\n",
       "| Test Delta | `14,644` | `-156,716` | `-15,653` | `304,879` | `-----` |\n",
       "| Delta % | `23.7921%` | `-43.9741%` | `-26.0056%` | `175.7455%` | `-----` |\n",
       "| Expected Negatives | `61,323` | `160,696` | `35,846` | `384,993` | `-----` |\n",
       "| Actual Negatives | `70,585` | `177,319` | `36,303` | `283,326` | `2,379,494` |\n",
       "| Negative Delta | `9,261` | `16,622` | `456` | `-101,667` | `-----` |\n",
       "| Delta % | `15.1026%` | `10.3438%` | `1.2748%` | `-26.4075%` | `-----` |\n",
       "| Expected Pending | `391` | `1,027` | `229` | `2,460` | `-----` |\n",
       "| Actual Pending | `0` | `13,200` | `0` | `0` | `15,209` |\n",
       "| Pending Delta | `-391` | `12,172` | `-229` | `-2,460` | `-----` |\n",
       "| Delta % | `-100.0000%` | `1185.1409%` | `-100.0000%` | `-100.0000%` | `-----` |\n"
      ],
      "text/plain": [
       "<IPython.core.display.Markdown object>"
      ]
     },
     "execution_count": 52,
     "metadata": {},
     "output_type": "execute_result"
    }
   ],
   "source": [
    "stat_tuples_array = [('Positive Population %', \"infectionRate\", infection_rate, 0),\n",
    "                     ('Tested Per 1M', \"testPC\", test_pc, 1),\n",
    "                     ('Positive Per 1M', \"positivePC\", positive_pc, 1),\n",
    "                     ('Positive Test Rate', \"positiveRate\", positive_rate, 0),\n",
    "                     ('Negative Test Rate', \"negativeRate\", negative_rate, 0),\n",
    "                     ('Expected Positives', \"expectedPositives\", '-----', 1),\n",
    "                     ('Actual Positives', \"positive\", total_positives, 1),\n",
    "                     (\"Positive Delta\", \"positiveDelta\", '-----', 1),\n",
    "                     ('Delta %', \"positiveDeltaRate\", '-----', 0),\n",
    "                     ('Expected Tests', \"expectedTests\", '-----', 1),\n",
    "                     ('Actual Tests', \"totalTestResults\", total_test_results, 1),\n",
    "                     ('Test Delta', \"testDelta\", '-----', 1),\n",
    "                     ('Delta %', \"testDeltaRate\", '-----', 0),\n",
    "                     ('Expected Negatives', \"expectedNegatives\", '-----', 1),\n",
    "                     ('Actual Negatives', \"negative\", total_negatives, 1),\n",
    "                     ('Negative Delta', \"negativeDelta\", '-----', 1),\n",
    "                     ('Delta %', \"negativeDeltaRate\", '-----', 0),\n",
    "                     ('Expected Pending', \"expectedPending\", '-----', 1),\n",
    "                     ('Actual Pending', \"pending\", total_pendings, 1),\n",
    "                     ('Pending Delta', \"pendingDelta\", '-----', 1),\n",
    "                     ('Delta %', \"pendingDeltaRate\", '-----', 0),\n",
    "                    ]\n",
    "table = \" | Metric | \"\n",
    "for state in states_to_watch:\n",
    "    table += \"`{}` | \".format(state)\n",
    "table += \"`United States` |\\n\"\n",
    "table += \"| --- | \"\n",
    "for state in states_to_watch:\n",
    "    table += \"---: | \"\n",
    "table += \"---: |\\n\"\n",
    "for field in stat_tuples_array:\n",
    "    table += \"| {} | \".format(field[0])\n",
    "    if field[3] == 0:\n",
    "        for state in states_to_watch:\n",
    "            table += \"`{:.4%}` | \".format(covid.loc[state, field[1]])\n",
    "        if isinstance(field[2], float):\n",
    "            table += \"`{:.4%}` |\\n\".format(field[2])\n",
    "        else:\n",
    "            table += \"`{}` |\\n\".format(field[2])\n",
    "    elif field[3] == 1:\n",
    "        for state in states_to_watch:\n",
    "            table += \"`{:,}` | \".format(int(covid.loc[state, field[1]]))\n",
    "        if isinstance(field[2], float) or isinstance(field[2], int):\n",
    "            table += \"`{:,}` |\\n\".format(int(field[2]))\n",
    "        else:\n",
    "            table += \"`{}` |\\n\".format(field[2])\n",
    "\n",
    "md(table)"
   ]
  },
  {
   "cell_type": "markdown",
   "metadata": {},
   "source": [
    "## Hospitalizations"
   ]
  },
  {
   "cell_type": "code",
   "execution_count": 53,
   "metadata": {
    "execution": {
     "iopub.execute_input": "2020-03-29T23:46:36.128Z",
     "iopub.status.busy": "2020-03-29T23:46:36.126Z",
     "iopub.status.idle": "2020-03-29T23:46:36.138Z",
     "shell.execute_reply": "2020-03-29T23:46:36.193Z"
    },
    "jupyter": {
     "source_hidden": true
    }
   },
   "outputs": [
    {
     "data": {
      "text/markdown": [
       " | Metric | `Tennessee` | `California` | `Indiana` | `New York` | `United States` |\n",
       "| --- | ---: | ---: | ---: | ---: | ---: |\n",
       "| Hospitalization % | `10.3209%` | `0.0000%` | `0.0000%` | `21.9001%` | `10.9655%` |\n",
       "| Positive Per 1M | `813` | `559` | `1,220` | `10,032` | `1,741` |\n",
       "| Hospital Per 1M | `83` | `0` | `0` | `2,197` | `190` |\n",
       "| Actual Positives | `5,610` | `22,348` | `8,236` | `195,031` | `577,046` |\n",
       "| Expected Hospitalizations | `615` | `2,450` | `903` | `21,386` | `-----` |\n",
       "| Actual Hospitalizations | `579` | `0` | `0` | `42,712` | `63,276` |\n",
       "| Hospitalized Delta | `-36` | `-2,450` | `-903` | `21,325` | `-----` |\n",
       "| Delta % | `-5.8789%` | `-100.0000%` | `-100.0000%` | `99.7182%` | `-----` |\n",
       "| Hospital Share | `0.9150%` | `0.0000%` | `0.0000%` | `67.5011%` | `-----` |\n"
      ],
      "text/plain": [
       "<IPython.core.display.Markdown object>"
      ]
     },
     "execution_count": 53,
     "metadata": {},
     "output_type": "execute_result"
    }
   ],
   "source": [
    "stat_tuples_array = [('Hospitalization %', \"hospitalRate\", hospitalization_rate, 0),\n",
    "                     ('Positive Per 1M', \"positivePC\", positive_pc, 1),\n",
    "                     ('Hospital Per 1M', \"hospitalPC\", hospital_pc, 1),\n",
    "                     ('Actual Positives', \"positive\", total_positives, 1),\n",
    "                     ('Expected Hospitalizations', \"expectedHospitalizations\", '-----', 1),\n",
    "                     ('Actual Hospitalizations', \"hospitalized\", total_hospitalized, 1),\n",
    "                     ('Hospitalized Delta', \"hospitalDelta\", '-----', 1),\n",
    "                     ('Delta %', \"hospitalDeltaRate\", '-----', 0),\n",
    "                     ('Hospital Share', \"hospitalShare\", '-----', 0),\n",
    "                    ]\n",
    "table = \" | Metric | \"\n",
    "for state in states_to_watch:\n",
    "    table += \"`{}` | \".format(state)\n",
    "table += \"`United States` |\\n\"\n",
    "table += \"| --- | \"\n",
    "for state in states_to_watch:\n",
    "    table += \"---: | \"\n",
    "table += \"---: |\\n\"\n",
    "for field in stat_tuples_array:\n",
    "    table += \"| {} | \".format(field[0])\n",
    "    if field[3] == 0:\n",
    "        for state in states_to_watch:\n",
    "            table += \"`{:.4%}` | \".format(covid.loc[state, field[1]])\n",
    "        if isinstance(field[2], float):\n",
    "            table += \"`{:.4%}` |\\n\".format(field[2])\n",
    "        else:\n",
    "            table += \"`{}` |\\n\".format(field[2])\n",
    "    elif field[3] == 1:\n",
    "        for state in states_to_watch:\n",
    "            table += \"`{:,}` | \".format(int(covid.loc[state, field[1]]))\n",
    "        if isinstance(field[2], float) or isinstance(field[2], int):\n",
    "            table += \"`{:,}` |\\n\".format(int(field[2]))\n",
    "        else:\n",
    "            table += \"`{}` |\\n\".format(field[2])\n",
    "\n",
    "md(table)"
   ]
  },
  {
   "cell_type": "markdown",
   "metadata": {},
   "source": [
    "## Mortality"
   ]
  },
  {
   "cell_type": "code",
   "execution_count": 54,
   "metadata": {
    "execution": {
     "iopub.execute_input": "2020-03-29T23:46:36.148Z",
     "iopub.status.busy": "2020-03-29T23:46:36.146Z",
     "iopub.status.idle": "2020-03-29T23:46:36.157Z",
     "shell.execute_reply": "2020-03-29T23:46:36.195Z"
    },
    "jupyter": {
     "source_hidden": true
    }
   },
   "outputs": [
    {
     "data": {
      "text/markdown": [
       " | Metric | `Tennessee` | `California` | `Indiana` | `New York` | `United States` |\n",
       "| --- | ---: | ---: | ---: | ---: | ---: |\n",
       "| Death Rate | `1.9430%` | `3.0741%` | `4.2496%` | `5.1561%` | `4.0562%` |\n",
       "| Positive Per 1M | `813` | `559` | `1,220` | `10,032` | `1,741` |\n",
       "| Death Per 1M | `15` | `17` | `51` | `517` | `70` |\n",
       "| Actual Positives | `5,610` | `22,348` | `8,236` | `195,031` | `577,046` |\n",
       "| Actual Hospitalizations | `579` | `0` | `0` | `42,712` | `63,276` |\n",
       "| Hospitalization % | `10.3209%` | `0.0000%` | `0.0000%` | `21.9001%` | `10.9655%` |\n",
       "| Expected Deaths | `227` | `906` | `334` | `7,910` | `-----` |\n",
       "| Actual Deaths | `109` | `687` | `350` | `10,056` | `23,406` |\n",
       "| Deaths Delta | `-118` | `-219` | `15` | `2,145` | `-----` |\n",
       "| Delta % | `-52.0987%` | `-24.2118%` | `4.7695%` | `27.1174%` | `-----` |\n",
       "| Death Share | `0.4657%` | `2.9351%` | `1.4953%` | `42.9633%` | `-----` |\n"
      ],
      "text/plain": [
       "<IPython.core.display.Markdown object>"
      ]
     },
     "execution_count": 54,
     "metadata": {},
     "output_type": "execute_result"
    }
   ],
   "source": [
    "stat_tuples_array = [('Death Rate', \"deathRate\", death_rate, 0),\n",
    "                     ('Positive Per 1M', \"positivePC\", positive_pc, 1),\n",
    "                     ('Death Per 1M', \"deathPC\", death_pc, 1),\n",
    "                     ('Actual Positives', \"positive\", total_positives, 1),\n",
    "                     ('Actual Hospitalizations', \"hospitalized\", total_hospitalized, 1),\n",
    "                     ('Hospitalization %', \"hospitalRate\", hospitalization_rate, 0),\n",
    "                     ('Expected Deaths', \"expectedDeaths\", '-----', 1),\n",
    "                     ('Actual Deaths', \"death\", total_deaths, 1),\n",
    "                     ('Deaths Delta', \"deathDelta\", '-----', 1),\n",
    "                     ('Delta %', \"deathDeltaRate\", '-----', 0),\n",
    "                     ('Death Share', \"deathShare\", '-----', 0),\n",
    "                    ]\n",
    "table = \" | Metric | \"\n",
    "for state in states_to_watch:\n",
    "    table += \"`{}` | \".format(state)\n",
    "table += \"`United States` |\\n\"\n",
    "table += \"| --- | \"\n",
    "for state in states_to_watch:\n",
    "    table += \"---: | \"\n",
    "table += \"---: |\\n\"\n",
    "for field in stat_tuples_array:\n",
    "    table += \"| {} | \".format(field[0])\n",
    "    if field[3] == 0:\n",
    "        for state in states_to_watch:\n",
    "            table += \"`{:.4%}` | \".format(covid.loc[state, field[1]])\n",
    "        if isinstance(field[2], float):\n",
    "            table += \"`{:.4%}` |\\n\".format(field[2])\n",
    "        else:\n",
    "            table += \"`{}` |\\n\".format(field[2])\n",
    "    elif field[3] == 1:\n",
    "        for state in states_to_watch:\n",
    "            table += \"`{:,}` | \".format(int(covid.loc[state, field[1]]))\n",
    "        if isinstance(field[2], float) or isinstance(field[2], int):\n",
    "            table += \"`{:,}` |\\n\".format(int(field[2]))\n",
    "        else:\n",
    "            table += \"`{}` |\\n\".format(field[2])\n",
    "\n",
    "md(table)"
   ]
  },
  {
   "cell_type": "markdown",
   "metadata": {},
   "source": [
    "## Percent Share of Total US"
   ]
  },
  {
   "cell_type": "code",
   "execution_count": 55,
   "metadata": {
    "execution": {
     "iopub.execute_input": "2020-03-30T00:16:53.654Z",
     "iopub.status.busy": "2020-03-30T00:16:53.650Z",
     "iopub.status.idle": "2020-03-30T00:16:53.662Z",
     "shell.execute_reply": "2020-03-30T00:16:53.665Z"
    },
    "jupyter": {
     "source_hidden": true
    }
   },
   "outputs": [
    {
     "data": {
      "text/markdown": [
       " | Metric | `Tennessee` | `California` | `Indiana` | `New York` | `United States` |\n",
       "| --- | ---: | ---: | ---: | ---: | ---: |\n",
       "| Population Share | `2.0819%` | `12.0541%` | `2.0359%` | `5.8676%` | `-----` |\n",
       "| Positive Share | `0.9722%` | `3.8728%` | `1.4273%` | `33.7982%` | `-----` |\n",
       "| Hospital Share | `0.9150%` | `0.0000%` | `0.0000%` | `67.5011%` | `-----` |\n",
       "| Death Share | `0.4657%` | `2.9351%` | `1.4953%` | `42.9633%` | `-----` |\n",
       "| Test Share | `2.5772%` | `6.7534%` | `1.5065%` | `16.1796%` | `-----` |\n",
       "| Negative Share | `2.9664%` | `7.4520%` | `1.5257%` | `11.9070%` | `-----` |\n",
       "| Pending Share | `0.0000%` | `86.7907%` | `0.0000%` | `0.0000%` | `-----` |\n"
      ],
      "text/plain": [
       "<IPython.core.display.Markdown object>"
      ]
     },
     "execution_count": 55,
     "metadata": {},
     "output_type": "execute_result"
    }
   ],
   "source": [
    "stat_tuples_array = [('Population Share', \"populationShare\", '-----', 0),\n",
    "                     ('Positive Share', \"positiveShare\", '-----', 0),\n",
    "                     ('Hospital Share', \"hospitalShare\", '-----', 0),\n",
    "                     ('Death Share', \"deathShare\", '-----', 0),\n",
    "                     ('Test Share', \"testShare\", '-----', 0),\n",
    "                     ('Negative Share', \"negativeShare\", '-----', 0),\n",
    "                     ('Pending Share', \"pendingShare\", '-----', 0),\n",
    "                    ]\n",
    "table = \" | Metric | \"\n",
    "for state in states_to_watch:\n",
    "    table += \"`{}` | \".format(state)\n",
    "table += \"`United States` |\\n\"\n",
    "table += \"| --- | \"\n",
    "for state in states_to_watch:\n",
    "    table += \"---: | \"\n",
    "table += \"---: |\\n\"\n",
    "for field in stat_tuples_array:\n",
    "    table += \"| {} | \".format(field[0])\n",
    "    if field[3] == 0:\n",
    "        for state in states_to_watch:\n",
    "            table += \"`{:.4%}` | \".format(covid.loc[state, field[1]])\n",
    "        if isinstance(field[2], float):\n",
    "            table += \"`{:.4%}` |\\n\".format(field[2])\n",
    "        else:\n",
    "            table += \"`{}` |\\n\".format(field[2])\n",
    "    elif field[3] == 1:\n",
    "        for state in states_to_watch:\n",
    "            table += \"`{:,}` | \".format(int(covid.loc[state, field[1]]))\n",
    "        if isinstance(field[2], float) or isinstance(field[2], int):\n",
    "            table += \"`{:,}` |\\n\".format(int(field[2]))\n",
    "        else:\n",
    "            table += \"`{}` |\\n\".format(field[2])\n",
    "\n",
    "md(table)"
   ]
  },
  {
   "cell_type": "markdown",
   "metadata": {},
   "source": [
    "## Charts"
   ]
  },
  {
   "cell_type": "code",
   "execution_count": 56,
   "metadata": {
    "execution": {
     "iopub.execute_input": "2020-03-29T23:46:36.176Z",
     "iopub.status.busy": "2020-03-29T23:46:36.174Z",
     "iopub.status.idle": "2020-03-29T23:46:36.487Z",
     "shell.execute_reply": "2020-03-29T23:46:36.509Z"
    },
    "jupyter": {
     "source_hidden": true
    }
   },
   "outputs": [
    {
     "data": {
      "text/html": [
       "\n",
       "\n",
       "\n",
       "\n",
       "\n",
       "\n",
       "  <div class=\"bk-root\" id=\"98b8d271-72f8-4e06-9ca7-d5267150887e\" data-root-id=\"4140\"></div>\n"
      ]
     },
     "metadata": {},
     "output_type": "display_data"
    },
    {
     "data": {
      "application/javascript": [
       "(function(root) {\n",
       "  function embed_document(root) {\n",
       "    \n",
       "  var docs_json = {\"882778fb-33b0-4107-b776-d85cdc254dbe\":{\"roots\":{\"references\":[{\"attributes\":{\"tabs\":[{\"id\":\"4132\"},{\"id\":\"4133\"},{\"id\":\"4134\"},{\"id\":\"4135\"},{\"id\":\"4136\"},{\"id\":\"4137\"},{\"id\":\"4138\"},{\"id\":\"4139\"}]},\"id\":\"4140\",\"type\":\"Tabs\"},{\"attributes\":{\"below\":[{\"id\":\"3943\"}],\"center\":[{\"id\":\"3946\"},{\"id\":\"3949\"}],\"left\":[{\"id\":\"3947\"}],\"plot_height\":1000,\"plot_width\":800,\"renderers\":[{\"id\":\"3968\"}],\"title\":{\"id\":\"3933\"},\"toolbar\":{\"id\":\"3957\"},\"toolbar_location\":\"above\",\"x_range\":{\"id\":\"3935\"},\"x_scale\":{\"id\":\"3939\"},\"y_range\":{\"id\":\"3937\"},\"y_scale\":{\"id\":\"3941\"}},\"id\":\"3932\",\"subtype\":\"Figure\",\"type\":\"Plot\"},{\"attributes\":{},\"id\":\"3981\",\"type\":\"CategoricalScale\"},{\"attributes\":{},\"id\":\"3871\",\"type\":\"WheelZoomTool\"},{\"attributes\":{},\"id\":\"3835\",\"type\":\"HelpTool\"},{\"attributes\":{},\"id\":\"3979\",\"type\":\"LinearScale\"},{\"attributes\":{},\"id\":\"3870\",\"type\":\"PanTool\"},{\"attributes\":{\"source\":{\"id\":\"3811\"}},\"id\":\"3929\",\"type\":\"CDSView\"},{\"attributes\":{\"active_drag\":\"auto\",\"active_inspect\":\"auto\",\"active_multi\":null,\"active_scroll\":\"auto\",\"active_tap\":\"auto\",\"tools\":[{\"id\":\"3870\"},{\"id\":\"3871\"},{\"id\":\"3872\"},{\"id\":\"3873\"},{\"id\":\"3874\"},{\"id\":\"3875\"},{\"id\":\"3876\"}]},\"id\":\"3877\",\"type\":\"Toolbar\"},{\"attributes\":{\"data_source\":{\"id\":\"3811\"},\"glyph\":{\"id\":\"3926\"},\"hover_glyph\":null,\"muted_glyph\":null,\"nonselection_glyph\":{\"id\":\"3927\"},\"selection_glyph\":null,\"view\":{\"id\":\"3929\"}},\"id\":\"3928\",\"type\":\"GlyphRenderer\"},{\"attributes\":{\"end\":187192.22191326588,\"start\":-73229.51543857015},\"id\":\"3975\",\"type\":\"DataRange1d\"},{\"attributes\":{\"fill_alpha\":{\"value\":0.1},\"fill_color\":{\"value\":\"#1f77b4\"},\"height\":{\"value\":0.5},\"line_alpha\":{\"value\":0.1},\"line_color\":{\"value\":\"white\"},\"right\":{\"field\":\"death\"},\"y\":{\"field\":\"state_name\"}},\"id\":\"3887\",\"type\":\"HBar\"},{\"attributes\":{\"factors\":[\"Wyoming\",\"West Virginia\",\"Wisconsin\",\"Washington\",\"Vermont\",\"Virginia\",\"Utah\",\"Texas\",\"Tennessee\",\"South Dakota\",\"South Carolina\",\"Rhode Island\",\"Pennsylvania\",\"Oregon\",\"Oklahoma\",\"Ohio\",\"New York\",\"Nevada\",\"New Mexico\",\"New Jersey\",\"New Hampshire\",\"Nebraska\",\"North Dakota\",\"North Carolina\",\"Montana\",\"Mississippi\",\"Missouri\",\"Minnesota\",\"Michigan\",\"Maine\",\"Maryland\",\"Massachusetts\",\"Louisiana\",\"Kentucky\",\"Kansas\",\"Indiana\",\"Illinois\",\"Idaho\",\"Iowa\",\"Hawaii\",\"Georgia\",\"Florida\",\"Delaware\",\"District of Columbia\",\"Connecticut\",\"Colorado\",\"California\",\"Arizona\",\"Arkansas\",\"Alabama\",\"Alaska\"]},\"id\":\"3977\",\"type\":\"FactorRange\"},{\"attributes\":{},\"id\":\"3834\",\"type\":\"ResetTool\"},{\"attributes\":{\"fill_color\":{\"value\":\"#1f77b4\"},\"height\":{\"value\":0.5},\"line_color\":{\"value\":\"white\"},\"right\":{\"field\":\"death\"},\"y\":{\"field\":\"state_name\"}},\"id\":\"3886\",\"type\":\"HBar\"},{\"attributes\":{\"factors\":[\"Wyoming\",\"West Virginia\",\"Wisconsin\",\"Washington\",\"Vermont\",\"Virginia\",\"Utah\",\"Texas\",\"Tennessee\",\"South Dakota\",\"South Carolina\",\"Rhode Island\",\"Pennsylvania\",\"Oregon\",\"Oklahoma\",\"Ohio\",\"New York\",\"Nevada\",\"New Mexico\",\"New Jersey\",\"New Hampshire\",\"Nebraska\",\"North Dakota\",\"North Carolina\",\"Montana\",\"Mississippi\",\"Missouri\",\"Minnesota\",\"Michigan\",\"Maine\",\"Maryland\",\"Massachusetts\",\"Louisiana\",\"Kentucky\",\"Kansas\",\"Indiana\",\"Illinois\",\"Idaho\",\"Iowa\",\"Hawaii\",\"Georgia\",\"Florida\",\"Delaware\",\"District of Columbia\",\"Connecticut\",\"Colorado\",\"California\",\"Arizona\",\"Arkansas\",\"Alabama\",\"Alaska\"]},\"id\":\"3937\",\"type\":\"FactorRange\"},{\"attributes\":{},\"id\":\"3988\",\"type\":\"CategoricalTicker\"},{\"attributes\":{\"overlay\":{\"id\":\"4347\"}},\"id\":\"3832\",\"type\":\"BoxZoomTool\"},{\"attributes\":{\"callback\":null,\"tooltips\":[[\"State\",\"@state_name\"],[\"Deaths\",\"@death{0,0}\"]]},\"id\":\"3876\",\"type\":\"HoverTool\"},{\"attributes\":{\"end\":0.0118161802616941,\"start\":0},\"id\":\"3935\",\"type\":\"DataRange1d\"},{\"attributes\":{\"formatter\":{\"id\":\"4320\"},\"ticker\":{\"id\":\"3988\"}},\"id\":\"3987\",\"type\":\"CategoricalAxis\"},{\"attributes\":{},\"id\":\"3824\",\"type\":\"BasicTicker\"},{\"attributes\":{},\"id\":\"3875\",\"type\":\"HelpTool\"},{\"attributes\":{\"text\":\"COVID US National Infection Rate: 0.1742%\"},\"id\":\"3933\",\"type\":\"Title\"},{\"attributes\":{\"axis\":{\"id\":\"3983\"},\"ticker\":null},\"id\":\"3986\",\"type\":\"Grid\"},{\"attributes\":{},\"id\":\"3874\",\"type\":\"ResetTool\"},{\"attributes\":{},\"id\":\"3984\",\"type\":\"BasicTicker\"},{\"attributes\":{},\"id\":\"4028\",\"type\":\"CategoricalTicker\"},{\"attributes\":{\"callback\":null,\"tooltips\":[[\"State\",\"@state_name\"],[\"Cases\",\"@positive{0,0}\"]]},\"id\":\"3836\",\"type\":\"HoverTool\"},{\"attributes\":{},\"id\":\"3873\",\"type\":\"SaveTool\"},{\"attributes\":{\"active_drag\":\"auto\",\"active_inspect\":\"auto\",\"active_multi\":null,\"active_scroll\":\"auto\",\"active_tap\":\"auto\",\"tools\":[{\"id\":\"3910\"},{\"id\":\"3911\"},{\"id\":\"3912\"},{\"id\":\"3913\"},{\"id\":\"3914\"},{\"id\":\"3915\"},{\"id\":\"3916\"}]},\"id\":\"3917\",\"type\":\"Toolbar\"},{\"attributes\":{\"fill_alpha\":{\"value\":0.1},\"fill_color\":{\"value\":\"#1f77b4\"},\"height\":{\"value\":0.5},\"line_alpha\":{\"value\":0.1},\"line_color\":{\"value\":\"#1f77b4\"},\"right\":{\"field\":\"infectionRate\"},\"y\":{\"field\":\"state_name\"}},\"id\":\"3967\",\"type\":\"HBar\"},{\"attributes\":{\"axis_label\":\"Actual Covid Cases - Expected Covid Cases\",\"formatter\":{\"id\":\"4010\"},\"ticker\":{\"id\":\"3984\"}},\"id\":\"3983\",\"type\":\"LinearAxis\"},{\"attributes\":{\"overlay\":{\"id\":\"4348\"}},\"id\":\"3872\",\"type\":\"BoxZoomTool\"},{\"attributes\":{\"active_drag\":\"auto\",\"active_inspect\":\"auto\",\"active_multi\":null,\"active_scroll\":\"auto\",\"active_tap\":\"auto\",\"tools\":[{\"id\":\"3830\"},{\"id\":\"3831\"},{\"id\":\"3832\"},{\"id\":\"3833\"},{\"id\":\"3834\"},{\"id\":\"3835\"},{\"id\":\"3836\"}]},\"id\":\"3837\",\"type\":\"Toolbar\"},{\"attributes\":{\"end\":48681.19389296115,\"start\":0},\"id\":\"3895\",\"type\":\"DataRange1d\"},{\"attributes\":{},\"id\":\"3991\",\"type\":\"WheelZoomTool\"},{\"attributes\":{\"axis\":{\"id\":\"3943\"},\"ticker\":null},\"id\":\"3946\",\"type\":\"Grid\"},{\"attributes\":{},\"id\":\"3830\",\"type\":\"PanTool\"},{\"attributes\":{},\"id\":\"3990\",\"type\":\"PanTool\"},{\"attributes\":{\"fill_alpha\":{\"value\":0.1},\"fill_color\":{\"value\":\"#1f77b4\"},\"height\":{\"value\":0.5},\"line_alpha\":{\"value\":0.1},\"line_color\":{\"value\":\"white\"},\"right\":{\"field\":\"hospitalized\"},\"y\":{\"field\":\"state_name\"}},\"id\":\"3927\",\"type\":\"HBar\"},{\"attributes\":{\"active_drag\":\"auto\",\"active_inspect\":\"auto\",\"active_multi\":null,\"active_scroll\":\"auto\",\"active_tap\":\"auto\",\"tools\":[{\"id\":\"3990\"},{\"id\":\"3991\"},{\"id\":\"3992\"},{\"id\":\"3993\"},{\"id\":\"3994\"},{\"id\":\"3995\"},{\"id\":\"3996\"}]},\"id\":\"3997\",\"type\":\"Toolbar\"},{\"attributes\":{\"text\":\"COVID Hospitalized: 63,276 - Hospitalization Rate: 10.97%\"},\"id\":\"3893\",\"type\":\"Title\"},{\"attributes\":{},\"id\":\"3944\",\"type\":\"BasicTicker\"},{\"attributes\":{},\"id\":\"3831\",\"type\":\"WheelZoomTool\"},{\"attributes\":{},\"id\":\"4010\",\"type\":\"NumeralTickFormatter\"},{\"attributes\":{\"below\":[{\"id\":\"3863\"}],\"center\":[{\"id\":\"3866\"},{\"id\":\"3869\"}],\"left\":[{\"id\":\"3867\"}],\"plot_height\":1000,\"plot_width\":800,\"renderers\":[{\"id\":\"3888\"}],\"title\":{\"id\":\"3853\"},\"toolbar\":{\"id\":\"3877\"},\"toolbar_location\":\"above\",\"x_range\":{\"id\":\"3855\"},\"x_scale\":{\"id\":\"3859\"},\"y_range\":{\"id\":\"3857\"},\"y_scale\":{\"id\":\"3861\"}},\"id\":\"3852\",\"subtype\":\"Figure\",\"type\":\"Plot\"},{\"attributes\":{\"axis_label\":\"Confirmed Cases as % of State Population\",\"formatter\":{\"id\":\"3970\"},\"ticker\":{\"id\":\"3944\"}},\"id\":\"3943\",\"type\":\"LinearAxis\"},{\"attributes\":{\"source\":{\"id\":\"3811\"}},\"id\":\"3889\",\"type\":\"CDSView\"},{\"attributes\":{\"data_source\":{\"id\":\"3811\"},\"glyph\":{\"id\":\"3886\"},\"hover_glyph\":null,\"muted_glyph\":null,\"nonselection_glyph\":{\"id\":\"3887\"},\"selection_glyph\":null,\"view\":{\"id\":\"3889\"}},\"id\":\"3888\",\"type\":\"GlyphRenderer\"},{\"attributes\":{\"fill_color\":{\"value\":\"#1f77b4\"},\"height\":{\"value\":0.5},\"line_color\":{\"value\":\"#1f77b4\"},\"right\":{\"field\":\"positiveDelta\"},\"y\":{\"field\":\"state_name\"}},\"id\":\"4006\",\"type\":\"HBar\"},{\"attributes\":{},\"id\":\"3941\",\"type\":\"CategoricalScale\"},{\"attributes\":{\"source\":{\"id\":\"3811\"}},\"id\":\"3849\",\"type\":\"CDSView\"},{\"attributes\":{\"text\":\"COVID US Confirmed / Expected Delta\"},\"id\":\"3973\",\"type\":\"Title\"},{\"attributes\":{},\"id\":\"3939\",\"type\":\"LinearScale\"},{\"attributes\":{\"axis\":{\"id\":\"3987\"},\"dimension\":1,\"grid_line_color\":null,\"ticker\":null},\"id\":\"3989\",\"type\":\"Grid\"},{\"attributes\":{\"data_source\":{\"id\":\"3811\"},\"glyph\":{\"id\":\"3846\"},\"hover_glyph\":null,\"muted_glyph\":null,\"nonselection_glyph\":{\"id\":\"3847\"},\"selection_glyph\":null,\"view\":{\"id\":\"3849\"}},\"id\":\"3848\",\"type\":\"GlyphRenderer\"},{\"attributes\":{\"formatter\":{\"id\":\"4329\"},\"ticker\":{\"id\":\"3828\"}},\"id\":\"3827\",\"type\":\"CategoricalAxis\"},{\"attributes\":{\"format\":\"0.0000%\"},\"id\":\"3970\",\"type\":\"NumeralTickFormatter\"},{\"attributes\":{\"callback\":null,\"tooltips\":[[\"State\",\"@state_name\"],[\"Positive Delta\",\"@positiveDelta{0,0}\"]]},\"id\":\"3996\",\"type\":\"HoverTool\"},{\"attributes\":{\"axis_label\":\"Confirmed Hospitalizations\",\"formatter\":{\"id\":\"3930\"},\"ticker\":{\"id\":\"3904\"}},\"id\":\"3903\",\"type\":\"LinearAxis\"},{\"attributes\":{\"fill_color\":{\"value\":\"#1f77b4\"},\"height\":{\"value\":0.5},\"line_color\":{\"value\":\"#1f77b4\"},\"right\":{\"field\":\"infectionRate\"},\"y\":{\"field\":\"state_name\"}},\"id\":\"3966\",\"type\":\"HBar\"},{\"attributes\":{},\"id\":\"3995\",\"type\":\"HelpTool\"},{\"attributes\":{},\"id\":\"3828\",\"type\":\"CategoricalTicker\"},{\"attributes\":{},\"id\":\"3901\",\"type\":\"CategoricalScale\"},{\"attributes\":{\"axis\":{\"id\":\"3827\"},\"dimension\":1,\"grid_line_color\":null,\"ticker\":null},\"id\":\"3829\",\"type\":\"Grid\"},{\"attributes\":{},\"id\":\"3994\",\"type\":\"ResetTool\"},{\"attributes\":{\"axis\":{\"id\":\"3947\"},\"dimension\":1,\"grid_line_color\":null,\"ticker\":null},\"id\":\"3949\",\"type\":\"Grid\"},{\"attributes\":{},\"id\":\"3899\",\"type\":\"LinearScale\"},{\"attributes\":{\"factors\":[\"Wyoming\",\"West Virginia\",\"Wisconsin\",\"Washington\",\"Vermont\",\"Virginia\",\"Utah\",\"Texas\",\"Tennessee\",\"South Dakota\",\"South Carolina\",\"Rhode Island\",\"Pennsylvania\",\"Oregon\",\"Oklahoma\",\"Ohio\",\"New York\",\"Nevada\",\"New Mexico\",\"New Jersey\",\"New Hampshire\",\"Nebraska\",\"North Dakota\",\"North Carolina\",\"Montana\",\"Mississippi\",\"Missouri\",\"Minnesota\",\"Michigan\",\"Maine\",\"Maryland\",\"Massachusetts\",\"Louisiana\",\"Kentucky\",\"Kansas\",\"Indiana\",\"Illinois\",\"Idaho\",\"Iowa\",\"Hawaii\",\"Georgia\",\"Florida\",\"Delaware\",\"District of Columbia\",\"Connecticut\",\"Colorado\",\"California\",\"Arizona\",\"Arkansas\",\"Alabama\",\"Alaska\"]},\"id\":\"3897\",\"type\":\"FactorRange\"},{\"attributes\":{},\"id\":\"3993\",\"type\":\"SaveTool\"},{\"attributes\":{\"below\":[{\"id\":\"3823\"}],\"center\":[{\"id\":\"3826\"},{\"id\":\"3829\"}],\"left\":[{\"id\":\"3827\"}],\"plot_height\":1000,\"plot_width\":800,\"renderers\":[{\"id\":\"3848\"}],\"title\":{\"id\":\"3813\"},\"toolbar\":{\"id\":\"3837\"},\"toolbar_location\":\"above\",\"x_range\":{\"id\":\"3815\"},\"x_scale\":{\"id\":\"3819\"},\"y_range\":{\"id\":\"3817\"},\"y_scale\":{\"id\":\"3821\"}},\"id\":\"3812\",\"subtype\":\"Figure\",\"type\":\"Plot\"},{\"attributes\":{},\"id\":\"3948\",\"type\":\"CategoricalTicker\"},{\"attributes\":{\"fill_alpha\":{\"value\":0.1},\"fill_color\":{\"value\":\"#1f77b4\"},\"height\":{\"value\":0.5},\"line_alpha\":{\"value\":0.1},\"line_color\":{\"value\":\"white\"},\"right\":{\"field\":\"positive\"},\"y\":{\"field\":\"state_name\"}},\"id\":\"3847\",\"type\":\"HBar\"},{\"attributes\":{\"axis\":{\"id\":\"3867\"},\"dimension\":1,\"grid_line_color\":null,\"ticker\":null},\"id\":\"3869\",\"type\":\"Grid\"},{\"attributes\":{},\"id\":\"3833\",\"type\":\"SaveTool\"},{\"attributes\":{},\"id\":\"3915\",\"type\":\"HelpTool\"},{\"attributes\":{\"overlay\":{\"id\":\"4344\"}},\"id\":\"3992\",\"type\":\"BoxZoomTool\"},{\"attributes\":{\"fill_color\":{\"value\":\"#1f77b4\"},\"height\":{\"value\":0.5},\"line_color\":{\"value\":\"white\"},\"right\":{\"field\":\"positive\"},\"y\":{\"field\":\"state_name\"}},\"id\":\"3846\",\"type\":\"HBar\"},{\"attributes\":{\"callback\":null,\"tooltips\":[[\"State\",\"@state_name\"],[\"Hospitalized\",\"@hospitalized{0,0}\"]]},\"id\":\"3916\",\"type\":\"HoverTool\"},{\"attributes\":{\"formatter\":{\"id\":\"4317\"},\"ticker\":{\"id\":\"3948\"}},\"id\":\"3947\",\"type\":\"CategoricalAxis\"},{\"attributes\":{\"factors\":[\"Wyoming\",\"West Virginia\",\"Wisconsin\",\"Washington\",\"Vermont\",\"Virginia\",\"Utah\",\"Texas\",\"Tennessee\",\"South Dakota\",\"South Carolina\",\"Rhode Island\",\"Pennsylvania\",\"Oregon\",\"Oklahoma\",\"Ohio\",\"New York\",\"Nevada\",\"New Mexico\",\"New Jersey\",\"New Hampshire\",\"Nebraska\",\"North Dakota\",\"North Carolina\",\"Montana\",\"Mississippi\",\"Missouri\",\"Minnesota\",\"Michigan\",\"Maine\",\"Maryland\",\"Massachusetts\",\"Louisiana\",\"Kentucky\",\"Kansas\",\"Indiana\",\"Illinois\",\"Idaho\",\"Iowa\",\"Hawaii\",\"Georgia\",\"Florida\",\"Delaware\",\"District of Columbia\",\"Connecticut\",\"Colorado\",\"California\",\"Arizona\",\"Arkansas\",\"Alabama\",\"Alaska\"]},\"id\":\"3857\",\"type\":\"FactorRange\"},{\"attributes\":{},\"id\":\"3954\",\"type\":\"ResetTool\"},{\"attributes\":{},\"id\":\"4323\",\"type\":\"CategoricalTickFormatter\"},{\"attributes\":{\"axis\":{\"id\":\"3907\"},\"dimension\":1,\"grid_line_color\":null,\"ticker\":null},\"id\":\"3909\",\"type\":\"Grid\"},{\"attributes\":{\"below\":[{\"id\":\"4023\"}],\"center\":[{\"id\":\"4026\"},{\"id\":\"4029\"}],\"left\":[{\"id\":\"4027\"}],\"plot_height\":1000,\"plot_width\":800,\"renderers\":[{\"id\":\"4048\"}],\"title\":{\"id\":\"4013\"},\"toolbar\":{\"id\":\"4037\"},\"toolbar_location\":\"above\",\"x_range\":{\"id\":\"4015\"},\"x_scale\":{\"id\":\"4019\"},\"y_range\":{\"id\":\"4017\"},\"y_scale\":{\"id\":\"4021\"}},\"id\":\"4012\",\"subtype\":\"Figure\",\"type\":\"Plot\"},{\"attributes\":{\"end\":11494.949733823454,\"start\":0},\"id\":\"3855\",\"type\":\"DataRange1d\"},{\"attributes\":{},\"id\":\"3953\",\"type\":\"SaveTool\"},{\"attributes\":{},\"id\":\"3908\",\"type\":\"CategoricalTicker\"},{\"attributes\":{\"text\":\"COVID Deaths: 23,406 - Death Rate: 4.06%\"},\"id\":\"3853\",\"type\":\"Title\"},{\"attributes\":{\"overlay\":{\"id\":\"4343\"}},\"id\":\"3952\",\"type\":\"BoxZoomTool\"},{\"attributes\":{\"source\":{\"id\":\"3811\"}},\"id\":\"4009\",\"type\":\"CDSView\"},{\"attributes\":{\"below\":[{\"id\":\"3903\"}],\"center\":[{\"id\":\"3906\"},{\"id\":\"3909\"}],\"left\":[{\"id\":\"3907\"}],\"plot_height\":1000,\"plot_width\":800,\"renderers\":[{\"id\":\"3928\"}],\"title\":{\"id\":\"3893\"},\"toolbar\":{\"id\":\"3917\"},\"toolbar_location\":\"above\",\"x_range\":{\"id\":\"3895\"},\"x_scale\":{\"id\":\"3899\"},\"y_range\":{\"id\":\"3897\"},\"y_scale\":{\"id\":\"3901\"}},\"id\":\"3892\",\"subtype\":\"Figure\",\"type\":\"Plot\"},{\"attributes\":{\"formatter\":{\"id\":\"4335\"},\"ticker\":{\"id\":\"3908\"}},\"id\":\"3907\",\"type\":\"CategoricalAxis\"},{\"attributes\":{},\"id\":\"3951\",\"type\":\"WheelZoomTool\"},{\"attributes\":{\"data_source\":{\"id\":\"3811\"},\"glyph\":{\"id\":\"4006\"},\"hover_glyph\":null,\"muted_glyph\":null,\"nonselection_glyph\":{\"id\":\"4007\"},\"selection_glyph\":null,\"view\":{\"id\":\"4009\"}},\"id\":\"4008\",\"type\":\"GlyphRenderer\"},{\"attributes\":{\"axis\":{\"id\":\"3903\"},\"ticker\":null},\"id\":\"3906\",\"type\":\"Grid\"},{\"attributes\":{\"formatter\":{\"id\":\"4323\"},\"ticker\":{\"id\":\"4028\"}},\"id\":\"4027\",\"type\":\"CategoricalAxis\"},{\"attributes\":{},\"id\":\"3890\",\"type\":\"NumeralTickFormatter\"},{\"attributes\":{\"axis\":{\"id\":\"3823\"},\"ticker\":null},\"id\":\"3826\",\"type\":\"Grid\"},{\"attributes\":{},\"id\":\"3950\",\"type\":\"PanTool\"},{\"attributes\":{\"active_drag\":\"auto\",\"active_inspect\":\"auto\",\"active_multi\":null,\"active_scroll\":\"auto\",\"active_tap\":\"auto\",\"tools\":[{\"id\":\"3950\"},{\"id\":\"3951\"},{\"id\":\"3952\"},{\"id\":\"3953\"},{\"id\":\"3954\"},{\"id\":\"3955\"},{\"id\":\"3956\"}]},\"id\":\"3957\",\"type\":\"Toolbar\"},{\"attributes\":{},\"id\":\"3904\",\"type\":\"BasicTicker\"},{\"attributes\":{\"axis\":{\"id\":\"3863\"},\"ticker\":null},\"id\":\"3866\",\"type\":\"Grid\"},{\"attributes\":{\"source\":{\"id\":\"3811\"}},\"id\":\"3969\",\"type\":\"CDSView\"},{\"attributes\":{\"overlay\":{\"id\":\"4349\"}},\"id\":\"3912\",\"type\":\"BoxZoomTool\"},{\"attributes\":{},\"id\":\"4019\",\"type\":\"LinearScale\"},{\"attributes\":{},\"id\":\"3864\",\"type\":\"BasicTicker\"},{\"attributes\":{},\"id\":\"3911\",\"type\":\"WheelZoomTool\"},{\"attributes\":{\"data_source\":{\"id\":\"3811\"},\"glyph\":{\"id\":\"3966\"},\"hover_glyph\":null,\"muted_glyph\":null,\"nonselection_glyph\":{\"id\":\"3967\"},\"selection_glyph\":null,\"view\":{\"id\":\"3969\"}},\"id\":\"3968\",\"type\":\"GlyphRenderer\"},{\"attributes\":{\"factors\":[\"Wyoming\",\"West Virginia\",\"Wisconsin\",\"Washington\",\"Vermont\",\"Virginia\",\"Utah\",\"Texas\",\"Tennessee\",\"South Dakota\",\"South Carolina\",\"Rhode Island\",\"Pennsylvania\",\"Oregon\",\"Oklahoma\",\"Ohio\",\"New York\",\"Nevada\",\"New Mexico\",\"New Jersey\",\"New Hampshire\",\"Nebraska\",\"North Dakota\",\"North Carolina\",\"Montana\",\"Mississippi\",\"Missouri\",\"Minnesota\",\"Michigan\",\"Maine\",\"Maryland\",\"Massachusetts\",\"Louisiana\",\"Kentucky\",\"Kansas\",\"Indiana\",\"Illinois\",\"Idaho\",\"Iowa\",\"Hawaii\",\"Georgia\",\"Florida\",\"Delaware\",\"District of Columbia\",\"Connecticut\",\"Colorado\",\"California\",\"Arizona\",\"Arkansas\",\"Alabama\",\"Alaska\"]},\"id\":\"4017\",\"type\":\"FactorRange\"},{\"attributes\":{\"axis_label\":\"Confirmed Deaths\",\"formatter\":{\"id\":\"3890\"},\"ticker\":{\"id\":\"3864\"}},\"id\":\"3863\",\"type\":\"LinearAxis\"},{\"attributes\":{},\"id\":\"3910\",\"type\":\"PanTool\"},{\"attributes\":{\"end\":0.3874001847742603,\"start\":0},\"id\":\"4015\",\"type\":\"DataRange1d\"},{\"attributes\":{},\"id\":\"3861\",\"type\":\"CategoricalScale\"},{\"attributes\":{\"callback\":null,\"tooltips\":[[\"State\",\"@state_name\"],[\"Inf. Rate\",\"@infectionRate{0.0000%}\"]]},\"id\":\"3956\",\"type\":\"HoverTool\"},{\"attributes\":{},\"id\":\"3930\",\"type\":\"NumeralTickFormatter\"},{\"attributes\":{\"fill_alpha\":{\"value\":0.1},\"fill_color\":{\"value\":\"#1f77b4\"},\"height\":{\"value\":0.5},\"line_alpha\":{\"value\":0.1},\"line_color\":{\"value\":\"#1f77b4\"},\"right\":{\"field\":\"positiveDelta\"},\"y\":{\"field\":\"state_name\"}},\"id\":\"4007\",\"type\":\"HBar\"},{\"attributes\":{},\"id\":\"3868\",\"type\":\"CategoricalTicker\"},{\"attributes\":{},\"id\":\"3914\",\"type\":\"ResetTool\"},{\"attributes\":{\"text\":\"COVID US Percentage Share of Confirmed Cases by State\"},\"id\":\"4013\",\"type\":\"Title\"},{\"attributes\":{},\"id\":\"3859\",\"type\":\"LinearScale\"},{\"attributes\":{},\"id\":\"3955\",\"type\":\"HelpTool\"},{\"attributes\":{\"fill_color\":{\"value\":\"#1f77b4\"},\"height\":{\"value\":0.5},\"line_color\":{\"value\":\"white\"},\"right\":{\"field\":\"hospitalized\"},\"y\":{\"field\":\"state_name\"}},\"id\":\"3926\",\"type\":\"HBar\"},{\"attributes\":{\"format\":\"0.0000%\"},\"id\":\"4050\",\"type\":\"NumeralTickFormatter\"},{\"attributes\":{\"axis_label\":\"Confirmed Cases as % of Total US Cases\",\"formatter\":{\"id\":\"4050\"},\"ticker\":{\"id\":\"4024\"}},\"id\":\"4023\",\"type\":\"LinearAxis\"},{\"attributes\":{\"formatter\":{\"id\":\"4332\"},\"ticker\":{\"id\":\"3868\"}},\"id\":\"3867\",\"type\":\"CategoricalAxis\"},{\"attributes\":{\"below\":[{\"id\":\"3983\"}],\"center\":[{\"id\":\"3986\"},{\"id\":\"3989\"}],\"left\":[{\"id\":\"3987\"}],\"plot_height\":1000,\"plot_width\":800,\"renderers\":[{\"id\":\"4008\"}],\"title\":{\"id\":\"3973\"},\"toolbar\":{\"id\":\"3997\"},\"toolbar_location\":\"above\",\"x_range\":{\"id\":\"3975\"},\"x_scale\":{\"id\":\"3979\"},\"y_range\":{\"id\":\"3977\"},\"y_scale\":{\"id\":\"3981\"}},\"id\":\"3972\",\"subtype\":\"Figure\",\"type\":\"Plot\"},{\"attributes\":{},\"id\":\"3913\",\"type\":\"SaveTool\"},{\"attributes\":{},\"id\":\"4021\",\"type\":\"CategoricalScale\"},{\"attributes\":{},\"id\":\"4031\",\"type\":\"WheelZoomTool\"},{\"attributes\":{\"overlay\":{\"id\":\"4346\"}},\"id\":\"4072\",\"type\":\"BoxZoomTool\"},{\"attributes\":{\"child\":{\"id\":\"3972\"},\"title\":\"Positive Delta\"},\"id\":\"4133\",\"type\":\"Panel\"},{\"attributes\":{},\"id\":\"4030\",\"type\":\"PanTool\"},{\"attributes\":{},\"id\":\"4073\",\"type\":\"SaveTool\"},{\"attributes\":{\"child\":{\"id\":\"4012\"},\"title\":\"Positive Share\"},\"id\":\"4134\",\"type\":\"Panel\"},{\"attributes\":{\"callback\":null,\"tooltips\":[[\"State\",\"@state_name\"],[\"Positive Share\",\"@positiveShare{0.0000%}\"]]},\"id\":\"4036\",\"type\":\"HoverTool\"},{\"attributes\":{\"fill_color\":{\"value\":\"#1f77b4\"},\"height\":{\"value\":0.5},\"line_color\":{\"value\":\"#1f77b4\"},\"right\":{\"field\":\"positiveShare\"},\"y\":{\"field\":\"state_name\"}},\"id\":\"4046\",\"type\":\"HBar\"},{\"attributes\":{},\"id\":\"4074\",\"type\":\"ResetTool\"},{\"attributes\":{\"child\":{\"id\":\"4052\"},\"title\":\"Death Share\"},\"id\":\"4135\",\"type\":\"Panel\"},{\"attributes\":{},\"id\":\"4075\",\"type\":\"HelpTool\"},{\"attributes\":{\"child\":{\"id\":\"3812\"},\"title\":\"Positives\"},\"id\":\"4136\",\"type\":\"Panel\"},{\"attributes\":{\"fill_alpha\":{\"value\":0.1},\"fill_color\":{\"value\":\"#1f77b4\"},\"height\":{\"value\":0.5},\"line_alpha\":{\"value\":0.1},\"line_color\":{\"value\":\"#1f77b4\"},\"right\":{\"field\":\"positiveShare\"},\"y\":{\"field\":\"state_name\"}},\"id\":\"4047\",\"type\":\"HBar\"},{\"attributes\":{\"active_drag\":\"auto\",\"active_inspect\":\"auto\",\"active_multi\":null,\"active_scroll\":\"auto\",\"active_tap\":\"auto\",\"tools\":[{\"id\":\"4030\"},{\"id\":\"4031\"},{\"id\":\"4032\"},{\"id\":\"4033\"},{\"id\":\"4034\"},{\"id\":\"4035\"},{\"id\":\"4036\"}]},\"id\":\"4037\",\"type\":\"Toolbar\"},{\"attributes\":{\"active_drag\":\"auto\",\"active_inspect\":\"auto\",\"active_multi\":null,\"active_scroll\":\"auto\",\"active_tap\":\"auto\",\"tools\":[{\"id\":\"4070\"},{\"id\":\"4071\"},{\"id\":\"4072\"},{\"id\":\"4073\"},{\"id\":\"4074\"},{\"id\":\"4075\"},{\"id\":\"4076\"}]},\"id\":\"4077\",\"type\":\"Toolbar\"},{\"attributes\":{\"child\":{\"id\":\"3852\"},\"title\":\"Deaths\"},\"id\":\"4137\",\"type\":\"Panel\"},{\"attributes\":{\"child\":{\"id\":\"3892\"},\"title\":\"Hospitalized\"},\"id\":\"4138\",\"type\":\"Panel\"},{\"attributes\":{},\"id\":\"4035\",\"type\":\"HelpTool\"},{\"attributes\":{\"child\":{\"id\":\"4092\"},\"title\":\"Hospitalized Share\"},\"id\":\"4139\",\"type\":\"Panel\"},{\"attributes\":{},\"id\":\"4034\",\"type\":\"ResetTool\"},{\"attributes\":{\"source\":{\"id\":\"3811\"}},\"id\":\"4089\",\"type\":\"CDSView\"},{\"attributes\":{},\"id\":\"4033\",\"type\":\"SaveTool\"},{\"attributes\":{\"data_source\":{\"id\":\"3811\"},\"glyph\":{\"id\":\"4086\"},\"hover_glyph\":null,\"muted_glyph\":null,\"nonselection_glyph\":{\"id\":\"4087\"},\"selection_glyph\":null,\"view\":{\"id\":\"4089\"}},\"id\":\"4088\",\"type\":\"GlyphRenderer\"},{\"attributes\":{},\"id\":\"4326\",\"type\":\"CategoricalTickFormatter\"},{\"attributes\":{\"overlay\":{\"id\":\"4345\"}},\"id\":\"4032\",\"type\":\"BoxZoomTool\"},{\"attributes\":{\"fill_alpha\":{\"value\":0.1},\"fill_color\":{\"value\":\"#1f77b4\"},\"height\":{\"value\":0.5},\"line_alpha\":{\"value\":0.1},\"line_color\":{\"value\":\"#1f77b4\"},\"right\":{\"field\":\"hospitalShare\"},\"y\":{\"field\":\"state_name\"}},\"id\":\"4127\",\"type\":\"HBar\"},{\"attributes\":{},\"id\":\"4317\",\"type\":\"CategoricalTickFormatter\"},{\"attributes\":{},\"id\":\"4329\",\"type\":\"CategoricalTickFormatter\"},{\"attributes\":{\"text\":\"COVID US Percentage Share of Hospitalizations by State\"},\"id\":\"4093\",\"type\":\"Title\"},{\"attributes\":{},\"id\":\"4332\",\"type\":\"CategoricalTickFormatter\"},{\"attributes\":{\"below\":[{\"id\":\"4063\"}],\"center\":[{\"id\":\"4066\"},{\"id\":\"4069\"}],\"left\":[{\"id\":\"4067\"}],\"plot_height\":1000,\"plot_width\":800,\"renderers\":[{\"id\":\"4088\"}],\"title\":{\"id\":\"4053\"},\"toolbar\":{\"id\":\"4077\"},\"toolbar_location\":\"above\",\"x_range\":{\"id\":\"4055\"},\"x_scale\":{\"id\":\"4059\"},\"y_range\":{\"id\":\"4057\"},\"y_scale\":{\"id\":\"4061\"}},\"id\":\"4052\",\"subtype\":\"Figure\",\"type\":\"Plot\"},{\"attributes\":{\"end\":0.7693468912851815,\"start\":0},\"id\":\"4095\",\"type\":\"DataRange1d\"},{\"attributes\":{},\"id\":\"4335\",\"type\":\"CategoricalTickFormatter\"},{\"attributes\":{\"factors\":[\"Wyoming\",\"West Virginia\",\"Wisconsin\",\"Washington\",\"Vermont\",\"Virginia\",\"Utah\",\"Texas\",\"Tennessee\",\"South Dakota\",\"South Carolina\",\"Rhode Island\",\"Pennsylvania\",\"Oregon\",\"Oklahoma\",\"Ohio\",\"New York\",\"Nevada\",\"New Mexico\",\"New Jersey\",\"New Hampshire\",\"Nebraska\",\"North Dakota\",\"North Carolina\",\"Montana\",\"Mississippi\",\"Missouri\",\"Minnesota\",\"Michigan\",\"Maine\",\"Maryland\",\"Massachusetts\",\"Louisiana\",\"Kentucky\",\"Kansas\",\"Indiana\",\"Illinois\",\"Idaho\",\"Iowa\",\"Hawaii\",\"Georgia\",\"Florida\",\"Delaware\",\"District of Columbia\",\"Connecticut\",\"Colorado\",\"California\",\"Arizona\",\"Arkansas\",\"Alabama\",\"Alaska\"]},\"id\":\"4097\",\"type\":\"FactorRange\"},{\"attributes\":{\"source\":{\"id\":\"3811\"}},\"id\":\"4049\",\"type\":\"CDSView\"},{\"attributes\":{},\"id\":\"4071\",\"type\":\"WheelZoomTool\"},{\"attributes\":{},\"id\":\"4338\",\"type\":\"CategoricalTickFormatter\"},{\"attributes\":{},\"id\":\"4099\",\"type\":\"LinearScale\"},{\"attributes\":{},\"id\":\"4341\",\"type\":\"Selection\"},{\"attributes\":{\"data_source\":{\"id\":\"3811\"},\"glyph\":{\"id\":\"4046\"},\"hover_glyph\":null,\"muted_glyph\":null,\"nonselection_glyph\":{\"id\":\"4047\"},\"selection_glyph\":null,\"view\":{\"id\":\"4049\"}},\"id\":\"4048\",\"type\":\"GlyphRenderer\"},{\"attributes\":{\"axis\":{\"id\":\"4023\"},\"ticker\":null},\"id\":\"4026\",\"type\":\"Grid\"},{\"attributes\":{},\"id\":\"4101\",\"type\":\"CategoricalScale\"},{\"attributes\":{},\"id\":\"4342\",\"type\":\"UnionRenderers\"},{\"attributes\":{\"axis_label\":\"Confirmed Recoveries as % of Total US Recoveries\",\"formatter\":{\"id\":\"4130\"},\"ticker\":{\"id\":\"4104\"}},\"id\":\"4103\",\"type\":\"LinearAxis\"},{\"attributes\":{\"bottom_units\":\"screen\",\"fill_alpha\":0.5,\"fill_color\":\"lightgrey\",\"left_units\":\"screen\",\"level\":\"overlay\",\"line_alpha\":1.0,\"line_color\":\"black\",\"line_dash\":[4,4],\"line_width\":2,\"render_mode\":\"css\",\"right_units\":\"screen\",\"top_units\":\"screen\"},\"id\":\"4343\",\"type\":\"BoxAnnotation\"},{\"attributes\":{},\"id\":\"4104\",\"type\":\"BasicTicker\"},{\"attributes\":{\"bottom_units\":\"screen\",\"fill_alpha\":0.5,\"fill_color\":\"lightgrey\",\"left_units\":\"screen\",\"level\":\"overlay\",\"line_alpha\":1.0,\"line_color\":\"black\",\"line_dash\":[4,4],\"line_width\":2,\"render_mode\":\"css\",\"right_units\":\"screen\",\"top_units\":\"screen\"},\"id\":\"4344\",\"type\":\"BoxAnnotation\"},{\"attributes\":{\"axis_label\":\"Confirmed Cases\",\"formatter\":{\"id\":\"3850\"},\"ticker\":{\"id\":\"3824\"}},\"id\":\"3823\",\"type\":\"LinearAxis\"},{\"attributes\":{},\"id\":\"4059\",\"type\":\"LinearScale\"},{\"attributes\":{\"axis\":{\"id\":\"4103\"},\"ticker\":null},\"id\":\"4106\",\"type\":\"Grid\"},{\"attributes\":{},\"id\":\"3850\",\"type\":\"NumeralTickFormatter\"},{\"attributes\":{\"bottom_units\":\"screen\",\"fill_alpha\":0.5,\"fill_color\":\"lightgrey\",\"left_units\":\"screen\",\"level\":\"overlay\",\"line_alpha\":1.0,\"line_color\":\"black\",\"line_dash\":[4,4],\"line_width\":2,\"render_mode\":\"css\",\"right_units\":\"screen\",\"top_units\":\"screen\"},\"id\":\"4345\",\"type\":\"BoxAnnotation\"},{\"attributes\":{\"factors\":[\"Wyoming\",\"West Virginia\",\"Wisconsin\",\"Washington\",\"Vermont\",\"Virginia\",\"Utah\",\"Texas\",\"Tennessee\",\"South Dakota\",\"South Carolina\",\"Rhode Island\",\"Pennsylvania\",\"Oregon\",\"Oklahoma\",\"Ohio\",\"New York\",\"Nevada\",\"New Mexico\",\"New Jersey\",\"New Hampshire\",\"Nebraska\",\"North Dakota\",\"North Carolina\",\"Montana\",\"Mississippi\",\"Missouri\",\"Minnesota\",\"Michigan\",\"Maine\",\"Maryland\",\"Massachusetts\",\"Louisiana\",\"Kentucky\",\"Kansas\",\"Indiana\",\"Illinois\",\"Idaho\",\"Iowa\",\"Hawaii\",\"Georgia\",\"Florida\",\"Delaware\",\"District of Columbia\",\"Connecticut\",\"Colorado\",\"California\",\"Arizona\",\"Arkansas\",\"Alabama\",\"Alaska\"]},\"id\":\"4057\",\"type\":\"FactorRange\"},{\"attributes\":{\"formatter\":{\"id\":\"4338\"},\"ticker\":{\"id\":\"4108\"}},\"id\":\"4107\",\"type\":\"CategoricalAxis\"},{\"attributes\":{\"bottom_units\":\"screen\",\"fill_alpha\":0.5,\"fill_color\":\"lightgrey\",\"left_units\":\"screen\",\"level\":\"overlay\",\"line_alpha\":1.0,\"line_color\":\"black\",\"line_dash\":[4,4],\"line_width\":2,\"render_mode\":\"css\",\"right_units\":\"screen\",\"top_units\":\"screen\"},\"id\":\"4346\",\"type\":\"BoxAnnotation\"},{\"attributes\":{\"end\":0.4911112421525871,\"start\":0},\"id\":\"4055\",\"type\":\"DataRange1d\"},{\"attributes\":{\"text\":\"COVID Confirmed: 577,046 - Death Rate: 4.06% - Hosp. Rate: 10.97%\"},\"id\":\"3813\",\"type\":\"Title\"},{\"attributes\":{},\"id\":\"4108\",\"type\":\"CategoricalTicker\"},{\"attributes\":{\"bottom_units\":\"screen\",\"fill_alpha\":0.5,\"fill_color\":\"lightgrey\",\"left_units\":\"screen\",\"level\":\"overlay\",\"line_alpha\":1.0,\"line_color\":\"black\",\"line_dash\":[4,4],\"line_width\":2,\"render_mode\":\"css\",\"right_units\":\"screen\",\"top_units\":\"screen\"},\"id\":\"4347\",\"type\":\"BoxAnnotation\"},{\"attributes\":{\"axis\":{\"id\":\"4027\"},\"dimension\":1,\"grid_line_color\":null,\"ticker\":null},\"id\":\"4029\",\"type\":\"Grid\"},{\"attributes\":{\"text\":\"COVID US Percentage Share of Deaths by State\"},\"id\":\"4053\",\"type\":\"Title\"},{\"attributes\":{\"axis\":{\"id\":\"4107\"},\"dimension\":1,\"grid_line_color\":null,\"ticker\":null},\"id\":\"4109\",\"type\":\"Grid\"},{\"attributes\":{\"bottom_units\":\"screen\",\"fill_alpha\":0.5,\"fill_color\":\"lightgrey\",\"left_units\":\"screen\",\"level\":\"overlay\",\"line_alpha\":1.0,\"line_color\":\"black\",\"line_dash\":[4,4],\"line_width\":2,\"render_mode\":\"css\",\"right_units\":\"screen\",\"top_units\":\"screen\"},\"id\":\"4348\",\"type\":\"BoxAnnotation\"},{\"attributes\":{\"data\":{\"death\":{\"__ndarray__\":\"AAAAAAAAIEAAAAAAAMBZQAAAAAAAAD5AAAAAAACAXkAAAAAAAHiFQAAAAAAAQHNAAAAAAADQgkAAAAAAAIBKQAAAAAAAgERAAAAAAAAIgEAAAAAAAAB+QAAAAAAAACJAAAAAAACARUAAAAAAAIBAQAAAAAAA0IhAAAAAAADgdUAAAAAAAABPQAAAAAAAAFpAAAAAAACgi0AAAAAAAGCKQAAAAAAAYHBAAAAAAAAAM0AAAAAAAAiZQAAAAAAAgFFAAAAAAACAXEAAAAAAAIBYQAAAAAAAABxAAAAAAACAVUAAAAAAAAAgQAAAAAAAADJAAAAAAAAAN0AAAAAAABajQAAAAAAAAD9AAAAAAAAAXkAAAAAAAKTDQAAAAAAAIHFAAAAAAADAWEAAAAAAAIBKQAAAAAAAYIBAAAAAAABAUkAAAAAAAMBVQAAAAAAAABhAAAAAAABAW0AAAAAAAPBxQAAAAAAAADJAAAAAAACgYkAAAAAAAAA8QAAAAAAAwH9AAAAAAABAY0AAAAAAAAAiQAAAAAAAAPA/\",\"dtype\":\"float64\",\"shape\":[51]},\"deathDelta\":{\"__ndarray__\":\"OGlZ2oXiCcAMCrWL0KBJwG5YswosMTvAiK8dTd0oPMBkax1RLG9rwAB3vxkPrw/AAOHBlh6fTUDw2fY0WUw6wLxfUqvjbT7AHhrS0hQ5dcCAX8cGeB9SwOjZPmTh4ibAiOh8pVBcOsC2gJQFre85wAjaqIPa11jAQB8J5eHdL0Aw3GuPgr8YQHAQsQv17TRAoPv5ltmNP0AA4ZdOurhuwNAa/3JuHVnATM6Hd8yfIsCgwxFBmJGBQAA8W2W1lQhAJJA5PBT+T8CkZHQ8K1U1wC1fADdx9iHA1megcBtWW8DgB/EUKrQVwCISp2hMVDHAUFCtdHxfMsAQqElufxRmwBRXsnE5jjfAAFlAhZRJ4L/kiiNSZsKgQECsnB0m1iHAeILfXcsnLkCQGurx6H8mwC6j9xLdmHzADlqB9RvbR8BEBn8S9j5KwIh0i6QlNT3Abk5uIEujXcCizxUu1FBxwOqk6Fg8dlPAYEBUX/AGVcD4o9YBuLgCwLzOE+SJbVVAAMAjVJnoLUDL5cKi86wwwNYyHHEYTyTA\",\"dtype\":\"float64\",\"shape\":[51]},\"deathDeltaRate\":{\"__ndarray__\":\"nTl2ATtu0r/+yPvzFETVvwSWHoPNbd6/ZxsKYgYByL/fHvYlvf3Ov4vHFi8SAIq/xbPVdGbxuz/BAIjEijnVv58RAo2sQ9u/HKyAq4192b9+bq0XcsvAv4ZDmKuB6eG/6Eonu8NS2L+6L0AiJyrcv0steovHeby/e83MPoBrqD9ed3VU2GC8P/P/DYDuH9A/f/lUcMHzoj8+O/Y/Dt7MvwqFv/YCvdG/+nrlWNgM1b88ODv9P03hP26UYpZ3gqc/EVP22/0B17+S3SpW0uHGv5Na9kfQ++G/hkOYq4Hp4b9mmbJKaN3Zv3Nkkpt6ZN+/nb60CdZr3L909+oZDEOxv+Hx3fMmotu/8cSIecRMcb+P8p5Z6FrRP9I3Pd+zI6C/9NuhBjL/xj+8Ot93g2nGvx/U895x1d2/upU1e9ZL2b9+0TRSbRXYvyw7ZCHwi+q/G6bl6+2r4L/2eOp3hG/fv9d6lBeO/em/v839HI0X178/c8Vb6b6zv8tY8t3k+sk/ktwYCl2Iuz+dlSuoesjkv5tFbDeWIe2/\",\"dtype\":\"float64\",\"shape\":[51]},\"deathPC\":{\"__ndarray__\":\"9VScw13MJUB4Gbn2cfs0QAJ1GLxLviNAYKaHk9eIMEC8sjKVrjMxQDhxy6FNWEpAUcq4G5AeZUAUzCXGnmJSQMS5LkhU20RA2Y7azFtTN0AVLus0xVpGQJp84PO8exlAy0lTZZkLK0B04JldHBIyQALeZ3kBXE9AbxArwpvxSUDM5vVgoE01QChnlXPZHDdAb81Mfb/JZ0A+novodD5eQHmU6832iEVAneZL0Xc8LEA9tbp4a+9jQHTz0Kz6jihAdbjFIYt6MkCL8741W2RAQHh5YTLCwxlAmpAkplE1IEBaN8NmSAElQLAkQufubyJAmthrq+fFMEDtFaOJ7xVxQCM1UiM1ki1AxAccqkAcQ0CmlhT5KyqAQHK2wbrfUjdA23tHjWEIOUCrkU6QGaUoQOD+c4x3b0RAIc1LaJFHUUCb7X8xx7IwQEWlv4TIkxpAz/srVfWaL0DOwrDC1XkjQBEjyhbk7xVA19cHu99FMUBus4i7c0pGQNILkRLCSVBAjZGGFCBROkAEQaTkJT8UQL193NmqN/w/\",\"dtype\":\"float64\",\"shape\":[51]},\"deathRate\":{\"__ndarray__\":\"in8eI/KSnT/AWxd/4LubP1cQkyuIyZU/wFV8p3/foD9kNg/8kXqfP/XX+OQDgaQ/80jf1dEIpz+ABTKWt8KbP9v/IL1L15c/acqPxgP+mD+xgz078AqiP5IkSZIkSZI//5th1uy/mT8iQGTDt0GXP7n3h14jdaI/DvbvIhXCpT/EHXFH3BGnPwAAAAAAAKo/meFnck6JpT9BhBgBfxWgP0YbHXX1BZ4/MMvnlLnfmz/oq1aTCv+vP7kViluhuKU/5v3AnXyamj9vgGK2GA6hP4H5QHZhMZI/kiRJkiRJkj86/2KAzr+YPzQwRChxKZU/FxcXFxcXlz/rjv2kBV6jP+QRIg37mZc/oNO4TQ6upD+cpJU0NWaqP3JpeezrHKQ/WFjez7B/qD93hsS8nSGhP4/V8xFpLJY/HnnkkUcemT+Ra9WDu+eZP+NAcaA4UHw/5RPOtlnlkz+yPw41RyKVP/pbHcN1M38/2KeYr36Mmj8qE7ZBcCqjP5ZdZjeZ+6g/TnOueEwApz/rCs3tVB6NP8odoNwBym0/\",\"dtype\":\"float64\",\"shape\":[51]},\"deathShare\":{\"__ndarray__\":\"p53velRmNj/c0Oz6VwZyP8yjQDPv/1Q/Q2IshYhZdT8JhPRaTg6eP61J6KMd84o/XbyLVFFWmj+Obs71vYxiP/4Bgz0cs1w/dhUtpYdxlj/Mo0Az7/+UP1yRTQofMzk/2PsxhYEZXj+UGscehxlXP77LUoFYXqE/ipkTgOefjj+5IBjXIbNlPxew4qMkM3I/Gdsg7lZWoz/wflOhV3aiP1k70XW67IY/Nov8UYSZSj8S7ymVi4WxP24Udmbsf2g/aGh9PSPzcz+0dB+uWCZxP/KpkeuJmTM/2PsxhYEZbj+nne96VGY2P1yRTQofM0k/UDlcuIwZUD+vlCUGUbi6P7kgGNchs1U/zKNAM+//dD9Go+gzHX/bP7x2lGuG+Yc/71MVVyVTcT+Obs71vYxiP1k70XW67JY/0k85XLiMaT9Puh3XGnNuPz22M1y/zDA/QAyw8CMTcz++odK1uByJP1yRTQofM0k/hO0aVx4Tej/yqZHriZlTP2u++dGHOZY/rUnoox3zej9ckU0KHzM5P6ed73pUZgY/\",\"dtype\":\"float64\",\"shape\":[51]},\"deathShareDelta\":{\"__ndarray__\":\"KhrnknGyXr+NPOMY1FSFvzTtXTD/KIC/BnuP+pJ3kb/XuI1FL1i3v8aPMd37XXK/LURcIFWmjj8AAzwcSWAXP8gob5bA51O/VfIvbczDpr/oJ8JDJF2Iv0b7S/V+x2+/9i1TtV7Jf7/Pm8DtIM1wvyjZae07j3G/BExjUzokdr/eHTBKRyF5v1AuAMDatoK//pvP21lRmD+CPPEebbmOP/KzNwyyWn2/EK6FoRGgar+BXbS1NoWjPzYbjJbnHI2/UBVF7NYojL8saQLgNs5zvyXEEMGqa2i/KQS2/AwJnb/EmW79rwhgv1Lt16oz/XS/YoMaV83aab8T9fdNotCzP4jl59jEfnS/lFxEEp3Qcb9qVDh/xL3XP9ZSMzkpUpi/7RO4YkWRf78uCNFV9/KFv9NvvtlPs5C/gAzs99AOEr9k/sE4z5eIv5ueMR1MOmS/00FE+qmMkL9HJ9lkH6Kzv3uT56WBtoK/kGUMU2IklL/STDjqrOpGv+BLwZgR+l2/nmJjuGeyhr8lA9NoIWh0v3nLH9r/Vlu/\",\"dtype\":\"float64\",\"shape\":[51]},\"expectedDeaths\":{\"__ndarray__\":\"TlqWdqF4JkCDQu0iNEhjQDesWQWWmExA8bWjqRvFYkDZWkcUy1OMQO5+Mx5ef3NA8OGTFg72gEB8tj1NFtNTQO+X1Op421FADw1paYqkikDw69gA70OBQPRsH7JwcTRAIjpfKRRXUUBbQMqC1ndNQEEbdVD76otABrfX8BDhdEB6hBKuD+hLQOS7E72CxFRAIzBIM5GjikAg/NJJFweRQLTGv5xbp3ZAJufDO+ZPPEAwHnffMz+QQCAm1VRSu1BACWQOD4U/ZkApGR3PStVdQC1fADdx9i9A6zNQuA1raEDwg3gKFdoqQBGJUzQmqkFAKKhWOr6vRECBmuT2R3ekQIor2bgcR0tAsoAKKZMgXkCOOu7WzOa+QGLl7DCxrnFAsQ9ElAb7VEBSQz0e/Q9QQJfRe4lurI5AB63A+o0tXkCRwZ+EvW9hQES6RdKSmkFANyc3kKVxbEDR5woXaqCBQOqk6Fg89ldAMCCqL3gjbUB/1DoAF1c+QFEM+4adZHpAAMS9anZhYUDL5cKi86w5QNYyHHEYTyZA\",\"dtype\":\"float64\",\"shape\":[51]},\"expectedHospitalizations\":{\"__ndarray__\":\"mIbzoNtfPkA4X+QlShB6QCgDjp6iU2NASh5VTBZfeUBZpx05JCWjQMzojuXaWopAvemLGC3tlkBQcUnhBMxqQF2bRtVHI2hAHphNrK0BokBhFebqcVaXQFEORdEQoktAk7cT1lJwZ0AtuYZDhepjQNnXbulN3qJAVsQ9dvM4jEChwBafVNxiQGfFLTpaEmxACzswPgUBokBIo48mNASnQJVt9usEn45ADzOogIIiU0C8qh+CA/alQEpgXzHJnWZAuojTKKkSfkApoImOril0QOg4xW4fmkVAjegzC8qAgEAel5xU3SVCQKhu/D6c4FdAopfz30f2W0Axa6X69am7QERPdYGNb2JAHxMT0o9cdEAQOy5oiOLUQKwouULA5odAjX0GZwpcbECuZv/IMbZlQD754p0Vu6RAbUFFjlVldEDtzTihqJF3QFTMUHuOy1dAP3j3aVE5g0A0KbGkc9OXQNJHcG3WMXBANIxA/H+xg0Ayb3/oZ4FUQKwNcG151pFAdc4wA1x+d0BHy3ZGWFpRQA4rf+y2Jz5A\",\"dtype\":\"float64\",\"shape\":[51]},\"expectedNegatives\":{\"__ndarray__\":\"5IL7X8WduEBhu9bQef3WQADsKpbjWdBAkcgMbdYI4UAPbgspxp0DQUIxTygfc95AxvvVH55p4UABH6jf+C/BQItQI8pGV8NAE3lHGBiIA0H4mxRwRIfmQL/hSQPXhs5A/yTCX35jzUAti+3XDcLHQBelLcxJyPRAsSPNoMGA4UC677gFCsvFQDVCsGbH+NRAFJXafSM99UAkWBQzP/v3QDYZWBpOVuRApWwT0xRYw0Be/6LWHT3wQESMcui9M95ADT0OFsC84kCngLfZGqjdQJ6zRqVJmrxAYsatowXp6EA8ueczZ/LAQHlWB0Ix2sFAUTmtrABAwkA4QAvke3D5QGNZZQyOINlARc7aQoID1ED5NwONhH8XQUNuzSl2lulAJ1EHBl730UDXDFIju3XYQIV3eji7gPlAN+Uo+0jI0UCKI5P6T8DZQN8pPEsGTbxAZ4EvyHHx7UDPBsh2dy36QIdDHhNP/uFA3xTmbhBF4EAs8kj1ZkvAQKqMuW9hbvJAMB97W+CX30AeOjdemFPKQHWtzjn4v7JA\",\"dtype\":\"float64\",\"shape\":[51]},\"expectedPending\":{\"__ndarray__\":\"7f9oOLYjREDq8J4WIM9iQGzeCtVCwVpA9XiyXobfa0DAAf29fwyQQOI2ACt66WhAuUsEM+J9bEB2CHBLjx9MQJ13wwqlpU9AwROLDob1j0C1PO0iam5yQDCcSwGc+VhA2isWjj8LWEA/4CAJ9G9TQO+15Hi5AIFAa6yQrL6jbEC/8XgMa9RRQD7WC4BlKGFASV2a+FJggUCY/Zarvp6DQLgpQ3x4o3BAhDHuK/amT0BpaFNzLpJ6QPreDbGftWhAWQq4KsyobkDyX9OzYUNoQA1mOVyiZkdA3XL2BkdhdEDueivi0LpLQNKePDIWNk1AenvZFa3cTUC3HyqWGtCEQH+AOP+1jmRAXW89YrtfYEDMvyR4hDmjQNkxsrws73RAyXGJJNNlXUCbL2If9AJkQCpk8Xxl3YRAfvZFEMkYXUBPEwkbahFlQL2KNiRsJ0dAHxb+KmJ/eEDRcSq0t2qFQDH1meIucW1AM1TZmi+fakAuzAmAjqlKQBqUFy2QKH5A4wk7m/3YaUBhhc516YlVQPbxYq8Qrj5A\",\"dtype\":\"float64\",\"shape\":[51]},\"expectedPositives\":{\"__ndarray__\":\"vseJF4j5k0Bls0zF1rLAQPpqiDTorLRAiNzJOWsZyUCInyVJWfvwQPuvJJt24sNAGUGRZqw9uEBVdVVOxZyTQLeGERp7v5pAw7FenAq04kANw6oLpULSQOCE7TrYOKNAZN05VTiitUDWFtowF9moQNREljs4iNVAyNSypQ/yxkDTN3sz28yzQPaCq4fwnL5AICtJXVaav0B9NiBDb7vHQIHhrCxdscRAtqDHINJPokCKzIN4whXRQFKaaLJRZMNAqnTPtmP8xEBoRpxPR1a0QOChOYQQk51AGEQqQ5EM0kDmI4drp7qUQKXCWmxukapAlq2zBX6ookCcw1IhPmbOQL2EHA1Gh6xALHCCjzhctUC97kPSVojgQD7gGEgg+9NAAagRdfXnukBJkO9XCkO9QLdclihoztVA2+anK+a9nEDUB/JJHLnBQISxS58Rk5hAhTW25p52x0ABZTc2WBDpQH7qnjFVVLZAxp0xMfdXzUD3KqhteheRQNYQZw7zhcpA4ujTB+Pnw0Cs4NxulzGoQFbCLS6G3I5A\",\"dtype\":\"float64\",\"shape\":[51]},\"expectedTests\":{\"__ndarray__\":\"368u4+SVuUA6J0EKnmPlQPVyQ7Sne9pAE/3GPSQT8EBTRXSpfsAVQaxpX5VYeOlAd3rB/c8M30AZ6QnDEx+5QEhBtDNzIcFA5HFrvvn0B0EpM47vuWP3QF1MzBoVn8hAhpSCCeC120Bu8yyr4tPPQNUhj0aSlPtAc1NbVg1k7UBrJhNwq1zZQMoiA2Ulm+NAMlxWGW895EAZglyD/WXuQKyiVSpdgepAqrGOf5p0x0De7q0GU+L1QJPsxsbE1uhAuB73tnbh6kB4PrNxsQzaQMqqtfzd8MJAiZrZgnUe90C57l9yQ426QJ+q+Sz1A9FAPBKDqi7mx0CMdcKYHXjzQAkdoXhcRdJAMEBoszZc20BbYEL5LS0FQfLLPbzvl/lAPvlcvl874UAWkcGsnb3iQHtsnEp57vtAVjq3j1howkD7V188j7PmQNBDbugxer9Az9eO0NgN7kDwSTh5VA0QQR11P80EmtxAR1QfdATL8kA3/7eQhuS1QGRCkqqa/PBAQdI8Akt/6UAkN+85Vv3OQBXLz17ew7NA\",\"dtype\":\"float64\",\"shape\":[51]},\"hospitalDelta\":{\"__ndarray__\":\"gJbH8EUC+j9ABt3Qrv1DQEAZcPQUnTjASh5VTBZfecBZpx05JCWjwDQXcRolTYRAvemLGC3tlsBQcUnhBMxqwF2bRtVHI2jAiJ/JTklZhUCf6hkVjuGSQEQ5FEVDiCbAk7cT1lJwZ8BoyTUcKlQ4wNnXbulN3qLAVsQ9dvM4jMBfP+lgq8NjQEwd6eLSBnxACzswPgUBosAgjT6a0PCCwGuSCRT7GI9A4pmv/vq6R0C8qh+CA/alwLafoM42gmZAuojTKKkSfsDsL7u4KJOAQIBxrBMJXg5AjegzC8qAgMAgjja2KqINQKhu/D6c4FfAvNAYQHATREAxa6X69am7wERPdYGNb2LAHxMT0o9cdMDwxNGXd9PUQKpro96f0JNAc4L5mPXDbEBSmQA3zmloQD754p0Vu6TAwKSvbpyqEkBMyBx7XbldQKiYofYcl0nA8IN3nxYVQsA0KbGkc9OXwJA+gmuzDk3ANIxA/H+xg8Ayb3/oZ4FUwKwNcG151pHAxphn/tFIg0C5NIm5p6VXQOSpASeSsCdA\",\"dtype\":\"float64\",\"shape\":[51]},\"hospitalDeltaRate\":{\"__ndarray__\":\"Gw3985pmqz/LxhogT4u4P0pBo2p6YMS/AAAAAAAA8L8AAAAAAADwv7a2oWNZpug/AAAAAAAA8L8AAAAAAADwvwAAAAAAAPC/EDuAc0P40j/ybh5bpOPpP2YASWDWF8q/AAAAAAAA8L9W0w67hYvDvwAAAAAAAPC/AAAAAAAA8L9ONZc5QMTwPwRhH6fb8v8/AAAAAAAA8L+EcWk9XVXKv9IiUga6P/A/JUpEjbvX4z8AAAAAAADwv1PlFg392O8/AAAAAAAA8L+p+oowO076P+EhihoAfrY/AAAAAAAA8L9861P8TCC6PwAAAAAAAPC/j9CxdZ751j8AAAAAAADwvwAAAAAAAPC/AAAAAAAA8L+hliSP6ujvP+hHjKpoh/o/k5z/GaE68D8naSw9q/3xPwAAAAAAAPC/nI64/GNJjT9OA2t8ri3UP0lnRDcCNeG/3K8rWo4Zrr8AAAAAAADwv2uGhoNHtcy/AAAAAAAA8L8AAAAAAADwvwAAAAAAAPC/Y0IU+09E+j/04nB7r831P4n4bZqYI9k/\",\"dtype\":\"float64\",\"shape\":[51]},\"hospitalPC\":{\"__ndarray__\":\"9VScw13MRUD9CCjUIUZXQBfUb7Z8Y0VAAAAAAAAAAAAAAAAAAAAAAHPaDpkW7W9AAAAAAAAAAAAAAAAAAAAAAAAAAAAAAAAAO/P4bpH7YEDKO99km3VvQGdfEip1JT9AAAAAAAAAAAC9X13rP3tSQAAAAAAAAAAAAAAAAAAAAAAdMWzsCotaQKwo4fgasmJAAAAAAAAAAAAe+hdig/Z0QPVONcW0SnRAgH+Ve+gIV0AAAAAAAAAAAKaRS2S2qU9AAAAAAAAAAABPWbOvrdVxQPGF/9e5n0VAAAAAAAAAAAAxBXSAmkFKQAAAAAAAAAAA6L43G0e2W0AAAAAAAAAAAAAAAAAAAAAAAAAAAAAAAADsydH2ISqhQJsz2oXEoWVA8M792YfjXEDikCLVs3JVQAAAAAAAAAAAHlYoE2OWc0BnLFiEycxXQH9XWiTNXEhA9O1SdVL8VEAAAAAAAAAAAEcmegrZnk5AAAAAAAAAAAAAAAAAAAAAAAAAAAAAAAAAp9MgsCo2ZUAoEbuZBw9XQISy+B6IhFJA\",\"dtype\":\"float64\",\"shape\":[51]},\"hospitalRate\":{\"__ndarray__\":\"in8eI/KSvT+ouc5TWcO+P178iYRTmrc/AAAAAAAAAAAAAAAAAAAAADq+J8IF2cg/AAAAAAAAAAAAAAAAAAAAAAAAAAAAAAAA9+EFJzQywj/MxNWKMWTJP5ZlWZZlWbY/AAAAAAAAAADG+3eTB8m3PwAAAAAAAAAAAAAAAAAAAAAw6Av6gr7MPwAAAAAACNU/AAAAAAAAAACwaaRD50u2PyxACIxBSsw/3e8N0T+9xj8AAAAAAAAAAAHcE8A9Acw/AAAAAAAAAAAm2FqKW47SP6pZfwa/ib4/AAAAAAAAAAAJv3sgwu++PwAAAAAAAAAAExMTExMTwz8AAAAAAAAAAAAAAAAAAAAAAAAAAAAAAADz5jo6OgjMP/2nIdVvp9I/Kr/b0MhFzD/RRRdddNHNPwAAAAAAAAAAeeSRRx55vD8yZCLuD3bCP9DQZ+gz9Kk/bJpUPeBruj8AAAAAAAAAADEo19qUxrU/AAAAAAAAAAAAAAAAAAAAAAAAAAAAAAAAtBbUygGK0j/iUPjq05TQP40TyTiRjMM/\",\"dtype\":\"float64\",\"shape\":[51]},\"hospitalShare\":{\"__ndarray__\":\"qRKdgkuSQD9PZirMKJV9P/OGp7CU1GA/AAAAAAAAAAAAAAAAAAAAAHWDL5hMKZg/AAAAAAAAAAAAAAAAAAAAAAAAAAAAAAAAuSoQK3EtqD9eu5IfA92lP6j5l9MnyUY/AAAAAAAAAACuqcGjS3phPwAAAAAAAAAAAAAAAAAAAACGl6cklQB0Pwd3L0FMyIU/AAAAAAAAAADSd7xGJ++iP71yKiMp9p8/EyqIJrkNYD8AAAAAAAAAAFB/L3tMXnc/AAAAAAAAAACWrxrNupuLP2iz1ufeVkg/AAAAAAAAAABTV0Rj3rZEPwAAAAAAAAAAKIYaq7mtYz8AAAAAAAAAAAAAAAAAAAAAAAAAAAAAAABCHdDMsJnlPyYsCDU5c6A/T2YqzCiVfT/lZ0TX3uJ3PwAAAAAAAAAAIBfhoSdtdT8TKogmuQ2AP6j5l9MnyUY/mqA0ZHC9gj8AAAAAAAAAAE2nGpO6BWo/AAAAAAAAAAAAAAAAAAAAAAAAAAAAAAAAWNFoud0RkD/oP1m/cDtlP30obhsDwEU/\",\"dtype\":\"float64\",\"shape\":[51]},\"hospitalShareDelta\":{\"__ndarray__\":\"QHhU8OACXL+n44hg1xp/v+I/ONWvJ32/l5PaG/XNlr/Z2Urcwtu+v7Tquzv7YHg/jTS7iE0Ghr92juysu9Fhv2MV+WluTWi/rqRsKT6ek7/4fQfUCReFPwivr+GYO22/dtZPi9+ng786GyPHuaxrv+MGAP8/kKO/xp/iVALZlL9oLSkihvRvv1A9CEODIGi/aDTkAKi2jL8FkEraVU6QPyjQZ8o+Uoo/y6Z8j7k4Yb9GAT/pwAufv6rgkXK8jYe/wuSBRTQRk79MgRMM5kJyP4lMjUQkyWS/0iGulh5moL9I7/bnhU9bv36fIYyXI3i/xDNcELRzXL9vfrbgup6bv7btrU6N63m/MIDCIkZog7/U9XdyBLnjP0CvaSfQQ2u/jQGj7UFPc7+/30TPbkl9v5bVxycF0KO/Cn7JXyC9YD/lQgHI3CaAv/kW0hOaoWC/LOmriHXlh79/e5N7tsW2v3yFi+OJkHu/8SDT6Cmpmr9b0K1g4A5fvynThesoGZi/EJMXXuwgYL+OeJbzNbtmvyg0QPAwKlG/\",\"dtype\":\"float64\",\"shape\":[51]},\"hospitalized\":{\"__ndarray__\":\"AAAAAAAAQEAAAAAAAJB8QAAAAAAAQGBAAAAAAAAAAAAAAAAAAAAAAAAAAAAAVJdAAAAAAAAAAAAAAAAAAAAAAAAAAAAAAAAAAAAAAABYp0AAAAAAABylQAAAAAAAAEZAAAAAAAAAAAAAAAAAAOBgQAAAAAAAAAAAAAAAAAAAAAAAAAAAAFBzQAAAAAAACIVAAAAAAAAAAAAAAAAAAEiiQAAAAAAA3J5AAAAAAAAAX0AAAAAAAAAAAAAAAAAAkHZAAAAAAAAAAAAAAAAAAKiKQAAAAAAAgEdAAAAAAAAAAAAAAAAAAABEQAAAAAAAAAAAAAAAAAAAY0AAAAAAAAAAAAAAAAAAAAAAAAAAAAAAAAAAAAAAANvkQAAAAAAAxJ9AAAAAAACQfEAAAAAAABB3QAAAAAAAAAAAAAAAAACwdEAAAAAAAAB/QAAAAAAAAEZAAAAAAAAYgkAAAAAAAAAAAAAAAAAAIGlAAAAAAAAAAAAAAAAAAAAAAAAAAAAAAAAAAAAAAAAIj0AAAAAAAIBkQAAAAAAAAEVA\",\"dtype\":\"float64\",\"shape\":[51]},\"infectionRate\":{\"__ndarray__\":\"2MA5XXC7OD8U03FZwWJJP+2XTs4ZaD4/csm1ic1wQD8Or6QQDVZCP1MV6bp5jlU/LmFqRMbDbj+WLfkK7DhmP9IQyFu1Wl0/W7RE1BtRTz87d+ZyYMlUPz+9y0iOYTc/bDh8xxGfQT/+XL2uexJKP+9whFQlgVw/k/gJeTIBVD+Eyp/CK/w+P0zKiSIF1D0/dQ2FoQaIcj8PB2V/K4xvP5Bk54tdEVg/J66d/sn+QD9739Mp8+dkPxxYear99zI/Pjf944pORz+vca4J/h9QP8zLrrSCwjc/5mpPkAi+PT/WA+oXZHo8P6rtCa31Oz0/QjAYnttfSD8F5Hho/Jl9P1VQBVVQBUU/033e2vsBTz+svAZZxYuEP6JYERSZdEM/06AZSpMkQT+CYoyBsSI4P5bhgZad7F4/Jb/xM0EVZz+cojE8BqFFPz4NuiA6f08/DsaxKrOmSj8UU+EaC+w+PwX68OB7l0c/3u8lmbTURT8/lwc1R4NTP/xavfpn4FU/yHYrhRsyQz/E25J1wVQ3P1ZWdyu9yD8/\",\"dtype\":\"float64\",\"shape\":[51]},\"negative\":[7553,25448,19394,39645,177319,31051,30928,8979,10543,177786,43706,18916,16986,13661,83743,36303,12488,24635,87075,95182,42815,11608,57009,36777,43292,34791,8704,58572,10450,10486,10590,64885,30625,22493,283326,58137,20790,29537,105593,19649,29325,8134,70585,119320,43424,35654,9618,83391,36769,16115,5689],\"negativeDelta\":{\"__ndarray__\":\"cPQRgOqMk0DwSZTyYsidQACgqE7jtKRAeLuZl0yWskCIj6S3jjvQQAChmCeUL2DAMN6v/vB8ssDAP/gVyGFmQFD3yl2TA4RAaDfEPb9d0UCAv0kBRwCjwAR52PKjrKlACNjuAQ1MnkCYppNAkWOXQMBFaQtzlpXAgCdumS+PfEAwgjjSr8eUQFjufcrEr6hAALCrlQgyVECABIti5sunwEDZ/LQ8MpJA2JpkZ1mfmkDw+he1bpDCwPDONV4I2rZAmBeOT/81s0Bk/SGZlEaxQIgx5WrZlpVA8MyR4tKDvUAgNsJgxrSbQDhMxe91BpVAeDWWmvp3k0BwgBbIVzLjwHSaas7HHrNAsBtT0ts7n0Dk3ww0MtL4wOiNlLFOZbZAyHbFzw+xokCkzLdyE4qxQMAeYuExtZFAkKxxTXB/lkCw42YrgBenQAixHqbNx4tAZPpB37gWwkCIyb9JRKDHQMjjDWeHrblAELKeEfk6okCgbrhVyOyTQGA1ZwTp2L5AQIMTkn5BsUCIFyOHnpekQFiUijE+yItA\",\"dtype\":\"float64\",\"shape\":[51]},\"negativeDeltaRate\":{\"__ndarray__\":\"v9qyliZqyT9vpIgfMrq0P1kNsRoOQ8Q/5axtyVJ1wT9gAW3B8Xq6P9AxBCaLAnG/iuEmDf38wL+zveWD8NWUP+ldzVKJjrA/FFGAW8ZzvD/7P3mqXf2qv1EIpXXZ6co/z+0SUZx+wD9zNhoQvIC/P78lbU+4npC/+yZhbmIbij8FubLcLYO+P3UGGMiJ1cI/S2udOI9tTj9oz9Fm0sCfvxZo0LigoZw/khlOuygFxj/c0VhSkErCv5eKr5ZGNsg/D6LCv4hnwD+XmgSWCKTCPz3JEHpOJ8g/RCAayib1wj/57QJ6eSjKP5YGNz7918I/AubIZ4MRwT9+6s0ltiXYv7HfkkucWcg/ks5xYU74uD8TNPqkm+bQvw0uJ2ERArw/ZWmCH1+lwD+1bVjrNPLGPwkXA+8TOIY/mFTAdig+tD8MDcGW+7G8PwUcpqNdab8/6fAD9NBUwz/gpT0bhOG8P0RehjFI1cY/uMKdEJbtsT8Ijfu2lJDDPyBPCI9Dx7o/Ced7il16wT/biUGiqwfJP1UEGgIntcc/\",\"dtype\":\"float64\",\"shape\":[51]},\"negativeRate\":{\"__ndarray__\":\"i/+0kDHe7j9tDHy279brP4C6Q6DI1O0/r3CoLV9E7T/zEG9qGWvsP5rdgLu8pek/liqhJRNW5j+PT6cRRUfqPwL7DtOGa+s/qfPyAOOd7D8XrdnZkGXoP3zp7GVlK+8/E7UrUbsS7T+EpWIgdOzsP3LeoJwbVuk/2P20zSkV6j+QpG738dLsPypB6FA9i+0/FsXQUT3H6T/Dspbaq/ToP46FZn12eeo/eitT6Vgv7j+jaNcb9RLmP/Nhw1A/oO4/B7PfrRYO7T9JUbdkR4HtP/GojkU8ne4/71tzrZmR7T9oCLbmfATvP9WKpZC7i+0/TK99Fkow7T+eI3TQhQngP/uVm11bp+4/ObmPyzNE7D9Sk63cCfTiP0q9uo1ykuw/AHhP2Ica7T8Y/KruCl/uP8UbC56lCOo/ImgtM3XK6z9ICSkhJaTsP5wo3kYa6uw/JLukPtmk7T+jvJdR7ajsP5V/pw45We4/Vb5b49eO6z+Mluil37DtP8/fIfrGcuw/KfjC4mJF7T+7xXr4YMruP08y2VVEhu4/\",\"dtype\":\"float64\",\"shape\":[51]},\"negativeShare\":{\"__ndarray__\":\"aE0Y8MkAaj//x2fGG+eFP0LzveAxsYA/jLvU2JsPkT/7vEHXtxOzPy0EcpGmuYo/HQl1oYyeij/8XY68leluP8Pth9IAJnI/elZ0ipQgsz9HPZI4AM+SP/qT4M/fR4A/Fnoue0A9fT8Q61acBIR3Py1XUdLlBKI//ChZ29o+jz/9WyYlHH91P7yEXLP5M4U/rRoPBHC8oj9cJAveAHukP2LullnXbJI/E0fKl1H7cz8dyVCzkIiYP2s7eUxLp48/a/QNLmShkj+esNX9tPGNP+rQNCQ3920/NE9p/ME0mT9aeKVOBf1xP5vf9IniDHI/rnto/LY6cj+D0c6CP+ybP+qLMZ3JW4o/4kTiDgRcgz8+AySjXHu+P54clK7VBJk/C7fPpcjkgT9i5Q/kD2yJPxZogpJ7uKY/SdYhaGHpgD93/N7RWT2JP9K1t3jZAGw/YDMrmTRgnj93IvrYnqypP2dowfnur5I/eTSfXduvjj/Hlwi7YY5wP4i8DBiC8aE/uaH+DIiljz/8PqY8bb17P5vBwNX2lWM/\",\"dtype\":\"float64\",\"shape\":[51]},\"pending\":{\"__ndarray__\":\"AAAAAAAAAAAAAAAAAAAAAAAAAAAAAAAAAAAAAAAAAAAAAAAAAMjJQAAAAAAAAAAAAAAAAAAAAAAAAAAAAAAAAAAAAAAAAAAAAAAAAABYk0AAAAAAAAAAAAAAAAAAAAAAAAAAAAAAAAAAAAAAAAAAAAAAAAAAAAAAAAAAAAAAAAAAAAAAAAAAAAAAAAAAAAAAAAAAAAAAAAAAAAAAAAAAAAAAAAAAAAAAAAAAAAAAAAAAAAAAAAAAAAAAAAAAAAAAAAAAAAAAAAAAAAAAAAAAAAAAAAAAAAAAAAAAAAAAAAAAAAAAAAAAAAAAAAAAAAAAAAAAAAAAOUAAAAAAAAAAAAAAAAAAAAAAAAAAAAAAAAAAAAAAAAAAAAAAAAAAAAAAAAAAAAAAAAAAAAAAAAAAAAAAAAAAAAAAAAAAAAAAAAAAAAAAAAAAAAAAAAAAAAAAAAAAAAAAAAAAAAAAAAAAAAAAAAAAAAAAAAAAAACQfUAAAAAAAAAAAAAAAAAAAAAAAAAAAAAQcUAAAAAAAAAAAAAAAAAAAAAA\",\"dtype\":\"float64\",\"shape\":[51]},\"pendingDelta\":{\"__ndarray__\":\"7f9oOLYjRMDq8J4WIM9iwGzeCtVCwVrA9XiyXobfa8DIX0AIcMbHQOI2ACt66WjAuUsEM+J9bMB2CHBLjx9MwJ13wwqlpU/A/LDTxefpakC1PO0iam5ywDCcSwGc+VjA2isWjj8LWMA/4CAJ9G9TwO+15Hi5AIHAa6yQrL6jbMC/8XgMa9RRwD7WC4BlKGHASV2a+FJggcCY/Zarvp6DwLgpQ3x4o3DAhDHuK/amT8BpaFNzLpJ6wPreDbGftWjAWQq4KsyobsDyX9OzYUNowA1mOVyiZkfA3XL2BkdhdMDueivi0LpLwNKePDIWNk3AenvZFa1cQcC3HyqWGtCEwH+AOP+1jmTAXW89YrtfYMDMvyR4hDmjwNkxsrws73TAyXGJJNNlXcCbL2If9AJkwCpk8Xxl3YTAfvZFEMkYXcBPEwkbahFlwL2KNiRsJ0fAHxb+KmJ/eMDRcSq0t2qFwDH1meIucW3A5lWTMmhAcEAuzAmAjqlKwBqUFy2QKH7AOuyJyQSOUEBhhc516YlVwPbxYq8Qrj7A\",\"dtype\":\"float64\",\"shape\":[51]},\"pendingDeltaRate\":{\"__ndarray__\":\"AAAAAAAA8L8AAAAAAADwvwAAAAAAAPC/AAAAAAAA8L/n1sjZ67MnQAAAAAAAAPC/AAAAAAAA8L8AAAAAAADwvwAAAAAAAPC/WhY0Ubryyj8AAAAAAADwvwAAAAAAAPC/AAAAAAAA8L8AAAAAAADwvwAAAAAAAPC/AAAAAAAA8L8AAAAAAADwvwAAAAAAAPC/AAAAAAAA8L8AAAAAAADwvwAAAAAAAPC/AAAAAAAA8L8AAAAAAADwvwAAAAAAAPC/AAAAAAAA8L8AAAAAAADwvwAAAAAAAPC/AAAAAAAA8L8AAAAAAADwvwAAAAAAAPC/I9PBBeWa4r8AAAAAAADwvwAAAAAAAPC/AAAAAAAA8L8AAAAAAADwvwAAAAAAAPC/AAAAAAAA8L8AAAAAAADwvwAAAAAAAPC/AAAAAAAA8L8AAAAAAADwvwAAAAAAAPC/AAAAAAAA8L8AAAAAAADwvwAAAAAAAPC/DiGfDuaI8z8AAAAAAADwvwAAAAAAAPC/iadL8MV+1D8AAAAAAADwvwAAAAAAAPC/\",\"dtype\":\"float64\",\"shape\":[51]},\"pendingShare\":{\"__ndarray__\":\"AAAAAAAAAAAAAAAAAAAAAAAAAAAAAAAAAAAAAAAAAAAfbaU85cXrPwAAAAAAAAAAAAAAAAAAAAAAAAAAAAAAAAAAAAAAAAAAIAuze5PWtD8AAAAAAAAAAAAAAAAAAAAAAAAAAAAAAAAAAAAAAAAAAAAAAAAAAAAAAAAAAAAAAAAAAAAAAAAAAAAAAAAAAAAAAAAAAAAAAAAAAAAAAAAAAAAAAAAAAAAAAAAAAAAAAAAAAAAAAAAAAAAAAAAAAAAAAAAAAAAAAAAAAAAAAAAAAAAAAAAAAAAAAAAAAAAAAAAAAAAAAAAAAAAAAAAAAAAAugwsr3HuWj8AAAAAAAAAAAAAAAAAAAAAAAAAAAAAAAAAAAAAAAAAAAAAAAAAAAAAAAAAAAAAAAAAAAAAAAAAAAAAAAAAAAAAAAAAAAAAAAAAAAAAAAAAAAAAAAAAAAAAAAAAAAAAAAAAAAAAAAAAAAAAAAAAAAAAkbqUHK7Ynz8AAAAAAAAAAAAAAAAAAAAANLT+RHVhkj8AAAAAAAAAAAAAAAAAAAAA\",\"dtype\":\"float64\",\"shape\":[51]},\"population\":[734002,4908921,3038999,7378494,39937489,5845526,3563077,720687,982895,21992985,10736059,1412687,3179849,1826156,12659682,6745354,2910357,4499692,4645184,6976597,6083116,1345790,10045029,5700671,6169270,2989260,1086759,10611862,761723,1952570,1371246,8936574,2096640,3139658,19440469,11747694,3954821,4301089,12820878,1056161,5210095,903027,6897576,29472295,3282115,8626207,628061,7797095,5851754,1778070,567025],\"populationShare\":{\"__ndarray__\":\"yoDRWAMmYj/7pFkWAFiOP64Bxhb9yII/l5PaG/XNlj/Z2Urcwtu+P8iIQMkNEZI/jTS7iE0Ghj92juysu9FhP2MV+WluTWg/iD7jH0j+sD/g25CqQJegP7nWSmvxdnE/dtZPi9+ngz90YnK1gpN2P+MGAP8/kKM/xp/iVALZlD8dF94abP2BP1uG8RFt0Is/aDTkAKi2jD+fXy6z+I+VP6mK9r0JzZI/b2gCWzmjcD9GAT/pwAufPynQFFhxnpE/wuSBRTQRkz/w7hDHR3qCP2P5gv7b3mo/0iGulh5moD95jcyMetViP36fIYyXI3g/BVCk2cnzcD9vfrbgup6bP7btrU6N63k/MIDCIkZogz/fdoKlxQquPxrHfjd2J6I/7rPmXDVyiD/So0TTJpaKP5bVxycF0KM/NrD44y4daj98tkT3ShqQP2MVuAjkU2Y/40Rw9nJRlT9/e5N7tsW2P5FsjJazSYQ/8SDT6Cmpmj9b0K1g4A5fPynThesoGZg/usMrRfsVkj873HdZU/t1P2ZI930yClw/\",\"dtype\":\"float64\",\"shape\":[51]},\"positive\":[277,3803,1410,3702,22348,7691,13381,1955,1761,21019,13621,504,1710,1453,22025,8236,1376,2048,21016,26867,8936,698,25635,1650,4388,2942,394,4816,331,871,1020,64584,1345,2971,195031,6975,2069,1584,24199,2976,3439,868,5610,13906,2363,5747,748,10411,3428,633,275],\"positiveDelta\":{\"__ndarray__\":\"fI8TLxBLj8DKZpmKrYqywPTVEGnQVa7AiNzJOWvewcAQP0uSMg3nwOy/kmzac6PA575umVMHvEBWFVVjdd6FQCApz72ckEhAhmO9OFXh0MA0DKsulNWzwMAJ23WwkZ7AyLpzqnDorcCsLbRhLv6awABQE1nu4DfAIFPLlj5wq8Cmb/ZmttmswPaCq4fwnLbAcGpb0dQ+yUCDyd+8EL7MQAgMZ2Xp6pnAbEGPQaS3mcDYzfAd9su/QFKaaLJRK8DAVOmebcfUuMDQjDifjrChwOChOYQQa5fAMIhUhiKxysDMRw7XTh2PwKXCWmxuw6PALFtnC/xglcAZT6t3cO/nQL2EHA1GBaLAWOAEH3GCo8BRBG9LoqwDQXzAMZDAVsrAAagRdfXSssBJkO9XChO3wJA0mnZ9NZ1AJRlY1BnCkUCoD+STOAO2wAhjlz4jBobACmtszT0DucABZTc2GEbiwPzUPWOqMqrAxp0xMXcewsDcq6C26Z11wFhDnDnMwajAxNGnD8ZrusCs4Nxulz+jwFbCLS6GRIbA\",\"dtype\":\"float64\",\"shape\":[51]},\"positiveDeltaRate\":{\"__ndarray__\":\"+x3XHfUQ6b+QeXZ1GcThv9FpfcSyeee/zMLdwxfI5r+sePq0Arjlv6ZdVzr/Tc+/76n/zwKA8j8HZ3a5SNfhP0CvO29lY50/NhLtpH7h3L+SOrO1DmHRv0NqGlftcem/UmIvFpwe5r8zeEpJkWHhvw703dlfvlG/YDCytgYi078Bhx6xL1Dnv8s+1Zo2o+e/GCKr9gqQ+T8/8QrHvGDzP3lI8y42CsS/WJ8S6np45r8O6OyOBsfdP6BAP9earuq/KAxP3YPu4r9ff1SandXbv8R4sNe+Vum/kqWCmGCp578qwkKYHATovwMeKBDYzee/1Q6e4ENV4r8vsZEGETIJQJJ9ZT+oNuS/R2by/jk63b9jb3ayYgoTQLNjcHFXF+W/9eOYBktj5r+PMai/xzvpv6bGPIV8brU//FBz5nPF4z9wfJ1hWd/jvzuLguLGrdy/xL55F3YO4b/FJP8stVTnv3/i4cedxeK/XzSeBF/C47/vPt/tcDzUvwt9M+J73s2/5R/Jjp885b+1QqgChHXpv4dJjLvVFue/\",\"dtype\":\"float64\",\"shape\":[51]},\"positivePC\":{\"__ndarray__\":\"7SeodCGWd0AxEXEssjWIQNvrQzx//3xAIkNRiKdbf0ACTrONmHyBQBpxRA/UjpRAlgMXgexWrUB9Cqf7YDGlQCuY+5yV/ptAkFU77rXdjUAN0hM/3NKTQAdtZFVFTHZAP3OiUBfOgEBDD/F7SN2IQEQezr0ZL5tAU4Z2RvQTk0B+q6crtYx9QDEwpLVGcnxAiYfhckGssUDvNIorCRauQGM4gJrv85ZAKhgWWzw1gEDN0g9iBPCjQAuhJ6YIF3JAQ2jVbCM6hkDGQedBhcGOQNMCmO67qHZADv2/4k5dfECRaN6cqCh7QOvLeZdC4XtAZkmRzco+h0BV6hE77jq8QFAFVVAFDIRAN9cGVECSjUDG8JrAG5jDQOtap0zejYJA5NhWh0VZgECiBXAQdgR3QEf1nHnffZ1ALritIoEDpkD4xT+WhKCEQMnuXUuxCY5AxXHjNaJqiUDfii7HU319QDBQ0V+zf4ZA9bFdC87RhEA5sY5U3puSQFm9m6n23JRAUyfMRnVOgkAegkRPEEB2QBLbB4jMT35A\",\"dtype\":\"float64\",\"shape\":[51]},\"positiveRate\":{\"__ndarray__\":\"Uwew9OYcoj9Kzg8mQaTAPwEs4v26WbE/iXq8kgbdtT9peIesNKe8P5qJ/BENack/1Kq9tNlT0z/FwWK56+LGP/kTxLPkUcI/uGJo+OcQuz+iS5mYvGnOP37QYkJTk5o/aleidiVqtz/c0+r8Xpy4PzqGfI2Rp8o/nwgsyVirxz+D24pEcGi5P7L2vXgVprM/p+u8uArjyD/zNKWVUC3MP8rpZQomGsY/WkjNanEKrT+5LlHIFdrTP8jgyfMK/KU/xmcCkUqPtz+4dUXaxPWzP/JwFac7LKY/hSBllDJzsz8D8z4pY3CfP1qp03ojorM/n4USTK99tj/FuBdf9OzfP0+gRiZKiqU/NTaCo2HevT9c2aRG7BfaP7QVKpJrbLs/BECEPcErtz+EPlAVUQ+qP+qQ04dp3cc/el9KMyvWwD++tbf21t66Px+7Dsktr7g/3ybaCjbZsj/lGkJzlbi6P6oGiBVvbKo/rAaRcqDEwT+fS7vQAnmyP4sB8S7Iabw/uD7o6ejUtT9KpFN48FmjPxbbbKK6m6c/\",\"dtype\":\"float64\",\"shape\":[51]},\"positiveShare\":{\"__ndarray__\":\"vb9arpV1Pz9s7Z3Lmf56P71eRABZBGQ/m9SjtBFHej/CWgp+MdSjP7ChBFTUS4s/8Gn3hs2+lz9ZyOgECcFrP14VLa/7/2g/ZVzu91Gmoj8E/x7e1CuYP4uI/RO6nkw/iDHQZ6JGaD9JknRBn6BkP+mVdXzTiqM/F7wtVQA7jT+DcQYmyIhjP7JJsCwGE20/RFDJhaOloj+MEggip9anP2NMP3wAt48/PCp2tXfRUz/H8ZkG0L6mP18HgbmTbGc/89pfXaElfz/uHlkPCuJ0P7aoY8CjX0Y/U6NFIa8XgT+k9+N9zMtCP6/ygoDuulg/aJmDJvP1XD8gGrpt56a8P2ZGGW4eGGM/dB6KirwWdT/I5EEVfqHVPz+53KlKwYg/c5jlHFhfbT//WJDGtnxmPwyYVJmieKU/ixV4fNIfdT/gQiX/KGl4P3hu4TsgpVg/d3l6Khfpgz8MAJ6VTa2YP4Tz55/pxXA/M8zpnJBlhD/VxaSC5TxVPxSVbbCSeZI/rYnm6itVeD+O+R+RAvlRPypfAaJvOz8/\",\"dtype\":\"float64\",\"shape\":[51]},\"positiveShareDelta\":{\"__ndarray__\":\"pVEMRqFuXL9Froows9iAv/7Taa3Nj3u/cJ6xrjA8kL94rEUdqvG0v8Df+HyOrHG/U58zhU13iT/Gc/ivmt5TP2D/f6aoURY/VkGwj3ysnr94cQXuWAWCv09LllE0xmu/KJS34m0se7+fMnApZoZovwDowykKsgW/6gYvqQjueL949bgidDZ6v+5zxYari4S/VIYgC/Pvlj95xeGQVR2aP7wjt/5LjGe/wLtJ27ZdZ7+QxOlHvuOMP3peycG9YY2/CtxT3JePhr/yvsh+hRJwvzYPag7zRmW/+nG5nGVAmL8gH6faDkVcv9LiAOzb9HG/VtMGIJpsY7+Eeoy1OL+1P4NKoRd+X3C/7OH6us+5cb/slZFgJeDRP5QxDxpH7pe/0U2tVV8agb+SjaAh+faEv2AnzBjXiWo/4Hr3FHYiYD+Iy/ZuAQCEv068jtWnAlS/TxBmws65hr98+ysWY5qwv57lMI19zXe/2DpemmF2kL8MFRK89aNDv1T4YOxYfna/nkLklGABiL/Y3S+1En1xv5zwdpVWO1S/\",\"dtype\":\"float64\",\"shape\":[51]},\"state\":[\"AK\",\"AL\",\"AR\",\"AZ\",\"CA\",\"CO\",\"CT\",\"DC\",\"DE\",\"FL\",\"GA\",\"HI\",\"IA\",\"ID\",\"IL\",\"IN\",\"KS\",\"KY\",\"LA\",\"MA\",\"MD\",\"ME\",\"MI\",\"MN\",\"MO\",\"MS\",\"MT\",\"NC\",\"ND\",\"NE\",\"NH\",\"NJ\",\"NM\",\"NV\",\"NY\",\"OH\",\"OK\",\"OR\",\"PA\",\"RI\",\"SC\",\"SD\",\"TN\",\"TX\",\"UT\",\"VA\",\"VT\",\"WA\",\"WI\",\"WV\",\"WY\"],\"state_name\":[\"Alaska\",\"Alabama\",\"Arkansas\",\"Arizona\",\"California\",\"Colorado\",\"Connecticut\",\"District of Columbia\",\"Delaware\",\"Florida\",\"Georgia\",\"Hawaii\",\"Iowa\",\"Idaho\",\"Illinois\",\"Indiana\",\"Kansas\",\"Kentucky\",\"Louisiana\",\"Massachusetts\",\"Maryland\",\"Maine\",\"Michigan\",\"Minnesota\",\"Missouri\",\"Mississippi\",\"Montana\",\"North Carolina\",\"North Dakota\",\"Nebraska\",\"New Hampshire\",\"New Jersey\",\"New Mexico\",\"Nevada\",\"New York\",\"Ohio\",\"Oklahoma\",\"Oregon\",\"Pennsylvania\",\"Rhode Island\",\"South Carolina\",\"South Dakota\",\"Tennessee\",\"Texas\",\"Utah\",\"Virginia\",\"Vermont\",\"Washington\",\"Wisconsin\",\"West Virginia\",\"Wyoming\"],\"testDelta\":{\"__ndarray__\":\"hEBFc2wAlEDonAQp+GzMwNTLDdGeqrjATPQb99D31cCmiuhSZSEDwbCmfVViNsrAEgt9BOBwyEDnFvY87JaxQOD6LjEzmqtAAIcjZZDro0BSZhzfk8niwEZnZ8rVnbpADCkFE8DnwsBwm2dZFXeSwFAd8mgkIbzAzE1tWbWSzsDWTCbgVqXHwCiLDJQVT8rA59FUc/hE8EDnfaN8IjLtQMAqWqXSx6PAwMopDrCMckDg7d5qMFG7wEyyGxuTTcjAwPW4t7XLvMAQg5kcHZnFQKCsWsvfvYLAJGpmC9aS3sCOIkAbeR+vQHyq5rPUsrfAwCMxqOqSg8DoFHvOZEfoQO7FvQ5H5slAgAFCm7Xxo8DSz14DvZsSQeSXe3jfZOPA+ORz+f5HyMCwiAxm7Vu8wCicHKs1DM5AqsVIcCfIyUDsX33xPNDKwIDhjbxwfo1AxKDEvRyazEDAJ+Hksa7/wOOKwDK7HNBAjqg+6Ohe4cDJAEhveZmyQHD2tlUVqNdABEnzCKx6x8DAjQxhnIqLQFingQkNQYxA\",\"dtype\":\"float64\",\"shape\":[51]},\"testDeltaRate\":{\"__ndarray__\":\"TngPpCYEyT9dPmNcfUPVv33O+LgWzs2/nrgxOKjd1b8Ddo5FuSTcv+8ghCphd9C/Sbs5lEww2T96Tg6I42fmP5hxBG3Qx9k/khKyIaSbij+q+T8XI7TZvxp/X23oS+E/5I5OWPDU1b8nZQNMrZCyv8Umi2KMUbC/Y6ujJsOk0L8Zt0P5rtXdv/WDtJtVeNW/ttiU9vC4+T8FY0Oo7LvuPzY3VWeT4ae/A2HQKJJOmT+WkMRs5fizv7f9zsJAT8+/GPODLM4jwb++Np4+HIjaP3Cr8l/Zqa+/cI7CArwo1b9MbgG5KcHiP9M03EHFSNa/guf9cmo1qr8PrdWv4PPjP0OujfEuruY/Gs5iT4tTt78BzXSmiB78PzNaP7mqP9i/hHccipuL1r+ZUs5vNzbIv8uGB3VSNsE/Xzfw9uRo9j/h9Wcf7uXSv8JJC3LQ+70//vQBWDJ0zj9ntHyaYpTfv5DqO+nRBuI/ESMNQwOU3b9SCQ91uy/rP1yNRU5LSNY/SUhe/553zb/v1fk8fnCsPzY7jug038Y/\",\"dtype\":\"float64\",\"shape\":[51]},\"testPC\":{\"__ndarray__\":\"dHzn3sXVxEBwBFJHvka3QDZCB9isvbpA2sSqrMbytkCDTXvyfIezQPlZ2gCi47lA7IGpycxJyEAW8IdC0aHNQA6Ol60Pc8hAeicPlLynwUB9fOM6q9u0QA8F8yJt2cpAka6IQ4b3tkDJpbpfMyrAQAk0RCpbUcBAx/QdRurKuUAueAxArZuyQNYgLSD2KbdArYM8f1651kDiJ77HgxXRQJ1nJKioncBAC0xNJwncwUA4Wc4wrRHAQBy4uxHJVLpAA4FwEKEwvkCfSY+hbafIQNbJ5jTXWcBASrUJxlBVt0CPWX0wuKTLQJnQCdJvuLZAJz0BRmCJwECbc6qAxUvMQHM6p3MayM1Ad95oAHCuv0BJfALejwfYQGBK89iIprVAtn7PtgiUtkCkv6gBnEO8QE1uEmu+xcNA7DFdGHvr1EC7IuOaj5C4QDKQ6tpYeMNAxumBMlGTxUB/vQCEYaixQIswR1U6P8tA0nOEvXG/skB24VkKMR7QQL5jqmEwf8dA7dcO8zjVukBLP+vRmWXCQArmWwIHi8RA\",\"dtype\":\"float64\",\"shape\":[51]},\"testRate\":{\"__ndarray__\":\"iDDzxN3YhT8QIer3MWh4PyOyre81Cnw/h0GfMSYQeD/T0nXcV3p0P7+IxKOTJXs/Fago99V3iT9/0NBbThKPP8lmcvUZo4k/G658kEmDgj+1c4FyDN91P5fdt1NPJ4w/T4Dl1CAVeD+AMFLJN/OAP822RX5GHIE/E6/UiKgLez8c+S++E4NzP+HfbeYDSng/GPCFIvTTlz9tu0Fu9umRP5lSBthIbIE/K2XEgCC6gj+sblOigNmAP6ltUs85nHs/BfCPFw6ofz9EoY0eA9qJP6kFPAssJYE/79UJrXl3eD8HWVpsevyMP4D6Rd350nc/gY87PARXgT+GF7MapauNP6dzOqdzOo8/IcnDfjScgD9Np3dYYTKZPxwoyMrEs3Y/mF21Es6sdz8NGtsbFqN9PwdKxYKfu4Q/wagH8aDvlT+3sGW6CMJ5P3w17Ht3aoQ//es+Kp6fhj+VQoCD9oNyPyAd6XgOkow/DzbJBJWocz/HODQdoOaQP4bz4P9ho4g/yCvz3OYifD/Nx7DaX0qDP4snrWl9ioU/\",\"dtype\":\"float64\",\"shape\":[51]},\"testShare\":{\"__ndarray__\":\"qRbRqgayZT+IGz9/IEOEP10eN+Vp0nw/qqpSF8sGjj8TTYWp6EmxPxqg6WYu1oo/N2XJ5mKxjj+TcXJ7xktuP1Ym3rnGC3E/n6SkJc02sT/jgKTS8dqTP+GeJUyP53o/ttrtmMjmeT8e28ZCYfB0PzV9ZaAAUaI/IF3OLyzajj8sPrIHDTVzP+KJEEe9e4I/YqIr3/y3oj/ILdZTySKlPwVQfEmL7JE/nRZJUHwMcT+UAllisp+cP082hGFSnoo/NfGp6ZWDkD9NXgrwQCOKP4g1f7RzNWk/iNjfGln0lT8914iVP99tP6B2JQbSd28/UXbq1qMVcD8b8g6QvGumP6CbsqVKJYY/jQFDd5KjgT/+CnYTvbXEPyoc5Tk1jZY/sIJuHz+rfz/l5IivvI6FP7HEnVwOeqY/ULKOYEFYfz+O6p3HF7KGP/gaZUxb8Wg/hCXbGuRjmj8VdgWYSxKnP3YzI4J7t48/DAwZvbStjD9nVC2+4LhsP0PMvNKDPqA/wYhc4TLYiz8xrQ9O5jN3P1CyVUNshmA/\",\"dtype\":\"float64\",\"shape\":[51]},\"testShareDelta\":{\"__ndarray__\":\"+K78jxpgPD/mEjUuvyl0v/7JqZAgf2G/CPnEQD4qf7+MGYtltCOrv+ziLlfal3K/VGEcvCpWcT86xgudFfRYP5JuhhM+lFM/gAuz4IJCTD+6bfoEH6eKv1CQtcE74WI/bKRj++zRar9gdbgqFzI6v+CaqOn182O/2MTt87Cvdb8O8Akuy8Vwv/L4wZVfqXK/kCrlvaUUlz/x+330mbWUP4BUR4/OD0y/gIurUb1QGj+Q9S83dGBjvwbUSp0gPXG/aJy/3vJsZL90veWj5KNuP7A9PKCEliq/ONb4JMivhb+Ik3gRihNWP1zIHRJdz2C/gDY7V8DEK7/HZWc/vjiRP4pJt/wHX3I/MOr3tzpLTL+M2ipUF2a6PxTkMGpug4u/LOVemis5cb+0++6OqB1kv9h4r6ZJUHU/NVqS7qlJcj/UBNdN/ARzv6gsaB266zQ/hIKrkcRJdD/pgCFfIXmmv8qNLdeP23Y/1jWNFJ+kiL9z2Kwb4WJaP7qK53O9x4A/Zv31UYencL9gD31JL4kzP+hw0CKYCjQ/\",\"dtype\":\"float64\",\"shape\":[51]},\"totalTestResults\":[7830,29251,20804,43347,199667,38742,44309,10934,12304,198805,57327,19420,18696,15114,105768,44539,13864,26683,108091,122049,51751,12306,82644,38427,47680,37733,9098,63388,10781,11357,11610,129469,31970,25464,478357,65112,22859,31121,129792,22625,32764,9002,76195,133226,45787,41401,10366,93802,40197,16748,5964]},\"selected\":{\"id\":\"4341\"},\"selection_policy\":{\"id\":\"4342\"}},\"id\":\"3811\",\"type\":\"ColumnDataSource\"},{\"attributes\":{\"callback\":null,\"tooltips\":[[\"State\",\"@state_name\"],[\"Death Share\",\"@deathShare{0.0000%}\"]]},\"id\":\"4076\",\"type\":\"HoverTool\"},{\"attributes\":{},\"id\":\"4320\",\"type\":\"CategoricalTickFormatter\"},{\"attributes\":{\"bottom_units\":\"screen\",\"fill_alpha\":0.5,\"fill_color\":\"lightgrey\",\"left_units\":\"screen\",\"level\":\"overlay\",\"line_alpha\":1.0,\"line_color\":\"black\",\"line_dash\":[4,4],\"line_width\":2,\"render_mode\":\"css\",\"right_units\":\"screen\",\"top_units\":\"screen\"},\"id\":\"4349\",\"type\":\"BoxAnnotation\"},{\"attributes\":{\"fill_color\":{\"value\":\"#1f77b4\"},\"height\":{\"value\":0.5},\"line_color\":{\"value\":\"#1f77b4\"},\"right\":{\"field\":\"hospitalShare\"},\"y\":{\"field\":\"state_name\"}},\"id\":\"4126\",\"type\":\"HBar\"},{\"attributes\":{\"bottom_units\":\"screen\",\"fill_alpha\":0.5,\"fill_color\":\"lightgrey\",\"left_units\":\"screen\",\"level\":\"overlay\",\"line_alpha\":1.0,\"line_color\":\"black\",\"line_dash\":[4,4],\"line_width\":2,\"render_mode\":\"css\",\"right_units\":\"screen\",\"top_units\":\"screen\"},\"id\":\"4350\",\"type\":\"BoxAnnotation\"},{\"attributes\":{\"formatter\":{\"id\":\"4326\"},\"ticker\":{\"id\":\"4068\"}},\"id\":\"4067\",\"type\":\"CategoricalAxis\"},{\"attributes\":{\"format\":\"0.0000%\"},\"id\":\"4130\",\"type\":\"NumeralTickFormatter\"},{\"attributes\":{\"end\":223547.7270232478,\"start\":0},\"id\":\"3815\",\"type\":\"DataRange1d\"},{\"attributes\":{\"active_drag\":\"auto\",\"active_inspect\":\"auto\",\"active_multi\":null,\"active_scroll\":\"auto\",\"active_tap\":\"auto\",\"tools\":[{\"id\":\"4110\"},{\"id\":\"4111\"},{\"id\":\"4112\"},{\"id\":\"4113\"},{\"id\":\"4114\"},{\"id\":\"4115\"},{\"id\":\"4116\"}]},\"id\":\"4117\",\"type\":\"Toolbar\"},{\"attributes\":{\"axis\":{\"id\":\"4063\"},\"ticker\":null},\"id\":\"4066\",\"type\":\"Grid\"},{\"attributes\":{},\"id\":\"4110\",\"type\":\"PanTool\"},{\"attributes\":{},\"id\":\"4064\",\"type\":\"BasicTicker\"},{\"attributes\":{},\"id\":\"4111\",\"type\":\"WheelZoomTool\"},{\"attributes\":{\"axis_label\":\"Confirmed Deaths as % of Total US Covid Deaths\",\"formatter\":{\"id\":\"4090\"},\"ticker\":{\"id\":\"4064\"}},\"id\":\"4063\",\"type\":\"LinearAxis\"},{\"attributes\":{\"overlay\":{\"id\":\"4350\"}},\"id\":\"4112\",\"type\":\"BoxZoomTool\"},{\"attributes\":{},\"id\":\"4024\",\"type\":\"BasicTicker\"},{\"attributes\":{},\"id\":\"4113\",\"type\":\"SaveTool\"},{\"attributes\":{},\"id\":\"4061\",\"type\":\"CategoricalScale\"},{\"attributes\":{},\"id\":\"4070\",\"type\":\"PanTool\"},{\"attributes\":{},\"id\":\"4114\",\"type\":\"ResetTool\"},{\"attributes\":{\"fill_alpha\":{\"value\":0.1},\"fill_color\":{\"value\":\"#1f77b4\"},\"height\":{\"value\":0.5},\"line_alpha\":{\"value\":0.1},\"line_color\":{\"value\":\"#1f77b4\"},\"right\":{\"field\":\"deathShare\"},\"y\":{\"field\":\"state_name\"}},\"id\":\"4087\",\"type\":\"HBar\"},{\"attributes\":{},\"id\":\"4115\",\"type\":\"HelpTool\"},{\"attributes\":{\"format\":\"0.0000%\"},\"id\":\"4090\",\"type\":\"NumeralTickFormatter\"},{\"attributes\":{\"callback\":null,\"tooltips\":[[\"State\",\"@state_name\"],[\"Hosp. Share\",\"@hospitalShare{0.0000%}\"]]},\"id\":\"4116\",\"type\":\"HoverTool\"},{\"attributes\":{},\"id\":\"3819\",\"type\":\"LinearScale\"},{\"attributes\":{\"fill_color\":{\"value\":\"#1f77b4\"},\"height\":{\"value\":0.5},\"line_color\":{\"value\":\"#1f77b4\"},\"right\":{\"field\":\"deathShare\"},\"y\":{\"field\":\"state_name\"}},\"id\":\"4086\",\"type\":\"HBar\"},{\"attributes\":{\"below\":[{\"id\":\"4103\"}],\"center\":[{\"id\":\"4106\"},{\"id\":\"4109\"}],\"left\":[{\"id\":\"4107\"}],\"plot_height\":1000,\"plot_width\":800,\"renderers\":[{\"id\":\"4128\"}],\"title\":{\"id\":\"4093\"},\"toolbar\":{\"id\":\"4117\"},\"toolbar_location\":\"above\",\"x_range\":{\"id\":\"4095\"},\"x_scale\":{\"id\":\"4099\"},\"y_range\":{\"id\":\"4097\"},\"y_scale\":{\"id\":\"4101\"}},\"id\":\"4092\",\"subtype\":\"Figure\",\"type\":\"Plot\"},{\"attributes\":{\"data_source\":{\"id\":\"3811\"},\"glyph\":{\"id\":\"4126\"},\"hover_glyph\":null,\"muted_glyph\":null,\"nonselection_glyph\":{\"id\":\"4127\"},\"selection_glyph\":null,\"view\":{\"id\":\"4129\"}},\"id\":\"4128\",\"type\":\"GlyphRenderer\"},{\"attributes\":{\"axis\":{\"id\":\"4067\"},\"dimension\":1,\"grid_line_color\":null,\"ticker\":null},\"id\":\"4069\",\"type\":\"Grid\"},{\"attributes\":{\"factors\":[\"Wyoming\",\"West Virginia\",\"Wisconsin\",\"Washington\",\"Vermont\",\"Virginia\",\"Utah\",\"Texas\",\"Tennessee\",\"South Dakota\",\"South Carolina\",\"Rhode Island\",\"Pennsylvania\",\"Oregon\",\"Oklahoma\",\"Ohio\",\"New York\",\"Nevada\",\"New Mexico\",\"New Jersey\",\"New Hampshire\",\"Nebraska\",\"North Dakota\",\"North Carolina\",\"Montana\",\"Mississippi\",\"Missouri\",\"Minnesota\",\"Michigan\",\"Maine\",\"Maryland\",\"Massachusetts\",\"Louisiana\",\"Kentucky\",\"Kansas\",\"Indiana\",\"Illinois\",\"Idaho\",\"Iowa\",\"Hawaii\",\"Georgia\",\"Florida\",\"Delaware\",\"District of Columbia\",\"Connecticut\",\"Colorado\",\"California\",\"Arizona\",\"Arkansas\",\"Alabama\",\"Alaska\"]},\"id\":\"3817\",\"type\":\"FactorRange\"},{\"attributes\":{\"source\":{\"id\":\"3811\"}},\"id\":\"4129\",\"type\":\"CDSView\"},{\"attributes\":{},\"id\":\"4068\",\"type\":\"CategoricalTicker\"},{\"attributes\":{},\"id\":\"3821\",\"type\":\"CategoricalScale\"},{\"attributes\":{\"child\":{\"id\":\"3932\"},\"title\":\"Infection Rate\"},\"id\":\"4132\",\"type\":\"Panel\"}],\"root_ids\":[\"4140\"]},\"title\":\"Bokeh Application\",\"version\":\"2.0.0\"}};\n",
       "  var render_items = [{\"docid\":\"882778fb-33b0-4107-b776-d85cdc254dbe\",\"root_ids\":[\"4140\"],\"roots\":{\"4140\":\"98b8d271-72f8-4e06-9ca7-d5267150887e\"}}];\n",
       "  root.Bokeh.embed.embed_items_notebook(docs_json, render_items);\n",
       "\n",
       "  }\n",
       "  if (root.Bokeh !== undefined) {\n",
       "    embed_document(root);\n",
       "  } else {\n",
       "    var attempts = 0;\n",
       "    var timer = setInterval(function(root) {\n",
       "      if (root.Bokeh !== undefined) {\n",
       "        clearInterval(timer);\n",
       "        embed_document(root);\n",
       "      } else {\n",
       "        attempts++;\n",
       "        if (attempts > 100) {\n",
       "          clearInterval(timer);\n",
       "          console.log(\"Bokeh: ERROR: Unable to run BokehJS code because BokehJS library is missing\");\n",
       "        }\n",
       "      }\n",
       "    }, 10, root)\n",
       "  }\n",
       "})(window);"
      ],
      "application/vnd.bokehjs_exec.v0+json": ""
     },
     "metadata": {
      "application/vnd.bokehjs_exec.v0+json": {
       "id": "4140"
      }
     },
     "output_type": "display_data"
    }
   ],
   "source": [
    "source = ColumnDataSource(data=covid)\n",
    "plot_height = 1000\n",
    "plot_width = 800\n",
    "width = 0.5\n",
    "\n",
    "panels = []\n",
    "\n",
    "title_p = \"COVID Confirmed: {:,} - Death Rate: {:.2%} - Hosp. Rate: {:.2%}\".format(total_positives, death_rate, hospitalization_rate)\n",
    "title_q = \"COVID Deaths: {:,} - Death Rate: {:.2%}\".format(total_deaths, death_rate)\n",
    "title_z = \"COVID Hospitalized: {:,} - Hospitalization Rate: {:.2%}\".format(total_hospitalized, hospitalization_rate)\n",
    "title_x = \"COVID US National Infection Rate: {:.4%}\".format(infection_rate)\n",
    "title_y = \"COVID US Confirmed / Expected Delta\"\n",
    "title_m = \"COVID US Percentage Share of Confirmed Cases by State\"\n",
    "title_n = \"COVID US Percentage Share of Deaths by State\"\n",
    "title_o = \"COVID US Percentage Share of Hospitalizations by State\" # FIX O\n",
    "\n",
    "pTOOLTIPS = [\n",
    "    (\"State\", \"@state_name\"),\n",
    "    (\"Cases\", \"@positive{0,0}\"),\n",
    "]\n",
    "qTOOLTIPS = [\n",
    "    (\"State\", \"@state_name\"),\n",
    "    (\"Deaths\", \"@death{0,0}\"),\n",
    "]\n",
    "zTOOLTIPS = [\n",
    "    (\"State\", \"@state_name\"),\n",
    "    (\"Hospitalized\", \"@hospitalized{0,0}\"),\n",
    "]\n",
    "xTOOLTIPS = [\n",
    "    (\"State\", \"@state_name\"),\n",
    "    (\"Inf. Rate\", \"@infectionRate{0.0000%}\"),\n",
    "]\n",
    "yTOOLTIPS = [\n",
    "    (\"State\", \"@state_name\"),\n",
    "    (\"Positive Delta\", \"@positiveDelta{0,0}\"),\n",
    "]\n",
    "mTOOLTIPS = [\n",
    "    (\"State\", \"@state_name\"),\n",
    "    (\"Positive Share\", \"@positiveShare{0.0000%}\"),\n",
    "]\n",
    "nTOOLTIPS = [\n",
    "    (\"State\", \"@state_name\"),\n",
    "    (\"Death Share\", \"@deathShare{0.0000%}\"),\n",
    "]\n",
    "oTOOLTIPS = [\n",
    "    (\"State\", \"@state_name\"),\n",
    "    (\"Hosp. Share\", \"@hospitalShare{0.0000%}\"),\n",
    "]\n",
    "\n",
    "alpha_index = index[::-1]\n",
    "\n",
    "p = figure(y_range=alpha_index, plot_height=plot_height, plot_width=plot_width, title=title_p, toolbar_location=\"above\", tooltips=pTOOLTIPS)\n",
    "p.hbar(y='state_name', right='positive', height=width, source=source, line_color='white')\n",
    "p.ygrid.grid_line_color = None\n",
    "p.x_range.start = 0\n",
    "p.x_range.end = covid['positive'].max() + covid['positive'].std()\n",
    "#p.yaxis.major_label_orientation = math.pi / 4\n",
    "p.xaxis.axis_label = \"Confirmed Cases\"\n",
    "p.xaxis.formatter = NumeralTickFormatter(format=\"0,0\")\n",
    "\n",
    "q = figure(y_range=alpha_index, plot_height=plot_height, plot_width=plot_width, title=title_q, toolbar_location=\"above\", tooltips=qTOOLTIPS)\n",
    "q.hbar(y='state_name', right='death', height=width, source=source, line_color='white')\n",
    "q.ygrid.grid_line_color = None\n",
    "q.x_range.start = 0\n",
    "q.x_range.end = covid['death'].max() + covid['death'].std()\n",
    "#q.xaxis.major_label_orientation = math.pi / 4\n",
    "q.xaxis.axis_label = \"Confirmed Deaths\"\n",
    "q.xaxis.formatter = NumeralTickFormatter(format=\"0,0\")\n",
    "\n",
    "z = figure(y_range=alpha_index, plot_height=plot_height, plot_width=plot_width, title=title_z, toolbar_location=\"above\", tooltips=zTOOLTIPS)\n",
    "z.hbar(y='state_name', right='hospitalized', height=width, source=source, line_color='white')\n",
    "z.ygrid.grid_line_color = None\n",
    "z.x_range.start = 0\n",
    "z.x_range.end = covid['hospitalized'].max() + covid['hospitalized'].std()\n",
    "#z.xaxis.major_label_orientation = math.pi / 4\n",
    "z.xaxis.axis_label = \"Confirmed Hospitalizations\"\n",
    "z.xaxis.formatter = NumeralTickFormatter(format=\"0,0\")\n",
    "\n",
    "x = figure(y_range=alpha_index, plot_height=plot_height, plot_width=plot_width, title=title_x, toolbar_location=\"above\", tooltips=xTOOLTIPS)\n",
    "x.hbar(y='state_name', right='infectionRate', height=width, source=source)\n",
    "x.ygrid.grid_line_color = None\n",
    "x.x_range.start = 0\n",
    "x.x_range.end = covid['infectionRate'].max() + covid['infectionRate'].std()\n",
    "#x.xaxis.major_label_orientation = math.pi / 4\n",
    "x.xaxis.axis_label = \"Confirmed Cases as % of State Population\"\n",
    "x.xaxis.formatter = NumeralTickFormatter(format=\"0.0000%\")\n",
    "\n",
    "y = figure(y_range=alpha_index, plot_height=plot_height, plot_width=plot_width, title=title_y, toolbar_location=\"above\", tooltips=yTOOLTIPS)\n",
    "y.hbar(y='state_name', right='positiveDelta', height=width, source=source)\n",
    "y.ygrid.grid_line_color = None\n",
    "y.x_range.start = covid['positiveDelta'].min() - covid['positiveDelta'].std()\n",
    "y.x_range.end = covid['positiveDelta'].max() + covid['positiveDelta'].std()\n",
    "#y.xaxis.major_label_orientation = math.pi / 4\n",
    "y.xaxis.axis_label = \"Actual Covid Cases - Expected Covid Cases\"\n",
    "y.xaxis.formatter = NumeralTickFormatter(format=\"0,0\")\n",
    "\n",
    "m = figure(y_range=alpha_index, plot_height=plot_height, plot_width=plot_width, title=title_m, toolbar_location=\"above\", tooltips=mTOOLTIPS)\n",
    "m.hbar(y='state_name', right='positiveShare', height=width, source=source)\n",
    "m.ygrid.grid_line_color = None\n",
    "m.x_range.start = 0\n",
    "m.x_range.end = covid['positiveShare'].max() + covid['positiveShare'].std()\n",
    "#m.xaxis.major_label_orientation = math.pi / 4\n",
    "m.xaxis.axis_label = \"Confirmed Cases as % of Total US Cases\"\n",
    "m.xaxis.formatter = NumeralTickFormatter(format=\"0.0000%\")\n",
    "\n",
    "n = figure(y_range=alpha_index, plot_height=plot_height, plot_width=plot_width, title=title_n, toolbar_location=\"above\", tooltips=nTOOLTIPS)\n",
    "n.hbar(y='state_name', right='deathShare', height=width, source=source)\n",
    "n.ygrid.grid_line_color = None\n",
    "n.x_range.start = 0\n",
    "n.x_range.end = covid['deathShare'].max() + covid['deathShare'].std()\n",
    "#n.xaxis.major_label_orientation = math.pi / 4\n",
    "n.xaxis.axis_label = \"Confirmed Deaths as % of Total US Covid Deaths\"\n",
    "n.xaxis.formatter = NumeralTickFormatter(format=\"0.0000%\")\n",
    "\n",
    "o = figure(y_range=alpha_index, plot_height=plot_height, plot_width=plot_width, title=title_o, toolbar_location=\"above\", tooltips=oTOOLTIPS)\n",
    "o.hbar(y='state_name', right='hospitalShare', height=width, source=source)\n",
    "o.ygrid.grid_line_color = None\n",
    "o.x_range.start = 0\n",
    "o.x_range.end = covid['hospitalShare'].max() + covid['hospitalShare'].std()\n",
    "#o.xaxis.major_label_orientation = math.pi / 4\n",
    "o.xaxis.axis_label = \"Confirmed Recoveries as % of Total US Recoveries\"\n",
    "o.xaxis.formatter = NumeralTickFormatter(format=\"0.0000%\")\n",
    "\n",
    "charts = [\n",
    "    (x, \"Infection Rate\"),\n",
    "    (y, \"Positive Delta\"),\n",
    "    (m, \"Positive Share\"),\n",
    "    (n, \"Death Share\"),\n",
    "    (p, \"Positives\"),\n",
    "    (q, \"Deaths\"),\n",
    "    (z, \"Hospitalized\"),\n",
    "    (o, \"Hospitalized Share\"),\n",
    "]\n",
    "\n",
    "for viz, title in charts:\n",
    "    panel = Panel(child=viz, title=title)\n",
    "    panels.append(panel)\n",
    "\n",
    "tabs = Tabs(tabs=panels)\n",
    "\n",
    "show(tabs)"
   ]
  },
  {
   "cell_type": "code",
   "execution_count": 57,
   "metadata": {
    "jupyter": {
     "source_hidden": true
    }
   },
   "outputs": [
    {
     "data": {
      "application/vnd.plotly.v1+json": {
       "config": {
        "plotlyServerURL": "https://plot.ly"
       },
       "data": [
        {
         "marker": {
          "color": [
           "red",
           "red",
           "red",
           "red",
           "red",
           "red",
           "red",
           "red",
           "red",
           "red",
           "green",
           "green",
           "green",
           "green",
           "green",
           "green",
           "green",
           "green",
           "green",
           "green",
           "green",
           "green",
           "green",
           "green",
           "green",
           "green",
           "green",
           "green",
           "green",
           "green",
           "green",
           "green",
           "green",
           "green",
           "green",
           "green",
           "green",
           "green",
           "green",
           "green",
           "green",
           "green",
           "green",
           "green",
           "green",
           "green",
           "green",
           "green",
           "green",
           "green",
           "green"
          ]
         },
         "type": "bar",
         "x": [
          "NY",
          "NJ",
          "MA",
          "LA",
          "MI",
          "CT",
          "PA",
          "RI",
          "DC",
          "DE",
          "IL",
          "VT",
          "SD",
          "WY",
          "ND",
          "AK",
          "NH",
          "MT",
          "ME",
          "MD",
          "ID",
          "HI",
          "MS",
          "NM",
          "WV",
          "CO",
          "NV",
          "NE",
          "WA",
          "UT",
          "IN",
          "KS",
          "IA",
          "AR",
          "AL",
          "OK",
          "GA",
          "SC",
          "KY",
          "OR",
          "MO",
          "TN",
          "WI",
          "MN",
          "AZ",
          "VA",
          "OH",
          "NC",
          "FL",
          "TX",
          "CA"
         ],
         "y": [
          0.27930578642403137,
          0.08494905884115594,
          0.02550252625264224,
          0.022399709276334015,
          0.01410626084291014,
          0.012434583308688884,
          0.0032395554648062957,
          0.001969557408059472,
          0.0012127409571640476,
          8.514015064519992e-05,
          -4.138082042177971e-05,
          -0.0005993795276856575,
          -0.0012213362699460442,
          -0.0012348504586574887,
          -0.001725449090928373,
          -0.001735360616469264,
          -0.002371121430963556,
          -0.0025973078912232784,
          -0.0028523036401603974,
          -0.002874515941333004,
          -0.002993773970507554,
          -0.003390409645996163,
          -0.003923913446257409,
          -0.0039973187904985856,
          -0.00426966960639371,
          -0.004314953417228595,
          -0.00432759422954419,
          -0.004383906431080846,
          -0.005491587979177554,
          -0.0058112053257501056,
          -0.006086381751573925,
          -0.006399587302039371,
          -0.006634167900732492,
          -0.006728938510254244,
          -0.008225822371364386,
          -0.008351082613137802,
          -0.008799261821587065,
          -0.009765635680059295,
          -0.010032024431604083,
          -0.010236688936919678,
          -0.011016069804538748,
          -0.011096587474419687,
          -0.011721376937687208,
          -0.01434658286704792,
          -0.015854607260193665,
          -0.016076588675384723,
          -0.023369894948517336,
          -0.023683154764841043,
          -0.029954859037446845,
          -0.06485575953773365,
          -0.08181250776913085
         ]
        }
       ],
       "layout": {
        "autosize": false,
        "height": 800,
        "margin": {
         "b": 100,
         "l": 50,
         "pad": 4,
         "r": 50,
         "t": 100
        },
        "template": {
         "data": {
          "bar": [
           {
            "error_x": {
             "color": "#2a3f5f"
            },
            "error_y": {
             "color": "#2a3f5f"
            },
            "marker": {
             "line": {
              "color": "#E5ECF6",
              "width": 0.5
             }
            },
            "type": "bar"
           }
          ],
          "barpolar": [
           {
            "marker": {
             "line": {
              "color": "#E5ECF6",
              "width": 0.5
             }
            },
            "type": "barpolar"
           }
          ],
          "carpet": [
           {
            "aaxis": {
             "endlinecolor": "#2a3f5f",
             "gridcolor": "white",
             "linecolor": "white",
             "minorgridcolor": "white",
             "startlinecolor": "#2a3f5f"
            },
            "baxis": {
             "endlinecolor": "#2a3f5f",
             "gridcolor": "white",
             "linecolor": "white",
             "minorgridcolor": "white",
             "startlinecolor": "#2a3f5f"
            },
            "type": "carpet"
           }
          ],
          "choropleth": [
           {
            "colorbar": {
             "outlinewidth": 0,
             "ticks": ""
            },
            "type": "choropleth"
           }
          ],
          "contour": [
           {
            "colorbar": {
             "outlinewidth": 0,
             "ticks": ""
            },
            "colorscale": [
             [
              0,
              "#0d0887"
             ],
             [
              0.1111111111111111,
              "#46039f"
             ],
             [
              0.2222222222222222,
              "#7201a8"
             ],
             [
              0.3333333333333333,
              "#9c179e"
             ],
             [
              0.4444444444444444,
              "#bd3786"
             ],
             [
              0.5555555555555556,
              "#d8576b"
             ],
             [
              0.6666666666666666,
              "#ed7953"
             ],
             [
              0.7777777777777778,
              "#fb9f3a"
             ],
             [
              0.8888888888888888,
              "#fdca26"
             ],
             [
              1,
              "#f0f921"
             ]
            ],
            "type": "contour"
           }
          ],
          "contourcarpet": [
           {
            "colorbar": {
             "outlinewidth": 0,
             "ticks": ""
            },
            "type": "contourcarpet"
           }
          ],
          "heatmap": [
           {
            "colorbar": {
             "outlinewidth": 0,
             "ticks": ""
            },
            "colorscale": [
             [
              0,
              "#0d0887"
             ],
             [
              0.1111111111111111,
              "#46039f"
             ],
             [
              0.2222222222222222,
              "#7201a8"
             ],
             [
              0.3333333333333333,
              "#9c179e"
             ],
             [
              0.4444444444444444,
              "#bd3786"
             ],
             [
              0.5555555555555556,
              "#d8576b"
             ],
             [
              0.6666666666666666,
              "#ed7953"
             ],
             [
              0.7777777777777778,
              "#fb9f3a"
             ],
             [
              0.8888888888888888,
              "#fdca26"
             ],
             [
              1,
              "#f0f921"
             ]
            ],
            "type": "heatmap"
           }
          ],
          "heatmapgl": [
           {
            "colorbar": {
             "outlinewidth": 0,
             "ticks": ""
            },
            "colorscale": [
             [
              0,
              "#0d0887"
             ],
             [
              0.1111111111111111,
              "#46039f"
             ],
             [
              0.2222222222222222,
              "#7201a8"
             ],
             [
              0.3333333333333333,
              "#9c179e"
             ],
             [
              0.4444444444444444,
              "#bd3786"
             ],
             [
              0.5555555555555556,
              "#d8576b"
             ],
             [
              0.6666666666666666,
              "#ed7953"
             ],
             [
              0.7777777777777778,
              "#fb9f3a"
             ],
             [
              0.8888888888888888,
              "#fdca26"
             ],
             [
              1,
              "#f0f921"
             ]
            ],
            "type": "heatmapgl"
           }
          ],
          "histogram": [
           {
            "marker": {
             "colorbar": {
              "outlinewidth": 0,
              "ticks": ""
             }
            },
            "type": "histogram"
           }
          ],
          "histogram2d": [
           {
            "colorbar": {
             "outlinewidth": 0,
             "ticks": ""
            },
            "colorscale": [
             [
              0,
              "#0d0887"
             ],
             [
              0.1111111111111111,
              "#46039f"
             ],
             [
              0.2222222222222222,
              "#7201a8"
             ],
             [
              0.3333333333333333,
              "#9c179e"
             ],
             [
              0.4444444444444444,
              "#bd3786"
             ],
             [
              0.5555555555555556,
              "#d8576b"
             ],
             [
              0.6666666666666666,
              "#ed7953"
             ],
             [
              0.7777777777777778,
              "#fb9f3a"
             ],
             [
              0.8888888888888888,
              "#fdca26"
             ],
             [
              1,
              "#f0f921"
             ]
            ],
            "type": "histogram2d"
           }
          ],
          "histogram2dcontour": [
           {
            "colorbar": {
             "outlinewidth": 0,
             "ticks": ""
            },
            "colorscale": [
             [
              0,
              "#0d0887"
             ],
             [
              0.1111111111111111,
              "#46039f"
             ],
             [
              0.2222222222222222,
              "#7201a8"
             ],
             [
              0.3333333333333333,
              "#9c179e"
             ],
             [
              0.4444444444444444,
              "#bd3786"
             ],
             [
              0.5555555555555556,
              "#d8576b"
             ],
             [
              0.6666666666666666,
              "#ed7953"
             ],
             [
              0.7777777777777778,
              "#fb9f3a"
             ],
             [
              0.8888888888888888,
              "#fdca26"
             ],
             [
              1,
              "#f0f921"
             ]
            ],
            "type": "histogram2dcontour"
           }
          ],
          "mesh3d": [
           {
            "colorbar": {
             "outlinewidth": 0,
             "ticks": ""
            },
            "type": "mesh3d"
           }
          ],
          "parcoords": [
           {
            "line": {
             "colorbar": {
              "outlinewidth": 0,
              "ticks": ""
             }
            },
            "type": "parcoords"
           }
          ],
          "pie": [
           {
            "automargin": true,
            "type": "pie"
           }
          ],
          "scatter": [
           {
            "marker": {
             "colorbar": {
              "outlinewidth": 0,
              "ticks": ""
             }
            },
            "type": "scatter"
           }
          ],
          "scatter3d": [
           {
            "line": {
             "colorbar": {
              "outlinewidth": 0,
              "ticks": ""
             }
            },
            "marker": {
             "colorbar": {
              "outlinewidth": 0,
              "ticks": ""
             }
            },
            "type": "scatter3d"
           }
          ],
          "scattercarpet": [
           {
            "marker": {
             "colorbar": {
              "outlinewidth": 0,
              "ticks": ""
             }
            },
            "type": "scattercarpet"
           }
          ],
          "scattergeo": [
           {
            "marker": {
             "colorbar": {
              "outlinewidth": 0,
              "ticks": ""
             }
            },
            "type": "scattergeo"
           }
          ],
          "scattergl": [
           {
            "marker": {
             "colorbar": {
              "outlinewidth": 0,
              "ticks": ""
             }
            },
            "type": "scattergl"
           }
          ],
          "scattermapbox": [
           {
            "marker": {
             "colorbar": {
              "outlinewidth": 0,
              "ticks": ""
             }
            },
            "type": "scattermapbox"
           }
          ],
          "scatterpolar": [
           {
            "marker": {
             "colorbar": {
              "outlinewidth": 0,
              "ticks": ""
             }
            },
            "type": "scatterpolar"
           }
          ],
          "scatterpolargl": [
           {
            "marker": {
             "colorbar": {
              "outlinewidth": 0,
              "ticks": ""
             }
            },
            "type": "scatterpolargl"
           }
          ],
          "scatterternary": [
           {
            "marker": {
             "colorbar": {
              "outlinewidth": 0,
              "ticks": ""
             }
            },
            "type": "scatterternary"
           }
          ],
          "surface": [
           {
            "colorbar": {
             "outlinewidth": 0,
             "ticks": ""
            },
            "colorscale": [
             [
              0,
              "#0d0887"
             ],
             [
              0.1111111111111111,
              "#46039f"
             ],
             [
              0.2222222222222222,
              "#7201a8"
             ],
             [
              0.3333333333333333,
              "#9c179e"
             ],
             [
              0.4444444444444444,
              "#bd3786"
             ],
             [
              0.5555555555555556,
              "#d8576b"
             ],
             [
              0.6666666666666666,
              "#ed7953"
             ],
             [
              0.7777777777777778,
              "#fb9f3a"
             ],
             [
              0.8888888888888888,
              "#fdca26"
             ],
             [
              1,
              "#f0f921"
             ]
            ],
            "type": "surface"
           }
          ],
          "table": [
           {
            "cells": {
             "fill": {
              "color": "#EBF0F8"
             },
             "line": {
              "color": "white"
             }
            },
            "header": {
             "fill": {
              "color": "#C8D4E3"
             },
             "line": {
              "color": "white"
             }
            },
            "type": "table"
           }
          ]
         },
         "layout": {
          "annotationdefaults": {
           "arrowcolor": "#2a3f5f",
           "arrowhead": 0,
           "arrowwidth": 1
          },
          "coloraxis": {
           "colorbar": {
            "outlinewidth": 0,
            "ticks": ""
           }
          },
          "colorscale": {
           "diverging": [
            [
             0,
             "#8e0152"
            ],
            [
             0.1,
             "#c51b7d"
            ],
            [
             0.2,
             "#de77ae"
            ],
            [
             0.3,
             "#f1b6da"
            ],
            [
             0.4,
             "#fde0ef"
            ],
            [
             0.5,
             "#f7f7f7"
            ],
            [
             0.6,
             "#e6f5d0"
            ],
            [
             0.7,
             "#b8e186"
            ],
            [
             0.8,
             "#7fbc41"
            ],
            [
             0.9,
             "#4d9221"
            ],
            [
             1,
             "#276419"
            ]
           ],
           "sequential": [
            [
             0,
             "#0d0887"
            ],
            [
             0.1111111111111111,
             "#46039f"
            ],
            [
             0.2222222222222222,
             "#7201a8"
            ],
            [
             0.3333333333333333,
             "#9c179e"
            ],
            [
             0.4444444444444444,
             "#bd3786"
            ],
            [
             0.5555555555555556,
             "#d8576b"
            ],
            [
             0.6666666666666666,
             "#ed7953"
            ],
            [
             0.7777777777777778,
             "#fb9f3a"
            ],
            [
             0.8888888888888888,
             "#fdca26"
            ],
            [
             1,
             "#f0f921"
            ]
           ],
           "sequentialminus": [
            [
             0,
             "#0d0887"
            ],
            [
             0.1111111111111111,
             "#46039f"
            ],
            [
             0.2222222222222222,
             "#7201a8"
            ],
            [
             0.3333333333333333,
             "#9c179e"
            ],
            [
             0.4444444444444444,
             "#bd3786"
            ],
            [
             0.5555555555555556,
             "#d8576b"
            ],
            [
             0.6666666666666666,
             "#ed7953"
            ],
            [
             0.7777777777777778,
             "#fb9f3a"
            ],
            [
             0.8888888888888888,
             "#fdca26"
            ],
            [
             1,
             "#f0f921"
            ]
           ]
          },
          "colorway": [
           "#636efa",
           "#EF553B",
           "#00cc96",
           "#ab63fa",
           "#FFA15A",
           "#19d3f3",
           "#FF6692",
           "#B6E880",
           "#FF97FF",
           "#FECB52"
          ],
          "font": {
           "color": "#2a3f5f"
          },
          "geo": {
           "bgcolor": "white",
           "lakecolor": "white",
           "landcolor": "#E5ECF6",
           "showlakes": true,
           "showland": true,
           "subunitcolor": "white"
          },
          "hoverlabel": {
           "align": "left"
          },
          "hovermode": "closest",
          "mapbox": {
           "style": "light"
          },
          "paper_bgcolor": "white",
          "plot_bgcolor": "#E5ECF6",
          "polar": {
           "angularaxis": {
            "gridcolor": "white",
            "linecolor": "white",
            "ticks": ""
           },
           "bgcolor": "#E5ECF6",
           "radialaxis": {
            "gridcolor": "white",
            "linecolor": "white",
            "ticks": ""
           }
          },
          "scene": {
           "xaxis": {
            "backgroundcolor": "#E5ECF6",
            "gridcolor": "white",
            "gridwidth": 2,
            "linecolor": "white",
            "showbackground": true,
            "ticks": "",
            "zerolinecolor": "white"
           },
           "yaxis": {
            "backgroundcolor": "#E5ECF6",
            "gridcolor": "white",
            "gridwidth": 2,
            "linecolor": "white",
            "showbackground": true,
            "ticks": "",
            "zerolinecolor": "white"
           },
           "zaxis": {
            "backgroundcolor": "#E5ECF6",
            "gridcolor": "white",
            "gridwidth": 2,
            "linecolor": "white",
            "showbackground": true,
            "ticks": "",
            "zerolinecolor": "white"
           }
          },
          "shapedefaults": {
           "line": {
            "color": "#2a3f5f"
           }
          },
          "ternary": {
           "aaxis": {
            "gridcolor": "white",
            "linecolor": "white",
            "ticks": ""
           },
           "baxis": {
            "gridcolor": "white",
            "linecolor": "white",
            "ticks": ""
           },
           "bgcolor": "#E5ECF6",
           "caxis": {
            "gridcolor": "white",
            "linecolor": "white",
            "ticks": ""
           }
          },
          "title": {
           "x": 0.05
          },
          "xaxis": {
           "automargin": true,
           "gridcolor": "white",
           "linecolor": "white",
           "ticks": "",
           "title": {
            "standoff": 15
           },
           "zerolinecolor": "white",
           "zerolinewidth": 2
          },
          "yaxis": {
           "automargin": true,
           "gridcolor": "white",
           "linecolor": "white",
           "ticks": "",
           "title": {
            "standoff": 15
           },
           "zerolinecolor": "white",
           "zerolinewidth": 2
          }
         }
        },
        "title": {
         "text": "Share of Positive Tests vs Share of Population Delta"
        },
        "width": 800,
        "xaxis": {
         "autorange": true,
         "range": [
          -0.5,
          50.5
         ],
         "tickfont": {
          "size": 8
         },
         "type": "category"
        },
        "yaxis": {
         "autorange": true,
         "range": [
          -0.10187463522430654,
          0.299367913879207
         ],
         "tickformat": "0.0%",
         "type": "linear"
        }
       }
      },
      "image/png": "[encoded data removed]",
      "text/html": [
       "<div>\n",
       "        \n",
       "        \n",
       "            <div id=\"926f08cb-8820-452a-8818-5779915bdc5e\" class=\"plotly-graph-div\" style=\"height:800px; width:800px;\"></div>\n",
       "            <script type=\"text/javascript\">\n",
       "                require([\"plotly\"], function(Plotly) {\n",
       "                    window.PLOTLYENV=window.PLOTLYENV || {};\n",
       "                    \n",
       "                if (document.getElementById(\"926f08cb-8820-452a-8818-5779915bdc5e\")) {\n",
       "                    Plotly.newPlot(\n",
       "                        '926f08cb-8820-452a-8818-5779915bdc5e',\n",
       "                        [{\"marker\": {\"color\": [\"red\", \"red\", \"red\", \"red\", \"red\", \"red\", \"red\", \"red\", \"red\", \"red\", \"green\", \"green\", \"green\", \"green\", \"green\", \"green\", \"green\", \"green\", \"green\", \"green\", \"green\", \"green\", \"green\", \"green\", \"green\", \"green\", \"green\", \"green\", \"green\", \"green\", \"green\", \"green\", \"green\", \"green\", \"green\", \"green\", \"green\", \"green\", \"green\", \"green\", \"green\", \"green\", \"green\", \"green\", \"green\", \"green\", \"green\", \"green\", \"green\", \"green\", \"green\"]}, \"type\": \"bar\", \"x\": [\"NY\", \"NJ\", \"MA\", \"LA\", \"MI\", \"CT\", \"PA\", \"RI\", \"DC\", \"DE\", \"IL\", \"VT\", \"SD\", \"WY\", \"ND\", \"AK\", \"NH\", \"MT\", \"ME\", \"MD\", \"ID\", \"HI\", \"MS\", \"NM\", \"WV\", \"CO\", \"NV\", \"NE\", \"WA\", \"UT\", \"IN\", \"KS\", \"IA\", \"AR\", \"AL\", \"OK\", \"GA\", \"SC\", \"KY\", \"OR\", \"MO\", \"TN\", \"WI\", \"MN\", \"AZ\", \"VA\", \"OH\", \"NC\", \"FL\", \"TX\", \"CA\"], \"y\": [0.27930578642403137, 0.08494905884115594, 0.02550252625264224, 0.022399709276334015, 0.01410626084291014, 0.012434583308688884, 0.0032395554648062957, 0.001969557408059472, 0.0012127409571640476, 8.514015064519992e-05, -4.138082042177971e-05, -0.0005993795276856575, -0.0012213362699460442, -0.0012348504586574887, -0.001725449090928373, -0.001735360616469264, -0.002371121430963556, -0.0025973078912232784, -0.0028523036401603974, -0.002874515941333004, -0.002993773970507554, -0.003390409645996163, -0.003923913446257409, -0.0039973187904985856, -0.00426966960639371, -0.004314953417228595, -0.00432759422954419, -0.004383906431080846, -0.005491587979177554, -0.0058112053257501056, -0.006086381751573925, -0.006399587302039371, -0.006634167900732492, -0.006728938510254244, -0.008225822371364386, -0.008351082613137802, -0.008799261821587065, -0.009765635680059295, -0.010032024431604083, -0.010236688936919678, -0.011016069804538748, -0.011096587474419687, -0.011721376937687208, -0.01434658286704792, -0.015854607260193665, -0.016076588675384723, -0.023369894948517336, -0.023683154764841043, -0.029954859037446845, -0.06485575953773365, -0.08181250776913085]}],\n",
       "                        {\"autosize\": false, \"height\": 800, \"margin\": {\"b\": 100, \"l\": 50, \"pad\": 4, \"r\": 50, \"t\": 100}, \"template\": {\"data\": {\"bar\": [{\"error_x\": {\"color\": \"#2a3f5f\"}, \"error_y\": {\"color\": \"#2a3f5f\"}, \"marker\": {\"line\": {\"color\": \"#E5ECF6\", \"width\": 0.5}}, \"type\": \"bar\"}], \"barpolar\": [{\"marker\": {\"line\": {\"color\": \"#E5ECF6\", \"width\": 0.5}}, \"type\": \"barpolar\"}], \"carpet\": [{\"aaxis\": {\"endlinecolor\": \"#2a3f5f\", \"gridcolor\": \"white\", \"linecolor\": \"white\", \"minorgridcolor\": \"white\", \"startlinecolor\": \"#2a3f5f\"}, \"baxis\": {\"endlinecolor\": \"#2a3f5f\", \"gridcolor\": \"white\", \"linecolor\": \"white\", \"minorgridcolor\": \"white\", \"startlinecolor\": \"#2a3f5f\"}, \"type\": \"carpet\"}], \"choropleth\": [{\"colorbar\": {\"outlinewidth\": 0, \"ticks\": \"\"}, \"type\": \"choropleth\"}], \"contour\": [{\"colorbar\": {\"outlinewidth\": 0, \"ticks\": \"\"}, \"colorscale\": [[0.0, \"#0d0887\"], [0.1111111111111111, \"#46039f\"], [0.2222222222222222, \"#7201a8\"], [0.3333333333333333, \"#9c179e\"], [0.4444444444444444, \"#bd3786\"], [0.5555555555555556, \"#d8576b\"], [0.6666666666666666, \"#ed7953\"], [0.7777777777777778, \"#fb9f3a\"], [0.8888888888888888, \"#fdca26\"], [1.0, \"#f0f921\"]], \"type\": \"contour\"}], \"contourcarpet\": [{\"colorbar\": {\"outlinewidth\": 0, \"ticks\": \"\"}, \"type\": \"contourcarpet\"}], \"heatmap\": [{\"colorbar\": {\"outlinewidth\": 0, \"ticks\": \"\"}, \"colorscale\": [[0.0, \"#0d0887\"], [0.1111111111111111, \"#46039f\"], [0.2222222222222222, \"#7201a8\"], [0.3333333333333333, \"#9c179e\"], [0.4444444444444444, \"#bd3786\"], [0.5555555555555556, \"#d8576b\"], [0.6666666666666666, \"#ed7953\"], [0.7777777777777778, \"#fb9f3a\"], [0.8888888888888888, \"#fdca26\"], [1.0, \"#f0f921\"]], \"type\": \"heatmap\"}], \"heatmapgl\": [{\"colorbar\": {\"outlinewidth\": 0, \"ticks\": \"\"}, \"colorscale\": [[0.0, \"#0d0887\"], [0.1111111111111111, \"#46039f\"], [0.2222222222222222, \"#7201a8\"], [0.3333333333333333, \"#9c179e\"], [0.4444444444444444, \"#bd3786\"], [0.5555555555555556, \"#d8576b\"], [0.6666666666666666, \"#ed7953\"], [0.7777777777777778, \"#fb9f3a\"], [0.8888888888888888, \"#fdca26\"], [1.0, \"#f0f921\"]], \"type\": \"heatmapgl\"}], \"histogram\": [{\"marker\": {\"colorbar\": {\"outlinewidth\": 0, \"ticks\": \"\"}}, \"type\": \"histogram\"}], \"histogram2d\": [{\"colorbar\": {\"outlinewidth\": 0, \"ticks\": \"\"}, \"colorscale\": [[0.0, \"#0d0887\"], [0.1111111111111111, \"#46039f\"], [0.2222222222222222, \"#7201a8\"], [0.3333333333333333, \"#9c179e\"], [0.4444444444444444, \"#bd3786\"], [0.5555555555555556, \"#d8576b\"], [0.6666666666666666, \"#ed7953\"], [0.7777777777777778, \"#fb9f3a\"], [0.8888888888888888, \"#fdca26\"], [1.0, \"#f0f921\"]], \"type\": \"histogram2d\"}], \"histogram2dcontour\": [{\"colorbar\": {\"outlinewidth\": 0, \"ticks\": \"\"}, \"colorscale\": [[0.0, \"#0d0887\"], [0.1111111111111111, \"#46039f\"], [0.2222222222222222, \"#7201a8\"], [0.3333333333333333, \"#9c179e\"], [0.4444444444444444, \"#bd3786\"], [0.5555555555555556, \"#d8576b\"], [0.6666666666666666, \"#ed7953\"], [0.7777777777777778, \"#fb9f3a\"], [0.8888888888888888, \"#fdca26\"], [1.0, \"#f0f921\"]], \"type\": \"histogram2dcontour\"}], \"mesh3d\": [{\"colorbar\": {\"outlinewidth\": 0, \"ticks\": \"\"}, \"type\": \"mesh3d\"}], \"parcoords\": [{\"line\": {\"colorbar\": {\"outlinewidth\": 0, \"ticks\": \"\"}}, \"type\": \"parcoords\"}], \"pie\": [{\"automargin\": true, \"type\": \"pie\"}], \"scatter\": [{\"marker\": {\"colorbar\": {\"outlinewidth\": 0, \"ticks\": \"\"}}, \"type\": \"scatter\"}], \"scatter3d\": [{\"line\": {\"colorbar\": {\"outlinewidth\": 0, \"ticks\": \"\"}}, \"marker\": {\"colorbar\": {\"outlinewidth\": 0, \"ticks\": \"\"}}, \"type\": \"scatter3d\"}], \"scattercarpet\": [{\"marker\": {\"colorbar\": {\"outlinewidth\": 0, \"ticks\": \"\"}}, \"type\": \"scattercarpet\"}], \"scattergeo\": [{\"marker\": {\"colorbar\": {\"outlinewidth\": 0, \"ticks\": \"\"}}, \"type\": \"scattergeo\"}], \"scattergl\": [{\"marker\": {\"colorbar\": {\"outlinewidth\": 0, \"ticks\": \"\"}}, \"type\": \"scattergl\"}], \"scattermapbox\": [{\"marker\": {\"colorbar\": {\"outlinewidth\": 0, \"ticks\": \"\"}}, \"type\": \"scattermapbox\"}], \"scatterpolar\": [{\"marker\": {\"colorbar\": {\"outlinewidth\": 0, \"ticks\": \"\"}}, \"type\": \"scatterpolar\"}], \"scatterpolargl\": [{\"marker\": {\"colorbar\": {\"outlinewidth\": 0, \"ticks\": \"\"}}, \"type\": \"scatterpolargl\"}], \"scatterternary\": [{\"marker\": {\"colorbar\": {\"outlinewidth\": 0, \"ticks\": \"\"}}, \"type\": \"scatterternary\"}], \"surface\": [{\"colorbar\": {\"outlinewidth\": 0, \"ticks\": \"\"}, \"colorscale\": [[0.0, \"#0d0887\"], [0.1111111111111111, \"#46039f\"], [0.2222222222222222, \"#7201a8\"], [0.3333333333333333, \"#9c179e\"], [0.4444444444444444, \"#bd3786\"], [0.5555555555555556, \"#d8576b\"], [0.6666666666666666, \"#ed7953\"], [0.7777777777777778, \"#fb9f3a\"], [0.8888888888888888, \"#fdca26\"], [1.0, \"#f0f921\"]], \"type\": \"surface\"}], \"table\": [{\"cells\": {\"fill\": {\"color\": \"#EBF0F8\"}, \"line\": {\"color\": \"white\"}}, \"header\": {\"fill\": {\"color\": \"#C8D4E3\"}, \"line\": {\"color\": \"white\"}}, \"type\": \"table\"}]}, \"layout\": {\"annotationdefaults\": {\"arrowcolor\": \"#2a3f5f\", \"arrowhead\": 0, \"arrowwidth\": 1}, \"coloraxis\": {\"colorbar\": {\"outlinewidth\": 0, \"ticks\": \"\"}}, \"colorscale\": {\"diverging\": [[0, \"#8e0152\"], [0.1, \"#c51b7d\"], [0.2, \"#de77ae\"], [0.3, \"#f1b6da\"], [0.4, \"#fde0ef\"], [0.5, \"#f7f7f7\"], [0.6, \"#e6f5d0\"], [0.7, \"#b8e186\"], [0.8, \"#7fbc41\"], [0.9, \"#4d9221\"], [1, \"#276419\"]], \"sequential\": [[0.0, \"#0d0887\"], [0.1111111111111111, \"#46039f\"], [0.2222222222222222, \"#7201a8\"], [0.3333333333333333, \"#9c179e\"], [0.4444444444444444, \"#bd3786\"], [0.5555555555555556, \"#d8576b\"], [0.6666666666666666, \"#ed7953\"], [0.7777777777777778, \"#fb9f3a\"], [0.8888888888888888, \"#fdca26\"], [1.0, \"#f0f921\"]], \"sequentialminus\": [[0.0, \"#0d0887\"], [0.1111111111111111, \"#46039f\"], [0.2222222222222222, \"#7201a8\"], [0.3333333333333333, \"#9c179e\"], [0.4444444444444444, \"#bd3786\"], [0.5555555555555556, \"#d8576b\"], [0.6666666666666666, \"#ed7953\"], [0.7777777777777778, \"#fb9f3a\"], [0.8888888888888888, \"#fdca26\"], [1.0, \"#f0f921\"]]}, \"colorway\": [\"#636efa\", \"#EF553B\", \"#00cc96\", \"#ab63fa\", \"#FFA15A\", \"#19d3f3\", \"#FF6692\", \"#B6E880\", \"#FF97FF\", \"#FECB52\"], \"font\": {\"color\": \"#2a3f5f\"}, \"geo\": {\"bgcolor\": \"white\", \"lakecolor\": \"white\", \"landcolor\": \"#E5ECF6\", \"showlakes\": true, \"showland\": true, \"subunitcolor\": \"white\"}, \"hoverlabel\": {\"align\": \"left\"}, \"hovermode\": \"closest\", \"mapbox\": {\"style\": \"light\"}, \"paper_bgcolor\": \"white\", \"plot_bgcolor\": \"#E5ECF6\", \"polar\": {\"angularaxis\": {\"gridcolor\": \"white\", \"linecolor\": \"white\", \"ticks\": \"\"}, \"bgcolor\": \"#E5ECF6\", \"radialaxis\": {\"gridcolor\": \"white\", \"linecolor\": \"white\", \"ticks\": \"\"}}, \"scene\": {\"xaxis\": {\"backgroundcolor\": \"#E5ECF6\", \"gridcolor\": \"white\", \"gridwidth\": 2, \"linecolor\": \"white\", \"showbackground\": true, \"ticks\": \"\", \"zerolinecolor\": \"white\"}, \"yaxis\": {\"backgroundcolor\": \"#E5ECF6\", \"gridcolor\": \"white\", \"gridwidth\": 2, \"linecolor\": \"white\", \"showbackground\": true, \"ticks\": \"\", \"zerolinecolor\": \"white\"}, \"zaxis\": {\"backgroundcolor\": \"#E5ECF6\", \"gridcolor\": \"white\", \"gridwidth\": 2, \"linecolor\": \"white\", \"showbackground\": true, \"ticks\": \"\", \"zerolinecolor\": \"white\"}}, \"shapedefaults\": {\"line\": {\"color\": \"#2a3f5f\"}}, \"ternary\": {\"aaxis\": {\"gridcolor\": \"white\", \"linecolor\": \"white\", \"ticks\": \"\"}, \"baxis\": {\"gridcolor\": \"white\", \"linecolor\": \"white\", \"ticks\": \"\"}, \"bgcolor\": \"#E5ECF6\", \"caxis\": {\"gridcolor\": \"white\", \"linecolor\": \"white\", \"ticks\": \"\"}}, \"title\": {\"x\": 0.05}, \"xaxis\": {\"automargin\": true, \"gridcolor\": \"white\", \"linecolor\": \"white\", \"ticks\": \"\", \"title\": {\"standoff\": 15}, \"zerolinecolor\": \"white\", \"zerolinewidth\": 2}, \"yaxis\": {\"automargin\": true, \"gridcolor\": \"white\", \"linecolor\": \"white\", \"ticks\": \"\", \"title\": {\"standoff\": 15}, \"zerolinecolor\": \"white\", \"zerolinewidth\": 2}}}, \"title\": {\"text\": \"Share of Positive Tests vs Share of Population Delta\"}, \"width\": 800, \"xaxis\": {\"tickfont\": {\"size\": 8}}, \"yaxis\": {\"tickformat\": \"0.0%\"}},\n",
       "                        {\"responsive\": true}\n",
       "                    ).then(function(){\n",
       "                            \n",
       "var gd = document.getElementById('926f08cb-8820-452a-8818-5779915bdc5e');\n",
       "var x = new MutationObserver(function (mutations, observer) {{\n",
       "        var display = window.getComputedStyle(gd).display;\n",
       "        if (!display || display === 'none') {{\n",
       "            console.log([gd, 'removed!']);\n",
       "            Plotly.purge(gd);\n",
       "            observer.disconnect();\n",
       "        }}\n",
       "}});\n",
       "\n",
       "// Listen for the removal of the full notebook cells\n",
       "var notebookContainer = gd.closest('#notebook-container');\n",
       "if (notebookContainer) {{\n",
       "    x.observe(notebookContainer, {childList: true});\n",
       "}}\n",
       "\n",
       "// Listen for the clearing of the current output cell\n",
       "var outputEl = gd.closest('.output');\n",
       "if (outputEl) {{\n",
       "    x.observe(outputEl, {childList: true});\n",
       "}}\n",
       "\n",
       "                        })\n",
       "                };\n",
       "                });\n",
       "            </script>\n",
       "        </div>"
      ]
     },
     "metadata": {},
     "output_type": "display_data"
    }
   ],
   "source": [
    "covid_sort = covid.sort_values(by='positiveShareDelta', ascending=False)\n",
    "covid_sort['polarity'] = covid_sort['positiveShareDelta'] < 0\n",
    "colors = []\n",
    "for polarity in covid_sort.polarity.values:\n",
    "    if polarity:\n",
    "        colors.append(\"green\")\n",
    "    else:\n",
    "        colors.append(\"red\")\n",
    "fig = go.Figure()\n",
    "fig.add_trace(go.Bar(x=covid_sort.state, y=covid_sort.positiveShareDelta, marker_color=colors))\n",
    "fig.layout.xaxis.tickfont.size = 8\n",
    "fig.layout.yaxis.tickformat = '0.0%'\n",
    "fig.update_layout(title_text='Share of Positive Tests vs Share of Population Delta')\n",
    "fig.update_layout(\n",
    "    autosize=False,\n",
    "    width=800,\n",
    "    height=800,\n",
    "    margin=dict(\n",
    "        l=50,\n",
    "        r=50,\n",
    "        b=100,\n",
    "        t=100,\n",
    "        pad=4\n",
    "    ),\n",
    ")\n",
    "fig.show()"
   ]
  },
  {
   "cell_type": "code",
   "execution_count": 58,
   "metadata": {
    "jupyter": {
     "source_hidden": true
    }
   },
   "outputs": [
    {
     "data": {
      "application/vnd.plotly.v1+json": {
       "config": {
        "plotlyServerURL": "https://plot.ly"
       },
       "data": [
        {
         "marker": {
          "color": [
           "red",
           "red",
           "red",
           "red",
           "red",
           "red",
           "red",
           "red",
           "red",
           "red",
           "red",
           "red",
           "red",
           "red",
           "red",
           "red",
           "red",
           "red",
           "red",
           "red",
           "red",
           "red",
           "red",
           "red",
           "red",
           "red",
           "red",
           "red",
           "green",
           "green",
           "green",
           "green",
           "green",
           "green",
           "green",
           "green",
           "green",
           "green",
           "green",
           "green",
           "green",
           "green",
           "green",
           "green",
           "green",
           "green",
           "green",
           "green",
           "green",
           "green",
           "green"
          ]
         },
         "type": "bar",
         "x": [
          "CA",
          "TX",
          "OH",
          "GA",
          "VA",
          "NC",
          "AZ",
          "IN",
          "AL",
          "SC",
          "KY",
          "CO",
          "MN",
          "OK",
          "KS",
          "WI",
          "IA",
          "MO",
          "OR",
          "IL",
          "MI",
          "AR",
          "NE",
          "NV",
          "MD",
          "ID",
          "NH",
          "MT",
          "ME",
          "WV",
          "WY",
          "SD",
          "AK",
          "FL",
          "DE",
          "ND",
          "DC",
          "VT",
          "HI",
          "MS",
          "CT",
          "RI",
          "NM",
          "TN",
          "PA",
          "UT",
          "WA",
          "NJ",
          "MA",
          "LA",
          "NY"
         ],
         "y": [
          -0.0530067800478263,
          -0.04389290128961127,
          -0.013434279075328383,
          -0.013014070834563952,
          -0.012032740416226522,
          -0.010589183452888937,
          -0.007608645606806748,
          -0.005294505331094622,
          -0.0049226253498246605,
          -0.004643426478140717,
          -0.004556058291312436,
          -0.004539349453744217,
          -0.0042086862564945145,
          -0.004204912494907103,
          -0.004094880744215613,
          -0.004066017717718173,
          -0.0032739285044170365,
          -0.002493357043920553,
          -0.002455548491951254,
          -0.002435665415095087,
          -0.002365328773065563,
          -0.0021358142888001632,
          -0.0020520036495606363,
          -0.0008634602272075739,
          -0.0008563765136907625,
          -0.00039971414182267927,
          -0.0002118572989417318,
          -0.00020285004585972105,
          0.00010038524161930067,
          0.00029809383839939606,
          0.0003058072496189405,
          0.0003192262060173847,
          0.0004329743242006269,
          0.0008624209453035186,
          0.0011950117314886472,
          0.0013474319765773585,
          0.001523038012404844,
          0.0016104887315129518,
          0.0023046652910796786,
          0.00374025970739183,
          0.004232565815776763,
          0.00446478252083309,
          0.004485160064591995,
          0.004953163001773068,
          0.005203521442096647,
          0.00558048427305686,
          0.008193473910926275,
          0.016818020458094354,
          0.020224004314055525,
          0.022539701190263772,
          0.10312028698795411
         ]
        }
       ],
       "layout": {
        "autosize": false,
        "height": 800,
        "margin": {
         "b": 100,
         "l": 50,
         "pad": 4,
         "r": 50,
         "t": 100
        },
        "template": {
         "data": {
          "bar": [
           {
            "error_x": {
             "color": "#2a3f5f"
            },
            "error_y": {
             "color": "#2a3f5f"
            },
            "marker": {
             "line": {
              "color": "#E5ECF6",
              "width": 0.5
             }
            },
            "type": "bar"
           }
          ],
          "barpolar": [
           {
            "marker": {
             "line": {
              "color": "#E5ECF6",
              "width": 0.5
             }
            },
            "type": "barpolar"
           }
          ],
          "carpet": [
           {
            "aaxis": {
             "endlinecolor": "#2a3f5f",
             "gridcolor": "white",
             "linecolor": "white",
             "minorgridcolor": "white",
             "startlinecolor": "#2a3f5f"
            },
            "baxis": {
             "endlinecolor": "#2a3f5f",
             "gridcolor": "white",
             "linecolor": "white",
             "minorgridcolor": "white",
             "startlinecolor": "#2a3f5f"
            },
            "type": "carpet"
           }
          ],
          "choropleth": [
           {
            "colorbar": {
             "outlinewidth": 0,
             "ticks": ""
            },
            "type": "choropleth"
           }
          ],
          "contour": [
           {
            "colorbar": {
             "outlinewidth": 0,
             "ticks": ""
            },
            "colorscale": [
             [
              0,
              "#0d0887"
             ],
             [
              0.1111111111111111,
              "#46039f"
             ],
             [
              0.2222222222222222,
              "#7201a8"
             ],
             [
              0.3333333333333333,
              "#9c179e"
             ],
             [
              0.4444444444444444,
              "#bd3786"
             ],
             [
              0.5555555555555556,
              "#d8576b"
             ],
             [
              0.6666666666666666,
              "#ed7953"
             ],
             [
              0.7777777777777778,
              "#fb9f3a"
             ],
             [
              0.8888888888888888,
              "#fdca26"
             ],
             [
              1,
              "#f0f921"
             ]
            ],
            "type": "contour"
           }
          ],
          "contourcarpet": [
           {
            "colorbar": {
             "outlinewidth": 0,
             "ticks": ""
            },
            "type": "contourcarpet"
           }
          ],
          "heatmap": [
           {
            "colorbar": {
             "outlinewidth": 0,
             "ticks": ""
            },
            "colorscale": [
             [
              0,
              "#0d0887"
             ],
             [
              0.1111111111111111,
              "#46039f"
             ],
             [
              0.2222222222222222,
              "#7201a8"
             ],
             [
              0.3333333333333333,
              "#9c179e"
             ],
             [
              0.4444444444444444,
              "#bd3786"
             ],
             [
              0.5555555555555556,
              "#d8576b"
             ],
             [
              0.6666666666666666,
              "#ed7953"
             ],
             [
              0.7777777777777778,
              "#fb9f3a"
             ],
             [
              0.8888888888888888,
              "#fdca26"
             ],
             [
              1,
              "#f0f921"
             ]
            ],
            "type": "heatmap"
           }
          ],
          "heatmapgl": [
           {
            "colorbar": {
             "outlinewidth": 0,
             "ticks": ""
            },
            "colorscale": [
             [
              0,
              "#0d0887"
             ],
             [
              0.1111111111111111,
              "#46039f"
             ],
             [
              0.2222222222222222,
              "#7201a8"
             ],
             [
              0.3333333333333333,
              "#9c179e"
             ],
             [
              0.4444444444444444,
              "#bd3786"
             ],
             [
              0.5555555555555556,
              "#d8576b"
             ],
             [
              0.6666666666666666,
              "#ed7953"
             ],
             [
              0.7777777777777778,
              "#fb9f3a"
             ],
             [
              0.8888888888888888,
              "#fdca26"
             ],
             [
              1,
              "#f0f921"
             ]
            ],
            "type": "heatmapgl"
           }
          ],
          "histogram": [
           {
            "marker": {
             "colorbar": {
              "outlinewidth": 0,
              "ticks": ""
             }
            },
            "type": "histogram"
           }
          ],
          "histogram2d": [
           {
            "colorbar": {
             "outlinewidth": 0,
             "ticks": ""
            },
            "colorscale": [
             [
              0,
              "#0d0887"
             ],
             [
              0.1111111111111111,
              "#46039f"
             ],
             [
              0.2222222222222222,
              "#7201a8"
             ],
             [
              0.3333333333333333,
              "#9c179e"
             ],
             [
              0.4444444444444444,
              "#bd3786"
             ],
             [
              0.5555555555555556,
              "#d8576b"
             ],
             [
              0.6666666666666666,
              "#ed7953"
             ],
             [
              0.7777777777777778,
              "#fb9f3a"
             ],
             [
              0.8888888888888888,
              "#fdca26"
             ],
             [
              1,
              "#f0f921"
             ]
            ],
            "type": "histogram2d"
           }
          ],
          "histogram2dcontour": [
           {
            "colorbar": {
             "outlinewidth": 0,
             "ticks": ""
            },
            "colorscale": [
             [
              0,
              "#0d0887"
             ],
             [
              0.1111111111111111,
              "#46039f"
             ],
             [
              0.2222222222222222,
              "#7201a8"
             ],
             [
              0.3333333333333333,
              "#9c179e"
             ],
             [
              0.4444444444444444,
              "#bd3786"
             ],
             [
              0.5555555555555556,
              "#d8576b"
             ],
             [
              0.6666666666666666,
              "#ed7953"
             ],
             [
              0.7777777777777778,
              "#fb9f3a"
             ],
             [
              0.8888888888888888,
              "#fdca26"
             ],
             [
              1,
              "#f0f921"
             ]
            ],
            "type": "histogram2dcontour"
           }
          ],
          "mesh3d": [
           {
            "colorbar": {
             "outlinewidth": 0,
             "ticks": ""
            },
            "type": "mesh3d"
           }
          ],
          "parcoords": [
           {
            "line": {
             "colorbar": {
              "outlinewidth": 0,
              "ticks": ""
             }
            },
            "type": "parcoords"
           }
          ],
          "pie": [
           {
            "automargin": true,
            "type": "pie"
           }
          ],
          "scatter": [
           {
            "marker": {
             "colorbar": {
              "outlinewidth": 0,
              "ticks": ""
             }
            },
            "type": "scatter"
           }
          ],
          "scatter3d": [
           {
            "line": {
             "colorbar": {
              "outlinewidth": 0,
              "ticks": ""
             }
            },
            "marker": {
             "colorbar": {
              "outlinewidth": 0,
              "ticks": ""
             }
            },
            "type": "scatter3d"
           }
          ],
          "scattercarpet": [
           {
            "marker": {
             "colorbar": {
              "outlinewidth": 0,
              "ticks": ""
             }
            },
            "type": "scattercarpet"
           }
          ],
          "scattergeo": [
           {
            "marker": {
             "colorbar": {
              "outlinewidth": 0,
              "ticks": ""
             }
            },
            "type": "scattergeo"
           }
          ],
          "scattergl": [
           {
            "marker": {
             "colorbar": {
              "outlinewidth": 0,
              "ticks": ""
             }
            },
            "type": "scattergl"
           }
          ],
          "scattermapbox": [
           {
            "marker": {
             "colorbar": {
              "outlinewidth": 0,
              "ticks": ""
             }
            },
            "type": "scattermapbox"
           }
          ],
          "scatterpolar": [
           {
            "marker": {
             "colorbar": {
              "outlinewidth": 0,
              "ticks": ""
             }
            },
            "type": "scatterpolar"
           }
          ],
          "scatterpolargl": [
           {
            "marker": {
             "colorbar": {
              "outlinewidth": 0,
              "ticks": ""
             }
            },
            "type": "scatterpolargl"
           }
          ],
          "scatterternary": [
           {
            "marker": {
             "colorbar": {
              "outlinewidth": 0,
              "ticks": ""
             }
            },
            "type": "scatterternary"
           }
          ],
          "surface": [
           {
            "colorbar": {
             "outlinewidth": 0,
             "ticks": ""
            },
            "colorscale": [
             [
              0,
              "#0d0887"
             ],
             [
              0.1111111111111111,
              "#46039f"
             ],
             [
              0.2222222222222222,
              "#7201a8"
             ],
             [
              0.3333333333333333,
              "#9c179e"
             ],
             [
              0.4444444444444444,
              "#bd3786"
             ],
             [
              0.5555555555555556,
              "#d8576b"
             ],
             [
              0.6666666666666666,
              "#ed7953"
             ],
             [
              0.7777777777777778,
              "#fb9f3a"
             ],
             [
              0.8888888888888888,
              "#fdca26"
             ],
             [
              1,
              "#f0f921"
             ]
            ],
            "type": "surface"
           }
          ],
          "table": [
           {
            "cells": {
             "fill": {
              "color": "#EBF0F8"
             },
             "line": {
              "color": "white"
             }
            },
            "header": {
             "fill": {
              "color": "#C8D4E3"
             },
             "line": {
              "color": "white"
             }
            },
            "type": "table"
           }
          ]
         },
         "layout": {
          "annotationdefaults": {
           "arrowcolor": "#2a3f5f",
           "arrowhead": 0,
           "arrowwidth": 1
          },
          "coloraxis": {
           "colorbar": {
            "outlinewidth": 0,
            "ticks": ""
           }
          },
          "colorscale": {
           "diverging": [
            [
             0,
             "#8e0152"
            ],
            [
             0.1,
             "#c51b7d"
            ],
            [
             0.2,
             "#de77ae"
            ],
            [
             0.3,
             "#f1b6da"
            ],
            [
             0.4,
             "#fde0ef"
            ],
            [
             0.5,
             "#f7f7f7"
            ],
            [
             0.6,
             "#e6f5d0"
            ],
            [
             0.7,
             "#b8e186"
            ],
            [
             0.8,
             "#7fbc41"
            ],
            [
             0.9,
             "#4d9221"
            ],
            [
             1,
             "#276419"
            ]
           ],
           "sequential": [
            [
             0,
             "#0d0887"
            ],
            [
             0.1111111111111111,
             "#46039f"
            ],
            [
             0.2222222222222222,
             "#7201a8"
            ],
            [
             0.3333333333333333,
             "#9c179e"
            ],
            [
             0.4444444444444444,
             "#bd3786"
            ],
            [
             0.5555555555555556,
             "#d8576b"
            ],
            [
             0.6666666666666666,
             "#ed7953"
            ],
            [
             0.7777777777777778,
             "#fb9f3a"
            ],
            [
             0.8888888888888888,
             "#fdca26"
            ],
            [
             1,
             "#f0f921"
            ]
           ],
           "sequentialminus": [
            [
             0,
             "#0d0887"
            ],
            [
             0.1111111111111111,
             "#46039f"
            ],
            [
             0.2222222222222222,
             "#7201a8"
            ],
            [
             0.3333333333333333,
             "#9c179e"
            ],
            [
             0.4444444444444444,
             "#bd3786"
            ],
            [
             0.5555555555555556,
             "#d8576b"
            ],
            [
             0.6666666666666666,
             "#ed7953"
            ],
            [
             0.7777777777777778,
             "#fb9f3a"
            ],
            [
             0.8888888888888888,
             "#fdca26"
            ],
            [
             1,
             "#f0f921"
            ]
           ]
          },
          "colorway": [
           "#636efa",
           "#EF553B",
           "#00cc96",
           "#ab63fa",
           "#FFA15A",
           "#19d3f3",
           "#FF6692",
           "#B6E880",
           "#FF97FF",
           "#FECB52"
          ],
          "font": {
           "color": "#2a3f5f"
          },
          "geo": {
           "bgcolor": "white",
           "lakecolor": "white",
           "landcolor": "#E5ECF6",
           "showlakes": true,
           "showland": true,
           "subunitcolor": "white"
          },
          "hoverlabel": {
           "align": "left"
          },
          "hovermode": "closest",
          "mapbox": {
           "style": "light"
          },
          "paper_bgcolor": "white",
          "plot_bgcolor": "#E5ECF6",
          "polar": {
           "angularaxis": {
            "gridcolor": "white",
            "linecolor": "white",
            "ticks": ""
           },
           "bgcolor": "#E5ECF6",
           "radialaxis": {
            "gridcolor": "white",
            "linecolor": "white",
            "ticks": ""
           }
          },
          "scene": {
           "xaxis": {
            "backgroundcolor": "#E5ECF6",
            "gridcolor": "white",
            "gridwidth": 2,
            "linecolor": "white",
            "showbackground": true,
            "ticks": "",
            "zerolinecolor": "white"
           },
           "yaxis": {
            "backgroundcolor": "#E5ECF6",
            "gridcolor": "white",
            "gridwidth": 2,
            "linecolor": "white",
            "showbackground": true,
            "ticks": "",
            "zerolinecolor": "white"
           },
           "zaxis": {
            "backgroundcolor": "#E5ECF6",
            "gridcolor": "white",
            "gridwidth": 2,
            "linecolor": "white",
            "showbackground": true,
            "ticks": "",
            "zerolinecolor": "white"
           }
          },
          "shapedefaults": {
           "line": {
            "color": "#2a3f5f"
           }
          },
          "ternary": {
           "aaxis": {
            "gridcolor": "white",
            "linecolor": "white",
            "ticks": ""
           },
           "baxis": {
            "gridcolor": "white",
            "linecolor": "white",
            "ticks": ""
           },
           "bgcolor": "#E5ECF6",
           "caxis": {
            "gridcolor": "white",
            "linecolor": "white",
            "ticks": ""
           }
          },
          "title": {
           "x": 0.05
          },
          "xaxis": {
           "automargin": true,
           "gridcolor": "white",
           "linecolor": "white",
           "ticks": "",
           "title": {
            "standoff": 15
           },
           "zerolinecolor": "white",
           "zerolinewidth": 2
          },
          "yaxis": {
           "automargin": true,
           "gridcolor": "white",
           "linecolor": "white",
           "ticks": "",
           "title": {
            "standoff": 15
           },
           "zerolinecolor": "white",
           "zerolinewidth": 2
          }
         }
        },
        "title": {
         "text": "Share of Total Tests Completed vs Share of Population Delta"
        },
        "width": 800,
        "xaxis": {
         "autorange": true,
         "range": [
          -0.5,
          50.5
         ],
         "tickfont": {
          "size": 8
         },
         "type": "category"
        },
        "yaxis": {
         "autorange": true,
         "range": [
          -0.06168050599425855,
          0.11179401293438636
         ],
         "tickformat": "0.0%",
         "type": "linear"
        }
       }
      },
      "image/png": "[encoded data removed]",
      "text/html": [
       "<div>\n",
       "        \n",
       "        \n",
       "            <div id=\"0197b7b7-4b5f-4a9c-90eb-e1a630a61b16\" class=\"plotly-graph-div\" style=\"height:800px; width:800px;\"></div>\n",
       "            <script type=\"text/javascript\">\n",
       "                require([\"plotly\"], function(Plotly) {\n",
       "                    window.PLOTLYENV=window.PLOTLYENV || {};\n",
       "                    \n",
       "                if (document.getElementById(\"0197b7b7-4b5f-4a9c-90eb-e1a630a61b16\")) {\n",
       "                    Plotly.newPlot(\n",
       "                        '0197b7b7-4b5f-4a9c-90eb-e1a630a61b16',\n",
       "                        [{\"marker\": {\"color\": [\"red\", \"red\", \"red\", \"red\", \"red\", \"red\", \"red\", \"red\", \"red\", \"red\", \"red\", \"red\", \"red\", \"red\", \"red\", \"red\", \"red\", \"red\", \"red\", \"red\", \"red\", \"red\", \"red\", \"red\", \"red\", \"red\", \"red\", \"red\", \"green\", \"green\", \"green\", \"green\", \"green\", \"green\", \"green\", \"green\", \"green\", \"green\", \"green\", \"green\", \"green\", \"green\", \"green\", \"green\", \"green\", \"green\", \"green\", \"green\", \"green\", \"green\", \"green\"]}, \"type\": \"bar\", \"x\": [\"CA\", \"TX\", \"OH\", \"GA\", \"VA\", \"NC\", \"AZ\", \"IN\", \"AL\", \"SC\", \"KY\", \"CO\", \"MN\", \"OK\", \"KS\", \"WI\", \"IA\", \"MO\", \"OR\", \"IL\", \"MI\", \"AR\", \"NE\", \"NV\", \"MD\", \"ID\", \"NH\", \"MT\", \"ME\", \"WV\", \"WY\", \"SD\", \"AK\", \"FL\", \"DE\", \"ND\", \"DC\", \"VT\", \"HI\", \"MS\", \"CT\", \"RI\", \"NM\", \"TN\", \"PA\", \"UT\", \"WA\", \"NJ\", \"MA\", \"LA\", \"NY\"], \"y\": [-0.0530067800478263, -0.04389290128961127, -0.013434279075328383, -0.013014070834563952, -0.012032740416226522, -0.010589183452888937, -0.007608645606806748, -0.005294505331094622, -0.0049226253498246605, -0.004643426478140717, -0.004556058291312436, -0.004539349453744217, -0.0042086862564945145, -0.004204912494907103, -0.004094880744215613, -0.004066017717718173, -0.0032739285044170365, -0.002493357043920553, -0.002455548491951254, -0.002435665415095087, -0.002365328773065563, -0.0021358142888001632, -0.0020520036495606363, -0.0008634602272075739, -0.0008563765136907625, -0.00039971414182267927, -0.0002118572989417318, -0.00020285004585972105, 0.00010038524161930067, 0.00029809383839939606, 0.0003058072496189405, 0.0003192262060173847, 0.0004329743242006269, 0.0008624209453035186, 0.0011950117314886472, 0.0013474319765773585, 0.001523038012404844, 0.0016104887315129518, 0.0023046652910796786, 0.00374025970739183, 0.004232565815776763, 0.00446478252083309, 0.004485160064591995, 0.004953163001773068, 0.005203521442096647, 0.00558048427305686, 0.008193473910926275, 0.016818020458094354, 0.020224004314055525, 0.022539701190263772, 0.10312028698795411]}],\n",
       "                        {\"autosize\": false, \"height\": 800, \"margin\": {\"b\": 100, \"l\": 50, \"pad\": 4, \"r\": 50, \"t\": 100}, \"template\": {\"data\": {\"bar\": [{\"error_x\": {\"color\": \"#2a3f5f\"}, \"error_y\": {\"color\": \"#2a3f5f\"}, \"marker\": {\"line\": {\"color\": \"#E5ECF6\", \"width\": 0.5}}, \"type\": \"bar\"}], \"barpolar\": [{\"marker\": {\"line\": {\"color\": \"#E5ECF6\", \"width\": 0.5}}, \"type\": \"barpolar\"}], \"carpet\": [{\"aaxis\": {\"endlinecolor\": \"#2a3f5f\", \"gridcolor\": \"white\", \"linecolor\": \"white\", \"minorgridcolor\": \"white\", \"startlinecolor\": \"#2a3f5f\"}, \"baxis\": {\"endlinecolor\": \"#2a3f5f\", \"gridcolor\": \"white\", \"linecolor\": \"white\", \"minorgridcolor\": \"white\", \"startlinecolor\": \"#2a3f5f\"}, \"type\": \"carpet\"}], \"choropleth\": [{\"colorbar\": {\"outlinewidth\": 0, \"ticks\": \"\"}, \"type\": \"choropleth\"}], \"contour\": [{\"colorbar\": {\"outlinewidth\": 0, \"ticks\": \"\"}, \"colorscale\": [[0.0, \"#0d0887\"], [0.1111111111111111, \"#46039f\"], [0.2222222222222222, \"#7201a8\"], [0.3333333333333333, \"#9c179e\"], [0.4444444444444444, \"#bd3786\"], [0.5555555555555556, \"#d8576b\"], [0.6666666666666666, \"#ed7953\"], [0.7777777777777778, \"#fb9f3a\"], [0.8888888888888888, \"#fdca26\"], [1.0, \"#f0f921\"]], \"type\": \"contour\"}], \"contourcarpet\": [{\"colorbar\": {\"outlinewidth\": 0, \"ticks\": \"\"}, \"type\": \"contourcarpet\"}], \"heatmap\": [{\"colorbar\": {\"outlinewidth\": 0, \"ticks\": \"\"}, \"colorscale\": [[0.0, \"#0d0887\"], [0.1111111111111111, \"#46039f\"], [0.2222222222222222, \"#7201a8\"], [0.3333333333333333, \"#9c179e\"], [0.4444444444444444, \"#bd3786\"], [0.5555555555555556, \"#d8576b\"], [0.6666666666666666, \"#ed7953\"], [0.7777777777777778, \"#fb9f3a\"], [0.8888888888888888, \"#fdca26\"], [1.0, \"#f0f921\"]], \"type\": \"heatmap\"}], \"heatmapgl\": [{\"colorbar\": {\"outlinewidth\": 0, \"ticks\": \"\"}, \"colorscale\": [[0.0, \"#0d0887\"], [0.1111111111111111, \"#46039f\"], [0.2222222222222222, \"#7201a8\"], [0.3333333333333333, \"#9c179e\"], [0.4444444444444444, \"#bd3786\"], [0.5555555555555556, \"#d8576b\"], [0.6666666666666666, \"#ed7953\"], [0.7777777777777778, \"#fb9f3a\"], [0.8888888888888888, \"#fdca26\"], [1.0, \"#f0f921\"]], \"type\": \"heatmapgl\"}], \"histogram\": [{\"marker\": {\"colorbar\": {\"outlinewidth\": 0, \"ticks\": \"\"}}, \"type\": \"histogram\"}], \"histogram2d\": [{\"colorbar\": {\"outlinewidth\": 0, \"ticks\": \"\"}, \"colorscale\": [[0.0, \"#0d0887\"], [0.1111111111111111, \"#46039f\"], [0.2222222222222222, \"#7201a8\"], [0.3333333333333333, \"#9c179e\"], [0.4444444444444444, \"#bd3786\"], [0.5555555555555556, \"#d8576b\"], [0.6666666666666666, \"#ed7953\"], [0.7777777777777778, \"#fb9f3a\"], [0.8888888888888888, \"#fdca26\"], [1.0, \"#f0f921\"]], \"type\": \"histogram2d\"}], \"histogram2dcontour\": [{\"colorbar\": {\"outlinewidth\": 0, \"ticks\": \"\"}, \"colorscale\": [[0.0, \"#0d0887\"], [0.1111111111111111, \"#46039f\"], [0.2222222222222222, \"#7201a8\"], [0.3333333333333333, \"#9c179e\"], [0.4444444444444444, \"#bd3786\"], [0.5555555555555556, \"#d8576b\"], [0.6666666666666666, \"#ed7953\"], [0.7777777777777778, \"#fb9f3a\"], [0.8888888888888888, \"#fdca26\"], [1.0, \"#f0f921\"]], \"type\": \"histogram2dcontour\"}], \"mesh3d\": [{\"colorbar\": {\"outlinewidth\": 0, \"ticks\": \"\"}, \"type\": \"mesh3d\"}], \"parcoords\": [{\"line\": {\"colorbar\": {\"outlinewidth\": 0, \"ticks\": \"\"}}, \"type\": \"parcoords\"}], \"pie\": [{\"automargin\": true, \"type\": \"pie\"}], \"scatter\": [{\"marker\": {\"colorbar\": {\"outlinewidth\": 0, \"ticks\": \"\"}}, \"type\": \"scatter\"}], \"scatter3d\": [{\"line\": {\"colorbar\": {\"outlinewidth\": 0, \"ticks\": \"\"}}, \"marker\": {\"colorbar\": {\"outlinewidth\": 0, \"ticks\": \"\"}}, \"type\": \"scatter3d\"}], \"scattercarpet\": [{\"marker\": {\"colorbar\": {\"outlinewidth\": 0, \"ticks\": \"\"}}, \"type\": \"scattercarpet\"}], \"scattergeo\": [{\"marker\": {\"colorbar\": {\"outlinewidth\": 0, \"ticks\": \"\"}}, \"type\": \"scattergeo\"}], \"scattergl\": [{\"marker\": {\"colorbar\": {\"outlinewidth\": 0, \"ticks\": \"\"}}, \"type\": \"scattergl\"}], \"scattermapbox\": [{\"marker\": {\"colorbar\": {\"outlinewidth\": 0, \"ticks\": \"\"}}, \"type\": \"scattermapbox\"}], \"scatterpolar\": [{\"marker\": {\"colorbar\": {\"outlinewidth\": 0, \"ticks\": \"\"}}, \"type\": \"scatterpolar\"}], \"scatterpolargl\": [{\"marker\": {\"colorbar\": {\"outlinewidth\": 0, \"ticks\": \"\"}}, \"type\": \"scatterpolargl\"}], \"scatterternary\": [{\"marker\": {\"colorbar\": {\"outlinewidth\": 0, \"ticks\": \"\"}}, \"type\": \"scatterternary\"}], \"surface\": [{\"colorbar\": {\"outlinewidth\": 0, \"ticks\": \"\"}, \"colorscale\": [[0.0, \"#0d0887\"], [0.1111111111111111, \"#46039f\"], [0.2222222222222222, \"#7201a8\"], [0.3333333333333333, \"#9c179e\"], [0.4444444444444444, \"#bd3786\"], [0.5555555555555556, \"#d8576b\"], [0.6666666666666666, \"#ed7953\"], [0.7777777777777778, \"#fb9f3a\"], [0.8888888888888888, \"#fdca26\"], [1.0, \"#f0f921\"]], \"type\": \"surface\"}], \"table\": [{\"cells\": {\"fill\": {\"color\": \"#EBF0F8\"}, \"line\": {\"color\": \"white\"}}, \"header\": {\"fill\": {\"color\": \"#C8D4E3\"}, \"line\": {\"color\": \"white\"}}, \"type\": \"table\"}]}, \"layout\": {\"annotationdefaults\": {\"arrowcolor\": \"#2a3f5f\", \"arrowhead\": 0, \"arrowwidth\": 1}, \"coloraxis\": {\"colorbar\": {\"outlinewidth\": 0, \"ticks\": \"\"}}, \"colorscale\": {\"diverging\": [[0, \"#8e0152\"], [0.1, \"#c51b7d\"], [0.2, \"#de77ae\"], [0.3, \"#f1b6da\"], [0.4, \"#fde0ef\"], [0.5, \"#f7f7f7\"], [0.6, \"#e6f5d0\"], [0.7, \"#b8e186\"], [0.8, \"#7fbc41\"], [0.9, \"#4d9221\"], [1, \"#276419\"]], \"sequential\": [[0.0, \"#0d0887\"], [0.1111111111111111, \"#46039f\"], [0.2222222222222222, \"#7201a8\"], [0.3333333333333333, \"#9c179e\"], [0.4444444444444444, \"#bd3786\"], [0.5555555555555556, \"#d8576b\"], [0.6666666666666666, \"#ed7953\"], [0.7777777777777778, \"#fb9f3a\"], [0.8888888888888888, \"#fdca26\"], [1.0, \"#f0f921\"]], \"sequentialminus\": [[0.0, \"#0d0887\"], [0.1111111111111111, \"#46039f\"], [0.2222222222222222, \"#7201a8\"], [0.3333333333333333, \"#9c179e\"], [0.4444444444444444, \"#bd3786\"], [0.5555555555555556, \"#d8576b\"], [0.6666666666666666, \"#ed7953\"], [0.7777777777777778, \"#fb9f3a\"], [0.8888888888888888, \"#fdca26\"], [1.0, \"#f0f921\"]]}, \"colorway\": [\"#636efa\", \"#EF553B\", \"#00cc96\", \"#ab63fa\", \"#FFA15A\", \"#19d3f3\", \"#FF6692\", \"#B6E880\", \"#FF97FF\", \"#FECB52\"], \"font\": {\"color\": \"#2a3f5f\"}, \"geo\": {\"bgcolor\": \"white\", \"lakecolor\": \"white\", \"landcolor\": \"#E5ECF6\", \"showlakes\": true, \"showland\": true, \"subunitcolor\": \"white\"}, \"hoverlabel\": {\"align\": \"left\"}, \"hovermode\": \"closest\", \"mapbox\": {\"style\": \"light\"}, \"paper_bgcolor\": \"white\", \"plot_bgcolor\": \"#E5ECF6\", \"polar\": {\"angularaxis\": {\"gridcolor\": \"white\", \"linecolor\": \"white\", \"ticks\": \"\"}, \"bgcolor\": \"#E5ECF6\", \"radialaxis\": {\"gridcolor\": \"white\", \"linecolor\": \"white\", \"ticks\": \"\"}}, \"scene\": {\"xaxis\": {\"backgroundcolor\": \"#E5ECF6\", \"gridcolor\": \"white\", \"gridwidth\": 2, \"linecolor\": \"white\", \"showbackground\": true, \"ticks\": \"\", \"zerolinecolor\": \"white\"}, \"yaxis\": {\"backgroundcolor\": \"#E5ECF6\", \"gridcolor\": \"white\", \"gridwidth\": 2, \"linecolor\": \"white\", \"showbackground\": true, \"ticks\": \"\", \"zerolinecolor\": \"white\"}, \"zaxis\": {\"backgroundcolor\": \"#E5ECF6\", \"gridcolor\": \"white\", \"gridwidth\": 2, \"linecolor\": \"white\", \"showbackground\": true, \"ticks\": \"\", \"zerolinecolor\": \"white\"}}, \"shapedefaults\": {\"line\": {\"color\": \"#2a3f5f\"}}, \"ternary\": {\"aaxis\": {\"gridcolor\": \"white\", \"linecolor\": \"white\", \"ticks\": \"\"}, \"baxis\": {\"gridcolor\": \"white\", \"linecolor\": \"white\", \"ticks\": \"\"}, \"bgcolor\": \"#E5ECF6\", \"caxis\": {\"gridcolor\": \"white\", \"linecolor\": \"white\", \"ticks\": \"\"}}, \"title\": {\"x\": 0.05}, \"xaxis\": {\"automargin\": true, \"gridcolor\": \"white\", \"linecolor\": \"white\", \"ticks\": \"\", \"title\": {\"standoff\": 15}, \"zerolinecolor\": \"white\", \"zerolinewidth\": 2}, \"yaxis\": {\"automargin\": true, \"gridcolor\": \"white\", \"linecolor\": \"white\", \"ticks\": \"\", \"title\": {\"standoff\": 15}, \"zerolinecolor\": \"white\", \"zerolinewidth\": 2}}}, \"title\": {\"text\": \"Share of Total Tests Completed vs Share of Population Delta\"}, \"width\": 800, \"xaxis\": {\"tickfont\": {\"size\": 8}}, \"yaxis\": {\"tickformat\": \"0.0%\"}},\n",
       "                        {\"responsive\": true}\n",
       "                    ).then(function(){\n",
       "                            \n",
       "var gd = document.getElementById('0197b7b7-4b5f-4a9c-90eb-e1a630a61b16');\n",
       "var x = new MutationObserver(function (mutations, observer) {{\n",
       "        var display = window.getComputedStyle(gd).display;\n",
       "        if (!display || display === 'none') {{\n",
       "            console.log([gd, 'removed!']);\n",
       "            Plotly.purge(gd);\n",
       "            observer.disconnect();\n",
       "        }}\n",
       "}});\n",
       "\n",
       "// Listen for the removal of the full notebook cells\n",
       "var notebookContainer = gd.closest('#notebook-container');\n",
       "if (notebookContainer) {{\n",
       "    x.observe(notebookContainer, {childList: true});\n",
       "}}\n",
       "\n",
       "// Listen for the clearing of the current output cell\n",
       "var outputEl = gd.closest('.output');\n",
       "if (outputEl) {{\n",
       "    x.observe(outputEl, {childList: true});\n",
       "}}\n",
       "\n",
       "                        })\n",
       "                };\n",
       "                });\n",
       "            </script>\n",
       "        </div>"
      ]
     },
     "metadata": {},
     "output_type": "display_data"
    }
   ],
   "source": [
    "covid_sort = covid.sort_values(by='testShareDelta')\n",
    "covid_sort['polarity'] = covid_sort['testShareDelta'] > 0\n",
    "colors = []\n",
    "for polarity in covid_sort.polarity.values:\n",
    "    if polarity:\n",
    "        colors.append(\"green\")\n",
    "    else:\n",
    "        colors.append(\"red\")\n",
    "fig = go.Figure()\n",
    "fig.add_trace(go.Bar(x=covid_sort.state, y=covid_sort.testShareDelta, marker_color=colors))\n",
    "fig.layout.xaxis.tickfont.size = 8\n",
    "fig.layout.yaxis.tickformat = '0.0%'\n",
    "fig.update_layout(title_text='Share of Total Tests Completed vs Share of Population Delta')\n",
    "fig.update_layout(\n",
    "    autosize=False,\n",
    "    width=800,\n",
    "    height=800,\n",
    "    margin=dict(\n",
    "        l=50,\n",
    "        r=50,\n",
    "        b=100,\n",
    "        t=100,\n",
    "        pad=4\n",
    "    ),\n",
    ")\n",
    "fig.show()"
   ]
  },
  {
   "cell_type": "code",
   "execution_count": 59,
   "metadata": {
    "jupyter": {
     "source_hidden": true
    }
   },
   "outputs": [
    {
     "data": {
      "application/vnd.plotly.v1+json": {
       "config": {
        "plotlyServerURL": "https://plot.ly"
       },
       "data": [
        {
         "marker": {
          "color": [
           "red",
           "red",
           "red",
           "red",
           "red",
           "red",
           "red",
           "green",
           "green",
           "green",
           "green",
           "green",
           "green",
           "green",
           "green",
           "green",
           "green",
           "green",
           "green",
           "green",
           "green",
           "green",
           "green",
           "green",
           "green",
           "green",
           "green",
           "green",
           "green",
           "green",
           "green",
           "green",
           "green",
           "green",
           "green",
           "green",
           "green",
           "green",
           "green",
           "green",
           "green",
           "green",
           "green",
           "green",
           "green",
           "green",
           "green",
           "green",
           "green",
           "green",
           "green"
          ]
         },
         "type": "bar",
         "x": [
          "NY",
          "MA",
          "MD",
          "GA",
          "CO",
          "MS",
          "RI",
          "WY",
          "ND",
          "AK",
          "NH",
          "VT",
          "WI",
          "SD",
          "ME",
          "DC",
          "MT",
          "WV",
          "KY",
          "DE",
          "OH",
          "ID",
          "HI",
          "KS",
          "OK",
          "NE",
          "NM",
          "UT",
          "AR",
          "OR",
          "AL",
          "SC",
          "NV",
          "IA",
          "CT",
          "MN",
          "TN",
          "LA",
          "MO",
          "FL",
          "IN",
          "AZ",
          "WA",
          "VA",
          "NJ",
          "MI",
          "NC",
          "IL",
          "PA",
          "TX",
          "CA"
         ],
         "y": [
          0.6163351283755056,
          0.015923825691643873,
          0.01285218291466357,
          0.010297848494643866,
          0.005951863651484746,
          0.004458330747383176,
          0.002043307524487896,
          -0.0010476568140831508,
          -0.0016669089962837048,
          -0.0017096707027302177,
          -0.0017365702091780436,
          -0.0018956366718301451,
          -0.0019688240579277608,
          -0.002030182774037989,
          -0.0021022438267167313,
          -0.0021752038513954087,
          -0.0025373180728052763,
          -0.0027748159161112345,
          -0.00294519078330039,
          -0.0029666096232029856,
          -0.0033282342440567325,
          -0.003378260466976893,
          -0.003568457218980362,
          -0.0039007777971044495,
          -0.0047142577479352245,
          -0.005893318159088666,
          -0.006328155500223634,
          -0.006729639652549021,
          -0.0071179264518974345,
          -0.007150109148191973,
          -0.007593957249405848,
          -0.007886624196687684,
          -0.009476230560096693,
          -0.009597536505661735,
          -0.010754209265906556,
          -0.011500808950799819,
          -0.011668127282508843,
          -0.01402026417465603,
          -0.01862031625976069,
          -0.019158335951179488,
          -0.020359074049934887,
          -0.02227004034525101,
          -0.02353347718731694,
          -0.026035933337682008,
          -0.026972694363961155,
          -0.03031827376958176,
          -0.03202910985334352,
          -0.038209915044729724,
          -0.03869644270518362,
          -0.08895435826296526,
          -0.12054078939659209
         ]
        }
       ],
       "layout": {
        "autosize": false,
        "height": 800,
        "margin": {
         "b": 100,
         "l": 50,
         "pad": 4,
         "r": 50,
         "t": 100
        },
        "template": {
         "data": {
          "bar": [
           {
            "error_x": {
             "color": "#2a3f5f"
            },
            "error_y": {
             "color": "#2a3f5f"
            },
            "marker": {
             "line": {
              "color": "#E5ECF6",
              "width": 0.5
             }
            },
            "type": "bar"
           }
          ],
          "barpolar": [
           {
            "marker": {
             "line": {
              "color": "#E5ECF6",
              "width": 0.5
             }
            },
            "type": "barpolar"
           }
          ],
          "carpet": [
           {
            "aaxis": {
             "endlinecolor": "#2a3f5f",
             "gridcolor": "white",
             "linecolor": "white",
             "minorgridcolor": "white",
             "startlinecolor": "#2a3f5f"
            },
            "baxis": {
             "endlinecolor": "#2a3f5f",
             "gridcolor": "white",
             "linecolor": "white",
             "minorgridcolor": "white",
             "startlinecolor": "#2a3f5f"
            },
            "type": "carpet"
           }
          ],
          "choropleth": [
           {
            "colorbar": {
             "outlinewidth": 0,
             "ticks": ""
            },
            "type": "choropleth"
           }
          ],
          "contour": [
           {
            "colorbar": {
             "outlinewidth": 0,
             "ticks": ""
            },
            "colorscale": [
             [
              0,
              "#0d0887"
             ],
             [
              0.1111111111111111,
              "#46039f"
             ],
             [
              0.2222222222222222,
              "#7201a8"
             ],
             [
              0.3333333333333333,
              "#9c179e"
             ],
             [
              0.4444444444444444,
              "#bd3786"
             ],
             [
              0.5555555555555556,
              "#d8576b"
             ],
             [
              0.6666666666666666,
              "#ed7953"
             ],
             [
              0.7777777777777778,
              "#fb9f3a"
             ],
             [
              0.8888888888888888,
              "#fdca26"
             ],
             [
              1,
              "#f0f921"
             ]
            ],
            "type": "contour"
           }
          ],
          "contourcarpet": [
           {
            "colorbar": {
             "outlinewidth": 0,
             "ticks": ""
            },
            "type": "contourcarpet"
           }
          ],
          "heatmap": [
           {
            "colorbar": {
             "outlinewidth": 0,
             "ticks": ""
            },
            "colorscale": [
             [
              0,
              "#0d0887"
             ],
             [
              0.1111111111111111,
              "#46039f"
             ],
             [
              0.2222222222222222,
              "#7201a8"
             ],
             [
              0.3333333333333333,
              "#9c179e"
             ],
             [
              0.4444444444444444,
              "#bd3786"
             ],
             [
              0.5555555555555556,
              "#d8576b"
             ],
             [
              0.6666666666666666,
              "#ed7953"
             ],
             [
              0.7777777777777778,
              "#fb9f3a"
             ],
             [
              0.8888888888888888,
              "#fdca26"
             ],
             [
              1,
              "#f0f921"
             ]
            ],
            "type": "heatmap"
           }
          ],
          "heatmapgl": [
           {
            "colorbar": {
             "outlinewidth": 0,
             "ticks": ""
            },
            "colorscale": [
             [
              0,
              "#0d0887"
             ],
             [
              0.1111111111111111,
              "#46039f"
             ],
             [
              0.2222222222222222,
              "#7201a8"
             ],
             [
              0.3333333333333333,
              "#9c179e"
             ],
             [
              0.4444444444444444,
              "#bd3786"
             ],
             [
              0.5555555555555556,
              "#d8576b"
             ],
             [
              0.6666666666666666,
              "#ed7953"
             ],
             [
              0.7777777777777778,
              "#fb9f3a"
             ],
             [
              0.8888888888888888,
              "#fdca26"
             ],
             [
              1,
              "#f0f921"
             ]
            ],
            "type": "heatmapgl"
           }
          ],
          "histogram": [
           {
            "marker": {
             "colorbar": {
              "outlinewidth": 0,
              "ticks": ""
             }
            },
            "type": "histogram"
           }
          ],
          "histogram2d": [
           {
            "colorbar": {
             "outlinewidth": 0,
             "ticks": ""
            },
            "colorscale": [
             [
              0,
              "#0d0887"
             ],
             [
              0.1111111111111111,
              "#46039f"
             ],
             [
              0.2222222222222222,
              "#7201a8"
             ],
             [
              0.3333333333333333,
              "#9c179e"
             ],
             [
              0.4444444444444444,
              "#bd3786"
             ],
             [
              0.5555555555555556,
              "#d8576b"
             ],
             [
              0.6666666666666666,
              "#ed7953"
             ],
             [
              0.7777777777777778,
              "#fb9f3a"
             ],
             [
              0.8888888888888888,
              "#fdca26"
             ],
             [
              1,
              "#f0f921"
             ]
            ],
            "type": "histogram2d"
           }
          ],
          "histogram2dcontour": [
           {
            "colorbar": {
             "outlinewidth": 0,
             "ticks": ""
            },
            "colorscale": [
             [
              0,
              "#0d0887"
             ],
             [
              0.1111111111111111,
              "#46039f"
             ],
             [
              0.2222222222222222,
              "#7201a8"
             ],
             [
              0.3333333333333333,
              "#9c179e"
             ],
             [
              0.4444444444444444,
              "#bd3786"
             ],
             [
              0.5555555555555556,
              "#d8576b"
             ],
             [
              0.6666666666666666,
              "#ed7953"
             ],
             [
              0.7777777777777778,
              "#fb9f3a"
             ],
             [
              0.8888888888888888,
              "#fdca26"
             ],
             [
              1,
              "#f0f921"
             ]
            ],
            "type": "histogram2dcontour"
           }
          ],
          "mesh3d": [
           {
            "colorbar": {
             "outlinewidth": 0,
             "ticks": ""
            },
            "type": "mesh3d"
           }
          ],
          "parcoords": [
           {
            "line": {
             "colorbar": {
              "outlinewidth": 0,
              "ticks": ""
             }
            },
            "type": "parcoords"
           }
          ],
          "pie": [
           {
            "automargin": true,
            "type": "pie"
           }
          ],
          "scatter": [
           {
            "marker": {
             "colorbar": {
              "outlinewidth": 0,
              "ticks": ""
             }
            },
            "type": "scatter"
           }
          ],
          "scatter3d": [
           {
            "line": {
             "colorbar": {
              "outlinewidth": 0,
              "ticks": ""
             }
            },
            "marker": {
             "colorbar": {
              "outlinewidth": 0,
              "ticks": ""
             }
            },
            "type": "scatter3d"
           }
          ],
          "scattercarpet": [
           {
            "marker": {
             "colorbar": {
              "outlinewidth": 0,
              "ticks": ""
             }
            },
            "type": "scattercarpet"
           }
          ],
          "scattergeo": [
           {
            "marker": {
             "colorbar": {
              "outlinewidth": 0,
              "ticks": ""
             }
            },
            "type": "scattergeo"
           }
          ],
          "scattergl": [
           {
            "marker": {
             "colorbar": {
              "outlinewidth": 0,
              "ticks": ""
             }
            },
            "type": "scattergl"
           }
          ],
          "scattermapbox": [
           {
            "marker": {
             "colorbar": {
              "outlinewidth": 0,
              "ticks": ""
             }
            },
            "type": "scattermapbox"
           }
          ],
          "scatterpolar": [
           {
            "marker": {
             "colorbar": {
              "outlinewidth": 0,
              "ticks": ""
             }
            },
            "type": "scatterpolar"
           }
          ],
          "scatterpolargl": [
           {
            "marker": {
             "colorbar": {
              "outlinewidth": 0,
              "ticks": ""
             }
            },
            "type": "scatterpolargl"
           }
          ],
          "scatterternary": [
           {
            "marker": {
             "colorbar": {
              "outlinewidth": 0,
              "ticks": ""
             }
            },
            "type": "scatterternary"
           }
          ],
          "surface": [
           {
            "colorbar": {
             "outlinewidth": 0,
             "ticks": ""
            },
            "colorscale": [
             [
              0,
              "#0d0887"
             ],
             [
              0.1111111111111111,
              "#46039f"
             ],
             [
              0.2222222222222222,
              "#7201a8"
             ],
             [
              0.3333333333333333,
              "#9c179e"
             ],
             [
              0.4444444444444444,
              "#bd3786"
             ],
             [
              0.5555555555555556,
              "#d8576b"
             ],
             [
              0.6666666666666666,
              "#ed7953"
             ],
             [
              0.7777777777777778,
              "#fb9f3a"
             ],
             [
              0.8888888888888888,
              "#fdca26"
             ],
             [
              1,
              "#f0f921"
             ]
            ],
            "type": "surface"
           }
          ],
          "table": [
           {
            "cells": {
             "fill": {
              "color": "#EBF0F8"
             },
             "line": {
              "color": "white"
             }
            },
            "header": {
             "fill": {
              "color": "#C8D4E3"
             },
             "line": {
              "color": "white"
             }
            },
            "type": "table"
           }
          ]
         },
         "layout": {
          "annotationdefaults": {
           "arrowcolor": "#2a3f5f",
           "arrowhead": 0,
           "arrowwidth": 1
          },
          "coloraxis": {
           "colorbar": {
            "outlinewidth": 0,
            "ticks": ""
           }
          },
          "colorscale": {
           "diverging": [
            [
             0,
             "#8e0152"
            ],
            [
             0.1,
             "#c51b7d"
            ],
            [
             0.2,
             "#de77ae"
            ],
            [
             0.3,
             "#f1b6da"
            ],
            [
             0.4,
             "#fde0ef"
            ],
            [
             0.5,
             "#f7f7f7"
            ],
            [
             0.6,
             "#e6f5d0"
            ],
            [
             0.7,
             "#b8e186"
            ],
            [
             0.8,
             "#7fbc41"
            ],
            [
             0.9,
             "#4d9221"
            ],
            [
             1,
             "#276419"
            ]
           ],
           "sequential": [
            [
             0,
             "#0d0887"
            ],
            [
             0.1111111111111111,
             "#46039f"
            ],
            [
             0.2222222222222222,
             "#7201a8"
            ],
            [
             0.3333333333333333,
             "#9c179e"
            ],
            [
             0.4444444444444444,
             "#bd3786"
            ],
            [
             0.5555555555555556,
             "#d8576b"
            ],
            [
             0.6666666666666666,
             "#ed7953"
            ],
            [
             0.7777777777777778,
             "#fb9f3a"
            ],
            [
             0.8888888888888888,
             "#fdca26"
            ],
            [
             1,
             "#f0f921"
            ]
           ],
           "sequentialminus": [
            [
             0,
             "#0d0887"
            ],
            [
             0.1111111111111111,
             "#46039f"
            ],
            [
             0.2222222222222222,
             "#7201a8"
            ],
            [
             0.3333333333333333,
             "#9c179e"
            ],
            [
             0.4444444444444444,
             "#bd3786"
            ],
            [
             0.5555555555555556,
             "#d8576b"
            ],
            [
             0.6666666666666666,
             "#ed7953"
            ],
            [
             0.7777777777777778,
             "#fb9f3a"
            ],
            [
             0.8888888888888888,
             "#fdca26"
            ],
            [
             1,
             "#f0f921"
            ]
           ]
          },
          "colorway": [
           "#636efa",
           "#EF553B",
           "#00cc96",
           "#ab63fa",
           "#FFA15A",
           "#19d3f3",
           "#FF6692",
           "#B6E880",
           "#FF97FF",
           "#FECB52"
          ],
          "font": {
           "color": "#2a3f5f"
          },
          "geo": {
           "bgcolor": "white",
           "lakecolor": "white",
           "landcolor": "#E5ECF6",
           "showlakes": true,
           "showland": true,
           "subunitcolor": "white"
          },
          "hoverlabel": {
           "align": "left"
          },
          "hovermode": "closest",
          "mapbox": {
           "style": "light"
          },
          "paper_bgcolor": "white",
          "plot_bgcolor": "#E5ECF6",
          "polar": {
           "angularaxis": {
            "gridcolor": "white",
            "linecolor": "white",
            "ticks": ""
           },
           "bgcolor": "#E5ECF6",
           "radialaxis": {
            "gridcolor": "white",
            "linecolor": "white",
            "ticks": ""
           }
          },
          "scene": {
           "xaxis": {
            "backgroundcolor": "#E5ECF6",
            "gridcolor": "white",
            "gridwidth": 2,
            "linecolor": "white",
            "showbackground": true,
            "ticks": "",
            "zerolinecolor": "white"
           },
           "yaxis": {
            "backgroundcolor": "#E5ECF6",
            "gridcolor": "white",
            "gridwidth": 2,
            "linecolor": "white",
            "showbackground": true,
            "ticks": "",
            "zerolinecolor": "white"
           },
           "zaxis": {
            "backgroundcolor": "#E5ECF6",
            "gridcolor": "white",
            "gridwidth": 2,
            "linecolor": "white",
            "showbackground": true,
            "ticks": "",
            "zerolinecolor": "white"
           }
          },
          "shapedefaults": {
           "line": {
            "color": "#2a3f5f"
           }
          },
          "ternary": {
           "aaxis": {
            "gridcolor": "white",
            "linecolor": "white",
            "ticks": ""
           },
           "baxis": {
            "gridcolor": "white",
            "linecolor": "white",
            "ticks": ""
           },
           "bgcolor": "#E5ECF6",
           "caxis": {
            "gridcolor": "white",
            "linecolor": "white",
            "ticks": ""
           }
          },
          "title": {
           "x": 0.05
          },
          "xaxis": {
           "automargin": true,
           "gridcolor": "white",
           "linecolor": "white",
           "ticks": "",
           "title": {
            "standoff": 15
           },
           "zerolinecolor": "white",
           "zerolinewidth": 2
          },
          "yaxis": {
           "automargin": true,
           "gridcolor": "white",
           "linecolor": "white",
           "ticks": "",
           "title": {
            "standoff": 15
           },
           "zerolinecolor": "white",
           "zerolinewidth": 2
          }
         }
        },
        "title": {
         "text": "Share of Cumulative Hospitalizations vs Share of Population Delta"
        },
        "width": 800,
        "xaxis": {
         "autorange": true,
         "range": [
          -0.5,
          50.5
         ],
         "tickfont": {
          "size": 8
         },
         "type": "category"
        },
        "yaxis": {
         "autorange": true,
         "range": [
          -0.16147834038393086,
          0.6572726793628444
         ],
         "tickformat": "0.0%",
         "type": "linear"
        }
       }
      },
      "image/png": "[encoded data removed]",
      "text/html": [
       "<div>\n",
       "        \n",
       "        \n",
       "            <div id=\"d2724bd9-61d9-4a8f-bb10-0edd7a6a2bcc\" class=\"plotly-graph-div\" style=\"height:800px; width:800px;\"></div>\n",
       "            <script type=\"text/javascript\">\n",
       "                require([\"plotly\"], function(Plotly) {\n",
       "                    window.PLOTLYENV=window.PLOTLYENV || {};\n",
       "                    \n",
       "                if (document.getElementById(\"d2724bd9-61d9-4a8f-bb10-0edd7a6a2bcc\")) {\n",
       "                    Plotly.newPlot(\n",
       "                        'd2724bd9-61d9-4a8f-bb10-0edd7a6a2bcc',\n",
       "                        [{\"marker\": {\"color\": [\"red\", \"red\", \"red\", \"red\", \"red\", \"red\", \"red\", \"green\", \"green\", \"green\", \"green\", \"green\", \"green\", \"green\", \"green\", \"green\", \"green\", \"green\", \"green\", \"green\", \"green\", \"green\", \"green\", \"green\", \"green\", \"green\", \"green\", \"green\", \"green\", \"green\", \"green\", \"green\", \"green\", \"green\", \"green\", \"green\", \"green\", \"green\", \"green\", \"green\", \"green\", \"green\", \"green\", \"green\", \"green\", \"green\", \"green\", \"green\", \"green\", \"green\", \"green\"]}, \"type\": \"bar\", \"x\": [\"NY\", \"MA\", \"MD\", \"GA\", \"CO\", \"MS\", \"RI\", \"WY\", \"ND\", \"AK\", \"NH\", \"VT\", \"WI\", \"SD\", \"ME\", \"DC\", \"MT\", \"WV\", \"KY\", \"DE\", \"OH\", \"ID\", \"HI\", \"KS\", \"OK\", \"NE\", \"NM\", \"UT\", \"AR\", \"OR\", \"AL\", \"SC\", \"NV\", \"IA\", \"CT\", \"MN\", \"TN\", \"LA\", \"MO\", \"FL\", \"IN\", \"AZ\", \"WA\", \"VA\", \"NJ\", \"MI\", \"NC\", \"IL\", \"PA\", \"TX\", \"CA\"], \"y\": [0.6163351283755056, 0.015923825691643873, 0.01285218291466357, 0.010297848494643866, 0.005951863651484746, 0.004458330747383176, 0.002043307524487896, -0.0010476568140831508, -0.0016669089962837048, -0.0017096707027302177, -0.0017365702091780436, -0.0018956366718301451, -0.0019688240579277608, -0.002030182774037989, -0.0021022438267167313, -0.0021752038513954087, -0.0025373180728052763, -0.0027748159161112345, -0.00294519078330039, -0.0029666096232029856, -0.0033282342440567325, -0.003378260466976893, -0.003568457218980362, -0.0039007777971044495, -0.0047142577479352245, -0.005893318159088666, -0.006328155500223634, -0.006729639652549021, -0.0071179264518974345, -0.007150109148191973, -0.007593957249405848, -0.007886624196687684, -0.009476230560096693, -0.009597536505661735, -0.010754209265906556, -0.011500808950799819, -0.011668127282508843, -0.01402026417465603, -0.01862031625976069, -0.019158335951179488, -0.020359074049934887, -0.02227004034525101, -0.02353347718731694, -0.026035933337682008, -0.026972694363961155, -0.03031827376958176, -0.03202910985334352, -0.038209915044729724, -0.03869644270518362, -0.08895435826296526, -0.12054078939659209]}],\n",
       "                        {\"autosize\": false, \"height\": 800, \"margin\": {\"b\": 100, \"l\": 50, \"pad\": 4, \"r\": 50, \"t\": 100}, \"template\": {\"data\": {\"bar\": [{\"error_x\": {\"color\": \"#2a3f5f\"}, \"error_y\": {\"color\": \"#2a3f5f\"}, \"marker\": {\"line\": {\"color\": \"#E5ECF6\", \"width\": 0.5}}, \"type\": \"bar\"}], \"barpolar\": [{\"marker\": {\"line\": {\"color\": \"#E5ECF6\", \"width\": 0.5}}, \"type\": \"barpolar\"}], \"carpet\": [{\"aaxis\": {\"endlinecolor\": \"#2a3f5f\", \"gridcolor\": \"white\", \"linecolor\": \"white\", \"minorgridcolor\": \"white\", \"startlinecolor\": \"#2a3f5f\"}, \"baxis\": {\"endlinecolor\": \"#2a3f5f\", \"gridcolor\": \"white\", \"linecolor\": \"white\", \"minorgridcolor\": \"white\", \"startlinecolor\": \"#2a3f5f\"}, \"type\": \"carpet\"}], \"choropleth\": [{\"colorbar\": {\"outlinewidth\": 0, \"ticks\": \"\"}, \"type\": \"choropleth\"}], \"contour\": [{\"colorbar\": {\"outlinewidth\": 0, \"ticks\": \"\"}, \"colorscale\": [[0.0, \"#0d0887\"], [0.1111111111111111, \"#46039f\"], [0.2222222222222222, \"#7201a8\"], [0.3333333333333333, \"#9c179e\"], [0.4444444444444444, \"#bd3786\"], [0.5555555555555556, \"#d8576b\"], [0.6666666666666666, \"#ed7953\"], [0.7777777777777778, \"#fb9f3a\"], [0.8888888888888888, \"#fdca26\"], [1.0, \"#f0f921\"]], \"type\": \"contour\"}], \"contourcarpet\": [{\"colorbar\": {\"outlinewidth\": 0, \"ticks\": \"\"}, \"type\": \"contourcarpet\"}], \"heatmap\": [{\"colorbar\": {\"outlinewidth\": 0, \"ticks\": \"\"}, \"colorscale\": [[0.0, \"#0d0887\"], [0.1111111111111111, \"#46039f\"], [0.2222222222222222, \"#7201a8\"], [0.3333333333333333, \"#9c179e\"], [0.4444444444444444, \"#bd3786\"], [0.5555555555555556, \"#d8576b\"], [0.6666666666666666, \"#ed7953\"], [0.7777777777777778, \"#fb9f3a\"], [0.8888888888888888, \"#fdca26\"], [1.0, \"#f0f921\"]], \"type\": \"heatmap\"}], \"heatmapgl\": [{\"colorbar\": {\"outlinewidth\": 0, \"ticks\": \"\"}, \"colorscale\": [[0.0, \"#0d0887\"], [0.1111111111111111, \"#46039f\"], [0.2222222222222222, \"#7201a8\"], [0.3333333333333333, \"#9c179e\"], [0.4444444444444444, \"#bd3786\"], [0.5555555555555556, \"#d8576b\"], [0.6666666666666666, \"#ed7953\"], [0.7777777777777778, \"#fb9f3a\"], [0.8888888888888888, \"#fdca26\"], [1.0, \"#f0f921\"]], \"type\": \"heatmapgl\"}], \"histogram\": [{\"marker\": {\"colorbar\": {\"outlinewidth\": 0, \"ticks\": \"\"}}, \"type\": \"histogram\"}], \"histogram2d\": [{\"colorbar\": {\"outlinewidth\": 0, \"ticks\": \"\"}, \"colorscale\": [[0.0, \"#0d0887\"], [0.1111111111111111, \"#46039f\"], [0.2222222222222222, \"#7201a8\"], [0.3333333333333333, \"#9c179e\"], [0.4444444444444444, \"#bd3786\"], [0.5555555555555556, \"#d8576b\"], [0.6666666666666666, \"#ed7953\"], [0.7777777777777778, \"#fb9f3a\"], [0.8888888888888888, \"#fdca26\"], [1.0, \"#f0f921\"]], \"type\": \"histogram2d\"}], \"histogram2dcontour\": [{\"colorbar\": {\"outlinewidth\": 0, \"ticks\": \"\"}, \"colorscale\": [[0.0, \"#0d0887\"], [0.1111111111111111, \"#46039f\"], [0.2222222222222222, \"#7201a8\"], [0.3333333333333333, \"#9c179e\"], [0.4444444444444444, \"#bd3786\"], [0.5555555555555556, \"#d8576b\"], [0.6666666666666666, \"#ed7953\"], [0.7777777777777778, \"#fb9f3a\"], [0.8888888888888888, \"#fdca26\"], [1.0, \"#f0f921\"]], \"type\": \"histogram2dcontour\"}], \"mesh3d\": [{\"colorbar\": {\"outlinewidth\": 0, \"ticks\": \"\"}, \"type\": \"mesh3d\"}], \"parcoords\": [{\"line\": {\"colorbar\": {\"outlinewidth\": 0, \"ticks\": \"\"}}, \"type\": \"parcoords\"}], \"pie\": [{\"automargin\": true, \"type\": \"pie\"}], \"scatter\": [{\"marker\": {\"colorbar\": {\"outlinewidth\": 0, \"ticks\": \"\"}}, \"type\": \"scatter\"}], \"scatter3d\": [{\"line\": {\"colorbar\": {\"outlinewidth\": 0, \"ticks\": \"\"}}, \"marker\": {\"colorbar\": {\"outlinewidth\": 0, \"ticks\": \"\"}}, \"type\": \"scatter3d\"}], \"scattercarpet\": [{\"marker\": {\"colorbar\": {\"outlinewidth\": 0, \"ticks\": \"\"}}, \"type\": \"scattercarpet\"}], \"scattergeo\": [{\"marker\": {\"colorbar\": {\"outlinewidth\": 0, \"ticks\": \"\"}}, \"type\": \"scattergeo\"}], \"scattergl\": [{\"marker\": {\"colorbar\": {\"outlinewidth\": 0, \"ticks\": \"\"}}, \"type\": \"scattergl\"}], \"scattermapbox\": [{\"marker\": {\"colorbar\": {\"outlinewidth\": 0, \"ticks\": \"\"}}, \"type\": \"scattermapbox\"}], \"scatterpolar\": [{\"marker\": {\"colorbar\": {\"outlinewidth\": 0, \"ticks\": \"\"}}, \"type\": \"scatterpolar\"}], \"scatterpolargl\": [{\"marker\": {\"colorbar\": {\"outlinewidth\": 0, \"ticks\": \"\"}}, \"type\": \"scatterpolargl\"}], \"scatterternary\": [{\"marker\": {\"colorbar\": {\"outlinewidth\": 0, \"ticks\": \"\"}}, \"type\": \"scatterternary\"}], \"surface\": [{\"colorbar\": {\"outlinewidth\": 0, \"ticks\": \"\"}, \"colorscale\": [[0.0, \"#0d0887\"], [0.1111111111111111, \"#46039f\"], [0.2222222222222222, \"#7201a8\"], [0.3333333333333333, \"#9c179e\"], [0.4444444444444444, \"#bd3786\"], [0.5555555555555556, \"#d8576b\"], [0.6666666666666666, \"#ed7953\"], [0.7777777777777778, \"#fb9f3a\"], [0.8888888888888888, \"#fdca26\"], [1.0, \"#f0f921\"]], \"type\": \"surface\"}], \"table\": [{\"cells\": {\"fill\": {\"color\": \"#EBF0F8\"}, \"line\": {\"color\": \"white\"}}, \"header\": {\"fill\": {\"color\": \"#C8D4E3\"}, \"line\": {\"color\": \"white\"}}, \"type\": \"table\"}]}, \"layout\": {\"annotationdefaults\": {\"arrowcolor\": \"#2a3f5f\", \"arrowhead\": 0, \"arrowwidth\": 1}, \"coloraxis\": {\"colorbar\": {\"outlinewidth\": 0, \"ticks\": \"\"}}, \"colorscale\": {\"diverging\": [[0, \"#8e0152\"], [0.1, \"#c51b7d\"], [0.2, \"#de77ae\"], [0.3, \"#f1b6da\"], [0.4, \"#fde0ef\"], [0.5, \"#f7f7f7\"], [0.6, \"#e6f5d0\"], [0.7, \"#b8e186\"], [0.8, \"#7fbc41\"], [0.9, \"#4d9221\"], [1, \"#276419\"]], \"sequential\": [[0.0, \"#0d0887\"], [0.1111111111111111, \"#46039f\"], [0.2222222222222222, \"#7201a8\"], [0.3333333333333333, \"#9c179e\"], [0.4444444444444444, \"#bd3786\"], [0.5555555555555556, \"#d8576b\"], [0.6666666666666666, \"#ed7953\"], [0.7777777777777778, \"#fb9f3a\"], [0.8888888888888888, \"#fdca26\"], [1.0, \"#f0f921\"]], \"sequentialminus\": [[0.0, \"#0d0887\"], [0.1111111111111111, \"#46039f\"], [0.2222222222222222, \"#7201a8\"], [0.3333333333333333, \"#9c179e\"], [0.4444444444444444, \"#bd3786\"], [0.5555555555555556, \"#d8576b\"], [0.6666666666666666, \"#ed7953\"], [0.7777777777777778, \"#fb9f3a\"], [0.8888888888888888, \"#fdca26\"], [1.0, \"#f0f921\"]]}, \"colorway\": [\"#636efa\", \"#EF553B\", \"#00cc96\", \"#ab63fa\", \"#FFA15A\", \"#19d3f3\", \"#FF6692\", \"#B6E880\", \"#FF97FF\", \"#FECB52\"], \"font\": {\"color\": \"#2a3f5f\"}, \"geo\": {\"bgcolor\": \"white\", \"lakecolor\": \"white\", \"landcolor\": \"#E5ECF6\", \"showlakes\": true, \"showland\": true, \"subunitcolor\": \"white\"}, \"hoverlabel\": {\"align\": \"left\"}, \"hovermode\": \"closest\", \"mapbox\": {\"style\": \"light\"}, \"paper_bgcolor\": \"white\", \"plot_bgcolor\": \"#E5ECF6\", \"polar\": {\"angularaxis\": {\"gridcolor\": \"white\", \"linecolor\": \"white\", \"ticks\": \"\"}, \"bgcolor\": \"#E5ECF6\", \"radialaxis\": {\"gridcolor\": \"white\", \"linecolor\": \"white\", \"ticks\": \"\"}}, \"scene\": {\"xaxis\": {\"backgroundcolor\": \"#E5ECF6\", \"gridcolor\": \"white\", \"gridwidth\": 2, \"linecolor\": \"white\", \"showbackground\": true, \"ticks\": \"\", \"zerolinecolor\": \"white\"}, \"yaxis\": {\"backgroundcolor\": \"#E5ECF6\", \"gridcolor\": \"white\", \"gridwidth\": 2, \"linecolor\": \"white\", \"showbackground\": true, \"ticks\": \"\", \"zerolinecolor\": \"white\"}, \"zaxis\": {\"backgroundcolor\": \"#E5ECF6\", \"gridcolor\": \"white\", \"gridwidth\": 2, \"linecolor\": \"white\", \"showbackground\": true, \"ticks\": \"\", \"zerolinecolor\": \"white\"}}, \"shapedefaults\": {\"line\": {\"color\": \"#2a3f5f\"}}, \"ternary\": {\"aaxis\": {\"gridcolor\": \"white\", \"linecolor\": \"white\", \"ticks\": \"\"}, \"baxis\": {\"gridcolor\": \"white\", \"linecolor\": \"white\", \"ticks\": \"\"}, \"bgcolor\": \"#E5ECF6\", \"caxis\": {\"gridcolor\": \"white\", \"linecolor\": \"white\", \"ticks\": \"\"}}, \"title\": {\"x\": 0.05}, \"xaxis\": {\"automargin\": true, \"gridcolor\": \"white\", \"linecolor\": \"white\", \"ticks\": \"\", \"title\": {\"standoff\": 15}, \"zerolinecolor\": \"white\", \"zerolinewidth\": 2}, \"yaxis\": {\"automargin\": true, \"gridcolor\": \"white\", \"linecolor\": \"white\", \"ticks\": \"\", \"title\": {\"standoff\": 15}, \"zerolinecolor\": \"white\", \"zerolinewidth\": 2}}}, \"title\": {\"text\": \"Share of Cumulative Hospitalizations vs Share of Population Delta\"}, \"width\": 800, \"xaxis\": {\"tickfont\": {\"size\": 8}}, \"yaxis\": {\"tickformat\": \"0.0%\"}},\n",
       "                        {\"responsive\": true}\n",
       "                    ).then(function(){\n",
       "                            \n",
       "var gd = document.getElementById('d2724bd9-61d9-4a8f-bb10-0edd7a6a2bcc');\n",
       "var x = new MutationObserver(function (mutations, observer) {{\n",
       "        var display = window.getComputedStyle(gd).display;\n",
       "        if (!display || display === 'none') {{\n",
       "            console.log([gd, 'removed!']);\n",
       "            Plotly.purge(gd);\n",
       "            observer.disconnect();\n",
       "        }}\n",
       "}});\n",
       "\n",
       "// Listen for the removal of the full notebook cells\n",
       "var notebookContainer = gd.closest('#notebook-container');\n",
       "if (notebookContainer) {{\n",
       "    x.observe(notebookContainer, {childList: true});\n",
       "}}\n",
       "\n",
       "// Listen for the clearing of the current output cell\n",
       "var outputEl = gd.closest('.output');\n",
       "if (outputEl) {{\n",
       "    x.observe(outputEl, {childList: true});\n",
       "}}\n",
       "\n",
       "                        })\n",
       "                };\n",
       "                });\n",
       "            </script>\n",
       "        </div>"
      ]
     },
     "metadata": {},
     "output_type": "display_data"
    }
   ],
   "source": [
    "covid_sort = covid.sort_values(by='hospitalShareDelta', ascending=False)\n",
    "covid_sort['polarity'] = covid_sort['hospitalShareDelta'] < 0\n",
    "colors = []\n",
    "for polarity in covid_sort.polarity.values:\n",
    "    if polarity:\n",
    "        colors.append(\"green\")\n",
    "    else:\n",
    "        colors.append(\"red\")\n",
    "fig = go.Figure()\n",
    "fig.add_trace(go.Bar(x=covid_sort.state, y=covid_sort.hospitalShareDelta, marker_color=colors))\n",
    "fig.layout.xaxis.tickfont.size = 8\n",
    "fig.layout.yaxis.tickformat = '0.0%'\n",
    "fig.update_layout(title_text='Share of Cumulative Hospitalizations vs Share of Population Delta')\n",
    "fig.update_layout(\n",
    "    autosize=False,\n",
    "    width=800,\n",
    "    height=800,\n",
    "    margin=dict(\n",
    "        l=50,\n",
    "        r=50,\n",
    "        b=100,\n",
    "        t=100,\n",
    "        pad=4\n",
    "    ),\n",
    ")\n",
    "fig.show()"
   ]
  },
  {
   "cell_type": "code",
   "execution_count": 60,
   "metadata": {
    "jupyter": {
     "source_hidden": true
    }
   },
   "outputs": [
    {
     "data": {
      "application/vnd.plotly.v1+json": {
       "config": {
        "plotlyServerURL": "https://plot.ly"
       },
       "data": [
        {
         "marker": {
          "color": [
           "red",
           "red",
           "red",
           "red",
           "red",
           "red",
           "red",
           "green",
           "green",
           "green",
           "green",
           "green",
           "green",
           "green",
           "green",
           "green",
           "green",
           "green",
           "green",
           "green",
           "green",
           "green",
           "green",
           "green",
           "green",
           "green",
           "green",
           "green",
           "green",
           "green",
           "green",
           "green",
           "green",
           "green",
           "green",
           "green",
           "green",
           "green",
           "green",
           "green",
           "green",
           "green",
           "green",
           "green",
           "green",
           "green",
           "green",
           "green",
           "green",
           "green",
           "green"
          ]
         },
         "type": "bar",
         "x": [
          "NY",
          "NJ",
          "MI",
          "LA",
          "MA",
          "CT",
          "DC",
          "RI",
          "VT",
          "DE",
          "WY",
          "WA",
          "AK",
          "ND",
          "SD",
          "MT",
          "NH",
          "ME",
          "HI",
          "ID",
          "IL",
          "NV",
          "CO",
          "MS",
          "WV",
          "NM",
          "NE",
          "IN",
          "KS",
          "MD",
          "OK",
          "IA",
          "AR",
          "UT",
          "KY",
          "AL",
          "OR",
          "WI",
          "GA",
          "SC",
          "MO",
          "MN",
          "TN",
          "PA",
          "AZ",
          "VA",
          "OH",
          "NC",
          "FL",
          "TX",
          "CA"
         ],
         "y": [
          0.3709574930556473,
          0.07740225223092904,
          0.038125714951259056,
          0.023747829476544517,
          0.01500211001089569,
          0.014965691614209653,
          8.917280416299508e-05,
          -6.888533060238518e-05,
          -0.0006993622122898563,
          -0.0012149220217332769,
          -0.0016686914973404728,
          -0.0018296405642288446,
          -0.0018735989684600753,
          -0.0019572675041274763,
          -0.002469204578620166,
          -0.002981027130339447,
          -0.003156090789005737,
          -0.003250154910508625,
          -0.0038793067600403656,
          -0.004101875903905274,
          -0.0042869892991943895,
          -0.004349340019209742,
          -0.004484161228081212,
          -0.004835333209621855,
          -0.004982119088879943,
          -0.005003708777161171,
          -0.005124284577955622,
          -0.005405643305681277,
          -0.00613525245262944,
          -0.007166572092939015,
          -0.007706900632460806,
          -0.007760400728510577,
          -0.007890695251026793,
          -0.009137165904528058,
          -0.009137829765698019,
          -0.010415703782568531,
          -0.010717327410137836,
          -0.011082468332845704,
          -0.01189640361578266,
          -0.012008303565607288,
          -0.013749770245918086,
          -0.01421528747733945,
          -0.016161590480864362,
          -0.016309020676643925,
          -0.017057701628682607,
          -0.019670044249414043,
          -0.0237509194528965,
          -0.028354838299041205,
          -0.04446257431843451,
          -0.0766925450526773,
          -0.09118934105001429
         ]
        }
       ],
       "layout": {
        "autosize": false,
        "height": 800,
        "margin": {
         "b": 100,
         "l": 50,
         "pad": 4,
         "r": 50,
         "t": 100
        },
        "template": {
         "data": {
          "bar": [
           {
            "error_x": {
             "color": "#2a3f5f"
            },
            "error_y": {
             "color": "#2a3f5f"
            },
            "marker": {
             "line": {
              "color": "#E5ECF6",
              "width": 0.5
             }
            },
            "type": "bar"
           }
          ],
          "barpolar": [
           {
            "marker": {
             "line": {
              "color": "#E5ECF6",
              "width": 0.5
             }
            },
            "type": "barpolar"
           }
          ],
          "carpet": [
           {
            "aaxis": {
             "endlinecolor": "#2a3f5f",
             "gridcolor": "white",
             "linecolor": "white",
             "minorgridcolor": "white",
             "startlinecolor": "#2a3f5f"
            },
            "baxis": {
             "endlinecolor": "#2a3f5f",
             "gridcolor": "white",
             "linecolor": "white",
             "minorgridcolor": "white",
             "startlinecolor": "#2a3f5f"
            },
            "type": "carpet"
           }
          ],
          "choropleth": [
           {
            "colorbar": {
             "outlinewidth": 0,
             "ticks": ""
            },
            "type": "choropleth"
           }
          ],
          "contour": [
           {
            "colorbar": {
             "outlinewidth": 0,
             "ticks": ""
            },
            "colorscale": [
             [
              0,
              "#0d0887"
             ],
             [
              0.1111111111111111,
              "#46039f"
             ],
             [
              0.2222222222222222,
              "#7201a8"
             ],
             [
              0.3333333333333333,
              "#9c179e"
             ],
             [
              0.4444444444444444,
              "#bd3786"
             ],
             [
              0.5555555555555556,
              "#d8576b"
             ],
             [
              0.6666666666666666,
              "#ed7953"
             ],
             [
              0.7777777777777778,
              "#fb9f3a"
             ],
             [
              0.8888888888888888,
              "#fdca26"
             ],
             [
              1,
              "#f0f921"
             ]
            ],
            "type": "contour"
           }
          ],
          "contourcarpet": [
           {
            "colorbar": {
             "outlinewidth": 0,
             "ticks": ""
            },
            "type": "contourcarpet"
           }
          ],
          "heatmap": [
           {
            "colorbar": {
             "outlinewidth": 0,
             "ticks": ""
            },
            "colorscale": [
             [
              0,
              "#0d0887"
             ],
             [
              0.1111111111111111,
              "#46039f"
             ],
             [
              0.2222222222222222,
              "#7201a8"
             ],
             [
              0.3333333333333333,
              "#9c179e"
             ],
             [
              0.4444444444444444,
              "#bd3786"
             ],
             [
              0.5555555555555556,
              "#d8576b"
             ],
             [
              0.6666666666666666,
              "#ed7953"
             ],
             [
              0.7777777777777778,
              "#fb9f3a"
             ],
             [
              0.8888888888888888,
              "#fdca26"
             ],
             [
              1,
              "#f0f921"
             ]
            ],
            "type": "heatmap"
           }
          ],
          "heatmapgl": [
           {
            "colorbar": {
             "outlinewidth": 0,
             "ticks": ""
            },
            "colorscale": [
             [
              0,
              "#0d0887"
             ],
             [
              0.1111111111111111,
              "#46039f"
             ],
             [
              0.2222222222222222,
              "#7201a8"
             ],
             [
              0.3333333333333333,
              "#9c179e"
             ],
             [
              0.4444444444444444,
              "#bd3786"
             ],
             [
              0.5555555555555556,
              "#d8576b"
             ],
             [
              0.6666666666666666,
              "#ed7953"
             ],
             [
              0.7777777777777778,
              "#fb9f3a"
             ],
             [
              0.8888888888888888,
              "#fdca26"
             ],
             [
              1,
              "#f0f921"
             ]
            ],
            "type": "heatmapgl"
           }
          ],
          "histogram": [
           {
            "marker": {
             "colorbar": {
              "outlinewidth": 0,
              "ticks": ""
             }
            },
            "type": "histogram"
           }
          ],
          "histogram2d": [
           {
            "colorbar": {
             "outlinewidth": 0,
             "ticks": ""
            },
            "colorscale": [
             [
              0,
              "#0d0887"
             ],
             [
              0.1111111111111111,
              "#46039f"
             ],
             [
              0.2222222222222222,
              "#7201a8"
             ],
             [
              0.3333333333333333,
              "#9c179e"
             ],
             [
              0.4444444444444444,
              "#bd3786"
             ],
             [
              0.5555555555555556,
              "#d8576b"
             ],
             [
              0.6666666666666666,
              "#ed7953"
             ],
             [
              0.7777777777777778,
              "#fb9f3a"
             ],
             [
              0.8888888888888888,
              "#fdca26"
             ],
             [
              1,
              "#f0f921"
             ]
            ],
            "type": "histogram2d"
           }
          ],
          "histogram2dcontour": [
           {
            "colorbar": {
             "outlinewidth": 0,
             "ticks": ""
            },
            "colorscale": [
             [
              0,
              "#0d0887"
             ],
             [
              0.1111111111111111,
              "#46039f"
             ],
             [
              0.2222222222222222,
              "#7201a8"
             ],
             [
              0.3333333333333333,
              "#9c179e"
             ],
             [
              0.4444444444444444,
              "#bd3786"
             ],
             [
              0.5555555555555556,
              "#d8576b"
             ],
             [
              0.6666666666666666,
              "#ed7953"
             ],
             [
              0.7777777777777778,
              "#fb9f3a"
             ],
             [
              0.8888888888888888,
              "#fdca26"
             ],
             [
              1,
              "#f0f921"
             ]
            ],
            "type": "histogram2dcontour"
           }
          ],
          "mesh3d": [
           {
            "colorbar": {
             "outlinewidth": 0,
             "ticks": ""
            },
            "type": "mesh3d"
           }
          ],
          "parcoords": [
           {
            "line": {
             "colorbar": {
              "outlinewidth": 0,
              "ticks": ""
             }
            },
            "type": "parcoords"
           }
          ],
          "pie": [
           {
            "automargin": true,
            "type": "pie"
           }
          ],
          "scatter": [
           {
            "marker": {
             "colorbar": {
              "outlinewidth": 0,
              "ticks": ""
             }
            },
            "type": "scatter"
           }
          ],
          "scatter3d": [
           {
            "line": {
             "colorbar": {
              "outlinewidth": 0,
              "ticks": ""
             }
            },
            "marker": {
             "colorbar": {
              "outlinewidth": 0,
              "ticks": ""
             }
            },
            "type": "scatter3d"
           }
          ],
          "scattercarpet": [
           {
            "marker": {
             "colorbar": {
              "outlinewidth": 0,
              "ticks": ""
             }
            },
            "type": "scattercarpet"
           }
          ],
          "scattergeo": [
           {
            "marker": {
             "colorbar": {
              "outlinewidth": 0,
              "ticks": ""
             }
            },
            "type": "scattergeo"
           }
          ],
          "scattergl": [
           {
            "marker": {
             "colorbar": {
              "outlinewidth": 0,
              "ticks": ""
             }
            },
            "type": "scattergl"
           }
          ],
          "scattermapbox": [
           {
            "marker": {
             "colorbar": {
              "outlinewidth": 0,
              "ticks": ""
             }
            },
            "type": "scattermapbox"
           }
          ],
          "scatterpolar": [
           {
            "marker": {
             "colorbar": {
              "outlinewidth": 0,
              "ticks": ""
             }
            },
            "type": "scatterpolar"
           }
          ],
          "scatterpolargl": [
           {
            "marker": {
             "colorbar": {
              "outlinewidth": 0,
              "ticks": ""
             }
            },
            "type": "scatterpolargl"
           }
          ],
          "scatterternary": [
           {
            "marker": {
             "colorbar": {
              "outlinewidth": 0,
              "ticks": ""
             }
            },
            "type": "scatterternary"
           }
          ],
          "surface": [
           {
            "colorbar": {
             "outlinewidth": 0,
             "ticks": ""
            },
            "colorscale": [
             [
              0,
              "#0d0887"
             ],
             [
              0.1111111111111111,
              "#46039f"
             ],
             [
              0.2222222222222222,
              "#7201a8"
             ],
             [
              0.3333333333333333,
              "#9c179e"
             ],
             [
              0.4444444444444444,
              "#bd3786"
             ],
             [
              0.5555555555555556,
              "#d8576b"
             ],
             [
              0.6666666666666666,
              "#ed7953"
             ],
             [
              0.7777777777777778,
              "#fb9f3a"
             ],
             [
              0.8888888888888888,
              "#fdca26"
             ],
             [
              1,
              "#f0f921"
             ]
            ],
            "type": "surface"
           }
          ],
          "table": [
           {
            "cells": {
             "fill": {
              "color": "#EBF0F8"
             },
             "line": {
              "color": "white"
             }
            },
            "header": {
             "fill": {
              "color": "#C8D4E3"
             },
             "line": {
              "color": "white"
             }
            },
            "type": "table"
           }
          ]
         },
         "layout": {
          "annotationdefaults": {
           "arrowcolor": "#2a3f5f",
           "arrowhead": 0,
           "arrowwidth": 1
          },
          "coloraxis": {
           "colorbar": {
            "outlinewidth": 0,
            "ticks": ""
           }
          },
          "colorscale": {
           "diverging": [
            [
             0,
             "#8e0152"
            ],
            [
             0.1,
             "#c51b7d"
            ],
            [
             0.2,
             "#de77ae"
            ],
            [
             0.3,
             "#f1b6da"
            ],
            [
             0.4,
             "#fde0ef"
            ],
            [
             0.5,
             "#f7f7f7"
            ],
            [
             0.6,
             "#e6f5d0"
            ],
            [
             0.7,
             "#b8e186"
            ],
            [
             0.8,
             "#7fbc41"
            ],
            [
             0.9,
             "#4d9221"
            ],
            [
             1,
             "#276419"
            ]
           ],
           "sequential": [
            [
             0,
             "#0d0887"
            ],
            [
             0.1111111111111111,
             "#46039f"
            ],
            [
             0.2222222222222222,
             "#7201a8"
            ],
            [
             0.3333333333333333,
             "#9c179e"
            ],
            [
             0.4444444444444444,
             "#bd3786"
            ],
            [
             0.5555555555555556,
             "#d8576b"
            ],
            [
             0.6666666666666666,
             "#ed7953"
            ],
            [
             0.7777777777777778,
             "#fb9f3a"
            ],
            [
             0.8888888888888888,
             "#fdca26"
            ],
            [
             1,
             "#f0f921"
            ]
           ],
           "sequentialminus": [
            [
             0,
             "#0d0887"
            ],
            [
             0.1111111111111111,
             "#46039f"
            ],
            [
             0.2222222222222222,
             "#7201a8"
            ],
            [
             0.3333333333333333,
             "#9c179e"
            ],
            [
             0.4444444444444444,
             "#bd3786"
            ],
            [
             0.5555555555555556,
             "#d8576b"
            ],
            [
             0.6666666666666666,
             "#ed7953"
            ],
            [
             0.7777777777777778,
             "#fb9f3a"
            ],
            [
             0.8888888888888888,
             "#fdca26"
            ],
            [
             1,
             "#f0f921"
            ]
           ]
          },
          "colorway": [
           "#636efa",
           "#EF553B",
           "#00cc96",
           "#ab63fa",
           "#FFA15A",
           "#19d3f3",
           "#FF6692",
           "#B6E880",
           "#FF97FF",
           "#FECB52"
          ],
          "font": {
           "color": "#2a3f5f"
          },
          "geo": {
           "bgcolor": "white",
           "lakecolor": "white",
           "landcolor": "#E5ECF6",
           "showlakes": true,
           "showland": true,
           "subunitcolor": "white"
          },
          "hoverlabel": {
           "align": "left"
          },
          "hovermode": "closest",
          "mapbox": {
           "style": "light"
          },
          "paper_bgcolor": "white",
          "plot_bgcolor": "#E5ECF6",
          "polar": {
           "angularaxis": {
            "gridcolor": "white",
            "linecolor": "white",
            "ticks": ""
           },
           "bgcolor": "#E5ECF6",
           "radialaxis": {
            "gridcolor": "white",
            "linecolor": "white",
            "ticks": ""
           }
          },
          "scene": {
           "xaxis": {
            "backgroundcolor": "#E5ECF6",
            "gridcolor": "white",
            "gridwidth": 2,
            "linecolor": "white",
            "showbackground": true,
            "ticks": "",
            "zerolinecolor": "white"
           },
           "yaxis": {
            "backgroundcolor": "#E5ECF6",
            "gridcolor": "white",
            "gridwidth": 2,
            "linecolor": "white",
            "showbackground": true,
            "ticks": "",
            "zerolinecolor": "white"
           },
           "zaxis": {
            "backgroundcolor": "#E5ECF6",
            "gridcolor": "white",
            "gridwidth": 2,
            "linecolor": "white",
            "showbackground": true,
            "ticks": "",
            "zerolinecolor": "white"
           }
          },
          "shapedefaults": {
           "line": {
            "color": "#2a3f5f"
           }
          },
          "ternary": {
           "aaxis": {
            "gridcolor": "white",
            "linecolor": "white",
            "ticks": ""
           },
           "baxis": {
            "gridcolor": "white",
            "linecolor": "white",
            "ticks": ""
           },
           "bgcolor": "#E5ECF6",
           "caxis": {
            "gridcolor": "white",
            "linecolor": "white",
            "ticks": ""
           }
          },
          "title": {
           "x": 0.05
          },
          "xaxis": {
           "automargin": true,
           "gridcolor": "white",
           "linecolor": "white",
           "ticks": "",
           "title": {
            "standoff": 15
           },
           "zerolinecolor": "white",
           "zerolinewidth": 2
          },
          "yaxis": {
           "automargin": true,
           "gridcolor": "white",
           "linecolor": "white",
           "ticks": "",
           "title": {
            "standoff": 15
           },
           "zerolinecolor": "white",
           "zerolinewidth": 2
          }
         }
        },
        "title": {
         "text": "Share of Covid Deaths vs Share of Population Delta"
        },
        "width": 800,
        "xaxis": {
         "autorange": true,
         "range": [
          -0.5,
          50.5
         ],
         "tickfont": {
          "size": 8
         },
         "type": "category"
        },
        "yaxis": {
         "autorange": true,
         "range": [
          -0.11686416516699549,
          0.3966323171726285
         ],
         "tickformat": "0.0%",
         "type": "linear"
        }
       }
      },
      "image/png": "[encoded data removed]",
      "text/html": [
       "<div>\n",
       "        \n",
       "        \n",
       "            <div id=\"f08307e9-7c3a-4a5a-b2b9-fb7277c47898\" class=\"plotly-graph-div\" style=\"height:800px; width:800px;\"></div>\n",
       "            <script type=\"text/javascript\">\n",
       "                require([\"plotly\"], function(Plotly) {\n",
       "                    window.PLOTLYENV=window.PLOTLYENV || {};\n",
       "                    \n",
       "                if (document.getElementById(\"f08307e9-7c3a-4a5a-b2b9-fb7277c47898\")) {\n",
       "                    Plotly.newPlot(\n",
       "                        'f08307e9-7c3a-4a5a-b2b9-fb7277c47898',\n",
       "                        [{\"marker\": {\"color\": [\"red\", \"red\", \"red\", \"red\", \"red\", \"red\", \"red\", \"green\", \"green\", \"green\", \"green\", \"green\", \"green\", \"green\", \"green\", \"green\", \"green\", \"green\", \"green\", \"green\", \"green\", \"green\", \"green\", \"green\", \"green\", \"green\", \"green\", \"green\", \"green\", \"green\", \"green\", \"green\", \"green\", \"green\", \"green\", \"green\", \"green\", \"green\", \"green\", \"green\", \"green\", \"green\", \"green\", \"green\", \"green\", \"green\", \"green\", \"green\", \"green\", \"green\", \"green\"]}, \"type\": \"bar\", \"x\": [\"NY\", \"NJ\", \"MI\", \"LA\", \"MA\", \"CT\", \"DC\", \"RI\", \"VT\", \"DE\", \"WY\", \"WA\", \"AK\", \"ND\", \"SD\", \"MT\", \"NH\", \"ME\", \"HI\", \"ID\", \"IL\", \"NV\", \"CO\", \"MS\", \"WV\", \"NM\", \"NE\", \"IN\", \"KS\", \"MD\", \"OK\", \"IA\", \"AR\", \"UT\", \"KY\", \"AL\", \"OR\", \"WI\", \"GA\", \"SC\", \"MO\", \"MN\", \"TN\", \"PA\", \"AZ\", \"VA\", \"OH\", \"NC\", \"FL\", \"TX\", \"CA\"], \"y\": [0.3709574930556473, 0.07740225223092904, 0.038125714951259056, 0.023747829476544517, 0.01500211001089569, 0.014965691614209653, 8.917280416299508e-05, -6.888533060238518e-05, -0.0006993622122898563, -0.0012149220217332769, -0.0016686914973404728, -0.0018296405642288446, -0.0018735989684600753, -0.0019572675041274763, -0.002469204578620166, -0.002981027130339447, -0.003156090789005737, -0.003250154910508625, -0.0038793067600403656, -0.004101875903905274, -0.0042869892991943895, -0.004349340019209742, -0.004484161228081212, -0.004835333209621855, -0.004982119088879943, -0.005003708777161171, -0.005124284577955622, -0.005405643305681277, -0.00613525245262944, -0.007166572092939015, -0.007706900632460806, -0.007760400728510577, -0.007890695251026793, -0.009137165904528058, -0.009137829765698019, -0.010415703782568531, -0.010717327410137836, -0.011082468332845704, -0.01189640361578266, -0.012008303565607288, -0.013749770245918086, -0.01421528747733945, -0.016161590480864362, -0.016309020676643925, -0.017057701628682607, -0.019670044249414043, -0.0237509194528965, -0.028354838299041205, -0.04446257431843451, -0.0766925450526773, -0.09118934105001429]}],\n",
       "                        {\"autosize\": false, \"height\": 800, \"margin\": {\"b\": 100, \"l\": 50, \"pad\": 4, \"r\": 50, \"t\": 100}, \"template\": {\"data\": {\"bar\": [{\"error_x\": {\"color\": \"#2a3f5f\"}, \"error_y\": {\"color\": \"#2a3f5f\"}, \"marker\": {\"line\": {\"color\": \"#E5ECF6\", \"width\": 0.5}}, \"type\": \"bar\"}], \"barpolar\": [{\"marker\": {\"line\": {\"color\": \"#E5ECF6\", \"width\": 0.5}}, \"type\": \"barpolar\"}], \"carpet\": [{\"aaxis\": {\"endlinecolor\": \"#2a3f5f\", \"gridcolor\": \"white\", \"linecolor\": \"white\", \"minorgridcolor\": \"white\", \"startlinecolor\": \"#2a3f5f\"}, \"baxis\": {\"endlinecolor\": \"#2a3f5f\", \"gridcolor\": \"white\", \"linecolor\": \"white\", \"minorgridcolor\": \"white\", \"startlinecolor\": \"#2a3f5f\"}, \"type\": \"carpet\"}], \"choropleth\": [{\"colorbar\": {\"outlinewidth\": 0, \"ticks\": \"\"}, \"type\": \"choropleth\"}], \"contour\": [{\"colorbar\": {\"outlinewidth\": 0, \"ticks\": \"\"}, \"colorscale\": [[0.0, \"#0d0887\"], [0.1111111111111111, \"#46039f\"], [0.2222222222222222, \"#7201a8\"], [0.3333333333333333, \"#9c179e\"], [0.4444444444444444, \"#bd3786\"], [0.5555555555555556, \"#d8576b\"], [0.6666666666666666, \"#ed7953\"], [0.7777777777777778, \"#fb9f3a\"], [0.8888888888888888, \"#fdca26\"], [1.0, \"#f0f921\"]], \"type\": \"contour\"}], \"contourcarpet\": [{\"colorbar\": {\"outlinewidth\": 0, \"ticks\": \"\"}, \"type\": \"contourcarpet\"}], \"heatmap\": [{\"colorbar\": {\"outlinewidth\": 0, \"ticks\": \"\"}, \"colorscale\": [[0.0, \"#0d0887\"], [0.1111111111111111, \"#46039f\"], [0.2222222222222222, \"#7201a8\"], [0.3333333333333333, \"#9c179e\"], [0.4444444444444444, \"#bd3786\"], [0.5555555555555556, \"#d8576b\"], [0.6666666666666666, \"#ed7953\"], [0.7777777777777778, \"#fb9f3a\"], [0.8888888888888888, \"#fdca26\"], [1.0, \"#f0f921\"]], \"type\": \"heatmap\"}], \"heatmapgl\": [{\"colorbar\": {\"outlinewidth\": 0, \"ticks\": \"\"}, \"colorscale\": [[0.0, \"#0d0887\"], [0.1111111111111111, \"#46039f\"], [0.2222222222222222, \"#7201a8\"], [0.3333333333333333, \"#9c179e\"], [0.4444444444444444, \"#bd3786\"], [0.5555555555555556, \"#d8576b\"], [0.6666666666666666, \"#ed7953\"], [0.7777777777777778, \"#fb9f3a\"], [0.8888888888888888, \"#fdca26\"], [1.0, \"#f0f921\"]], \"type\": \"heatmapgl\"}], \"histogram\": [{\"marker\": {\"colorbar\": {\"outlinewidth\": 0, \"ticks\": \"\"}}, \"type\": \"histogram\"}], \"histogram2d\": [{\"colorbar\": {\"outlinewidth\": 0, \"ticks\": \"\"}, \"colorscale\": [[0.0, \"#0d0887\"], [0.1111111111111111, \"#46039f\"], [0.2222222222222222, \"#7201a8\"], [0.3333333333333333, \"#9c179e\"], [0.4444444444444444, \"#bd3786\"], [0.5555555555555556, \"#d8576b\"], [0.6666666666666666, \"#ed7953\"], [0.7777777777777778, \"#fb9f3a\"], [0.8888888888888888, \"#fdca26\"], [1.0, \"#f0f921\"]], \"type\": \"histogram2d\"}], \"histogram2dcontour\": [{\"colorbar\": {\"outlinewidth\": 0, \"ticks\": \"\"}, \"colorscale\": [[0.0, \"#0d0887\"], [0.1111111111111111, \"#46039f\"], [0.2222222222222222, \"#7201a8\"], [0.3333333333333333, \"#9c179e\"], [0.4444444444444444, \"#bd3786\"], [0.5555555555555556, \"#d8576b\"], [0.6666666666666666, \"#ed7953\"], [0.7777777777777778, \"#fb9f3a\"], [0.8888888888888888, \"#fdca26\"], [1.0, \"#f0f921\"]], \"type\": \"histogram2dcontour\"}], \"mesh3d\": [{\"colorbar\": {\"outlinewidth\": 0, \"ticks\": \"\"}, \"type\": \"mesh3d\"}], \"parcoords\": [{\"line\": {\"colorbar\": {\"outlinewidth\": 0, \"ticks\": \"\"}}, \"type\": \"parcoords\"}], \"pie\": [{\"automargin\": true, \"type\": \"pie\"}], \"scatter\": [{\"marker\": {\"colorbar\": {\"outlinewidth\": 0, \"ticks\": \"\"}}, \"type\": \"scatter\"}], \"scatter3d\": [{\"line\": {\"colorbar\": {\"outlinewidth\": 0, \"ticks\": \"\"}}, \"marker\": {\"colorbar\": {\"outlinewidth\": 0, \"ticks\": \"\"}}, \"type\": \"scatter3d\"}], \"scattercarpet\": [{\"marker\": {\"colorbar\": {\"outlinewidth\": 0, \"ticks\": \"\"}}, \"type\": \"scattercarpet\"}], \"scattergeo\": [{\"marker\": {\"colorbar\": {\"outlinewidth\": 0, \"ticks\": \"\"}}, \"type\": \"scattergeo\"}], \"scattergl\": [{\"marker\": {\"colorbar\": {\"outlinewidth\": 0, \"ticks\": \"\"}}, \"type\": \"scattergl\"}], \"scattermapbox\": [{\"marker\": {\"colorbar\": {\"outlinewidth\": 0, \"ticks\": \"\"}}, \"type\": \"scattermapbox\"}], \"scatterpolar\": [{\"marker\": {\"colorbar\": {\"outlinewidth\": 0, \"ticks\": \"\"}}, \"type\": \"scatterpolar\"}], \"scatterpolargl\": [{\"marker\": {\"colorbar\": {\"outlinewidth\": 0, \"ticks\": \"\"}}, \"type\": \"scatterpolargl\"}], \"scatterternary\": [{\"marker\": {\"colorbar\": {\"outlinewidth\": 0, \"ticks\": \"\"}}, \"type\": \"scatterternary\"}], \"surface\": [{\"colorbar\": {\"outlinewidth\": 0, \"ticks\": \"\"}, \"colorscale\": [[0.0, \"#0d0887\"], [0.1111111111111111, \"#46039f\"], [0.2222222222222222, \"#7201a8\"], [0.3333333333333333, \"#9c179e\"], [0.4444444444444444, \"#bd3786\"], [0.5555555555555556, \"#d8576b\"], [0.6666666666666666, \"#ed7953\"], [0.7777777777777778, \"#fb9f3a\"], [0.8888888888888888, \"#fdca26\"], [1.0, \"#f0f921\"]], \"type\": \"surface\"}], \"table\": [{\"cells\": {\"fill\": {\"color\": \"#EBF0F8\"}, \"line\": {\"color\": \"white\"}}, \"header\": {\"fill\": {\"color\": \"#C8D4E3\"}, \"line\": {\"color\": \"white\"}}, \"type\": \"table\"}]}, \"layout\": {\"annotationdefaults\": {\"arrowcolor\": \"#2a3f5f\", \"arrowhead\": 0, \"arrowwidth\": 1}, \"coloraxis\": {\"colorbar\": {\"outlinewidth\": 0, \"ticks\": \"\"}}, \"colorscale\": {\"diverging\": [[0, \"#8e0152\"], [0.1, \"#c51b7d\"], [0.2, \"#de77ae\"], [0.3, \"#f1b6da\"], [0.4, \"#fde0ef\"], [0.5, \"#f7f7f7\"], [0.6, \"#e6f5d0\"], [0.7, \"#b8e186\"], [0.8, \"#7fbc41\"], [0.9, \"#4d9221\"], [1, \"#276419\"]], \"sequential\": [[0.0, \"#0d0887\"], [0.1111111111111111, \"#46039f\"], [0.2222222222222222, \"#7201a8\"], [0.3333333333333333, \"#9c179e\"], [0.4444444444444444, \"#bd3786\"], [0.5555555555555556, \"#d8576b\"], [0.6666666666666666, \"#ed7953\"], [0.7777777777777778, \"#fb9f3a\"], [0.8888888888888888, \"#fdca26\"], [1.0, \"#f0f921\"]], \"sequentialminus\": [[0.0, \"#0d0887\"], [0.1111111111111111, \"#46039f\"], [0.2222222222222222, \"#7201a8\"], [0.3333333333333333, \"#9c179e\"], [0.4444444444444444, \"#bd3786\"], [0.5555555555555556, \"#d8576b\"], [0.6666666666666666, \"#ed7953\"], [0.7777777777777778, \"#fb9f3a\"], [0.8888888888888888, \"#fdca26\"], [1.0, \"#f0f921\"]]}, \"colorway\": [\"#636efa\", \"#EF553B\", \"#00cc96\", \"#ab63fa\", \"#FFA15A\", \"#19d3f3\", \"#FF6692\", \"#B6E880\", \"#FF97FF\", \"#FECB52\"], \"font\": {\"color\": \"#2a3f5f\"}, \"geo\": {\"bgcolor\": \"white\", \"lakecolor\": \"white\", \"landcolor\": \"#E5ECF6\", \"showlakes\": true, \"showland\": true, \"subunitcolor\": \"white\"}, \"hoverlabel\": {\"align\": \"left\"}, \"hovermode\": \"closest\", \"mapbox\": {\"style\": \"light\"}, \"paper_bgcolor\": \"white\", \"plot_bgcolor\": \"#E5ECF6\", \"polar\": {\"angularaxis\": {\"gridcolor\": \"white\", \"linecolor\": \"white\", \"ticks\": \"\"}, \"bgcolor\": \"#E5ECF6\", \"radialaxis\": {\"gridcolor\": \"white\", \"linecolor\": \"white\", \"ticks\": \"\"}}, \"scene\": {\"xaxis\": {\"backgroundcolor\": \"#E5ECF6\", \"gridcolor\": \"white\", \"gridwidth\": 2, \"linecolor\": \"white\", \"showbackground\": true, \"ticks\": \"\", \"zerolinecolor\": \"white\"}, \"yaxis\": {\"backgroundcolor\": \"#E5ECF6\", \"gridcolor\": \"white\", \"gridwidth\": 2, \"linecolor\": \"white\", \"showbackground\": true, \"ticks\": \"\", \"zerolinecolor\": \"white\"}, \"zaxis\": {\"backgroundcolor\": \"#E5ECF6\", \"gridcolor\": \"white\", \"gridwidth\": 2, \"linecolor\": \"white\", \"showbackground\": true, \"ticks\": \"\", \"zerolinecolor\": \"white\"}}, \"shapedefaults\": {\"line\": {\"color\": \"#2a3f5f\"}}, \"ternary\": {\"aaxis\": {\"gridcolor\": \"white\", \"linecolor\": \"white\", \"ticks\": \"\"}, \"baxis\": {\"gridcolor\": \"white\", \"linecolor\": \"white\", \"ticks\": \"\"}, \"bgcolor\": \"#E5ECF6\", \"caxis\": {\"gridcolor\": \"white\", \"linecolor\": \"white\", \"ticks\": \"\"}}, \"title\": {\"x\": 0.05}, \"xaxis\": {\"automargin\": true, \"gridcolor\": \"white\", \"linecolor\": \"white\", \"ticks\": \"\", \"title\": {\"standoff\": 15}, \"zerolinecolor\": \"white\", \"zerolinewidth\": 2}, \"yaxis\": {\"automargin\": true, \"gridcolor\": \"white\", \"linecolor\": \"white\", \"ticks\": \"\", \"title\": {\"standoff\": 15}, \"zerolinecolor\": \"white\", \"zerolinewidth\": 2}}}, \"title\": {\"text\": \"Share of Covid Deaths vs Share of Population Delta\"}, \"width\": 800, \"xaxis\": {\"tickfont\": {\"size\": 8}}, \"yaxis\": {\"tickformat\": \"0.0%\"}},\n",
       "                        {\"responsive\": true}\n",
       "                    ).then(function(){\n",
       "                            \n",
       "var gd = document.getElementById('f08307e9-7c3a-4a5a-b2b9-fb7277c47898');\n",
       "var x = new MutationObserver(function (mutations, observer) {{\n",
       "        var display = window.getComputedStyle(gd).display;\n",
       "        if (!display || display === 'none') {{\n",
       "            console.log([gd, 'removed!']);\n",
       "            Plotly.purge(gd);\n",
       "            observer.disconnect();\n",
       "        }}\n",
       "}});\n",
       "\n",
       "// Listen for the removal of the full notebook cells\n",
       "var notebookContainer = gd.closest('#notebook-container');\n",
       "if (notebookContainer) {{\n",
       "    x.observe(notebookContainer, {childList: true});\n",
       "}}\n",
       "\n",
       "// Listen for the clearing of the current output cell\n",
       "var outputEl = gd.closest('.output');\n",
       "if (outputEl) {{\n",
       "    x.observe(outputEl, {childList: true});\n",
       "}}\n",
       "\n",
       "                        })\n",
       "                };\n",
       "                });\n",
       "            </script>\n",
       "        </div>"
      ]
     },
     "metadata": {},
     "output_type": "display_data"
    }
   ],
   "source": [
    "covid_sort = covid.sort_values(by='deathShareDelta', ascending=False)\n",
    "covid_sort['polarity'] = covid_sort['deathShareDelta'] < 0\n",
    "colors = []\n",
    "for polarity in covid_sort.polarity.values:\n",
    "    if polarity:\n",
    "        colors.append(\"green\")\n",
    "    else:\n",
    "        colors.append(\"red\")\n",
    "fig = go.Figure()\n",
    "fig.add_trace(go.Bar(x=covid_sort.state, y=covid_sort.deathShareDelta, marker_color=colors))\n",
    "fig.layout.xaxis.tickfont.size = 8\n",
    "fig.layout.yaxis.tickformat = '0.0%'\n",
    "fig.update_layout(title_text='Share of Covid Deaths vs Share of Population Delta')\n",
    "fig.update_layout(\n",
    "    autosize=False,\n",
    "    width=800,\n",
    "    height=800,\n",
    "    margin=dict(\n",
    "        l=50,\n",
    "        r=50,\n",
    "        b=100,\n",
    "        t=100,\n",
    "        pad=4\n",
    "    ),\n",
    ")\n",
    "fig.show()"
   ]
  },
  {
   "cell_type": "code",
   "execution_count": null,
   "metadata": {},
   "outputs": [],
   "source": []
  }
 ],
 "metadata": {
  "kernelspec": {
   "display_name": "Python 3",
   "language": "python",
   "name": "python3"
  },
  "language_info": {
   "codemirror_mode": {
    "name": "ipython",
    "version": 3
   },
   "file_extension": ".py",
   "mimetype": "text/x-python",
   "name": "python",
   "nbconvert_exporter": "python",
   "pygments_lexer": "ipython3",
   "version": "3.7.3"
  },
  "nteract": {
   "version": "0.22.0"
  }
 },
 "nbformat": 4,
 "nbformat_minor": 4
}
