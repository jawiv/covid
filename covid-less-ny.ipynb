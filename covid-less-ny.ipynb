{
 "cells": [
  {
   "cell_type": "code",
   "execution_count": 6,
   "metadata": {
    "execution": {
     "iopub.execute_input": "2020-03-30T00:16:50.028Z",
     "iopub.status.busy": "2020-03-30T00:16:50.025Z",
     "iopub.status.idle": "2020-03-30T00:16:50.249Z",
     "shell.execute_reply": "2020-03-30T00:16:50.252Z"
    },
    "jupyter": {
     "source_hidden": true
    }
   },
   "outputs": [
    {
     "data": {
      "text/html": [
       "\n",
       "    <div class=\"bk-root\">\n",
       "        <a href=\"https://bokeh.org\" target=\"_blank\" class=\"bk-logo bk-logo-small bk-logo-notebook\"></a>\n",
       "        <span id=\"1003\">Loading BokehJS ...</span>\n",
       "    </div>"
      ]
     },
     "metadata": {},
     "output_type": "display_data"
    },
    {
     "data": {
      "application/javascript": [
       "\n",
       "(function(root) {\n",
       "  function now() {\n",
       "    return new Date();\n",
       "  }\n",
       "\n",
       "  var force = true;\n",
       "\n",
       "  if (typeof root._bokeh_onload_callbacks === \"undefined\" || force === true) {\n",
       "    root._bokeh_onload_callbacks = [];\n",
       "    root._bokeh_is_loading = undefined;\n",
       "  }\n",
       "\n",
       "  var JS_MIME_TYPE = 'application/javascript';\n",
       "  var HTML_MIME_TYPE = 'text/html';\n",
       "  var EXEC_MIME_TYPE = 'application/vnd.bokehjs_exec.v0+json';\n",
       "  var CLASS_NAME = 'output_bokeh rendered_html';\n",
       "\n",
       "  /**\n",
       "   * Render data to the DOM node\n",
       "   */\n",
       "  function render(props, node) {\n",
       "    var script = document.createElement(\"script\");\n",
       "    node.appendChild(script);\n",
       "  }\n",
       "\n",
       "  /**\n",
       "   * Handle when an output is cleared or removed\n",
       "   */\n",
       "  function handleClearOutput(event, handle) {\n",
       "    var cell = handle.cell;\n",
       "\n",
       "    var id = cell.output_area._bokeh_element_id;\n",
       "    var server_id = cell.output_area._bokeh_server_id;\n",
       "    // Clean up Bokeh references\n",
       "    if (id != null && id in Bokeh.index) {\n",
       "      Bokeh.index[id].model.document.clear();\n",
       "      delete Bokeh.index[id];\n",
       "    }\n",
       "\n",
       "    if (server_id !== undefined) {\n",
       "      // Clean up Bokeh references\n",
       "      var cmd = \"from bokeh.io.state import curstate; print(curstate().uuid_to_server['\" + server_id + \"'].get_sessions()[0].document.roots[0]._id)\";\n",
       "      cell.notebook.kernel.execute(cmd, {\n",
       "        iopub: {\n",
       "          output: function(msg) {\n",
       "            var id = msg.content.text.trim();\n",
       "            if (id in Bokeh.index) {\n",
       "              Bokeh.index[id].model.document.clear();\n",
       "              delete Bokeh.index[id];\n",
       "            }\n",
       "          }\n",
       "        }\n",
       "      });\n",
       "      // Destroy server and session\n",
       "      var cmd = \"import bokeh.io.notebook as ion; ion.destroy_server('\" + server_id + \"')\";\n",
       "      cell.notebook.kernel.execute(cmd);\n",
       "    }\n",
       "  }\n",
       "\n",
       "  /**\n",
       "   * Handle when a new output is added\n",
       "   */\n",
       "  function handleAddOutput(event, handle) {\n",
       "    var output_area = handle.output_area;\n",
       "    var output = handle.output;\n",
       "\n",
       "    // limit handleAddOutput to display_data with EXEC_MIME_TYPE content only\n",
       "    if ((output.output_type != \"display_data\") || (!output.data.hasOwnProperty(EXEC_MIME_TYPE))) {\n",
       "      return\n",
       "    }\n",
       "\n",
       "    var toinsert = output_area.element.find(\".\" + CLASS_NAME.split(' ')[0]);\n",
       "\n",
       "    if (output.metadata[EXEC_MIME_TYPE][\"id\"] !== undefined) {\n",
       "      toinsert[toinsert.length - 1].firstChild.textContent = output.data[JS_MIME_TYPE];\n",
       "      // store reference to embed id on output_area\n",
       "      output_area._bokeh_element_id = output.metadata[EXEC_MIME_TYPE][\"id\"];\n",
       "    }\n",
       "    if (output.metadata[EXEC_MIME_TYPE][\"server_id\"] !== undefined) {\n",
       "      var bk_div = document.createElement(\"div\");\n",
       "      bk_div.innerHTML = output.data[HTML_MIME_TYPE];\n",
       "      var script_attrs = bk_div.children[0].attributes;\n",
       "      for (var i = 0; i < script_attrs.length; i++) {\n",
       "        toinsert[toinsert.length - 1].firstChild.setAttribute(script_attrs[i].name, script_attrs[i].value);\n",
       "        toinsert[toinsert.length - 1].firstChild.textContent = bk_div.children[0].textContent\n",
       "      }\n",
       "      // store reference to server id on output_area\n",
       "      output_area._bokeh_server_id = output.metadata[EXEC_MIME_TYPE][\"server_id\"];\n",
       "    }\n",
       "  }\n",
       "\n",
       "  function register_renderer(events, OutputArea) {\n",
       "\n",
       "    function append_mime(data, metadata, element) {\n",
       "      // create a DOM node to render to\n",
       "      var toinsert = this.create_output_subarea(\n",
       "        metadata,\n",
       "        CLASS_NAME,\n",
       "        EXEC_MIME_TYPE\n",
       "      );\n",
       "      this.keyboard_manager.register_events(toinsert);\n",
       "      // Render to node\n",
       "      var props = {data: data, metadata: metadata[EXEC_MIME_TYPE]};\n",
       "      render(props, toinsert[toinsert.length - 1]);\n",
       "      element.append(toinsert);\n",
       "      return toinsert\n",
       "    }\n",
       "\n",
       "    /* Handle when an output is cleared or removed */\n",
       "    events.on('clear_output.CodeCell', handleClearOutput);\n",
       "    events.on('delete.Cell', handleClearOutput);\n",
       "\n",
       "    /* Handle when a new output is added */\n",
       "    events.on('output_added.OutputArea', handleAddOutput);\n",
       "\n",
       "    /**\n",
       "     * Register the mime type and append_mime function with output_area\n",
       "     */\n",
       "    OutputArea.prototype.register_mime_type(EXEC_MIME_TYPE, append_mime, {\n",
       "      /* Is output safe? */\n",
       "      safe: true,\n",
       "      /* Index of renderer in `output_area.display_order` */\n",
       "      index: 0\n",
       "    });\n",
       "  }\n",
       "\n",
       "  // register the mime type if in Jupyter Notebook environment and previously unregistered\n",
       "  if (root.Jupyter !== undefined) {\n",
       "    var events = require('base/js/events');\n",
       "    var OutputArea = require('notebook/js/outputarea').OutputArea;\n",
       "\n",
       "    if (OutputArea.prototype.mime_types().indexOf(EXEC_MIME_TYPE) == -1) {\n",
       "      register_renderer(events, OutputArea);\n",
       "    }\n",
       "  }\n",
       "\n",
       "  \n",
       "  if (typeof (root._bokeh_timeout) === \"undefined\" || force === true) {\n",
       "    root._bokeh_timeout = Date.now() + 5000;\n",
       "    root._bokeh_failed_load = false;\n",
       "  }\n",
       "\n",
       "  var NB_LOAD_WARNING = {'data': {'text/html':\n",
       "     \"<div style='background-color: #fdd'>\\n\"+\n",
       "     \"<p>\\n\"+\n",
       "     \"BokehJS does not appear to have successfully loaded. If loading BokehJS from CDN, this \\n\"+\n",
       "     \"may be due to a slow or bad network connection. Possible fixes:\\n\"+\n",
       "     \"</p>\\n\"+\n",
       "     \"<ul>\\n\"+\n",
       "     \"<li>re-rerun `output_notebook()` to attempt to load from CDN again, or</li>\\n\"+\n",
       "     \"<li>use INLINE resources instead, as so:</li>\\n\"+\n",
       "     \"</ul>\\n\"+\n",
       "     \"<code>\\n\"+\n",
       "     \"from bokeh.resources import INLINE\\n\"+\n",
       "     \"output_notebook(resources=INLINE)\\n\"+\n",
       "     \"</code>\\n\"+\n",
       "     \"</div>\"}};\n",
       "\n",
       "  function display_loaded() {\n",
       "    var el = document.getElementById(\"1003\");\n",
       "    if (el != null) {\n",
       "      el.textContent = \"BokehJS is loading...\";\n",
       "    }\n",
       "    if (root.Bokeh !== undefined) {\n",
       "      if (el != null) {\n",
       "        el.textContent = \"BokehJS \" + root.Bokeh.version + \" successfully loaded.\";\n",
       "      }\n",
       "    } else if (Date.now() < root._bokeh_timeout) {\n",
       "      setTimeout(display_loaded, 100)\n",
       "    }\n",
       "  }\n",
       "\n",
       "\n",
       "  function run_callbacks() {\n",
       "    try {\n",
       "      root._bokeh_onload_callbacks.forEach(function(callback) {\n",
       "        if (callback != null)\n",
       "          callback();\n",
       "      });\n",
       "    } finally {\n",
       "      delete root._bokeh_onload_callbacks\n",
       "    }\n",
       "    console.debug(\"Bokeh: all callbacks have finished\");\n",
       "  }\n",
       "\n",
       "  function load_libs(css_urls, js_urls, callback) {\n",
       "    if (css_urls == null) css_urls = [];\n",
       "    if (js_urls == null) js_urls = [];\n",
       "\n",
       "    root._bokeh_onload_callbacks.push(callback);\n",
       "    if (root._bokeh_is_loading > 0) {\n",
       "      console.debug(\"Bokeh: BokehJS is being loaded, scheduling callback at\", now());\n",
       "      return null;\n",
       "    }\n",
       "    if (js_urls == null || js_urls.length === 0) {\n",
       "      run_callbacks();\n",
       "      return null;\n",
       "    }\n",
       "    console.debug(\"Bokeh: BokehJS not loaded, scheduling load and callback at\", now());\n",
       "    root._bokeh_is_loading = css_urls.length + js_urls.length;\n",
       "\n",
       "    function on_load() {\n",
       "      root._bokeh_is_loading--;\n",
       "      if (root._bokeh_is_loading === 0) {\n",
       "        console.debug(\"Bokeh: all BokehJS libraries/stylesheets loaded\");\n",
       "        run_callbacks()\n",
       "      }\n",
       "    }\n",
       "\n",
       "    function on_error() {\n",
       "      console.error(\"failed to load \" + url);\n",
       "    }\n",
       "\n",
       "    for (var i = 0; i < css_urls.length; i++) {\n",
       "      var url = css_urls[i];\n",
       "      const element = document.createElement(\"link\");\n",
       "      element.onload = on_load;\n",
       "      element.onerror = on_error;\n",
       "      element.rel = \"stylesheet\";\n",
       "      element.type = \"text/css\";\n",
       "      element.href = url;\n",
       "      console.debug(\"Bokeh: injecting link tag for BokehJS stylesheet: \", url);\n",
       "      document.body.appendChild(element);\n",
       "    }\n",
       "\n",
       "    for (var i = 0; i < js_urls.length; i++) {\n",
       "      var url = js_urls[i];\n",
       "      var element = document.createElement('script');\n",
       "      element.onload = on_load;\n",
       "      element.onerror = on_error;\n",
       "      element.async = false;\n",
       "      element.src = url;\n",
       "      \n",
       "      console.debug(\"Bokeh: injecting script tag for BokehJS library: \", url);\n",
       "      document.head.appendChild(element);\n",
       "    }\n",
       "  };var element = document.getElementById(\"1003\");\n",
       "  if (element == null) {\n",
       "    console.error(\"Bokeh: ERROR: autoload.js configured with elementid '1003' but no matching script tag was found. \")\n",
       "    return false;\n",
       "  }\n",
       "\n",
       "  function inject_raw_css(css) {\n",
       "    const element = document.createElement(\"style\");\n",
       "    element.appendChild(document.createTextNode(css));\n",
       "    document.body.appendChild(element);\n",
       "  }\n",
       "\n",
       "  \n",
       "  var js_urls = [\"https://cdn.bokeh.org/bokeh/release/bokeh-2.0.0.min.js\", \"https://cdn.bokeh.org/bokeh/release/bokeh-widgets-2.0.0.min.js\", \"https://cdn.bokeh.org/bokeh/release/bokeh-tables-2.0.0.min.js\", \"https://cdn.bokeh.org/bokeh/release/bokeh-gl-2.0.0.min.js\"];\n",
       "  var css_urls = [];\n",
       "  \n",
       "\n",
       "  var inline_js = [\n",
       "    function(Bokeh) {\n",
       "      Bokeh.set_log_level(\"info\");\n",
       "    },\n",
       "    function(Bokeh) {\n",
       "    \n",
       "    \n",
       "    }\n",
       "  ];\n",
       "\n",
       "  function run_inline_js() {\n",
       "    \n",
       "    if (root.Bokeh !== undefined || force === true) {\n",
       "      \n",
       "    for (var i = 0; i < inline_js.length; i++) {\n",
       "      inline_js[i].call(root, root.Bokeh);\n",
       "    }\n",
       "    if (force === true) {\n",
       "        display_loaded();\n",
       "      }} else if (Date.now() < root._bokeh_timeout) {\n",
       "      setTimeout(run_inline_js, 100);\n",
       "    } else if (!root._bokeh_failed_load) {\n",
       "      console.log(\"Bokeh: BokehJS failed to load within specified timeout.\");\n",
       "      root._bokeh_failed_load = true;\n",
       "    } else if (force !== true) {\n",
       "      var cell = $(document.getElementById(\"1003\")).parents('.cell').data().cell;\n",
       "      cell.output_area.append_execute_result(NB_LOAD_WARNING)\n",
       "    }\n",
       "\n",
       "  }\n",
       "\n",
       "  if (root._bokeh_is_loading === 0) {\n",
       "    console.debug(\"Bokeh: BokehJS loaded, going straight to plotting\");\n",
       "    run_inline_js();\n",
       "  } else {\n",
       "    load_libs(css_urls, js_urls, function() {\n",
       "      console.debug(\"Bokeh: BokehJS plotting callback run at\", now());\n",
       "      run_inline_js();\n",
       "    });\n",
       "  }\n",
       "}(window));"
      ],
      "application/vnd.bokehjs_load.v0+json": "\n(function(root) {\n  function now() {\n    return new Date();\n  }\n\n  var force = true;\n\n  if (typeof root._bokeh_onload_callbacks === \"undefined\" || force === true) {\n    root._bokeh_onload_callbacks = [];\n    root._bokeh_is_loading = undefined;\n  }\n\n  \n\n  \n  if (typeof (root._bokeh_timeout) === \"undefined\" || force === true) {\n    root._bokeh_timeout = Date.now() + 5000;\n    root._bokeh_failed_load = false;\n  }\n\n  var NB_LOAD_WARNING = {'data': {'text/html':\n     \"<div style='background-color: #fdd'>\\n\"+\n     \"<p>\\n\"+\n     \"BokehJS does not appear to have successfully loaded. If loading BokehJS from CDN, this \\n\"+\n     \"may be due to a slow or bad network connection. Possible fixes:\\n\"+\n     \"</p>\\n\"+\n     \"<ul>\\n\"+\n     \"<li>re-rerun `output_notebook()` to attempt to load from CDN again, or</li>\\n\"+\n     \"<li>use INLINE resources instead, as so:</li>\\n\"+\n     \"</ul>\\n\"+\n     \"<code>\\n\"+\n     \"from bokeh.resources import INLINE\\n\"+\n     \"output_notebook(resources=INLINE)\\n\"+\n     \"</code>\\n\"+\n     \"</div>\"}};\n\n  function display_loaded() {\n    var el = document.getElementById(\"1003\");\n    if (el != null) {\n      el.textContent = \"BokehJS is loading...\";\n    }\n    if (root.Bokeh !== undefined) {\n      if (el != null) {\n        el.textContent = \"BokehJS \" + root.Bokeh.version + \" successfully loaded.\";\n      }\n    } else if (Date.now() < root._bokeh_timeout) {\n      setTimeout(display_loaded, 100)\n    }\n  }\n\n\n  function run_callbacks() {\n    try {\n      root._bokeh_onload_callbacks.forEach(function(callback) {\n        if (callback != null)\n          callback();\n      });\n    } finally {\n      delete root._bokeh_onload_callbacks\n    }\n    console.debug(\"Bokeh: all callbacks have finished\");\n  }\n\n  function load_libs(css_urls, js_urls, callback) {\n    if (css_urls == null) css_urls = [];\n    if (js_urls == null) js_urls = [];\n\n    root._bokeh_onload_callbacks.push(callback);\n    if (root._bokeh_is_loading > 0) {\n      console.debug(\"Bokeh: BokehJS is being loaded, scheduling callback at\", now());\n      return null;\n    }\n    if (js_urls == null || js_urls.length === 0) {\n      run_callbacks();\n      return null;\n    }\n    console.debug(\"Bokeh: BokehJS not loaded, scheduling load and callback at\", now());\n    root._bokeh_is_loading = css_urls.length + js_urls.length;\n\n    function on_load() {\n      root._bokeh_is_loading--;\n      if (root._bokeh_is_loading === 0) {\n        console.debug(\"Bokeh: all BokehJS libraries/stylesheets loaded\");\n        run_callbacks()\n      }\n    }\n\n    function on_error() {\n      console.error(\"failed to load \" + url);\n    }\n\n    for (var i = 0; i < css_urls.length; i++) {\n      var url = css_urls[i];\n      const element = document.createElement(\"link\");\n      element.onload = on_load;\n      element.onerror = on_error;\n      element.rel = \"stylesheet\";\n      element.type = \"text/css\";\n      element.href = url;\n      console.debug(\"Bokeh: injecting link tag for BokehJS stylesheet: \", url);\n      document.body.appendChild(element);\n    }\n\n    for (var i = 0; i < js_urls.length; i++) {\n      var url = js_urls[i];\n      var element = document.createElement('script');\n      element.onload = on_load;\n      element.onerror = on_error;\n      element.async = false;\n      element.src = url;\n      \n      console.debug(\"Bokeh: injecting script tag for BokehJS library: \", url);\n      document.head.appendChild(element);\n    }\n  };var element = document.getElementById(\"1003\");\n  if (element == null) {\n    console.error(\"Bokeh: ERROR: autoload.js configured with elementid '1003' but no matching script tag was found. \")\n    return false;\n  }\n\n  function inject_raw_css(css) {\n    const element = document.createElement(\"style\");\n    element.appendChild(document.createTextNode(css));\n    document.body.appendChild(element);\n  }\n\n  \n  var js_urls = [\"https://cdn.bokeh.org/bokeh/release/bokeh-2.0.0.min.js\", \"https://cdn.bokeh.org/bokeh/release/bokeh-widgets-2.0.0.min.js\", \"https://cdn.bokeh.org/bokeh/release/bokeh-tables-2.0.0.min.js\", \"https://cdn.bokeh.org/bokeh/release/bokeh-gl-2.0.0.min.js\"];\n  var css_urls = [];\n  \n\n  var inline_js = [\n    function(Bokeh) {\n      Bokeh.set_log_level(\"info\");\n    },\n    function(Bokeh) {\n    \n    \n    }\n  ];\n\n  function run_inline_js() {\n    \n    if (root.Bokeh !== undefined || force === true) {\n      \n    for (var i = 0; i < inline_js.length; i++) {\n      inline_js[i].call(root, root.Bokeh);\n    }\n    if (force === true) {\n        display_loaded();\n      }} else if (Date.now() < root._bokeh_timeout) {\n      setTimeout(run_inline_js, 100);\n    } else if (!root._bokeh_failed_load) {\n      console.log(\"Bokeh: BokehJS failed to load within specified timeout.\");\n      root._bokeh_failed_load = true;\n    } else if (force !== true) {\n      var cell = $(document.getElementById(\"1003\")).parents('.cell').data().cell;\n      cell.output_area.append_execute_result(NB_LOAD_WARNING)\n    }\n\n  }\n\n  if (root._bokeh_is_loading === 0) {\n    console.debug(\"Bokeh: BokehJS loaded, going straight to plotting\");\n    run_inline_js();\n  } else {\n    load_libs(css_urls, js_urls, function() {\n      console.debug(\"Bokeh: BokehJS plotting callback run at\", now());\n      run_inline_js();\n    });\n  }\n}(window));"
     },
     "metadata": {},
     "output_type": "display_data"
    }
   ],
   "source": [
    "import requests\n",
    "import pandas as pd\n",
    "import numpy as np\n",
    "import math\n",
    "import json\n",
    "from bokeh.plotting import figure, output_notebook, show\n",
    "from bokeh.models import ColumnDataSource, NumeralTickFormatter\n",
    "from bokeh.models.widgets import Tabs, Panel\n",
    "from bokeh.transform import factor_cmap\n",
    "from bokeh.palettes import Spectral6\n",
    "from IPython.display import Markdown as md\n",
    "import plotly.graph_objects as go\n",
    "import os\n",
    "\n",
    "# Initialize Bokeh for charts\n",
    "output_notebook()\n",
    "\n",
    "# Load State Covid json file\n",
    "with open('states_current.json') as data:\n",
    "    sars = pd.read_json(data)\n",
    "\n",
    "# COLUMN REFERENCE\n",
    "# stats: state, positive, negative, pending, hospitalized, death, lastUpdateEt, totalTestResults, grade, score\n",
    "\n",
    "# Drop columns not currently being used\n",
    "drop_columns = [\"positiveScore\",\n",
    "                \"negativeScore\",\n",
    "                \"negativeRegularScore\",\n",
    "                \"commercialScore\",\n",
    "                \"total\",\n",
    "                \"checkTimeEt\",\n",
    "                \"fips\",\n",
    "                \"dateModified\",\n",
    "                \"dateChecked\",\n",
    "                \"notes\",\n",
    "                \"hash\",\n",
    "               ]\n",
    "sars.drop(columns=drop_columns, inplace=True)\n",
    "\n",
    "# Drop states\n",
    "drop_states = [\"PR\",\n",
    "               \"AS\",\n",
    "               \"GU\",\n",
    "               \"MP\",\n",
    "               \"VI\",\n",
    "               \"NY\",\n",
    "              ]\n",
    "for state in drop_states:\n",
    "    sars.drop(sars[sars.state == state].index, inplace=True)\n",
    "\n",
    "# Fill any missing data with zeroes\n",
    "sars['pending'].fillna(0, inplace=True)\n",
    "sars['hospitalized'].fillna(0, inplace=True)\n",
    "sars['death'].fillna(0, inplace=True)\n",
    "sars['negative'].fillna(0, inplace=True)\n",
    "sars['score'].fillna(0, inplace=True)\n",
    "\n",
    "\n",
    "# Load State Population file\n",
    "with open('state_populations.json') as data:\n",
    "    state_pop = pd.read_json(data)\n",
    "\n",
    "# Merge state population data with covid data into new covid dataframe\n",
    "covid = pd.merge(left=sars, right=state_pop[['state_code','state_name','population']], how='left', left_on='state', right_on='state_code')\n",
    "\n",
    "# Create new columns in covid dataframe\n",
    "covid['infectionRate'] = covid['positive'].div(covid['population'], fill_value=0)\n",
    "covid['positiveRate'] = covid['positive'].div(covid['totalTestResults'], fill_value=0)\n",
    "covid['negativeRate'] = covid['negative'].div(covid['totalTestResults'], fill_value=0)\n",
    "covid['hospitalRate'] = covid['hospitalized'].div(covid['positive'], fill_value=0)\n",
    "covid['deathRate'] = covid['death'].div(covid['positive'], fill_value=0)\n",
    "covid['testRate'] = covid['totalTestResults'].div(covid['population'], fill_value=0)\n",
    "covid['positivePC'] = covid['infectionRate'].mul(1000000)\n",
    "covid['hospitalPC'] = covid['positivePC'].mul(covid['hospitalRate'])\n",
    "covid['deathPC'] = covid['positivePC'].mul(covid['deathRate'])\n",
    "covid['testPC'] = covid['testRate'].mul(1000000)\n",
    "\n",
    "# Reorder dataframe\n",
    "covid = covid[['state_name',\n",
    "               'state',\n",
    "               'population',\n",
    "               'positive',\n",
    "               'negative',\n",
    "               'pending',\n",
    "               'totalTestResults',\n",
    "               'infectionRate',\n",
    "               'positiveRate',\n",
    "               'negativeRate',\n",
    "               'hospitalized',\n",
    "               'hospitalRate',\n",
    "               'death',\n",
    "               'deathRate',\n",
    "               'testRate',\n",
    "               'positivePC',\n",
    "               'hospitalPC',\n",
    "               'deathPC',\n",
    "               'testPC',\n",
    "             ]]\n",
    "\n",
    "# Create index list for for bokeh graphs\n",
    "index = covid['state_name'].to_list()\n",
    "\n",
    "# Set new index for covid dataframe\n",
    "covid.set_index('state_name', inplace=True)\n",
    "\n",
    "# Sum US Statistics from covid dataframe \n",
    "total_population = int(covid['population'].sum())\n",
    "total_positives = int(covid['positive'].sum())\n",
    "total_negatives = int(covid['negative'].sum())\n",
    "total_pendings = int(covid['pending'].sum())\n",
    "total_hospitalized = int(covid['hospitalized'].sum())\n",
    "total_test_results = int(covid['totalTestResults'].sum())\n",
    "total_deaths = int(covid['death'].sum())\n",
    "\n",
    "# Calculate rates for US Statistics\n",
    "infection_rate = total_positives / total_population\n",
    "positive_rate = total_positives / total_test_results\n",
    "negative_rate = total_negatives / total_test_results\n",
    "pending_rate = total_pendings / total_test_results\n",
    "hospitalization_rate = total_hospitalized / total_positives\n",
    "death_rate = total_deaths / total_positives\n",
    "test_rate = total_test_results / total_population\n",
    "positive_pc = infection_rate * 1000000\n",
    "hospital_pc = positive_pc * hospitalization_rate\n",
    "death_pc = positive_pc * death_rate\n",
    "test_pc = test_rate * 1000000\n",
    "\n",
    "# Create tracking data for various metrics to see how each state is performing\n",
    "covid['expectedPositives'] = covid['population'].mul(infection_rate)\n",
    "covid['positiveDelta'] = covid['positive'].sub(covid['expectedPositives'])\n",
    "covid['positiveDeltaRate'] = covid['positiveDelta'].div(covid['expectedPositives'], fill_value=0)\n",
    "\n",
    "covid['expectedNegatives'] = covid['totalTestResults'].mul(negative_rate)\n",
    "covid['negativeDelta'] = covid['negative'].sub(covid['expectedNegatives'])\n",
    "covid['negativeDeltaRate'] = covid['negativeDelta'].div(covid['expectedNegatives'], fill_value=0)\n",
    "\n",
    "covid['expectedHospitalizations'] = covid['positive'].mul(hospitalization_rate)\n",
    "covid['hospitalDelta'] = covid['hospitalized'].sub(covid['expectedHospitalizations'])\n",
    "covid['hospitalDeltaRate'] = covid['hospitalDelta'].div(covid['expectedHospitalizations'], fill_value=0)\n",
    "\n",
    "covid['expectedDeaths'] = covid['positive'].mul(death_rate)\n",
    "covid['deathDelta'] = covid['death'].sub(covid['expectedDeaths'])\n",
    "covid['deathDeltaRate'] = covid['deathDelta'].div(covid['expectedDeaths'], fill_value=0)\n",
    "\n",
    "covid['expectedTests'] = covid['population'].mul(test_rate)\n",
    "covid['testDelta'] = covid['totalTestResults'].sub(covid['expectedTests'])\n",
    "covid['testDeltaRate'] = covid['testDelta'].div(covid['expectedTests'], fill_value=0)\n",
    "\n",
    "covid['expectedPending'] = covid['totalTestResults'].mul(pending_rate)\n",
    "covid['pendingDelta'] = covid['pending'].sub(covid['expectedPending'])\n",
    "covid['pendingDeltaRate'] = covid['pendingDelta'].div(covid['expectedPending'], fill_value=0)\n",
    "\n",
    "covid['populationShare'] = covid['population'].div(total_population, fill_value=0)\n",
    "covid['positiveShare'] = covid['positive'].div(total_positives, fill_value=0)\n",
    "covid['negativeShare'] = covid['negative'].div(total_negatives, fill_value=0)\n",
    "covid['pendingShare'] = covid['pending'].div(total_pendings, fill_value=0)\n",
    "covid['hospitalShare'] = covid['hospitalized'].div(total_hospitalized, fill_value=0)\n",
    "covid['deathShare'] = covid['death'].div(total_deaths, fill_value=0)\n",
    "covid['testShare'] = covid['totalTestResults'].div(total_test_results, fill_value=0)\n",
    "\n",
    "covid['positiveShareDelta'] = covid['positiveShare'].sub(covid['populationShare'])\n",
    "covid['hospitalShareDelta'] = covid['hospitalShare'].sub(covid['populationShare'])\n",
    "covid['deathShareDelta'] = covid['deathShare'].sub(covid['populationShare'])\n",
    "covid['testShareDelta'] = covid['testShare'].sub(covid['populationShare'])"
   ]
  },
  {
   "cell_type": "code",
   "execution_count": 7,
   "metadata": {
    "execution": {
     "iopub.execute_input": "2020-03-30T00:15:52.218Z",
     "iopub.status.busy": "2020-03-30T00:15:52.214Z",
     "iopub.status.idle": "2020-03-30T00:15:52.224Z",
     "shell.execute_reply": "2020-03-30T00:15:52.228Z"
    },
    "nteract": {
     "transient": {
      "deleting": false
     }
    }
   },
   "outputs": [],
   "source": [
    "# Define which states to track in the markdown sections below.\n",
    "# Standard Capitalization for each state name in the comma-separated list\n",
    "states_to_watch = [\"Tennessee\", \"California\", \"Indiana\"]"
   ]
  },
  {
   "cell_type": "markdown",
   "metadata": {},
   "source": [
    "## SARS-CoV-2 / COVID-19 Testing (WITHOUT NY DATA)\n",
    "\n",
    "As states are not testing at the same rates, the usefulness of this testing data is not necessarily relevant. Is a state's share of the nation's completed tests a result of local/state government's logisitical prowess or is it because a state has a higher prevalence of the virus? Examining mortality rate is probably a better metric by which to compare states. "
   ]
  },
  {
   "cell_type": "code",
   "execution_count": 8,
   "metadata": {
    "execution": {
     "iopub.execute_input": "2020-03-30T00:16:57.051Z",
     "iopub.status.busy": "2020-03-30T00:16:57.048Z",
     "iopub.status.idle": "2020-03-30T00:16:57.064Z",
     "shell.execute_reply": "2020-03-30T00:16:57.066Z"
    },
    "jupyter": {
     "source_hidden": true
    },
    "outputExpanded": false
   },
   "outputs": [
    {
     "data": {
      "text/markdown": [
       " | Metric | `Tennessee` | `California` | `Indiana` | `United States` |\n",
       "| --- | ---: | ---: | ---: | ---: |\n",
       "| Positive Population % | `0.0813%` | `0.0560%` | `0.1221%` | `0.1225%` |\n",
       "| Tested Per 1M | `11,046` | `4,999` | `6,602` | `7,945` |\n",
       "| Positive Per 1M | `813` | `559` | `1,220` | `1,224` |\n",
       "| Positive Test Rate | `7.3627%` | `11.1926%` | `18.4917%` | `15.4151%` |\n",
       "| Negative Test Rate | `92.6373%` | `88.8074%` | `81.5083%` | `84.5849%` |\n",
       "| Expected Positives | `8,448` | `48,918` | `8,262` | `-----` |\n",
       "| Actual Positives | `5,610` | `22,348` | `8,236` | `382,015` |\n",
       "| Positive Delta | `-2,838` | `-26,570` | `-26` | `-----` |\n",
       "| Delta % | `-33.5994%` | `-54.3161%` | `-0.3179%` | `-----` |\n",
       "| Expected Tests | `54,808` | `317,342` | `53,598` | `-----` |\n",
       "| Actual Tests | `76,195` | `199,667` | `44,539` | `2,478,183` |\n",
       "| Test Delta | `21,386` | `-117,675` | `-9,059` | `-----` |\n",
       "| Delta % | `39.0217%` | `-37.0815%` | `-16.9024%` | `-----` |\n",
       "| Expected Negatives | `64,449` | `168,888` | `37,673` | `-----` |\n",
       "| Actual Negatives | `70,585` | `177,319` | `36,303` | `2,096,168` |\n",
       "| Negative Delta | `6,135` | `8,430` | `-1,370` | `-----` |\n",
       "| Delta % | `9.5199%` | `4.9920%` | `-3.6372%` | `-----` |\n",
       "| Expected Pending | `467` | `1,225` | `273` | `-----` |\n",
       "| Actual Pending | `0` | `13,200` | `0` | `15,209` |\n",
       "| Pending Delta | `-467` | `11,974` | `-273` | `-----` |\n",
       "| Delta % | `-100.0000%` | `977.2099%` | `-100.0000%` | `-----` |\n"
      ],
      "text/plain": [
       "<IPython.core.display.Markdown object>"
      ]
     },
     "execution_count": 8,
     "metadata": {},
     "output_type": "execute_result"
    }
   ],
   "source": [
    "stat_tuples_array = [('Positive Population %', \"infectionRate\", infection_rate, 0),\n",
    "                     ('Tested Per 1M', \"testPC\", test_pc, 1),\n",
    "                     ('Positive Per 1M', \"positivePC\", positive_pc, 1),\n",
    "                     ('Positive Test Rate', \"positiveRate\", positive_rate, 0),\n",
    "                     ('Negative Test Rate', \"negativeRate\", negative_rate, 0),\n",
    "                     ('Expected Positives', \"expectedPositives\", '-----', 1),\n",
    "                     ('Actual Positives', \"positive\", total_positives, 1),\n",
    "                     (\"Positive Delta\", \"positiveDelta\", '-----', 1),\n",
    "                     ('Delta %', \"positiveDeltaRate\", '-----', 0),\n",
    "                     ('Expected Tests', \"expectedTests\", '-----', 1),\n",
    "                     ('Actual Tests', \"totalTestResults\", total_test_results, 1),\n",
    "                     ('Test Delta', \"testDelta\", '-----', 1),\n",
    "                     ('Delta %', \"testDeltaRate\", '-----', 0),\n",
    "                     ('Expected Negatives', \"expectedNegatives\", '-----', 1),\n",
    "                     ('Actual Negatives', \"negative\", total_negatives, 1),\n",
    "                     ('Negative Delta', \"negativeDelta\", '-----', 1),\n",
    "                     ('Delta %', \"negativeDeltaRate\", '-----', 0),\n",
    "                     ('Expected Pending', \"expectedPending\", '-----', 1),\n",
    "                     ('Actual Pending', \"pending\", total_pendings, 1),\n",
    "                     ('Pending Delta', \"pendingDelta\", '-----', 1),\n",
    "                     ('Delta %', \"pendingDeltaRate\", '-----', 0),\n",
    "                    ]\n",
    "table = \" | Metric | \"\n",
    "for state in states_to_watch:\n",
    "    table += \"`{}` | \".format(state)\n",
    "table += \"`United States` |\\n\"\n",
    "table += \"| --- | \"\n",
    "for state in states_to_watch:\n",
    "    table += \"---: | \"\n",
    "table += \"---: |\\n\"\n",
    "for field in stat_tuples_array:\n",
    "    table += \"| {} | \".format(field[0])\n",
    "    if field[3] == 0:\n",
    "        for state in states_to_watch:\n",
    "            table += \"`{:.4%}` | \".format(covid.loc[state, field[1]])\n",
    "        if isinstance(field[2], float):\n",
    "            table += \"`{:.4%}` |\\n\".format(field[2])\n",
    "        else:\n",
    "            table += \"`{}` |\\n\".format(field[2])\n",
    "    elif field[3] == 1:\n",
    "        for state in states_to_watch:\n",
    "            table += \"`{:,}` | \".format(int(covid.loc[state, field[1]]))\n",
    "        if isinstance(field[2], float) or isinstance(field[2], int):\n",
    "            table += \"`{:,}` |\\n\".format(int(field[2]))\n",
    "        else:\n",
    "            table += \"`{}` |\\n\".format(field[2])\n",
    "\n",
    "md(table)"
   ]
  },
  {
   "cell_type": "markdown",
   "metadata": {},
   "source": [
    "## Hospitalizations (WITHOUT NY DATA)\n",
    "\n",
    "This data metric is skewed due to the states that are not reporting hospitalization data. Without the NY data, states that **ARE** reporting hospitalization data show skewed hospitalization shares."
   ]
  },
  {
   "cell_type": "code",
   "execution_count": 9,
   "metadata": {
    "execution": {
     "iopub.execute_input": "2020-03-29T23:46:36.128Z",
     "iopub.status.busy": "2020-03-29T23:46:36.126Z",
     "iopub.status.idle": "2020-03-29T23:46:36.138Z",
     "shell.execute_reply": "2020-03-29T23:46:36.193Z"
    },
    "jupyter": {
     "source_hidden": true
    }
   },
   "outputs": [
    {
     "data": {
      "text/markdown": [
       " | Metric | `Tennessee` | `California` | `Indiana` | `United States` |\n",
       "| --- | ---: | ---: | ---: | ---: |\n",
       "| Hospitalization % | `10.3209%` | `0.0000%` | `0.0000%` | `5.3830%` |\n",
       "| Positive Per 1M | `813` | `559` | `1,220` | `1,224` |\n",
       "| Hospital Per 1M | `83` | `0` | `0` | `65` |\n",
       "| Actual Positives | `5,610` | `22,348` | `8,236` | `382,015` |\n",
       "| Expected Hospitalizations | `301` | `1,203` | `443` | `-----` |\n",
       "| Actual Hospitalizations | `579` | `0` | `0` | `20,564` |\n",
       "| Hospitalized Delta | `277` | `-1,203` | `-443` | `-----` |\n",
       "| Delta % | `91.7293%` | `-100.0000%` | `-100.0000%` | `-----` |\n",
       "| Hospital Share | `2.8156%` | `0.0000%` | `0.0000%` | `-----` |\n"
      ],
      "text/plain": [
       "<IPython.core.display.Markdown object>"
      ]
     },
     "execution_count": 9,
     "metadata": {},
     "output_type": "execute_result"
    }
   ],
   "source": [
    "stat_tuples_array = [('Hospitalization %', \"hospitalRate\", hospitalization_rate, 0),\n",
    "                     ('Positive Per 1M', \"positivePC\", positive_pc, 1),\n",
    "                     ('Hospital Per 1M', \"hospitalPC\", hospital_pc, 1),\n",
    "                     ('Actual Positives', \"positive\", total_positives, 1),\n",
    "                     ('Expected Hospitalizations', \"expectedHospitalizations\", '-----', 1),\n",
    "                     ('Actual Hospitalizations', \"hospitalized\", total_hospitalized, 1),\n",
    "                     ('Hospitalized Delta', \"hospitalDelta\", '-----', 1),\n",
    "                     ('Delta %', \"hospitalDeltaRate\", '-----', 0),\n",
    "                     ('Hospital Share', \"hospitalShare\", '-----', 0),\n",
    "                    ]\n",
    "table = \" | Metric | \"\n",
    "for state in states_to_watch:\n",
    "    table += \"`{}` | \".format(state)\n",
    "table += \"`United States` |\\n\"\n",
    "table += \"| --- | \"\n",
    "for state in states_to_watch:\n",
    "    table += \"---: | \"\n",
    "table += \"---: |\\n\"\n",
    "for field in stat_tuples_array:\n",
    "    table += \"| {} | \".format(field[0])\n",
    "    if field[3] == 0:\n",
    "        for state in states_to_watch:\n",
    "            table += \"`{:.4%}` | \".format(covid.loc[state, field[1]])\n",
    "        if isinstance(field[2], float):\n",
    "            table += \"`{:.4%}` |\\n\".format(field[2])\n",
    "        else:\n",
    "            table += \"`{}` |\\n\".format(field[2])\n",
    "    elif field[3] == 1:\n",
    "        for state in states_to_watch:\n",
    "            table += \"`{:,}` | \".format(int(covid.loc[state, field[1]]))\n",
    "        if isinstance(field[2], float) or isinstance(field[2], int):\n",
    "            table += \"`{:,}` |\\n\".format(int(field[2]))\n",
    "        else:\n",
    "            table += \"`{}` |\\n\".format(field[2])\n",
    "\n",
    "md(table)"
   ]
  },
  {
   "cell_type": "markdown",
   "metadata": {},
   "source": [
    "## Mortality (WITHOUT NY DATA)\n",
    "\n",
    "Outside of NY, the death rate for SARS-CoV-2 is around 3.5% nationally based on confirmed cumulative positive tests. The actual mortality rate for the virus won't be known until we can test larger swaths of the population to determine how many people caught the disease but were asymptomatic and never knew they were infected."
   ]
  },
  {
   "cell_type": "code",
   "execution_count": 10,
   "metadata": {
    "execution": {
     "iopub.execute_input": "2020-03-29T23:46:36.148Z",
     "iopub.status.busy": "2020-03-29T23:46:36.146Z",
     "iopub.status.idle": "2020-03-29T23:46:36.157Z",
     "shell.execute_reply": "2020-03-29T23:46:36.195Z"
    },
    "jupyter": {
     "source_hidden": true
    }
   },
   "outputs": [
    {
     "data": {
      "text/markdown": [
       " | Metric | `Tennessee` | `California` | `Indiana` | `United States` |\n",
       "| --- | ---: | ---: | ---: | ---: |\n",
       "| Death Rate | `1.9430%` | `3.0741%` | `4.2496%` | `3.4946%` |\n",
       "| Positive Per 1M | `813` | `559` | `1,220` | `1,224` |\n",
       "| Death Per 1M | `15` | `17` | `51` | `42` |\n",
       "| Actual Positives | `5,610` | `22,348` | `8,236` | `382,015` |\n",
       "| Actual Hospitalizations | `579` | `0` | `0` | `20,564` |\n",
       "| Hospitalization % | `10.3209%` | `0.0000%` | `0.0000%` | `5.3830%` |\n",
       "| Expected Deaths | `196` | `780` | `287` | `-----` |\n",
       "| Actual Deaths | `109` | `687` | `350` | `13,350` |\n",
       "| Deaths Delta | `-87` | `-93` | `62` | `-----` |\n",
       "| Delta % | `-44.4015%` | `-12.0335%` | `21.6048%` | `-----` |\n",
       "| Death Share | `0.8165%` | `5.1461%` | `2.6217%` | `-----` |\n"
      ],
      "text/plain": [
       "<IPython.core.display.Markdown object>"
      ]
     },
     "execution_count": 10,
     "metadata": {},
     "output_type": "execute_result"
    }
   ],
   "source": [
    "stat_tuples_array = [('Death Rate', \"deathRate\", death_rate, 0),\n",
    "                     ('Positive Per 1M', \"positivePC\", positive_pc, 1),\n",
    "                     ('Death Per 1M', \"deathPC\", death_pc, 1),\n",
    "                     ('Actual Positives', \"positive\", total_positives, 1),\n",
    "                     ('Actual Hospitalizations', \"hospitalized\", total_hospitalized, 1),\n",
    "                     ('Hospitalization %', \"hospitalRate\", hospitalization_rate, 0),\n",
    "                     ('Expected Deaths', \"expectedDeaths\", '-----', 1),\n",
    "                     ('Actual Deaths', \"death\", total_deaths, 1),\n",
    "                     ('Deaths Delta', \"deathDelta\", '-----', 1),\n",
    "                     ('Delta %', \"deathDeltaRate\", '-----', 0),\n",
    "                     ('Death Share', \"deathShare\", '-----', 0),\n",
    "                    ]\n",
    "table = \" | Metric | \"\n",
    "for state in states_to_watch:\n",
    "    table += \"`{}` | \".format(state)\n",
    "table += \"`United States` |\\n\"\n",
    "table += \"| --- | \"\n",
    "for state in states_to_watch:\n",
    "    table += \"---: | \"\n",
    "table += \"---: |\\n\"\n",
    "for field in stat_tuples_array:\n",
    "    table += \"| {} | \".format(field[0])\n",
    "    if field[3] == 0:\n",
    "        for state in states_to_watch:\n",
    "            table += \"`{:.4%}` | \".format(covid.loc[state, field[1]])\n",
    "        if isinstance(field[2], float):\n",
    "            table += \"`{:.4%}` |\\n\".format(field[2])\n",
    "        else:\n",
    "            table += \"`{}` |\\n\".format(field[2])\n",
    "    elif field[3] == 1:\n",
    "        for state in states_to_watch:\n",
    "            table += \"`{:,}` | \".format(int(covid.loc[state, field[1]]))\n",
    "        if isinstance(field[2], float) or isinstance(field[2], int):\n",
    "            table += \"`{:,}` |\\n\".format(int(field[2]))\n",
    "        else:\n",
    "            table += \"`{}` |\\n\".format(field[2])\n",
    "\n",
    "md(table)"
   ]
  },
  {
   "cell_type": "markdown",
   "metadata": {},
   "source": [
    "## Percent Share of Total US (WITHOUT NY DATA)\n",
    "\n",
    "As mentioned above, since states are testing a vastly different rates (see test share delta chart below to see how a state is performing based on its population share), the positive and negative shares are not that relevant. Same goes with the hospital share, as some states, sadly, are not even reporting hospitalizations. Mortality rates are ultimately the greatest apples to apples metric to compare the severities of the outbreak across various states. This assumes all states are reporting deaths attributable to covid using the same criteria. While I will not discuss the merit of attributing covid to all causes of death in which patients have tested positive for the virus, this seems to be the current convention in the medical community, which hopefully makes the mortality metric a more viable comparison metric at the state level."
   ]
  },
  {
   "cell_type": "code",
   "execution_count": 11,
   "metadata": {
    "execution": {
     "iopub.execute_input": "2020-03-30T00:16:53.654Z",
     "iopub.status.busy": "2020-03-30T00:16:53.650Z",
     "iopub.status.idle": "2020-03-30T00:16:53.662Z",
     "shell.execute_reply": "2020-03-30T00:16:53.665Z"
    },
    "jupyter": {
     "source_hidden": true
    }
   },
   "outputs": [
    {
     "data": {
      "text/markdown": [
       " | Metric | `Tennessee` | `California` | `Indiana` | `United States` |\n",
       "| --- | ---: | ---: | ---: | ---: |\n",
       "| Population Share | `2.2116%` | `12.8055%` | `2.1628%` | `-----` |\n",
       "| Positive Share | `1.4685%` | `5.8500%` | `2.1559%` | `-----` |\n",
       "| Hospital Share | `2.8156%` | `0.0000%` | `0.0000%` | `-----` |\n",
       "| Death Share | `0.8165%` | `5.1461%` | `2.6217%` | `-----` |\n",
       "| Test Share | `3.0746%` | `8.0570%` | `1.7972%` | `-----` |\n",
       "| Negative Share | `3.3673%` | `8.4592%` | `1.7319%` | `-----` |\n",
       "| Pending Share | `0.0000%` | `86.7907%` | `0.0000%` | `-----` |\n"
      ],
      "text/plain": [
       "<IPython.core.display.Markdown object>"
      ]
     },
     "execution_count": 11,
     "metadata": {},
     "output_type": "execute_result"
    }
   ],
   "source": [
    "stat_tuples_array = [('Population Share', \"populationShare\", '-----', 0),\n",
    "                     ('Positive Share', \"positiveShare\", '-----', 0),\n",
    "                     ('Hospital Share', \"hospitalShare\", '-----', 0),\n",
    "                     ('Death Share', \"deathShare\", '-----', 0),\n",
    "                     ('Test Share', \"testShare\", '-----', 0),\n",
    "                     ('Negative Share', \"negativeShare\", '-----', 0),\n",
    "                     ('Pending Share', \"pendingShare\", '-----', 0),\n",
    "                    ]\n",
    "table = \" | Metric | \"\n",
    "for state in states_to_watch:\n",
    "    table += \"`{}` | \".format(state)\n",
    "table += \"`United States` |\\n\"\n",
    "table += \"| --- | \"\n",
    "for state in states_to_watch:\n",
    "    table += \"---: | \"\n",
    "table += \"---: |\\n\"\n",
    "for field in stat_tuples_array:\n",
    "    table += \"| {} | \".format(field[0])\n",
    "    if field[3] == 0:\n",
    "        for state in states_to_watch:\n",
    "            table += \"`{:.4%}` | \".format(covid.loc[state, field[1]])\n",
    "        if isinstance(field[2], float):\n",
    "            table += \"`{:.4%}` |\\n\".format(field[2])\n",
    "        else:\n",
    "            table += \"`{}` |\\n\".format(field[2])\n",
    "    elif field[3] == 1:\n",
    "        for state in states_to_watch:\n",
    "            table += \"`{:,}` | \".format(int(covid.loc[state, field[1]]))\n",
    "        if isinstance(field[2], float) or isinstance(field[2], int):\n",
    "            table += \"`{:,}` |\\n\".format(int(field[2]))\n",
    "        else:\n",
    "            table += \"`{}` |\\n\".format(field[2])\n",
    "\n",
    "md(table)"
   ]
  },
  {
   "cell_type": "markdown",
   "metadata": {},
   "source": [
    "## Charts (WITHOUT NY DATA)"
   ]
  },
  {
   "cell_type": "code",
   "execution_count": 12,
   "metadata": {
    "execution": {
     "iopub.execute_input": "2020-03-29T23:46:36.176Z",
     "iopub.status.busy": "2020-03-29T23:46:36.174Z",
     "iopub.status.idle": "2020-03-29T23:46:36.487Z",
     "shell.execute_reply": "2020-03-29T23:46:36.509Z"
    },
    "jupyter": {
     "source_hidden": true
    }
   },
   "outputs": [
    {
     "data": {
      "text/html": [
       "\n",
       "\n",
       "\n",
       "\n",
       "\n",
       "\n",
       "  <div class=\"bk-root\" id=\"d9cca7e5-21f5-4ace-9cf3-d9fe5ec9651d\" data-root-id=\"1333\"></div>\n"
      ]
     },
     "metadata": {},
     "output_type": "display_data"
    },
    {
     "data": {
      "application/javascript": [
       "(function(root) {\n",
       "  function embed_document(root) {\n",
       "    \n",
       "  var docs_json = {\"7e6710c9-fe7a-4130-888a-68fded7bfbc0\":{\"roots\":{\"references\":[{\"attributes\":{\"tabs\":[{\"id\":\"1325\"},{\"id\":\"1326\"},{\"id\":\"1327\"},{\"id\":\"1328\"},{\"id\":\"1329\"},{\"id\":\"1330\"},{\"id\":\"1331\"},{\"id\":\"1332\"}]},\"id\":\"1333\",\"type\":\"Tabs\"},{\"attributes\":{\"fill_alpha\":{\"value\":0.1},\"fill_color\":{\"value\":\"#1f77b4\"},\"height\":{\"value\":0.5},\"line_alpha\":{\"value\":0.1},\"line_color\":{\"value\":\"#1f77b4\"},\"right\":{\"field\":\"deathShare\"},\"y\":{\"field\":\"state_name\"}},\"id\":\"1280\",\"type\":\"HBar\"},{\"attributes\":{\"end\":75862.88251855416,\"start\":0},\"id\":\"1008\",\"type\":\"DataRange1d\"},{\"attributes\":{},\"id\":\"1353\",\"type\":\"CategoricalTickFormatter\"},{\"attributes\":{\"source\":{\"id\":\"1004\"}},\"id\":\"1322\",\"type\":\"CDSView\"},{\"attributes\":{\"data_source\":{\"id\":\"1004\"},\"glyph\":{\"id\":\"1319\"},\"hover_glyph\":null,\"muted_glyph\":null,\"nonselection_glyph\":{\"id\":\"1320\"},\"selection_glyph\":null,\"view\":{\"id\":\"1322\"}},\"id\":\"1321\",\"type\":\"GlyphRenderer\"},{\"attributes\":{\"fill_alpha\":{\"value\":0.1},\"fill_color\":{\"value\":\"#1f77b4\"},\"height\":{\"value\":0.5},\"line_alpha\":{\"value\":0.1},\"line_color\":{\"value\":\"#1f77b4\"},\"right\":{\"field\":\"infectionRate\"},\"y\":{\"field\":\"state_name\"}},\"id\":\"1160\",\"type\":\"HBar\"},{\"attributes\":{\"fill_color\":{\"value\":\"#1f77b4\"},\"height\":{\"value\":0.5},\"line_color\":{\"value\":\"#1f77b4\"},\"right\":{\"field\":\"deathShare\"},\"y\":{\"field\":\"state_name\"}},\"id\":\"1279\",\"type\":\"HBar\"},{\"attributes\":{\"axis_label\":\"Confirmed Recoveries as % of Total US Recoveries\",\"formatter\":{\"id\":\"1323\"},\"ticker\":{\"id\":\"1297\"}},\"id\":\"1296\",\"type\":\"LinearAxis\"},{\"attributes\":{\"axis\":{\"id\":\"1260\"},\"dimension\":1,\"grid_line_color\":null,\"ticker\":null},\"id\":\"1262\",\"type\":\"Grid\"},{\"attributes\":{\"data_source\":{\"id\":\"1004\"},\"glyph\":{\"id\":\"1119\"},\"hover_glyph\":null,\"muted_glyph\":null,\"nonselection_glyph\":{\"id\":\"1120\"},\"selection_glyph\":null,\"view\":{\"id\":\"1122\"}},\"id\":\"1121\",\"type\":\"GlyphRenderer\"},{\"attributes\":{\"formatter\":{\"id\":\"1353\"},\"ticker\":{\"id\":\"1261\"}},\"id\":\"1260\",\"type\":\"CategoricalAxis\"},{\"attributes\":{\"callback\":null,\"tooltips\":[[\"State\",\"@state_name\"],[\"Hosp. Share\",\"@hospitalShare{0.0000%}\"]]},\"id\":\"1309\",\"type\":\"HoverTool\"},{\"attributes\":{},\"id\":\"1012\",\"type\":\"LinearScale\"},{\"attributes\":{\"source\":{\"id\":\"1004\"}},\"id\":\"1162\",\"type\":\"CDSView\"},{\"attributes\":{},\"id\":\"1261\",\"type\":\"CategoricalTicker\"},{\"attributes\":{\"active_drag\":\"auto\",\"active_inspect\":\"auto\",\"active_multi\":null,\"active_scroll\":\"auto\",\"active_tap\":\"auto\",\"tools\":[{\"id\":\"1303\"},{\"id\":\"1304\"},{\"id\":\"1305\"},{\"id\":\"1306\"},{\"id\":\"1307\"},{\"id\":\"1308\"},{\"id\":\"1309\"}]},\"id\":\"1310\",\"type\":\"Toolbar\"},{\"attributes\":{\"child\":{\"id\":\"1245\"},\"title\":\"Death Share\"},\"id\":\"1328\",\"type\":\"Panel\"},{\"attributes\":{},\"id\":\"1266\",\"type\":\"SaveTool\"},{\"attributes\":{\"child\":{\"id\":\"1205\"},\"title\":\"Positive Share\"},\"id\":\"1327\",\"type\":\"Panel\"},{\"attributes\":{\"overlay\":{\"id\":\"1371\"}},\"id\":\"1265\",\"type\":\"BoxZoomTool\"},{\"attributes\":{},\"id\":\"1143\",\"type\":\"PanTool\"},{\"attributes\":{\"source\":{\"id\":\"1004\"}},\"id\":\"1122\",\"type\":\"CDSView\"},{\"attributes\":{\"factors\":[\"Wyoming\",\"West Virginia\",\"Wisconsin\",\"Washington\",\"Vermont\",\"Virginia\",\"Utah\",\"Texas\",\"Tennessee\",\"South Dakota\",\"South Carolina\",\"Rhode Island\",\"Pennsylvania\",\"Oregon\",\"Oklahoma\",\"Ohio\",\"Nevada\",\"New Mexico\",\"New Jersey\",\"New Hampshire\",\"Nebraska\",\"North Dakota\",\"North Carolina\",\"Montana\",\"Mississippi\",\"Missouri\",\"Minnesota\",\"Michigan\",\"Maine\",\"Maryland\",\"Massachusetts\",\"Louisiana\",\"Kentucky\",\"Kansas\",\"Indiana\",\"Illinois\",\"Idaho\",\"Iowa\",\"Hawaii\",\"Georgia\",\"Florida\",\"Delaware\",\"District of Columbia\",\"Connecticut\",\"Colorado\",\"California\",\"Arizona\",\"Arkansas\",\"Alabama\",\"Alaska\"]},\"id\":\"1010\",\"type\":\"FactorRange\"},{\"attributes\":{},\"id\":\"1264\",\"type\":\"WheelZoomTool\"},{\"attributes\":{},\"id\":\"1367\",\"type\":\"UnionRenderers\"},{\"attributes\":{\"child\":{\"id\":\"1125\"},\"title\":\"Infection Rate\"},\"id\":\"1325\",\"type\":\"Panel\"},{\"attributes\":{\"child\":{\"id\":\"1165\"},\"title\":\"Positive Delta\"},\"id\":\"1326\",\"type\":\"Panel\"},{\"attributes\":{},\"id\":\"1263\",\"type\":\"PanTool\"},{\"attributes\":{\"axis\":{\"id\":\"1140\"},\"dimension\":1,\"grid_line_color\":null,\"ticker\":null},\"id\":\"1142\",\"type\":\"Grid\"},{\"attributes\":{\"active_drag\":\"auto\",\"active_inspect\":\"auto\",\"active_multi\":null,\"active_scroll\":\"auto\",\"active_tap\":\"auto\",\"tools\":[{\"id\":\"1263\"},{\"id\":\"1264\"},{\"id\":\"1265\"},{\"id\":\"1266\"},{\"id\":\"1267\"},{\"id\":\"1268\"},{\"id\":\"1269\"}]},\"id\":\"1270\",\"type\":\"Toolbar\"},{\"attributes\":{\"axis\":{\"id\":\"1016\"},\"ticker\":null},\"id\":\"1019\",\"type\":\"Grid\"},{\"attributes\":{\"axis_label\":\"Confirmed Cases\",\"formatter\":{\"id\":\"1043\"},\"ticker\":{\"id\":\"1017\"}},\"id\":\"1016\",\"type\":\"LinearAxis\"},{\"attributes\":{\"formatter\":{\"id\":\"1365\"},\"ticker\":{\"id\":\"1301\"}},\"id\":\"1300\",\"type\":\"CategoricalAxis\"},{\"attributes\":{},\"id\":\"1147\",\"type\":\"ResetTool\"},{\"attributes\":{},\"id\":\"1014\",\"type\":\"CategoricalScale\"},{\"attributes\":{},\"id\":\"1306\",\"type\":\"SaveTool\"},{\"attributes\":{},\"id\":\"1108\",\"type\":\"HelpTool\"},{\"attributes\":{},\"id\":\"1107\",\"type\":\"ResetTool\"},{\"attributes\":{\"child\":{\"id\":\"1285\"},\"title\":\"Hospitalized Share\"},\"id\":\"1332\",\"type\":\"Panel\"},{\"attributes\":{},\"id\":\"1146\",\"type\":\"SaveTool\"},{\"attributes\":{\"text\":\"COVID US National Infection Rate: 0.1225%\"},\"id\":\"1126\",\"type\":\"Title\"},{\"attributes\":{\"source\":{\"id\":\"1004\"}},\"id\":\"1282\",\"type\":\"CDSView\"},{\"attributes\":{\"child\":{\"id\":\"1085\"},\"title\":\"Hospitalized\"},\"id\":\"1331\",\"type\":\"Panel\"},{\"attributes\":{\"callback\":null,\"tooltips\":[[\"State\",\"@state_name\"],[\"Death Share\",\"@deathShare{0.0000%}\"]]},\"id\":\"1269\",\"type\":\"HoverTool\"},{\"attributes\":{\"below\":[{\"id\":\"1176\"}],\"center\":[{\"id\":\"1179\"},{\"id\":\"1182\"}],\"left\":[{\"id\":\"1180\"}],\"plot_height\":1000,\"plot_width\":800,\"renderers\":[{\"id\":\"1201\"}],\"title\":{\"id\":\"1166\"},\"toolbar\":{\"id\":\"1190\"},\"toolbar_location\":\"above\",\"x_range\":{\"id\":\"1168\"},\"x_scale\":{\"id\":\"1172\"},\"y_range\":{\"id\":\"1170\"},\"y_scale\":{\"id\":\"1174\"}},\"id\":\"1165\",\"subtype\":\"Figure\",\"type\":\"Plot\"},{\"attributes\":{\"overlay\":{\"id\":\"1366\"}},\"id\":\"1145\",\"type\":\"BoxZoomTool\"},{\"attributes\":{\"child\":{\"id\":\"1045\"},\"title\":\"Deaths\"},\"id\":\"1330\",\"type\":\"Panel\"},{\"attributes\":{},\"id\":\"1268\",\"type\":\"HelpTool\"},{\"attributes\":{\"axis\":{\"id\":\"1256\"},\"ticker\":null},\"id\":\"1259\",\"type\":\"Grid\"},{\"attributes\":{},\"id\":\"1308\",\"type\":\"HelpTool\"},{\"attributes\":{\"format\":\"0.0000%\"},\"id\":\"1163\",\"type\":\"NumeralTickFormatter\"},{\"attributes\":{},\"id\":\"1043\",\"type\":\"NumeralTickFormatter\"},{\"attributes\":{\"child\":{\"id\":\"1005\"},\"title\":\"Positives\"},\"id\":\"1329\",\"type\":\"Panel\"},{\"attributes\":{},\"id\":\"1144\",\"type\":\"WheelZoomTool\"},{\"attributes\":{},\"id\":\"1267\",\"type\":\"ResetTool\"},{\"attributes\":{\"end\":0.18159867872643998,\"start\":0},\"id\":\"1288\",\"type\":\"DataRange1d\"},{\"attributes\":{},\"id\":\"1362\",\"type\":\"CategoricalTickFormatter\"},{\"attributes\":{\"formatter\":{\"id\":\"1356\"},\"ticker\":{\"id\":\"1021\"}},\"id\":\"1020\",\"type\":\"CategoricalAxis\"},{\"attributes\":{\"factors\":[\"Wyoming\",\"West Virginia\",\"Wisconsin\",\"Washington\",\"Vermont\",\"Virginia\",\"Utah\",\"Texas\",\"Tennessee\",\"South Dakota\",\"South Carolina\",\"Rhode Island\",\"Pennsylvania\",\"Oregon\",\"Oklahoma\",\"Ohio\",\"Nevada\",\"New Mexico\",\"New Jersey\",\"New Hampshire\",\"Nebraska\",\"North Dakota\",\"North Carolina\",\"Montana\",\"Mississippi\",\"Missouri\",\"Minnesota\",\"Michigan\",\"Maine\",\"Maryland\",\"Massachusetts\",\"Louisiana\",\"Kentucky\",\"Kansas\",\"Indiana\",\"Illinois\",\"Idaho\",\"Iowa\",\"Hawaii\",\"Georgia\",\"Florida\",\"Delaware\",\"District of Columbia\",\"Connecticut\",\"Colorado\",\"California\",\"Arizona\",\"Arkansas\",\"Alabama\",\"Alaska\"]},\"id\":\"1130\",\"type\":\"FactorRange\"},{\"attributes\":{},\"id\":\"1359\",\"type\":\"CategoricalTickFormatter\"},{\"attributes\":{\"text\":\"COVID Confirmed: 382,015 - Death Rate: 3.49% - Hosp. Rate: 5.38%\"},\"id\":\"1006\",\"type\":\"Title\"},{\"attributes\":{\"text\":\"COVID US Percentage Share of Hospitalizations by State\"},\"id\":\"1286\",\"type\":\"Title\"},{\"attributes\":{\"callback\":null,\"tooltips\":[[\"State\",\"@state_name\"],[\"Inf. Rate\",\"@infectionRate{0.0000%}\"]]},\"id\":\"1149\",\"type\":\"HoverTool\"},{\"attributes\":{},\"id\":\"1356\",\"type\":\"CategoricalTickFormatter\"},{\"attributes\":{\"data_source\":{\"id\":\"1004\"},\"glyph\":{\"id\":\"1159\"},\"hover_glyph\":null,\"muted_glyph\":null,\"nonselection_glyph\":{\"id\":\"1160\"},\"selection_glyph\":null,\"view\":{\"id\":\"1162\"}},\"id\":\"1161\",\"type\":\"GlyphRenderer\"},{\"attributes\":{\"end\":0.008527416615959404,\"start\":0},\"id\":\"1128\",\"type\":\"DataRange1d\"},{\"attributes\":{\"data_source\":{\"id\":\"1004\"},\"glyph\":{\"id\":\"1279\"},\"hover_glyph\":null,\"muted_glyph\":null,\"nonselection_glyph\":{\"id\":\"1280\"},\"selection_glyph\":null,\"view\":{\"id\":\"1282\"}},\"id\":\"1281\",\"type\":\"GlyphRenderer\"},{\"attributes\":{},\"id\":\"1350\",\"type\":\"CategoricalTickFormatter\"},{\"attributes\":{},\"id\":\"1017\",\"type\":\"BasicTicker\"},{\"attributes\":{},\"id\":\"1148\",\"type\":\"HelpTool\"},{\"attributes\":{\"callback\":null,\"tooltips\":[[\"State\",\"@state_name\"],[\"Hospitalized\",\"@hospitalized{0,0}\"]]},\"id\":\"1109\",\"type\":\"HoverTool\"},{\"attributes\":{},\"id\":\"1347\",\"type\":\"CategoricalTickFormatter\"},{\"attributes\":{\"axis_label\":\"Confirmed Cases as % of State Population\",\"formatter\":{\"id\":\"1163\"},\"ticker\":{\"id\":\"1137\"}},\"id\":\"1136\",\"type\":\"LinearAxis\"},{\"attributes\":{\"axis\":{\"id\":\"1300\"},\"dimension\":1,\"grid_line_color\":null,\"ticker\":null},\"id\":\"1302\",\"type\":\"Grid\"},{\"attributes\":{\"bottom_units\":\"screen\",\"fill_alpha\":0.5,\"fill_color\":\"lightgrey\",\"left_units\":\"screen\",\"level\":\"overlay\",\"line_alpha\":1.0,\"line_color\":\"black\",\"line_dash\":[4,4],\"line_width\":2,\"render_mode\":\"css\",\"right_units\":\"screen\",\"top_units\":\"screen\"},\"id\":\"1369\",\"type\":\"BoxAnnotation\"},{\"attributes\":{},\"id\":\"1301\",\"type\":\"CategoricalTicker\"},{\"attributes\":{},\"id\":\"1134\",\"type\":\"CategoricalScale\"},{\"attributes\":{},\"id\":\"1368\",\"type\":\"Selection\"},{\"attributes\":{\"text\":\"COVID US Confirmed / Expected Delta\"},\"id\":\"1166\",\"type\":\"Title\"},{\"attributes\":{\"axis\":{\"id\":\"1296\"},\"ticker\":null},\"id\":\"1299\",\"type\":\"Grid\"},{\"attributes\":{},\"id\":\"1132\",\"type\":\"LinearScale\"},{\"attributes\":{\"bottom_units\":\"screen\",\"fill_alpha\":0.5,\"fill_color\":\"lightgrey\",\"left_units\":\"screen\",\"level\":\"overlay\",\"line_alpha\":1.0,\"line_color\":\"black\",\"line_dash\":[4,4],\"line_width\":2,\"render_mode\":\"css\",\"right_units\":\"screen\",\"top_units\":\"screen\"},\"id\":\"1366\",\"type\":\"BoxAnnotation\"},{\"attributes\":{\"active_drag\":\"auto\",\"active_inspect\":\"auto\",\"active_multi\":null,\"active_scroll\":\"auto\",\"active_tap\":\"auto\",\"tools\":[{\"id\":\"1103\"},{\"id\":\"1104\"},{\"id\":\"1105\"},{\"id\":\"1106\"},{\"id\":\"1107\"},{\"id\":\"1108\"},{\"id\":\"1109\"}]},\"id\":\"1110\",\"type\":\"Toolbar\"},{\"attributes\":{},\"id\":\"1141\",\"type\":\"CategoricalTicker\"},{\"attributes\":{},\"id\":\"1257\",\"type\":\"BasicTicker\"},{\"attributes\":{},\"id\":\"1307\",\"type\":\"ResetTool\"},{\"attributes\":{\"factors\":[\"Wyoming\",\"West Virginia\",\"Wisconsin\",\"Washington\",\"Vermont\",\"Virginia\",\"Utah\",\"Texas\",\"Tennessee\",\"South Dakota\",\"South Carolina\",\"Rhode Island\",\"Pennsylvania\",\"Oregon\",\"Oklahoma\",\"Ohio\",\"Nevada\",\"New Mexico\",\"New Jersey\",\"New Hampshire\",\"Nebraska\",\"North Dakota\",\"North Carolina\",\"Montana\",\"Mississippi\",\"Missouri\",\"Minnesota\",\"Michigan\",\"Maine\",\"Maryland\",\"Massachusetts\",\"Louisiana\",\"Kentucky\",\"Kansas\",\"Indiana\",\"Illinois\",\"Idaho\",\"Iowa\",\"Hawaii\",\"Georgia\",\"Florida\",\"Delaware\",\"District of Columbia\",\"Connecticut\",\"Colorado\",\"California\",\"Arizona\",\"Arkansas\",\"Alabama\",\"Alaska\"]},\"id\":\"1290\",\"type\":\"FactorRange\"},{\"attributes\":{},\"id\":\"1365\",\"type\":\"CategoricalTickFormatter\"},{\"attributes\":{},\"id\":\"1172\",\"type\":\"LinearScale\"},{\"attributes\":{},\"id\":\"1304\",\"type\":\"WheelZoomTool\"},{\"attributes\":{\"bottom_units\":\"screen\",\"fill_alpha\":0.5,\"fill_color\":\"lightgrey\",\"left_units\":\"screen\",\"level\":\"overlay\",\"line_alpha\":1.0,\"line_color\":\"black\",\"line_dash\":[4,4],\"line_width\":2,\"render_mode\":\"css\",\"right_units\":\"screen\",\"top_units\":\"screen\"},\"id\":\"1374\",\"type\":\"BoxAnnotation\"},{\"attributes\":{\"axis\":{\"id\":\"1136\"},\"ticker\":null},\"id\":\"1139\",\"type\":\"Grid\"},{\"attributes\":{\"factors\":[\"Wyoming\",\"West Virginia\",\"Wisconsin\",\"Washington\",\"Vermont\",\"Virginia\",\"Utah\",\"Texas\",\"Tennessee\",\"South Dakota\",\"South Carolina\",\"Rhode Island\",\"Pennsylvania\",\"Oregon\",\"Oklahoma\",\"Ohio\",\"Nevada\",\"New Mexico\",\"New Jersey\",\"New Hampshire\",\"Nebraska\",\"North Dakota\",\"North Carolina\",\"Montana\",\"Mississippi\",\"Missouri\",\"Minnesota\",\"Michigan\",\"Maine\",\"Maryland\",\"Massachusetts\",\"Louisiana\",\"Kentucky\",\"Kansas\",\"Indiana\",\"Illinois\",\"Idaho\",\"Iowa\",\"Hawaii\",\"Georgia\",\"Florida\",\"Delaware\",\"District of Columbia\",\"Connecticut\",\"Colorado\",\"California\",\"Arizona\",\"Arkansas\",\"Alabama\",\"Alaska\"]},\"id\":\"1170\",\"type\":\"FactorRange\"},{\"attributes\":{},\"id\":\"1303\",\"type\":\"PanTool\"},{\"attributes\":{\"bottom_units\":\"screen\",\"fill_alpha\":0.5,\"fill_color\":\"lightgrey\",\"left_units\":\"screen\",\"level\":\"overlay\",\"line_alpha\":1.0,\"line_color\":\"black\",\"line_dash\":[4,4],\"line_width\":2,\"render_mode\":\"css\",\"right_units\":\"screen\",\"top_units\":\"screen\"},\"id\":\"1373\",\"type\":\"BoxAnnotation\"},{\"attributes\":{\"fill_alpha\":{\"value\":0.1},\"fill_color\":{\"value\":\"#1f77b4\"},\"height\":{\"value\":0.5},\"line_alpha\":{\"value\":0.1},\"line_color\":{\"value\":\"#1f77b4\"},\"right\":{\"field\":\"hospitalShare\"},\"y\":{\"field\":\"state_name\"}},\"id\":\"1320\",\"type\":\"HBar\"},{\"attributes\":{},\"id\":\"1137\",\"type\":\"BasicTicker\"},{\"attributes\":{\"format\":\"0.0000%\"},\"id\":\"1323\",\"type\":\"NumeralTickFormatter\"},{\"attributes\":{\"bottom_units\":\"screen\",\"fill_alpha\":0.5,\"fill_color\":\"lightgrey\",\"left_units\":\"screen\",\"level\":\"overlay\",\"line_alpha\":1.0,\"line_color\":\"black\",\"line_dash\":[4,4],\"line_width\":2,\"render_mode\":\"css\",\"right_units\":\"screen\",\"top_units\":\"screen\"},\"id\":\"1372\",\"type\":\"BoxAnnotation\"},{\"attributes\":{\"end\":64110.27726608758,\"start\":-37043.27546426598},\"id\":\"1168\",\"type\":\"DataRange1d\"},{\"attributes\":{\"fill_color\":{\"value\":\"#1f77b4\"},\"height\":{\"value\":0.5},\"line_color\":{\"value\":\"#1f77b4\"},\"right\":{\"field\":\"hospitalShare\"},\"y\":{\"field\":\"state_name\"}},\"id\":\"1319\",\"type\":\"HBar\"},{\"attributes\":{\"bottom_units\":\"screen\",\"fill_alpha\":0.5,\"fill_color\":\"lightgrey\",\"left_units\":\"screen\",\"level\":\"overlay\",\"line_alpha\":1.0,\"line_color\":\"black\",\"line_dash\":[4,4],\"line_width\":2,\"render_mode\":\"css\",\"right_units\":\"screen\",\"top_units\":\"screen\"},\"id\":\"1371\",\"type\":\"BoxAnnotation\"},{\"attributes\":{},\"id\":\"1294\",\"type\":\"CategoricalScale\"},{\"attributes\":{\"bottom_units\":\"screen\",\"fill_alpha\":0.5,\"fill_color\":\"lightgrey\",\"left_units\":\"screen\",\"level\":\"overlay\",\"line_alpha\":1.0,\"line_color\":\"black\",\"line_dash\":[4,4],\"line_width\":2,\"render_mode\":\"css\",\"right_units\":\"screen\",\"top_units\":\"screen\"},\"id\":\"1370\",\"type\":\"BoxAnnotation\"},{\"attributes\":{\"formatter\":{\"id\":\"1344\"},\"ticker\":{\"id\":\"1141\"}},\"id\":\"1140\",\"type\":\"CategoricalAxis\"},{\"attributes\":{\"overlay\":{\"id\":\"1375\"}},\"id\":\"1305\",\"type\":\"BoxZoomTool\"},{\"attributes\":{\"bottom_units\":\"screen\",\"fill_alpha\":0.5,\"fill_color\":\"lightgrey\",\"left_units\":\"screen\",\"level\":\"overlay\",\"line_alpha\":1.0,\"line_color\":\"black\",\"line_dash\":[4,4],\"line_width\":2,\"render_mode\":\"css\",\"right_units\":\"screen\",\"top_units\":\"screen\"},\"id\":\"1375\",\"type\":\"BoxAnnotation\"},{\"attributes\":{\"text\":\"COVID Deaths: 13,350 - Death Rate: 3.49%\"},\"id\":\"1046\",\"type\":\"Title\"},{\"attributes\":{},\"id\":\"1068\",\"type\":\"HelpTool\"},{\"attributes\":{\"axis_label\":\"Confirmed Cases as % of Total US Cases\",\"formatter\":{\"id\":\"1243\"},\"ticker\":{\"id\":\"1217\"}},\"id\":\"1216\",\"type\":\"LinearAxis\"},{\"attributes\":{\"below\":[{\"id\":\"1136\"}],\"center\":[{\"id\":\"1139\"},{\"id\":\"1142\"}],\"left\":[{\"id\":\"1140\"}],\"plot_height\":1000,\"plot_width\":800,\"renderers\":[{\"id\":\"1161\"}],\"title\":{\"id\":\"1126\"},\"toolbar\":{\"id\":\"1150\"},\"toolbar_location\":\"above\",\"x_range\":{\"id\":\"1128\"},\"x_scale\":{\"id\":\"1132\"},\"y_range\":{\"id\":\"1130\"},\"y_scale\":{\"id\":\"1134\"}},\"id\":\"1125\",\"subtype\":\"Figure\",\"type\":\"Plot\"},{\"attributes\":{},\"id\":\"1181\",\"type\":\"CategoricalTicker\"},{\"attributes\":{},\"id\":\"1214\",\"type\":\"CategoricalScale\"},{\"attributes\":{},\"id\":\"1212\",\"type\":\"LinearScale\"},{\"attributes\":{\"source\":{\"id\":\"1004\"}},\"id\":\"1082\",\"type\":\"CDSView\"},{\"attributes\":{\"below\":[{\"id\":\"1016\"}],\"center\":[{\"id\":\"1019\"},{\"id\":\"1022\"}],\"left\":[{\"id\":\"1020\"}],\"plot_height\":1000,\"plot_width\":800,\"renderers\":[{\"id\":\"1041\"}],\"title\":{\"id\":\"1006\"},\"toolbar\":{\"id\":\"1030\"},\"toolbar_location\":\"above\",\"x_range\":{\"id\":\"1008\"},\"x_scale\":{\"id\":\"1012\"},\"y_range\":{\"id\":\"1010\"},\"y_scale\":{\"id\":\"1014\"}},\"id\":\"1005\",\"subtype\":\"Figure\",\"type\":\"Plot\"},{\"attributes\":{\"formatter\":{\"id\":\"1347\"},\"ticker\":{\"id\":\"1181\"}},\"id\":\"1180\",\"type\":\"CategoricalAxis\"},{\"attributes\":{\"factors\":[\"Wyoming\",\"West Virginia\",\"Wisconsin\",\"Washington\",\"Vermont\",\"Virginia\",\"Utah\",\"Texas\",\"Tennessee\",\"South Dakota\",\"South Carolina\",\"Rhode Island\",\"Pennsylvania\",\"Oregon\",\"Oklahoma\",\"Ohio\",\"Nevada\",\"New Mexico\",\"New Jersey\",\"New Hampshire\",\"Nebraska\",\"North Dakota\",\"North Carolina\",\"Montana\",\"Mississippi\",\"Missouri\",\"Minnesota\",\"Michigan\",\"Maine\",\"Maryland\",\"Massachusetts\",\"Louisiana\",\"Kentucky\",\"Kansas\",\"Indiana\",\"Illinois\",\"Idaho\",\"Iowa\",\"Hawaii\",\"Georgia\",\"Florida\",\"Delaware\",\"District of Columbia\",\"Connecticut\",\"Colorado\",\"California\",\"Arizona\",\"Arkansas\",\"Alabama\",\"Alaska\"]},\"id\":\"1210\",\"type\":\"FactorRange\"},{\"attributes\":{},\"id\":\"1028\",\"type\":\"HelpTool\"},{\"attributes\":{\"callback\":null,\"tooltips\":[[\"State\",\"@state_name\"],[\"Deaths\",\"@death{0,0}\"]]},\"id\":\"1069\",\"type\":\"HoverTool\"},{\"attributes\":{\"active_drag\":\"auto\",\"active_inspect\":\"auto\",\"active_multi\":null,\"active_scroll\":\"auto\",\"active_tap\":\"auto\",\"tools\":[{\"id\":\"1063\"},{\"id\":\"1064\"},{\"id\":\"1065\"},{\"id\":\"1066\"},{\"id\":\"1067\"},{\"id\":\"1068\"},{\"id\":\"1069\"}]},\"id\":\"1070\",\"type\":\"Toolbar\"},{\"attributes\":{\"axis\":{\"id\":\"1020\"},\"dimension\":1,\"grid_line_color\":null,\"ticker\":null},\"id\":\"1022\",\"type\":\"Grid\"},{\"attributes\":{\"data_source\":{\"id\":\"1004\"},\"glyph\":{\"id\":\"1079\"},\"hover_glyph\":null,\"muted_glyph\":null,\"nonselection_glyph\":{\"id\":\"1080\"},\"selection_glyph\":null,\"view\":{\"id\":\"1082\"}},\"id\":\"1081\",\"type\":\"GlyphRenderer\"},{\"attributes\":{\"axis\":{\"id\":\"1220\"},\"dimension\":1,\"grid_line_color\":null,\"ticker\":null},\"id\":\"1222\",\"type\":\"Grid\"},{\"attributes\":{\"factors\":[\"Wyoming\",\"West Virginia\",\"Wisconsin\",\"Washington\",\"Vermont\",\"Virginia\",\"Utah\",\"Texas\",\"Tennessee\",\"South Dakota\",\"South Carolina\",\"Rhode Island\",\"Pennsylvania\",\"Oregon\",\"Oklahoma\",\"Ohio\",\"Nevada\",\"New Mexico\",\"New Jersey\",\"New Hampshire\",\"Nebraska\",\"North Dakota\",\"North Carolina\",\"Montana\",\"Mississippi\",\"Missouri\",\"Minnesota\",\"Michigan\",\"Maine\",\"Maryland\",\"Massachusetts\",\"Louisiana\",\"Kentucky\",\"Kansas\",\"Indiana\",\"Illinois\",\"Idaho\",\"Iowa\",\"Hawaii\",\"Georgia\",\"Florida\",\"Delaware\",\"District of Columbia\",\"Connecticut\",\"Colorado\",\"California\",\"Arizona\",\"Arkansas\",\"Alabama\",\"Alaska\"]},\"id\":\"1090\",\"type\":\"FactorRange\"},{\"attributes\":{\"data\":{\"death\":{\"__ndarray__\":\"AAAAAAAAIEAAAAAAAMBZQAAAAAAAAD5AAAAAAACAXkAAAAAAAHiFQAAAAAAAQHNAAAAAAADQgkAAAAAAAIBKQAAAAAAAgERAAAAAAAAIgEAAAAAAAAB+QAAAAAAAACJAAAAAAACARUAAAAAAAIBAQAAAAAAA0IhAAAAAAADgdUAAAAAAAABPQAAAAAAAAFpAAAAAAACgi0AAAAAAAGCKQAAAAAAAYHBAAAAAAAAAM0AAAAAAAAiZQAAAAAAAgFFAAAAAAACAXEAAAAAAAIBYQAAAAAAAABxAAAAAAACAVUAAAAAAAAAgQAAAAAAAADJAAAAAAAAAN0AAAAAAABajQAAAAAAAAD9AAAAAAAAAXkAAAAAAACBxQAAAAAAAwFhAAAAAAACASkAAAAAAAGCAQAAAAAAAQFJAAAAAAADAVUAAAAAAAAAYQAAAAAAAQFtAAAAAAADwcUAAAAAAAAAyQAAAAAAAoGJAAAAAAAAAPEAAAAAAAMB/QAAAAAAAQGNAAAAAAAAAIkAAAAAAAADwPw==\",\"dtype\":\"float64\",\"shape\":[50]},\"deathDelta\":{\"__ndarray__\":\"MJBHpsLh+r9oiUlnkuY9wE65ssw0RjPAIF3HHAF8HcBYad+JrH5XwJCm3HE2nUNA7LXuN0nMYEBQwkb20aMuwPAFJqRWijTA9LB8ViSxa8CAAcVcg/kPQAxzoMbQOSHATgyHdRTCMMDmqR8S5cYxwKCHxv/wTjhAoFKkWlwXT0A42sOk7tMrQOB6+2YLN0BAfKdxgDayYkD4VXHlsblXwOC4qD/TI0nA+FI26eqRFcDDoJL1NxGGQPxu4L5jrShAPC/aERCsQ8Dg8YH2aj8TwOT0gHNIExvAhlDql0eTVMBAsLGDqIkMwHgwTxpc4CjANAHXSFdKKcCAHaSk9UBnQNwv/EWzADDAwCIKVbQsMEA4drfq7z8+QASe08k3sjpAcO+X5dLWAsAQabEkoxp0wOQitdwGAD/ADHdyuhGXQMDY1LRVV1U4wNTQEwIcw1XAPLz/tM/eaMCNywac/iRQwBAP5GAJ60nAICybQ1XD/T9wqahllAViQCzv35UiGkFAlhYuZ/I9KsCB7S9gbzghwA==\",\"dtype\":\"float64\",\"shape\":[50]},\"deathDeltaRate\":{\"__ndarray__\":\"7VvCGlY3xr9C9sHYT8zMvwcKLQnPCNm/9agPXgIsrb/7GM9GSc6+v+O6IQecrsI/sYKW+XJk0j+h3n9W2LPMvzrw0keAXNW/OfwdgWhN078KG7dzQzKBP9mDs+f2S9+/R7HIdpvy0b+GMuXvA2jWvzBxbXyCK6A/H/iPPnmnyz90Ia+NyYTSPxCBGd35/9w/NYZ7ak4Ryj+Fe3IfMeC5v64GALjxm8S/cwHiJhZMzL+r0f37WDnpP+JbLYnaY8s////Z9bdr0L9XUGQfmPanv+VaL012dt+/2IOz5/ZL379kC0g3qrzTvyiyH4EfJ9q/4QtA0EC01r/AV3hSyBm1Px+3lCwpytW/Vwrat9Lwwz/iw1OJHMW/P3rNVB9Vodc/uMLneQjIpb8p0vnu91fYv98C5DG0E9O/4fr12Gmr0b+VW5Ykm6vpv456pW+/aty/vVxAc+8z2r93PtH6Vwbpv6yGNhm+hNC/SMAE4703sj9DOml0ilzZP2r4Vmn4RdI/jjoNlA774r/NFakWk6vsvw==\",\"dtype\":\"float64\",\"shape\":[50]},\"deathPC\":{\"__ndarray__\":\"9VScw13MJUB4Gbn2cfs0QAJ1GLxLviNAYKaHk9eIMEC8sjKVrjMxQDhxy6FNWEpAUcq4G5AeZUAUzCXGnmJSQMS5LkhU20RA2Y7azFtTN0AVLus0xVpGQJp84PO8exlAy0lTZZkLK0B04JldHBIyQALeZ3kBXE9AbxArwpvxSUDM5vVgoE01QChnlXPZHDdAb81Mfb/JZ0A+novodD5eQHmU6832iEVAneZL0Xc8LEA9tbp4a+9jQHTz0Kz6jihAdbjFIYt6MkCL8741W2RAQHh5YTLCwxlAmpAkplE1IEBaN8NmSAElQLAkQufubyJAmthrq+fFMEDtFaOJ7xVxQCM1UiM1ki1AxAccqkAcQ0BytsG631I3QNt7R41hCDlAq5FOkBmlKEDg/nOMd29EQCHNS2iRR1FAm+1/MceyMEBFpb+EyJMaQM/7K1X1mi9AzsKwwtV5I0ARI8oW5O8VQNfXB7vfRTFAbrOIu3NKRkDSC5ESwklQQI2RhhQgUTpABEGk5CU/FEC9fdzZqjf8Pw==\",\"dtype\":\"float64\",\"shape\":[50]},\"deathRate\":{\"__ndarray__\":\"in8eI/KSnT/AWxd/4LubP1cQkyuIyZU/wFV8p3/foD9kNg/8kXqfP/XX+OQDgaQ/80jf1dEIpz+ABTKWt8KbP9v/IL1L15c/acqPxgP+mD+xgz078AqiP5IkSZIkSZI//5th1uy/mT8iQGTDt0GXP7n3h14jdaI/DvbvIhXCpT/EHXFH3BGnPwAAAAAAAKo/meFnck6JpT9BhBgBfxWgP0YbHXX1BZ4/MMvnlLnfmz/oq1aTCv+vP7kViluhuKU/5v3AnXyamj9vgGK2GA6hP4H5QHZhMZI/kiRJkiRJkj86/2KAzr+YPzQwRChxKZU/FxcXFxcXlz/rjv2kBV6jP+QRIg37mZc/oNO4TQ6upD9yaXns6xykP1hY3s+wf6g/d4bEvJ0hoT+P1fMRaSyWPx555JFHHpk/kWvVg7vnmT/jQHGgOFB8P+UTzrZZ5ZM/sj8ONUcilT/6Wx3DdTN/P9inmK9+jJo/KhO2QXAqoz+WXWY3mfuoP05zrnhMAKc/6wrN7VQejT/KHaDcAcptPw==\",\"dtype\":\"float64\",\"shape\":[50]},\"deathShare\":{\"__ndarray__\":\"1Jo5luGiQz8ttcQNI5p/PycB1nyzaGI/kucuAz+3gj8/SxKxDVmqP0dOvWj3n5c/C7uhPYMWpz83tGfQ4kJwP1/OeQixKGk/obcEB7Osoz8nAdZ8s2iiPy7OAMk9F0Y/DWjdId9iaj+qZ+ui+D9kPxpV99WXc64/rsFia7DYmj/9zYeJygVzP5ibHZSu6H8/qbqvvpzzsD+detHuPy+wP3X0vt+yGJQ/22dk4mtRVz+4HoXrUbi+P1gBT7wmenU/5U3L6RB9gT8UNQhuaRF+P3lncmOFLkE/DWjdId9iej/UmjmW4aJDPy7OAMk9F1Y/kM7yRyQ6XD8Q95LYa2zHP/3Nh4nKBWM/JwHWfLNogj+3p8lyVQSVP4AbYfT0X34/N7Rn0OJCcD919L7fshikP5q0WU/JZXY/eE42qGqxej8+aFZhUnQ9P9gN7Rm0uIA/k5Rq55oDlj8uzgDJPRdWPzsO35ia24Y/eWdyY4UuYT+eJw3Tm3ujP0dOvWj3n4c/Ls4AyT0XRj/UmjmW4aITPw==\",\"dtype\":\"float64\",\"shape\":[50]},\"deathShareDelta\":{\"__ndarray__\":\"DgiYB8q9XL+U4xdGI2+Av1o3OOEltX6/TFPB4ne8jb+86jFIp5uzv1CdXwx4unE/m2oDwxI9oT/OkNuLYS9bPyBfsFdeERW/NbFHLDNuoL+AoR5ffRZZP5DDhzZ0lW+/WsV0Q56RfL+6Y6UlkLdrvzzu3t1SVpM/pNjuOQbMcj8dP95bMjNzv1Y53djZL3u/sPiwPANHqj9nEeFzeeqkPwDL63/KpR8/RNUQpLiwZ790LORqh3m2P0RWSsMcsoq/5UhC0N0Fh78Mgso9t2Fiv4oqZgYDQGi/QwTfIeM+nL+gx5hemDJevyYTDwb6HnS/4JUun4jnZb+ukXq4fMHDPxJ7GOBFBnK/uIArJRmqUb8xGXlZ+Y2RvxhFNqOmkHW/DqXukvUchL+AJvVLSW9ev/y6FumtDWE/Hho6W8rdhL9XBjE3pAlkv7y/QrGOkoy/hq3ViDKwsr/HACyWicqCvxyzBybM5JC/oGY9effoFT/2fhWNBruKP45cjzxnmn2/uhr71jCXdL8YhCFpdY9cvw==\",\"dtype\":\"float64\",\"shape\":[50]},\"expectedDeaths\":{\"__ndarray__\":\"BvLIVDhcI0AtMelM0pxgQKdcWWYao0hA6TrmCOArYEAr7TuR1WeIQC5rxDFZzHBACqUIZNs5fUBK2Mg+ehRRQPgCE1IrxU5APSyfFUn0hkD9dUb5DMB9QIY5UGPonDFAJ4bDOgrhTUDz1A+JcmNJQMPLAXiIDYhArHWrdBT9cUByCc9WBAtIQJBCgkx65FFAIZbjX3LzhkC/Kq48NleNQBwX9Wd6hHNAvpRNunpkOEA9X20KyP6LQEHkRxCn1ExAz4t2BAQrY0AeH2iv9rNZQHJ6wDmkiStAQyj1y6MJZUAQbOwgaiInQDyYJw0ucD5ATcA10pXSQUAovrWl8KGhQO4X/qJZgEdAUHe96tL0WUA5EakCAnhuQH8Yiw1yE1JA935ZLm2tS0CItFiSUW2KQLlILbcBAFpAhjs53YgLXkDY1LRVV1U+QGroCQGOgWhAHt5/2mdffkCNywac/qRUQMQDOVjCGmlAPk3Gq8ojOkBIqyvNNb12QGoIELXu8l1ASwuXM/keNkCB7S9gbzgjQA==\",\"dtype\":\"float64\",\"shape\":[50]},\"expectedHospitalizations\":{\"__ndarray__\":\"pcmlZG/SLUA4f5Qa8JZpQCxU5Yem+VJAh5ktTvXoaED/QsWbAMySQNgmbK0l4HlACyvoVG6ChkBVPYDFQE9aQAI9nDrlsldA8BrHGtetkUA4nxgGyemGQHwYuBxoITtA6d3JczEDV0DSHACoyo1TQFr9ER10hpJAIuHSPIy1e0DGFFkDhIRSQEVylremj1tAas3evDGtkUB1xKorCpmWQCbcwptyEH5A5AwkJGvJQkBpvAOHw4+VQJD1aBF8NFZA6ussWqSGbUBTLx3fzctjQO/FRkuLNTVALvLtgvMzcEDgwq9HXtExQLI3qA5wcUdA09veEBd0S0DMupuDKCmrQMytUV23GVJAAvBJPcL9Y0CbYCB7d3d3QDFdOM3/11tAYVz+8RpRVUCXHKjwj1qUQAZPYyFfBmRAkeDDCewjZ0Dchp5RxFxHQCE3mdvP33JALSmCuIRkh0AYNhP83sxfQDozW93OVXNAeOUayO4hREBkjTAEbIOBQCKpJUf5EGdAI8D8zowJQUDAnDYXUJstQA==\",\"dtype\":\"float64\",\"shape\":[50]},\"expectedNegatives\":{\"__ndarray__\":\"PjmA6P7euUCIJ+//einYQCLEqmVCL9FAAglEMCDn4UBO4d6pwJ0EQQVgk+o7AOBAQobqy9ZM4kCDIFZQQRDCQIok41mpU8RAiVrIsPeGBEH4pS0WP63nQG7zfH+YCtBAS2UYgP7izkB8PwY7FPjIQNNowLF71/VAEGhNPihl4kCzEhtubOfGQNQOxRByCtZAvPZmM0pS9kADVDzpLzT5QEvdGZqwX+VAmF9u44FUxED0RHkwBRHxQIhVkoXbvd9AKdp2MUKx40Cnz7VNGivfQMi5IC6ID75AzEraJBUu6kDg+jo2jM/BQHJq3fImw8JAyBgq6iYuw0BVjjQTc7z6QIY1YTdyaNpAG4JGVKwI1UDygI7tXOTqQCeH1GzQ4dJATX+xLeq02UB8Rt9rhs36QH6Ig/5UsNJAwX/W3VgQ20CYlOqZVL69QPQ0ZUMueO9A9qg5vBCD+0B/ZCUPHOniQBwsuH5fGeFAKZ3guQggwUDGQyHg5F7zQHr0XaISmuBApbZdMCOry0BgxqNXpLSzQA==\",\"dtype\":\"float64\",\"shape\":[50]},\"expectedPending\":{\"__ndarray__\":\"AavfrOcGSEDd9XJ3k3BmQLT+fgJb619AOBXGInCgcEDSmmUvjSWTQPLPnCaBuG1AYbSYsub+cEAgb0O9osZQQGJ3g9+94FJAqWpZ/WMQk0BO/8SNMv11QI6YxSjAy11ABliKGGGvXEBXXWK5cjBXQBj9EFHrSIRAkZomZHwVcUCP58S7eUVVQMgJQbw/eGRAvPqD3vi6hECfT/mPRWiHQPQM/jCq2XNAOWC5+YbhUkCNdnAwMLN/QLJvh1akem1A3NUUN+pJckC9If4SWfJsQLb15H/96ktAqTWQv1pQeEDFWidoiopQQAxNzeTHbFFAeNtwWCfQUUDB2yHLktSIQLX3F9COhmhAaRuUyNmIY0DztvFPpPl4QIuF79pBiWFAJqvl1NLfZ0A8KEKMbuSIQFXQnV1NW2FAsgLlon0iaUDzpK2rk59LQGajbofuOX1Ayn20JQiNiUDNfQBdCJBxQCstGfazwm9Aa0DqUhPPT0DyZNPea/2BQPNntiRA1m5ApXRuXz+yWUA6eeyfDk1CQA==\",\"dtype\":\"float64\",\"shape\":[50]},\"expectedPositives\":{\"__ndarray__\":\"1PhvAogYjEB8HHRR2ny3QGRxmcjVFK1A0+rhJuWmwUAsiUPD1+LnQOz/WYoV+LtA4WyoBloMsUCMNbOIDpaLQBYnPIK5z5JAWv4zCLVO2kD8S4D3NK/JQK1+KgGBCZtAe2BHc+JtrkDQU7lxp3mhQCxN6TBQSc5AgF2vTCIjwEAPZ+Y9sdmrQCuLS2KYh7VAqGwpT845tkCggny7wbDAQEDmgqIaG71Aoy0EcL3BmUDI1b/U/QfIQHZ2+FunRrtAhd+i8aGEvUBYxMp3/JqsQEOSFAuczJRAFuGbvSRjyUCK8arMKyiNQHFU2LdWr6JAyGJvY3Y+mkDjFOe3IGHFQLlPjsZGEKRAV0s1EW0LrkAWKvsnxhrMQNOIXDAx7LJAU5tfcVSUtEAZ8yVOCazOQB27t5WxNpRA3CBpcsHtuEDwryCtaEiRQK4p2mxcgMBAZmG8aYOg4UCeg0KMaWivQFZBXNQLo8RArI1TqWgKiEDFhgqCQ6fCQEX5T3S2/7tAlUB9ytoDoUAInn0yULSFQA==\",\"dtype\":\"float64\",\"shape\":[50]},\"expectedTests\":{\"__ndarray__\":\"OgKAj13ItkAe0/8SxgvjQLaT2uL0lNdA1oiUyaug7EAYwgADel4TQVOxc+kNruZA6XIY8wim20AfvPaSkF62QDnu0XkQgr5AgF8ZnR5VBUFOUNo4yNP0QGIIWXGX7MVARgemIcGs2ED0rt/CTFfMQHAn4lkZj/hAJdpRac4r6kBujD/uaJXWQNlg79pOdeFA7pw5TtEF4kA6gNjifBHrQCAYPT8KmudAZ9Odec/ixECY+DOmmXzzQBH4s24tHuZAxbokvpzv50DWbIp6JjLXQNq7BM6u3cBAV9jwWRqW9EBvR2PQoqS3QEkoEpuKTc5AZnI2Z/JHxUBuDHp2HVbxQESkSA73RNBAFjVCSupc2EA1QaUhL8r2QMqXioQ7sN5Azd1NzAuw4EDfjHYdJ9/4QDfm6AUeZMBAC50MAOo25EAUuA1Pbwe8QDd9qxsAw+pAV6hWN1KWDEGdJHjD53fZQF/lz736u/BAfQordI9+s0D0tqcJckDuQITxloM9tOZAYTVHMEGYy0DlS2DLkZmxQA==\",\"dtype\":\"float64\",\"shape\":[50]},\"hospitalDelta\":{\"__ndarray__\":\"LhutTcgWMUDIgGvlD4lvQKhXNfCyDEtAh5ktTvXoaMD/QsWbAMySwEr2pJT225BACyvoVG6ChsBVPYDFQE9awAI9nDrlslfAEOU45SgCnUBksPN8G8OeQITnR+OX3jBA6d3JczEDV8Bcxv+vamRMQFr9ER10hpLAIuHSPIy1e8CddVP+vV1tQLcxDSkLloFAas3evDGtkcAWd6qo6+2LQPZID1njV5dAjvntbUqbVUBpvAOHw4+VwJzCpfvgAnFA6ussWqSGbcArtDiIDLWFQBE6ubR0yjlALvLtgvMzcMAgPVC4oS42QLI3qA5wcUfAFpKQd/RFWEDMupuDKCmrwMytUV23GVLAAvBJPcL9Y8DZ5zchIuaZQLTosQwAmnVA6GiAQ7m7cUCXHKjwj1qUwPqwnN6gWWVAuA8e+wluc0DAbegZRcwFwN/IZiQwUHFALSmCuIRkh8DoyewDIXNSQDozW93OVXPAeOUayO4hRMBkjTAEbIOBwLiVNq7BQ4lA989AzJw9YECgsWT0VzI7QA==\",\"dtype\":\"float64\",\"shape\":[50]},\"hospitalDeltaRate\":{\"__ndarray__\":\"ggHtEklW8j+aRE7WtrfzP+c04JjyzuY/AAAAAAAA8L8AAAAAAADwvx6wzWt/2QRAAAAAAAAA8L8AAAAAAADwvwAAAAAAAPC/SXQM0dxA+j/UvvY9FXsFQG+0VdO25eM/AAAAAAAA8L8nk/ThZTvnPwAAAAAAAPC/AAAAAAAA8L+NXB46o18JQNa5vOoeaxRAAAAAAAAA8L+OlqyBYcbjP3xmDpGo2AhAw+rrkcpmAkAAAAAAAADwv6pWQFzigwhAAAAAAAAA8L+SVGZPbYsRQM1dVJHVdPM/AAAAAAAA8L8hmtijRuvzPwAAAAAAAPC/1rdPjglL/D8AAAAAAADwvwAAAAAAAPC/AAAAAAAA8L9BA4ifi6gRQNyBfXh30whA0ep3ityeCkAAAAAAAADwv9M1NW8RD/E/Gk3r/2/e+j+REA0Cbtutv+dZTTB3Wu0/AAAAAAAA8L/B1fHuypDiPwAAAAAAAPC/AAAAAAAA8L8AAAAAAADwv7jj6S9ghhFA2cQXR/WADkCUd7IrKGX9Pw==\",\"dtype\":\"float64\",\"shape\":[50]},\"hospitalPC\":{\"__ndarray__\":\"9VScw13MRUD9CCjUIUZXQBfUb7Z8Y0VAAAAAAAAAAAAAAAAAAAAAAHPaDpkW7W9AAAAAAAAAAAAAAAAAAAAAAAAAAAAAAAAAO/P4bpH7YEDKO99km3VvQGdfEip1JT9AAAAAAAAAAAC9X13rP3tSQAAAAAAAAAAAAAAAAAAAAAAdMWzsCotaQKwo4fgasmJAAAAAAAAAAAAe+hdig/Z0QPVONcW0SnRAgH+Ve+gIV0AAAAAAAAAAAKaRS2S2qU9AAAAAAAAAAABPWbOvrdVxQPGF/9e5n0VAAAAAAAAAAAAxBXSAmkFKQAAAAAAAAAAA6L43G0e2W0AAAAAAAAAAAAAAAAAAAAAAAAAAAAAAAACbM9qFxKFlQPDO/dmH41xA4pAi1bNyVUAAAAAAAAAAAB5WKBNjlnNAZyxYhMnMV0B/V1okzVxIQPTtUnVS/FRAAAAAAAAAAABHJnoK2Z5OQAAAAAAAAAAAAAAAAAAAAAAAAAAAAAAAAKfTILAqNmVAKBG7mQcPV0CEsvgeiIRSQA==\",\"dtype\":\"float64\",\"shape\":[50]},\"hospitalRate\":{\"__ndarray__\":\"in8eI/KSvT+ouc5TWcO+P178iYRTmrc/AAAAAAAAAAAAAAAAAAAAADq+J8IF2cg/AAAAAAAAAAAAAAAAAAAAAAAAAAAAAAAA9+EFJzQywj/MxNWKMWTJP5ZlWZZlWbY/AAAAAAAAAADG+3eTB8m3PwAAAAAAAAAAAAAAAAAAAAAw6Av6gr7MPwAAAAAACNU/AAAAAAAAAACwaaRD50u2PyxACIxBSsw/3e8N0T+9xj8AAAAAAAAAAAHcE8A9Acw/AAAAAAAAAAAm2FqKW47SP6pZfwa/ib4/AAAAAAAAAAAJv3sgwu++PwAAAAAAAAAAExMTExMTwz8AAAAAAAAAAAAAAAAAAAAAAAAAAAAAAAD9pyHVb6fSPyq/29DIRcw/0UUXXXTRzT8AAAAAAAAAAHnkkUceebw/MmQi7g92wj/Q0GfoM/SpP2yaVD3ga7o/AAAAAAAAAAAxKNfalMa1PwAAAAAAAAAAAAAAAAAAAAAAAAAAAAAAALQW1MoBitI/4lD46tOU0D+NE8k4kYzDPw==\",\"dtype\":\"float64\",\"shape\":[50]},\"hospitalShare\":{\"__ndarray__\":\"cPa/bdR+WT931/WbtMGWP0r2dr/P5Hk/AAAAAAAAAAAAAAAAAAAAAAgRgpwVlrI/AAAAAAAAAAAAAAAAAAAAAAAAAAAAAAAAB8kPd0WZwj+xAeZhitHAP235cwsyh2E/AAAAAAAAAADrdcALxON6PwAAAAAAAAAAAAAAAAAAAAB2tHhoFsaOP7dpIR2bwaA/AAAAAAAAAAAT1WW3aSG9P8h+Vhsvlrg/vfZRyt2yeD8AAAAAAAAAAELZYcfs+ZE/AAAAAAAAAAAJKGx05jylP/v4mAAkuWI/AAAAAAAAAAAN9C+Jid5fPwAAAAAAAAAApvRTQpxGfj8AAAAAAAAAAAAAAAAAAAAAAAAAAAAAAACCLnKfBk+5P3fX9Zu0wZY/HNkYGehfkj8AAAAAAAAAANKZ81R+e5A/vfZRyt2ymD9t+XMLModhPzCVHDrt1Jw/AAAAAAAAAAB+uCvKlASEPwAAAAAAAAAAAAAAAAAAAAAAAAAAAAAAALtmbX89uag/4PlOFkBVgD+6+QVoO7tgPw==\",\"dtype\":\"float64\",\"shape\":[50]},\"hospitalShareDelta\":{\"__ndarray__\":\"EL7pycwgSr+I4eLVaI56P0iDWMBfCWy/bx34cts5mL8uiF0QF2TAv5ZuMYZ+k6s/wEF56sFlh78HoOHaFO5iv1hRN/s70Wm/o1151Bclsz9Ufd36FNO4P6/9U50RlGO/sLwx6obhhL/IgcA7/T9HP/zdB2duyKS/hQvn3K4llr/SW4vrL1N3PzIeBB8UvZI/h/K5AtmAjr8q44SCZme3P568Btbrl7M/kMjB/pkYXD+I5EEBlX2gv8BG4ipptUe/ZcsGXXdBlL9Gec7SnVSgP9qWU70ApVO/Iy8rdc1rob/6QQtB/0pAv7JGT3jJpHm/JOx/wZ2IaD8UK8MAeVedvxFi3CQriXu/PnF7ofadhL+Q/MLY5VSvP6L+H2wbi4M/HGYebtICcT+pnR4qLQylvxYIgHyDB4o/QFidyndefj/IZ5/f8cNIv5i5ElIvvXg/q1KwQhkxuL/wIAZSyI1Ivzk6d3KZUpy/RHyopz1/YL/Bj49ftJmZvy9PWHvlO54/gH4FOc+gYj94rTZsmmYtPw==\",\"dtype\":\"float64\",\"shape\":[50]},\"hospitalized\":{\"__ndarray__\":\"AAAAAAAAQEAAAAAAAJB8QAAAAAAAQGBAAAAAAAAAAAAAAAAAAAAAAAAAAAAAVJdAAAAAAAAAAAAAAAAAAAAAAAAAAAAAAAAAAAAAAABYp0AAAAAAABylQAAAAAAAAEZAAAAAAAAAAAAAAAAAAOBgQAAAAAAAAAAAAAAAAAAAAAAAAAAAAFBzQAAAAAAACIVAAAAAAAAAAAAAAAAAAEiiQAAAAAAA3J5AAAAAAAAAX0AAAAAAAAAAAAAAAAAAkHZAAAAAAAAAAAAAAAAAAKiKQAAAAAAAgEdAAAAAAAAAAAAAAAAAAABEQAAAAAAAAAAAAAAAAAAAY0AAAAAAAAAAAAAAAAAAAAAAAAAAAAAAAAAAAAAAAMSfQAAAAAAAkHxAAAAAAAAQd0AAAAAAAAAAAAAAAAAAsHRAAAAAAAAAf0AAAAAAAABGQAAAAAAAGIJAAAAAAAAAAAAAAAAAACBpQAAAAAAAAAAAAAAAAAAAAAAAAAAAAAAAAAAAAAAACI9AAAAAAACAZEAAAAAAAABFQA==\",\"dtype\":\"float64\",\"shape\":[50]},\"infectionRate\":{\"__ndarray__\":\"2MA5XXC7OD8U03FZwWJJP+2XTs4ZaD4/csm1ic1wQD8Or6QQDVZCP1MV6bp5jlU/LmFqRMbDbj+WLfkK7DhmP9IQyFu1Wl0/W7RE1BtRTz87d+ZyYMlUPz+9y0iOYTc/bDh8xxGfQT/+XL2uexJKP+9whFQlgVw/k/gJeTIBVD+Eyp/CK/w+P0zKiSIF1D0/dQ2FoQaIcj8PB2V/K4xvP5Bk54tdEVg/J66d/sn+QD9739Mp8+dkPxxYear99zI/Pjf944pORz+vca4J/h9QP8zLrrSCwjc/5mpPkAi+PT/WA+oXZHo8P6rtCa31Oz0/QjAYnttfSD8F5Hho/Jl9P1VQBVVQBUU/033e2vsBTz+iWBEUmXRDP9OgGUqTJEE/gmKMgbEiOD+W4YGWnexePyW/8TNBFWc/nKIxPAahRT8+DbogOn9PPw7GsSqzpko/FFPhGgvsPj8F+vDge5dHP97vJZm01EU/P5cHNUeDUz/8Wr36Z+BVP8h2K4UbMkM/xNuSdcFUNz9WVncrvcg/Pw==\",\"dtype\":\"float64\",\"shape\":[50]},\"negative\":[7553,25448,19394,39645,177319,31051,30928,8979,10543,177786,43706,18916,16986,13661,83743,36303,12488,24635,87075,95182,42815,11608,57009,36777,43292,34791,8704,58572,10450,10486,10590,64885,30625,22493,58137,20790,29537,105593,19649,29325,8134,70585,119320,43424,35654,9618,83391,36769,16115,5689],\"negativeDelta\":{\"__ndarray__\":\"EDb+uwgQjUAADxsCoBCGQOC9U6XZE5xA4G+/+/xHp0Ag6xFidXfAQKAAbFJ925rAEDJUX7aWucBgEMQKKthwwIDdNoep9WBAcFd684TNwkDAL22x+K+ywJBkGAQ8c6NAqNU8/wtQkkBACJxPvGaLQDCNBhy7WLbAAAKtyQdplcDQ1E4eOcmHQGCJ13lvIqBAwGtvNqMBscAwQMWT/nS/wMBSd4Ym9I3AQAON5PC7kkCgJ8qDqS/JwOCptumRsbBAcF2S6Nwjp0DIglGSLXWmQMAx+o6+g49AoKkt2VZbs0AAKShOnsuUQOBYKdKQfYtAgHNeXZENiECqHGkmRsrlwNBT9kRu/qtAoLwvd3XSjUDg8BcnMeynQJCNtzL5upZAmAV0kq4aqUDAZ/S9Zl+wwIDgHV/A+n9A8AOYInIumUBAW6swWz2AQGBY1uSN97dAoHBlPPTmuUAI3NSGH1eyQAD59FEg2INAcC32YXSPikBAh9f7Y6GvQGC4INrVoKVA2EoSfeZynkAAzeFC3SKEQA==\",\"dtype\":\"float64\",\"shape\":[50]},\"negativeDeltaRate\":{\"__ndarray__\":\"er2iZEz5wT+gIi43/jidPwqzTJBcJLo/TwGuKoXOtD8OZzYBIo+pP6gRxcAY26q/b1/531lfxr8RPbA+H9edvxieRp/5soo/Ftmw49JPrT+AtQ8it0G5v6094x5jZsM/9gM5xwb5sj8sreN3/o6xP9MJffGtXrC/S6abCV+for8YFT2BvJ2wP2z2WbPIbLc/gc55yl5hqL+VX3HmOvizvwebnTs6bJa/jEXFgeh8vT8cLlBav5zHvydu2xRb1MA/t/ugsRzNsj80Zz+lkw63P//jItUcxsA/7xjjq/Gotz+xJsgmZK7CP/B+A8Jycbc/Xmv09ZQQtD+r0JN8iRTav8oD8w769cA/YjleiVyvpj9DHmSWcHesPz0juNnJQrM/ReTJVwJAvz8guKcjIYyjv62XKfjnYJs/QTc4jzTGrT8GZWQzwnixPzmOFWL+Xrg/2gGuNqkgrj9lG7Ur9wi/P6bsdrqUkZI/J4kqybnQuD+aMm5jXiCqPxuG13cd2LQ/pRudNJibwT/HyG2+flnAPw==\",\"dtype\":\"float64\",\"shape\":[50]},\"negativeRate\":{\"__ndarray__\":\"i/+0kDHe7j9tDHy279brP4C6Q6DI1O0/r3CoLV9E7T/zEG9qGWvsP5rdgLu8pek/liqhJRNW5j+PT6cRRUfqPwL7DtOGa+s/qfPyAOOd7D8XrdnZkGXoP3zp7GVlK+8/E7UrUbsS7T+EpWIgdOzsP3LeoJwbVuk/2P20zSkV6j+QpG738dLsPypB6FA9i+0/FsXQUT3H6T/Dspbaq/ToP46FZn12eeo/eitT6Vgv7j+jaNcb9RLmP/Nhw1A/oO4/B7PfrRYO7T9JUbdkR4HtP/GojkU8ne4/71tzrZmR7T9oCLbmfATvP9WKpZC7i+0/TK99Fkow7T+eI3TQhQngP/uVm11bp+4/ObmPyzNE7D9KvbqNcpLsPwB4T9iHGu0/GPyq7gpf7j/FGwuepQjqPyJoLTN1yus/SAkpISWk7D+cKN5GGursPyS7pD7ZpO0/o7yXUe2o7D+Vf6cOOVnuP1W+W+PXjus/jJbopd+w7T/P3yH6xnLsPyn4wuJiRe0/u8V6+GDK7j9PMtlVRIbuPw==\",\"dtype\":\"float64\",\"shape\":[50]},\"negativeShare\":{\"__ndarray__\":\"JOLGq4uEbT+MvFWL/NyIP+fXXKnG8oI/1rQAifNdkz9BrHbo0ae1P/r6neBkVo4/SFmcLqE3jj+dN+6Em4txP5n4t375mXQ/CZpuqWu2tT9SjcyJ0FmVPyRAA004e4I/EUAsUX6YgD+JAHnYtLF6PzwqIftkdKQ/rPooVQG8kT/MryFd7mZ4P8Godh6kEYg/ELjSAb5EpT+qGcflqj+nP9z7aCdj6pQ//rzHfLmudj+rbzVfeNmbP43t83NI95E/flG9UQomlT94j66e6v6QP70b0v4KAnE/qmnP2e+cnD9NIyzoc2t0P2un7hF2fXQ/v8+uUXyxdD/xfsuubrKfP0xtNBTY640/V84bxOP5hT+Rev5QiWacPyCEJprwT4Q/kEtHZLfbjD8wnM8XqcqpP89rmFKOMoM/OnHDBbGmjD/Y3+l90clvPz42OieiPaE/iPrFMQAlrT+YSlpNjDaVP+gxZZXXapE/puAq6kHLcj8Y3k9WYl6kP4s7MFVI9pE/Wy5vTEh9fz9Cxt6qqztmPw==\",\"dtype\":\"float64\",\"shape\":[50]},\"pending\":{\"__ndarray__\":\"AAAAAAAAAAAAAAAAAAAAAAAAAAAAAAAAAAAAAAAAAAAAAAAAAMjJQAAAAAAAAAAAAAAAAAAAAAAAAAAAAAAAAAAAAAAAAAAAAAAAAABYk0AAAAAAAAAAAAAAAAAAAAAAAAAAAAAAAAAAAAAAAAAAAAAAAAAAAAAAAAAAAAAAAAAAAAAAAAAAAAAAAAAAAAAAAAAAAAAAAAAAAAAAAAAAAAAAAAAAAAAAAAAAAAAAAAAAAAAAAAAAAAAAAAAAAAAAAAAAAAAAAAAAAAAAAAAAAAAAAAAAAAAAAAAAAAAAAAAAAAAAAAAAAAAAAAAAAAAAAAAAAAAAOUAAAAAAAAAAAAAAAAAAAAAAAAAAAAAAAAAAAAAAAAAAAAAAAAAAAAAAAAAAAAAAAAAAAAAAAAAAAAAAAAAAAAAAAAAAAAAAAAAAAAAAAAAAAAAAAAAAAAAAAAAAAAAAAAAAAAAAAAAAAAAAAAAAkH1AAAAAAAAAAAAAAAAAAAAAAAAAAAAAEHFAAAAAAAAAAAAAAAAAAAAAAA==\",\"dtype\":\"float64\",\"shape\":[50]},\"pendingDelta\":{\"__ndarray__\":\"AavfrOcGSMDd9XJ3k3BmwLT+fgJb61/AOBXGInCgcMCmTBNaTmPHQPLPnCaBuG3AYbSYsub+cMAgb0O9osZQwGJ3g9+94FLAwFWlqQDnMUBO/8SNMv11wI6YxSjAy13ABliKGGGvXMBXXWK5cjBXwBj9EFHrSITAkZomZHwVccCP58S7eUVVwMgJQbw/eGTAvPqD3vi6hMCfT/mPRWiHwPQM/jCq2XPAOWC5+YbhUsCNdnAwMLN/wLJvh1akem3A3NUUN+pJcsC9If4SWfJswLb15H/96kvAqTWQv1pQeMDFWidoiopQwAxNzeTHbFHA8LbhsE4gR8DB2yHLktSIwLX3F9COhmjAaRuUyNmIY8DztvFPpPl4wIuF79pBiWHAJqvl1NLfZ8A8KEKMbuSIwFXQnV1NW2HAsgLlon0iacDzpK2rk59LwGajbofuOX3Ayn20JQiNicDNfQBdCJBxwNXS5glMXWtAa0DqUhPPT8DyZNPea/2BwGjATNr+TTpApXRuXz+yWcA6eeyfDk1CwA==\",\"dtype\":\"float64\",\"shape\":[50]},\"pendingDeltaRate\":{\"__ndarray__\":\"AAAAAAAA8L8AAAAAAADwvwAAAAAAAPC/AAAAAAAA8L+s1qycUIsjQAAAAAAAAPC/AAAAAAAA8L8AAAAAAADwvwAAAAAAAPC/B2lxcdEMjj8AAAAAAADwvwAAAAAAAPC/AAAAAAAA8L8AAAAAAADwvwAAAAAAAPC/AAAAAAAA8L8AAAAAAADwvwAAAAAAAPC/AAAAAAAA8L8AAAAAAADwvwAAAAAAAPC/AAAAAAAA8L8AAAAAAADwvwAAAAAAAPC/AAAAAAAA8L8AAAAAAADwvwAAAAAAAPC/AAAAAAAA8L8AAAAAAADwvwAAAAAAAPC/7ZdU/rXF5L8AAAAAAADwvwAAAAAAAPC/AAAAAAAA8L8AAAAAAADwvwAAAAAAAPC/AAAAAAAA8L8AAAAAAADwvwAAAAAAAPC/AAAAAAAA8L8AAAAAAADwvwAAAAAAAPC/AAAAAAAA8L8AAAAAAADwv8Ob9RIckus/AAAAAAAA8L8AAAAAAADwv0YgRLv7S7s/AAAAAAAA8L8AAAAAAADwvw==\",\"dtype\":\"float64\",\"shape\":[50]},\"pendingShare\":{\"__ndarray__\":\"AAAAAAAAAAAAAAAAAAAAAAAAAAAAAAAAAAAAAAAAAAAfbaU85cXrPwAAAAAAAAAAAAAAAAAAAAAAAAAAAAAAAAAAAAAAAAAAIAuze5PWtD8AAAAAAAAAAAAAAAAAAAAAAAAAAAAAAAAAAAAAAAAAAAAAAAAAAAAAAAAAAAAAAAAAAAAAAAAAAAAAAAAAAAAAAAAAAAAAAAAAAAAAAAAAAAAAAAAAAAAAAAAAAAAAAAAAAAAAAAAAAAAAAAAAAAAAAAAAAAAAAAAAAAAAAAAAAAAAAAAAAAAAAAAAAAAAAAAAAAAAAAAAAAAAAAAAAAAAugwsr3HuWj8AAAAAAAAAAAAAAAAAAAAAAAAAAAAAAAAAAAAAAAAAAAAAAAAAAAAAAAAAAAAAAAAAAAAAAAAAAAAAAAAAAAAAAAAAAAAAAAAAAAAAAAAAAAAAAAAAAAAAAAAAAAAAAAAAAAAAAAAAAJG6lByu2J8/AAAAAAAAAAAAAAAAAAAAADS0/kR1YZI/AAAAAAAAAAAAAAAAAAAAAA==\",\"dtype\":\"float64\",\"shape\":[50]},\"population\":[734002,4908921,3038999,7378494,39937489,5845526,3563077,720687,982895,21992985,10736059,1412687,3179849,1826156,12659682,6745354,2910357,4499692,4645184,6976597,6083116,1345790,10045029,5700671,6169270,2989260,1086759,10611862,761723,1952570,1371246,8936574,2096640,3139658,11747694,3954821,4301089,12820878,1056161,5210095,903027,6897576,29472295,3282115,8626207,628061,7797095,5851754,1778070,567025],\"populationShare\":{\"__ndarray__\":\"vGpaaZ1HYz8VH31mGh6QP/eb0c+/9IM/bx34cts5mD8uiF0QF2TAP/NmpWVZMZM/wEF56sFlhz8HoOHaFO5iP1hRN/s70Wk/azSmGXMNsj8bDN2R/5+hP477Y9ShjXI/sLwx6obhhD+yZUhkxPt3P/zdB2duyKQ/hQvn3K4llj+NBrNyfhyDP3dqfTZEjI0/h/K5AtmAjj+mx4PTDOiWP6oIPxUN+ZM/mYShSrescT+I5EEBlX2gP3jruBCYt5I/ZcsGXXdBlD8Nu3aGIqGDP2jEQl+ki2w/Iy8rdc1roT+FytqUBAJkP7JGT3jJpHk/lP6TYU0Ccj8UK8MAeVedPxFi3CQriXs/PnF7ofadhD90YCFmJ0mjP0ywy8tN+Ik/Kn8i+2Y+jD+pnR4qLQylPziunLXkvWs/raCq1z8bkT9f01uDLrhnP8rml2WhpZY/q1KwQhkxuD+NGkxPcY2FPzk6d3KZUpw/RHyopz1/YD/Bj49ftJmZP0d+goOVNpM/gDQbkBhadz/FHYWCo8ldPw==\",\"dtype\":\"float64\",\"shape\":[50]},\"positive\":[277,3803,1410,3702,22348,7691,13381,1955,1761,21019,13621,504,1710,1453,22025,8236,1376,2048,21016,26867,8936,698,25635,1650,4388,2942,394,4816,331,871,1020,64584,1345,2971,6975,2069,1584,24199,2976,3439,868,5610,13906,2363,5747,748,10411,3428,633,275],\"positiveDelta\":{\"__ndarray__\":\"1PhvAohwg8D4OOiitEOhwGRxmcjVEKLAptXDTcrXtMBYEoeGr/LZwKAAMK1Tl4BAkMmr/FKcwUA6Zaa7+MCQQNSxh/uMaIFAaPnPINQft8CAgPYPYWl9QK1+KgGBKZPAe2BHc+IRocBAT+XGnX6IwKhlLZ5fdrlAAAC7XplEOsAPZ+Y9sRmhwFYWl8QwD6vArElr2BjvzUCwvkEiX+TRQABn9HWVM5dARlsI4HqzjcA4KkArggnKQHZ2+Fun1LTACr9F40PBqMBgESvf8XuGwIYkKRY4SY3ALMI3e0n2v8CK8arMK9CCwOKosG+twpfAkMXexuychMDHOgbStzDqQHKfHI2NHJPAXC3VRLRVi8AsVPZPjPa8wKYRuWBirqXApja/4qjIrMDnDNqxdpfAQONESGpOSZpAuEHS5IL9psCAfwVpRcNtwLimaLNxLabAzMJ404as1cA8B4UY0+SZwKyCuKgX07LAgLVxKhVNNcCwk1ffx+OKQIryn+hsN63AKoH6lLUjmMAQPPtkoDh6wA==\",\"dtype\":\"float64\",\"shape\":[50]},\"positiveDeltaRate\":{\"__ndarray__\":\"0x78+RAk5r9HCb/7eIXXv3TFn/z74OO/C6Hsb3Lk4r867ZW5kmHhvyDRxUx0+7I/BucBux6HAEBSjIs1N2/zP/w0YesCnd0/1rmCKMsgzL+CyU7gZVKiP2Mb6ozyrea/bsuvenXz4b+ZBel1RG3Wv8lFvMov59o/YmzjlGgLar/Ky/BX9aXjvzD8ibYDHOS/5b0xaIqMBUBizMmr4yYBQHkstcUugsk/tTWm5T5z4r/VMBth5lXxPx/PkE47cOi/lTwedRvW2r8WJAq2/ybJv9WneUJMh+a/bMiAdcck5L+CoEVcy6Xkv7bdXJChWOS/EUQIgEsi2b8BbbO/s5kTQAUrIzFHe96/co4VGCEdzb8Y5vIpHn3gv+NL66oeVeK/t1lkv/Rg5r/F5DrkXE/hP0EpEIOLzvQ/qt+cx/2C3b96flzrt43Lv5ogaQvugNW/vQicK2Os47+GpfKfzGHav7trn26VMN2/dazw33panL+BO6eXlhC3P5RjxfEgsuC/ZuXRzgyz5r+tIz8PaVTjvw==\",\"dtype\":\"float64\",\"shape\":[50]},\"positivePC\":{\"__ndarray__\":\"7SeodCGWd0AxEXEssjWIQNvrQzx//3xAIkNRiKdbf0ACTrONmHyBQBpxRA/UjpRAlgMXgexWrUB9Cqf7YDGlQCuY+5yV/ptAkFU77rXdjUAN0hM/3NKTQAdtZFVFTHZAP3OiUBfOgEBDD/F7SN2IQEQezr0ZL5tAU4Z2RvQTk0B+q6crtYx9QDEwpLVGcnxAiYfhckGssUDvNIorCRauQGM4gJrv85ZAKhgWWzw1gEDN0g9iBPCjQAuhJ6YIF3JAQ2jVbCM6hkDGQedBhcGOQNMCmO67qHZADv2/4k5dfECRaN6cqCh7QOvLeZdC4XtAZkmRzco+h0BV6hE77jq8QFAFVVAFDIRAN9cGVECSjUDrWqdM3o2CQOTYVodFWYBAogVwEHYEd0BH9Zx5332dQC64rSKBA6ZA+MU/loSghEDJ7l1LsQmOQMVx4zWiaolA34oux1N9fUAwUNFfs3+GQPWxXQvO0YRAObGOVN6bkkBZvZup9tyUQFMnzEZ1ToJAHoJETxBAdkAS2weIzE9+QA==\",\"dtype\":\"float64\",\"shape\":[50]},\"positiveRate\":{\"__ndarray__\":\"Uwew9OYcoj9Kzg8mQaTAPwEs4v26WbE/iXq8kgbdtT9peIesNKe8P5qJ/BENack/1Kq9tNlT0z/FwWK56+LGP/kTxLPkUcI/uGJo+OcQuz+iS5mYvGnOP37QYkJTk5o/aleidiVqtz/c0+r8Xpy4PzqGfI2Rp8o/nwgsyVirxz+D24pEcGi5P7L2vXgVprM/p+u8uArjyD/zNKWVUC3MP8rpZQomGsY/WkjNanEKrT+5LlHIFdrTP8jgyfMK/KU/xmcCkUqPtz+4dUXaxPWzP/JwFac7LKY/hSBllDJzsz8D8z4pY3CfP1qp03ojorM/n4USTK99tj/FuBdf9OzfP0+gRiZKiqU/NTaCo2HevT+0FSqSa2y7PwRAhD3BK7c/hD5QFVEPqj/qkNOHad3HP3pfSjMr1sA/vrW39tbeuj8fuw7JLa+4P98m2go22bI/5RpCc5W4uj+qBogVb2yqP6wGkXKgxME/n0u70AJ5sj+LAfEuyGm8P7g+6Ono1LU/SqRTePBZoz8W22yiupunPw==\",\"dtype\":\"float64\",\"shape\":[50]},\"positiveShare\":{\"__ndarray__\":\"P36nlZnCRz8HAOfFV2OEPxBxyyF+PG4/TYu/R7rYgz8EQyYIwfOtP5yuj8mrnZQ/+vURMh3voT+WvZ5QMfZ0Pz8C186w4XI/xYFw0MMrrD9UzrSvdUGiPzwxv/qgnVU/DCxC+bNVcj9W7kjfjChvPxzEZTTuhK0/3+99WagTlj/MqK+v14FtP3qPF9Z29XU/qnjeTrwqrD9OlY2NIAGyP0IzCeEB9Jc/mR7eAaPvXT+J8sD1xS2xP1h7/P0CsXE/db3ajjaGhz9cWAx2XYt/P2khwHLk5VA/s7O5uZzRiT+DdtCmYGRMP0qKmtSJrWI/63dBX4HfZT/dZysEzqPFPzRytFap12w/xG3URPfafz9yX5mGV7KSP1ONCS4bL3Y/+DiW6dn7cD83Go8obDewP308Gq+w6H8/B2hgdsdvgj+f+Hm7EZ1iP+ME+uJRE44/Py/mxD6joj8sb0X9F1Z5P58ug6xXz44/zjVjzk0KYD8/gaU+LOibP9Q3rbSuYII/4iCwa/klWz8gT/unrpZHPw==\",\"dtype\":\"float64\",\"shape\":[50]},\"positiveShareDelta\":{\"__ndarray__\":\"WBbhB+6tWr9GfCYOurF3v2Z/vY5Ay3i/ka8wnvyajL/a7qecTc6xv5B6pD4mxVY/FEvnblkrmD8l21vGTf5mP0xm7URL5Fc/RJxvi4m8j78gR/i6wy5UP35eaCtzTGq/VE0h21ltd78O3Ufp+85gv0DMu5r/eJE/AKYbaYMGEr+0OI4NEXh3v7qiccuIkYK/CPwvDoaKpD/JRlmxOo6oP8BUUV6m128/5vlTFJ1hZL+KAEDq9t2hP0SZc6Kuloy/VdkyK7j8gL/4doRbnttev7Sz4iWyGGS/bIR5jczulb/IWU3W2NFZv40BAo4ETnC/egrNxzJKXL96AhPk3vjBP+5RBPOsOmq/cOlE/OvBYr92YalF99+Tv0XTjWmAwX2/rmJXBnrAg7+KLf9NVsWWP2HlS1S+CXI/prLpcXCNf78Aa4cfc2xEv2KRa9Dhb36/F3Z6wPO+rb/uxVKhysRxv9NFazjb1Ym/gJ1RUfY7Db/wi6/4vnNiP7rEV1J8DIS/SCwvNZqQcL81docuTP5Rvw==\",\"dtype\":\"float64\",\"shape\":[50]},\"state\":[\"AK\",\"AL\",\"AR\",\"AZ\",\"CA\",\"CO\",\"CT\",\"DC\",\"DE\",\"FL\",\"GA\",\"HI\",\"IA\",\"ID\",\"IL\",\"IN\",\"KS\",\"KY\",\"LA\",\"MA\",\"MD\",\"ME\",\"MI\",\"MN\",\"MO\",\"MS\",\"MT\",\"NC\",\"ND\",\"NE\",\"NH\",\"NJ\",\"NM\",\"NV\",\"OH\",\"OK\",\"OR\",\"PA\",\"RI\",\"SC\",\"SD\",\"TN\",\"TX\",\"UT\",\"VA\",\"VT\",\"WA\",\"WI\",\"WV\",\"WY\"],\"state_name\":[\"Alaska\",\"Alabama\",\"Arkansas\",\"Arizona\",\"California\",\"Colorado\",\"Connecticut\",\"District of Columbia\",\"Delaware\",\"Florida\",\"Georgia\",\"Hawaii\",\"Iowa\",\"Idaho\",\"Illinois\",\"Indiana\",\"Kansas\",\"Kentucky\",\"Louisiana\",\"Massachusetts\",\"Maryland\",\"Maine\",\"Michigan\",\"Minnesota\",\"Missouri\",\"Mississippi\",\"Montana\",\"North Carolina\",\"North Dakota\",\"Nebraska\",\"New Hampshire\",\"New Jersey\",\"New Mexico\",\"Nevada\",\"Ohio\",\"Oklahoma\",\"Oregon\",\"Pennsylvania\",\"Rhode Island\",\"South Carolina\",\"South Dakota\",\"Tennessee\",\"Texas\",\"Utah\",\"Virginia\",\"Vermont\",\"Washington\",\"Wisconsin\",\"West Virginia\",\"Wyoming\"],\"testDelta\":{\"__ndarray__\":\"GPf/wYk2n0B4TP9LmA3DwLCd1BanH6rAWCNSJi/ZzcBgCAMMuLr8wJiKnUtvGr7ALhrPGW4+z0DhQwltb1e0QMcRLobvjbFAAAQ1F0t810A4QWnjYFPbwJ73po5oAcBAGB2YhgSrucDAEAXSM9uCQACJ3WFqNrRAlGhHpbmxwcDcGH/c0RbCwGSDvWu7t8HAiTHjWMdg8UDjv5OOUUPwQAB+LgxcrapAyGQRM4QxmUAA7YA5yxSmQIjAn3Vr1rrAoFiXxJfzlMBUJusKM07LQMCEaD8m6nxAXGHDZ2lx1MCRuJwvXXiyQJJQJDYVPrDAoNmYjNlQhkAk5wsTZYvsQHi3buMR581AQF25t7YigEDUBJWGvJLbwJQvFQn3usDA0NzdxLzep8CEzCWKY0PbQMkZF/phzMtALHQyAKjdwMCwH8nDQoqcQJIFqci/4tRArlCtbgSm+MBj24c82D7TQHyVP/eqgdrAg/XUi3D/tEAYkrDsmxnfQCCMtxzsnLjAfCrjPvt2pEBs0H7SuMmWQA==\",\"dtype\":\"float64\",\"shape\":[50]},\"testDeltaRate\":{\"__ndarray__\":\"a7sQnajr1T/EaBaphwHQvx/pdD19ucG/k1Yl8amu0L8K61K5cLvXvzChGYypPMW/rAd1AKAU4j+HAiYrXxntP2PBat6zaeI/j7zvf2WdwT/Rz66CA/7UvxPWfOJ5XOc/W7qGfd+k0L++/STna0qlP6GLjXowVqo/zaYqIZiixb8wzf5EqqHZv8qcijngPNC/ErfJq/fa/j8s323T2TnzP5kJW7G8FbI/HnyvWL5Mwz8aelnPWSGiP6RKYNMJasO/q8wjQZUCnL9eZIjprdXiP/1YhcwZbqs/MEV1VffGz7+Vi5+npv/oP+QqLnb0JtG/aWZvVSrHsD+27IVwGVjqP2Yn0nhQaO0/ek/KYpExlT+b6E5juFvTv3Ne5r0DctG/xpc7w+vitr++qdY62onRP2vtPOCWIvs/ovgrR/Gyyr9LvCUlrkrQP37TE1hP+dg/K0x+iVKX27/kJwkRYi7oP7atokrqV9m/53VvtOM78T+S0fVW23LgP4Ncq0JiWMG/rmMukla7xz/gMsdja7fUPw==\",\"dtype\":\"float64\",\"shape\":[50]},\"testPC\":{\"__ndarray__\":\"dHzn3sXVxEBwBFJHvka3QDZCB9isvbpA2sSqrMbytkCDTXvyfIezQPlZ2gCi47lA7IGpycxJyEAW8IdC0aHNQA6Ol60Pc8hAeicPlLynwUB9fOM6q9u0QA8F8yJt2cpAka6IQ4b3tkDJpbpfMyrAQAk0RCpbUcBAx/QdRurKuUAueAxArZuyQNYgLSD2KbdArYM8f1651kDiJ77HgxXRQJ1nJKioncBAC0xNJwncwUA4Wc4wrRHAQBy4uxHJVLpAA4FwEKEwvkCfSY+hbafIQNbJ5jTXWcBASrUJxlBVt0CPWX0wuKTLQJnQCdJvuLZAJz0BRmCJwECbc6qAxUvMQHM6p3MayM1Ad95oAHCuv0BgSvPYiKa1QLZ+z7YIlLZApL+oAZxDvEBNbhJrvsXDQOwxXRh769RAuyLjmo+QuEAykOraWHjDQMbpgTJRk8VAf70AhGGosUCLMEdVOj/LQNJzhL1xv7JAduFZCjEe0EC+Y6phMH/HQO3XDvM41bpASz/r0ZllwkAK5lsCB4vEQA==\",\"dtype\":\"float64\",\"shape\":[50]},\"testRate\":{\"__ndarray__\":\"iDDzxN3YhT8QIer3MWh4PyOyre81Cnw/h0GfMSYQeD/T0nXcV3p0P7+IxKOTJXs/Fago99V3iT9/0NBbThKPP8lmcvUZo4k/G658kEmDgj+1c4FyDN91P5fdt1NPJ4w/T4Dl1CAVeD+AMFLJN/OAP822RX5GHIE/E6/UiKgLez8c+S++E4NzP+HfbeYDSng/GPCFIvTTlz9tu0Fu9umRP5lSBthIbIE/K2XEgCC6gj+sblOigNmAP6ltUs85nHs/BfCPFw6ofz9EoY0eA9qJP6kFPAssJYE/79UJrXl3eD8HWVpsevyMP4D6Rd350nc/gY87PARXgT+GF7MapauNP6dzOqdzOo8/IcnDfjScgD8cKMjKxLN2P5hdtRLOrHc/DRrbGxajfT8HSsWCn7uEP8GoB/Gg75U/t7BlugjCeT98Nex7d2qEP/3rPiqen4Y/lUKAg/aDcj8gHel4DpKMPw82yQSVqHM/xzg0HaDmkD+G8+D/YaOIP8gr89zmInw/zcew2l9Kgz+LJ61pfYqFPw==\",\"dtype\":\"float64\",\"shape\":[50]},\"testShare\":{\"__ndarray__\":\"0to40RriaT901b5UYiyIP8s5ZRJTMYE/VweK9UbpkT9rXPLoOqC0P73E5iwoApA/R5RXyglPkj+vte4GbRJyP4v5l7EaVnQ/Y7fjMm+JtD+16f98F7CXP2SFlQCGDIA/FEtNtrTmfj/8ObljFPt4P2ltkqQb2qU/ltDcKF5nkj+CoAQPLep2P/hPayMYDYY/991M6PhUpj8umiBLNzepP18djCdCYpU/QNooVfNWdD+K2Ok6EhOhP9pp/AiswY8/7HHvBKCzkz9MH0wu2S6PP33a0fokE24/3eyijjoxmj+mjyMmsNFxPxVbICloxXI/b2Q3/HQwcz/BqdOYqb+qP5t9r6Sea4o/tNCzbDMLhT8WFRg/mOeaP7AsZFIV5II/ri/RBwG4iT8EYtD+vtCqP13TyPGTsoI/0bmFeJkTiz+tln2k58FtP6obPmf2e58/nsUmIF+Gqz/HviXVYeuSP4SDIIptG5E/FG01khcicT8k+bPNOGGjPzVpdGERnJA/FVsWZXauez+/9DKTArdjPw==\",\"dtype\":\"float64\",\"shape\":[50]},\"testShareDelta\":{\"__ndarray__\":\"WMB5n/VpSj9s0XbwpB9wv2ARY+tlG1a/YFi49VFCeb/iZ5Fv5k+ov7AR9cWJeWm/nM1rVKNwej9Xy/syxTZhP3xD8c/ytV0/wBfsyeDfgz8CXXRNzx+Hv3QejlnUFms/mFwsPLK4Zb9AiRru/+kvP9D2qNjTGmE/eNdRoIXybb8w2cKsn51uv/xpSEyw/G2/qsI8T4VpnT+2bL3CYYabP1BL0SRRk1Y/OK06VOBRRT9AgP40p69SP1i01WEQtma/IC/rAuu6Qb9+yKpPbRt3P1Bh8bgJeCg/0uJmt8BMgb+Oqdhut0JfP3SuuzyFfVu/sF02qnniMj9uKOQw2ieYPyWZgiQSTnk/gN0XzjJPKz+kV1UabVWHv3AOnuXhUGy/4HuKmi8zVL9sEcdSRxKHP55Pw4g1hnc/JB4+25iLbL84DYeE5CZIP8BpTAOqrIE/uN85ZdPbpL8BY/9aUkmAP2ptrdBXboa/5F3CfPHEYT8OxbB3elGKP5CocBAh1GS/VJrsU3dRUT9yl8FHw0hDPw==\",\"dtype\":\"float64\",\"shape\":[50]},\"totalTestResults\":[7830,29251,20804,43347,199667,38742,44309,10934,12304,198805,57327,19420,18696,15114,105768,44539,13864,26683,108091,122049,51751,12306,82644,38427,47680,37733,9098,63388,10781,11357,11610,129469,31970,25464,65112,22859,31121,129792,22625,32764,9002,76195,133226,45787,41401,10366,93802,40197,16748,5964]},\"selected\":{\"id\":\"1368\"},\"selection_policy\":{\"id\":\"1367\"}},\"id\":\"1004\",\"type\":\"ColumnDataSource\"},{\"attributes\":{\"source\":{\"id\":\"1004\"}},\"id\":\"1202\",\"type\":\"CDSView\"},{\"attributes\":{},\"id\":\"1221\",\"type\":\"CategoricalTicker\"},{\"attributes\":{},\"id\":\"1092\",\"type\":\"LinearScale\"},{\"attributes\":{},\"id\":\"1021\",\"type\":\"CategoricalTicker\"},{\"attributes\":{\"below\":[{\"id\":\"1096\"}],\"center\":[{\"id\":\"1099\"},{\"id\":\"1102\"}],\"left\":[{\"id\":\"1100\"}],\"plot_height\":1000,\"plot_width\":800,\"renderers\":[{\"id\":\"1121\"}],\"title\":{\"id\":\"1086\"},\"toolbar\":{\"id\":\"1110\"},\"toolbar_location\":\"above\",\"x_range\":{\"id\":\"1088\"},\"x_scale\":{\"id\":\"1092\"},\"y_range\":{\"id\":\"1090\"},\"y_scale\":{\"id\":\"1094\"}},\"id\":\"1085\",\"subtype\":\"Figure\",\"type\":\"Plot\"},{\"attributes\":{\"formatter\":{\"id\":\"1350\"},\"ticker\":{\"id\":\"1221\"}},\"id\":\"1220\",\"type\":\"CategoricalAxis\"},{\"attributes\":{\"axis\":{\"id\":\"1180\"},\"dimension\":1,\"grid_line_color\":null,\"ticker\":null},\"id\":\"1182\",\"type\":\"Grid\"},{\"attributes\":{\"axis\":{\"id\":\"1216\"},\"ticker\":null},\"id\":\"1219\",\"type\":\"Grid\"},{\"attributes\":{\"text\":\"COVID Hospitalized: 20,564 - Hospitalization Rate: 5.38%\"},\"id\":\"1086\",\"type\":\"Title\"},{\"attributes\":{\"end\":0.19858613540974615,\"start\":0},\"id\":\"1208\",\"type\":\"DataRange1d\"},{\"attributes\":{\"fill_alpha\":{\"value\":0.1},\"fill_color\":{\"value\":\"#1f77b4\"},\"height\":{\"value\":0.5},\"line_alpha\":{\"value\":0.1},\"line_color\":{\"value\":\"white\"},\"right\":{\"field\":\"death\"},\"y\":{\"field\":\"state_name\"}},\"id\":\"1080\",\"type\":\"HBar\"},{\"attributes\":{\"end\":3734.3952293305115,\"start\":0},\"id\":\"1088\",\"type\":\"DataRange1d\"},{\"attributes\":{},\"id\":\"1217\",\"type\":\"BasicTicker\"},{\"attributes\":{\"formatter\":{\"id\":\"1359\"},\"ticker\":{\"id\":\"1061\"}},\"id\":\"1060\",\"type\":\"CategoricalAxis\"},{\"attributes\":{\"overlay\":{\"id\":\"1370\"}},\"id\":\"1225\",\"type\":\"BoxZoomTool\"},{\"attributes\":{\"fill_alpha\":{\"value\":0.1},\"fill_color\":{\"value\":\"#1f77b4\"},\"height\":{\"value\":0.5},\"line_alpha\":{\"value\":0.1},\"line_color\":{\"value\":\"white\"},\"right\":{\"field\":\"positive\"},\"y\":{\"field\":\"state_name\"}},\"id\":\"1040\",\"type\":\"HBar\"},{\"attributes\":{},\"id\":\"1297\",\"type\":\"BasicTicker\"},{\"attributes\":{\"source\":{\"id\":\"1004\"}},\"id\":\"1042\",\"type\":\"CDSView\"},{\"attributes\":{},\"id\":\"1183\",\"type\":\"PanTool\"},{\"attributes\":{},\"id\":\"1224\",\"type\":\"WheelZoomTool\"},{\"attributes\":{\"fill_alpha\":{\"value\":0.1},\"fill_color\":{\"value\":\"#1f77b4\"},\"height\":{\"value\":0.5},\"line_alpha\":{\"value\":0.1},\"line_color\":{\"value\":\"white\"},\"right\":{\"field\":\"hospitalized\"},\"y\":{\"field\":\"state_name\"}},\"id\":\"1120\",\"type\":\"HBar\"},{\"attributes\":{},\"id\":\"1094\",\"type\":\"CategoricalScale\"},{\"attributes\":{},\"id\":\"1057\",\"type\":\"BasicTicker\"},{\"attributes\":{},\"id\":\"1223\",\"type\":\"PanTool\"},{\"attributes\":{\"active_drag\":\"auto\",\"active_inspect\":\"auto\",\"active_multi\":null,\"active_scroll\":\"auto\",\"active_tap\":\"auto\",\"tools\":[{\"id\":\"1223\"},{\"id\":\"1224\"},{\"id\":\"1225\"},{\"id\":\"1226\"},{\"id\":\"1227\"},{\"id\":\"1228\"},{\"id\":\"1229\"}]},\"id\":\"1230\",\"type\":\"Toolbar\"},{\"attributes\":{\"fill_alpha\":{\"value\":0.1},\"fill_color\":{\"value\":\"#1f77b4\"},\"height\":{\"value\":0.5},\"line_alpha\":{\"value\":0.1},\"line_color\":{\"value\":\"#1f77b4\"},\"right\":{\"field\":\"positiveDelta\"},\"y\":{\"field\":\"state_name\"}},\"id\":\"1200\",\"type\":\"HBar\"},{\"attributes\":{\"active_drag\":\"auto\",\"active_inspect\":\"auto\",\"active_multi\":null,\"active_scroll\":\"auto\",\"active_tap\":\"auto\",\"tools\":[{\"id\":\"1183\"},{\"id\":\"1184\"},{\"id\":\"1185\"},{\"id\":\"1186\"},{\"id\":\"1187\"},{\"id\":\"1188\"},{\"id\":\"1189\"}]},\"id\":\"1190\",\"type\":\"Toolbar\"},{\"attributes\":{\"axis\":{\"id\":\"1100\"},\"dimension\":1,\"grid_line_color\":null,\"ticker\":null},\"id\":\"1102\",\"type\":\"Grid\"},{\"attributes\":{\"format\":\"0.0000%\"},\"id\":\"1243\",\"type\":\"NumeralTickFormatter\"},{\"attributes\":{},\"id\":\"1067\",\"type\":\"ResetTool\"},{\"attributes\":{},\"id\":\"1066\",\"type\":\"SaveTool\"},{\"attributes\":{\"axis\":{\"id\":\"1176\"},\"ticker\":null},\"id\":\"1179\",\"type\":\"Grid\"},{\"attributes\":{\"axis\":{\"id\":\"1096\"},\"ticker\":null},\"id\":\"1099\",\"type\":\"Grid\"},{\"attributes\":{\"fill_color\":{\"value\":\"#1f77b4\"},\"height\":{\"value\":0.5},\"line_color\":{\"value\":\"#1f77b4\"},\"right\":{\"field\":\"positiveDelta\"},\"y\":{\"field\":\"state_name\"}},\"id\":\"1199\",\"type\":\"HBar\"},{\"attributes\":{\"fill_alpha\":{\"value\":0.1},\"fill_color\":{\"value\":\"#1f77b4\"},\"height\":{\"value\":0.5},\"line_alpha\":{\"value\":0.1},\"line_color\":{\"value\":\"#1f77b4\"},\"right\":{\"field\":\"positiveShare\"},\"y\":{\"field\":\"state_name\"}},\"id\":\"1240\",\"type\":\"HBar\"},{\"attributes\":{\"callback\":null,\"tooltips\":[[\"State\",\"@state_name\"],[\"Cases\",\"@positive{0,0}\"]]},\"id\":\"1029\",\"type\":\"HoverTool\"},{\"attributes\":{\"axis\":{\"id\":\"1056\"},\"ticker\":null},\"id\":\"1059\",\"type\":\"Grid\"},{\"attributes\":{},\"id\":\"1101\",\"type\":\"CategoricalTicker\"},{\"attributes\":{\"formatter\":{\"id\":\"1362\"},\"ticker\":{\"id\":\"1101\"}},\"id\":\"1100\",\"type\":\"CategoricalAxis\"},{\"attributes\":{},\"id\":\"1186\",\"type\":\"SaveTool\"},{\"attributes\":{\"source\":{\"id\":\"1004\"}},\"id\":\"1242\",\"type\":\"CDSView\"},{\"attributes\":{},\"id\":\"1103\",\"type\":\"PanTool\"},{\"attributes\":{},\"id\":\"1054\",\"type\":\"CategoricalScale\"},{\"attributes\":{\"axis_label\":\"Confirmed Hospitalizations\",\"formatter\":{\"id\":\"1123\"},\"ticker\":{\"id\":\"1097\"}},\"id\":\"1096\",\"type\":\"LinearAxis\"},{\"attributes\":{\"callback\":null,\"tooltips\":[[\"State\",\"@state_name\"],[\"Positive Share\",\"@positiveShare{0.0000%}\"]]},\"id\":\"1229\",\"type\":\"HoverTool\"},{\"attributes\":{},\"id\":\"1052\",\"type\":\"LinearScale\"},{\"attributes\":{\"end\":2885.23938480125,\"start\":0},\"id\":\"1048\",\"type\":\"DataRange1d\"},{\"attributes\":{\"overlay\":{\"id\":\"1369\"}},\"id\":\"1185\",\"type\":\"BoxZoomTool\"},{\"attributes\":{},\"id\":\"1228\",\"type\":\"HelpTool\"},{\"attributes\":{},\"id\":\"1027\",\"type\":\"ResetTool\"},{\"attributes\":{},\"id\":\"1097\",\"type\":\"BasicTicker\"},{\"attributes\":{},\"id\":\"1227\",\"type\":\"ResetTool\"},{\"attributes\":{\"fill_color\":{\"value\":\"#1f77b4\"},\"height\":{\"value\":0.5},\"line_color\":{\"value\":\"white\"},\"right\":{\"field\":\"hospitalized\"},\"y\":{\"field\":\"state_name\"}},\"id\":\"1119\",\"type\":\"HBar\"},{\"attributes\":{\"below\":[{\"id\":\"1056\"}],\"center\":[{\"id\":\"1059\"},{\"id\":\"1062\"}],\"left\":[{\"id\":\"1060\"}],\"plot_height\":1000,\"plot_width\":800,\"renderers\":[{\"id\":\"1081\"}],\"title\":{\"id\":\"1046\"},\"toolbar\":{\"id\":\"1070\"},\"toolbar_location\":\"above\",\"x_range\":{\"id\":\"1048\"},\"x_scale\":{\"id\":\"1052\"},\"y_range\":{\"id\":\"1050\"},\"y_scale\":{\"id\":\"1054\"}},\"id\":\"1045\",\"subtype\":\"Figure\",\"type\":\"Plot\"},{\"attributes\":{\"text\":\"COVID US Percentage Share of Confirmed Cases by State\"},\"id\":\"1206\",\"type\":\"Title\"},{\"attributes\":{},\"id\":\"1226\",\"type\":\"SaveTool\"},{\"attributes\":{},\"id\":\"1184\",\"type\":\"WheelZoomTool\"},{\"attributes\":{},\"id\":\"1023\",\"type\":\"PanTool\"},{\"attributes\":{\"active_drag\":\"auto\",\"active_inspect\":\"auto\",\"active_multi\":null,\"active_scroll\":\"auto\",\"active_tap\":\"auto\",\"tools\":[{\"id\":\"1143\"},{\"id\":\"1144\"},{\"id\":\"1145\"},{\"id\":\"1146\"},{\"id\":\"1147\"},{\"id\":\"1148\"},{\"id\":\"1149\"}]},\"id\":\"1150\",\"type\":\"Toolbar\"},{\"attributes\":{\"format\":\"0.0000%\"},\"id\":\"1283\",\"type\":\"NumeralTickFormatter\"},{\"attributes\":{},\"id\":\"1026\",\"type\":\"SaveTool\"},{\"attributes\":{\"overlay\":{\"id\":\"1372\"}},\"id\":\"1025\",\"type\":\"BoxZoomTool\"},{\"attributes\":{\"below\":[{\"id\":\"1256\"}],\"center\":[{\"id\":\"1259\"},{\"id\":\"1262\"}],\"left\":[{\"id\":\"1260\"}],\"plot_height\":1000,\"plot_width\":800,\"renderers\":[{\"id\":\"1281\"}],\"title\":{\"id\":\"1246\"},\"toolbar\":{\"id\":\"1270\"},\"toolbar_location\":\"above\",\"x_range\":{\"id\":\"1248\"},\"x_scale\":{\"id\":\"1252\"},\"y_range\":{\"id\":\"1250\"},\"y_scale\":{\"id\":\"1254\"}},\"id\":\"1245\",\"subtype\":\"Figure\",\"type\":\"Plot\"},{\"attributes\":{\"axis_label\":\"Confirmed Deaths\",\"formatter\":{\"id\":\"1083\"},\"ticker\":{\"id\":\"1057\"}},\"id\":\"1056\",\"type\":\"LinearAxis\"},{\"attributes\":{\"fill_color\":{\"value\":\"#1f77b4\"},\"height\":{\"value\":0.5},\"line_color\":{\"value\":\"white\"},\"right\":{\"field\":\"positive\"},\"y\":{\"field\":\"state_name\"}},\"id\":\"1039\",\"type\":\"HBar\"},{\"attributes\":{\"data_source\":{\"id\":\"1004\"},\"glyph\":{\"id\":\"1239\"},\"hover_glyph\":null,\"muted_glyph\":null,\"nonselection_glyph\":{\"id\":\"1240\"},\"selection_glyph\":null,\"view\":{\"id\":\"1242\"}},\"id\":\"1241\",\"type\":\"GlyphRenderer\"},{\"attributes\":{},\"id\":\"1188\",\"type\":\"HelpTool\"},{\"attributes\":{},\"id\":\"1064\",\"type\":\"WheelZoomTool\"},{\"attributes\":{},\"id\":\"1344\",\"type\":\"CategoricalTickFormatter\"},{\"attributes\":{},\"id\":\"1187\",\"type\":\"ResetTool\"},{\"attributes\":{},\"id\":\"1024\",\"type\":\"WheelZoomTool\"},{\"attributes\":{},\"id\":\"1106\",\"type\":\"SaveTool\"},{\"attributes\":{\"fill_color\":{\"value\":\"#1f77b4\"},\"height\":{\"value\":0.5},\"line_color\":{\"value\":\"#1f77b4\"},\"right\":{\"field\":\"positiveShare\"},\"y\":{\"field\":\"state_name\"}},\"id\":\"1239\",\"type\":\"HBar\"},{\"attributes\":{},\"id\":\"1063\",\"type\":\"PanTool\"},{\"attributes\":{},\"id\":\"1104\",\"type\":\"WheelZoomTool\"},{\"attributes\":{},\"id\":\"1254\",\"type\":\"CategoricalScale\"},{\"attributes\":{\"data_source\":{\"id\":\"1004\"},\"glyph\":{\"id\":\"1039\"},\"hover_glyph\":null,\"muted_glyph\":null,\"nonselection_glyph\":{\"id\":\"1040\"},\"selection_glyph\":null,\"view\":{\"id\":\"1042\"}},\"id\":\"1041\",\"type\":\"GlyphRenderer\"},{\"attributes\":{},\"id\":\"1061\",\"type\":\"CategoricalTicker\"},{\"attributes\":{},\"id\":\"1083\",\"type\":\"NumeralTickFormatter\"},{\"attributes\":{},\"id\":\"1252\",\"type\":\"LinearScale\"},{\"attributes\":{\"axis\":{\"id\":\"1060\"},\"dimension\":1,\"grid_line_color\":null,\"ticker\":null},\"id\":\"1062\",\"type\":\"Grid\"},{\"attributes\":{\"factors\":[\"Wyoming\",\"West Virginia\",\"Wisconsin\",\"Washington\",\"Vermont\",\"Virginia\",\"Utah\",\"Texas\",\"Tennessee\",\"South Dakota\",\"South Carolina\",\"Rhode Island\",\"Pennsylvania\",\"Oregon\",\"Oklahoma\",\"Ohio\",\"Nevada\",\"New Mexico\",\"New Jersey\",\"New Hampshire\",\"Nebraska\",\"North Dakota\",\"North Carolina\",\"Montana\",\"Mississippi\",\"Missouri\",\"Minnesota\",\"Michigan\",\"Maine\",\"Maryland\",\"Massachusetts\",\"Louisiana\",\"Kentucky\",\"Kansas\",\"Indiana\",\"Illinois\",\"Idaho\",\"Iowa\",\"Hawaii\",\"Georgia\",\"Florida\",\"Delaware\",\"District of Columbia\",\"Connecticut\",\"Colorado\",\"California\",\"Arizona\",\"Arkansas\",\"Alabama\",\"Alaska\"]},\"id\":\"1250\",\"type\":\"FactorRange\"},{\"attributes\":{},\"id\":\"1123\",\"type\":\"NumeralTickFormatter\"},{\"attributes\":{},\"id\":\"1174\",\"type\":\"CategoricalScale\"},{\"attributes\":{\"end\":0.21612280035964415,\"start\":0},\"id\":\"1248\",\"type\":\"DataRange1d\"},{\"attributes\":{\"fill_color\":{\"value\":\"#1f77b4\"},\"height\":{\"value\":0.5},\"line_color\":{\"value\":\"white\"},\"right\":{\"field\":\"death\"},\"y\":{\"field\":\"state_name\"}},\"id\":\"1079\",\"type\":\"HBar\"},{\"attributes\":{\"overlay\":{\"id\":\"1374\"}},\"id\":\"1105\",\"type\":\"BoxZoomTool\"},{\"attributes\":{\"callback\":null,\"tooltips\":[[\"State\",\"@state_name\"],[\"Positive Delta\",\"@positiveDelta{0,0}\"]]},\"id\":\"1189\",\"type\":\"HoverTool\"},{\"attributes\":{\"text\":\"COVID US Percentage Share of Deaths by State\"},\"id\":\"1246\",\"type\":\"Title\"},{\"attributes\":{\"active_drag\":\"auto\",\"active_inspect\":\"auto\",\"active_multi\":null,\"active_scroll\":\"auto\",\"active_tap\":\"auto\",\"tools\":[{\"id\":\"1023\"},{\"id\":\"1024\"},{\"id\":\"1025\"},{\"id\":\"1026\"},{\"id\":\"1027\"},{\"id\":\"1028\"},{\"id\":\"1029\"}]},\"id\":\"1030\",\"type\":\"Toolbar\"},{\"attributes\":{},\"id\":\"1177\",\"type\":\"BasicTicker\"},{\"attributes\":{\"below\":[{\"id\":\"1216\"}],\"center\":[{\"id\":\"1219\"},{\"id\":\"1222\"}],\"left\":[{\"id\":\"1220\"}],\"plot_height\":1000,\"plot_width\":800,\"renderers\":[{\"id\":\"1241\"}],\"title\":{\"id\":\"1206\"},\"toolbar\":{\"id\":\"1230\"},\"toolbar_location\":\"above\",\"x_range\":{\"id\":\"1208\"},\"x_scale\":{\"id\":\"1212\"},\"y_range\":{\"id\":\"1210\"},\"y_scale\":{\"id\":\"1214\"}},\"id\":\"1205\",\"subtype\":\"Figure\",\"type\":\"Plot\"},{\"attributes\":{\"below\":[{\"id\":\"1296\"}],\"center\":[{\"id\":\"1299\"},{\"id\":\"1302\"}],\"left\":[{\"id\":\"1300\"}],\"plot_height\":1000,\"plot_width\":800,\"renderers\":[{\"id\":\"1321\"}],\"title\":{\"id\":\"1286\"},\"toolbar\":{\"id\":\"1310\"},\"toolbar_location\":\"above\",\"x_range\":{\"id\":\"1288\"},\"x_scale\":{\"id\":\"1292\"},\"y_range\":{\"id\":\"1290\"},\"y_scale\":{\"id\":\"1294\"}},\"id\":\"1285\",\"subtype\":\"Figure\",\"type\":\"Plot\"},{\"attributes\":{\"axis_label\":\"Actual Covid Cases - Expected Covid Cases\",\"formatter\":{\"id\":\"1203\"},\"ticker\":{\"id\":\"1177\"}},\"id\":\"1176\",\"type\":\"LinearAxis\"},{\"attributes\":{},\"id\":\"1292\",\"type\":\"LinearScale\"},{\"attributes\":{\"overlay\":{\"id\":\"1373\"}},\"id\":\"1065\",\"type\":\"BoxZoomTool\"},{\"attributes\":{\"axis_label\":\"Confirmed Deaths as % of Total US Covid Deaths\",\"formatter\":{\"id\":\"1283\"},\"ticker\":{\"id\":\"1257\"}},\"id\":\"1256\",\"type\":\"LinearAxis\"},{\"attributes\":{\"factors\":[\"Wyoming\",\"West Virginia\",\"Wisconsin\",\"Washington\",\"Vermont\",\"Virginia\",\"Utah\",\"Texas\",\"Tennessee\",\"South Dakota\",\"South Carolina\",\"Rhode Island\",\"Pennsylvania\",\"Oregon\",\"Oklahoma\",\"Ohio\",\"Nevada\",\"New Mexico\",\"New Jersey\",\"New Hampshire\",\"Nebraska\",\"North Dakota\",\"North Carolina\",\"Montana\",\"Mississippi\",\"Missouri\",\"Minnesota\",\"Michigan\",\"Maine\",\"Maryland\",\"Massachusetts\",\"Louisiana\",\"Kentucky\",\"Kansas\",\"Indiana\",\"Illinois\",\"Idaho\",\"Iowa\",\"Hawaii\",\"Georgia\",\"Florida\",\"Delaware\",\"District of Columbia\",\"Connecticut\",\"Colorado\",\"California\",\"Arizona\",\"Arkansas\",\"Alabama\",\"Alaska\"]},\"id\":\"1050\",\"type\":\"FactorRange\"},{\"attributes\":{},\"id\":\"1203\",\"type\":\"NumeralTickFormatter\"},{\"attributes\":{\"fill_color\":{\"value\":\"#1f77b4\"},\"height\":{\"value\":0.5},\"line_color\":{\"value\":\"#1f77b4\"},\"right\":{\"field\":\"infectionRate\"},\"y\":{\"field\":\"state_name\"}},\"id\":\"1159\",\"type\":\"HBar\"},{\"attributes\":{\"data_source\":{\"id\":\"1004\"},\"glyph\":{\"id\":\"1199\"},\"hover_glyph\":null,\"muted_glyph\":null,\"nonselection_glyph\":{\"id\":\"1200\"},\"selection_glyph\":null,\"view\":{\"id\":\"1202\"}},\"id\":\"1201\",\"type\":\"GlyphRenderer\"}],\"root_ids\":[\"1333\"]},\"title\":\"Bokeh Application\",\"version\":\"2.0.0\"}};\n",
       "  var render_items = [{\"docid\":\"7e6710c9-fe7a-4130-888a-68fded7bfbc0\",\"root_ids\":[\"1333\"],\"roots\":{\"1333\":\"d9cca7e5-21f5-4ace-9cf3-d9fe5ec9651d\"}}];\n",
       "  root.Bokeh.embed.embed_items_notebook(docs_json, render_items);\n",
       "\n",
       "  }\n",
       "  if (root.Bokeh !== undefined) {\n",
       "    embed_document(root);\n",
       "  } else {\n",
       "    var attempts = 0;\n",
       "    var timer = setInterval(function(root) {\n",
       "      if (root.Bokeh !== undefined) {\n",
       "        clearInterval(timer);\n",
       "        embed_document(root);\n",
       "      } else {\n",
       "        attempts++;\n",
       "        if (attempts > 100) {\n",
       "          clearInterval(timer);\n",
       "          console.log(\"Bokeh: ERROR: Unable to run BokehJS code because BokehJS library is missing\");\n",
       "        }\n",
       "      }\n",
       "    }, 10, root)\n",
       "  }\n",
       "})(window);"
      ],
      "application/vnd.bokehjs_exec.v0+json": ""
     },
     "metadata": {
      "application/vnd.bokehjs_exec.v0+json": {
       "id": "1333"
      }
     },
     "output_type": "display_data"
    }
   ],
   "source": [
    "source = ColumnDataSource(data=covid)\n",
    "plot_height = 1000\n",
    "plot_width = 800\n",
    "width = 0.5\n",
    "\n",
    "panels = []\n",
    "\n",
    "title_p = \"COVID Confirmed: {:,} - Death Rate: {:.2%} - Hosp. Rate: {:.2%}\".format(total_positives, death_rate, hospitalization_rate)\n",
    "title_q = \"COVID Deaths: {:,} - Death Rate: {:.2%}\".format(total_deaths, death_rate)\n",
    "title_z = \"COVID Hospitalized: {:,} - Hospitalization Rate: {:.2%}\".format(total_hospitalized, hospitalization_rate)\n",
    "title_x = \"COVID US National Infection Rate: {:.4%}\".format(infection_rate)\n",
    "title_y = \"COVID US Confirmed / Expected Delta\"\n",
    "title_m = \"COVID US Percentage Share of Confirmed Cases by State\"\n",
    "title_n = \"COVID US Percentage Share of Deaths by State\"\n",
    "title_o = \"COVID US Percentage Share of Hospitalizations by State\" # FIX O\n",
    "\n",
    "pTOOLTIPS = [\n",
    "    (\"State\", \"@state_name\"),\n",
    "    (\"Cases\", \"@positive{0,0}\"),\n",
    "]\n",
    "qTOOLTIPS = [\n",
    "    (\"State\", \"@state_name\"),\n",
    "    (\"Deaths\", \"@death{0,0}\"),\n",
    "]\n",
    "zTOOLTIPS = [\n",
    "    (\"State\", \"@state_name\"),\n",
    "    (\"Hospitalized\", \"@hospitalized{0,0}\"),\n",
    "]\n",
    "xTOOLTIPS = [\n",
    "    (\"State\", \"@state_name\"),\n",
    "    (\"Inf. Rate\", \"@infectionRate{0.0000%}\"),\n",
    "]\n",
    "yTOOLTIPS = [\n",
    "    (\"State\", \"@state_name\"),\n",
    "    (\"Positive Delta\", \"@positiveDelta{0,0}\"),\n",
    "]\n",
    "mTOOLTIPS = [\n",
    "    (\"State\", \"@state_name\"),\n",
    "    (\"Positive Share\", \"@positiveShare{0.0000%}\"),\n",
    "]\n",
    "nTOOLTIPS = [\n",
    "    (\"State\", \"@state_name\"),\n",
    "    (\"Death Share\", \"@deathShare{0.0000%}\"),\n",
    "]\n",
    "oTOOLTIPS = [\n",
    "    (\"State\", \"@state_name\"),\n",
    "    (\"Hosp. Share\", \"@hospitalShare{0.0000%}\"),\n",
    "]\n",
    "\n",
    "alpha_index = index[::-1]\n",
    "\n",
    "p = figure(y_range=alpha_index, plot_height=plot_height, plot_width=plot_width, title=title_p, toolbar_location=\"above\", tooltips=pTOOLTIPS)\n",
    "p.hbar(y='state_name', right='positive', height=width, source=source, line_color='white')\n",
    "p.ygrid.grid_line_color = None\n",
    "p.x_range.start = 0\n",
    "p.x_range.end = covid['positive'].max() + covid['positive'].std()\n",
    "#p.yaxis.major_label_orientation = math.pi / 4\n",
    "p.xaxis.axis_label = \"Confirmed Cases\"\n",
    "p.xaxis.formatter = NumeralTickFormatter(format=\"0,0\")\n",
    "\n",
    "q = figure(y_range=alpha_index, plot_height=plot_height, plot_width=plot_width, title=title_q, toolbar_location=\"above\", tooltips=qTOOLTIPS)\n",
    "q.hbar(y='state_name', right='death', height=width, source=source, line_color='white')\n",
    "q.ygrid.grid_line_color = None\n",
    "q.x_range.start = 0\n",
    "q.x_range.end = covid['death'].max() + covid['death'].std()\n",
    "#q.xaxis.major_label_orientation = math.pi / 4\n",
    "q.xaxis.axis_label = \"Confirmed Deaths\"\n",
    "q.xaxis.formatter = NumeralTickFormatter(format=\"0,0\")\n",
    "\n",
    "z = figure(y_range=alpha_index, plot_height=plot_height, plot_width=plot_width, title=title_z, toolbar_location=\"above\", tooltips=zTOOLTIPS)\n",
    "z.hbar(y='state_name', right='hospitalized', height=width, source=source, line_color='white')\n",
    "z.ygrid.grid_line_color = None\n",
    "z.x_range.start = 0\n",
    "z.x_range.end = covid['hospitalized'].max() + covid['hospitalized'].std()\n",
    "#z.xaxis.major_label_orientation = math.pi / 4\n",
    "z.xaxis.axis_label = \"Confirmed Hospitalizations\"\n",
    "z.xaxis.formatter = NumeralTickFormatter(format=\"0,0\")\n",
    "\n",
    "x = figure(y_range=alpha_index, plot_height=plot_height, plot_width=plot_width, title=title_x, toolbar_location=\"above\", tooltips=xTOOLTIPS)\n",
    "x.hbar(y='state_name', right='infectionRate', height=width, source=source)\n",
    "x.ygrid.grid_line_color = None\n",
    "x.x_range.start = 0\n",
    "x.x_range.end = covid['infectionRate'].max() + covid['infectionRate'].std()\n",
    "#x.xaxis.major_label_orientation = math.pi / 4\n",
    "x.xaxis.axis_label = \"Confirmed Cases as % of State Population\"\n",
    "x.xaxis.formatter = NumeralTickFormatter(format=\"0.0000%\")\n",
    "\n",
    "y = figure(y_range=alpha_index, plot_height=plot_height, plot_width=plot_width, title=title_y, toolbar_location=\"above\", tooltips=yTOOLTIPS)\n",
    "y.hbar(y='state_name', right='positiveDelta', height=width, source=source)\n",
    "y.ygrid.grid_line_color = None\n",
    "y.x_range.start = covid['positiveDelta'].min() - covid['positiveDelta'].std()\n",
    "y.x_range.end = covid['positiveDelta'].max() + covid['positiveDelta'].std()\n",
    "#y.xaxis.major_label_orientation = math.pi / 4\n",
    "y.xaxis.axis_label = \"Actual Covid Cases - Expected Covid Cases\"\n",
    "y.xaxis.formatter = NumeralTickFormatter(format=\"0,0\")\n",
    "\n",
    "m = figure(y_range=alpha_index, plot_height=plot_height, plot_width=plot_width, title=title_m, toolbar_location=\"above\", tooltips=mTOOLTIPS)\n",
    "m.hbar(y='state_name', right='positiveShare', height=width, source=source)\n",
    "m.ygrid.grid_line_color = None\n",
    "m.x_range.start = 0\n",
    "m.x_range.end = covid['positiveShare'].max() + covid['positiveShare'].std()\n",
    "#m.xaxis.major_label_orientation = math.pi / 4\n",
    "m.xaxis.axis_label = \"Confirmed Cases as % of Total US Cases\"\n",
    "m.xaxis.formatter = NumeralTickFormatter(format=\"0.0000%\")\n",
    "\n",
    "n = figure(y_range=alpha_index, plot_height=plot_height, plot_width=plot_width, title=title_n, toolbar_location=\"above\", tooltips=nTOOLTIPS)\n",
    "n.hbar(y='state_name', right='deathShare', height=width, source=source)\n",
    "n.ygrid.grid_line_color = None\n",
    "n.x_range.start = 0\n",
    "n.x_range.end = covid['deathShare'].max() + covid['deathShare'].std()\n",
    "#n.xaxis.major_label_orientation = math.pi / 4\n",
    "n.xaxis.axis_label = \"Confirmed Deaths as % of Total US Covid Deaths\"\n",
    "n.xaxis.formatter = NumeralTickFormatter(format=\"0.0000%\")\n",
    "\n",
    "o = figure(y_range=alpha_index, plot_height=plot_height, plot_width=plot_width, title=title_o, toolbar_location=\"above\", tooltips=oTOOLTIPS)\n",
    "o.hbar(y='state_name', right='hospitalShare', height=width, source=source)\n",
    "o.ygrid.grid_line_color = None\n",
    "o.x_range.start = 0\n",
    "o.x_range.end = covid['hospitalShare'].max() + covid['hospitalShare'].std()\n",
    "#o.xaxis.major_label_orientation = math.pi / 4\n",
    "o.xaxis.axis_label = \"Confirmed Recoveries as % of Total US Recoveries\"\n",
    "o.xaxis.formatter = NumeralTickFormatter(format=\"0.0000%\")\n",
    "\n",
    "charts = [\n",
    "    (x, \"Infection Rate\"),\n",
    "    (y, \"Positive Delta\"),\n",
    "    (m, \"Positive Share\"),\n",
    "    (n, \"Death Share\"),\n",
    "    (p, \"Positives\"),\n",
    "    (q, \"Deaths\"),\n",
    "    (z, \"Hospitalized\"),\n",
    "    (o, \"Hospitalized Share\"),\n",
    "]\n",
    "\n",
    "for viz, title in charts:\n",
    "    panel = Panel(child=viz, title=title)\n",
    "    panels.append(panel)\n",
    "\n",
    "tabs = Tabs(tabs=panels)\n",
    "\n",
    "show(tabs)"
   ]
  },
  {
   "cell_type": "code",
   "execution_count": 17,
   "metadata": {
    "jupyter": {
     "source_hidden": true
    }
   },
   "outputs": [
    {
     "data": {
      "application/vnd.plotly.v1+json": {
       "config": {
        "plotlyServerURL": "https://plot.ly"
       },
       "data": [
        {
         "marker": {
          "color": [
           "red",
           "red",
           "red",
           "red",
           "red",
           "red",
           "red",
           "red",
           "red",
           "red",
           "red",
           "red",
           "red",
           "red",
           "green",
           "green",
           "green",
           "green",
           "green",
           "green",
           "green",
           "green",
           "green",
           "green",
           "green",
           "green",
           "green",
           "green",
           "green",
           "green",
           "green",
           "green",
           "green",
           "green",
           "green",
           "green",
           "green",
           "green",
           "green",
           "green",
           "green",
           "green",
           "green",
           "green",
           "green",
           "green",
           "green",
           "green",
           "green",
           "green"
          ]
         },
         "type": "bar",
         "x": [
          "NJ",
          "MA",
          "LA",
          "MI",
          "CT",
          "PA",
          "IL",
          "RI",
          "MD",
          "DC",
          "WA",
          "DE",
          "CO",
          "GA",
          "VT",
          "IN",
          "SD",
          "WY",
          "ND",
          "AK",
          "NH",
          "MS",
          "ID",
          "NV",
          "MT",
          "ME",
          "NM",
          "HI",
          "NE",
          "WV",
          "UT",
          "IA",
          "KS",
          "AL",
          "AR",
          "OK",
          "TN",
          "SC",
          "MO",
          "KY",
          "OR",
          "WI",
          "VA",
          "MN",
          "AZ",
          "FL",
          "OH",
          "NC",
          "TX",
          "CA"
         ],
         "y": [
          0.14040743004263218,
          0.047960123204246204,
          0.04011935160814778,
          0.03489657983300372,
          0.02360286464120083,
          0.02223715640120142,
          0.0170631349746595,
          0.004403823350679432,
          0.0038870095618600276,
          0.0028068083801103976,
          0.002252457610198537,
          0.0014582381297344625,
          0.001389777515732913,
          0.0012318526677330202,
          -5.575986339395166e-05,
          -6.876160685078542e-05,
          -0.0006232797741703988,
          -0.00109822692512952,
          -0.001575910334585028,
          -0.001628382160121863,
          -0.0017266746428538358,
          -0.0018834158382285398,
          -0.002051822675862908,
          -0.002289734753643184,
          -0.0024531821682871272,
          -0.002487952037540031,
          -0.003201806823321932,
          -0.003210282269048125,
          -0.003980653564326875,
          -0.004044153570201443,
          -0.004338065647219376,
          -0.0057195196150872825,
          -0.005729738820163078,
          -0.0057847278389138775,
          -0.006053211381953227,
          -0.007264615641237542,
          -0.0074309178223511425,
          -0.007703246343777314,
          -0.00829452401954415,
          -0.009066647251715455,
          -0.009644463842890385,
          -0.009789439452079985,
          -0.012614929827949794,
          -0.013959278423908324,
          -0.013967488839703697,
          -0.015496325080631597,
          -0.019409049631890572,
          -0.021418758521012313,
          -0.05809747433270845,
          -0.0695541865788373
         ]
        }
       ],
       "layout": {
        "autosize": false,
        "height": 800,
        "margin": {
         "b": 100,
         "l": 50,
         "pad": 4,
         "r": 50,
         "t": 100
        },
        "template": {
         "data": {
          "bar": [
           {
            "error_x": {
             "color": "#2a3f5f"
            },
            "error_y": {
             "color": "#2a3f5f"
            },
            "marker": {
             "line": {
              "color": "#E5ECF6",
              "width": 0.5
             }
            },
            "type": "bar"
           }
          ],
          "barpolar": [
           {
            "marker": {
             "line": {
              "color": "#E5ECF6",
              "width": 0.5
             }
            },
            "type": "barpolar"
           }
          ],
          "carpet": [
           {
            "aaxis": {
             "endlinecolor": "#2a3f5f",
             "gridcolor": "white",
             "linecolor": "white",
             "minorgridcolor": "white",
             "startlinecolor": "#2a3f5f"
            },
            "baxis": {
             "endlinecolor": "#2a3f5f",
             "gridcolor": "white",
             "linecolor": "white",
             "minorgridcolor": "white",
             "startlinecolor": "#2a3f5f"
            },
            "type": "carpet"
           }
          ],
          "choropleth": [
           {
            "colorbar": {
             "outlinewidth": 0,
             "ticks": ""
            },
            "type": "choropleth"
           }
          ],
          "contour": [
           {
            "colorbar": {
             "outlinewidth": 0,
             "ticks": ""
            },
            "colorscale": [
             [
              0,
              "#0d0887"
             ],
             [
              0.1111111111111111,
              "#46039f"
             ],
             [
              0.2222222222222222,
              "#7201a8"
             ],
             [
              0.3333333333333333,
              "#9c179e"
             ],
             [
              0.4444444444444444,
              "#bd3786"
             ],
             [
              0.5555555555555556,
              "#d8576b"
             ],
             [
              0.6666666666666666,
              "#ed7953"
             ],
             [
              0.7777777777777778,
              "#fb9f3a"
             ],
             [
              0.8888888888888888,
              "#fdca26"
             ],
             [
              1,
              "#f0f921"
             ]
            ],
            "type": "contour"
           }
          ],
          "contourcarpet": [
           {
            "colorbar": {
             "outlinewidth": 0,
             "ticks": ""
            },
            "type": "contourcarpet"
           }
          ],
          "heatmap": [
           {
            "colorbar": {
             "outlinewidth": 0,
             "ticks": ""
            },
            "colorscale": [
             [
              0,
              "#0d0887"
             ],
             [
              0.1111111111111111,
              "#46039f"
             ],
             [
              0.2222222222222222,
              "#7201a8"
             ],
             [
              0.3333333333333333,
              "#9c179e"
             ],
             [
              0.4444444444444444,
              "#bd3786"
             ],
             [
              0.5555555555555556,
              "#d8576b"
             ],
             [
              0.6666666666666666,
              "#ed7953"
             ],
             [
              0.7777777777777778,
              "#fb9f3a"
             ],
             [
              0.8888888888888888,
              "#fdca26"
             ],
             [
              1,
              "#f0f921"
             ]
            ],
            "type": "heatmap"
           }
          ],
          "heatmapgl": [
           {
            "colorbar": {
             "outlinewidth": 0,
             "ticks": ""
            },
            "colorscale": [
             [
              0,
              "#0d0887"
             ],
             [
              0.1111111111111111,
              "#46039f"
             ],
             [
              0.2222222222222222,
              "#7201a8"
             ],
             [
              0.3333333333333333,
              "#9c179e"
             ],
             [
              0.4444444444444444,
              "#bd3786"
             ],
             [
              0.5555555555555556,
              "#d8576b"
             ],
             [
              0.6666666666666666,
              "#ed7953"
             ],
             [
              0.7777777777777778,
              "#fb9f3a"
             ],
             [
              0.8888888888888888,
              "#fdca26"
             ],
             [
              1,
              "#f0f921"
             ]
            ],
            "type": "heatmapgl"
           }
          ],
          "histogram": [
           {
            "marker": {
             "colorbar": {
              "outlinewidth": 0,
              "ticks": ""
             }
            },
            "type": "histogram"
           }
          ],
          "histogram2d": [
           {
            "colorbar": {
             "outlinewidth": 0,
             "ticks": ""
            },
            "colorscale": [
             [
              0,
              "#0d0887"
             ],
             [
              0.1111111111111111,
              "#46039f"
             ],
             [
              0.2222222222222222,
              "#7201a8"
             ],
             [
              0.3333333333333333,
              "#9c179e"
             ],
             [
              0.4444444444444444,
              "#bd3786"
             ],
             [
              0.5555555555555556,
              "#d8576b"
             ],
             [
              0.6666666666666666,
              "#ed7953"
             ],
             [
              0.7777777777777778,
              "#fb9f3a"
             ],
             [
              0.8888888888888888,
              "#fdca26"
             ],
             [
              1,
              "#f0f921"
             ]
            ],
            "type": "histogram2d"
           }
          ],
          "histogram2dcontour": [
           {
            "colorbar": {
             "outlinewidth": 0,
             "ticks": ""
            },
            "colorscale": [
             [
              0,
              "#0d0887"
             ],
             [
              0.1111111111111111,
              "#46039f"
             ],
             [
              0.2222222222222222,
              "#7201a8"
             ],
             [
              0.3333333333333333,
              "#9c179e"
             ],
             [
              0.4444444444444444,
              "#bd3786"
             ],
             [
              0.5555555555555556,
              "#d8576b"
             ],
             [
              0.6666666666666666,
              "#ed7953"
             ],
             [
              0.7777777777777778,
              "#fb9f3a"
             ],
             [
              0.8888888888888888,
              "#fdca26"
             ],
             [
              1,
              "#f0f921"
             ]
            ],
            "type": "histogram2dcontour"
           }
          ],
          "mesh3d": [
           {
            "colorbar": {
             "outlinewidth": 0,
             "ticks": ""
            },
            "type": "mesh3d"
           }
          ],
          "parcoords": [
           {
            "line": {
             "colorbar": {
              "outlinewidth": 0,
              "ticks": ""
             }
            },
            "type": "parcoords"
           }
          ],
          "pie": [
           {
            "automargin": true,
            "type": "pie"
           }
          ],
          "scatter": [
           {
            "marker": {
             "colorbar": {
              "outlinewidth": 0,
              "ticks": ""
             }
            },
            "type": "scatter"
           }
          ],
          "scatter3d": [
           {
            "line": {
             "colorbar": {
              "outlinewidth": 0,
              "ticks": ""
             }
            },
            "marker": {
             "colorbar": {
              "outlinewidth": 0,
              "ticks": ""
             }
            },
            "type": "scatter3d"
           }
          ],
          "scattercarpet": [
           {
            "marker": {
             "colorbar": {
              "outlinewidth": 0,
              "ticks": ""
             }
            },
            "type": "scattercarpet"
           }
          ],
          "scattergeo": [
           {
            "marker": {
             "colorbar": {
              "outlinewidth": 0,
              "ticks": ""
             }
            },
            "type": "scattergeo"
           }
          ],
          "scattergl": [
           {
            "marker": {
             "colorbar": {
              "outlinewidth": 0,
              "ticks": ""
             }
            },
            "type": "scattergl"
           }
          ],
          "scattermapbox": [
           {
            "marker": {
             "colorbar": {
              "outlinewidth": 0,
              "ticks": ""
             }
            },
            "type": "scattermapbox"
           }
          ],
          "scatterpolar": [
           {
            "marker": {
             "colorbar": {
              "outlinewidth": 0,
              "ticks": ""
             }
            },
            "type": "scatterpolar"
           }
          ],
          "scatterpolargl": [
           {
            "marker": {
             "colorbar": {
              "outlinewidth": 0,
              "ticks": ""
             }
            },
            "type": "scatterpolargl"
           }
          ],
          "scatterternary": [
           {
            "marker": {
             "colorbar": {
              "outlinewidth": 0,
              "ticks": ""
             }
            },
            "type": "scatterternary"
           }
          ],
          "surface": [
           {
            "colorbar": {
             "outlinewidth": 0,
             "ticks": ""
            },
            "colorscale": [
             [
              0,
              "#0d0887"
             ],
             [
              0.1111111111111111,
              "#46039f"
             ],
             [
              0.2222222222222222,
              "#7201a8"
             ],
             [
              0.3333333333333333,
              "#9c179e"
             ],
             [
              0.4444444444444444,
              "#bd3786"
             ],
             [
              0.5555555555555556,
              "#d8576b"
             ],
             [
              0.6666666666666666,
              "#ed7953"
             ],
             [
              0.7777777777777778,
              "#fb9f3a"
             ],
             [
              0.8888888888888888,
              "#fdca26"
             ],
             [
              1,
              "#f0f921"
             ]
            ],
            "type": "surface"
           }
          ],
          "table": [
           {
            "cells": {
             "fill": {
              "color": "#EBF0F8"
             },
             "line": {
              "color": "white"
             }
            },
            "header": {
             "fill": {
              "color": "#C8D4E3"
             },
             "line": {
              "color": "white"
             }
            },
            "type": "table"
           }
          ]
         },
         "layout": {
          "annotationdefaults": {
           "arrowcolor": "#2a3f5f",
           "arrowhead": 0,
           "arrowwidth": 1
          },
          "coloraxis": {
           "colorbar": {
            "outlinewidth": 0,
            "ticks": ""
           }
          },
          "colorscale": {
           "diverging": [
            [
             0,
             "#8e0152"
            ],
            [
             0.1,
             "#c51b7d"
            ],
            [
             0.2,
             "#de77ae"
            ],
            [
             0.3,
             "#f1b6da"
            ],
            [
             0.4,
             "#fde0ef"
            ],
            [
             0.5,
             "#f7f7f7"
            ],
            [
             0.6,
             "#e6f5d0"
            ],
            [
             0.7,
             "#b8e186"
            ],
            [
             0.8,
             "#7fbc41"
            ],
            [
             0.9,
             "#4d9221"
            ],
            [
             1,
             "#276419"
            ]
           ],
           "sequential": [
            [
             0,
             "#0d0887"
            ],
            [
             0.1111111111111111,
             "#46039f"
            ],
            [
             0.2222222222222222,
             "#7201a8"
            ],
            [
             0.3333333333333333,
             "#9c179e"
            ],
            [
             0.4444444444444444,
             "#bd3786"
            ],
            [
             0.5555555555555556,
             "#d8576b"
            ],
            [
             0.6666666666666666,
             "#ed7953"
            ],
            [
             0.7777777777777778,
             "#fb9f3a"
            ],
            [
             0.8888888888888888,
             "#fdca26"
            ],
            [
             1,
             "#f0f921"
            ]
           ],
           "sequentialminus": [
            [
             0,
             "#0d0887"
            ],
            [
             0.1111111111111111,
             "#46039f"
            ],
            [
             0.2222222222222222,
             "#7201a8"
            ],
            [
             0.3333333333333333,
             "#9c179e"
            ],
            [
             0.4444444444444444,
             "#bd3786"
            ],
            [
             0.5555555555555556,
             "#d8576b"
            ],
            [
             0.6666666666666666,
             "#ed7953"
            ],
            [
             0.7777777777777778,
             "#fb9f3a"
            ],
            [
             0.8888888888888888,
             "#fdca26"
            ],
            [
             1,
             "#f0f921"
            ]
           ]
          },
          "colorway": [
           "#636efa",
           "#EF553B",
           "#00cc96",
           "#ab63fa",
           "#FFA15A",
           "#19d3f3",
           "#FF6692",
           "#B6E880",
           "#FF97FF",
           "#FECB52"
          ],
          "font": {
           "color": "#2a3f5f"
          },
          "geo": {
           "bgcolor": "white",
           "lakecolor": "white",
           "landcolor": "#E5ECF6",
           "showlakes": true,
           "showland": true,
           "subunitcolor": "white"
          },
          "hoverlabel": {
           "align": "left"
          },
          "hovermode": "closest",
          "mapbox": {
           "style": "light"
          },
          "paper_bgcolor": "white",
          "plot_bgcolor": "#E5ECF6",
          "polar": {
           "angularaxis": {
            "gridcolor": "white",
            "linecolor": "white",
            "ticks": ""
           },
           "bgcolor": "#E5ECF6",
           "radialaxis": {
            "gridcolor": "white",
            "linecolor": "white",
            "ticks": ""
           }
          },
          "scene": {
           "xaxis": {
            "backgroundcolor": "#E5ECF6",
            "gridcolor": "white",
            "gridwidth": 2,
            "linecolor": "white",
            "showbackground": true,
            "ticks": "",
            "zerolinecolor": "white"
           },
           "yaxis": {
            "backgroundcolor": "#E5ECF6",
            "gridcolor": "white",
            "gridwidth": 2,
            "linecolor": "white",
            "showbackground": true,
            "ticks": "",
            "zerolinecolor": "white"
           },
           "zaxis": {
            "backgroundcolor": "#E5ECF6",
            "gridcolor": "white",
            "gridwidth": 2,
            "linecolor": "white",
            "showbackground": true,
            "ticks": "",
            "zerolinecolor": "white"
           }
          },
          "shapedefaults": {
           "line": {
            "color": "#2a3f5f"
           }
          },
          "ternary": {
           "aaxis": {
            "gridcolor": "white",
            "linecolor": "white",
            "ticks": ""
           },
           "baxis": {
            "gridcolor": "white",
            "linecolor": "white",
            "ticks": ""
           },
           "bgcolor": "#E5ECF6",
           "caxis": {
            "gridcolor": "white",
            "linecolor": "white",
            "ticks": ""
           }
          },
          "title": {
           "x": 0.05
          },
          "xaxis": {
           "automargin": true,
           "gridcolor": "white",
           "linecolor": "white",
           "ticks": "",
           "title": {
            "standoff": 15
           },
           "zerolinecolor": "white",
           "zerolinewidth": 2
          },
          "yaxis": {
           "automargin": true,
           "gridcolor": "white",
           "linecolor": "white",
           "ticks": "",
           "title": {
            "standoff": 15
           },
           "zerolinecolor": "white",
           "zerolinewidth": 2
          }
         }
        },
        "title": {
         "text": "Share of Positive Tests vs Share of Population Delta - Without NY Data"
        },
        "width": 800,
        "xaxis": {
         "autorange": true,
         "range": [
          -0.5,
          49.5
         ],
         "tickfont": {
          "size": 8
         },
         "type": "category"
        },
        "yaxis": {
         "autorange": true,
         "range": [
          -0.08121872083558561,
          0.15207196429938047
         ],
         "tickformat": "0.0%",
         "type": "linear"
        }
       }
      },
      "image/png": "[encoded data removed]",
      "text/html": [
       "<div>\n",
       "        \n",
       "        \n",
       "            <div id=\"fb98c280-3c9d-4046-8a35-4610711d6f12\" class=\"plotly-graph-div\" style=\"height:800px; width:800px;\"></div>\n",
       "            <script type=\"text/javascript\">\n",
       "                require([\"plotly\"], function(Plotly) {\n",
       "                    window.PLOTLYENV=window.PLOTLYENV || {};\n",
       "                    \n",
       "                if (document.getElementById(\"fb98c280-3c9d-4046-8a35-4610711d6f12\")) {\n",
       "                    Plotly.newPlot(\n",
       "                        'fb98c280-3c9d-4046-8a35-4610711d6f12',\n",
       "                        [{\"marker\": {\"color\": [\"red\", \"red\", \"red\", \"red\", \"red\", \"red\", \"red\", \"red\", \"red\", \"red\", \"red\", \"red\", \"red\", \"red\", \"green\", \"green\", \"green\", \"green\", \"green\", \"green\", \"green\", \"green\", \"green\", \"green\", \"green\", \"green\", \"green\", \"green\", \"green\", \"green\", \"green\", \"green\", \"green\", \"green\", \"green\", \"green\", \"green\", \"green\", \"green\", \"green\", \"green\", \"green\", \"green\", \"green\", \"green\", \"green\", \"green\", \"green\", \"green\", \"green\"]}, \"type\": \"bar\", \"x\": [\"NJ\", \"MA\", \"LA\", \"MI\", \"CT\", \"PA\", \"IL\", \"RI\", \"MD\", \"DC\", \"WA\", \"DE\", \"CO\", \"GA\", \"VT\", \"IN\", \"SD\", \"WY\", \"ND\", \"AK\", \"NH\", \"MS\", \"ID\", \"NV\", \"MT\", \"ME\", \"NM\", \"HI\", \"NE\", \"WV\", \"UT\", \"IA\", \"KS\", \"AL\", \"AR\", \"OK\", \"TN\", \"SC\", \"MO\", \"KY\", \"OR\", \"WI\", \"VA\", \"MN\", \"AZ\", \"FL\", \"OH\", \"NC\", \"TX\", \"CA\"], \"y\": [0.14040743004263218, 0.047960123204246204, 0.04011935160814778, 0.03489657983300372, 0.02360286464120083, 0.02223715640120142, 0.0170631349746595, 0.004403823350679432, 0.0038870095618600276, 0.0028068083801103976, 0.002252457610198537, 0.0014582381297344625, 0.001389777515732913, 0.0012318526677330202, -5.575986339395166e-05, -6.876160685078542e-05, -0.0006232797741703988, -0.00109822692512952, -0.001575910334585028, -0.001628382160121863, -0.0017266746428538358, -0.0018834158382285398, -0.002051822675862908, -0.002289734753643184, -0.0024531821682871272, -0.002487952037540031, -0.003201806823321932, -0.003210282269048125, -0.003980653564326875, -0.004044153570201443, -0.004338065647219376, -0.0057195196150872825, -0.005729738820163078, -0.0057847278389138775, -0.006053211381953227, -0.007264615641237542, -0.0074309178223511425, -0.007703246343777314, -0.00829452401954415, -0.009066647251715455, -0.009644463842890385, -0.009789439452079985, -0.012614929827949794, -0.013959278423908324, -0.013967488839703697, -0.015496325080631597, -0.019409049631890572, -0.021418758521012313, -0.05809747433270845, -0.0695541865788373]}],\n",
       "                        {\"autosize\": false, \"height\": 800, \"margin\": {\"b\": 100, \"l\": 50, \"pad\": 4, \"r\": 50, \"t\": 100}, \"template\": {\"data\": {\"bar\": [{\"error_x\": {\"color\": \"#2a3f5f\"}, \"error_y\": {\"color\": \"#2a3f5f\"}, \"marker\": {\"line\": {\"color\": \"#E5ECF6\", \"width\": 0.5}}, \"type\": \"bar\"}], \"barpolar\": [{\"marker\": {\"line\": {\"color\": \"#E5ECF6\", \"width\": 0.5}}, \"type\": \"barpolar\"}], \"carpet\": [{\"aaxis\": {\"endlinecolor\": \"#2a3f5f\", \"gridcolor\": \"white\", \"linecolor\": \"white\", \"minorgridcolor\": \"white\", \"startlinecolor\": \"#2a3f5f\"}, \"baxis\": {\"endlinecolor\": \"#2a3f5f\", \"gridcolor\": \"white\", \"linecolor\": \"white\", \"minorgridcolor\": \"white\", \"startlinecolor\": \"#2a3f5f\"}, \"type\": \"carpet\"}], \"choropleth\": [{\"colorbar\": {\"outlinewidth\": 0, \"ticks\": \"\"}, \"type\": \"choropleth\"}], \"contour\": [{\"colorbar\": {\"outlinewidth\": 0, \"ticks\": \"\"}, \"colorscale\": [[0.0, \"#0d0887\"], [0.1111111111111111, \"#46039f\"], [0.2222222222222222, \"#7201a8\"], [0.3333333333333333, \"#9c179e\"], [0.4444444444444444, \"#bd3786\"], [0.5555555555555556, \"#d8576b\"], [0.6666666666666666, \"#ed7953\"], [0.7777777777777778, \"#fb9f3a\"], [0.8888888888888888, \"#fdca26\"], [1.0, \"#f0f921\"]], \"type\": \"contour\"}], \"contourcarpet\": [{\"colorbar\": {\"outlinewidth\": 0, \"ticks\": \"\"}, \"type\": \"contourcarpet\"}], \"heatmap\": [{\"colorbar\": {\"outlinewidth\": 0, \"ticks\": \"\"}, \"colorscale\": [[0.0, \"#0d0887\"], [0.1111111111111111, \"#46039f\"], [0.2222222222222222, \"#7201a8\"], [0.3333333333333333, \"#9c179e\"], [0.4444444444444444, \"#bd3786\"], [0.5555555555555556, \"#d8576b\"], [0.6666666666666666, \"#ed7953\"], [0.7777777777777778, \"#fb9f3a\"], [0.8888888888888888, \"#fdca26\"], [1.0, \"#f0f921\"]], \"type\": \"heatmap\"}], \"heatmapgl\": [{\"colorbar\": {\"outlinewidth\": 0, \"ticks\": \"\"}, \"colorscale\": [[0.0, \"#0d0887\"], [0.1111111111111111, \"#46039f\"], [0.2222222222222222, \"#7201a8\"], [0.3333333333333333, \"#9c179e\"], [0.4444444444444444, \"#bd3786\"], [0.5555555555555556, \"#d8576b\"], [0.6666666666666666, \"#ed7953\"], [0.7777777777777778, \"#fb9f3a\"], [0.8888888888888888, \"#fdca26\"], [1.0, \"#f0f921\"]], \"type\": \"heatmapgl\"}], \"histogram\": [{\"marker\": {\"colorbar\": {\"outlinewidth\": 0, \"ticks\": \"\"}}, \"type\": \"histogram\"}], \"histogram2d\": [{\"colorbar\": {\"outlinewidth\": 0, \"ticks\": \"\"}, \"colorscale\": [[0.0, \"#0d0887\"], [0.1111111111111111, \"#46039f\"], [0.2222222222222222, \"#7201a8\"], [0.3333333333333333, \"#9c179e\"], [0.4444444444444444, \"#bd3786\"], [0.5555555555555556, \"#d8576b\"], [0.6666666666666666, \"#ed7953\"], [0.7777777777777778, \"#fb9f3a\"], [0.8888888888888888, \"#fdca26\"], [1.0, \"#f0f921\"]], \"type\": \"histogram2d\"}], \"histogram2dcontour\": [{\"colorbar\": {\"outlinewidth\": 0, \"ticks\": \"\"}, \"colorscale\": [[0.0, \"#0d0887\"], [0.1111111111111111, \"#46039f\"], [0.2222222222222222, \"#7201a8\"], [0.3333333333333333, \"#9c179e\"], [0.4444444444444444, \"#bd3786\"], [0.5555555555555556, \"#d8576b\"], [0.6666666666666666, \"#ed7953\"], [0.7777777777777778, \"#fb9f3a\"], [0.8888888888888888, \"#fdca26\"], [1.0, \"#f0f921\"]], \"type\": \"histogram2dcontour\"}], \"mesh3d\": [{\"colorbar\": {\"outlinewidth\": 0, \"ticks\": \"\"}, \"type\": \"mesh3d\"}], \"parcoords\": [{\"line\": {\"colorbar\": {\"outlinewidth\": 0, \"ticks\": \"\"}}, \"type\": \"parcoords\"}], \"pie\": [{\"automargin\": true, \"type\": \"pie\"}], \"scatter\": [{\"marker\": {\"colorbar\": {\"outlinewidth\": 0, \"ticks\": \"\"}}, \"type\": \"scatter\"}], \"scatter3d\": [{\"line\": {\"colorbar\": {\"outlinewidth\": 0, \"ticks\": \"\"}}, \"marker\": {\"colorbar\": {\"outlinewidth\": 0, \"ticks\": \"\"}}, \"type\": \"scatter3d\"}], \"scattercarpet\": [{\"marker\": {\"colorbar\": {\"outlinewidth\": 0, \"ticks\": \"\"}}, \"type\": \"scattercarpet\"}], \"scattergeo\": [{\"marker\": {\"colorbar\": {\"outlinewidth\": 0, \"ticks\": \"\"}}, \"type\": \"scattergeo\"}], \"scattergl\": [{\"marker\": {\"colorbar\": {\"outlinewidth\": 0, \"ticks\": \"\"}}, \"type\": \"scattergl\"}], \"scattermapbox\": [{\"marker\": {\"colorbar\": {\"outlinewidth\": 0, \"ticks\": \"\"}}, \"type\": \"scattermapbox\"}], \"scatterpolar\": [{\"marker\": {\"colorbar\": {\"outlinewidth\": 0, \"ticks\": \"\"}}, \"type\": \"scatterpolar\"}], \"scatterpolargl\": [{\"marker\": {\"colorbar\": {\"outlinewidth\": 0, \"ticks\": \"\"}}, \"type\": \"scatterpolargl\"}], \"scatterternary\": [{\"marker\": {\"colorbar\": {\"outlinewidth\": 0, \"ticks\": \"\"}}, \"type\": \"scatterternary\"}], \"surface\": [{\"colorbar\": {\"outlinewidth\": 0, \"ticks\": \"\"}, \"colorscale\": [[0.0, \"#0d0887\"], [0.1111111111111111, \"#46039f\"], [0.2222222222222222, \"#7201a8\"], [0.3333333333333333, \"#9c179e\"], [0.4444444444444444, \"#bd3786\"], [0.5555555555555556, \"#d8576b\"], [0.6666666666666666, \"#ed7953\"], [0.7777777777777778, \"#fb9f3a\"], [0.8888888888888888, \"#fdca26\"], [1.0, \"#f0f921\"]], \"type\": \"surface\"}], \"table\": [{\"cells\": {\"fill\": {\"color\": \"#EBF0F8\"}, \"line\": {\"color\": \"white\"}}, \"header\": {\"fill\": {\"color\": \"#C8D4E3\"}, \"line\": {\"color\": \"white\"}}, \"type\": \"table\"}]}, \"layout\": {\"annotationdefaults\": {\"arrowcolor\": \"#2a3f5f\", \"arrowhead\": 0, \"arrowwidth\": 1}, \"coloraxis\": {\"colorbar\": {\"outlinewidth\": 0, \"ticks\": \"\"}}, \"colorscale\": {\"diverging\": [[0, \"#8e0152\"], [0.1, \"#c51b7d\"], [0.2, \"#de77ae\"], [0.3, \"#f1b6da\"], [0.4, \"#fde0ef\"], [0.5, \"#f7f7f7\"], [0.6, \"#e6f5d0\"], [0.7, \"#b8e186\"], [0.8, \"#7fbc41\"], [0.9, \"#4d9221\"], [1, \"#276419\"]], \"sequential\": [[0.0, \"#0d0887\"], [0.1111111111111111, \"#46039f\"], [0.2222222222222222, \"#7201a8\"], [0.3333333333333333, \"#9c179e\"], [0.4444444444444444, \"#bd3786\"], [0.5555555555555556, \"#d8576b\"], [0.6666666666666666, \"#ed7953\"], [0.7777777777777778, \"#fb9f3a\"], [0.8888888888888888, \"#fdca26\"], [1.0, \"#f0f921\"]], \"sequentialminus\": [[0.0, \"#0d0887\"], [0.1111111111111111, \"#46039f\"], [0.2222222222222222, \"#7201a8\"], [0.3333333333333333, \"#9c179e\"], [0.4444444444444444, \"#bd3786\"], [0.5555555555555556, \"#d8576b\"], [0.6666666666666666, \"#ed7953\"], [0.7777777777777778, \"#fb9f3a\"], [0.8888888888888888, \"#fdca26\"], [1.0, \"#f0f921\"]]}, \"colorway\": [\"#636efa\", \"#EF553B\", \"#00cc96\", \"#ab63fa\", \"#FFA15A\", \"#19d3f3\", \"#FF6692\", \"#B6E880\", \"#FF97FF\", \"#FECB52\"], \"font\": {\"color\": \"#2a3f5f\"}, \"geo\": {\"bgcolor\": \"white\", \"lakecolor\": \"white\", \"landcolor\": \"#E5ECF6\", \"showlakes\": true, \"showland\": true, \"subunitcolor\": \"white\"}, \"hoverlabel\": {\"align\": \"left\"}, \"hovermode\": \"closest\", \"mapbox\": {\"style\": \"light\"}, \"paper_bgcolor\": \"white\", \"plot_bgcolor\": \"#E5ECF6\", \"polar\": {\"angularaxis\": {\"gridcolor\": \"white\", \"linecolor\": \"white\", \"ticks\": \"\"}, \"bgcolor\": \"#E5ECF6\", \"radialaxis\": {\"gridcolor\": \"white\", \"linecolor\": \"white\", \"ticks\": \"\"}}, \"scene\": {\"xaxis\": {\"backgroundcolor\": \"#E5ECF6\", \"gridcolor\": \"white\", \"gridwidth\": 2, \"linecolor\": \"white\", \"showbackground\": true, \"ticks\": \"\", \"zerolinecolor\": \"white\"}, \"yaxis\": {\"backgroundcolor\": \"#E5ECF6\", \"gridcolor\": \"white\", \"gridwidth\": 2, \"linecolor\": \"white\", \"showbackground\": true, \"ticks\": \"\", \"zerolinecolor\": \"white\"}, \"zaxis\": {\"backgroundcolor\": \"#E5ECF6\", \"gridcolor\": \"white\", \"gridwidth\": 2, \"linecolor\": \"white\", \"showbackground\": true, \"ticks\": \"\", \"zerolinecolor\": \"white\"}}, \"shapedefaults\": {\"line\": {\"color\": \"#2a3f5f\"}}, \"ternary\": {\"aaxis\": {\"gridcolor\": \"white\", \"linecolor\": \"white\", \"ticks\": \"\"}, \"baxis\": {\"gridcolor\": \"white\", \"linecolor\": \"white\", \"ticks\": \"\"}, \"bgcolor\": \"#E5ECF6\", \"caxis\": {\"gridcolor\": \"white\", \"linecolor\": \"white\", \"ticks\": \"\"}}, \"title\": {\"x\": 0.05}, \"xaxis\": {\"automargin\": true, \"gridcolor\": \"white\", \"linecolor\": \"white\", \"ticks\": \"\", \"title\": {\"standoff\": 15}, \"zerolinecolor\": \"white\", \"zerolinewidth\": 2}, \"yaxis\": {\"automargin\": true, \"gridcolor\": \"white\", \"linecolor\": \"white\", \"ticks\": \"\", \"title\": {\"standoff\": 15}, \"zerolinecolor\": \"white\", \"zerolinewidth\": 2}}}, \"title\": {\"text\": \"Share of Positive Tests vs Share of Population Delta - Without NY Data\"}, \"width\": 800, \"xaxis\": {\"tickfont\": {\"size\": 8}}, \"yaxis\": {\"tickformat\": \"0.0%\"}},\n",
       "                        {\"responsive\": true}\n",
       "                    ).then(function(){\n",
       "                            \n",
       "var gd = document.getElementById('fb98c280-3c9d-4046-8a35-4610711d6f12');\n",
       "var x = new MutationObserver(function (mutations, observer) {{\n",
       "        var display = window.getComputedStyle(gd).display;\n",
       "        if (!display || display === 'none') {{\n",
       "            console.log([gd, 'removed!']);\n",
       "            Plotly.purge(gd);\n",
       "            observer.disconnect();\n",
       "        }}\n",
       "}});\n",
       "\n",
       "// Listen for the removal of the full notebook cells\n",
       "var notebookContainer = gd.closest('#notebook-container');\n",
       "if (notebookContainer) {{\n",
       "    x.observe(notebookContainer, {childList: true});\n",
       "}}\n",
       "\n",
       "// Listen for the clearing of the current output cell\n",
       "var outputEl = gd.closest('.output');\n",
       "if (outputEl) {{\n",
       "    x.observe(outputEl, {childList: true});\n",
       "}}\n",
       "\n",
       "                        })\n",
       "                };\n",
       "                });\n",
       "            </script>\n",
       "        </div>"
      ]
     },
     "metadata": {},
     "output_type": "display_data"
    }
   ],
   "source": [
    "covid_sort = covid.sort_values(by='positiveShareDelta', ascending=False)\n",
    "covid_sort['polarity'] = covid_sort['positiveShareDelta'] < 0\n",
    "colors = []\n",
    "for polarity in covid_sort.polarity.values:\n",
    "    if polarity:\n",
    "        colors.append(\"green\")\n",
    "    else:\n",
    "        colors.append(\"red\")\n",
    "fig = go.Figure()\n",
    "fig.add_trace(go.Bar(x=covid_sort.state, y=covid_sort.positiveShareDelta, marker_color=colors))\n",
    "fig.layout.xaxis.tickfont.size = 8\n",
    "fig.layout.yaxis.tickformat = '0.0%'\n",
    "fig.update_layout(title_text='Share of Positive Tests vs Share of Population Delta - Without NY Data')\n",
    "fig.update_layout(\n",
    "    autosize=False,\n",
    "    width=800,\n",
    "    height=800,\n",
    "    margin=dict(\n",
    "        l=50,\n",
    "        r=50,\n",
    "        b=100,\n",
    "        t=100,\n",
    "        pad=4\n",
    "    ),\n",
    ")\n",
    "fig.show()"
   ]
  },
  {
   "cell_type": "code",
   "execution_count": 19,
   "metadata": {
    "jupyter": {
     "source_hidden": true
    }
   },
   "outputs": [
    {
     "data": {
      "application/vnd.plotly.v1+json": {
       "config": {
        "plotlyServerURL": "https://plot.ly"
       },
       "data": [
        {
         "marker": {
          "color": [
           "red",
           "red",
           "red",
           "red",
           "red",
           "red",
           "red",
           "red",
           "red",
           "red",
           "red",
           "red",
           "red",
           "red",
           "red",
           "red",
           "red",
           "red",
           "red",
           "red",
           "red",
           "green",
           "green",
           "green",
           "green",
           "green",
           "green",
           "green",
           "green",
           "green",
           "green",
           "green",
           "green",
           "green",
           "green",
           "green",
           "green",
           "green",
           "green",
           "green",
           "green",
           "green",
           "green",
           "green",
           "green",
           "green",
           "green",
           "green",
           "green",
           "green"
          ]
         },
         "type": "bar",
         "x": [
          "CA",
          "TX",
          "OH",
          "GA",
          "VA",
          "NC",
          "AZ",
          "AL",
          "KS",
          "KY",
          "IN",
          "SC",
          "OK",
          "CO",
          "MN",
          "IA",
          "WI",
          "NE",
          "AR",
          "OR",
          "MO",
          "MT",
          "NV",
          "ID",
          "NH",
          "WY",
          "ME",
          "SD",
          "AK",
          "WV",
          "MI",
          "MD",
          "DE",
          "ND",
          "IL",
          "DC",
          "VT",
          "HI",
          "MS",
          "RI",
          "NM",
          "CT",
          "UT",
          "TN",
          "FL",
          "PA",
          "WA",
          "NJ",
          "MA",
          "LA"
         ],
         "y": [
          -0.04748458969034154,
          -0.04073963747663306,
          -0.01139340626347602,
          -0.011291141082024673,
          -0.010952650123434455,
          -0.008447175595266119,
          -0.006166763454095031,
          -0.003936428350631221,
          -0.0037372702264192523,
          -0.0036605304069443605,
          -0.0036556825530693025,
          -0.0034845338322531273,
          -0.0034565364885013536,
          -0.0031097117313569553,
          -0.0027723617519570913,
          -0.00265154658826423,
          -0.0025425573144462546,
          -0.0016778756279859615,
          -0.0013493056590486371,
          -0.0012329068069118973,
          -0.0005410811916930248,
          0.00018668287927670968,
          0.00020835395029881673,
          0.00024348496576915603,
          0.0002881571801593664,
          0.0005885079876974798,
          0.0006506295544190027,
          0.0007370582398426367,
          0.0008060883837526329,
          0.0010570206938581754,
          0.0011405117875043086,
          0.00137789653969796,
          0.001813399430620615,
          0.0019079963052584833,
          0.0020879876731488625,
          0.0021013118310916723,
          0.002169105200731757,
          0.003306784387351597,
          0.0056413907974947036,
          0.005743226163946872,
          0.006177969808197657,
          0.006455076224244929,
          0.007952350046183112,
          0.00863011190954388,
          0.009704357301881461,
          0.011265332425758522,
          0.012850720193542855,
          0.023589524492344464,
          0.02687981368158595,
          0.028722842179549936
         ]
        }
       ],
       "layout": {
        "autosize": false,
        "height": 800,
        "margin": {
         "b": 100,
         "l": 50,
         "pad": 4,
         "r": 50,
         "t": 100
        },
        "template": {
         "data": {
          "bar": [
           {
            "error_x": {
             "color": "#2a3f5f"
            },
            "error_y": {
             "color": "#2a3f5f"
            },
            "marker": {
             "line": {
              "color": "#E5ECF6",
              "width": 0.5
             }
            },
            "type": "bar"
           }
          ],
          "barpolar": [
           {
            "marker": {
             "line": {
              "color": "#E5ECF6",
              "width": 0.5
             }
            },
            "type": "barpolar"
           }
          ],
          "carpet": [
           {
            "aaxis": {
             "endlinecolor": "#2a3f5f",
             "gridcolor": "white",
             "linecolor": "white",
             "minorgridcolor": "white",
             "startlinecolor": "#2a3f5f"
            },
            "baxis": {
             "endlinecolor": "#2a3f5f",
             "gridcolor": "white",
             "linecolor": "white",
             "minorgridcolor": "white",
             "startlinecolor": "#2a3f5f"
            },
            "type": "carpet"
           }
          ],
          "choropleth": [
           {
            "colorbar": {
             "outlinewidth": 0,
             "ticks": ""
            },
            "type": "choropleth"
           }
          ],
          "contour": [
           {
            "colorbar": {
             "outlinewidth": 0,
             "ticks": ""
            },
            "colorscale": [
             [
              0,
              "#0d0887"
             ],
             [
              0.1111111111111111,
              "#46039f"
             ],
             [
              0.2222222222222222,
              "#7201a8"
             ],
             [
              0.3333333333333333,
              "#9c179e"
             ],
             [
              0.4444444444444444,
              "#bd3786"
             ],
             [
              0.5555555555555556,
              "#d8576b"
             ],
             [
              0.6666666666666666,
              "#ed7953"
             ],
             [
              0.7777777777777778,
              "#fb9f3a"
             ],
             [
              0.8888888888888888,
              "#fdca26"
             ],
             [
              1,
              "#f0f921"
             ]
            ],
            "type": "contour"
           }
          ],
          "contourcarpet": [
           {
            "colorbar": {
             "outlinewidth": 0,
             "ticks": ""
            },
            "type": "contourcarpet"
           }
          ],
          "heatmap": [
           {
            "colorbar": {
             "outlinewidth": 0,
             "ticks": ""
            },
            "colorscale": [
             [
              0,
              "#0d0887"
             ],
             [
              0.1111111111111111,
              "#46039f"
             ],
             [
              0.2222222222222222,
              "#7201a8"
             ],
             [
              0.3333333333333333,
              "#9c179e"
             ],
             [
              0.4444444444444444,
              "#bd3786"
             ],
             [
              0.5555555555555556,
              "#d8576b"
             ],
             [
              0.6666666666666666,
              "#ed7953"
             ],
             [
              0.7777777777777778,
              "#fb9f3a"
             ],
             [
              0.8888888888888888,
              "#fdca26"
             ],
             [
              1,
              "#f0f921"
             ]
            ],
            "type": "heatmap"
           }
          ],
          "heatmapgl": [
           {
            "colorbar": {
             "outlinewidth": 0,
             "ticks": ""
            },
            "colorscale": [
             [
              0,
              "#0d0887"
             ],
             [
              0.1111111111111111,
              "#46039f"
             ],
             [
              0.2222222222222222,
              "#7201a8"
             ],
             [
              0.3333333333333333,
              "#9c179e"
             ],
             [
              0.4444444444444444,
              "#bd3786"
             ],
             [
              0.5555555555555556,
              "#d8576b"
             ],
             [
              0.6666666666666666,
              "#ed7953"
             ],
             [
              0.7777777777777778,
              "#fb9f3a"
             ],
             [
              0.8888888888888888,
              "#fdca26"
             ],
             [
              1,
              "#f0f921"
             ]
            ],
            "type": "heatmapgl"
           }
          ],
          "histogram": [
           {
            "marker": {
             "colorbar": {
              "outlinewidth": 0,
              "ticks": ""
             }
            },
            "type": "histogram"
           }
          ],
          "histogram2d": [
           {
            "colorbar": {
             "outlinewidth": 0,
             "ticks": ""
            },
            "colorscale": [
             [
              0,
              "#0d0887"
             ],
             [
              0.1111111111111111,
              "#46039f"
             ],
             [
              0.2222222222222222,
              "#7201a8"
             ],
             [
              0.3333333333333333,
              "#9c179e"
             ],
             [
              0.4444444444444444,
              "#bd3786"
             ],
             [
              0.5555555555555556,
              "#d8576b"
             ],
             [
              0.6666666666666666,
              "#ed7953"
             ],
             [
              0.7777777777777778,
              "#fb9f3a"
             ],
             [
              0.8888888888888888,
              "#fdca26"
             ],
             [
              1,
              "#f0f921"
             ]
            ],
            "type": "histogram2d"
           }
          ],
          "histogram2dcontour": [
           {
            "colorbar": {
             "outlinewidth": 0,
             "ticks": ""
            },
            "colorscale": [
             [
              0,
              "#0d0887"
             ],
             [
              0.1111111111111111,
              "#46039f"
             ],
             [
              0.2222222222222222,
              "#7201a8"
             ],
             [
              0.3333333333333333,
              "#9c179e"
             ],
             [
              0.4444444444444444,
              "#bd3786"
             ],
             [
              0.5555555555555556,
              "#d8576b"
             ],
             [
              0.6666666666666666,
              "#ed7953"
             ],
             [
              0.7777777777777778,
              "#fb9f3a"
             ],
             [
              0.8888888888888888,
              "#fdca26"
             ],
             [
              1,
              "#f0f921"
             ]
            ],
            "type": "histogram2dcontour"
           }
          ],
          "mesh3d": [
           {
            "colorbar": {
             "outlinewidth": 0,
             "ticks": ""
            },
            "type": "mesh3d"
           }
          ],
          "parcoords": [
           {
            "line": {
             "colorbar": {
              "outlinewidth": 0,
              "ticks": ""
             }
            },
            "type": "parcoords"
           }
          ],
          "pie": [
           {
            "automargin": true,
            "type": "pie"
           }
          ],
          "scatter": [
           {
            "marker": {
             "colorbar": {
              "outlinewidth": 0,
              "ticks": ""
             }
            },
            "type": "scatter"
           }
          ],
          "scatter3d": [
           {
            "line": {
             "colorbar": {
              "outlinewidth": 0,
              "ticks": ""
             }
            },
            "marker": {
             "colorbar": {
              "outlinewidth": 0,
              "ticks": ""
             }
            },
            "type": "scatter3d"
           }
          ],
          "scattercarpet": [
           {
            "marker": {
             "colorbar": {
              "outlinewidth": 0,
              "ticks": ""
             }
            },
            "type": "scattercarpet"
           }
          ],
          "scattergeo": [
           {
            "marker": {
             "colorbar": {
              "outlinewidth": 0,
              "ticks": ""
             }
            },
            "type": "scattergeo"
           }
          ],
          "scattergl": [
           {
            "marker": {
             "colorbar": {
              "outlinewidth": 0,
              "ticks": ""
             }
            },
            "type": "scattergl"
           }
          ],
          "scattermapbox": [
           {
            "marker": {
             "colorbar": {
              "outlinewidth": 0,
              "ticks": ""
             }
            },
            "type": "scattermapbox"
           }
          ],
          "scatterpolar": [
           {
            "marker": {
             "colorbar": {
              "outlinewidth": 0,
              "ticks": ""
             }
            },
            "type": "scatterpolar"
           }
          ],
          "scatterpolargl": [
           {
            "marker": {
             "colorbar": {
              "outlinewidth": 0,
              "ticks": ""
             }
            },
            "type": "scatterpolargl"
           }
          ],
          "scatterternary": [
           {
            "marker": {
             "colorbar": {
              "outlinewidth": 0,
              "ticks": ""
             }
            },
            "type": "scatterternary"
           }
          ],
          "surface": [
           {
            "colorbar": {
             "outlinewidth": 0,
             "ticks": ""
            },
            "colorscale": [
             [
              0,
              "#0d0887"
             ],
             [
              0.1111111111111111,
              "#46039f"
             ],
             [
              0.2222222222222222,
              "#7201a8"
             ],
             [
              0.3333333333333333,
              "#9c179e"
             ],
             [
              0.4444444444444444,
              "#bd3786"
             ],
             [
              0.5555555555555556,
              "#d8576b"
             ],
             [
              0.6666666666666666,
              "#ed7953"
             ],
             [
              0.7777777777777778,
              "#fb9f3a"
             ],
             [
              0.8888888888888888,
              "#fdca26"
             ],
             [
              1,
              "#f0f921"
             ]
            ],
            "type": "surface"
           }
          ],
          "table": [
           {
            "cells": {
             "fill": {
              "color": "#EBF0F8"
             },
             "line": {
              "color": "white"
             }
            },
            "header": {
             "fill": {
              "color": "#C8D4E3"
             },
             "line": {
              "color": "white"
             }
            },
            "type": "table"
           }
          ]
         },
         "layout": {
          "annotationdefaults": {
           "arrowcolor": "#2a3f5f",
           "arrowhead": 0,
           "arrowwidth": 1
          },
          "coloraxis": {
           "colorbar": {
            "outlinewidth": 0,
            "ticks": ""
           }
          },
          "colorscale": {
           "diverging": [
            [
             0,
             "#8e0152"
            ],
            [
             0.1,
             "#c51b7d"
            ],
            [
             0.2,
             "#de77ae"
            ],
            [
             0.3,
             "#f1b6da"
            ],
            [
             0.4,
             "#fde0ef"
            ],
            [
             0.5,
             "#f7f7f7"
            ],
            [
             0.6,
             "#e6f5d0"
            ],
            [
             0.7,
             "#b8e186"
            ],
            [
             0.8,
             "#7fbc41"
            ],
            [
             0.9,
             "#4d9221"
            ],
            [
             1,
             "#276419"
            ]
           ],
           "sequential": [
            [
             0,
             "#0d0887"
            ],
            [
             0.1111111111111111,
             "#46039f"
            ],
            [
             0.2222222222222222,
             "#7201a8"
            ],
            [
             0.3333333333333333,
             "#9c179e"
            ],
            [
             0.4444444444444444,
             "#bd3786"
            ],
            [
             0.5555555555555556,
             "#d8576b"
            ],
            [
             0.6666666666666666,
             "#ed7953"
            ],
            [
             0.7777777777777778,
             "#fb9f3a"
            ],
            [
             0.8888888888888888,
             "#fdca26"
            ],
            [
             1,
             "#f0f921"
            ]
           ],
           "sequentialminus": [
            [
             0,
             "#0d0887"
            ],
            [
             0.1111111111111111,
             "#46039f"
            ],
            [
             0.2222222222222222,
             "#7201a8"
            ],
            [
             0.3333333333333333,
             "#9c179e"
            ],
            [
             0.4444444444444444,
             "#bd3786"
            ],
            [
             0.5555555555555556,
             "#d8576b"
            ],
            [
             0.6666666666666666,
             "#ed7953"
            ],
            [
             0.7777777777777778,
             "#fb9f3a"
            ],
            [
             0.8888888888888888,
             "#fdca26"
            ],
            [
             1,
             "#f0f921"
            ]
           ]
          },
          "colorway": [
           "#636efa",
           "#EF553B",
           "#00cc96",
           "#ab63fa",
           "#FFA15A",
           "#19d3f3",
           "#FF6692",
           "#B6E880",
           "#FF97FF",
           "#FECB52"
          ],
          "font": {
           "color": "#2a3f5f"
          },
          "geo": {
           "bgcolor": "white",
           "lakecolor": "white",
           "landcolor": "#E5ECF6",
           "showlakes": true,
           "showland": true,
           "subunitcolor": "white"
          },
          "hoverlabel": {
           "align": "left"
          },
          "hovermode": "closest",
          "mapbox": {
           "style": "light"
          },
          "paper_bgcolor": "white",
          "plot_bgcolor": "#E5ECF6",
          "polar": {
           "angularaxis": {
            "gridcolor": "white",
            "linecolor": "white",
            "ticks": ""
           },
           "bgcolor": "#E5ECF6",
           "radialaxis": {
            "gridcolor": "white",
            "linecolor": "white",
            "ticks": ""
           }
          },
          "scene": {
           "xaxis": {
            "backgroundcolor": "#E5ECF6",
            "gridcolor": "white",
            "gridwidth": 2,
            "linecolor": "white",
            "showbackground": true,
            "ticks": "",
            "zerolinecolor": "white"
           },
           "yaxis": {
            "backgroundcolor": "#E5ECF6",
            "gridcolor": "white",
            "gridwidth": 2,
            "linecolor": "white",
            "showbackground": true,
            "ticks": "",
            "zerolinecolor": "white"
           },
           "zaxis": {
            "backgroundcolor": "#E5ECF6",
            "gridcolor": "white",
            "gridwidth": 2,
            "linecolor": "white",
            "showbackground": true,
            "ticks": "",
            "zerolinecolor": "white"
           }
          },
          "shapedefaults": {
           "line": {
            "color": "#2a3f5f"
           }
          },
          "ternary": {
           "aaxis": {
            "gridcolor": "white",
            "linecolor": "white",
            "ticks": ""
           },
           "baxis": {
            "gridcolor": "white",
            "linecolor": "white",
            "ticks": ""
           },
           "bgcolor": "#E5ECF6",
           "caxis": {
            "gridcolor": "white",
            "linecolor": "white",
            "ticks": ""
           }
          },
          "title": {
           "x": 0.05
          },
          "xaxis": {
           "automargin": true,
           "gridcolor": "white",
           "linecolor": "white",
           "ticks": "",
           "title": {
            "standoff": 15
           },
           "zerolinecolor": "white",
           "zerolinewidth": 2
          },
          "yaxis": {
           "automargin": true,
           "gridcolor": "white",
           "linecolor": "white",
           "ticks": "",
           "title": {
            "standoff": 15
           },
           "zerolinecolor": "white",
           "zerolinewidth": 2
          }
         }
        },
        "title": {
         "text": "Share of Total Tests Completed vs Share of Population Delta - Without NY Data"
        },
        "width": 800,
        "xaxis": {
         "autorange": true,
         "range": [
          -0.5,
          49.5
         ],
         "tickfont": {
          "size": 8
         },
         "type": "category"
        },
        "yaxis": {
         "autorange": true,
         "range": [
          -0.05171833590533551,
          0.032956588394543906
         ],
         "tickformat": "0.0%",
         "type": "linear"
        }
       }
      },
      "image/png": "[encoded data removed]",
      "text/html": [
       "<div>\n",
       "        \n",
       "        \n",
       "            <div id=\"fd3b3cd3-f5b2-44ad-936b-1f45fa9b3e96\" class=\"plotly-graph-div\" style=\"height:800px; width:800px;\"></div>\n",
       "            <script type=\"text/javascript\">\n",
       "                require([\"plotly\"], function(Plotly) {\n",
       "                    window.PLOTLYENV=window.PLOTLYENV || {};\n",
       "                    \n",
       "                if (document.getElementById(\"fd3b3cd3-f5b2-44ad-936b-1f45fa9b3e96\")) {\n",
       "                    Plotly.newPlot(\n",
       "                        'fd3b3cd3-f5b2-44ad-936b-1f45fa9b3e96',\n",
       "                        [{\"marker\": {\"color\": [\"red\", \"red\", \"red\", \"red\", \"red\", \"red\", \"red\", \"red\", \"red\", \"red\", \"red\", \"red\", \"red\", \"red\", \"red\", \"red\", \"red\", \"red\", \"red\", \"red\", \"red\", \"green\", \"green\", \"green\", \"green\", \"green\", \"green\", \"green\", \"green\", \"green\", \"green\", \"green\", \"green\", \"green\", \"green\", \"green\", \"green\", \"green\", \"green\", \"green\", \"green\", \"green\", \"green\", \"green\", \"green\", \"green\", \"green\", \"green\", \"green\", \"green\"]}, \"type\": \"bar\", \"x\": [\"CA\", \"TX\", \"OH\", \"GA\", \"VA\", \"NC\", \"AZ\", \"AL\", \"KS\", \"KY\", \"IN\", \"SC\", \"OK\", \"CO\", \"MN\", \"IA\", \"WI\", \"NE\", \"AR\", \"OR\", \"MO\", \"MT\", \"NV\", \"ID\", \"NH\", \"WY\", \"ME\", \"SD\", \"AK\", \"WV\", \"MI\", \"MD\", \"DE\", \"ND\", \"IL\", \"DC\", \"VT\", \"HI\", \"MS\", \"RI\", \"NM\", \"CT\", \"UT\", \"TN\", \"FL\", \"PA\", \"WA\", \"NJ\", \"MA\", \"LA\"], \"y\": [-0.04748458969034154, -0.04073963747663306, -0.01139340626347602, -0.011291141082024673, -0.010952650123434455, -0.008447175595266119, -0.006166763454095031, -0.003936428350631221, -0.0037372702264192523, -0.0036605304069443605, -0.0036556825530693025, -0.0034845338322531273, -0.0034565364885013536, -0.0031097117313569553, -0.0027723617519570913, -0.00265154658826423, -0.0025425573144462546, -0.0016778756279859615, -0.0013493056590486371, -0.0012329068069118973, -0.0005410811916930248, 0.00018668287927670968, 0.00020835395029881673, 0.00024348496576915603, 0.0002881571801593664, 0.0005885079876974798, 0.0006506295544190027, 0.0007370582398426367, 0.0008060883837526329, 0.0010570206938581754, 0.0011405117875043086, 0.00137789653969796, 0.001813399430620615, 0.0019079963052584833, 0.0020879876731488625, 0.0021013118310916723, 0.002169105200731757, 0.003306784387351597, 0.0056413907974947036, 0.005743226163946872, 0.006177969808197657, 0.006455076224244929, 0.007952350046183112, 0.00863011190954388, 0.009704357301881461, 0.011265332425758522, 0.012850720193542855, 0.023589524492344464, 0.02687981368158595, 0.028722842179549936]}],\n",
       "                        {\"autosize\": false, \"height\": 800, \"margin\": {\"b\": 100, \"l\": 50, \"pad\": 4, \"r\": 50, \"t\": 100}, \"template\": {\"data\": {\"bar\": [{\"error_x\": {\"color\": \"#2a3f5f\"}, \"error_y\": {\"color\": \"#2a3f5f\"}, \"marker\": {\"line\": {\"color\": \"#E5ECF6\", \"width\": 0.5}}, \"type\": \"bar\"}], \"barpolar\": [{\"marker\": {\"line\": {\"color\": \"#E5ECF6\", \"width\": 0.5}}, \"type\": \"barpolar\"}], \"carpet\": [{\"aaxis\": {\"endlinecolor\": \"#2a3f5f\", \"gridcolor\": \"white\", \"linecolor\": \"white\", \"minorgridcolor\": \"white\", \"startlinecolor\": \"#2a3f5f\"}, \"baxis\": {\"endlinecolor\": \"#2a3f5f\", \"gridcolor\": \"white\", \"linecolor\": \"white\", \"minorgridcolor\": \"white\", \"startlinecolor\": \"#2a3f5f\"}, \"type\": \"carpet\"}], \"choropleth\": [{\"colorbar\": {\"outlinewidth\": 0, \"ticks\": \"\"}, \"type\": \"choropleth\"}], \"contour\": [{\"colorbar\": {\"outlinewidth\": 0, \"ticks\": \"\"}, \"colorscale\": [[0.0, \"#0d0887\"], [0.1111111111111111, \"#46039f\"], [0.2222222222222222, \"#7201a8\"], [0.3333333333333333, \"#9c179e\"], [0.4444444444444444, \"#bd3786\"], [0.5555555555555556, \"#d8576b\"], [0.6666666666666666, \"#ed7953\"], [0.7777777777777778, \"#fb9f3a\"], [0.8888888888888888, \"#fdca26\"], [1.0, \"#f0f921\"]], \"type\": \"contour\"}], \"contourcarpet\": [{\"colorbar\": {\"outlinewidth\": 0, \"ticks\": \"\"}, \"type\": \"contourcarpet\"}], \"heatmap\": [{\"colorbar\": {\"outlinewidth\": 0, \"ticks\": \"\"}, \"colorscale\": [[0.0, \"#0d0887\"], [0.1111111111111111, \"#46039f\"], [0.2222222222222222, \"#7201a8\"], [0.3333333333333333, \"#9c179e\"], [0.4444444444444444, \"#bd3786\"], [0.5555555555555556, \"#d8576b\"], [0.6666666666666666, \"#ed7953\"], [0.7777777777777778, \"#fb9f3a\"], [0.8888888888888888, \"#fdca26\"], [1.0, \"#f0f921\"]], \"type\": \"heatmap\"}], \"heatmapgl\": [{\"colorbar\": {\"outlinewidth\": 0, \"ticks\": \"\"}, \"colorscale\": [[0.0, \"#0d0887\"], [0.1111111111111111, \"#46039f\"], [0.2222222222222222, \"#7201a8\"], [0.3333333333333333, \"#9c179e\"], [0.4444444444444444, \"#bd3786\"], [0.5555555555555556, \"#d8576b\"], [0.6666666666666666, \"#ed7953\"], [0.7777777777777778, \"#fb9f3a\"], [0.8888888888888888, \"#fdca26\"], [1.0, \"#f0f921\"]], \"type\": \"heatmapgl\"}], \"histogram\": [{\"marker\": {\"colorbar\": {\"outlinewidth\": 0, \"ticks\": \"\"}}, \"type\": \"histogram\"}], \"histogram2d\": [{\"colorbar\": {\"outlinewidth\": 0, \"ticks\": \"\"}, \"colorscale\": [[0.0, \"#0d0887\"], [0.1111111111111111, \"#46039f\"], [0.2222222222222222, \"#7201a8\"], [0.3333333333333333, \"#9c179e\"], [0.4444444444444444, \"#bd3786\"], [0.5555555555555556, \"#d8576b\"], [0.6666666666666666, \"#ed7953\"], [0.7777777777777778, \"#fb9f3a\"], [0.8888888888888888, \"#fdca26\"], [1.0, \"#f0f921\"]], \"type\": \"histogram2d\"}], \"histogram2dcontour\": [{\"colorbar\": {\"outlinewidth\": 0, \"ticks\": \"\"}, \"colorscale\": [[0.0, \"#0d0887\"], [0.1111111111111111, \"#46039f\"], [0.2222222222222222, \"#7201a8\"], [0.3333333333333333, \"#9c179e\"], [0.4444444444444444, \"#bd3786\"], [0.5555555555555556, \"#d8576b\"], [0.6666666666666666, \"#ed7953\"], [0.7777777777777778, \"#fb9f3a\"], [0.8888888888888888, \"#fdca26\"], [1.0, \"#f0f921\"]], \"type\": \"histogram2dcontour\"}], \"mesh3d\": [{\"colorbar\": {\"outlinewidth\": 0, \"ticks\": \"\"}, \"type\": \"mesh3d\"}], \"parcoords\": [{\"line\": {\"colorbar\": {\"outlinewidth\": 0, \"ticks\": \"\"}}, \"type\": \"parcoords\"}], \"pie\": [{\"automargin\": true, \"type\": \"pie\"}], \"scatter\": [{\"marker\": {\"colorbar\": {\"outlinewidth\": 0, \"ticks\": \"\"}}, \"type\": \"scatter\"}], \"scatter3d\": [{\"line\": {\"colorbar\": {\"outlinewidth\": 0, \"ticks\": \"\"}}, \"marker\": {\"colorbar\": {\"outlinewidth\": 0, \"ticks\": \"\"}}, \"type\": \"scatter3d\"}], \"scattercarpet\": [{\"marker\": {\"colorbar\": {\"outlinewidth\": 0, \"ticks\": \"\"}}, \"type\": \"scattercarpet\"}], \"scattergeo\": [{\"marker\": {\"colorbar\": {\"outlinewidth\": 0, \"ticks\": \"\"}}, \"type\": \"scattergeo\"}], \"scattergl\": [{\"marker\": {\"colorbar\": {\"outlinewidth\": 0, \"ticks\": \"\"}}, \"type\": \"scattergl\"}], \"scattermapbox\": [{\"marker\": {\"colorbar\": {\"outlinewidth\": 0, \"ticks\": \"\"}}, \"type\": \"scattermapbox\"}], \"scatterpolar\": [{\"marker\": {\"colorbar\": {\"outlinewidth\": 0, \"ticks\": \"\"}}, \"type\": \"scatterpolar\"}], \"scatterpolargl\": [{\"marker\": {\"colorbar\": {\"outlinewidth\": 0, \"ticks\": \"\"}}, \"type\": \"scatterpolargl\"}], \"scatterternary\": [{\"marker\": {\"colorbar\": {\"outlinewidth\": 0, \"ticks\": \"\"}}, \"type\": \"scatterternary\"}], \"surface\": [{\"colorbar\": {\"outlinewidth\": 0, \"ticks\": \"\"}, \"colorscale\": [[0.0, \"#0d0887\"], [0.1111111111111111, \"#46039f\"], [0.2222222222222222, \"#7201a8\"], [0.3333333333333333, \"#9c179e\"], [0.4444444444444444, \"#bd3786\"], [0.5555555555555556, \"#d8576b\"], [0.6666666666666666, \"#ed7953\"], [0.7777777777777778, \"#fb9f3a\"], [0.8888888888888888, \"#fdca26\"], [1.0, \"#f0f921\"]], \"type\": \"surface\"}], \"table\": [{\"cells\": {\"fill\": {\"color\": \"#EBF0F8\"}, \"line\": {\"color\": \"white\"}}, \"header\": {\"fill\": {\"color\": \"#C8D4E3\"}, \"line\": {\"color\": \"white\"}}, \"type\": \"table\"}]}, \"layout\": {\"annotationdefaults\": {\"arrowcolor\": \"#2a3f5f\", \"arrowhead\": 0, \"arrowwidth\": 1}, \"coloraxis\": {\"colorbar\": {\"outlinewidth\": 0, \"ticks\": \"\"}}, \"colorscale\": {\"diverging\": [[0, \"#8e0152\"], [0.1, \"#c51b7d\"], [0.2, \"#de77ae\"], [0.3, \"#f1b6da\"], [0.4, \"#fde0ef\"], [0.5, \"#f7f7f7\"], [0.6, \"#e6f5d0\"], [0.7, \"#b8e186\"], [0.8, \"#7fbc41\"], [0.9, \"#4d9221\"], [1, \"#276419\"]], \"sequential\": [[0.0, \"#0d0887\"], [0.1111111111111111, \"#46039f\"], [0.2222222222222222, \"#7201a8\"], [0.3333333333333333, \"#9c179e\"], [0.4444444444444444, \"#bd3786\"], [0.5555555555555556, \"#d8576b\"], [0.6666666666666666, \"#ed7953\"], [0.7777777777777778, \"#fb9f3a\"], [0.8888888888888888, \"#fdca26\"], [1.0, \"#f0f921\"]], \"sequentialminus\": [[0.0, \"#0d0887\"], [0.1111111111111111, \"#46039f\"], [0.2222222222222222, \"#7201a8\"], [0.3333333333333333, \"#9c179e\"], [0.4444444444444444, \"#bd3786\"], [0.5555555555555556, \"#d8576b\"], [0.6666666666666666, \"#ed7953\"], [0.7777777777777778, \"#fb9f3a\"], [0.8888888888888888, \"#fdca26\"], [1.0, \"#f0f921\"]]}, \"colorway\": [\"#636efa\", \"#EF553B\", \"#00cc96\", \"#ab63fa\", \"#FFA15A\", \"#19d3f3\", \"#FF6692\", \"#B6E880\", \"#FF97FF\", \"#FECB52\"], \"font\": {\"color\": \"#2a3f5f\"}, \"geo\": {\"bgcolor\": \"white\", \"lakecolor\": \"white\", \"landcolor\": \"#E5ECF6\", \"showlakes\": true, \"showland\": true, \"subunitcolor\": \"white\"}, \"hoverlabel\": {\"align\": \"left\"}, \"hovermode\": \"closest\", \"mapbox\": {\"style\": \"light\"}, \"paper_bgcolor\": \"white\", \"plot_bgcolor\": \"#E5ECF6\", \"polar\": {\"angularaxis\": {\"gridcolor\": \"white\", \"linecolor\": \"white\", \"ticks\": \"\"}, \"bgcolor\": \"#E5ECF6\", \"radialaxis\": {\"gridcolor\": \"white\", \"linecolor\": \"white\", \"ticks\": \"\"}}, \"scene\": {\"xaxis\": {\"backgroundcolor\": \"#E5ECF6\", \"gridcolor\": \"white\", \"gridwidth\": 2, \"linecolor\": \"white\", \"showbackground\": true, \"ticks\": \"\", \"zerolinecolor\": \"white\"}, \"yaxis\": {\"backgroundcolor\": \"#E5ECF6\", \"gridcolor\": \"white\", \"gridwidth\": 2, \"linecolor\": \"white\", \"showbackground\": true, \"ticks\": \"\", \"zerolinecolor\": \"white\"}, \"zaxis\": {\"backgroundcolor\": \"#E5ECF6\", \"gridcolor\": \"white\", \"gridwidth\": 2, \"linecolor\": \"white\", \"showbackground\": true, \"ticks\": \"\", \"zerolinecolor\": \"white\"}}, \"shapedefaults\": {\"line\": {\"color\": \"#2a3f5f\"}}, \"ternary\": {\"aaxis\": {\"gridcolor\": \"white\", \"linecolor\": \"white\", \"ticks\": \"\"}, \"baxis\": {\"gridcolor\": \"white\", \"linecolor\": \"white\", \"ticks\": \"\"}, \"bgcolor\": \"#E5ECF6\", \"caxis\": {\"gridcolor\": \"white\", \"linecolor\": \"white\", \"ticks\": \"\"}}, \"title\": {\"x\": 0.05}, \"xaxis\": {\"automargin\": true, \"gridcolor\": \"white\", \"linecolor\": \"white\", \"ticks\": \"\", \"title\": {\"standoff\": 15}, \"zerolinecolor\": \"white\", \"zerolinewidth\": 2}, \"yaxis\": {\"automargin\": true, \"gridcolor\": \"white\", \"linecolor\": \"white\", \"ticks\": \"\", \"title\": {\"standoff\": 15}, \"zerolinecolor\": \"white\", \"zerolinewidth\": 2}}}, \"title\": {\"text\": \"Share of Total Tests Completed vs Share of Population Delta - Without NY Data\"}, \"width\": 800, \"xaxis\": {\"tickfont\": {\"size\": 8}}, \"yaxis\": {\"tickformat\": \"0.0%\"}},\n",
       "                        {\"responsive\": true}\n",
       "                    ).then(function(){\n",
       "                            \n",
       "var gd = document.getElementById('fd3b3cd3-f5b2-44ad-936b-1f45fa9b3e96');\n",
       "var x = new MutationObserver(function (mutations, observer) {{\n",
       "        var display = window.getComputedStyle(gd).display;\n",
       "        if (!display || display === 'none') {{\n",
       "            console.log([gd, 'removed!']);\n",
       "            Plotly.purge(gd);\n",
       "            observer.disconnect();\n",
       "        }}\n",
       "}});\n",
       "\n",
       "// Listen for the removal of the full notebook cells\n",
       "var notebookContainer = gd.closest('#notebook-container');\n",
       "if (notebookContainer) {{\n",
       "    x.observe(notebookContainer, {childList: true});\n",
       "}}\n",
       "\n",
       "// Listen for the clearing of the current output cell\n",
       "var outputEl = gd.closest('.output');\n",
       "if (outputEl) {{\n",
       "    x.observe(outputEl, {childList: true});\n",
       "}}\n",
       "\n",
       "                        })\n",
       "                };\n",
       "                });\n",
       "            </script>\n",
       "        </div>"
      ]
     },
     "metadata": {},
     "output_type": "display_data"
    }
   ],
   "source": [
    "covid_sort = covid.sort_values(by='testShareDelta')\n",
    "covid_sort['polarity'] = covid_sort['testShareDelta'] > 0\n",
    "colors = []\n",
    "for polarity in covid_sort.polarity.values:\n",
    "    if polarity:\n",
    "        colors.append(\"green\")\n",
    "    else:\n",
    "        colors.append(\"red\")\n",
    "fig = go.Figure()\n",
    "fig.add_trace(go.Bar(x=covid_sort.state, y=covid_sort.testShareDelta, marker_color=colors))\n",
    "fig.layout.xaxis.tickfont.size = 8\n",
    "fig.layout.yaxis.tickformat = '0.0%'\n",
    "fig.update_layout(title_text='Share of Total Tests Completed vs Share of Population Delta - Without NY Data')\n",
    "fig.update_layout(\n",
    "    autosize=False,\n",
    "    width=800,\n",
    "    height=800,\n",
    "    margin=dict(\n",
    "        l=50,\n",
    "        r=50,\n",
    "        b=100,\n",
    "        t=100,\n",
    "        pad=4\n",
    "    ),\n",
    ")\n",
    "fig.show()"
   ]
  },
  {
   "cell_type": "code",
   "execution_count": 20,
   "metadata": {
    "jupyter": {
     "source_hidden": true
    }
   },
   "outputs": [
    {
     "data": {
      "application/vnd.plotly.v1+json": {
       "config": {
        "plotlyServerURL": "https://plot.ly"
       },
       "data": [
        {
         "marker": {
          "color": [
           "red",
           "red",
           "red",
           "red",
           "red",
           "red",
           "red",
           "red",
           "red",
           "red",
           "red",
           "red",
           "red",
           "red",
           "red",
           "red",
           "red",
           "red",
           "red",
           "red",
           "red",
           "green",
           "green",
           "green",
           "green",
           "green",
           "green",
           "green",
           "green",
           "green",
           "green",
           "green",
           "green",
           "green",
           "green",
           "green",
           "green",
           "green",
           "green",
           "green",
           "green",
           "green",
           "green",
           "green",
           "green",
           "green",
           "green",
           "green",
           "green",
           "green"
          ]
         },
         "type": "bar",
         "x": [
          "GA",
          "MA",
          "MD",
          "FL",
          "OH",
          "CO",
          "MS",
          "WI",
          "KY",
          "RI",
          "OK",
          "SC",
          "AL",
          "TN",
          "KS",
          "OR",
          "NH",
          "WV",
          "ME",
          "ID",
          "WY",
          "ND",
          "MN",
          "UT",
          "SD",
          "AK",
          "MT",
          "VT",
          "DC",
          "HI",
          "DE",
          "AR",
          "NE",
          "NM",
          "NV",
          "IA",
          "CT",
          "LA",
          "MO",
          "IN",
          "AZ",
          "WA",
          "VA",
          "NJ",
          "MI",
          "NC",
          "IL",
          "PA",
          "TX",
          "CA"
         ],
         "y": [
          0.0969708549941875,
          0.09142151533604861,
          0.07653688407184453,
          0.07478474557262031,
          0.061194594106830924,
          0.053859666710846785,
          0.03189557264635083,
          0.02952536168420677,
          0.018299402611800804,
          0.012709643589918367,
          0.009542669522488115,
          0.007414310393718593,
          0.006483468545575362,
          0.006039795728766249,
          0.0056945678595274486,
          0.00415308188703414,
          0.0029948311966996478,
          0.0022739455527441277,
          0.001714849840052799,
          0.0007095324031106071,
          0.00022431025545919712,
          -0.0004972215993693234,
          -0.000723530150724204,
          -0.0007493236662847996,
          -0.000755780317599924,
          -0.0007973670906959458,
          -0.0011990077230676272,
          -0.002013798160319465,
          -0.0023107917141267395,
          -0.0023899406465941113,
          -0.003151528502465844,
          -0.0034224386352125526,
          -0.006260668746976771,
          -0.006722610980226766,
          -0.01006691627792888,
          -0.010195783636133576,
          -0.011424555748050902,
          -0.014894194980336962,
          -0.01978098397530505,
          -0.021628124459094806,
          -0.023658207790530236,
          -0.02500039895302542,
          -0.027658841716226432,
          -0.02865399424698996,
          -0.03220811500882187,
          -0.03402559333116375,
          -0.04059166915606835,
          -0.041108523742248444,
          -0.09449918630736913,
          -0.1280545072468739
         ]
        }
       ],
       "layout": {
        "autosize": false,
        "height": 800,
        "margin": {
         "b": 100,
         "l": 50,
         "pad": 4,
         "r": 50,
         "t": 100
        },
        "template": {
         "data": {
          "bar": [
           {
            "error_x": {
             "color": "#2a3f5f"
            },
            "error_y": {
             "color": "#2a3f5f"
            },
            "marker": {
             "line": {
              "color": "#E5ECF6",
              "width": 0.5
             }
            },
            "type": "bar"
           }
          ],
          "barpolar": [
           {
            "marker": {
             "line": {
              "color": "#E5ECF6",
              "width": 0.5
             }
            },
            "type": "barpolar"
           }
          ],
          "carpet": [
           {
            "aaxis": {
             "endlinecolor": "#2a3f5f",
             "gridcolor": "white",
             "linecolor": "white",
             "minorgridcolor": "white",
             "startlinecolor": "#2a3f5f"
            },
            "baxis": {
             "endlinecolor": "#2a3f5f",
             "gridcolor": "white",
             "linecolor": "white",
             "minorgridcolor": "white",
             "startlinecolor": "#2a3f5f"
            },
            "type": "carpet"
           }
          ],
          "choropleth": [
           {
            "colorbar": {
             "outlinewidth": 0,
             "ticks": ""
            },
            "type": "choropleth"
           }
          ],
          "contour": [
           {
            "colorbar": {
             "outlinewidth": 0,
             "ticks": ""
            },
            "colorscale": [
             [
              0,
              "#0d0887"
             ],
             [
              0.1111111111111111,
              "#46039f"
             ],
             [
              0.2222222222222222,
              "#7201a8"
             ],
             [
              0.3333333333333333,
              "#9c179e"
             ],
             [
              0.4444444444444444,
              "#bd3786"
             ],
             [
              0.5555555555555556,
              "#d8576b"
             ],
             [
              0.6666666666666666,
              "#ed7953"
             ],
             [
              0.7777777777777778,
              "#fb9f3a"
             ],
             [
              0.8888888888888888,
              "#fdca26"
             ],
             [
              1,
              "#f0f921"
             ]
            ],
            "type": "contour"
           }
          ],
          "contourcarpet": [
           {
            "colorbar": {
             "outlinewidth": 0,
             "ticks": ""
            },
            "type": "contourcarpet"
           }
          ],
          "heatmap": [
           {
            "colorbar": {
             "outlinewidth": 0,
             "ticks": ""
            },
            "colorscale": [
             [
              0,
              "#0d0887"
             ],
             [
              0.1111111111111111,
              "#46039f"
             ],
             [
              0.2222222222222222,
              "#7201a8"
             ],
             [
              0.3333333333333333,
              "#9c179e"
             ],
             [
              0.4444444444444444,
              "#bd3786"
             ],
             [
              0.5555555555555556,
              "#d8576b"
             ],
             [
              0.6666666666666666,
              "#ed7953"
             ],
             [
              0.7777777777777778,
              "#fb9f3a"
             ],
             [
              0.8888888888888888,
              "#fdca26"
             ],
             [
              1,
              "#f0f921"
             ]
            ],
            "type": "heatmap"
           }
          ],
          "heatmapgl": [
           {
            "colorbar": {
             "outlinewidth": 0,
             "ticks": ""
            },
            "colorscale": [
             [
              0,
              "#0d0887"
             ],
             [
              0.1111111111111111,
              "#46039f"
             ],
             [
              0.2222222222222222,
              "#7201a8"
             ],
             [
              0.3333333333333333,
              "#9c179e"
             ],
             [
              0.4444444444444444,
              "#bd3786"
             ],
             [
              0.5555555555555556,
              "#d8576b"
             ],
             [
              0.6666666666666666,
              "#ed7953"
             ],
             [
              0.7777777777777778,
              "#fb9f3a"
             ],
             [
              0.8888888888888888,
              "#fdca26"
             ],
             [
              1,
              "#f0f921"
             ]
            ],
            "type": "heatmapgl"
           }
          ],
          "histogram": [
           {
            "marker": {
             "colorbar": {
              "outlinewidth": 0,
              "ticks": ""
             }
            },
            "type": "histogram"
           }
          ],
          "histogram2d": [
           {
            "colorbar": {
             "outlinewidth": 0,
             "ticks": ""
            },
            "colorscale": [
             [
              0,
              "#0d0887"
             ],
             [
              0.1111111111111111,
              "#46039f"
             ],
             [
              0.2222222222222222,
              "#7201a8"
             ],
             [
              0.3333333333333333,
              "#9c179e"
             ],
             [
              0.4444444444444444,
              "#bd3786"
             ],
             [
              0.5555555555555556,
              "#d8576b"
             ],
             [
              0.6666666666666666,
              "#ed7953"
             ],
             [
              0.7777777777777778,
              "#fb9f3a"
             ],
             [
              0.8888888888888888,
              "#fdca26"
             ],
             [
              1,
              "#f0f921"
             ]
            ],
            "type": "histogram2d"
           }
          ],
          "histogram2dcontour": [
           {
            "colorbar": {
             "outlinewidth": 0,
             "ticks": ""
            },
            "colorscale": [
             [
              0,
              "#0d0887"
             ],
             [
              0.1111111111111111,
              "#46039f"
             ],
             [
              0.2222222222222222,
              "#7201a8"
             ],
             [
              0.3333333333333333,
              "#9c179e"
             ],
             [
              0.4444444444444444,
              "#bd3786"
             ],
             [
              0.5555555555555556,
              "#d8576b"
             ],
             [
              0.6666666666666666,
              "#ed7953"
             ],
             [
              0.7777777777777778,
              "#fb9f3a"
             ],
             [
              0.8888888888888888,
              "#fdca26"
             ],
             [
              1,
              "#f0f921"
             ]
            ],
            "type": "histogram2dcontour"
           }
          ],
          "mesh3d": [
           {
            "colorbar": {
             "outlinewidth": 0,
             "ticks": ""
            },
            "type": "mesh3d"
           }
          ],
          "parcoords": [
           {
            "line": {
             "colorbar": {
              "outlinewidth": 0,
              "ticks": ""
             }
            },
            "type": "parcoords"
           }
          ],
          "pie": [
           {
            "automargin": true,
            "type": "pie"
           }
          ],
          "scatter": [
           {
            "marker": {
             "colorbar": {
              "outlinewidth": 0,
              "ticks": ""
             }
            },
            "type": "scatter"
           }
          ],
          "scatter3d": [
           {
            "line": {
             "colorbar": {
              "outlinewidth": 0,
              "ticks": ""
             }
            },
            "marker": {
             "colorbar": {
              "outlinewidth": 0,
              "ticks": ""
             }
            },
            "type": "scatter3d"
           }
          ],
          "scattercarpet": [
           {
            "marker": {
             "colorbar": {
              "outlinewidth": 0,
              "ticks": ""
             }
            },
            "type": "scattercarpet"
           }
          ],
          "scattergeo": [
           {
            "marker": {
             "colorbar": {
              "outlinewidth": 0,
              "ticks": ""
             }
            },
            "type": "scattergeo"
           }
          ],
          "scattergl": [
           {
            "marker": {
             "colorbar": {
              "outlinewidth": 0,
              "ticks": ""
             }
            },
            "type": "scattergl"
           }
          ],
          "scattermapbox": [
           {
            "marker": {
             "colorbar": {
              "outlinewidth": 0,
              "ticks": ""
             }
            },
            "type": "scattermapbox"
           }
          ],
          "scatterpolar": [
           {
            "marker": {
             "colorbar": {
              "outlinewidth": 0,
              "ticks": ""
             }
            },
            "type": "scatterpolar"
           }
          ],
          "scatterpolargl": [
           {
            "marker": {
             "colorbar": {
              "outlinewidth": 0,
              "ticks": ""
             }
            },
            "type": "scatterpolargl"
           }
          ],
          "scatterternary": [
           {
            "marker": {
             "colorbar": {
              "outlinewidth": 0,
              "ticks": ""
             }
            },
            "type": "scatterternary"
           }
          ],
          "surface": [
           {
            "colorbar": {
             "outlinewidth": 0,
             "ticks": ""
            },
            "colorscale": [
             [
              0,
              "#0d0887"
             ],
             [
              0.1111111111111111,
              "#46039f"
             ],
             [
              0.2222222222222222,
              "#7201a8"
             ],
             [
              0.3333333333333333,
              "#9c179e"
             ],
             [
              0.4444444444444444,
              "#bd3786"
             ],
             [
              0.5555555555555556,
              "#d8576b"
             ],
             [
              0.6666666666666666,
              "#ed7953"
             ],
             [
              0.7777777777777778,
              "#fb9f3a"
             ],
             [
              0.8888888888888888,
              "#fdca26"
             ],
             [
              1,
              "#f0f921"
             ]
            ],
            "type": "surface"
           }
          ],
          "table": [
           {
            "cells": {
             "fill": {
              "color": "#EBF0F8"
             },
             "line": {
              "color": "white"
             }
            },
            "header": {
             "fill": {
              "color": "#C8D4E3"
             },
             "line": {
              "color": "white"
             }
            },
            "type": "table"
           }
          ]
         },
         "layout": {
          "annotationdefaults": {
           "arrowcolor": "#2a3f5f",
           "arrowhead": 0,
           "arrowwidth": 1
          },
          "coloraxis": {
           "colorbar": {
            "outlinewidth": 0,
            "ticks": ""
           }
          },
          "colorscale": {
           "diverging": [
            [
             0,
             "#8e0152"
            ],
            [
             0.1,
             "#c51b7d"
            ],
            [
             0.2,
             "#de77ae"
            ],
            [
             0.3,
             "#f1b6da"
            ],
            [
             0.4,
             "#fde0ef"
            ],
            [
             0.5,
             "#f7f7f7"
            ],
            [
             0.6,
             "#e6f5d0"
            ],
            [
             0.7,
             "#b8e186"
            ],
            [
             0.8,
             "#7fbc41"
            ],
            [
             0.9,
             "#4d9221"
            ],
            [
             1,
             "#276419"
            ]
           ],
           "sequential": [
            [
             0,
             "#0d0887"
            ],
            [
             0.1111111111111111,
             "#46039f"
            ],
            [
             0.2222222222222222,
             "#7201a8"
            ],
            [
             0.3333333333333333,
             "#9c179e"
            ],
            [
             0.4444444444444444,
             "#bd3786"
            ],
            [
             0.5555555555555556,
             "#d8576b"
            ],
            [
             0.6666666666666666,
             "#ed7953"
            ],
            [
             0.7777777777777778,
             "#fb9f3a"
            ],
            [
             0.8888888888888888,
             "#fdca26"
            ],
            [
             1,
             "#f0f921"
            ]
           ],
           "sequentialminus": [
            [
             0,
             "#0d0887"
            ],
            [
             0.1111111111111111,
             "#46039f"
            ],
            [
             0.2222222222222222,
             "#7201a8"
            ],
            [
             0.3333333333333333,
             "#9c179e"
            ],
            [
             0.4444444444444444,
             "#bd3786"
            ],
            [
             0.5555555555555556,
             "#d8576b"
            ],
            [
             0.6666666666666666,
             "#ed7953"
            ],
            [
             0.7777777777777778,
             "#fb9f3a"
            ],
            [
             0.8888888888888888,
             "#fdca26"
            ],
            [
             1,
             "#f0f921"
            ]
           ]
          },
          "colorway": [
           "#636efa",
           "#EF553B",
           "#00cc96",
           "#ab63fa",
           "#FFA15A",
           "#19d3f3",
           "#FF6692",
           "#B6E880",
           "#FF97FF",
           "#FECB52"
          ],
          "font": {
           "color": "#2a3f5f"
          },
          "geo": {
           "bgcolor": "white",
           "lakecolor": "white",
           "landcolor": "#E5ECF6",
           "showlakes": true,
           "showland": true,
           "subunitcolor": "white"
          },
          "hoverlabel": {
           "align": "left"
          },
          "hovermode": "closest",
          "mapbox": {
           "style": "light"
          },
          "paper_bgcolor": "white",
          "plot_bgcolor": "#E5ECF6",
          "polar": {
           "angularaxis": {
            "gridcolor": "white",
            "linecolor": "white",
            "ticks": ""
           },
           "bgcolor": "#E5ECF6",
           "radialaxis": {
            "gridcolor": "white",
            "linecolor": "white",
            "ticks": ""
           }
          },
          "scene": {
           "xaxis": {
            "backgroundcolor": "#E5ECF6",
            "gridcolor": "white",
            "gridwidth": 2,
            "linecolor": "white",
            "showbackground": true,
            "ticks": "",
            "zerolinecolor": "white"
           },
           "yaxis": {
            "backgroundcolor": "#E5ECF6",
            "gridcolor": "white",
            "gridwidth": 2,
            "linecolor": "white",
            "showbackground": true,
            "ticks": "",
            "zerolinecolor": "white"
           },
           "zaxis": {
            "backgroundcolor": "#E5ECF6",
            "gridcolor": "white",
            "gridwidth": 2,
            "linecolor": "white",
            "showbackground": true,
            "ticks": "",
            "zerolinecolor": "white"
           }
          },
          "shapedefaults": {
           "line": {
            "color": "#2a3f5f"
           }
          },
          "ternary": {
           "aaxis": {
            "gridcolor": "white",
            "linecolor": "white",
            "ticks": ""
           },
           "baxis": {
            "gridcolor": "white",
            "linecolor": "white",
            "ticks": ""
           },
           "bgcolor": "#E5ECF6",
           "caxis": {
            "gridcolor": "white",
            "linecolor": "white",
            "ticks": ""
           }
          },
          "title": {
           "x": 0.05
          },
          "xaxis": {
           "automargin": true,
           "gridcolor": "white",
           "linecolor": "white",
           "ticks": "",
           "title": {
            "standoff": 15
           },
           "zerolinecolor": "white",
           "zerolinewidth": 2
          },
          "yaxis": {
           "automargin": true,
           "gridcolor": "white",
           "linecolor": "white",
           "ticks": "",
           "title": {
            "standoff": 15
           },
           "zerolinecolor": "white",
           "zerolinewidth": 2
          }
         }
        },
        "title": {
         "text": "Share of Cumulative Hospitalizations vs Share of Population Delta - Without NY Data"
        },
        "width": 800,
        "xaxis": {
         "autorange": true,
         "range": [
          -0.5,
          49.5
         ],
         "tickfont": {
          "size": 8
         },
         "type": "category"
        },
        "yaxis": {
         "autorange": true,
         "range": [
          -0.1405559162602662,
          0.10947226400757981
         ],
         "tickformat": "0.0%",
         "type": "linear"
        }
       }
      },
      "image/png": "[encoded data removed]",
      "text/html": [
       "<div>\n",
       "        \n",
       "        \n",
       "            <div id=\"e34945e7-8bde-484b-8341-a08b96e6e500\" class=\"plotly-graph-div\" style=\"height:800px; width:800px;\"></div>\n",
       "            <script type=\"text/javascript\">\n",
       "                require([\"plotly\"], function(Plotly) {\n",
       "                    window.PLOTLYENV=window.PLOTLYENV || {};\n",
       "                    \n",
       "                if (document.getElementById(\"e34945e7-8bde-484b-8341-a08b96e6e500\")) {\n",
       "                    Plotly.newPlot(\n",
       "                        'e34945e7-8bde-484b-8341-a08b96e6e500',\n",
       "                        [{\"marker\": {\"color\": [\"red\", \"red\", \"red\", \"red\", \"red\", \"red\", \"red\", \"red\", \"red\", \"red\", \"red\", \"red\", \"red\", \"red\", \"red\", \"red\", \"red\", \"red\", \"red\", \"red\", \"red\", \"green\", \"green\", \"green\", \"green\", \"green\", \"green\", \"green\", \"green\", \"green\", \"green\", \"green\", \"green\", \"green\", \"green\", \"green\", \"green\", \"green\", \"green\", \"green\", \"green\", \"green\", \"green\", \"green\", \"green\", \"green\", \"green\", \"green\", \"green\", \"green\"]}, \"type\": \"bar\", \"x\": [\"GA\", \"MA\", \"MD\", \"FL\", \"OH\", \"CO\", \"MS\", \"WI\", \"KY\", \"RI\", \"OK\", \"SC\", \"AL\", \"TN\", \"KS\", \"OR\", \"NH\", \"WV\", \"ME\", \"ID\", \"WY\", \"ND\", \"MN\", \"UT\", \"SD\", \"AK\", \"MT\", \"VT\", \"DC\", \"HI\", \"DE\", \"AR\", \"NE\", \"NM\", \"NV\", \"IA\", \"CT\", \"LA\", \"MO\", \"IN\", \"AZ\", \"WA\", \"VA\", \"NJ\", \"MI\", \"NC\", \"IL\", \"PA\", \"TX\", \"CA\"], \"y\": [0.0969708549941875, 0.09142151533604861, 0.07653688407184453, 0.07478474557262031, 0.061194594106830924, 0.053859666710846785, 0.03189557264635083, 0.02952536168420677, 0.018299402611800804, 0.012709643589918367, 0.009542669522488115, 0.007414310393718593, 0.006483468545575362, 0.006039795728766249, 0.0056945678595274486, 0.00415308188703414, 0.0029948311966996478, 0.0022739455527441277, 0.001714849840052799, 0.0007095324031106071, 0.00022431025545919712, -0.0004972215993693234, -0.000723530150724204, -0.0007493236662847996, -0.000755780317599924, -0.0007973670906959458, -0.0011990077230676272, -0.002013798160319465, -0.0023107917141267395, -0.0023899406465941113, -0.003151528502465844, -0.0034224386352125526, -0.006260668746976771, -0.006722610980226766, -0.01006691627792888, -0.010195783636133576, -0.011424555748050902, -0.014894194980336962, -0.01978098397530505, -0.021628124459094806, -0.023658207790530236, -0.02500039895302542, -0.027658841716226432, -0.02865399424698996, -0.03220811500882187, -0.03402559333116375, -0.04059166915606835, -0.041108523742248444, -0.09449918630736913, -0.1280545072468739]}],\n",
       "                        {\"autosize\": false, \"height\": 800, \"margin\": {\"b\": 100, \"l\": 50, \"pad\": 4, \"r\": 50, \"t\": 100}, \"template\": {\"data\": {\"bar\": [{\"error_x\": {\"color\": \"#2a3f5f\"}, \"error_y\": {\"color\": \"#2a3f5f\"}, \"marker\": {\"line\": {\"color\": \"#E5ECF6\", \"width\": 0.5}}, \"type\": \"bar\"}], \"barpolar\": [{\"marker\": {\"line\": {\"color\": \"#E5ECF6\", \"width\": 0.5}}, \"type\": \"barpolar\"}], \"carpet\": [{\"aaxis\": {\"endlinecolor\": \"#2a3f5f\", \"gridcolor\": \"white\", \"linecolor\": \"white\", \"minorgridcolor\": \"white\", \"startlinecolor\": \"#2a3f5f\"}, \"baxis\": {\"endlinecolor\": \"#2a3f5f\", \"gridcolor\": \"white\", \"linecolor\": \"white\", \"minorgridcolor\": \"white\", \"startlinecolor\": \"#2a3f5f\"}, \"type\": \"carpet\"}], \"choropleth\": [{\"colorbar\": {\"outlinewidth\": 0, \"ticks\": \"\"}, \"type\": \"choropleth\"}], \"contour\": [{\"colorbar\": {\"outlinewidth\": 0, \"ticks\": \"\"}, \"colorscale\": [[0.0, \"#0d0887\"], [0.1111111111111111, \"#46039f\"], [0.2222222222222222, \"#7201a8\"], [0.3333333333333333, \"#9c179e\"], [0.4444444444444444, \"#bd3786\"], [0.5555555555555556, \"#d8576b\"], [0.6666666666666666, \"#ed7953\"], [0.7777777777777778, \"#fb9f3a\"], [0.8888888888888888, \"#fdca26\"], [1.0, \"#f0f921\"]], \"type\": \"contour\"}], \"contourcarpet\": [{\"colorbar\": {\"outlinewidth\": 0, \"ticks\": \"\"}, \"type\": \"contourcarpet\"}], \"heatmap\": [{\"colorbar\": {\"outlinewidth\": 0, \"ticks\": \"\"}, \"colorscale\": [[0.0, \"#0d0887\"], [0.1111111111111111, \"#46039f\"], [0.2222222222222222, \"#7201a8\"], [0.3333333333333333, \"#9c179e\"], [0.4444444444444444, \"#bd3786\"], [0.5555555555555556, \"#d8576b\"], [0.6666666666666666, \"#ed7953\"], [0.7777777777777778, \"#fb9f3a\"], [0.8888888888888888, \"#fdca26\"], [1.0, \"#f0f921\"]], \"type\": \"heatmap\"}], \"heatmapgl\": [{\"colorbar\": {\"outlinewidth\": 0, \"ticks\": \"\"}, \"colorscale\": [[0.0, \"#0d0887\"], [0.1111111111111111, \"#46039f\"], [0.2222222222222222, \"#7201a8\"], [0.3333333333333333, \"#9c179e\"], [0.4444444444444444, \"#bd3786\"], [0.5555555555555556, \"#d8576b\"], [0.6666666666666666, \"#ed7953\"], [0.7777777777777778, \"#fb9f3a\"], [0.8888888888888888, \"#fdca26\"], [1.0, \"#f0f921\"]], \"type\": \"heatmapgl\"}], \"histogram\": [{\"marker\": {\"colorbar\": {\"outlinewidth\": 0, \"ticks\": \"\"}}, \"type\": \"histogram\"}], \"histogram2d\": [{\"colorbar\": {\"outlinewidth\": 0, \"ticks\": \"\"}, \"colorscale\": [[0.0, \"#0d0887\"], [0.1111111111111111, \"#46039f\"], [0.2222222222222222, \"#7201a8\"], [0.3333333333333333, \"#9c179e\"], [0.4444444444444444, \"#bd3786\"], [0.5555555555555556, \"#d8576b\"], [0.6666666666666666, \"#ed7953\"], [0.7777777777777778, \"#fb9f3a\"], [0.8888888888888888, \"#fdca26\"], [1.0, \"#f0f921\"]], \"type\": \"histogram2d\"}], \"histogram2dcontour\": [{\"colorbar\": {\"outlinewidth\": 0, \"ticks\": \"\"}, \"colorscale\": [[0.0, \"#0d0887\"], [0.1111111111111111, \"#46039f\"], [0.2222222222222222, \"#7201a8\"], [0.3333333333333333, \"#9c179e\"], [0.4444444444444444, \"#bd3786\"], [0.5555555555555556, \"#d8576b\"], [0.6666666666666666, \"#ed7953\"], [0.7777777777777778, \"#fb9f3a\"], [0.8888888888888888, \"#fdca26\"], [1.0, \"#f0f921\"]], \"type\": \"histogram2dcontour\"}], \"mesh3d\": [{\"colorbar\": {\"outlinewidth\": 0, \"ticks\": \"\"}, \"type\": \"mesh3d\"}], \"parcoords\": [{\"line\": {\"colorbar\": {\"outlinewidth\": 0, \"ticks\": \"\"}}, \"type\": \"parcoords\"}], \"pie\": [{\"automargin\": true, \"type\": \"pie\"}], \"scatter\": [{\"marker\": {\"colorbar\": {\"outlinewidth\": 0, \"ticks\": \"\"}}, \"type\": \"scatter\"}], \"scatter3d\": [{\"line\": {\"colorbar\": {\"outlinewidth\": 0, \"ticks\": \"\"}}, \"marker\": {\"colorbar\": {\"outlinewidth\": 0, \"ticks\": \"\"}}, \"type\": \"scatter3d\"}], \"scattercarpet\": [{\"marker\": {\"colorbar\": {\"outlinewidth\": 0, \"ticks\": \"\"}}, \"type\": \"scattercarpet\"}], \"scattergeo\": [{\"marker\": {\"colorbar\": {\"outlinewidth\": 0, \"ticks\": \"\"}}, \"type\": \"scattergeo\"}], \"scattergl\": [{\"marker\": {\"colorbar\": {\"outlinewidth\": 0, \"ticks\": \"\"}}, \"type\": \"scattergl\"}], \"scattermapbox\": [{\"marker\": {\"colorbar\": {\"outlinewidth\": 0, \"ticks\": \"\"}}, \"type\": \"scattermapbox\"}], \"scatterpolar\": [{\"marker\": {\"colorbar\": {\"outlinewidth\": 0, \"ticks\": \"\"}}, \"type\": \"scatterpolar\"}], \"scatterpolargl\": [{\"marker\": {\"colorbar\": {\"outlinewidth\": 0, \"ticks\": \"\"}}, \"type\": \"scatterpolargl\"}], \"scatterternary\": [{\"marker\": {\"colorbar\": {\"outlinewidth\": 0, \"ticks\": \"\"}}, \"type\": \"scatterternary\"}], \"surface\": [{\"colorbar\": {\"outlinewidth\": 0, \"ticks\": \"\"}, \"colorscale\": [[0.0, \"#0d0887\"], [0.1111111111111111, \"#46039f\"], [0.2222222222222222, \"#7201a8\"], [0.3333333333333333, \"#9c179e\"], [0.4444444444444444, \"#bd3786\"], [0.5555555555555556, \"#d8576b\"], [0.6666666666666666, \"#ed7953\"], [0.7777777777777778, \"#fb9f3a\"], [0.8888888888888888, \"#fdca26\"], [1.0, \"#f0f921\"]], \"type\": \"surface\"}], \"table\": [{\"cells\": {\"fill\": {\"color\": \"#EBF0F8\"}, \"line\": {\"color\": \"white\"}}, \"header\": {\"fill\": {\"color\": \"#C8D4E3\"}, \"line\": {\"color\": \"white\"}}, \"type\": \"table\"}]}, \"layout\": {\"annotationdefaults\": {\"arrowcolor\": \"#2a3f5f\", \"arrowhead\": 0, \"arrowwidth\": 1}, \"coloraxis\": {\"colorbar\": {\"outlinewidth\": 0, \"ticks\": \"\"}}, \"colorscale\": {\"diverging\": [[0, \"#8e0152\"], [0.1, \"#c51b7d\"], [0.2, \"#de77ae\"], [0.3, \"#f1b6da\"], [0.4, \"#fde0ef\"], [0.5, \"#f7f7f7\"], [0.6, \"#e6f5d0\"], [0.7, \"#b8e186\"], [0.8, \"#7fbc41\"], [0.9, \"#4d9221\"], [1, \"#276419\"]], \"sequential\": [[0.0, \"#0d0887\"], [0.1111111111111111, \"#46039f\"], [0.2222222222222222, \"#7201a8\"], [0.3333333333333333, \"#9c179e\"], [0.4444444444444444, \"#bd3786\"], [0.5555555555555556, \"#d8576b\"], [0.6666666666666666, \"#ed7953\"], [0.7777777777777778, \"#fb9f3a\"], [0.8888888888888888, \"#fdca26\"], [1.0, \"#f0f921\"]], \"sequentialminus\": [[0.0, \"#0d0887\"], [0.1111111111111111, \"#46039f\"], [0.2222222222222222, \"#7201a8\"], [0.3333333333333333, \"#9c179e\"], [0.4444444444444444, \"#bd3786\"], [0.5555555555555556, \"#d8576b\"], [0.6666666666666666, \"#ed7953\"], [0.7777777777777778, \"#fb9f3a\"], [0.8888888888888888, \"#fdca26\"], [1.0, \"#f0f921\"]]}, \"colorway\": [\"#636efa\", \"#EF553B\", \"#00cc96\", \"#ab63fa\", \"#FFA15A\", \"#19d3f3\", \"#FF6692\", \"#B6E880\", \"#FF97FF\", \"#FECB52\"], \"font\": {\"color\": \"#2a3f5f\"}, \"geo\": {\"bgcolor\": \"white\", \"lakecolor\": \"white\", \"landcolor\": \"#E5ECF6\", \"showlakes\": true, \"showland\": true, \"subunitcolor\": \"white\"}, \"hoverlabel\": {\"align\": \"left\"}, \"hovermode\": \"closest\", \"mapbox\": {\"style\": \"light\"}, \"paper_bgcolor\": \"white\", \"plot_bgcolor\": \"#E5ECF6\", \"polar\": {\"angularaxis\": {\"gridcolor\": \"white\", \"linecolor\": \"white\", \"ticks\": \"\"}, \"bgcolor\": \"#E5ECF6\", \"radialaxis\": {\"gridcolor\": \"white\", \"linecolor\": \"white\", \"ticks\": \"\"}}, \"scene\": {\"xaxis\": {\"backgroundcolor\": \"#E5ECF6\", \"gridcolor\": \"white\", \"gridwidth\": 2, \"linecolor\": \"white\", \"showbackground\": true, \"ticks\": \"\", \"zerolinecolor\": \"white\"}, \"yaxis\": {\"backgroundcolor\": \"#E5ECF6\", \"gridcolor\": \"white\", \"gridwidth\": 2, \"linecolor\": \"white\", \"showbackground\": true, \"ticks\": \"\", \"zerolinecolor\": \"white\"}, \"zaxis\": {\"backgroundcolor\": \"#E5ECF6\", \"gridcolor\": \"white\", \"gridwidth\": 2, \"linecolor\": \"white\", \"showbackground\": true, \"ticks\": \"\", \"zerolinecolor\": \"white\"}}, \"shapedefaults\": {\"line\": {\"color\": \"#2a3f5f\"}}, \"ternary\": {\"aaxis\": {\"gridcolor\": \"white\", \"linecolor\": \"white\", \"ticks\": \"\"}, \"baxis\": {\"gridcolor\": \"white\", \"linecolor\": \"white\", \"ticks\": \"\"}, \"bgcolor\": \"#E5ECF6\", \"caxis\": {\"gridcolor\": \"white\", \"linecolor\": \"white\", \"ticks\": \"\"}}, \"title\": {\"x\": 0.05}, \"xaxis\": {\"automargin\": true, \"gridcolor\": \"white\", \"linecolor\": \"white\", \"ticks\": \"\", \"title\": {\"standoff\": 15}, \"zerolinecolor\": \"white\", \"zerolinewidth\": 2}, \"yaxis\": {\"automargin\": true, \"gridcolor\": \"white\", \"linecolor\": \"white\", \"ticks\": \"\", \"title\": {\"standoff\": 15}, \"zerolinecolor\": \"white\", \"zerolinewidth\": 2}}}, \"title\": {\"text\": \"Share of Cumulative Hospitalizations vs Share of Population Delta - Without NY Data\"}, \"width\": 800, \"xaxis\": {\"tickfont\": {\"size\": 8}}, \"yaxis\": {\"tickformat\": \"0.0%\"}},\n",
       "                        {\"responsive\": true}\n",
       "                    ).then(function(){\n",
       "                            \n",
       "var gd = document.getElementById('e34945e7-8bde-484b-8341-a08b96e6e500');\n",
       "var x = new MutationObserver(function (mutations, observer) {{\n",
       "        var display = window.getComputedStyle(gd).display;\n",
       "        if (!display || display === 'none') {{\n",
       "            console.log([gd, 'removed!']);\n",
       "            Plotly.purge(gd);\n",
       "            observer.disconnect();\n",
       "        }}\n",
       "}});\n",
       "\n",
       "// Listen for the removal of the full notebook cells\n",
       "var notebookContainer = gd.closest('#notebook-container');\n",
       "if (notebookContainer) {{\n",
       "    x.observe(notebookContainer, {childList: true});\n",
       "}}\n",
       "\n",
       "// Listen for the clearing of the current output cell\n",
       "var outputEl = gd.closest('.output');\n",
       "if (outputEl) {{\n",
       "    x.observe(outputEl, {childList: true});\n",
       "}}\n",
       "\n",
       "                        })\n",
       "                };\n",
       "                });\n",
       "            </script>\n",
       "        </div>"
      ]
     },
     "metadata": {},
     "output_type": "display_data"
    }
   ],
   "source": [
    "covid_sort = covid.sort_values(by='hospitalShareDelta', ascending=False)\n",
    "covid_sort['polarity'] = covid_sort['hospitalShareDelta'] < 0\n",
    "colors = []\n",
    "for polarity in covid_sort.polarity.values:\n",
    "    if polarity:\n",
    "        colors.append(\"green\")\n",
    "    else:\n",
    "        colors.append(\"red\")\n",
    "fig = go.Figure()\n",
    "fig.add_trace(go.Bar(x=covid_sort.state, y=covid_sort.hospitalShareDelta, marker_color=colors))\n",
    "fig.layout.xaxis.tickfont.size = 8\n",
    "fig.layout.yaxis.tickformat = '0.0%'\n",
    "fig.update_layout(title_text='Share of Cumulative Hospitalizations vs Share of Population Delta - Without NY Data')\n",
    "fig.update_layout(\n",
    "    autosize=False,\n",
    "    width=800,\n",
    "    height=800,\n",
    "    margin=dict(\n",
    "        l=50,\n",
    "        r=50,\n",
    "        b=100,\n",
    "        t=100,\n",
    "        pad=4\n",
    "    ),\n",
    ")\n",
    "fig.show()"
   ]
  },
  {
   "cell_type": "code",
   "execution_count": 21,
   "metadata": {
    "jupyter": {
     "source_hidden": true
    }
   },
   "outputs": [
    {
     "data": {
      "application/vnd.plotly.v1+json": {
       "config": {
        "plotlyServerURL": "https://plot.ly"
       },
       "data": [
        {
         "marker": {
          "color": [
           "red",
           "red",
           "red",
           "red",
           "red",
           "red",
           "red",
           "red",
           "red",
           "red",
           "red",
           "red",
           "red",
           "red",
           "green",
           "green",
           "green",
           "green",
           "green",
           "green",
           "green",
           "green",
           "green",
           "green",
           "green",
           "green",
           "green",
           "green",
           "green",
           "green",
           "green",
           "green",
           "green",
           "green",
           "green",
           "green",
           "green",
           "green",
           "green",
           "green",
           "green",
           "green",
           "green",
           "green",
           "green",
           "green",
           "green",
           "green",
           "green",
           "green"
          ]
         },
         "type": "bar",
         "x": [
          "NJ",
          "MI",
          "LA",
          "MA",
          "CT",
          "IL",
          "WA",
          "IN",
          "CO",
          "RI",
          "DC",
          "GA",
          "MD",
          "VT",
          "DE",
          "NV",
          "WY",
          "AK",
          "ND",
          "PA",
          "MS",
          "SD",
          "NH",
          "ME",
          "MT",
          "ID",
          "HI",
          "NM",
          "KS",
          "NE",
          "WV",
          "OK",
          "KY",
          "IA",
          "WI",
          "AR",
          "AL",
          "UT",
          "OR",
          "SC",
          "MO",
          "MN",
          "TN",
          "AZ",
          "VA",
          "OH",
          "NC",
          "FL",
          "TX",
          "CA"
         ],
         "y": [
          0.15434226043465799,
          0.08779188499117813,
          0.051323033484082514,
          0.04085139789143249,
          0.033669077210750596,
          0.018883986274643258,
          0.013052035503903419,
          0.004589104005324671,
          0.004328221262745416,
          0.0020817181291116187,
          0.0016592457390567808,
          0.0015312408763553387,
          0.00012072609386474739,
          8.358011683409295e-05,
          -8.036745377670547e-05,
          -0.001078152232985059,
          -0.001743187579016819,
          -0.0017542336412366163,
          -0.0018431175216275589,
          -0.0018575874126604275,
          -0.0022438601429970503,
          -0.0024460036597993384,
          -0.002673880423986516,
          -0.002891884447786682,
          -0.0029602107126199305,
          -0.003383428132263747,
          -0.00385544488766993,
          -0.004400513601949612,
          -0.004687496866509181,
          -0.0049123541402351974,
          -0.005026999264095161,
          -0.005264902999799113,
          -0.006637431111654676,
          -0.006974809853362041,
          -0.007227328555891378,
          -0.007496974914387023,
          -0.008024478508547074,
          -0.009175372023947038,
          -0.00982086043025501,
          -0.010188656720186148,
          -0.01124165813260842,
          -0.013035034856595414,
          -0.013951411041801857,
          -0.014519631011504018,
          -0.016497793027087856,
          -0.017143150411606804,
          -0.02758364576562068,
          -0.03209075847175528,
          -0.07300105896654516,
          -0.07659383308957052
         ]
        }
       ],
       "layout": {
        "autosize": false,
        "height": 800,
        "margin": {
         "b": 100,
         "l": 50,
         "pad": 4,
         "r": 50,
         "t": 100
        },
        "template": {
         "data": {
          "bar": [
           {
            "error_x": {
             "color": "#2a3f5f"
            },
            "error_y": {
             "color": "#2a3f5f"
            },
            "marker": {
             "line": {
              "color": "#E5ECF6",
              "width": 0.5
             }
            },
            "type": "bar"
           }
          ],
          "barpolar": [
           {
            "marker": {
             "line": {
              "color": "#E5ECF6",
              "width": 0.5
             }
            },
            "type": "barpolar"
           }
          ],
          "carpet": [
           {
            "aaxis": {
             "endlinecolor": "#2a3f5f",
             "gridcolor": "white",
             "linecolor": "white",
             "minorgridcolor": "white",
             "startlinecolor": "#2a3f5f"
            },
            "baxis": {
             "endlinecolor": "#2a3f5f",
             "gridcolor": "white",
             "linecolor": "white",
             "minorgridcolor": "white",
             "startlinecolor": "#2a3f5f"
            },
            "type": "carpet"
           }
          ],
          "choropleth": [
           {
            "colorbar": {
             "outlinewidth": 0,
             "ticks": ""
            },
            "type": "choropleth"
           }
          ],
          "contour": [
           {
            "colorbar": {
             "outlinewidth": 0,
             "ticks": ""
            },
            "colorscale": [
             [
              0,
              "#0d0887"
             ],
             [
              0.1111111111111111,
              "#46039f"
             ],
             [
              0.2222222222222222,
              "#7201a8"
             ],
             [
              0.3333333333333333,
              "#9c179e"
             ],
             [
              0.4444444444444444,
              "#bd3786"
             ],
             [
              0.5555555555555556,
              "#d8576b"
             ],
             [
              0.6666666666666666,
              "#ed7953"
             ],
             [
              0.7777777777777778,
              "#fb9f3a"
             ],
             [
              0.8888888888888888,
              "#fdca26"
             ],
             [
              1,
              "#f0f921"
             ]
            ],
            "type": "contour"
           }
          ],
          "contourcarpet": [
           {
            "colorbar": {
             "outlinewidth": 0,
             "ticks": ""
            },
            "type": "contourcarpet"
           }
          ],
          "heatmap": [
           {
            "colorbar": {
             "outlinewidth": 0,
             "ticks": ""
            },
            "colorscale": [
             [
              0,
              "#0d0887"
             ],
             [
              0.1111111111111111,
              "#46039f"
             ],
             [
              0.2222222222222222,
              "#7201a8"
             ],
             [
              0.3333333333333333,
              "#9c179e"
             ],
             [
              0.4444444444444444,
              "#bd3786"
             ],
             [
              0.5555555555555556,
              "#d8576b"
             ],
             [
              0.6666666666666666,
              "#ed7953"
             ],
             [
              0.7777777777777778,
              "#fb9f3a"
             ],
             [
              0.8888888888888888,
              "#fdca26"
             ],
             [
              1,
              "#f0f921"
             ]
            ],
            "type": "heatmap"
           }
          ],
          "heatmapgl": [
           {
            "colorbar": {
             "outlinewidth": 0,
             "ticks": ""
            },
            "colorscale": [
             [
              0,
              "#0d0887"
             ],
             [
              0.1111111111111111,
              "#46039f"
             ],
             [
              0.2222222222222222,
              "#7201a8"
             ],
             [
              0.3333333333333333,
              "#9c179e"
             ],
             [
              0.4444444444444444,
              "#bd3786"
             ],
             [
              0.5555555555555556,
              "#d8576b"
             ],
             [
              0.6666666666666666,
              "#ed7953"
             ],
             [
              0.7777777777777778,
              "#fb9f3a"
             ],
             [
              0.8888888888888888,
              "#fdca26"
             ],
             [
              1,
              "#f0f921"
             ]
            ],
            "type": "heatmapgl"
           }
          ],
          "histogram": [
           {
            "marker": {
             "colorbar": {
              "outlinewidth": 0,
              "ticks": ""
             }
            },
            "type": "histogram"
           }
          ],
          "histogram2d": [
           {
            "colorbar": {
             "outlinewidth": 0,
             "ticks": ""
            },
            "colorscale": [
             [
              0,
              "#0d0887"
             ],
             [
              0.1111111111111111,
              "#46039f"
             ],
             [
              0.2222222222222222,
              "#7201a8"
             ],
             [
              0.3333333333333333,
              "#9c179e"
             ],
             [
              0.4444444444444444,
              "#bd3786"
             ],
             [
              0.5555555555555556,
              "#d8576b"
             ],
             [
              0.6666666666666666,
              "#ed7953"
             ],
             [
              0.7777777777777778,
              "#fb9f3a"
             ],
             [
              0.8888888888888888,
              "#fdca26"
             ],
             [
              1,
              "#f0f921"
             ]
            ],
            "type": "histogram2d"
           }
          ],
          "histogram2dcontour": [
           {
            "colorbar": {
             "outlinewidth": 0,
             "ticks": ""
            },
            "colorscale": [
             [
              0,
              "#0d0887"
             ],
             [
              0.1111111111111111,
              "#46039f"
             ],
             [
              0.2222222222222222,
              "#7201a8"
             ],
             [
              0.3333333333333333,
              "#9c179e"
             ],
             [
              0.4444444444444444,
              "#bd3786"
             ],
             [
              0.5555555555555556,
              "#d8576b"
             ],
             [
              0.6666666666666666,
              "#ed7953"
             ],
             [
              0.7777777777777778,
              "#fb9f3a"
             ],
             [
              0.8888888888888888,
              "#fdca26"
             ],
             [
              1,
              "#f0f921"
             ]
            ],
            "type": "histogram2dcontour"
           }
          ],
          "mesh3d": [
           {
            "colorbar": {
             "outlinewidth": 0,
             "ticks": ""
            },
            "type": "mesh3d"
           }
          ],
          "parcoords": [
           {
            "line": {
             "colorbar": {
              "outlinewidth": 0,
              "ticks": ""
             }
            },
            "type": "parcoords"
           }
          ],
          "pie": [
           {
            "automargin": true,
            "type": "pie"
           }
          ],
          "scatter": [
           {
            "marker": {
             "colorbar": {
              "outlinewidth": 0,
              "ticks": ""
             }
            },
            "type": "scatter"
           }
          ],
          "scatter3d": [
           {
            "line": {
             "colorbar": {
              "outlinewidth": 0,
              "ticks": ""
             }
            },
            "marker": {
             "colorbar": {
              "outlinewidth": 0,
              "ticks": ""
             }
            },
            "type": "scatter3d"
           }
          ],
          "scattercarpet": [
           {
            "marker": {
             "colorbar": {
              "outlinewidth": 0,
              "ticks": ""
             }
            },
            "type": "scattercarpet"
           }
          ],
          "scattergeo": [
           {
            "marker": {
             "colorbar": {
              "outlinewidth": 0,
              "ticks": ""
             }
            },
            "type": "scattergeo"
           }
          ],
          "scattergl": [
           {
            "marker": {
             "colorbar": {
              "outlinewidth": 0,
              "ticks": ""
             }
            },
            "type": "scattergl"
           }
          ],
          "scattermapbox": [
           {
            "marker": {
             "colorbar": {
              "outlinewidth": 0,
              "ticks": ""
             }
            },
            "type": "scattermapbox"
           }
          ],
          "scatterpolar": [
           {
            "marker": {
             "colorbar": {
              "outlinewidth": 0,
              "ticks": ""
             }
            },
            "type": "scatterpolar"
           }
          ],
          "scatterpolargl": [
           {
            "marker": {
             "colorbar": {
              "outlinewidth": 0,
              "ticks": ""
             }
            },
            "type": "scatterpolargl"
           }
          ],
          "scatterternary": [
           {
            "marker": {
             "colorbar": {
              "outlinewidth": 0,
              "ticks": ""
             }
            },
            "type": "scatterternary"
           }
          ],
          "surface": [
           {
            "colorbar": {
             "outlinewidth": 0,
             "ticks": ""
            },
            "colorscale": [
             [
              0,
              "#0d0887"
             ],
             [
              0.1111111111111111,
              "#46039f"
             ],
             [
              0.2222222222222222,
              "#7201a8"
             ],
             [
              0.3333333333333333,
              "#9c179e"
             ],
             [
              0.4444444444444444,
              "#bd3786"
             ],
             [
              0.5555555555555556,
              "#d8576b"
             ],
             [
              0.6666666666666666,
              "#ed7953"
             ],
             [
              0.7777777777777778,
              "#fb9f3a"
             ],
             [
              0.8888888888888888,
              "#fdca26"
             ],
             [
              1,
              "#f0f921"
             ]
            ],
            "type": "surface"
           }
          ],
          "table": [
           {
            "cells": {
             "fill": {
              "color": "#EBF0F8"
             },
             "line": {
              "color": "white"
             }
            },
            "header": {
             "fill": {
              "color": "#C8D4E3"
             },
             "line": {
              "color": "white"
             }
            },
            "type": "table"
           }
          ]
         },
         "layout": {
          "annotationdefaults": {
           "arrowcolor": "#2a3f5f",
           "arrowhead": 0,
           "arrowwidth": 1
          },
          "coloraxis": {
           "colorbar": {
            "outlinewidth": 0,
            "ticks": ""
           }
          },
          "colorscale": {
           "diverging": [
            [
             0,
             "#8e0152"
            ],
            [
             0.1,
             "#c51b7d"
            ],
            [
             0.2,
             "#de77ae"
            ],
            [
             0.3,
             "#f1b6da"
            ],
            [
             0.4,
             "#fde0ef"
            ],
            [
             0.5,
             "#f7f7f7"
            ],
            [
             0.6,
             "#e6f5d0"
            ],
            [
             0.7,
             "#b8e186"
            ],
            [
             0.8,
             "#7fbc41"
            ],
            [
             0.9,
             "#4d9221"
            ],
            [
             1,
             "#276419"
            ]
           ],
           "sequential": [
            [
             0,
             "#0d0887"
            ],
            [
             0.1111111111111111,
             "#46039f"
            ],
            [
             0.2222222222222222,
             "#7201a8"
            ],
            [
             0.3333333333333333,
             "#9c179e"
            ],
            [
             0.4444444444444444,
             "#bd3786"
            ],
            [
             0.5555555555555556,
             "#d8576b"
            ],
            [
             0.6666666666666666,
             "#ed7953"
            ],
            [
             0.7777777777777778,
             "#fb9f3a"
            ],
            [
             0.8888888888888888,
             "#fdca26"
            ],
            [
             1,
             "#f0f921"
            ]
           ],
           "sequentialminus": [
            [
             0,
             "#0d0887"
            ],
            [
             0.1111111111111111,
             "#46039f"
            ],
            [
             0.2222222222222222,
             "#7201a8"
            ],
            [
             0.3333333333333333,
             "#9c179e"
            ],
            [
             0.4444444444444444,
             "#bd3786"
            ],
            [
             0.5555555555555556,
             "#d8576b"
            ],
            [
             0.6666666666666666,
             "#ed7953"
            ],
            [
             0.7777777777777778,
             "#fb9f3a"
            ],
            [
             0.8888888888888888,
             "#fdca26"
            ],
            [
             1,
             "#f0f921"
            ]
           ]
          },
          "colorway": [
           "#636efa",
           "#EF553B",
           "#00cc96",
           "#ab63fa",
           "#FFA15A",
           "#19d3f3",
           "#FF6692",
           "#B6E880",
           "#FF97FF",
           "#FECB52"
          ],
          "font": {
           "color": "#2a3f5f"
          },
          "geo": {
           "bgcolor": "white",
           "lakecolor": "white",
           "landcolor": "#E5ECF6",
           "showlakes": true,
           "showland": true,
           "subunitcolor": "white"
          },
          "hoverlabel": {
           "align": "left"
          },
          "hovermode": "closest",
          "mapbox": {
           "style": "light"
          },
          "paper_bgcolor": "white",
          "plot_bgcolor": "#E5ECF6",
          "polar": {
           "angularaxis": {
            "gridcolor": "white",
            "linecolor": "white",
            "ticks": ""
           },
           "bgcolor": "#E5ECF6",
           "radialaxis": {
            "gridcolor": "white",
            "linecolor": "white",
            "ticks": ""
           }
          },
          "scene": {
           "xaxis": {
            "backgroundcolor": "#E5ECF6",
            "gridcolor": "white",
            "gridwidth": 2,
            "linecolor": "white",
            "showbackground": true,
            "ticks": "",
            "zerolinecolor": "white"
           },
           "yaxis": {
            "backgroundcolor": "#E5ECF6",
            "gridcolor": "white",
            "gridwidth": 2,
            "linecolor": "white",
            "showbackground": true,
            "ticks": "",
            "zerolinecolor": "white"
           },
           "zaxis": {
            "backgroundcolor": "#E5ECF6",
            "gridcolor": "white",
            "gridwidth": 2,
            "linecolor": "white",
            "showbackground": true,
            "ticks": "",
            "zerolinecolor": "white"
           }
          },
          "shapedefaults": {
           "line": {
            "color": "#2a3f5f"
           }
          },
          "ternary": {
           "aaxis": {
            "gridcolor": "white",
            "linecolor": "white",
            "ticks": ""
           },
           "baxis": {
            "gridcolor": "white",
            "linecolor": "white",
            "ticks": ""
           },
           "bgcolor": "#E5ECF6",
           "caxis": {
            "gridcolor": "white",
            "linecolor": "white",
            "ticks": ""
           }
          },
          "title": {
           "x": 0.05
          },
          "xaxis": {
           "automargin": true,
           "gridcolor": "white",
           "linecolor": "white",
           "ticks": "",
           "title": {
            "standoff": 15
           },
           "zerolinecolor": "white",
           "zerolinewidth": 2
          },
          "yaxis": {
           "automargin": true,
           "gridcolor": "white",
           "linecolor": "white",
           "ticks": "",
           "title": {
            "standoff": 15
           },
           "zerolinecolor": "white",
           "zerolinewidth": 2
          }
         }
        },
        "title": {
         "text": "Share of Covid Deaths vs Share of Population Delta - Without NY Data"
        },
        "width": 800,
        "xaxis": {
         "autorange": true,
         "range": [
          -0.5,
          49.5
         ],
         "tickfont": {
          "size": 8
         },
         "type": "category"
        },
        "yaxis": {
         "autorange": true,
         "range": [
          -0.08942361606313877,
          0.16717204340822622
         ],
         "tickformat": "0.0%",
         "type": "linear"
        }
       }
      },
      "image/png": "[encoded data removed]",
      "text/html": [
       "<div>\n",
       "        \n",
       "        \n",
       "            <div id=\"964fe459-b493-4f3e-8c79-e1c543890449\" class=\"plotly-graph-div\" style=\"height:800px; width:800px;\"></div>\n",
       "            <script type=\"text/javascript\">\n",
       "                require([\"plotly\"], function(Plotly) {\n",
       "                    window.PLOTLYENV=window.PLOTLYENV || {};\n",
       "                    \n",
       "                if (document.getElementById(\"964fe459-b493-4f3e-8c79-e1c543890449\")) {\n",
       "                    Plotly.newPlot(\n",
       "                        '964fe459-b493-4f3e-8c79-e1c543890449',\n",
       "                        [{\"marker\": {\"color\": [\"red\", \"red\", \"red\", \"red\", \"red\", \"red\", \"red\", \"red\", \"red\", \"red\", \"red\", \"red\", \"red\", \"red\", \"green\", \"green\", \"green\", \"green\", \"green\", \"green\", \"green\", \"green\", \"green\", \"green\", \"green\", \"green\", \"green\", \"green\", \"green\", \"green\", \"green\", \"green\", \"green\", \"green\", \"green\", \"green\", \"green\", \"green\", \"green\", \"green\", \"green\", \"green\", \"green\", \"green\", \"green\", \"green\", \"green\", \"green\", \"green\", \"green\"]}, \"type\": \"bar\", \"x\": [\"NJ\", \"MI\", \"LA\", \"MA\", \"CT\", \"IL\", \"WA\", \"IN\", \"CO\", \"RI\", \"DC\", \"GA\", \"MD\", \"VT\", \"DE\", \"NV\", \"WY\", \"AK\", \"ND\", \"PA\", \"MS\", \"SD\", \"NH\", \"ME\", \"MT\", \"ID\", \"HI\", \"NM\", \"KS\", \"NE\", \"WV\", \"OK\", \"KY\", \"IA\", \"WI\", \"AR\", \"AL\", \"UT\", \"OR\", \"SC\", \"MO\", \"MN\", \"TN\", \"AZ\", \"VA\", \"OH\", \"NC\", \"FL\", \"TX\", \"CA\"], \"y\": [0.15434226043465799, 0.08779188499117813, 0.051323033484082514, 0.04085139789143249, 0.033669077210750596, 0.018883986274643258, 0.013052035503903419, 0.004589104005324671, 0.004328221262745416, 0.0020817181291116187, 0.0016592457390567808, 0.0015312408763553387, 0.00012072609386474739, 8.358011683409295e-05, -8.036745377670547e-05, -0.001078152232985059, -0.001743187579016819, -0.0017542336412366163, -0.0018431175216275589, -0.0018575874126604275, -0.0022438601429970503, -0.0024460036597993384, -0.002673880423986516, -0.002891884447786682, -0.0029602107126199305, -0.003383428132263747, -0.00385544488766993, -0.004400513601949612, -0.004687496866509181, -0.0049123541402351974, -0.005026999264095161, -0.005264902999799113, -0.006637431111654676, -0.006974809853362041, -0.007227328555891378, -0.007496974914387023, -0.008024478508547074, -0.009175372023947038, -0.00982086043025501, -0.010188656720186148, -0.01124165813260842, -0.013035034856595414, -0.013951411041801857, -0.014519631011504018, -0.016497793027087856, -0.017143150411606804, -0.02758364576562068, -0.03209075847175528, -0.07300105896654516, -0.07659383308957052]}],\n",
       "                        {\"autosize\": false, \"height\": 800, \"margin\": {\"b\": 100, \"l\": 50, \"pad\": 4, \"r\": 50, \"t\": 100}, \"template\": {\"data\": {\"bar\": [{\"error_x\": {\"color\": \"#2a3f5f\"}, \"error_y\": {\"color\": \"#2a3f5f\"}, \"marker\": {\"line\": {\"color\": \"#E5ECF6\", \"width\": 0.5}}, \"type\": \"bar\"}], \"barpolar\": [{\"marker\": {\"line\": {\"color\": \"#E5ECF6\", \"width\": 0.5}}, \"type\": \"barpolar\"}], \"carpet\": [{\"aaxis\": {\"endlinecolor\": \"#2a3f5f\", \"gridcolor\": \"white\", \"linecolor\": \"white\", \"minorgridcolor\": \"white\", \"startlinecolor\": \"#2a3f5f\"}, \"baxis\": {\"endlinecolor\": \"#2a3f5f\", \"gridcolor\": \"white\", \"linecolor\": \"white\", \"minorgridcolor\": \"white\", \"startlinecolor\": \"#2a3f5f\"}, \"type\": \"carpet\"}], \"choropleth\": [{\"colorbar\": {\"outlinewidth\": 0, \"ticks\": \"\"}, \"type\": \"choropleth\"}], \"contour\": [{\"colorbar\": {\"outlinewidth\": 0, \"ticks\": \"\"}, \"colorscale\": [[0.0, \"#0d0887\"], [0.1111111111111111, \"#46039f\"], [0.2222222222222222, \"#7201a8\"], [0.3333333333333333, \"#9c179e\"], [0.4444444444444444, \"#bd3786\"], [0.5555555555555556, \"#d8576b\"], [0.6666666666666666, \"#ed7953\"], [0.7777777777777778, \"#fb9f3a\"], [0.8888888888888888, \"#fdca26\"], [1.0, \"#f0f921\"]], \"type\": \"contour\"}], \"contourcarpet\": [{\"colorbar\": {\"outlinewidth\": 0, \"ticks\": \"\"}, \"type\": \"contourcarpet\"}], \"heatmap\": [{\"colorbar\": {\"outlinewidth\": 0, \"ticks\": \"\"}, \"colorscale\": [[0.0, \"#0d0887\"], [0.1111111111111111, \"#46039f\"], [0.2222222222222222, \"#7201a8\"], [0.3333333333333333, \"#9c179e\"], [0.4444444444444444, \"#bd3786\"], [0.5555555555555556, \"#d8576b\"], [0.6666666666666666, \"#ed7953\"], [0.7777777777777778, \"#fb9f3a\"], [0.8888888888888888, \"#fdca26\"], [1.0, \"#f0f921\"]], \"type\": \"heatmap\"}], \"heatmapgl\": [{\"colorbar\": {\"outlinewidth\": 0, \"ticks\": \"\"}, \"colorscale\": [[0.0, \"#0d0887\"], [0.1111111111111111, \"#46039f\"], [0.2222222222222222, \"#7201a8\"], [0.3333333333333333, \"#9c179e\"], [0.4444444444444444, \"#bd3786\"], [0.5555555555555556, \"#d8576b\"], [0.6666666666666666, \"#ed7953\"], [0.7777777777777778, \"#fb9f3a\"], [0.8888888888888888, \"#fdca26\"], [1.0, \"#f0f921\"]], \"type\": \"heatmapgl\"}], \"histogram\": [{\"marker\": {\"colorbar\": {\"outlinewidth\": 0, \"ticks\": \"\"}}, \"type\": \"histogram\"}], \"histogram2d\": [{\"colorbar\": {\"outlinewidth\": 0, \"ticks\": \"\"}, \"colorscale\": [[0.0, \"#0d0887\"], [0.1111111111111111, \"#46039f\"], [0.2222222222222222, \"#7201a8\"], [0.3333333333333333, \"#9c179e\"], [0.4444444444444444, \"#bd3786\"], [0.5555555555555556, \"#d8576b\"], [0.6666666666666666, \"#ed7953\"], [0.7777777777777778, \"#fb9f3a\"], [0.8888888888888888, \"#fdca26\"], [1.0, \"#f0f921\"]], \"type\": \"histogram2d\"}], \"histogram2dcontour\": [{\"colorbar\": {\"outlinewidth\": 0, \"ticks\": \"\"}, \"colorscale\": [[0.0, \"#0d0887\"], [0.1111111111111111, \"#46039f\"], [0.2222222222222222, \"#7201a8\"], [0.3333333333333333, \"#9c179e\"], [0.4444444444444444, \"#bd3786\"], [0.5555555555555556, \"#d8576b\"], [0.6666666666666666, \"#ed7953\"], [0.7777777777777778, \"#fb9f3a\"], [0.8888888888888888, \"#fdca26\"], [1.0, \"#f0f921\"]], \"type\": \"histogram2dcontour\"}], \"mesh3d\": [{\"colorbar\": {\"outlinewidth\": 0, \"ticks\": \"\"}, \"type\": \"mesh3d\"}], \"parcoords\": [{\"line\": {\"colorbar\": {\"outlinewidth\": 0, \"ticks\": \"\"}}, \"type\": \"parcoords\"}], \"pie\": [{\"automargin\": true, \"type\": \"pie\"}], \"scatter\": [{\"marker\": {\"colorbar\": {\"outlinewidth\": 0, \"ticks\": \"\"}}, \"type\": \"scatter\"}], \"scatter3d\": [{\"line\": {\"colorbar\": {\"outlinewidth\": 0, \"ticks\": \"\"}}, \"marker\": {\"colorbar\": {\"outlinewidth\": 0, \"ticks\": \"\"}}, \"type\": \"scatter3d\"}], \"scattercarpet\": [{\"marker\": {\"colorbar\": {\"outlinewidth\": 0, \"ticks\": \"\"}}, \"type\": \"scattercarpet\"}], \"scattergeo\": [{\"marker\": {\"colorbar\": {\"outlinewidth\": 0, \"ticks\": \"\"}}, \"type\": \"scattergeo\"}], \"scattergl\": [{\"marker\": {\"colorbar\": {\"outlinewidth\": 0, \"ticks\": \"\"}}, \"type\": \"scattergl\"}], \"scattermapbox\": [{\"marker\": {\"colorbar\": {\"outlinewidth\": 0, \"ticks\": \"\"}}, \"type\": \"scattermapbox\"}], \"scatterpolar\": [{\"marker\": {\"colorbar\": {\"outlinewidth\": 0, \"ticks\": \"\"}}, \"type\": \"scatterpolar\"}], \"scatterpolargl\": [{\"marker\": {\"colorbar\": {\"outlinewidth\": 0, \"ticks\": \"\"}}, \"type\": \"scatterpolargl\"}], \"scatterternary\": [{\"marker\": {\"colorbar\": {\"outlinewidth\": 0, \"ticks\": \"\"}}, \"type\": \"scatterternary\"}], \"surface\": [{\"colorbar\": {\"outlinewidth\": 0, \"ticks\": \"\"}, \"colorscale\": [[0.0, \"#0d0887\"], [0.1111111111111111, \"#46039f\"], [0.2222222222222222, \"#7201a8\"], [0.3333333333333333, \"#9c179e\"], [0.4444444444444444, \"#bd3786\"], [0.5555555555555556, \"#d8576b\"], [0.6666666666666666, \"#ed7953\"], [0.7777777777777778, \"#fb9f3a\"], [0.8888888888888888, \"#fdca26\"], [1.0, \"#f0f921\"]], \"type\": \"surface\"}], \"table\": [{\"cells\": {\"fill\": {\"color\": \"#EBF0F8\"}, \"line\": {\"color\": \"white\"}}, \"header\": {\"fill\": {\"color\": \"#C8D4E3\"}, \"line\": {\"color\": \"white\"}}, \"type\": \"table\"}]}, \"layout\": {\"annotationdefaults\": {\"arrowcolor\": \"#2a3f5f\", \"arrowhead\": 0, \"arrowwidth\": 1}, \"coloraxis\": {\"colorbar\": {\"outlinewidth\": 0, \"ticks\": \"\"}}, \"colorscale\": {\"diverging\": [[0, \"#8e0152\"], [0.1, \"#c51b7d\"], [0.2, \"#de77ae\"], [0.3, \"#f1b6da\"], [0.4, \"#fde0ef\"], [0.5, \"#f7f7f7\"], [0.6, \"#e6f5d0\"], [0.7, \"#b8e186\"], [0.8, \"#7fbc41\"], [0.9, \"#4d9221\"], [1, \"#276419\"]], \"sequential\": [[0.0, \"#0d0887\"], [0.1111111111111111, \"#46039f\"], [0.2222222222222222, \"#7201a8\"], [0.3333333333333333, \"#9c179e\"], [0.4444444444444444, \"#bd3786\"], [0.5555555555555556, \"#d8576b\"], [0.6666666666666666, \"#ed7953\"], [0.7777777777777778, \"#fb9f3a\"], [0.8888888888888888, \"#fdca26\"], [1.0, \"#f0f921\"]], \"sequentialminus\": [[0.0, \"#0d0887\"], [0.1111111111111111, \"#46039f\"], [0.2222222222222222, \"#7201a8\"], [0.3333333333333333, \"#9c179e\"], [0.4444444444444444, \"#bd3786\"], [0.5555555555555556, \"#d8576b\"], [0.6666666666666666, \"#ed7953\"], [0.7777777777777778, \"#fb9f3a\"], [0.8888888888888888, \"#fdca26\"], [1.0, \"#f0f921\"]]}, \"colorway\": [\"#636efa\", \"#EF553B\", \"#00cc96\", \"#ab63fa\", \"#FFA15A\", \"#19d3f3\", \"#FF6692\", \"#B6E880\", \"#FF97FF\", \"#FECB52\"], \"font\": {\"color\": \"#2a3f5f\"}, \"geo\": {\"bgcolor\": \"white\", \"lakecolor\": \"white\", \"landcolor\": \"#E5ECF6\", \"showlakes\": true, \"showland\": true, \"subunitcolor\": \"white\"}, \"hoverlabel\": {\"align\": \"left\"}, \"hovermode\": \"closest\", \"mapbox\": {\"style\": \"light\"}, \"paper_bgcolor\": \"white\", \"plot_bgcolor\": \"#E5ECF6\", \"polar\": {\"angularaxis\": {\"gridcolor\": \"white\", \"linecolor\": \"white\", \"ticks\": \"\"}, \"bgcolor\": \"#E5ECF6\", \"radialaxis\": {\"gridcolor\": \"white\", \"linecolor\": \"white\", \"ticks\": \"\"}}, \"scene\": {\"xaxis\": {\"backgroundcolor\": \"#E5ECF6\", \"gridcolor\": \"white\", \"gridwidth\": 2, \"linecolor\": \"white\", \"showbackground\": true, \"ticks\": \"\", \"zerolinecolor\": \"white\"}, \"yaxis\": {\"backgroundcolor\": \"#E5ECF6\", \"gridcolor\": \"white\", \"gridwidth\": 2, \"linecolor\": \"white\", \"showbackground\": true, \"ticks\": \"\", \"zerolinecolor\": \"white\"}, \"zaxis\": {\"backgroundcolor\": \"#E5ECF6\", \"gridcolor\": \"white\", \"gridwidth\": 2, \"linecolor\": \"white\", \"showbackground\": true, \"ticks\": \"\", \"zerolinecolor\": \"white\"}}, \"shapedefaults\": {\"line\": {\"color\": \"#2a3f5f\"}}, \"ternary\": {\"aaxis\": {\"gridcolor\": \"white\", \"linecolor\": \"white\", \"ticks\": \"\"}, \"baxis\": {\"gridcolor\": \"white\", \"linecolor\": \"white\", \"ticks\": \"\"}, \"bgcolor\": \"#E5ECF6\", \"caxis\": {\"gridcolor\": \"white\", \"linecolor\": \"white\", \"ticks\": \"\"}}, \"title\": {\"x\": 0.05}, \"xaxis\": {\"automargin\": true, \"gridcolor\": \"white\", \"linecolor\": \"white\", \"ticks\": \"\", \"title\": {\"standoff\": 15}, \"zerolinecolor\": \"white\", \"zerolinewidth\": 2}, \"yaxis\": {\"automargin\": true, \"gridcolor\": \"white\", \"linecolor\": \"white\", \"ticks\": \"\", \"title\": {\"standoff\": 15}, \"zerolinecolor\": \"white\", \"zerolinewidth\": 2}}}, \"title\": {\"text\": \"Share of Covid Deaths vs Share of Population Delta - Without NY Data\"}, \"width\": 800, \"xaxis\": {\"tickfont\": {\"size\": 8}}, \"yaxis\": {\"tickformat\": \"0.0%\"}},\n",
       "                        {\"responsive\": true}\n",
       "                    ).then(function(){\n",
       "                            \n",
       "var gd = document.getElementById('964fe459-b493-4f3e-8c79-e1c543890449');\n",
       "var x = new MutationObserver(function (mutations, observer) {{\n",
       "        var display = window.getComputedStyle(gd).display;\n",
       "        if (!display || display === 'none') {{\n",
       "            console.log([gd, 'removed!']);\n",
       "            Plotly.purge(gd);\n",
       "            observer.disconnect();\n",
       "        }}\n",
       "}});\n",
       "\n",
       "// Listen for the removal of the full notebook cells\n",
       "var notebookContainer = gd.closest('#notebook-container');\n",
       "if (notebookContainer) {{\n",
       "    x.observe(notebookContainer, {childList: true});\n",
       "}}\n",
       "\n",
       "// Listen for the clearing of the current output cell\n",
       "var outputEl = gd.closest('.output');\n",
       "if (outputEl) {{\n",
       "    x.observe(outputEl, {childList: true});\n",
       "}}\n",
       "\n",
       "                        })\n",
       "                };\n",
       "                });\n",
       "            </script>\n",
       "        </div>"
      ]
     },
     "metadata": {},
     "output_type": "display_data"
    }
   ],
   "source": [
    "covid_sort = covid.sort_values(by='deathShareDelta', ascending=False)\n",
    "covid_sort['polarity'] = covid_sort['deathShareDelta'] < 0\n",
    "colors = []\n",
    "for polarity in covid_sort.polarity.values:\n",
    "    if polarity:\n",
    "        colors.append(\"green\")\n",
    "    else:\n",
    "        colors.append(\"red\")\n",
    "fig = go.Figure()\n",
    "fig.add_trace(go.Bar(x=covid_sort.state, y=covid_sort.deathShareDelta, marker_color=colors))\n",
    "fig.layout.xaxis.tickfont.size = 8\n",
    "fig.layout.yaxis.tickformat = '0.0%'\n",
    "fig.update_layout(title_text='Share of Covid Deaths vs Share of Population Delta - Without NY Data')\n",
    "fig.update_layout(\n",
    "    autosize=False,\n",
    "    width=800,\n",
    "    height=800,\n",
    "    margin=dict(\n",
    "        l=50,\n",
    "        r=50,\n",
    "        b=100,\n",
    "        t=100,\n",
    "        pad=4\n",
    "    ),\n",
    ")\n",
    "fig.show()"
   ]
  },
  {
   "cell_type": "code",
   "execution_count": null,
   "metadata": {},
   "outputs": [],
   "source": []
  }
 ],
 "metadata": {
  "kernelspec": {
   "display_name": "Python 3",
   "language": "python",
   "name": "python3"
  },
  "language_info": {
   "codemirror_mode": {
    "name": "ipython",
    "version": 3
   },
   "file_extension": ".py",
   "mimetype": "text/x-python",
   "name": "python",
   "nbconvert_exporter": "python",
   "pygments_lexer": "ipython3",
   "version": "3.7.3"
  },
  "nteract": {
   "version": "0.22.0"
  }
 },
 "nbformat": 4,
 "nbformat_minor": 4
}
