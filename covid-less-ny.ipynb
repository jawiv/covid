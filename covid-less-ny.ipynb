{
 "cells": [
  {
   "cell_type": "code",
   "execution_count": 13,
   "metadata": {
    "execution": {
     "iopub.execute_input": "2020-03-30T00:16:50.028Z",
     "iopub.status.busy": "2020-03-30T00:16:50.025Z",
     "iopub.status.idle": "2020-03-30T00:16:50.249Z",
     "shell.execute_reply": "2020-03-30T00:16:50.252Z"
    },
    "jupyter": {
     "source_hidden": true
    }
   },
   "outputs": [
    {
     "data": {
      "text/html": [
       "\n",
       "    <div class=\"bk-root\">\n",
       "        <a href=\"https://bokeh.org\" target=\"_blank\" class=\"bk-logo bk-logo-small bk-logo-notebook\"></a>\n",
       "        <span id=\"1641\">Loading BokehJS ...</span>\n",
       "    </div>"
      ]
     },
     "metadata": {},
     "output_type": "display_data"
    },
    {
     "data": {
      "application/javascript": [
       "\n",
       "(function(root) {\n",
       "  function now() {\n",
       "    return new Date();\n",
       "  }\n",
       "\n",
       "  var force = true;\n",
       "\n",
       "  if (typeof root._bokeh_onload_callbacks === \"undefined\" || force === true) {\n",
       "    root._bokeh_onload_callbacks = [];\n",
       "    root._bokeh_is_loading = undefined;\n",
       "  }\n",
       "\n",
       "  var JS_MIME_TYPE = 'application/javascript';\n",
       "  var HTML_MIME_TYPE = 'text/html';\n",
       "  var EXEC_MIME_TYPE = 'application/vnd.bokehjs_exec.v0+json';\n",
       "  var CLASS_NAME = 'output_bokeh rendered_html';\n",
       "\n",
       "  /**\n",
       "   * Render data to the DOM node\n",
       "   */\n",
       "  function render(props, node) {\n",
       "    var script = document.createElement(\"script\");\n",
       "    node.appendChild(script);\n",
       "  }\n",
       "\n",
       "  /**\n",
       "   * Handle when an output is cleared or removed\n",
       "   */\n",
       "  function handleClearOutput(event, handle) {\n",
       "    var cell = handle.cell;\n",
       "\n",
       "    var id = cell.output_area._bokeh_element_id;\n",
       "    var server_id = cell.output_area._bokeh_server_id;\n",
       "    // Clean up Bokeh references\n",
       "    if (id != null && id in Bokeh.index) {\n",
       "      Bokeh.index[id].model.document.clear();\n",
       "      delete Bokeh.index[id];\n",
       "    }\n",
       "\n",
       "    if (server_id !== undefined) {\n",
       "      // Clean up Bokeh references\n",
       "      var cmd = \"from bokeh.io.state import curstate; print(curstate().uuid_to_server['\" + server_id + \"'].get_sessions()[0].document.roots[0]._id)\";\n",
       "      cell.notebook.kernel.execute(cmd, {\n",
       "        iopub: {\n",
       "          output: function(msg) {\n",
       "            var id = msg.content.text.trim();\n",
       "            if (id in Bokeh.index) {\n",
       "              Bokeh.index[id].model.document.clear();\n",
       "              delete Bokeh.index[id];\n",
       "            }\n",
       "          }\n",
       "        }\n",
       "      });\n",
       "      // Destroy server and session\n",
       "      var cmd = \"import bokeh.io.notebook as ion; ion.destroy_server('\" + server_id + \"')\";\n",
       "      cell.notebook.kernel.execute(cmd);\n",
       "    }\n",
       "  }\n",
       "\n",
       "  /**\n",
       "   * Handle when a new output is added\n",
       "   */\n",
       "  function handleAddOutput(event, handle) {\n",
       "    var output_area = handle.output_area;\n",
       "    var output = handle.output;\n",
       "\n",
       "    // limit handleAddOutput to display_data with EXEC_MIME_TYPE content only\n",
       "    if ((output.output_type != \"display_data\") || (!output.data.hasOwnProperty(EXEC_MIME_TYPE))) {\n",
       "      return\n",
       "    }\n",
       "\n",
       "    var toinsert = output_area.element.find(\".\" + CLASS_NAME.split(' ')[0]);\n",
       "\n",
       "    if (output.metadata[EXEC_MIME_TYPE][\"id\"] !== undefined) {\n",
       "      toinsert[toinsert.length - 1].firstChild.textContent = output.data[JS_MIME_TYPE];\n",
       "      // store reference to embed id on output_area\n",
       "      output_area._bokeh_element_id = output.metadata[EXEC_MIME_TYPE][\"id\"];\n",
       "    }\n",
       "    if (output.metadata[EXEC_MIME_TYPE][\"server_id\"] !== undefined) {\n",
       "      var bk_div = document.createElement(\"div\");\n",
       "      bk_div.innerHTML = output.data[HTML_MIME_TYPE];\n",
       "      var script_attrs = bk_div.children[0].attributes;\n",
       "      for (var i = 0; i < script_attrs.length; i++) {\n",
       "        toinsert[toinsert.length - 1].firstChild.setAttribute(script_attrs[i].name, script_attrs[i].value);\n",
       "        toinsert[toinsert.length - 1].firstChild.textContent = bk_div.children[0].textContent\n",
       "      }\n",
       "      // store reference to server id on output_area\n",
       "      output_area._bokeh_server_id = output.metadata[EXEC_MIME_TYPE][\"server_id\"];\n",
       "    }\n",
       "  }\n",
       "\n",
       "  function register_renderer(events, OutputArea) {\n",
       "\n",
       "    function append_mime(data, metadata, element) {\n",
       "      // create a DOM node to render to\n",
       "      var toinsert = this.create_output_subarea(\n",
       "        metadata,\n",
       "        CLASS_NAME,\n",
       "        EXEC_MIME_TYPE\n",
       "      );\n",
       "      this.keyboard_manager.register_events(toinsert);\n",
       "      // Render to node\n",
       "      var props = {data: data, metadata: metadata[EXEC_MIME_TYPE]};\n",
       "      render(props, toinsert[toinsert.length - 1]);\n",
       "      element.append(toinsert);\n",
       "      return toinsert\n",
       "    }\n",
       "\n",
       "    /* Handle when an output is cleared or removed */\n",
       "    events.on('clear_output.CodeCell', handleClearOutput);\n",
       "    events.on('delete.Cell', handleClearOutput);\n",
       "\n",
       "    /* Handle when a new output is added */\n",
       "    events.on('output_added.OutputArea', handleAddOutput);\n",
       "\n",
       "    /**\n",
       "     * Register the mime type and append_mime function with output_area\n",
       "     */\n",
       "    OutputArea.prototype.register_mime_type(EXEC_MIME_TYPE, append_mime, {\n",
       "      /* Is output safe? */\n",
       "      safe: true,\n",
       "      /* Index of renderer in `output_area.display_order` */\n",
       "      index: 0\n",
       "    });\n",
       "  }\n",
       "\n",
       "  // register the mime type if in Jupyter Notebook environment and previously unregistered\n",
       "  if (root.Jupyter !== undefined) {\n",
       "    var events = require('base/js/events');\n",
       "    var OutputArea = require('notebook/js/outputarea').OutputArea;\n",
       "\n",
       "    if (OutputArea.prototype.mime_types().indexOf(EXEC_MIME_TYPE) == -1) {\n",
       "      register_renderer(events, OutputArea);\n",
       "    }\n",
       "  }\n",
       "\n",
       "  \n",
       "  if (typeof (root._bokeh_timeout) === \"undefined\" || force === true) {\n",
       "    root._bokeh_timeout = Date.now() + 5000;\n",
       "    root._bokeh_failed_load = false;\n",
       "  }\n",
       "\n",
       "  var NB_LOAD_WARNING = {'data': {'text/html':\n",
       "     \"<div style='background-color: #fdd'>\\n\"+\n",
       "     \"<p>\\n\"+\n",
       "     \"BokehJS does not appear to have successfully loaded. If loading BokehJS from CDN, this \\n\"+\n",
       "     \"may be due to a slow or bad network connection. Possible fixes:\\n\"+\n",
       "     \"</p>\\n\"+\n",
       "     \"<ul>\\n\"+\n",
       "     \"<li>re-rerun `output_notebook()` to attempt to load from CDN again, or</li>\\n\"+\n",
       "     \"<li>use INLINE resources instead, as so:</li>\\n\"+\n",
       "     \"</ul>\\n\"+\n",
       "     \"<code>\\n\"+\n",
       "     \"from bokeh.resources import INLINE\\n\"+\n",
       "     \"output_notebook(resources=INLINE)\\n\"+\n",
       "     \"</code>\\n\"+\n",
       "     \"</div>\"}};\n",
       "\n",
       "  function display_loaded() {\n",
       "    var el = document.getElementById(\"1641\");\n",
       "    if (el != null) {\n",
       "      el.textContent = \"BokehJS is loading...\";\n",
       "    }\n",
       "    if (root.Bokeh !== undefined) {\n",
       "      if (el != null) {\n",
       "        el.textContent = \"BokehJS \" + root.Bokeh.version + \" successfully loaded.\";\n",
       "      }\n",
       "    } else if (Date.now() < root._bokeh_timeout) {\n",
       "      setTimeout(display_loaded, 100)\n",
       "    }\n",
       "  }\n",
       "\n",
       "\n",
       "  function run_callbacks() {\n",
       "    try {\n",
       "      root._bokeh_onload_callbacks.forEach(function(callback) {\n",
       "        if (callback != null)\n",
       "          callback();\n",
       "      });\n",
       "    } finally {\n",
       "      delete root._bokeh_onload_callbacks\n",
       "    }\n",
       "    console.debug(\"Bokeh: all callbacks have finished\");\n",
       "  }\n",
       "\n",
       "  function load_libs(css_urls, js_urls, callback) {\n",
       "    if (css_urls == null) css_urls = [];\n",
       "    if (js_urls == null) js_urls = [];\n",
       "\n",
       "    root._bokeh_onload_callbacks.push(callback);\n",
       "    if (root._bokeh_is_loading > 0) {\n",
       "      console.debug(\"Bokeh: BokehJS is being loaded, scheduling callback at\", now());\n",
       "      return null;\n",
       "    }\n",
       "    if (js_urls == null || js_urls.length === 0) {\n",
       "      run_callbacks();\n",
       "      return null;\n",
       "    }\n",
       "    console.debug(\"Bokeh: BokehJS not loaded, scheduling load and callback at\", now());\n",
       "    root._bokeh_is_loading = css_urls.length + js_urls.length;\n",
       "\n",
       "    function on_load() {\n",
       "      root._bokeh_is_loading--;\n",
       "      if (root._bokeh_is_loading === 0) {\n",
       "        console.debug(\"Bokeh: all BokehJS libraries/stylesheets loaded\");\n",
       "        run_callbacks()\n",
       "      }\n",
       "    }\n",
       "\n",
       "    function on_error() {\n",
       "      console.error(\"failed to load \" + url);\n",
       "    }\n",
       "\n",
       "    for (var i = 0; i < css_urls.length; i++) {\n",
       "      var url = css_urls[i];\n",
       "      const element = document.createElement(\"link\");\n",
       "      element.onload = on_load;\n",
       "      element.onerror = on_error;\n",
       "      element.rel = \"stylesheet\";\n",
       "      element.type = \"text/css\";\n",
       "      element.href = url;\n",
       "      console.debug(\"Bokeh: injecting link tag for BokehJS stylesheet: \", url);\n",
       "      document.body.appendChild(element);\n",
       "    }\n",
       "\n",
       "    for (var i = 0; i < js_urls.length; i++) {\n",
       "      var url = js_urls[i];\n",
       "      var element = document.createElement('script');\n",
       "      element.onload = on_load;\n",
       "      element.onerror = on_error;\n",
       "      element.async = false;\n",
       "      element.src = url;\n",
       "      \n",
       "      console.debug(\"Bokeh: injecting script tag for BokehJS library: \", url);\n",
       "      document.head.appendChild(element);\n",
       "    }\n",
       "  };var element = document.getElementById(\"1641\");\n",
       "  if (element == null) {\n",
       "    console.error(\"Bokeh: ERROR: autoload.js configured with elementid '1641' but no matching script tag was found. \")\n",
       "    return false;\n",
       "  }\n",
       "\n",
       "  function inject_raw_css(css) {\n",
       "    const element = document.createElement(\"style\");\n",
       "    element.appendChild(document.createTextNode(css));\n",
       "    document.body.appendChild(element);\n",
       "  }\n",
       "\n",
       "  \n",
       "  var js_urls = [\"https://cdn.bokeh.org/bokeh/release/bokeh-2.0.0.min.js\", \"https://cdn.bokeh.org/bokeh/release/bokeh-widgets-2.0.0.min.js\", \"https://cdn.bokeh.org/bokeh/release/bokeh-tables-2.0.0.min.js\", \"https://cdn.bokeh.org/bokeh/release/bokeh-gl-2.0.0.min.js\"];\n",
       "  var css_urls = [];\n",
       "  \n",
       "\n",
       "  var inline_js = [\n",
       "    function(Bokeh) {\n",
       "      Bokeh.set_log_level(\"info\");\n",
       "    },\n",
       "    function(Bokeh) {\n",
       "    \n",
       "    \n",
       "    }\n",
       "  ];\n",
       "\n",
       "  function run_inline_js() {\n",
       "    \n",
       "    if (root.Bokeh !== undefined || force === true) {\n",
       "      \n",
       "    for (var i = 0; i < inline_js.length; i++) {\n",
       "      inline_js[i].call(root, root.Bokeh);\n",
       "    }\n",
       "    if (force === true) {\n",
       "        display_loaded();\n",
       "      }} else if (Date.now() < root._bokeh_timeout) {\n",
       "      setTimeout(run_inline_js, 100);\n",
       "    } else if (!root._bokeh_failed_load) {\n",
       "      console.log(\"Bokeh: BokehJS failed to load within specified timeout.\");\n",
       "      root._bokeh_failed_load = true;\n",
       "    } else if (force !== true) {\n",
       "      var cell = $(document.getElementById(\"1641\")).parents('.cell').data().cell;\n",
       "      cell.output_area.append_execute_result(NB_LOAD_WARNING)\n",
       "    }\n",
       "\n",
       "  }\n",
       "\n",
       "  if (root._bokeh_is_loading === 0) {\n",
       "    console.debug(\"Bokeh: BokehJS loaded, going straight to plotting\");\n",
       "    run_inline_js();\n",
       "  } else {\n",
       "    load_libs(css_urls, js_urls, function() {\n",
       "      console.debug(\"Bokeh: BokehJS plotting callback run at\", now());\n",
       "      run_inline_js();\n",
       "    });\n",
       "  }\n",
       "}(window));"
      ],
      "application/vnd.bokehjs_load.v0+json": "\n(function(root) {\n  function now() {\n    return new Date();\n  }\n\n  var force = true;\n\n  if (typeof root._bokeh_onload_callbacks === \"undefined\" || force === true) {\n    root._bokeh_onload_callbacks = [];\n    root._bokeh_is_loading = undefined;\n  }\n\n  \n\n  \n  if (typeof (root._bokeh_timeout) === \"undefined\" || force === true) {\n    root._bokeh_timeout = Date.now() + 5000;\n    root._bokeh_failed_load = false;\n  }\n\n  var NB_LOAD_WARNING = {'data': {'text/html':\n     \"<div style='background-color: #fdd'>\\n\"+\n     \"<p>\\n\"+\n     \"BokehJS does not appear to have successfully loaded. If loading BokehJS from CDN, this \\n\"+\n     \"may be due to a slow or bad network connection. Possible fixes:\\n\"+\n     \"</p>\\n\"+\n     \"<ul>\\n\"+\n     \"<li>re-rerun `output_notebook()` to attempt to load from CDN again, or</li>\\n\"+\n     \"<li>use INLINE resources instead, as so:</li>\\n\"+\n     \"</ul>\\n\"+\n     \"<code>\\n\"+\n     \"from bokeh.resources import INLINE\\n\"+\n     \"output_notebook(resources=INLINE)\\n\"+\n     \"</code>\\n\"+\n     \"</div>\"}};\n\n  function display_loaded() {\n    var el = document.getElementById(\"1641\");\n    if (el != null) {\n      el.textContent = \"BokehJS is loading...\";\n    }\n    if (root.Bokeh !== undefined) {\n      if (el != null) {\n        el.textContent = \"BokehJS \" + root.Bokeh.version + \" successfully loaded.\";\n      }\n    } else if (Date.now() < root._bokeh_timeout) {\n      setTimeout(display_loaded, 100)\n    }\n  }\n\n\n  function run_callbacks() {\n    try {\n      root._bokeh_onload_callbacks.forEach(function(callback) {\n        if (callback != null)\n          callback();\n      });\n    } finally {\n      delete root._bokeh_onload_callbacks\n    }\n    console.debug(\"Bokeh: all callbacks have finished\");\n  }\n\n  function load_libs(css_urls, js_urls, callback) {\n    if (css_urls == null) css_urls = [];\n    if (js_urls == null) js_urls = [];\n\n    root._bokeh_onload_callbacks.push(callback);\n    if (root._bokeh_is_loading > 0) {\n      console.debug(\"Bokeh: BokehJS is being loaded, scheduling callback at\", now());\n      return null;\n    }\n    if (js_urls == null || js_urls.length === 0) {\n      run_callbacks();\n      return null;\n    }\n    console.debug(\"Bokeh: BokehJS not loaded, scheduling load and callback at\", now());\n    root._bokeh_is_loading = css_urls.length + js_urls.length;\n\n    function on_load() {\n      root._bokeh_is_loading--;\n      if (root._bokeh_is_loading === 0) {\n        console.debug(\"Bokeh: all BokehJS libraries/stylesheets loaded\");\n        run_callbacks()\n      }\n    }\n\n    function on_error() {\n      console.error(\"failed to load \" + url);\n    }\n\n    for (var i = 0; i < css_urls.length; i++) {\n      var url = css_urls[i];\n      const element = document.createElement(\"link\");\n      element.onload = on_load;\n      element.onerror = on_error;\n      element.rel = \"stylesheet\";\n      element.type = \"text/css\";\n      element.href = url;\n      console.debug(\"Bokeh: injecting link tag for BokehJS stylesheet: \", url);\n      document.body.appendChild(element);\n    }\n\n    for (var i = 0; i < js_urls.length; i++) {\n      var url = js_urls[i];\n      var element = document.createElement('script');\n      element.onload = on_load;\n      element.onerror = on_error;\n      element.async = false;\n      element.src = url;\n      \n      console.debug(\"Bokeh: injecting script tag for BokehJS library: \", url);\n      document.head.appendChild(element);\n    }\n  };var element = document.getElementById(\"1641\");\n  if (element == null) {\n    console.error(\"Bokeh: ERROR: autoload.js configured with elementid '1641' but no matching script tag was found. \")\n    return false;\n  }\n\n  function inject_raw_css(css) {\n    const element = document.createElement(\"style\");\n    element.appendChild(document.createTextNode(css));\n    document.body.appendChild(element);\n  }\n\n  \n  var js_urls = [\"https://cdn.bokeh.org/bokeh/release/bokeh-2.0.0.min.js\", \"https://cdn.bokeh.org/bokeh/release/bokeh-widgets-2.0.0.min.js\", \"https://cdn.bokeh.org/bokeh/release/bokeh-tables-2.0.0.min.js\", \"https://cdn.bokeh.org/bokeh/release/bokeh-gl-2.0.0.min.js\"];\n  var css_urls = [];\n  \n\n  var inline_js = [\n    function(Bokeh) {\n      Bokeh.set_log_level(\"info\");\n    },\n    function(Bokeh) {\n    \n    \n    }\n  ];\n\n  function run_inline_js() {\n    \n    if (root.Bokeh !== undefined || force === true) {\n      \n    for (var i = 0; i < inline_js.length; i++) {\n      inline_js[i].call(root, root.Bokeh);\n    }\n    if (force === true) {\n        display_loaded();\n      }} else if (Date.now() < root._bokeh_timeout) {\n      setTimeout(run_inline_js, 100);\n    } else if (!root._bokeh_failed_load) {\n      console.log(\"Bokeh: BokehJS failed to load within specified timeout.\");\n      root._bokeh_failed_load = true;\n    } else if (force !== true) {\n      var cell = $(document.getElementById(\"1641\")).parents('.cell').data().cell;\n      cell.output_area.append_execute_result(NB_LOAD_WARNING)\n    }\n\n  }\n\n  if (root._bokeh_is_loading === 0) {\n    console.debug(\"Bokeh: BokehJS loaded, going straight to plotting\");\n    run_inline_js();\n  } else {\n    load_libs(css_urls, js_urls, function() {\n      console.debug(\"Bokeh: BokehJS plotting callback run at\", now());\n      run_inline_js();\n    });\n  }\n}(window));"
     },
     "metadata": {},
     "output_type": "display_data"
    }
   ],
   "source": [
    "import requests\n",
    "import pandas as pd\n",
    "import numpy as np\n",
    "import math\n",
    "import json\n",
    "from bokeh.plotting import figure, output_notebook, show\n",
    "from bokeh.models import ColumnDataSource, NumeralTickFormatter\n",
    "from bokeh.models.widgets import Tabs, Panel\n",
    "from bokeh.transform import factor_cmap\n",
    "from bokeh.palettes import Spectral6\n",
    "from IPython.display import Markdown as md\n",
    "import plotly.graph_objects as go\n",
    "import os\n",
    "\n",
    "# Initialize Bokeh for charts\n",
    "output_notebook()\n",
    "\n",
    "# Load State Covid json file\n",
    "with open('states_current.json') as data:\n",
    "    sars = pd.read_json(data)\n",
    "\n",
    "# COLUMN REFERENCE\n",
    "# stats: state, positive, negative, pending, hospitalized, death, lastUpdateEt, totalTestResults, grade, score\n",
    "\n",
    "# Drop columns not currently being used\n",
    "drop_columns = [\"positiveScore\",\n",
    "                \"negativeScore\",\n",
    "                \"negativeRegularScore\",\n",
    "                \"commercialScore\",\n",
    "                \"total\",\n",
    "                \"checkTimeEt\",\n",
    "                \"fips\",\n",
    "                \"dateModified\",\n",
    "                \"dateChecked\",\n",
    "                \"notes\",\n",
    "                \"hash\",\n",
    "               ]\n",
    "sars.drop(columns=drop_columns, inplace=True)\n",
    "\n",
    "# Drop states\n",
    "drop_states = [\"PR\",\n",
    "               \"AS\",\n",
    "               \"GU\",\n",
    "               \"MP\",\n",
    "               \"VI\",\n",
    "               \"NY\",\n",
    "              ]\n",
    "for state in drop_states:\n",
    "    sars.drop(sars[sars.state == state].index, inplace=True)\n",
    "\n",
    "# Fill any missing data with zeroes\n",
    "sars['pending'].fillna(0, inplace=True)\n",
    "sars['hospitalized'].fillna(0, inplace=True)\n",
    "sars['death'].fillna(0, inplace=True)\n",
    "sars['negative'].fillna(0, inplace=True)\n",
    "sars['score'].fillna(0, inplace=True)\n",
    "\n",
    "\n",
    "# Load State Population file\n",
    "with open('state_populations.json') as data:\n",
    "    state_pop = pd.read_json(data)\n",
    "\n",
    "# Merge state population data with covid data into new covid dataframe\n",
    "covid = pd.merge(left=sars, right=state_pop[['state_code','state_name','population']], how='left', left_on='state', right_on='state_code')\n",
    "\n",
    "# Create new columns in covid dataframe\n",
    "covid['infectionRate'] = covid['positive'].div(covid['population'], fill_value=0)\n",
    "covid['positiveRate'] = covid['positive'].div(covid['totalTestResults'], fill_value=0)\n",
    "covid['negativeRate'] = covid['negative'].div(covid['totalTestResults'], fill_value=0)\n",
    "covid['hospitalRate'] = covid['hospitalized'].div(covid['positive'], fill_value=0)\n",
    "covid['deathRate'] = covid['death'].div(covid['positive'], fill_value=0)\n",
    "covid['testRate'] = covid['totalTestResults'].div(covid['population'], fill_value=0)\n",
    "covid['positivePC'] = covid['infectionRate'].mul(1000000)\n",
    "covid['hospitalPC'] = covid['positivePC'].mul(covid['hospitalRate'])\n",
    "covid['deathPC'] = covid['positivePC'].mul(covid['deathRate'])\n",
    "covid['testPC'] = covid['testRate'].mul(1000000)\n",
    "\n",
    "# Reorder dataframe\n",
    "covid = covid[['state_name',\n",
    "               'state',\n",
    "               'population',\n",
    "               'positive',\n",
    "               'negative',\n",
    "               'pending',\n",
    "               'totalTestResults',\n",
    "               'infectionRate',\n",
    "               'positiveRate',\n",
    "               'negativeRate',\n",
    "               'hospitalized',\n",
    "               'hospitalRate',\n",
    "               'death',\n",
    "               'deathRate',\n",
    "               'testRate',\n",
    "               'positivePC',\n",
    "               'hospitalPC',\n",
    "               'deathPC',\n",
    "               'testPC',\n",
    "             ]]\n",
    "\n",
    "# Create index list for for bokeh graphs\n",
    "index = covid['state_name'].to_list()\n",
    "\n",
    "# Set new index for covid dataframe\n",
    "covid.set_index('state_name', inplace=True)\n",
    "\n",
    "# Sum US Statistics from covid dataframe \n",
    "total_population = int(covid['population'].sum())\n",
    "total_positives = int(covid['positive'].sum())\n",
    "total_negatives = int(covid['negative'].sum())\n",
    "total_pendings = int(covid['pending'].sum())\n",
    "total_hospitalized = int(covid['hospitalized'].sum())\n",
    "total_test_results = int(covid['totalTestResults'].sum())\n",
    "total_deaths = int(covid['death'].sum())\n",
    "\n",
    "# Calculate rates for US Statistics\n",
    "infection_rate = total_positives / total_population\n",
    "positive_rate = total_positives / total_test_results\n",
    "negative_rate = total_negatives / total_test_results\n",
    "pending_rate = total_pendings / total_test_results\n",
    "hospitalization_rate = total_hospitalized / total_positives\n",
    "death_rate = total_deaths / total_positives\n",
    "test_rate = total_test_results / total_population\n",
    "positive_pc = infection_rate * 1000000\n",
    "hospital_pc = positive_pc * hospitalization_rate\n",
    "death_pc = positive_pc * death_rate\n",
    "test_pc = test_rate * 1000000\n",
    "\n",
    "# Create tracking data for various metrics to see how each state is performing\n",
    "covid['expectedPositives'] = covid['population'].mul(infection_rate)\n",
    "covid['positiveDelta'] = covid['positive'].sub(covid['expectedPositives'])\n",
    "covid['positiveDeltaRate'] = covid['positiveDelta'].div(covid['expectedPositives'], fill_value=0)\n",
    "\n",
    "covid['expectedNegatives'] = covid['totalTestResults'].mul(negative_rate)\n",
    "covid['negativeDelta'] = covid['negative'].sub(covid['expectedNegatives'])\n",
    "covid['negativeDeltaRate'] = covid['negativeDelta'].div(covid['expectedNegatives'], fill_value=0)\n",
    "\n",
    "covid['expectedHospitalizations'] = covid['positive'].mul(hospitalization_rate)\n",
    "covid['hospitalDelta'] = covid['hospitalized'].sub(covid['expectedHospitalizations'])\n",
    "covid['hospitalDeltaRate'] = covid['hospitalDelta'].div(covid['expectedHospitalizations'], fill_value=0)\n",
    "\n",
    "covid['expectedDeaths'] = covid['positive'].mul(death_rate)\n",
    "covid['deathDelta'] = covid['death'].sub(covid['expectedDeaths'])\n",
    "covid['deathDeltaRate'] = covid['deathDelta'].div(covid['expectedDeaths'], fill_value=0)\n",
    "\n",
    "covid['expectedTests'] = covid['population'].mul(test_rate)\n",
    "covid['testDelta'] = covid['totalTestResults'].sub(covid['expectedTests'])\n",
    "covid['testDeltaRate'] = covid['testDelta'].div(covid['expectedTests'], fill_value=0)\n",
    "\n",
    "covid['expectedPending'] = covid['totalTestResults'].mul(pending_rate)\n",
    "covid['pendingDelta'] = covid['pending'].sub(covid['expectedPending'])\n",
    "covid['pendingDeltaRate'] = covid['pendingDelta'].div(covid['expectedPending'], fill_value=0)\n",
    "\n",
    "covid['populationShare'] = covid['population'].div(total_population, fill_value=0)\n",
    "covid['positiveShare'] = covid['positive'].div(total_positives, fill_value=0)\n",
    "covid['negativeShare'] = covid['negative'].div(total_negatives, fill_value=0)\n",
    "covid['pendingShare'] = covid['pending'].div(total_pendings, fill_value=0)\n",
    "covid['hospitalShare'] = covid['hospitalized'].div(total_hospitalized, fill_value=0)\n",
    "covid['deathShare'] = covid['death'].div(total_deaths, fill_value=0)\n",
    "covid['testShare'] = covid['totalTestResults'].div(total_test_results, fill_value=0)\n",
    "\n",
    "covid['positiveShareDelta'] = covid['positiveShare'].sub(covid['populationShare'])\n",
    "covid['hospitalShareDelta'] = covid['hospitalShare'].sub(covid['populationShare'])\n",
    "covid['deathShareDelta'] = covid['deathShare'].sub(covid['populationShare'])\n",
    "covid['testShareDelta'] = covid['testShare'].sub(covid['populationShare'])"
   ]
  },
  {
   "cell_type": "code",
   "execution_count": 14,
   "metadata": {
    "execution": {
     "iopub.execute_input": "2020-03-30T00:15:52.218Z",
     "iopub.status.busy": "2020-03-30T00:15:52.214Z",
     "iopub.status.idle": "2020-03-30T00:15:52.224Z",
     "shell.execute_reply": "2020-03-30T00:15:52.228Z"
    },
    "nteract": {
     "transient": {
      "deleting": false
     }
    }
   },
   "outputs": [],
   "source": [
    "# Define which states to track in the markdown sections below.\n",
    "# Standard Capitalization for each state name in the comma-separated list\n",
    "states_to_watch = [\"Tennessee\", \"North Carolina\", \"California\", \"Indiana\"]"
   ]
  },
  {
   "cell_type": "markdown",
   "metadata": {},
   "source": [
    "## SARS-CoV-2 / COVID-19 Testing (WITHOUT NY DATA)\n",
    "\n",
    "As states are not testing at the same rates, the usefulness of this testing data is not necessarily relevant. Is a state's share of the nation's completed tests a result of local/state government's logisitical prowess or is it because a state has a higher prevalence of the virus? Examining mortality rate is probably a better metric by which to compare states. "
   ]
  },
  {
   "cell_type": "code",
   "execution_count": 15,
   "metadata": {
    "execution": {
     "iopub.execute_input": "2020-03-30T00:16:57.051Z",
     "iopub.status.busy": "2020-03-30T00:16:57.048Z",
     "iopub.status.idle": "2020-03-30T00:16:57.064Z",
     "shell.execute_reply": "2020-03-30T00:16:57.066Z"
    },
    "jupyter": {
     "source_hidden": true
    },
    "outputExpanded": false
   },
   "outputs": [
    {
     "data": {
      "text/markdown": [
       " | Metric | `Tennessee` | `North Carolina` | `California` | `Indiana` | `United States` |\n",
       "| --- | ---: | ---: | ---: | ---: | ---: |\n",
       "| Positive Population % | `0.2044%` | `0.1262%` | `0.1518%` | `0.3336%` | `0.2944%` |\n",
       "| Tested Per 1M | `34,262` | `16,144` | `21,104` | `18,498` | `22,466` |\n",
       "| Positive Per 1M | `2,043` | `1,262` | `1,517` | `3,336` | `2,944` |\n",
       "| Positive Test Rate | `5.9646%` | `7.8195%` | `7.1913%` | `18.0339%` | `13.1046%` |\n",
       "| Negative Test Rate | `94.0354%` | `92.1805%` | `92.8087%` | `81.9661%` | `86.8954%` |\n",
       "| Expected Positives | `20,307` | `31,243` | `117,582` | `19,859` | `-----` |\n",
       "| Actual Positives | `14,096` | `13,397` | `60,614` | `22,503` | `918,225` |\n",
       "| Positive Delta | `-6,211` | `-17,846` | `-56,968` | `2,643` | `-----` |\n",
       "| Delta % | `-30.5877%` | `-57.1202%` | `-48.4500%` | `13.3111%` | `-----` |\n",
       "| Expected Tests | `154,966` | `238,414` | `897,266` | `151,546` | `-----` |\n",
       "| Actual Tests | `236,328` | `171,328` | `842,874` | `124,782` | `7,006,914` |\n",
       "| Test Delta | `81,361` | `-67,086` | `-54,392` | `-26,764` | `-----` |\n",
       "| Delta % | `52.5028%` | `-28.1386%` | `-6.0621%` | `-17.6609%` | `-----` |\n",
       "| Expected Negatives | `205,358` | `148,876` | `732,419` | `108,429` | `-----` |\n",
       "| Actual Negatives | `222,232` | `157,931` | `782,260` | `102,279` | `6,088,689` |\n",
       "| Negative Delta | `16,873` | `9,054` | `49,840` | `-6,150` | `-----` |\n",
       "| Delta % | `8.2167%` | `6.0821%` | `6.8050%` | `-5.6727%` | `-----` |\n",
       "| Expected Pending | `105` | `76` | `376` | `55` | `-----` |\n",
       "| Actual Pending | `0` | `0` | `0` | `0` | `3,134` |\n",
       "| Pending Delta | `-105` | `-76` | `-376` | `-55` | `-----` |\n",
       "| Delta % | `-100.0000%` | `-100.0000%` | `-100.0000%` | `-100.0000%` | `-----` |\n"
      ],
      "text/plain": [
       "<IPython.core.display.Markdown object>"
      ]
     },
     "execution_count": 15,
     "metadata": {},
     "output_type": "execute_result"
    }
   ],
   "source": [
    "stat_tuples_array = [('Positive Population %', \"infectionRate\", infection_rate, 0),\n",
    "                     ('Tested Per 1M', \"testPC\", test_pc, 1),\n",
    "                     ('Positive Per 1M', \"positivePC\", positive_pc, 1),\n",
    "                     ('Positive Test Rate', \"positiveRate\", positive_rate, 0),\n",
    "                     ('Negative Test Rate', \"negativeRate\", negative_rate, 0),\n",
    "                     ('Expected Positives', \"expectedPositives\", '-----', 1),\n",
    "                     ('Actual Positives', \"positive\", total_positives, 1),\n",
    "                     (\"Positive Delta\", \"positiveDelta\", '-----', 1),\n",
    "                     ('Delta %', \"positiveDeltaRate\", '-----', 0),\n",
    "                     ('Expected Tests', \"expectedTests\", '-----', 1),\n",
    "                     ('Actual Tests', \"totalTestResults\", total_test_results, 1),\n",
    "                     ('Test Delta', \"testDelta\", '-----', 1),\n",
    "                     ('Delta %', \"testDeltaRate\", '-----', 0),\n",
    "                     ('Expected Negatives', \"expectedNegatives\", '-----', 1),\n",
    "                     ('Actual Negatives', \"negative\", total_negatives, 1),\n",
    "                     ('Negative Delta', \"negativeDelta\", '-----', 1),\n",
    "                     ('Delta %', \"negativeDeltaRate\", '-----', 0),\n",
    "                     ('Expected Pending', \"expectedPending\", '-----', 1),\n",
    "                     ('Actual Pending', \"pending\", total_pendings, 1),\n",
    "                     ('Pending Delta', \"pendingDelta\", '-----', 1),\n",
    "                     ('Delta %', \"pendingDeltaRate\", '-----', 0),\n",
    "                    ]\n",
    "table = \" | Metric | \"\n",
    "for state in states_to_watch:\n",
    "    table += \"`{}` | \".format(state)\n",
    "table += \"`United States` |\\n\"\n",
    "table += \"| --- | \"\n",
    "for state in states_to_watch:\n",
    "    table += \"---: | \"\n",
    "table += \"---: |\\n\"\n",
    "for field in stat_tuples_array:\n",
    "    table += \"| {} | \".format(field[0])\n",
    "    if field[3] == 0:\n",
    "        for state in states_to_watch:\n",
    "            table += \"`{:.4%}` | \".format(covid.loc[state, field[1]])\n",
    "        if isinstance(field[2], float):\n",
    "            table += \"`{:.4%}` |\\n\".format(field[2])\n",
    "        else:\n",
    "            table += \"`{}` |\\n\".format(field[2])\n",
    "    elif field[3] == 1:\n",
    "        for state in states_to_watch:\n",
    "            table += \"`{:,}` | \".format(int(covid.loc[state, field[1]]))\n",
    "        if isinstance(field[2], float) or isinstance(field[2], int):\n",
    "            table += \"`{:,}` |\\n\".format(int(field[2]))\n",
    "        else:\n",
    "            table += \"`{}` |\\n\".format(field[2])\n",
    "\n",
    "md(table)"
   ]
  },
  {
   "cell_type": "markdown",
   "metadata": {},
   "source": [
    "## Hospitalizations (WITHOUT NY DATA)\n",
    "\n",
    "This data metric is skewed due to the states that are not reporting hospitalization data. Without the NY data, states that **ARE** reporting hospitalization data show skewed hospitalization shares."
   ]
  },
  {
   "cell_type": "code",
   "execution_count": 16,
   "metadata": {
    "execution": {
     "iopub.execute_input": "2020-03-29T23:46:36.128Z",
     "iopub.status.busy": "2020-03-29T23:46:36.126Z",
     "iopub.status.idle": "2020-03-29T23:46:36.138Z",
     "shell.execute_reply": "2020-03-29T23:46:36.193Z"
    },
    "jupyter": {
     "source_hidden": true
    }
   },
   "outputs": [
    {
     "data": {
      "text/markdown": [
       " | Metric | `Tennessee` | `North Carolina` | `California` | `Indiana` | `United States` |\n",
       "| --- | ---: | ---: | ---: | ---: | ---: |\n",
       "| Hospitalization % | `8.9813%` | `0.0000%` | `0.0000%` | `0.0000%` | `6.9726%` |\n",
       "| Positive Per 1M | `2,043` | `1,262` | `1,517` | `3,336` | `2,944` |\n",
       "| Hospital Per 1M | `183` | `0` | `0` | `0` | `205` |\n",
       "| Actual Positives | `14,096` | `13,397` | `60,614` | `22,503` | `918,225` |\n",
       "| Expected Hospitalizations | `982` | `934` | `4,226` | `1,569` | `-----` |\n",
       "| Actual Hospitalizations | `1,266` | `0` | `0` | `0` | `64,024` |\n",
       "| Hospitalized Delta | `283` | `-934` | `-4,226` | `-1,569` | `-----` |\n",
       "| Delta % | `28.8084%` | `-100.0000%` | `-100.0000%` | `-100.0000%` | `-----` |\n",
       "| Hospital Share | `1.9774%` | `0.0000%` | `0.0000%` | `0.0000%` | `-----` |\n"
      ],
      "text/plain": [
       "<IPython.core.display.Markdown object>"
      ]
     },
     "execution_count": 16,
     "metadata": {},
     "output_type": "execute_result"
    }
   ],
   "source": [
    "stat_tuples_array = [('Hospitalization %', \"hospitalRate\", hospitalization_rate, 0),\n",
    "                     ('Positive Per 1M', \"positivePC\", positive_pc, 1),\n",
    "                     ('Hospital Per 1M', \"hospitalPC\", hospital_pc, 1),\n",
    "                     ('Actual Positives', \"positive\", total_positives, 1),\n",
    "                     ('Expected Hospitalizations', \"expectedHospitalizations\", '-----', 1),\n",
    "                     ('Actual Hospitalizations', \"hospitalized\", total_hospitalized, 1),\n",
    "                     ('Hospitalized Delta', \"hospitalDelta\", '-----', 1),\n",
    "                     ('Delta %', \"hospitalDeltaRate\", '-----', 0),\n",
    "                     ('Hospital Share', \"hospitalShare\", '-----', 0),\n",
    "                    ]\n",
    "table = \" | Metric | \"\n",
    "for state in states_to_watch:\n",
    "    table += \"`{}` | \".format(state)\n",
    "table += \"`United States` |\\n\"\n",
    "table += \"| --- | \"\n",
    "for state in states_to_watch:\n",
    "    table += \"---: | \"\n",
    "table += \"---: |\\n\"\n",
    "for field in stat_tuples_array:\n",
    "    table += \"| {} | \".format(field[0])\n",
    "    if field[3] == 0:\n",
    "        for state in states_to_watch:\n",
    "            table += \"`{:.4%}` | \".format(covid.loc[state, field[1]])\n",
    "        if isinstance(field[2], float):\n",
    "            table += \"`{:.4%}` |\\n\".format(field[2])\n",
    "        else:\n",
    "            table += \"`{}` |\\n\".format(field[2])\n",
    "    elif field[3] == 1:\n",
    "        for state in states_to_watch:\n",
    "            table += \"`{:,}` | \".format(int(covid.loc[state, field[1]]))\n",
    "        if isinstance(field[2], float) or isinstance(field[2], int):\n",
    "            table += \"`{:,}` |\\n\".format(int(field[2]))\n",
    "        else:\n",
    "            table += \"`{}` |\\n\".format(field[2])\n",
    "\n",
    "md(table)"
   ]
  },
  {
   "cell_type": "markdown",
   "metadata": {},
   "source": [
    "## Mortality (WITHOUT NY DATA)\n",
    "\n",
    "Outside of NY, the death rate for SARS-CoV-2 is around 5.3% nationally based on confirmed cumulative positive tests. The actual mortality rate for the virus won't be known until we can test larger swaths of the population to determine how many people caught the disease but were asymptomatic and never knew they were infected."
   ]
  },
  {
   "cell_type": "code",
   "execution_count": 17,
   "metadata": {
    "execution": {
     "iopub.execute_input": "2020-03-29T23:46:36.148Z",
     "iopub.status.busy": "2020-03-29T23:46:36.146Z",
     "iopub.status.idle": "2020-03-29T23:46:36.157Z",
     "shell.execute_reply": "2020-03-29T23:46:36.195Z"
    },
    "jupyter": {
     "source_hidden": true
    }
   },
   "outputs": [
    {
     "data": {
      "text/markdown": [
       " | Metric | `Tennessee` | `North Carolina` | `California` | `Indiana` | `United States` |\n",
       "| --- | ---: | ---: | ---: | ---: | ---: |\n",
       "| Death Rate | `1.6813%` | `3.7844%` | `4.1311%` | `6.2836%` | `5.3430%` |\n",
       "| Positive Per 1M | `2,043` | `1,262` | `1,517` | `3,336` | `2,944` |\n",
       "| Death Per 1M | `34` | `47` | `62` | `209` | `157` |\n",
       "| Actual Positives | `14,096` | `13,397` | `60,614` | `22,503` | `918,225` |\n",
       "| Actual Hospitalizations | `1,266` | `0` | `0` | `0` | `64,024` |\n",
       "| Hospitalization % | `8.9813%` | `0.0000%` | `0.0000%` | `0.0000%` | `6.9726%` |\n",
       "| Expected Deaths | `753` | `715` | `3,238` | `1,202` | `-----` |\n",
       "| Actual Deaths | `237` | `507` | `2,504` | `1,414` | `49,061` |\n",
       "| Deaths Delta | `-516` | `-208` | `-734` | `211` | `-----` |\n",
       "| Delta % | `-68.5323%` | `-29.1707%` | `-22.6832%` | `17.6039%` | `-----` |\n",
       "| Death Share | `0.4831%` | `1.0334%` | `5.1039%` | `2.8821%` | `-----` |\n"
      ],
      "text/plain": [
       "<IPython.core.display.Markdown object>"
      ]
     },
     "execution_count": 17,
     "metadata": {},
     "output_type": "execute_result"
    }
   ],
   "source": [
    "stat_tuples_array = [('Death Rate', \"deathRate\", death_rate, 0),\n",
    "                     ('Positive Per 1M', \"positivePC\", positive_pc, 1),\n",
    "                     ('Death Per 1M', \"deathPC\", death_pc, 1),\n",
    "                     ('Actual Positives', \"positive\", total_positives, 1),\n",
    "                     ('Actual Hospitalizations', \"hospitalized\", total_hospitalized, 1),\n",
    "                     ('Hospitalization %', \"hospitalRate\", hospitalization_rate, 0),\n",
    "                     ('Expected Deaths', \"expectedDeaths\", '-----', 1),\n",
    "                     ('Actual Deaths', \"death\", total_deaths, 1),\n",
    "                     ('Deaths Delta', \"deathDelta\", '-----', 1),\n",
    "                     ('Delta %', \"deathDeltaRate\", '-----', 0),\n",
    "                     ('Death Share', \"deathShare\", '-----', 0),\n",
    "                    ]\n",
    "table = \" | Metric | \"\n",
    "for state in states_to_watch:\n",
    "    table += \"`{}` | \".format(state)\n",
    "table += \"`United States` |\\n\"\n",
    "table += \"| --- | \"\n",
    "for state in states_to_watch:\n",
    "    table += \"---: | \"\n",
    "table += \"---: |\\n\"\n",
    "for field in stat_tuples_array:\n",
    "    table += \"| {} | \".format(field[0])\n",
    "    if field[3] == 0:\n",
    "        for state in states_to_watch:\n",
    "            table += \"`{:.4%}` | \".format(covid.loc[state, field[1]])\n",
    "        if isinstance(field[2], float):\n",
    "            table += \"`{:.4%}` |\\n\".format(field[2])\n",
    "        else:\n",
    "            table += \"`{}` |\\n\".format(field[2])\n",
    "    elif field[3] == 1:\n",
    "        for state in states_to_watch:\n",
    "            table += \"`{:,}` | \".format(int(covid.loc[state, field[1]]))\n",
    "        if isinstance(field[2], float) or isinstance(field[2], int):\n",
    "            table += \"`{:,}` |\\n\".format(int(field[2]))\n",
    "        else:\n",
    "            table += \"`{}` |\\n\".format(field[2])\n",
    "\n",
    "md(table)"
   ]
  },
  {
   "cell_type": "markdown",
   "metadata": {},
   "source": [
    "## Percent Share of Total US (WITHOUT NY DATA)\n",
    "\n",
    "As mentioned above, since states are testing a vastly different rates (see test share delta chart below to see how a state is performing based on its population share), the positive and negative shares are not that relevant. Same goes with the hospital share, as some states, sadly, are not even reporting hospitalizations. Mortality rates are ultimately the greatest apples to apples metric to compare the severities of the outbreak across various states. This assumes all states are reporting deaths attributable to covid using the same criteria. While I will not discuss the merit of attributing covid to all causes of death in which patients have tested positive for the virus, this seems to be the current convention in the medical community, which hopefully makes the mortality metric a more viable comparison metric at the state level."
   ]
  },
  {
   "cell_type": "code",
   "execution_count": 18,
   "metadata": {
    "execution": {
     "iopub.execute_input": "2020-03-30T00:16:53.654Z",
     "iopub.status.busy": "2020-03-30T00:16:53.650Z",
     "iopub.status.idle": "2020-03-30T00:16:53.662Z",
     "shell.execute_reply": "2020-03-30T00:16:53.665Z"
    },
    "jupyter": {
     "source_hidden": true
    }
   },
   "outputs": [
    {
     "data": {
      "text/markdown": [
       " | Metric | `Tennessee` | `North Carolina` | `California` | `Indiana` | `United States` |\n",
       "| --- | ---: | ---: | ---: | ---: | ---: |\n",
       "| Population Share | `2.2116%` | `3.4026%` | `12.8055%` | `2.1628%` | `-----` |\n",
       "| Positive Share | `1.5351%` | `1.4590%` | `6.6012%` | `2.4507%` | `-----` |\n",
       "| Hospital Share | `1.9774%` | `0.0000%` | `0.0000%` | `0.0000%` | `-----` |\n",
       "| Death Share | `0.4831%` | `1.0334%` | `5.1039%` | `2.8821%` | `-----` |\n",
       "| Test Share | `3.3728%` | `2.4451%` | `12.0292%` | `1.7808%` | `-----` |\n",
       "| Negative Share | `3.6499%` | `2.5938%` | `12.8478%` | `1.6798%` | `-----` |\n",
       "| Pending Share | `0.0000%` | `0.0000%` | `0.0000%` | `0.0000%` | `-----` |\n"
      ],
      "text/plain": [
       "<IPython.core.display.Markdown object>"
      ]
     },
     "execution_count": 18,
     "metadata": {},
     "output_type": "execute_result"
    }
   ],
   "source": [
    "stat_tuples_array = [('Population Share', \"populationShare\", '-----', 0),\n",
    "                     ('Positive Share', \"positiveShare\", '-----', 0),\n",
    "                     ('Hospital Share', \"hospitalShare\", '-----', 0),\n",
    "                     ('Death Share', \"deathShare\", '-----', 0),\n",
    "                     ('Test Share', \"testShare\", '-----', 0),\n",
    "                     ('Negative Share', \"negativeShare\", '-----', 0),\n",
    "                     ('Pending Share', \"pendingShare\", '-----', 0),\n",
    "                    ]\n",
    "table = \" | Metric | \"\n",
    "for state in states_to_watch:\n",
    "    table += \"`{}` | \".format(state)\n",
    "table += \"`United States` |\\n\"\n",
    "table += \"| --- | \"\n",
    "for state in states_to_watch:\n",
    "    table += \"---: | \"\n",
    "table += \"---: |\\n\"\n",
    "for field in stat_tuples_array:\n",
    "    table += \"| {} | \".format(field[0])\n",
    "    if field[3] == 0:\n",
    "        for state in states_to_watch:\n",
    "            table += \"`{:.4%}` | \".format(covid.loc[state, field[1]])\n",
    "        if isinstance(field[2], float):\n",
    "            table += \"`{:.4%}` |\\n\".format(field[2])\n",
    "        else:\n",
    "            table += \"`{}` |\\n\".format(field[2])\n",
    "    elif field[3] == 1:\n",
    "        for state in states_to_watch:\n",
    "            table += \"`{:,}` | \".format(int(covid.loc[state, field[1]]))\n",
    "        if isinstance(field[2], float) or isinstance(field[2], int):\n",
    "            table += \"`{:,}` |\\n\".format(int(field[2]))\n",
    "        else:\n",
    "            table += \"`{}` |\\n\".format(field[2])\n",
    "\n",
    "md(table)"
   ]
  },
  {
   "cell_type": "markdown",
   "metadata": {},
   "source": [
    "## Charts (WITHOUT NY DATA)"
   ]
  },
  {
   "cell_type": "code",
   "execution_count": 19,
   "metadata": {
    "execution": {
     "iopub.execute_input": "2020-03-29T23:46:36.176Z",
     "iopub.status.busy": "2020-03-29T23:46:36.174Z",
     "iopub.status.idle": "2020-03-29T23:46:36.487Z",
     "shell.execute_reply": "2020-03-29T23:46:36.509Z"
    },
    "jupyter": {
     "source_hidden": true
    }
   },
   "outputs": [
    {
     "data": {
      "text/html": [
       "\n",
       "\n",
       "\n",
       "\n",
       "\n",
       "\n",
       "  <div class=\"bk-root\" id=\"a255da1d-1d69-44c8-b301-880a07806361\" data-root-id=\"1971\"></div>\n"
      ]
     },
     "metadata": {},
     "output_type": "display_data"
    },
    {
     "data": {
      "application/javascript": [
       "(function(root) {\n",
       "  function embed_document(root) {\n",
       "    \n",
       "  var docs_json = {\"3289f3b6-7ec0-43f8-a948-cf667af8aca8\":{\"roots\":{\"references\":[{\"attributes\":{\"tabs\":[{\"id\":\"1963\"},{\"id\":\"1964\"},{\"id\":\"1965\"},{\"id\":\"1966\"},{\"id\":\"1967\"},{\"id\":\"1968\"},{\"id\":\"1969\"},{\"id\":\"1970\"}]},\"id\":\"1971\",\"type\":\"Tabs\"},{\"attributes\":{\"axis\":{\"id\":\"1658\"},\"dimension\":1,\"grid_line_color\":null,\"ticker\":null},\"id\":\"1660\",\"type\":\"Grid\"},{\"attributes\":{\"end\":158426.48888783227,\"start\":0},\"id\":\"1646\",\"type\":\"DataRange1d\"},{\"attributes\":{},\"id\":\"1862\",\"type\":\"WheelZoomTool\"},{\"attributes\":{\"overlay\":{\"id\":\"2050\"}},\"id\":\"1863\",\"type\":\"BoxZoomTool\"},{\"attributes\":{},\"id\":\"1864\",\"type\":\"SaveTool\"},{\"attributes\":{},\"id\":\"1865\",\"type\":\"ResetTool\"},{\"attributes\":{},\"id\":\"1661\",\"type\":\"PanTool\"},{\"attributes\":{\"active_drag\":\"auto\",\"active_inspect\":\"auto\",\"active_multi\":null,\"active_scroll\":\"auto\",\"active_tap\":\"auto\",\"tools\":[{\"id\":\"1661\"},{\"id\":\"1662\"},{\"id\":\"1663\"},{\"id\":\"1664\"},{\"id\":\"1665\"},{\"id\":\"1666\"},{\"id\":\"1667\"}]},\"id\":\"1668\",\"type\":\"Toolbar\"},{\"attributes\":{},\"id\":\"1866\",\"type\":\"HelpTool\"},{\"attributes\":{},\"id\":\"1681\",\"type\":\"NumeralTickFormatter\"},{\"attributes\":{\"factors\":[\"Wyoming\",\"West Virginia\",\"Wisconsin\",\"Washington\",\"Vermont\",\"Virginia\",\"Utah\",\"Texas\",\"Tennessee\",\"South Dakota\",\"South Carolina\",\"Rhode Island\",\"Pennsylvania\",\"Oregon\",\"Oklahoma\",\"Ohio\",\"Nevada\",\"New Mexico\",\"New Jersey\",\"New Hampshire\",\"Nebraska\",\"North Dakota\",\"North Carolina\",\"Montana\",\"Mississippi\",\"Missouri\",\"Minnesota\",\"Michigan\",\"Maine\",\"Maryland\",\"Massachusetts\",\"Louisiana\",\"Kentucky\",\"Kansas\",\"Indiana\",\"Illinois\",\"Idaho\",\"Iowa\",\"Hawaii\",\"Georgia\",\"Florida\",\"Delaware\",\"District of Columbia\",\"Connecticut\",\"Colorado\",\"California\",\"Arizona\",\"Arkansas\",\"Alabama\",\"Alaska\"]},\"id\":\"1728\",\"type\":\"FactorRange\"},{\"attributes\":{\"callback\":null,\"tooltips\":[[\"State\",\"@state_name\"],[\"Positive Share\",\"@positiveShare{0.0000%}\"]]},\"id\":\"1867\",\"type\":\"HoverTool\"},{\"attributes\":{\"active_drag\":\"auto\",\"active_inspect\":\"auto\",\"active_multi\":null,\"active_scroll\":\"auto\",\"active_tap\":\"auto\",\"tools\":[{\"id\":\"1861\"},{\"id\":\"1862\"},{\"id\":\"1863\"},{\"id\":\"1864\"},{\"id\":\"1865\"},{\"id\":\"1866\"},{\"id\":\"1867\"}]},\"id\":\"1868\",\"type\":\"Toolbar\"},{\"attributes\":{\"fill_alpha\":{\"value\":0.1},\"fill_color\":{\"value\":\"#1f77b4\"},\"height\":{\"value\":0.5},\"line_alpha\":{\"value\":0.1},\"line_color\":{\"value\":\"white\"},\"right\":{\"field\":\"positive\"},\"y\":{\"field\":\"state_name\"}},\"id\":\"1678\",\"type\":\"HBar\"},{\"attributes\":{},\"id\":\"2025\",\"type\":\"CategoricalTickFormatter\"},{\"attributes\":{\"data_source\":{\"id\":\"1642\"},\"glyph\":{\"id\":\"1877\"},\"hover_glyph\":null,\"muted_glyph\":null,\"nonselection_glyph\":{\"id\":\"1878\"},\"selection_glyph\":null,\"view\":{\"id\":\"1880\"}},\"id\":\"1879\",\"type\":\"GlyphRenderer\"},{\"attributes\":{\"data\":{\"death\":[10,349,87,450,2504,921,2797,285,202,1667,1336,17,231,66,3111,1414,147,283,2208,4552,1503,62,4343,508,418,396,16,507,31,86,111,8801,169,286,1271,260,121,3416,388,305,31,237,973,61,769,53,870,374,51,7],\"deathDelta\":{\"__ndarray__\":\"4M8D50D3I8C4UHdmCZtfwAZ941nye1rA4GXFokpXVMDQfLJW+fSGwMCa3clZqT/AuZAfLRcrkUCg/cloPRgxwBAEPL6g1FzA+AAIHHF5ecBkfTvts3x1wKDthQiFcjDA4DDZ8Cl+dsBiWVlRuKZIwIBJBSwaHoXASJQJeRV1akDechgD0ahmwMBz9XgPB0HAvKGDpQvSgUAw4Z7wiiiDQFBGGeB3nVDA2K24lt4fIsCUEzhQfcCdQEB9A42igB5ASJcpNeRFVMDIoEBPGAZRwGgIrTN4uiDAeO+fFcQZasCIUkOPXiBFwMuoxKtrPHHA6JyFgw+zQcBUe1GcY/OZQOTMJZF2Ik7AYI49OTEUNsCAHnNBPCJWQGAojECgpTxAiBOGZf1ZQ8Dsw00O52WCQNwmDjjc02XAWDP96OdlUMCgXq37wA1fwOKFRjc5IYDA6iTF0CyvjMAER2K5tppuwKQKz+TZ93fAAFw7gUU7EEAgreTEFDE0QJAWiaIHl13AgPgvQsbDMcBgFosP6bY6wA==\",\"dtype\":\"float64\",\"shape\":[50]},\"deathDeltaRate\":{\"__ndarray__\":\"C/jKMP/437+CZu2nxATRv6/q5V4FkuG/noJMG4eZw790Kktc0QjNvyQcijknBKG/26AldVG05D9mEgHA/visv0Res6lTQte/UeZQMdslyb+NALn6cDLKvzTkaE+keN+/uuxsy219478AU1yBrV3bv32Blj2U18a/J2nrwHGIxj9anOSsqqvhv6GJ0cpGf7u/LGtrBtdI1j+UQYxxHezDP1Pz/3dhrqW/YMXqC8FSwL+oyDh8zPvoP9NU0z8PNo8/jU846h3MxL/PM1EQ8sfCvzDniTub+NW/FQNBrlKr0r/haB8PN3Xiv7/QzXuhZOi/SVLEmjnzzr8nCZxSDsbNP6bVR1Tz0tC/SZ6jJ7lYsr9rUbye4yqzP3gVIyzosr8/PbrrRh8Fz7+sWyxVeqfKP8FS/KAa3dO/GOzrzrWnxr9uIjBT3pvpv0U1qT0q7uW/Xq89WUYR37/cNaV5Ep7pvx6IIonES9W/FRkfS7Y5tT8L4BeaoFSYP5kS9FQyxc6/ijR+J6iI0L9LfTEPIVvpvw==\",\"dtype\":\"float64\",\"shape\":[50]},\"deathPC\":{\"__ndarray__\":\"MmqDNHU/K0BX/VBaFcZRQN3ciZ26oDxAiSx6mHh+TkAqxW+AV1lPQFBBp/vNsWNAPYNZH/eHiEAlkSvJS7d4QMIWFKp9sGlAAA2yWADzUkARjwtQMBxfQOYDVOZOEShAsf/OAUcpUkB04JldHBJCQD272WK0t25ArX6rRgY0akBjasCsL0FJQEeBzCpUck9AySac0Eu1fUCaEP2dvGOEQM26TGh54m5Af3+Ve+gIR0B8JOyHpgV7QO87tjIwR1ZAaz713lTwUECPvMgeLY9gQNCKuIICci1AzH6or2vjR0CfHY0jPllEQO5yq7CyBUZAdtDSjrA8VECuIetsosaOQOy6ruu6JlRA2SIdMe/FVkAggVumQAxbQFJRDd6Fb1BA4wZQouUhPEBOIBrsC6dwQMqA9Efk9XZA9qGyQCVFTUC8GhErHCpBQHw/vxkRLkFAoJj2lsyBQEBEQWta6JUyQBllhYtnSVZAZc580b8YVUBTnpMDH+VbQJpno4bL9E9Ab7HoA8uuPEAF7qB+tbAoQA==\",\"dtype\":\"float64\",\"shape\":[50]},\"deathRate\":{\"__ndarray__\":\"YRsEpzJhmz9k9gbn8RSkP2iaWibZq5g/F9wqF9wqpz+Bq5BTqSalPyYYDeh1cqo/5ToWOy+Htj+OWkhD686pP4+/zMYUaqE/euhzP077pT9sPSdD58GlP2puQTDtzps/LbeNkqdjlT8cP7oJYVGfP1rzXdZ1eaY/6QzHQQYWsD8AAAAAAICYPxBtcH/9aqg/xQ9YjNlwsj/rQeF8Np2vP4bSbhanMqo/4n0hkR/epz+6f3NhcFu4P+AfKk/wxas/iHLxzlXppj8G79/fplenP3AfwX0E96E/DzzVxVNgoz8NTnojZieXP9Vt/asZA4o/itBa4dm9pD+Lb9oyGtywP7n4/TU9KqQ/4Qg0ElFlqT/IJ+tNkGetPxoUPsdfvq4/Gu40rga6pD8X6goQxIawPy+DFqGf3aI/ZjgL3rCDpj+epNTLz9qFP2KwMSWAN5E/zSefGUsnnD8wevOpRtOFP8kfJWTlQKI/gYkhOtyfrT/wJOkLnAGsP3MvrDawx6Q/cYp4zv5JpD+2wEOvMLiGPw==\",\"dtype\":\"float64\",\"shape\":[50]},\"deathShare\":{\"__ndarray__\":\"43dAOVS3Kj+OTwqoJCN9P/sbdjHFDV0/TFRBOOfIgj/eDjP7tyGqPxBjy2YcOZM/yu8mUoAwrT/Hav0CR8t3PxSy8JBT3XA/3nrhJJRloT/vSVu1jOKbP07Mdv1ttTY/v4m6/yNJcz+1L9VIcgpWPwzsL6CxO7A/pDelPVKDnT/zOjMuootoP6AD1RWIoHc/m5rH1+sKpz/9ULNHl8C3Py2zBkzeXp8/hPaR33q0VD9Lb8NKaKm2P/YrC6e3NIU/Ghv+zu9ygT/I45+21YeAPxyTM5R2XzU/LRLB6wcqhT+E9pHferREP65NJVdHuFw/k7mE1MiIYj+kCOhcN/bGPzsYrI8KOGw/Wp6Reabgdz/YA3NuPYeaP2lhhG70tHU/EcEYGD40ZD8wA5lkHdOxP3wVT9xXMoA/RXKRRrx2eT+E9pHferREPzG/M8dgyXM/iQFSbPVOlD83KEEF/V5UPzq7y8zwDJA/1LW6Mg6zUT990ek+myiSP+tYgzx3OX8/OxkZfhIIUT+5IK3Bh7MiPw==\",\"dtype\":\"float64\",\"shape\":[50]},\"deathShareDelta\":{\"__ndarray__\":\"PmPGJSicYb9jFvV4oqqBv3jYoikHU4C/kuaurc+qjb/tiCEjUrezvwB08JcEDP8+Wp+I1w9Xpz+HNRkreahsP0BLqJqspU8/+O1qDlK1or8cOXu5yXV9v8mOjPRKInG/oe+o1Ol5dr/FGRPSJ3lyvzj0r7LpXZc/fLD4go12fT+gb0zOK/N5v6fokisAvIG/8jsyLmvVnj8UX9ISlAayPwZVj22iy4Y/8A16JTH/aL8O+kSUO9WsP/qqZnp4OoC/sHsP6/4Ph78ourZ+ZspYvwRSvIy132m/MNV19JZCmL/Imey5y6ldv0bzhaK3dnK/lUOj7tF7Yb9Co888SEvDP+erDLpL2mq/IkRlyUZbcb8gep+7IhaIvy//EimnO36/5k4cdVcxh79u0SY+GzSdP9zTz129hXI/OIgMjCF7hb++VXfLD4tiv/72yjNJs5G/SdKb51sds7+G9aOukQGDv/79VktRi4i/aIUsOdqWTr8Q+ZaCZMR9vxhQw2hv0Ia/Me6U8BMYc7+ueU+KMnNbvw==\",\"dtype\":\"float64\",\"shape\":[50]},\"expectedDeaths\":{\"__ndarray__\":\"8OeBc6D7M0Au1J1ZwrZ9QIO+8Sz5HWhAvKxYVOmagEA0n6xVPk2pQNbsTs5KxY1AR2/g0uiImkDan4zWg+FyQAQBjy8o1XNAHwCBIy41oEBZ3077LD+aQND2QoRCuUBAcJhs+BR3gkCxrKwoXNNcQGBSAYuGla1Ad83eUF3JkkBvOYyBaIR0QHiuHu/h0HNAIi8+LfqWmUC0R9hD3cWuQGWUAX7XhZhAuxXX0vvDUUA29uNXwQ2jQAvyy3X9RX9A0mVKDXkxf0AyKNAThgF9QDSE1hk8XThA3vtnBXFehkBEqaFHL1BSQMuoxKtrnHZAOmfh4MNMYkAroesYJ+S7QDlzSaSdqGxA5tiTE0NBc0AYzug73HmSQPR67vdL62xA4oRhWX/2Y0AFj2w8hhamQLeJAw73lIFA1kw/+nkpd0BQr9Z94GZjQOKFRjc5iYdAdZJiaJaLnUCCI7FcWx1zQKnCM3n2AZJAgJTYT5d4SECX2thZd46KQKRFoujBxX5AIP6LkPEwUUAwi8WHdNtAQA==\",\"dtype\":\"float64\",\"shape\":[50]},\"expectedHospitalizations\":{\"__ndarray__\":\"2Dp6cNQTOkAtrOwLXWODQABACYb1eG9AWnpIE2OrhUCRToeHXIKwQP1M/p7YbJNAxX4R4FRQoUDVEwpuraN4QG/YDZOg4XlAAK9RCKEmpUAgSzSBOCChQDVWzsT90kVA5liAmsgYiEBuUFGl/M5iQI96QsGtTbNAnLmLUCmEmECi0Yn1U8Z6QLhb5ZYM3HlANoJk5niyoEC3OEoFQhS0QNskisdAAKBA2lVGCBAvV0ABhRMTad2oQAo5HPLbZ4RAIXQhyHhahEB6i8XDG+2CQPGok7ODyz9A03Gtfu8wjUCeg6nwBeZXQCeC+EbRgX1ApexVjY/hZ0AGojfX5zLCQN7ghrgYs3JA/ZYuS6AgeUCPQzTLaByYQNPg9QCb3nJAY9h82yINakC+crelFdOsQAX6iDK08YZAqJUwyOQ5fkCoE8aPtlFpQNAYVaXXto5ALgPtuDFHo0DO5UA4xfF4QC5mkdDxf5dAs2AwzjbvT0BuacUQ9VORQFvqvCswFIRAJ/o7WS1vVkDoOxKmnf9FQA==\",\"dtype\":\"float64\",\"shape\":[50]},\"expectedNegatives\":{\"__ndarray__\":\"MA4cE86n1ECr/2VtAW/4QFb4zHuddOlArGFGwgqR90AaU60zBlomQQWZ3RcGYfNA6QABml6l+EAbdo/l6/DVQMDxSCFDMNdAdlQnW/wkGkFB+eY+0wwHQXyLM53gKN5ADN1NKUEv7EAfcTQpgDbaQENYbmJsGhRBE8lE9d14+kCCsaDSiATjQKLzjoQQrfBAf7ZXAMtLBUHQgI6+QKYSQXgO5xBqhv9AwFyLping00CROFL37DQKQSS7o4/mqvRANS2Pvqz79UA7HkKNgyPxQM0h+BtuLtFAUhDnzWEsAkH8vgvz8VbhQD9GF2k/BeBArhOBfsZx2EC87da8EwsPQXZjpt53LfJAlG4Hk1zK5UDmmeX92awCQW8sNIHNbvJAckf3VBnl7UC1J79i9t8LQbk6q3WpdvFAErPBPQVw8EA8frCRiRHRQIHRXRxyEQlBgay8J+wjGEFcCjjJ+4r8QAjRW6BXIPpApPJuBYpQz0AaMzgHwtgHQbHl43QpsfVAF59NGeRn6ECnUuezf2zEQA==\",\"dtype\":\"float64\",\"shape\":[50]},\"expectedPending\":{\"__ndarray__\":\"J0CavizGJUBX/yJ3wcFJQFW//ICI1TpAppK3eMXXSECCgo/u6I93QN1AQzyybURA5hnfWBD7SUBkWax4HSEnQFbc3hPAcShAOkypmHSPa0CFW/TjZExYQCd7M6YDyy9AftZ4MAK2PUDWjqQ666ErQCBs5ewiMWVAA47+IuHnS0DC9euuMgw0QKwUAkRDlEFAvR+0NwtzVkDVisl5z6hjQP6O9Y69nVBAgEicdbjzJEBEBtMyQqBbQHvrPiZwyUVAURhvZ3MsR0BGelt+IBFCQKJqGWWiHCJACBfV51YoU0DxGm7wV0cyQEorWYdb4zBAykfR7qzEKUCe9hBqu1xgQEkLtQd8KUNAWPodjXf4NkAV3QY1xK9TQAV8LXhbbkNA2SQDrpCDP0DiL5wZbGJdQJZdxizHaEJAJg8Lq+lTQUBB1m1ILf4hQEOJajz+bFpAOCvKO5tyaUA4kOaNtBZOQDxLMn2PiktA30sQEliBIEBhvnMEXyNZQDtxBRDn3UZA3uX0f0G6OUCj9G8lqIcVQA==\",\"dtype\":\"float64\",\"shape\":[50]},\"expectedPositives\":{\"__ndarray__\":\"33hUhw7ioEAyS2bMWjrMQE7t2hqrecFAjgbKs+M21UA+UUKZ7bT8QIIuvRiPztBAgW+cBih9xEBeMxFIp5OgQJpPb+Cfm6ZAX0MIaeSd70AhDxyzM97eQPbuI6gxP7BAex67/wJJwkD6PwGZhAC1QA/lFSIJM+JAgOxhA99k00Bftl7YS7zAQJyUbzDv38lAEr+VcBy2ykAUStVxEw/UQP20dHlvfdFAKc6hsHn0rkBCYUj4kuHcQJY/1n/wY9BA+8F4N9m80UDyrsvCcjDBQIxw+Sc2/6hAUnLAoMmC3kD45C2dSYWhQFAb/NqzdLZAvPdAel6Kr0ANeGcWtLHZQNoCaZXeHLhA4c+F29gNwkClntyJZ+PgQM3pg1fWvcZAB8S+15K7yED4A475W27iQFVQ+zsKS6hAImZEcbX1zUBNWKCOVcWkQP7bncDp1NNAf5XcPjgv9UCRnCRbjt/CQA8JS45CzdhAqH/7sHrknED+r+1x/2rWQKekw54k09BAuqsKyvFytECbo4xgrRWaQA==\",\"dtype\":\"float64\",\"shape\":[50]},\"expectedTests\":{\"__ndarray__\":\"XA2Of6oa0ECg+4Wl+uz6QFM3tIVIq/BANkAUOFg8BEEiqdTW5WErQbBJZlYRCABBf/fmEi6L80B5MXVowp/PQD75z06fkNVAQfQViH4oHkFnHgK1pXENQQOyyByi/t5AIs5lqg9x8UCP8Kg/ewjkQF4y7lYZXBFBujK4Q9N/AkEYLauKS+3vQAfcarJZrvhA6eBDfqV6+UDSPk+OLSIDQZze+mbgrgBBZPxPpeSG3UA9Z43ve4wLQcxcNNy7RP9A2pl4Ol3rAEHBd7DqcGXwQBaRBqv+19dAIrcKQHMaDUFMQbTOXbbQQNHxsvV+a+VAiHKEK98V3kCgaWqWQIIIQfhHSzkYAOdAMjwDRKA48UCvD3qX8xsQQT4nU7dBsfVA/8DPKnqX90BfzuaPr5QRQfZlUJgiLNdAuKc4OeGT/EAArvYsB9DTQMwiOMay6gJB4DfSVwc1JEFNuS8TqQDyQKuPgABZqAdBDfLOWEGPy0BU9tYpPWIFQXQW97hwDABBnzPLcHCB40DTqZwsneHIQA==\",\"dtype\":\"float64\",\"shape\":[50]},\"hospitalDelta\":{\"__ndarray__\":\"2Dp6cNQTOsDTUxP0omyBQADA9nkKR2pApoW37Jych0CRToeHXIKwwAOzAWEnO5tAnkD3j9UEvEDVEwpuraN4wG/YDZOg4XnAgCjXe6+6sEDgtMt+x3WsQJZTY3YEWj5A5liAmsgYiMBIvrpqDURLQI96QsGtTbPAnLmLUCmEmMC8XOwUWNNjQBKpRtr8yJJANoJk5niyoMCSjmv1e2GgQCXbdTi/PaxAJqq59+/QWEABhRMTad2owPbG4w0kMIlAIXQhyHhahMCGdDo85CKKQA9XbEx8ND5A03Gtfu8wjcAgxmf1oJ8ZQCeC+EbRgX3AtiZU5eD8XEAGojfX5zLCwCIfeUfnPHhA/ZYuS6AgecA43mWay0mkQC0fCv9kcX9AzpNBkm5Je0C+crelFdOswPYL7pqXLHpALLXnmw3jhEBgsefAJblAQGDOVbVQsnFALgPtuDFHo8DIaPwe6zhTQOlMtxcH7KZAs2AwzjbvT8BuacUQ9VORwNKKIernBZFAJ/o7WS1vVsBgELdniQEuQA==\",\"dtype\":\"float64\",\"shape\":[50]},\"hospitalDeltaRate\":{\"__ndarray__\":\"AAAAAAAA8L9213+cQMLsPzP265fKt+o/+vKycyJv8T8AAAAAAADwv9hq2dDzbfY/DRxpq4zkCUAAAAAAAADwvwAAAAAAAPC/KTnTbXBP+T9N4ZMJz5b6P8UcwAxyQOY/AAAAAAAA8L9kHr2lxTHXPwAAAAAAAPC/AAAAAAAA8L9WO6ud1bHXP0NRFn/lPgdAAAAAAAAA8L9CzDTTIRvaP8kQFONMPfw/qkvw72Mg8T8AAAAAAADwv61RgOTzv/M/AAAAAAAA8L8VDeZ4Zxj2P7/cvrFYZu4/AAAAAAAA8L/eZPNZpyexPwAAAAAAAPC/eDDdcuJr4z8AAAAAAADwv7BvwHwfvfQ/AAAAAAAA8L/okurYL+36PynPhy5Mqfo/pQCBmULCAEAAAAAAAADwv2zHv2+gQOI/dWPqu9kc9j80jnkdySLFP67XCxr3b9I/AAAAAAAA8L/xVXK1z6jIP6c9PFSUNv8/AAAAAAAA8L8AAAAAAADwv6YfyqdDIfs/AAAAAAAA8L/sfoUK9NLVPw==\",\"dtype\":\"float64\",\"shape\":[50]},\"hospitalPC\":{\"__ndarray__\":\"AAAAAAAAAADH+vWhFP9tQAZXpH7CAGNA2mM5jzWMaEAAAAAAAAAAAHTaDpkW7X9AqYJt+SmWpEAAAAAAAAAAAAAAAAAAAAAAS/CZA0Ldc0CDrrTU9vuAQPO4pvrzMEpAAAAAAAAAAABXpNmBfRBcQAAAAAAAAAAAAAAAAAAAAACx0lzmMDZpQAeOU8srcnZAAAAAAAAAAACKy8wFTTWQQCk98bp/F41AYhjfJVnVYUAAAAAAAAAAADKnwL/p/W9AAAAAAAAAAAAXySNVTCZ+QHvGom5yhkxAAAAAAAAAAAAbkOOxBb1gQAAAAAAAAAAAQj4Dfkn8a0AAAAAAAAAAAIusyIqsenRAAAAAAAAAAABjp+yrjQZ2QOSd1LKRcWlACtbH4Mi+YkAAAAAAAAAAAB02jyvCDpFAudg0qn6ja0CRHevmfVVwQJBzwyBe8WZAAAAAAAAAAAAzC0fv6CBiQM1rDW/UE4BAAAAAAAAAAAAAAAAAAAAAAEI6apOsf3JAAAAAAAAAAADpQ9eAUQNaQA==\",\"dtype\":\"float64\",\"shape\":[50]},\"hospitalRate\":{\"__ndarray__\":\"AAAAAAAAAAAf6P7yIfLAP+lqFKBqYMA/k1emklemwj8AAAAAAAAAAKls6Nasb8U/LnIEP9bn0j8AAAAAAAAAAAAAAAAAAAAALJnw1wwLxz/Lpdm5qMHHPxnp+ywRQ74/AAAAAAAAAADDeJXGnVG4PwAAAAAAAAAAAAAAAAAAAABVVVVVVXW4P4job2nWbdE/AAAAAAAAAABMF+PsfyG5P3nCdeRTrcg/pycBBWt6wj8AAAAAAAAAADXgnhwF8cM/AAAAAAAAAABG2bau9D/FP3UW01lMZ8E/AAAAAAAAAADRs0eAwwuzPwAAAAAAAAAARtTo9eauvD8AAAAAAAAAAPhqFXM9fsQ/AAAAAAAAAACdzetl1/HHP0CDwuf4y8c/3xCHEwyfyz8AAAAAAAAAACprJGP5B7w/JPfJnG9CxT/55ntSGMy0Px6pWkj3/bY/AAAAAAAAAAAqDKRN4km1P0lltWb5Vco/AAAAAAAAAAAAAAAAAAAAAKw5HPjjDsg/AAAAAAAAAAC/GBWUxe+3Pw==\",\"dtype\":\"float64\",\"shape\":[50]},\"hospitalShare\":{\"__ndarray__\":\"AAAAAAAAAAAPtEF+R9eSP5GHpg6Sjn0/7zVOEeEslz8AAAAAAAAAAFpF2B0J4ac/tpxfsV3Fwj8AAAAAAAAAAAAAAAAAAAAAcQExrBPzuz9C/ObZzFS3P81BPZfY71I/AAAAAAAAAAD0VesB7DpqPwAAAAAAAAAAAAAAAAAAAACRVe/C5saCP/8e/Z2n2Jk/AAAAAAAAAAArlPj36O+8P3aEMfy8pLY/Jb2N+xiRaD8AAAAAAAAAACoinOXSVZc/AAAAAAAAAACSEH7JNxCXP1AUl+9qu08/AAAAAAAAAAD3mEaLKhpaPwAAAAAAAAAAOFHHowCkcz8AAAAAAAAAADLKBVnL+YU/AAAAAAAAAAD0AYFVxY2wP0KRAYUWwIk/2glE+9uhhD8AAAAAAAAAAHvlfuvqcJI/3E2qvNJskj9+ON5fWTJuP+bSVZeXP5Q/AAAAAAAAAAB2sidN3HN+P+AhX/bOvrE/AAAAAAAAAAAAAAAAAAAAAEjTUdacs5s/AAAAAAAAAAB+ON5fWTJOPw==\",\"dtype\":\"float64\",\"shape\":[50]},\"hospitalShareDelta\":{\"__ndarray__\":\"vGpaaZ1HY7/QpyS+aMllP7pg+SHbtWS/AHieGqbPUL8uiF0QF2TAv8EjC9a4kJw/mgi4kgFPwT8HoOHaFO5iv1hRN/s70Wm/DJoVJUHLoz9p7PAhmgmtPzZWKV1Xo2u/sLwx6obhhL9wdaXGnLxlv/zdB2duyKS/hQvn3K4llr8AP+zw62Ulv4fTfAULJYY/h/K5AtmAjr9CohfD5TW3P0zC4bZ5prE/GphqM6uQVb+I5EEBlX2gv8jajFPreHI/ZcsGXXdBlL8XZoUMTX+KP1T/XKPJnGS/Iy8rdc1rob8m+N08vdNLv7JGT3jJpHm/QCo1IzQbOj8UK8MAeVedv1MyL41ranA/PnF7ofadhL/oRsGJxqSbPwCFD2WjGxy/QNV5/ytybr+pnR4qLQylv2iflqlc8o0/8NL6Ty4ZVT98lAlyq+hJPyCfEHJOMGO/q1KwQhkxuL9IBeGiDE5pv6SmgjNRVKU/RHyopz1/YL/Bj49ftJmZvwKqnqUO+oA/gDQbkBhad78MAyyl7WBNvw==\",\"dtype\":\"float64\",\"shape\":[50]},\"hospitalized\":{\"__ndarray__\":\"AAAAAAAAAAAAAAAAAGiSQAAAAAAA4HxAAAAAAACklkAAAAAAAAAAAAAAAAAAVKdAAAAAAIBWwkAAAAAAAAAAAAAAAAAAAAAAAAAAAABOu0AAAAAAAMu2QAAAAAAAgFJAAAAAAAAAAAAAAAAAAKBpQAAAAAAAAAAAAAAAAAAAAAAAAAAAAFiCQAAAAAAAQJlAAAAAAAAAAAAAAAAAAEW8QAAAAAAAH7ZAAAAAAAAAaEAAAAAAAAAAAAAAAAAAzJZAAAAAAAAAAAAAAAAAAIiWQAAAAAAAAE9AAAAAAAAAAAAAAAAAAIBZQAAAAAAAAAAAAAAAAAAwc0AAAAAAAAAAAAAAAAAAeIVAAAAAAAAAAAAAAAAAACywQAAAAAAAKIlAAAAAAAAohEAAAAAAAAAAAAAAAAAABJJAAAAAAAAAkkAAAAAAAIBtQAAAAAAAyJNAAAAAAAAAAAAAAAAAAMB9QAAAAAAAVrFAAAAAAAAAAAAAAAAAAAAAAAAAAAAAEJtAAAAAAAAAAAAAAAAAAIBNQA==\",\"dtype\":\"float64\",\"shape\":[50]},\"infectionRate\":{\"__ndarray__\":\"RQeI7kqyQD/V0EUSrLJdPzlDmrnBd1M/eg6V6DsVVj9ctZZvyd1YPwLalIG5/Gg/BqQjG9lEgj99PqhGMRGAP5z9py3ev3g/UvjzKe3sXD/7ZVQENf1nP1e96LlwCj0/memdHI59bD/z9Us1e1xTPygWV59E7nY/Lj85FUFUaz9EU0cZQkthP3qvNHhEm1U/Rsd25DIHez+alGBBGaSFPwjfo3xWx3M/lz/uuxcxUD/hrFPP35xyP1KAm1Rb6lo/kFoBWKvOWD95bLoQxc1nP/2zxyqofzs/hpiR6R6vVD/01fRYMH1dPy6KG1ZfaGw/n1epJ35eYD8FWlfxDaCOP0EMxEAMxGA/tzFGC90WXj9BoaFIet1eP7BckKwz8FE/2p8B5JTFRj9uKv3jvOdwPy7g8kEwa4Q/xKWMYbfPVT9e1EA3c1pqPx5gmD7GvWA/VRu9F3msUz+Z7c7w2pJcP/2eGkL4e2Q/4Hg2WDblVz/2WEW55rVgP5GZh9XxzFk/IdjZcNS3Rz81HtOChztSPw==\",\"dtype\":\"float64\",\"shape\":[50]},\"negative\":{\"__ndarray__\":\"AAAAAMBn10AAAAAAMPL5QAAAAAAAiOtAAAAAAFCx+EAAAAAAaN8nQQAAAADQ8vFAAAAAAGCa9EAAAAAAgLrTQAAAAADA4tRAAAAAAKi3G0EAAAAAQLAGQQAAAABgDOFAAAAAAAAJ60AAAAAAAA/cQAAAAAAozxJBAAAAAHD4+EAAAAAAwOLiQAAAAAAAvvFAAAAAABjEBEEAAAAAXPYQQQAAAACgG/1AAAAAAACT1UAAAAAAQJYIQQAAAACAf/VAAAAAAJAE90AAAAAAUJrxQAAAAADAU9NAAAAAAFhHA0EAAAAAAEnjQAAAAADAQt5AAAAAAIB02UAAAAAAeGkDQQAAAAAQ3/NAAAAAAOBC5kAAAAAAQMoCQQAAAADQJ/RAAAAAANB48EAAAAAAiJ4JQQAAAADAhvFAAAAAACA58UAAAAAAQM7QQAAAAADAIAtBAAAAAPCeGUEAAAAAMHP/QAAAAADgzPhAAAAAAMAf0UAAAAAAYIAJQQAAAACwtvZAAAAAAEB160AAAAAAgEXGQA==\",\"dtype\":\"float64\",\"shape\":[50]},\"negativeDelta\":{\"__ndarray__\":\"gI4fZ4//pUBQBaAp6TK4QFA9mCEUm7BAQOWZ21MEskBgzirFHFboQFCQ2X1h47bApAMEaPor0MDYsHssX7OhwACORwoZbKLAoLiKTboq2UBAUL65zySnwCCkYxb7fq9AwNDdlBJkosAQ7rhs/YedQDCE5SZGtNTAMJFMVN8GuMAAwVhQaeRwwODFELf3DrFA4M/2CmD2sMAADejoS/7awMBzOIdQVsPAADRKl2Utm0AQiSN1z+rJwICbiAsuk6pAsCwNFzSOsEBAcXivHLOdQJjxPiCPKqFA4PqOIWOvwUBAEETP4CCvQODH6CLte5zAIMXuF5grkEB42615N0P3wKDImRWCGbtAAFskPtsgjkAAGmYaAmaNQBA5vewnkLtAcMRFWDVkuECoPfkVcwvSwABHxVSKFnBAwJ3JR1gjqUAAjx9sZNJwwPhzER1vetBA8Dc1hD2w10AgrT+2oUHHQIAQvQV6N7XA4GqI1K93l0BgznyM33nKQPCkwbFoWLBASAeTNd9quECQ1YrBBJCNQA==\",\"dtype\":\"float64\",\"shape\":[50]},\"negativeDeltaRate\":{\"__ndarray__\":\"ogl87kYKwT/k8lOsS7GvP3PK1MEB4LQ/NrMc+d92qD8J0f59tGuxPzWKEke35bK/C/aHpUr/xL8km6alx9C5v74D8YQubLm/6v1yNLHNrj9A65taphCQv0bvwzl9tcA/YYGGRGrhpL+p8t1VhAayP2SntNZyerC/4dnxSkkLrb+5W+OKb2x8v/N/qyfvXbA/juYiDvZ8mb/KBhNRlii3vwL4e+DkoLO/mw2HgL7gtT/5ErY1gKWvv7BY3bu+kqQ/6TpDxGUZqD+W5prI8rmbP0rDjU/K+L8/sJuWJegjrz8OAdNzN7m8PyP1J5WYcqy/jA+YaxsrpT+vICaBwPrXv8ePp55r2rc/wYgoVkkflj/N/NWG6i95P7Z/9J/c7Lc/7PjcoeYbuj+byB+5Ere0vzSjpY7Gem0/VqGECwh4qD82OHCdnYmPvyxpt7XqCLU/boHSVqdmrz/aGuctuxK6P9NlsZeR/Km/xPKY4S37tz/7SlHMoMOxP7C6UFfSHKg/ZfbmR/QBwD/g9e/uxii3Pw==\",\"dtype\":\"float64\",\"shape\":[50]},\"negativeRate\":{\"__ndarray__\":\"ihSjNiGC7z/+pC/hGoftPyg8KuLvEu4/xgSs+psi7T++sAaC4rLtP9StsmEBwek/KleS/cA+5z8XK8M3ogDpP5iVMIGPC+k/c3Kwcr567T/+dNrjy17rP0NuZOW1b+8/GP4cxyqs6j/tmolKs8PtP1IYnBBFBOo/MSN5u6o66j8nvRPAE53rP8KEDh2Vle0/Mn2IYUod6z9eS0oGhErpP9/j9pqsrOk/v2cK3NIu7j+E+9srfBbqP7x4HoSC7Ow/zASHVogd7T/NrdvhN4/sP0A7Hj+AR+8/usj5HG1/7T9bg/0OLe3uP9/WZqD1Quo/lf3X2Mj07D8LtQ2tU2PhP7Uplve/Ze4/3CK7okJo7D++cVBsP/rrP1+OacLAZ+4/EgQQtHmk7j/ofSlodY7pP9vRLFYX6Os/0y4KD6wi7T/mq6cd22DrPyNHw3JhF+4/2TTXHA2D7T8HWoO5eqPuP9v1IBEtZeo/hsCE4E5p7j8n7C1Yb7ztP5p3x/G3He0/MOuDZ7VI7z9i+DJSdFLuPw==\",\"dtype\":\"float64\",\"shape\":[50]},\"negativeShare\":{\"__ndarray__\":\"Gl9vm4YfcD+RFCxsl9+RP2Yz444k94I/R/BHCY0CkT+dvUYE9HHAPxSaQKlwuog/LIGlsbJijD8GLqfeQS5rPy6DfWRpxmw/8Evuv/gXsz8XvTusPEKfP9e0az31fHc/MsaTE6ifgj+ZNoLXI1RzP86q/gIE6qk/2IGf8oszkT+Pg7K8AgV6P6bRgaqtcYg/mI/56iycnD9GrGhRoF6nPziPdu0vDZQ/bUQA2zy5bT/dtsCO6O+gPzBJHDJfno0/v0LNu2W2jz9lw7+qgkCIP/nQuuSxoGo/wPnxM5qPmj/b7fRc4pF6P7SIgkt92HQ/+LWLZgKJcT9p8YAbnr6aPxelUnuhYIs/m49DDoyrfj/TDCuTQeOZPykdanHcxIs/W7tf36exhj8K2Tqf9qWhP9CJpvaOJYg/7xJWlpy6hz8zo6+4XSdnP4ALGGUEsKI/qOOnQz6msT/LJo3sNKqVPxAjpLCJFZE/ZDPlz6aXZz+f2E2PMJGhP33Spy4bS48/2Kuw/Tnqgj8Lyv/kKa9ePw==\",\"dtype\":\"float64\",\"shape\":[50]},\"pending\":{\"__ndarray__\":\"AAAAAAAAAAAAAAAAAAAAAAAAAAAAAAAAAAAAAAAAAAAAAAAAAAAAAAAAAAAAAAAAAAAAAAAAAAAAAAAAAAAAAAAAAAAAAAAAAAAAAABsl0AAAAAAAAAAAAAAAAAAAAAAAAAAAAAAAAAAAAAAAAAAAAAAAAAAAAAAAAAAAAAAAAAAAAAAAAAAAAAAAAAAAAAAAAAAAAAAAAAAAAAAAAAAAAAAAAAAAAAAAAAAAAAAAAAAAAAAAAAAAAAAAAAAAAAAAAAAAAAAAAAAAAAAAAAAAAAAAAAAAAAAAAAAAAAAAAAAAAAAAAAAAAAAAAAAAAAAAAAAAACQdUAAAAAAAECBQAAAAAAAAAAAAAAAAAAAAAAAAAAAAAAAAAAAAAAAAAAAAAAAAAAAAAAAAAAAAAAAAAAAAAAAAAAAAAAAAAAAAAAAAAAAAAAAAAAAAAAAAAAAAAAAAAAAAAAAAAAAAAAAAAAAAAAAOIBAAAAAAAAAAAAAAAAAAAAAAAAAAAAAYGtAAAAAAAAAAAAAAAAAAAAAAA==\",\"dtype\":\"float64\",\"shape\":[50]},\"pendingDelta\":{\"__ndarray__\":\"J0CavizGJcBX/yJ3wcFJwFW//ICI1TrAppK3eMXXSMCCgo/u6I93wN1AQzyybUTA5hnfWBD7ScBkWax4HSEnwFbc3hPAcSjAedbqbBH6k0CFW/TjZExYwCd7M6YDyy/AftZ4MAK2PcDWjqQ666ErwCBs5ewiMWXAA47+IuHnS8DC9euuMgw0wKwUAkRDlEHAvR+0NwtzVsDVisl5z6hjwP6O9Y69nVDAgEicdbjzJMBEBtMyQqBbwHvrPiZwyUXAURhvZ3MsR8BGelt+IBFCwKJqGWWiHCLACBfV51YoU8DxGm7wV0cywEorWYdb4zDAwnWJmNrBdECxhPdKolF6QEkLtQd8KUPAWPodjXf4NsAV3QY1xK9TwAV8LXhbbkPA2SQDrpCDP8DiL5wZbGJdwJZdxizHaELAJg8Lq+lTQcBB1m1ILf4hwEOJajz+bFrAOCvKO5tyacA4kOaNtBZOwJi2WRCu/nxA30sQEliBIMBhvnMEXyNZwLGj/juGqGVA3uX0f0G6OcCj9G8lqIcVwA==\",\"dtype\":\"float64\",\"shape\":[50]},\"pendingDeltaRate\":{\"__ndarray__\":\"AAAAAAAA8L8AAAAAAADwvwAAAAAAAPC/AAAAAAAA8L8AAAAAAADwvwAAAAAAAPC/AAAAAAAA8L8AAAAAAADwvwAAAAAAAPC/a1kRM+ExF0AAAAAAAADwvwAAAAAAAPC/AAAAAAAA8L8AAAAAAADwvwAAAAAAAPC/AAAAAAAA8L8AAAAAAADwvwAAAAAAAPC/AAAAAAAA8L8AAAAAAADwvwAAAAAAAPC/AAAAAAAA8L8AAAAAAADwvwAAAAAAAPC/AAAAAAAA8L8AAAAAAADwvwAAAAAAAPC/AAAAAAAA8L8AAAAAAADwvwAAAAAAAPC/3opfnfHGOUBGVSwdebwJQAAAAAAAAPC/AAAAAAAA8L8AAAAAAADwvwAAAAAAAPC/AAAAAAAA8L8AAAAAAADwvwAAAAAAAPC/AAAAAAAA8L8AAAAAAADwvwAAAAAAAPC/AAAAAAAA8L8AAAAAAADwv6IX+3ou2CBAAAAAAAAA8L8AAAAAAADwvx3qq7MNTw5AAAAAAAAA8L8AAAAAAADwvw==\",\"dtype\":\"float64\",\"shape\":[50]},\"pendingShare\":{\"__ndarray__\":\"AAAAAAAAAAAAAAAAAAAAAAAAAAAAAAAAAAAAAAAAAAAAAAAAAAAAAAAAAAAAAAAAAAAAAAAAAAAAAAAAAAAAAAAAAAAAAAAAf0rICoKc3j8AAAAAAAAAAAAAAAAAAAAAAAAAAAAAAAAAAAAAAAAAAAAAAAAAAAAAAAAAAAAAAAAAAAAAAAAAAAAAAAAAAAAAAAAAAAAAAAAAAAAAAAAAAAAAAAAAAAAAAAAAAAAAAAAAAAAAAAAAAAAAAAAAAAAAAAAAAAAAAAAAAAAAAAAAAAAAAAAAAAAAAAAAAAAAAAAAAAAAAAAAAAAAAAAAAAAA3symnWUuvD9LCh9+hIvGPwAAAAAAAAAAAAAAAAAAAAAAAAAAAAAAAAAAAAAAAAAAAAAAAAAAAAAAAAAAAAAAAAAAAAAAAAAAAAAAAAAAAAAAAAAAAAAAAAAAAAAAAAAAAAAAAAAAAAAAAAAAAAAAABHLOy57MsU/AAAAAAAAAAAAAAAAAAAAAG1egt6S47E/AAAAAAAAAAAAAAAAAAAAAA==\",\"dtype\":\"float64\",\"shape\":[50]},\"population\":[734002,4908921,3038999,7378494,39937489,5845526,3563077,720687,982895,21992985,10736059,1412687,3179849,1826156,12659682,6745354,2910357,4499692,4645184,6976597,6083116,1345790,10045029,5700671,6169270,2989260,1086759,10611862,761723,1952570,1371246,8936574,2096640,3139658,11747694,3954821,4301089,12820878,1056161,5210095,903027,6897576,29472295,3282115,8626207,628061,7797095,5851754,1778070,567025],\"populationShare\":{\"__ndarray__\":\"vGpaaZ1HYz8VH31mGh6QP/eb0c+/9IM/bx34cts5mD8uiF0QF2TAP/NmpWVZMZM/wEF56sFlhz8HoOHaFO5iP1hRN/s70Wk/azSmGXMNsj8bDN2R/5+hP477Y9ShjXI/sLwx6obhhD+yZUhkxPt3P/zdB2duyKQ/hQvn3K4llj+NBrNyfhyDP3dqfTZEjI0/h/K5AtmAjj+mx4PTDOiWP6oIPxUN+ZM/mYShSrescT+I5EEBlX2gP3jruBCYt5I/ZcsGXXdBlD8Nu3aGIqGDP2jEQl+ki2w/Iy8rdc1roT+FytqUBAJkP7JGT3jJpHk/lP6TYU0Ccj8UK8MAeVedPxFi3CQriXs/PnF7ofadhD90YCFmJ0mjP0ywy8tN+Ik/Kn8i+2Y+jD+pnR4qLQylPziunLXkvWs/raCq1z8bkT9f01uDLrhnP8rml2WhpZY/q1KwQhkxuD+NGkxPcY2FPzk6d3KZUpw/RHyopz1/YD/Bj49ftJmZP0d+goOVNpM/gDQbkBhadz/FHYWCo8ldPw==\",\"dtype\":\"float64\",\"shape\":[50]},\"positive\":[374,8898,3611,9945,60614,17830,31784,5654,5939,38828,31439,626,11059,2158,70873,22503,6144,5934,30652,73721,29374,1330,45646,9365,9341,8686,456,13397,1371,6771,2740,133635,4291,5766,22131,4330,2989,52915,10530,6936,2905,14096,35390,5724,21570,916,15905,9215,1287,631],\"positiveDelta\":{\"__ndarray__\":\"vvGoDh3sm8BklsyYtbK1wJzatTVW2LTAHA2UZ0cBx8B8ooQyG9HrwMAvWugcXoNAQMix/GvL1ECizO63WJirQGawkB9gyqdAvoYQ0shQ2cCAkAeO2TllwOzdR1BjmqvAKAwnAuiDmkD0fwIyCSWpwPEa6t0WaOBAAJzw5AenpEB82XphL/GiwDgp32DekbzAdyC1x/GT0ED2WhVHlvfpQAaWFg0hZMZAKc6hsHmQpMB8PW8P2mPPQFj+WP/B+rzA9oPxbjI7wcAAeddlYblcwIxw+Sc2b6XAUnLAoIlt0cDgk7d0Jj2LwIAlHyhh8o9AeO+B9LxElMD9IWb6wjP6QGgLpFV6Z53AhD8XbmMrq8CUenInHlTIwJrTB6+skbzAB8S+1xLlwsAg8McZEKDNQNZXAuJ6/LxAImZEcbVpwMAwe/oVp8puQPhvdwKnQ7jA/iq5fbAW6cBEcpJsOcauwHhIWHIU5q3AUP/2YfUojcD4v7bH/Yq7wJySDnuSTb/AdFcVlOPXrsCbo4xgrTmQwA==\",\"dtype\":\"float64\",\"shape\":[50]},\"positiveDeltaRate\":{\"__ndarray__\":\"eJAk0D526r+PjN7A+ZjYvyncUnfXFeO/glo+I7hZ4b8J5ofUCgLfvzcZU/QUcKI/9sYqTR49AEDiapPRjKL6P1DYwxFD1vA/98V741af2b8EevI0IAF2v/rsyMsFL+u/DjvumpUzxz/aO1GT7yfjv20t9GsI2ew/uyD80McJwT+tMEfPDxzSv1tBtFqhquG/zCIhxDXc8z8/m5zXdLYEQKNNGjjOe+Q/cOllRjNC5b8WzFuA0WPhPwUZc4wOSty/4BvskBkW379gnFqhobyKv1255gR/cOu/jIrocUlH4r+oFxaS79/Yv24uymwqw8Y/jM5qdVSQ1L89tHYN/VAQQAm3yEfZgtO/OSXnXwsU2L/wsERBhwzXv2zCXxCYGeS/edXTxl1y6L9tuJhvtrfZP/7fLqZLFwNAmuZkHtaH4b8dQ7GwF7i3P+7wSuZ+k9O/+kpM0d7y4r81QfXt1xbav8NVkR/CScO/BdrqF+wl4L/iXdItY6jTv7LP2+q7xN2/na7roAMi6L96cuRrn+fjvw==\",\"dtype\":\"float64\",\"shape\":[50]},\"positivePC\":{\"__ndarray__\":\"HmTG+5DYf0DcHJ0heVKcQMQhJXzhkJJAwsYaFlgPlUANVq8u47aXQLkYmFlk1KdAWcllnDBswUBwlozESqW+QFiJwr5amrdA/W5WXeOVm0ASDZUjtuCmQDL5C+kIsntA24hCG60rq0Aa5R9w3naSQF1phelS3rVARYxh4SUQqkBliWOVKX6gQKkeMxgHm5RAo1bphKnGuUA4P90lc6PEQJ+39XbG3LJAOgTrDCPijkCL6BRhI8CxQCwcfAEoq5lAgqr5X3iol0CbCajDeLOmQKJbbDyKOXpA2Z33FtK5k0Bb3pWvdx+cQJNbeot5F6tAqPYVD7s4n0AVMv3L2zTNQH/u535u+p9AQX3U5QWynEBtRGyyb2+dQKXcvQd3G5FAlpxBsoW3hUALXN2fQB+wQNPDpBEJecNAxsXD/gvNlECHj92I6iGpQBQSFEd37p9ApZSnqyfDkkCPF09U/T+bQEer6g0KiaNA3lK4B9TJlkAWTRD6ct+fQHBFh1H3mphAooBvVYyehkB7nr+HTWORQA==\",\"dtype\":\"float64\",\"shape\":[50]},\"positiveRate\":{\"__ndarray__\":\"bt06V7J3jz8Q2IL2KMezP389XN0B0a4/zdmfKiDrtj8Nesrv62iyP7BINXn6+8g/q1HbBH6C0T+lU/Mgd/3LP6CpPfvB0cs/Zmx8agwqtD8KLJZw0ITCP5g3clNDCZI/oQeM41RPxT+YKLOrZeKxP7aej73r7sc/O3MbElUVxz9kC7H/sIvBP+/ZixdXU7M/OAveedaKwz+J0tbm79XKP4RwJJRNTck/DoRZP9ISrT/wEZBQD6bHPx46DN/rm7g/ntnHS70Ttz+YkSLxQIa7PwiYOBz4D5c/MboxGJcEtD9UyicQLy2hP4OkZH4p9MY/VxNAOblZuD/rleSlWDndP6pknYYApKk/I+km6uq9vD8IOb5OAhfAPxEaZ9nzg6k/5L7/vmS4pT9hCFpfKsbJP5S4TKeiX8A/aImuh5/qtj9pUGGJk3zCP8iNy9Poia4/OFlGGZfnsz+NX8pnVMilP5QofLtLa8Y/n/ez9xFrqT/JnpA+hRyyPzNDxHFAErc/8pmCD1Pplj/aedDcutiqPw==\",\"dtype\":\"float64\",\"shape\":[50]},\"positiveShare\":{\"__ndarray__\":\"kp0fuXyxOj8AcVM3lNiDP4NndN+dG3A/BnRgGGUuhj+YhEv7K+awP8WT3B5J4pM/7NVTkQG5oT//onH2ozh5P6wSwlgZfno/QY3gboCmpT/QMPpUwoehP4hQuznvVkY/UTzVa3eqiD+N5y3FskBjPyPnCNNhwrM/vPpHT2EYmT/B4BZlM2h7P5NYYqNjeHo/tCmlN2sXoT97+4ulpo20P2xJjKH9YKA/8nnd1Tm7Vz9UnEOlvHOpP0BKsAA644Q/0L795oXVhD9Kof/+h1+DP3OVBYTeRUA//8vb3WrhjT+c67rfgXZYP3HWx6M1NH4/Ir3UgfBxaD/a8ehW7qDCPw5FTzomJHM/bbieO4q4eT8VQiCILa6YPzuK042vUHM/2VdGrKKqaj95ygqfWYGtP9p6wAprfIc/utMeBaLwfj+0t4JEyeppPyjpS0qIcI8/mWuWlr67oz9k0K3hk4h5P2SEyZsEDpg/Xk+e+yNYUD+v256tt7yRP8JiFGCUjYQ/UqszEM/2Vj9UIbnknIRGPw==\",\"dtype\":\"float64\",\"shape\":[50]},\"positiveShareDelta\":{\"__ndarray__\":\"FO5spNviX79Umk0rQcd4v2vQLsDhzXe/2MaPzVFFir+IF99KBMSvv0Ca5Sb3HUY/+AprLSK/lz/3pQESM4NvPwDUTLb2Kms/KrfXiMvonL8AS9viPD0ov/oiWdqHhW+/CP0bDYRHXj/X42ID1rZsv0rwCT9VvKI/uHkHk5OVZz+yWJ4Ak6Flvy4+zGQSUIC/JFrt7Wnukj8jE1bhRqetP1wUs1vckYk/OUxUqtF7Z7+YbwNIT+yRP7CMwSD2i4C/+tcP02itg7/AcMbdoWYgvwtfQb4semi/Rnhoe+Xmk7/cUvWTDhtPv/w+4q2wPVI/DICmglQlV7/vGKFt/uu9PwY6GtUJymC/HlSwDsYGb7+m/USIQsiLvy7r4QT2T4C/NOkQUL6Thb+gWdjpWOqQP0xPWd3xjIA/fdfFrC6+gr+oIjcJ1pQxP9jIxwF1tXu/vTnK7nOmrL+2ZOq8TpJxv1TXtlpTEnG/KqmyU1emUL9I0MLH8nN/v8yZ8KaW34G/rEkOzGSccb8bjSgQVYdSvw==\",\"dtype\":\"float64\",\"shape\":[50]},\"state\":[\"AK\",\"AL\",\"AR\",\"AZ\",\"CA\",\"CO\",\"CT\",\"DC\",\"DE\",\"FL\",\"GA\",\"HI\",\"IA\",\"ID\",\"IL\",\"IN\",\"KS\",\"KY\",\"LA\",\"MA\",\"MD\",\"ME\",\"MI\",\"MN\",\"MO\",\"MS\",\"MT\",\"NC\",\"ND\",\"NE\",\"NH\",\"NJ\",\"NM\",\"NV\",\"OH\",\"OK\",\"OR\",\"PA\",\"RI\",\"SC\",\"SD\",\"TN\",\"TX\",\"UT\",\"VA\",\"VT\",\"WA\",\"WI\",\"WV\",\"WY\"],\"state_name\":[\"Alaska\",\"Alabama\",\"Arkansas\",\"Arizona\",\"California\",\"Colorado\",\"Connecticut\",\"District of Columbia\",\"Delaware\",\"Florida\",\"Georgia\",\"Hawaii\",\"Iowa\",\"Idaho\",\"Illinois\",\"Indiana\",\"Kansas\",\"Kentucky\",\"Louisiana\",\"Massachusetts\",\"Maryland\",\"Maine\",\"Michigan\",\"Minnesota\",\"Missouri\",\"Mississippi\",\"Montana\",\"North Carolina\",\"North Dakota\",\"Nebraska\",\"New Hampshire\",\"New Jersey\",\"New Mexico\",\"Nevada\",\"Ohio\",\"Oklahoma\",\"Oregon\",\"Pennsylvania\",\"Rhode Island\",\"South Carolina\",\"South Dakota\",\"Tennessee\",\"Texas\",\"Utah\",\"Virginia\",\"Vermont\",\"Washington\",\"Wisconsin\",\"West Virginia\",\"Wyoming\"],\"testDelta\":{\"__ndarray__\":\"kMrHAVaqvkAARqCnVRWzQJi6oS3ELMDA2ABR4KCz6sAgkkptHY/qwMAmmVnlhePAAhEy2mOj4UCHzoqXPeDCQAgbwMSCe7RAAEH0FYgmksA48xCobVfXwOhvuhnvtK1AIOJcpvqVs8A8wqP+7MzDwIg2R6TKGfdA0JXBHRoj2sAwWlYVFxXUwBxwq8nm9dXAFx+8gUqJ90AuwbBxUsoHQUAWUpD5TcdAkPE/lZKdusAYxpSDoOHUQDBz0XCv793AaGfi6bQU4cD4QXyq+J3KQFhEGqz6SLDARG4VgOZg8MC0vksxYjLXQIiOl6333bfAgChHuPJFn8DALCvTnm72QAi4tMZn1uJAyPAMEEG70sC8PuhdHnT1wIDPydRttJ7A/AM/q2iP2cDw5Wz++KnYwAXN17Oum+xAcE9xcoJS48AAAFd7lsNlwGi6j3Ma3fNAgN9IX01ECcFmjaDZjbDtQFYfAQGyP/HA5htiTn30sECwJqRYqzzoQKCzuMcFidzAwphpHl8p0UAwncrJ0gmGwA==\",\"dtype\":\"float64\",\"shape\":[50]},\"testDeltaRate\":{\"__ndarray__\":\"ABcaEI933j+J16znAK6mP4AJhF0fDb+/9fqdK80c1b8bbL8QrAmvvz2jdDMSfNO/9PUPHVDh3D89zzBprxnjP13Cmv7LZM4/coZY7E1CY7/bsV2wKV65v66hgk2bq74/Mr8CAoz3sb+xHRNW3qDPv5QSLPCSStU/Pn+V0Rybxr9k7C4T2yDUv1psCokGecy/2yC5/lqP7T9PDTLl5+TzPzFsB7ewWbY/VSaDA0HYzL8CV/bWWkG4PxWlygz5os6/jomxkhgn0L+xXK+uS/nJPxTGd+QR28W/A6FLMjkC0r/yaR0sQjX2P/MizGT008G/qwxKqbahsL8FDeJ330ndPyK+4GNTNeo/oFygHjZn0b85WdTT5E7VvxNEM3a8pZa/rLnQxsRV0b/rgJYTPnK2v7g8k6rUwANA19CZMeKi1b8CupKBbZOBv9lmJUcHzeA/Ale1uJgB1L90/th0FGPqP879gMPNVNe/FRy4k9Sv0z96EmsDiCLSP3XkIy3ncsy/IqepsY4n3D9oesnp+1esvw==\",\"dtype\":\"float64\",\"shape\":[50]},\"testPC\":{\"__ndarray__\":\"tB6QHkEx4EBv5TajfunWQGxMcalsR9NAZb0tGrBnzUBlGTFBNZzUQC7iQVdphc5AMKKGvj3X30AOo2cdnIThQIzGZuhiJttA0G2DxX3j1UAtunHLHsTTQCHe3xuckdhAkjf/FH9m1EDVfkIF1ITQQE21vUY9Pd1An/x2Hr0Q0kDvA4UMbhTOQGPq2IVMD9FAeJdAy44a5UCgLJXMNJzoQHJ+cEcR29dA7YOS2/n+0EAfFui+3ATYQFRUjhJZsNBAyDTBgh5n0EAye+0jcGTaQNZiIQmoMdJA0DoL03mIz0BZW9mRVzLqQKk0c9Jl4tJAz30p+8qD1EBei/MEFvvfQFy5lVtp9ONA4jX8zcHyz0ALuX7LV0XNQOdI7D55dNVAYMbJYrf+z0BmZ6dUOATUQPHsxktMB/NA5f4ixsELzUAS73pXfsDVQGrrMhXPuuBAE7+Qt9wpzkB7V4LIGATkQI7q9lc/4stApxk9D26w3EBNI+O+OijcQJ5vPi5ZENFAeovorI+X30A7u1Q1w7nUQA==\",\"dtype\":\"float64\",\"shape\":[50]},\"testRate\":{\"__ndarray__\":\"zEZsP536oD9bHBG9agaYPxsTZeoqN5Q/IIJ7VVrVjj8LZbJOgZyVPyaGelZ6AJA/TwOcEpmxoD/j1HJIdF6iP4M0riECeJw/jQ2xva/zlj8/sqyy67mUP+AzWkYiw5k/N8/VNC9klT/9wnhtP1KRP6fwG6TXqJ4/JlCs2mPxkj93JeVnfIqPP5GQWeBx45E/M8JJEP4gpj9d3Zm8Ps6pP5U6vXK5A5k/Cep3OlTSkT9iDPSmjC+ZP41B1Krhf5E/aQH8eBgzkT8dukWHo6ybPynd4x3oE5M/CW8ZX02IkD/RYs/9G3irP+AaMsM7zZM/4lWqa+eClT+LnmcVZMSgP8mO7MiO7KQ/uvxjMAbAkD+rj3LuVrGOP+hg56hGf5Y/YCHfVkvGkD8ZZvJXIv2UP33Uuxvt87M/sChWzfR0jj/OKhAZ/c6WP0tpwMPZiqE/rUgpmPWgjz8sy35DAf2kP/LenLT+PI0/bDsHZTEVnj+OtbpdYIadPz/woJWL5JE/ao34FzaQoD9QhOvIfruVPw==\",\"dtype\":\"float64\",\"shape\":[50]},\"testShare\":{\"__ndarray__\":\"qStKdDN1bD/AWSjL39SQP6U9/LUWiYE/mc5md/g7kD+MJ57McMu+P2PT55H7soo/xXtO5FL6kD94uF4BozpuPwEWJKaa8m8/vuKbtZUCsj+lCgX8x8GfP7yev6eqxnQ/r7T471tqgz/BJ7h1pg5yP8tctxdqsqs/CjCuMF48kj/KI82IjjN6PxW94C+l+YY/1xcUGiJXnT8QNOhhqbGpP4hxH5Rzt5U/jwWehSViaz/4njS2kA2iPymDp0p3eYw/RDkctHNJjj/KqBdV1pyHP4OM537gq2c/AisveMEJmT8/+BgosuN3P0G85htwEnY/lKJEP8jWcD/cL3AHfWKlP9ET/5FAC4k/ye8J7YIFfj9e2lC4wLqZPzcHzBVEZYk/ID/P6PmXhD8xA9TBvDOjPz2GabNkD4g/R6Gi64qlhj/SW4ADEoRnP/f5dSjGRKE/U3sG3yahsD8Ae7BejKmTPx3h1dRi/5E/5eOUrVaSZT8rBCCVX22gP6TWmPzK4o0/Tj9sI/nPgD9YhCUmfiNcPw==\",\"dtype\":\"float64\",\"shape\":[50]},\"testShareDelta\":{\"__ndarray__\":\"2oHfFSxbUj9gVWeVrNhGP5Dyqs5IXVO/WDtF7ov3f78Ajc5B1ct/vwb1xXJuX3e/lGtHvMcddT/iMPpMHJlWP6QSs6t6hUg/AFqjFMi6Jb+IbKg9ufFrv3AZ3ZpGyEE/EICQo69yR7/E90C6d7RXvzz7vcLup4s/2NvGYYVKb7+g0jG53Apov4i1chp8Smq/Jz1uMWstjD96oEzwRXucP+CNBu5n5ls/jA6UPiTdT78ApytPu/9oP46nlK1x63G/DLviC/ZydL/obQd1nt1fP5TfbIEPf0O/iGZO5LKbg7/5JVe7X8VrP4hTROPKkky/AMD1JFK4Mr9IaTocAtuKP5HFIf9VjXY/ZuXZq9RsZr8UzeMnHK+Jv6Ai9b82YTK/KABNSbSZbr+Ap6mEBodtv69aAobrH4E/JkBlh+khd7+AxrvtPw76vkgaqNbVx4c/YF2njsk/nr9z2xRup8WBPziyQjttpoS/hJ6xF2RMRD9U4sEqKwR9P9RL2BTAFHG/OJR6bbOLZD/QlvnFVWIavw==\",\"dtype\":\"float64\",\"shape\":[50]},\"totalTestResults\":[24341,115173,59995,111086,842874,91347,116174,25856,27326,492950,217303,35541,66427,30890,379043,124782,44822,78606,200767,351632,148600,23422,247062,97421,103622,80787,20247,171328,40867,37758,28806,292658,85684,51357,176059,86887,70458,262788,82318,77482,20114,236328,455162,134543,123152,18451,224813,102250,57521,12034]},\"selected\":{\"id\":\"2047\"},\"selection_policy\":{\"id\":\"2046\"}},\"id\":\"1642\",\"type\":\"ColumnDataSource\"},{\"attributes\":{\"text\":\"COVID Confirmed: 918,225 - Death Rate: 5.34% - Hosp. Rate: 6.97%\"},\"id\":\"1644\",\"type\":\"Title\"},{\"attributes\":{\"source\":{\"id\":\"1642\"}},\"id\":\"1880\",\"type\":\"CDSView\"},{\"attributes\":{},\"id\":\"1666\",\"type\":\"HelpTool\"},{\"attributes\":{\"text\":\"COVID US Percentage Share of Deaths by State\"},\"id\":\"1884\",\"type\":\"Title\"},{\"attributes\":{},\"id\":\"1665\",\"type\":\"ResetTool\"},{\"attributes\":{\"source\":{\"id\":\"1642\"}},\"id\":\"1920\",\"type\":\"CDSView\"},{\"attributes\":{},\"id\":\"1664\",\"type\":\"SaveTool\"},{\"attributes\":{\"end\":0.21193431052824846,\"start\":0},\"id\":\"1886\",\"type\":\"DataRange1d\"},{\"attributes\":{\"overlay\":{\"id\":\"2052\"}},\"id\":\"1663\",\"type\":\"BoxZoomTool\"},{\"attributes\":{\"below\":[{\"id\":\"1694\"}],\"center\":[{\"id\":\"1697\"},{\"id\":\"1700\"}],\"left\":[{\"id\":\"1698\"}],\"plot_height\":1000,\"plot_width\":800,\"renderers\":[{\"id\":\"1719\"}],\"title\":{\"id\":\"1684\"},\"toolbar\":{\"id\":\"1708\"},\"toolbar_location\":\"above\",\"x_range\":{\"id\":\"1686\"},\"x_scale\":{\"id\":\"1690\"},\"y_range\":{\"id\":\"1688\"},\"y_scale\":{\"id\":\"1692\"}},\"id\":\"1683\",\"subtype\":\"Figure\",\"type\":\"Plot\"},{\"attributes\":{\"factors\":[\"Wyoming\",\"West Virginia\",\"Wisconsin\",\"Washington\",\"Vermont\",\"Virginia\",\"Utah\",\"Texas\",\"Tennessee\",\"South Dakota\",\"South Carolina\",\"Rhode Island\",\"Pennsylvania\",\"Oregon\",\"Oklahoma\",\"Ohio\",\"Nevada\",\"New Mexico\",\"New Jersey\",\"New Hampshire\",\"Nebraska\",\"North Dakota\",\"North Carolina\",\"Montana\",\"Mississippi\",\"Missouri\",\"Minnesota\",\"Michigan\",\"Maine\",\"Maryland\",\"Massachusetts\",\"Louisiana\",\"Kentucky\",\"Kansas\",\"Indiana\",\"Illinois\",\"Idaho\",\"Iowa\",\"Hawaii\",\"Georgia\",\"Florida\",\"Delaware\",\"District of Columbia\",\"Connecticut\",\"Colorado\",\"California\",\"Arizona\",\"Arkansas\",\"Alabama\",\"Alaska\"]},\"id\":\"1888\",\"type\":\"FactorRange\"},{\"attributes\":{},\"id\":\"1662\",\"type\":\"WheelZoomTool\"},{\"attributes\":{},\"id\":\"1890\",\"type\":\"LinearScale\"},{\"attributes\":{},\"id\":\"1892\",\"type\":\"CategoricalScale\"},{\"attributes\":{\"fill_color\":{\"value\":\"#1f77b4\"},\"height\":{\"value\":0.5},\"line_color\":{\"value\":\"white\"},\"right\":{\"field\":\"positive\"},\"y\":{\"field\":\"state_name\"}},\"id\":\"1677\",\"type\":\"HBar\"},{\"attributes\":{\"data_source\":{\"id\":\"1642\"},\"glyph\":{\"id\":\"1677\"},\"hover_glyph\":null,\"muted_glyph\":null,\"nonselection_glyph\":{\"id\":\"1678\"},\"selection_glyph\":null,\"view\":{\"id\":\"1680\"}},\"id\":\"1679\",\"type\":\"GlyphRenderer\"},{\"attributes\":{\"axis_label\":\"Confirmed Deaths as % of Total US Covid Deaths\",\"formatter\":{\"id\":\"1921\"},\"ticker\":{\"id\":\"1895\"}},\"id\":\"1894\",\"type\":\"LinearAxis\"},{\"attributes\":{},\"id\":\"2031\",\"type\":\"CategoricalTickFormatter\"},{\"attributes\":{},\"id\":\"1895\",\"type\":\"BasicTicker\"},{\"attributes\":{\"source\":{\"id\":\"1642\"}},\"id\":\"1680\",\"type\":\"CDSView\"},{\"attributes\":{\"axis\":{\"id\":\"1894\"},\"ticker\":null},\"id\":\"1897\",\"type\":\"Grid\"},{\"attributes\":{\"formatter\":{\"id\":\"2031\"},\"ticker\":{\"id\":\"1899\"}},\"id\":\"1898\",\"type\":\"CategoricalAxis\"},{\"attributes\":{\"callback\":null,\"tooltips\":[[\"State\",\"@state_name\"],[\"Cases\",\"@positive{0,0}\"]]},\"id\":\"1667\",\"type\":\"HoverTool\"},{\"attributes\":{\"axis_label\":\"Confirmed Cases\",\"formatter\":{\"id\":\"1681\"},\"ticker\":{\"id\":\"1655\"}},\"id\":\"1654\",\"type\":\"LinearAxis\"},{\"attributes\":{},\"id\":\"1899\",\"type\":\"CategoricalTicker\"},{\"attributes\":{\"axis\":{\"id\":\"1898\"},\"dimension\":1,\"grid_line_color\":null,\"ticker\":null},\"id\":\"1900\",\"type\":\"Grid\"},{\"attributes\":{},\"id\":\"1655\",\"type\":\"BasicTicker\"},{\"attributes\":{\"below\":[{\"id\":\"1934\"}],\"center\":[{\"id\":\"1937\"},{\"id\":\"1940\"}],\"left\":[{\"id\":\"1938\"}],\"plot_height\":1000,\"plot_width\":800,\"renderers\":[{\"id\":\"1959\"}],\"title\":{\"id\":\"1924\"},\"toolbar\":{\"id\":\"1948\"},\"toolbar_location\":\"above\",\"x_range\":{\"id\":\"1926\"},\"x_scale\":{\"id\":\"1930\"},\"y_range\":{\"id\":\"1928\"},\"y_scale\":{\"id\":\"1932\"}},\"id\":\"1923\",\"subtype\":\"Figure\",\"type\":\"Plot\"},{\"attributes\":{\"data_source\":{\"id\":\"1642\"},\"glyph\":{\"id\":\"1917\"},\"hover_glyph\":null,\"muted_glyph\":null,\"nonselection_glyph\":{\"id\":\"1918\"},\"selection_glyph\":null,\"view\":{\"id\":\"1920\"}},\"id\":\"1919\",\"type\":\"GlyphRenderer\"},{\"attributes\":{\"axis\":{\"id\":\"1654\"},\"ticker\":null},\"id\":\"1657\",\"type\":\"Grid\"},{\"attributes\":{\"end\":11599.425660734298,\"start\":0},\"id\":\"1726\",\"type\":\"DataRange1d\"},{\"attributes\":{\"formatter\":{\"id\":\"2034\"},\"ticker\":{\"id\":\"1659\"}},\"id\":\"1658\",\"type\":\"CategoricalAxis\"},{\"attributes\":{\"format\":\"0.0000%\"},\"id\":\"1921\",\"type\":\"NumeralTickFormatter\"},{\"attributes\":{\"active_drag\":\"auto\",\"active_inspect\":\"auto\",\"active_multi\":null,\"active_scroll\":\"auto\",\"active_tap\":\"auto\",\"tools\":[{\"id\":\"1901\"},{\"id\":\"1902\"},{\"id\":\"1903\"},{\"id\":\"1904\"},{\"id\":\"1905\"},{\"id\":\"1906\"},{\"id\":\"1907\"}]},\"id\":\"1908\",\"type\":\"Toolbar\"},{\"attributes\":{},\"id\":\"1901\",\"type\":\"PanTool\"},{\"attributes\":{},\"id\":\"1659\",\"type\":\"CategoricalTicker\"},{\"attributes\":{},\"id\":\"1902\",\"type\":\"WheelZoomTool\"},{\"attributes\":{\"factors\":[\"Wyoming\",\"West Virginia\",\"Wisconsin\",\"Washington\",\"Vermont\",\"Virginia\",\"Utah\",\"Texas\",\"Tennessee\",\"South Dakota\",\"South Carolina\",\"Rhode Island\",\"Pennsylvania\",\"Oregon\",\"Oklahoma\",\"Ohio\",\"Nevada\",\"New Mexico\",\"New Jersey\",\"New Hampshire\",\"Nebraska\",\"North Dakota\",\"North Carolina\",\"Montana\",\"Mississippi\",\"Missouri\",\"Minnesota\",\"Michigan\",\"Maine\",\"Maryland\",\"Massachusetts\",\"Louisiana\",\"Kentucky\",\"Kansas\",\"Indiana\",\"Illinois\",\"Idaho\",\"Iowa\",\"Hawaii\",\"Georgia\",\"Florida\",\"Delaware\",\"District of Columbia\",\"Connecticut\",\"Colorado\",\"California\",\"Arizona\",\"Arkansas\",\"Alabama\",\"Alaska\"]},\"id\":\"1648\",\"type\":\"FactorRange\"},{\"attributes\":{\"overlay\":{\"id\":\"2051\"}},\"id\":\"1903\",\"type\":\"BoxZoomTool\"},{\"attributes\":{},\"id\":\"1904\",\"type\":\"SaveTool\"},{\"attributes\":{},\"id\":\"1650\",\"type\":\"LinearScale\"},{\"attributes\":{},\"id\":\"1905\",\"type\":\"ResetTool\"},{\"attributes\":{},\"id\":\"1906\",\"type\":\"HelpTool\"},{\"attributes\":{},\"id\":\"1652\",\"type\":\"CategoricalScale\"},{\"attributes\":{\"callback\":null,\"tooltips\":[[\"State\",\"@state_name\"],[\"Death Share\",\"@deathShare{0.0000%}\"]]},\"id\":\"1907\",\"type\":\"HoverTool\"},{\"attributes\":{\"fill_alpha\":{\"value\":0.1},\"fill_color\":{\"value\":\"#1f77b4\"},\"height\":{\"value\":0.5},\"line_alpha\":{\"value\":0.1},\"line_color\":{\"value\":\"#1f77b4\"},\"right\":{\"field\":\"deathShare\"},\"y\":{\"field\":\"state_name\"}},\"id\":\"1918\",\"type\":\"HBar\"},{\"attributes\":{\"fill_color\":{\"value\":\"#1f77b4\"},\"height\":{\"value\":0.5},\"line_color\":{\"value\":\"#1f77b4\"},\"right\":{\"field\":\"deathShare\"},\"y\":{\"field\":\"state_name\"}},\"id\":\"1917\",\"type\":\"HBar\"},{\"attributes\":{\"end\":129831.89086264421,\"start\":-79476.55464684735},\"id\":\"1806\",\"type\":\"DataRange1d\"},{\"attributes\":{},\"id\":\"2022\",\"type\":\"CategoricalTickFormatter\"},{\"attributes\":{},\"id\":\"1745\",\"type\":\"ResetTool\"},{\"attributes\":{},\"id\":\"2034\",\"type\":\"CategoricalTickFormatter\"},{\"attributes\":{},\"id\":\"1695\",\"type\":\"BasicTicker\"},{\"attributes\":{\"factors\":[\"Wyoming\",\"West Virginia\",\"Wisconsin\",\"Washington\",\"Vermont\",\"Virginia\",\"Utah\",\"Texas\",\"Tennessee\",\"South Dakota\",\"South Carolina\",\"Rhode Island\",\"Pennsylvania\",\"Oregon\",\"Oklahoma\",\"Ohio\",\"Nevada\",\"New Mexico\",\"New Jersey\",\"New Hampshire\",\"Nebraska\",\"North Dakota\",\"North Carolina\",\"Montana\",\"Mississippi\",\"Missouri\",\"Minnesota\",\"Michigan\",\"Maine\",\"Maryland\",\"Massachusetts\",\"Louisiana\",\"Kentucky\",\"Kansas\",\"Indiana\",\"Illinois\",\"Idaho\",\"Iowa\",\"Hawaii\",\"Georgia\",\"Florida\",\"Delaware\",\"District of Columbia\",\"Connecticut\",\"Colorado\",\"California\",\"Arizona\",\"Arkansas\",\"Alabama\",\"Alaska\"]},\"id\":\"1808\",\"type\":\"FactorRange\"},{\"attributes\":{\"text\":\"COVID US Percentage Share of Hospitalizations by State\"},\"id\":\"1924\",\"type\":\"Title\"},{\"attributes\":{},\"id\":\"1746\",\"type\":\"HelpTool\"},{\"attributes\":{\"axis\":{\"id\":\"1694\"},\"ticker\":null},\"id\":\"1697\",\"type\":\"Grid\"},{\"attributes\":{\"child\":{\"id\":\"1803\"},\"title\":\"Positive Delta\"},\"id\":\"1964\",\"type\":\"Panel\"},{\"attributes\":{},\"id\":\"1810\",\"type\":\"LinearScale\"},{\"attributes\":{},\"id\":\"2037\",\"type\":\"CategoricalTickFormatter\"},{\"attributes\":{\"callback\":null,\"tooltips\":[[\"State\",\"@state_name\"],[\"Hospitalized\",\"@hospitalized{0,0}\"]]},\"id\":\"1747\",\"type\":\"HoverTool\"},{\"attributes\":{\"formatter\":{\"id\":\"2037\"},\"ticker\":{\"id\":\"1699\"}},\"id\":\"1698\",\"type\":\"CategoricalAxis\"},{\"attributes\":{\"active_drag\":\"auto\",\"active_inspect\":\"auto\",\"active_multi\":null,\"active_scroll\":\"auto\",\"active_tap\":\"auto\",\"tools\":[{\"id\":\"1741\"},{\"id\":\"1742\"},{\"id\":\"1743\"},{\"id\":\"1744\"},{\"id\":\"1745\"},{\"id\":\"1746\"},{\"id\":\"1747\"}]},\"id\":\"1748\",\"type\":\"Toolbar\"},{\"attributes\":{},\"id\":\"1812\",\"type\":\"CategoricalScale\"},{\"attributes\":{\"end\":0.18117308604170776,\"start\":0},\"id\":\"1926\",\"type\":\"DataRange1d\"},{\"attributes\":{},\"id\":\"2040\",\"type\":\"CategoricalTickFormatter\"},{\"attributes\":{},\"id\":\"1699\",\"type\":\"CategoricalTicker\"},{\"attributes\":{\"axis_label\":\"Actual Covid Cases - Expected Covid Cases\",\"formatter\":{\"id\":\"1841\"},\"ticker\":{\"id\":\"1815\"}},\"id\":\"1814\",\"type\":\"LinearAxis\"},{\"attributes\":{\"factors\":[\"Wyoming\",\"West Virginia\",\"Wisconsin\",\"Washington\",\"Vermont\",\"Virginia\",\"Utah\",\"Texas\",\"Tennessee\",\"South Dakota\",\"South Carolina\",\"Rhode Island\",\"Pennsylvania\",\"Oregon\",\"Oklahoma\",\"Ohio\",\"Nevada\",\"New Mexico\",\"New Jersey\",\"New Hampshire\",\"Nebraska\",\"North Dakota\",\"North Carolina\",\"Montana\",\"Mississippi\",\"Missouri\",\"Minnesota\",\"Michigan\",\"Maine\",\"Maryland\",\"Massachusetts\",\"Louisiana\",\"Kentucky\",\"Kansas\",\"Indiana\",\"Illinois\",\"Idaho\",\"Iowa\",\"Hawaii\",\"Georgia\",\"Florida\",\"Delaware\",\"District of Columbia\",\"Connecticut\",\"Colorado\",\"California\",\"Arizona\",\"Arkansas\",\"Alabama\",\"Alaska\"]},\"id\":\"1928\",\"type\":\"FactorRange\"},{\"attributes\":{\"source\":{\"id\":\"1642\"}},\"id\":\"1760\",\"type\":\"CDSView\"},{\"attributes\":{},\"id\":\"2043\",\"type\":\"CategoricalTickFormatter\"},{\"attributes\":{\"axis\":{\"id\":\"1698\"},\"dimension\":1,\"grid_line_color\":null,\"ticker\":null},\"id\":\"1700\",\"type\":\"Grid\"},{\"attributes\":{\"data_source\":{\"id\":\"1642\"},\"glyph\":{\"id\":\"1757\"},\"hover_glyph\":null,\"muted_glyph\":null,\"nonselection_glyph\":{\"id\":\"1758\"},\"selection_glyph\":null,\"view\":{\"id\":\"1760\"}},\"id\":\"1759\",\"type\":\"GlyphRenderer\"},{\"attributes\":{},\"id\":\"1930\",\"type\":\"LinearScale\"},{\"attributes\":{},\"id\":\"1815\",\"type\":\"BasicTicker\"},{\"attributes\":{},\"id\":\"2046\",\"type\":\"UnionRenderers\"},{\"attributes\":{\"below\":[{\"id\":\"1774\"}],\"center\":[{\"id\":\"1777\"},{\"id\":\"1780\"}],\"left\":[{\"id\":\"1778\"}],\"plot_height\":1000,\"plot_width\":800,\"renderers\":[{\"id\":\"1799\"}],\"title\":{\"id\":\"1764\"},\"toolbar\":{\"id\":\"1788\"},\"toolbar_location\":\"above\",\"x_range\":{\"id\":\"1766\"},\"x_scale\":{\"id\":\"1770\"},\"y_range\":{\"id\":\"1768\"},\"y_scale\":{\"id\":\"1772\"}},\"id\":\"1763\",\"subtype\":\"Figure\",\"type\":\"Plot\"},{\"attributes\":{\"below\":[{\"id\":\"1734\"}],\"center\":[{\"id\":\"1737\"},{\"id\":\"1740\"}],\"left\":[{\"id\":\"1738\"}],\"plot_height\":1000,\"plot_width\":800,\"renderers\":[{\"id\":\"1759\"}],\"title\":{\"id\":\"1724\"},\"toolbar\":{\"id\":\"1748\"},\"toolbar_location\":\"above\",\"x_range\":{\"id\":\"1726\"},\"x_scale\":{\"id\":\"1730\"},\"y_range\":{\"id\":\"1728\"},\"y_scale\":{\"id\":\"1732\"}},\"id\":\"1723\",\"subtype\":\"Figure\",\"type\":\"Plot\"},{\"attributes\":{\"axis\":{\"id\":\"1814\"},\"ticker\":null},\"id\":\"1817\",\"type\":\"Grid\"},{\"attributes\":{},\"id\":\"1932\",\"type\":\"CategoricalScale\"},{\"attributes\":{},\"id\":\"2047\",\"type\":\"Selection\"},{\"attributes\":{\"fill_alpha\":{\"value\":0.1},\"fill_color\":{\"value\":\"#1f77b4\"},\"height\":{\"value\":0.5},\"line_alpha\":{\"value\":0.1},\"line_color\":{\"value\":\"white\"},\"right\":{\"field\":\"death\"},\"y\":{\"field\":\"state_name\"}},\"id\":\"1718\",\"type\":\"HBar\"},{\"attributes\":{\"formatter\":{\"id\":\"2025\"},\"ticker\":{\"id\":\"1819\"}},\"id\":\"1818\",\"type\":\"CategoricalAxis\"},{\"attributes\":{},\"id\":\"1730\",\"type\":\"LinearScale\"},{\"attributes\":{\"axis_label\":\"Confirmed Recoveries as % of Total US Recoveries\",\"formatter\":{\"id\":\"1961\"},\"ticker\":{\"id\":\"1935\"}},\"id\":\"1934\",\"type\":\"LinearAxis\"},{\"attributes\":{\"bottom_units\":\"screen\",\"fill_alpha\":0.5,\"fill_color\":\"lightgrey\",\"left_units\":\"screen\",\"level\":\"overlay\",\"line_alpha\":1.0,\"line_color\":\"black\",\"line_dash\":[4,4],\"line_width\":2,\"render_mode\":\"css\",\"right_units\":\"screen\",\"top_units\":\"screen\"},\"id\":\"2048\",\"type\":\"BoxAnnotation\"},{\"attributes\":{\"active_drag\":\"auto\",\"active_inspect\":\"auto\",\"active_multi\":null,\"active_scroll\":\"auto\",\"active_tap\":\"auto\",\"tools\":[{\"id\":\"1701\"},{\"id\":\"1702\"},{\"id\":\"1703\"},{\"id\":\"1704\"},{\"id\":\"1705\"},{\"id\":\"1706\"},{\"id\":\"1707\"}]},\"id\":\"1708\",\"type\":\"Toolbar\"},{\"attributes\":{},\"id\":\"1819\",\"type\":\"CategoricalTicker\"},{\"attributes\":{\"text\":\"COVID Deaths: 49,061 - Death Rate: 5.34%\"},\"id\":\"1684\",\"type\":\"Title\"},{\"attributes\":{},\"id\":\"2028\",\"type\":\"CategoricalTickFormatter\"},{\"attributes\":{},\"id\":\"1701\",\"type\":\"PanTool\"},{\"attributes\":{\"text\":\"COVID US Confirmed / Expected Delta\"},\"id\":\"1804\",\"type\":\"Title\"},{\"attributes\":{},\"id\":\"1935\",\"type\":\"BasicTicker\"},{\"attributes\":{\"bottom_units\":\"screen\",\"fill_alpha\":0.5,\"fill_color\":\"lightgrey\",\"left_units\":\"screen\",\"level\":\"overlay\",\"line_alpha\":1.0,\"line_color\":\"black\",\"line_dash\":[4,4],\"line_width\":2,\"render_mode\":\"css\",\"right_units\":\"screen\",\"top_units\":\"screen\"},\"id\":\"2049\",\"type\":\"BoxAnnotation\"},{\"attributes\":{\"text\":\"COVID US National Infection Rate: 0.2944%\"},\"id\":\"1764\",\"type\":\"Title\"},{\"attributes\":{\"axis\":{\"id\":\"1818\"},\"dimension\":1,\"grid_line_color\":null,\"ticker\":null},\"id\":\"1820\",\"type\":\"Grid\"},{\"attributes\":{\"axis\":{\"id\":\"1934\"},\"ticker\":null},\"id\":\"1937\",\"type\":\"Grid\"},{\"attributes\":{},\"id\":\"1702\",\"type\":\"WheelZoomTool\"},{\"attributes\":{\"bottom_units\":\"screen\",\"fill_alpha\":0.5,\"fill_color\":\"lightgrey\",\"left_units\":\"screen\",\"level\":\"overlay\",\"line_alpha\":1.0,\"line_color\":\"black\",\"line_dash\":[4,4],\"line_width\":2,\"render_mode\":\"css\",\"right_units\":\"screen\",\"top_units\":\"screen\"},\"id\":\"2050\",\"type\":\"BoxAnnotation\"},{\"attributes\":{\"end\":0.017916160537029015,\"start\":0},\"id\":\"1766\",\"type\":\"DataRange1d\"},{\"attributes\":{\"formatter\":{\"id\":\"2043\"},\"ticker\":{\"id\":\"1939\"}},\"id\":\"1938\",\"type\":\"CategoricalAxis\"},{\"attributes\":{\"overlay\":{\"id\":\"2053\"}},\"id\":\"1703\",\"type\":\"BoxZoomTool\"},{\"attributes\":{},\"id\":\"1744\",\"type\":\"SaveTool\"},{\"attributes\":{\"bottom_units\":\"screen\",\"fill_alpha\":0.5,\"fill_color\":\"lightgrey\",\"left_units\":\"screen\",\"level\":\"overlay\",\"line_alpha\":1.0,\"line_color\":\"black\",\"line_dash\":[4,4],\"line_width\":2,\"render_mode\":\"css\",\"right_units\":\"screen\",\"top_units\":\"screen\"},\"id\":\"2051\",\"type\":\"BoxAnnotation\"},{\"attributes\":{\"factors\":[\"Wyoming\",\"West Virginia\",\"Wisconsin\",\"Washington\",\"Vermont\",\"Virginia\",\"Utah\",\"Texas\",\"Tennessee\",\"South Dakota\",\"South Carolina\",\"Rhode Island\",\"Pennsylvania\",\"Oregon\",\"Oklahoma\",\"Ohio\",\"Nevada\",\"New Mexico\",\"New Jersey\",\"New Hampshire\",\"Nebraska\",\"North Dakota\",\"North Carolina\",\"Montana\",\"Mississippi\",\"Missouri\",\"Minnesota\",\"Michigan\",\"Maine\",\"Maryland\",\"Massachusetts\",\"Louisiana\",\"Kentucky\",\"Kansas\",\"Indiana\",\"Illinois\",\"Idaho\",\"Iowa\",\"Hawaii\",\"Georgia\",\"Florida\",\"Delaware\",\"District of Columbia\",\"Connecticut\",\"Colorado\",\"California\",\"Arizona\",\"Arkansas\",\"Alabama\",\"Alaska\"]},\"id\":\"1768\",\"type\":\"FactorRange\"},{\"attributes\":{\"fill_alpha\":{\"value\":0.1},\"fill_color\":{\"value\":\"#1f77b4\"},\"height\":{\"value\":0.5},\"line_alpha\":{\"value\":0.1},\"line_color\":{\"value\":\"#1f77b4\"},\"right\":{\"field\":\"positiveDelta\"},\"y\":{\"field\":\"state_name\"}},\"id\":\"1838\",\"type\":\"HBar\"},{\"attributes\":{},\"id\":\"1704\",\"type\":\"SaveTool\"},{\"attributes\":{},\"id\":\"1939\",\"type\":\"CategoricalTicker\"},{\"attributes\":{\"below\":[{\"id\":\"1894\"}],\"center\":[{\"id\":\"1897\"},{\"id\":\"1900\"}],\"left\":[{\"id\":\"1898\"}],\"plot_height\":1000,\"plot_width\":800,\"renderers\":[{\"id\":\"1919\"}],\"title\":{\"id\":\"1884\"},\"toolbar\":{\"id\":\"1908\"},\"toolbar_location\":\"above\",\"x_range\":{\"id\":\"1886\"},\"x_scale\":{\"id\":\"1890\"},\"y_range\":{\"id\":\"1888\"},\"y_scale\":{\"id\":\"1892\"}},\"id\":\"1883\",\"subtype\":\"Figure\",\"type\":\"Plot\"},{\"attributes\":{\"bottom_units\":\"screen\",\"fill_alpha\":0.5,\"fill_color\":\"lightgrey\",\"left_units\":\"screen\",\"level\":\"overlay\",\"line_alpha\":1.0,\"line_color\":\"black\",\"line_dash\":[4,4],\"line_width\":2,\"render_mode\":\"css\",\"right_units\":\"screen\",\"top_units\":\"screen\"},\"id\":\"2052\",\"type\":\"BoxAnnotation\"},{\"attributes\":{},\"id\":\"1770\",\"type\":\"LinearScale\"},{\"attributes\":{\"active_drag\":\"auto\",\"active_inspect\":\"auto\",\"active_multi\":null,\"active_scroll\":\"auto\",\"active_tap\":\"auto\",\"tools\":[{\"id\":\"1821\"},{\"id\":\"1822\"},{\"id\":\"1823\"},{\"id\":\"1824\"},{\"id\":\"1825\"},{\"id\":\"1826\"},{\"id\":\"1827\"}]},\"id\":\"1828\",\"type\":\"Toolbar\"},{\"attributes\":{\"axis\":{\"id\":\"1938\"},\"dimension\":1,\"grid_line_color\":null,\"ticker\":null},\"id\":\"1940\",\"type\":\"Grid\"},{\"attributes\":{},\"id\":\"1705\",\"type\":\"ResetTool\"},{\"attributes\":{},\"id\":\"1821\",\"type\":\"PanTool\"},{\"attributes\":{\"bottom_units\":\"screen\",\"fill_alpha\":0.5,\"fill_color\":\"lightgrey\",\"left_units\":\"screen\",\"level\":\"overlay\",\"line_alpha\":1.0,\"line_color\":\"black\",\"line_dash\":[4,4],\"line_width\":2,\"render_mode\":\"css\",\"right_units\":\"screen\",\"top_units\":\"screen\"},\"id\":\"2053\",\"type\":\"BoxAnnotation\"},{\"attributes\":{},\"id\":\"1772\",\"type\":\"CategoricalScale\"},{\"attributes\":{},\"id\":\"1706\",\"type\":\"HelpTool\"},{\"attributes\":{\"bottom_units\":\"screen\",\"fill_alpha\":0.5,\"fill_color\":\"lightgrey\",\"left_units\":\"screen\",\"level\":\"overlay\",\"line_alpha\":1.0,\"line_color\":\"black\",\"line_dash\":[4,4],\"line_width\":2,\"render_mode\":\"css\",\"right_units\":\"screen\",\"top_units\":\"screen\"},\"id\":\"2054\",\"type\":\"BoxAnnotation\"},{\"attributes\":{},\"id\":\"1822\",\"type\":\"WheelZoomTool\"},{\"attributes\":{\"fill_alpha\":{\"value\":0.1},\"fill_color\":{\"value\":\"#1f77b4\"},\"height\":{\"value\":0.5},\"line_alpha\":{\"value\":0.1},\"line_color\":{\"value\":\"#1f77b4\"},\"right\":{\"field\":\"hospitalShare\"},\"y\":{\"field\":\"state_name\"}},\"id\":\"1958\",\"type\":\"HBar\"},{\"attributes\":{\"axis_label\":\"Confirmed Cases as % of State Population\",\"formatter\":{\"id\":\"1801\"},\"ticker\":{\"id\":\"1775\"}},\"id\":\"1774\",\"type\":\"LinearAxis\"},{\"attributes\":{\"callback\":null,\"tooltips\":[[\"State\",\"@state_name\"],[\"Deaths\",\"@death{0,0}\"]]},\"id\":\"1707\",\"type\":\"HoverTool\"},{\"attributes\":{\"bottom_units\":\"screen\",\"fill_alpha\":0.5,\"fill_color\":\"lightgrey\",\"left_units\":\"screen\",\"level\":\"overlay\",\"line_alpha\":1.0,\"line_color\":\"black\",\"line_dash\":[4,4],\"line_width\":2,\"render_mode\":\"css\",\"right_units\":\"screen\",\"top_units\":\"screen\"},\"id\":\"2055\",\"type\":\"BoxAnnotation\"},{\"attributes\":{\"overlay\":{\"id\":\"2049\"}},\"id\":\"1823\",\"type\":\"BoxZoomTool\"},{\"attributes\":{\"format\":\"0.0000%\"},\"id\":\"1961\",\"type\":\"NumeralTickFormatter\"},{\"attributes\":{\"below\":[{\"id\":\"1854\"}],\"center\":[{\"id\":\"1857\"},{\"id\":\"1860\"}],\"left\":[{\"id\":\"1858\"}],\"plot_height\":1000,\"plot_width\":800,\"renderers\":[{\"id\":\"1879\"}],\"title\":{\"id\":\"1844\"},\"toolbar\":{\"id\":\"1868\"},\"toolbar_location\":\"above\",\"x_range\":{\"id\":\"1846\"},\"x_scale\":{\"id\":\"1850\"},\"y_range\":{\"id\":\"1848\"},\"y_scale\":{\"id\":\"1852\"}},\"id\":\"1843\",\"subtype\":\"Figure\",\"type\":\"Plot\"},{\"attributes\":{\"active_drag\":\"auto\",\"active_inspect\":\"auto\",\"active_multi\":null,\"active_scroll\":\"auto\",\"active_tap\":\"auto\",\"tools\":[{\"id\":\"1941\"},{\"id\":\"1942\"},{\"id\":\"1943\"},{\"id\":\"1944\"},{\"id\":\"1945\"},{\"id\":\"1946\"},{\"id\":\"1947\"}]},\"id\":\"1948\",\"type\":\"Toolbar\"},{\"attributes\":{},\"id\":\"1775\",\"type\":\"BasicTicker\"},{\"attributes\":{},\"id\":\"1824\",\"type\":\"SaveTool\"},{\"attributes\":{},\"id\":\"1941\",\"type\":\"PanTool\"},{\"attributes\":{\"axis\":{\"id\":\"1774\"},\"ticker\":null},\"id\":\"1777\",\"type\":\"Grid\"},{\"attributes\":{},\"id\":\"1825\",\"type\":\"ResetTool\"},{\"attributes\":{\"source\":{\"id\":\"1642\"}},\"id\":\"1720\",\"type\":\"CDSView\"},{\"attributes\":{},\"id\":\"1942\",\"type\":\"WheelZoomTool\"},{\"attributes\":{\"data_source\":{\"id\":\"1642\"},\"glyph\":{\"id\":\"1717\"},\"hover_glyph\":null,\"muted_glyph\":null,\"nonselection_glyph\":{\"id\":\"1718\"},\"selection_glyph\":null,\"view\":{\"id\":\"1720\"}},\"id\":\"1719\",\"type\":\"GlyphRenderer\"},{\"attributes\":{\"formatter\":{\"id\":\"2022\"},\"ticker\":{\"id\":\"1779\"}},\"id\":\"1778\",\"type\":\"CategoricalAxis\"},{\"attributes\":{},\"id\":\"1826\",\"type\":\"HelpTool\"},{\"attributes\":{\"overlay\":{\"id\":\"2055\"}},\"id\":\"1943\",\"type\":\"BoxZoomTool\"},{\"attributes\":{\"below\":[{\"id\":\"1654\"}],\"center\":[{\"id\":\"1657\"},{\"id\":\"1660\"}],\"left\":[{\"id\":\"1658\"}],\"plot_height\":1000,\"plot_width\":800,\"renderers\":[{\"id\":\"1679\"}],\"title\":{\"id\":\"1644\"},\"toolbar\":{\"id\":\"1668\"},\"toolbar_location\":\"above\",\"x_range\":{\"id\":\"1646\"},\"x_scale\":{\"id\":\"1650\"},\"y_range\":{\"id\":\"1648\"},\"y_scale\":{\"id\":\"1652\"}},\"id\":\"1643\",\"subtype\":\"Figure\",\"type\":\"Plot\"},{\"attributes\":{},\"id\":\"1779\",\"type\":\"CategoricalTicker\"},{\"attributes\":{\"fill_color\":{\"value\":\"#1f77b4\"},\"height\":{\"value\":0.5},\"line_color\":{\"value\":\"white\"},\"right\":{\"field\":\"death\"},\"y\":{\"field\":\"state_name\"}},\"id\":\"1717\",\"type\":\"HBar\"},{\"attributes\":{\"callback\":null,\"tooltips\":[[\"State\",\"@state_name\"],[\"Positive Delta\",\"@positiveDelta{0,0}\"]]},\"id\":\"1827\",\"type\":\"HoverTool\"},{\"attributes\":{},\"id\":\"1944\",\"type\":\"SaveTool\"},{\"attributes\":{\"axis\":{\"id\":\"1778\"},\"dimension\":1,\"grid_line_color\":null,\"ticker\":null},\"id\":\"1780\",\"type\":\"Grid\"},{\"attributes\":{},\"id\":\"1945\",\"type\":\"ResetTool\"},{\"attributes\":{\"fill_alpha\":{\"value\":0.1},\"fill_color\":{\"value\":\"#1f77b4\"},\"height\":{\"value\":0.5},\"line_alpha\":{\"value\":0.1},\"line_color\":{\"value\":\"#1f77b4\"},\"right\":{\"field\":\"positiveShare\"},\"y\":{\"field\":\"state_name\"}},\"id\":\"1878\",\"type\":\"HBar\"},{\"attributes\":{\"text\":\"COVID Hospitalized: 64,024 - Hospitalization Rate: 6.97%\"},\"id\":\"1724\",\"type\":\"Title\"},{\"attributes\":{\"fill_alpha\":{\"value\":0.1},\"fill_color\":{\"value\":\"#1f77b4\"},\"height\":{\"value\":0.5},\"line_alpha\":{\"value\":0.1},\"line_color\":{\"value\":\"#1f77b4\"},\"right\":{\"field\":\"infectionRate\"},\"y\":{\"field\":\"state_name\"}},\"id\":\"1798\",\"type\":\"HBar\"},{\"attributes\":{\"source\":{\"id\":\"1642\"}},\"id\":\"1840\",\"type\":\"CDSView\"},{\"attributes\":{\"format\":\"0.0000%\"},\"id\":\"1881\",\"type\":\"NumeralTickFormatter\"},{\"attributes\":{},\"id\":\"1946\",\"type\":\"HelpTool\"},{\"attributes\":{\"format\":\"0.0000%\"},\"id\":\"1801\",\"type\":\"NumeralTickFormatter\"},{\"attributes\":{\"callback\":null,\"tooltips\":[[\"State\",\"@state_name\"],[\"Hosp. Share\",\"@hospitalShare{0.0000%}\"]]},\"id\":\"1947\",\"type\":\"HoverTool\"},{\"attributes\":{\"active_drag\":\"auto\",\"active_inspect\":\"auto\",\"active_multi\":null,\"active_scroll\":\"auto\",\"active_tap\":\"auto\",\"tools\":[{\"id\":\"1781\"},{\"id\":\"1782\"},{\"id\":\"1783\"},{\"id\":\"1784\"},{\"id\":\"1785\"},{\"id\":\"1786\"},{\"id\":\"1787\"}]},\"id\":\"1788\",\"type\":\"Toolbar\"},{\"attributes\":{\"data_source\":{\"id\":\"1642\"},\"glyph\":{\"id\":\"1837\"},\"hover_glyph\":null,\"muted_glyph\":null,\"nonselection_glyph\":{\"id\":\"1838\"},\"selection_glyph\":null,\"view\":{\"id\":\"1840\"}},\"id\":\"1839\",\"type\":\"GlyphRenderer\"},{\"attributes\":{},\"id\":\"1732\",\"type\":\"CategoricalScale\"},{\"attributes\":{},\"id\":\"1781\",\"type\":\"PanTool\"},{\"attributes\":{\"fill_color\":{\"value\":\"#1f77b4\"},\"height\":{\"value\":0.5},\"line_color\":{\"value\":\"#1f77b4\"},\"right\":{\"field\":\"positiveDelta\"},\"y\":{\"field\":\"state_name\"}},\"id\":\"1837\",\"type\":\"HBar\"},{\"attributes\":{\"axis_label\":\"Confirmed Hospitalizations\",\"formatter\":{\"id\":\"1761\"},\"ticker\":{\"id\":\"1735\"}},\"id\":\"1734\",\"type\":\"LinearAxis\"},{\"attributes\":{},\"id\":\"1782\",\"type\":\"WheelZoomTool\"},{\"attributes\":{\"source\":{\"id\":\"1642\"}},\"id\":\"1960\",\"type\":\"CDSView\"},{\"attributes\":{\"overlay\":{\"id\":\"2048\"}},\"id\":\"1783\",\"type\":\"BoxZoomTool\"},{\"attributes\":{\"fill_color\":{\"value\":\"#1f77b4\"},\"height\":{\"value\":0.5},\"line_color\":{\"value\":\"#1f77b4\"},\"right\":{\"field\":\"positiveShare\"},\"y\":{\"field\":\"state_name\"}},\"id\":\"1877\",\"type\":\"HBar\"},{\"attributes\":{},\"id\":\"1735\",\"type\":\"BasicTicker\"},{\"attributes\":{\"text\":\"COVID US Percentage Share of Confirmed Cases by State\"},\"id\":\"1844\",\"type\":\"Title\"},{\"attributes\":{\"data_source\":{\"id\":\"1642\"},\"glyph\":{\"id\":\"1957\"},\"hover_glyph\":null,\"muted_glyph\":null,\"nonselection_glyph\":{\"id\":\"1958\"},\"selection_glyph\":null,\"view\":{\"id\":\"1960\"}},\"id\":\"1959\",\"type\":\"GlyphRenderer\"},{\"attributes\":{\"axis\":{\"id\":\"1734\"},\"ticker\":null},\"id\":\"1737\",\"type\":\"Grid\"},{\"attributes\":{},\"id\":\"1784\",\"type\":\"SaveTool\"},{\"attributes\":{\"end\":0.17253558647154266,\"start\":0},\"id\":\"1846\",\"type\":\"DataRange1d\"},{\"attributes\":{\"fill_color\":{\"value\":\"#1f77b4\"},\"height\":{\"value\":0.5},\"line_color\":{\"value\":\"#1f77b4\"},\"right\":{\"field\":\"hospitalShare\"},\"y\":{\"field\":\"state_name\"}},\"id\":\"1957\",\"type\":\"HBar\"},{\"attributes\":{\"formatter\":{\"id\":\"2040\"},\"ticker\":{\"id\":\"1739\"}},\"id\":\"1738\",\"type\":\"CategoricalAxis\"},{\"attributes\":{},\"id\":\"1785\",\"type\":\"ResetTool\"},{\"attributes\":{\"child\":{\"id\":\"1763\"},\"title\":\"Infection Rate\"},\"id\":\"1963\",\"type\":\"Panel\"},{\"attributes\":{\"factors\":[\"Wyoming\",\"West Virginia\",\"Wisconsin\",\"Washington\",\"Vermont\",\"Virginia\",\"Utah\",\"Texas\",\"Tennessee\",\"South Dakota\",\"South Carolina\",\"Rhode Island\",\"Pennsylvania\",\"Oregon\",\"Oklahoma\",\"Ohio\",\"Nevada\",\"New Mexico\",\"New Jersey\",\"New Hampshire\",\"Nebraska\",\"North Dakota\",\"North Carolina\",\"Montana\",\"Mississippi\",\"Missouri\",\"Minnesota\",\"Michigan\",\"Maine\",\"Maryland\",\"Massachusetts\",\"Louisiana\",\"Kentucky\",\"Kansas\",\"Indiana\",\"Illinois\",\"Idaho\",\"Iowa\",\"Hawaii\",\"Georgia\",\"Florida\",\"Delaware\",\"District of Columbia\",\"Connecticut\",\"Colorado\",\"California\",\"Arizona\",\"Arkansas\",\"Alabama\",\"Alaska\"]},\"id\":\"1848\",\"type\":\"FactorRange\"},{\"attributes\":{},\"id\":\"1786\",\"type\":\"HelpTool\"},{\"attributes\":{},\"id\":\"1739\",\"type\":\"CategoricalTicker\"},{\"attributes\":{},\"id\":\"1850\",\"type\":\"LinearScale\"},{\"attributes\":{\"axis\":{\"id\":\"1738\"},\"dimension\":1,\"grid_line_color\":null,\"ticker\":null},\"id\":\"1740\",\"type\":\"Grid\"},{\"attributes\":{\"callback\":null,\"tooltips\":[[\"State\",\"@state_name\"],[\"Inf. Rate\",\"@infectionRate{0.0000%}\"]]},\"id\":\"1787\",\"type\":\"HoverTool\"},{\"attributes\":{\"child\":{\"id\":\"1843\"},\"title\":\"Positive Share\"},\"id\":\"1965\",\"type\":\"Panel\"},{\"attributes\":{\"below\":[{\"id\":\"1814\"}],\"center\":[{\"id\":\"1817\"},{\"id\":\"1820\"}],\"left\":[{\"id\":\"1818\"}],\"plot_height\":1000,\"plot_width\":800,\"renderers\":[{\"id\":\"1839\"}],\"title\":{\"id\":\"1804\"},\"toolbar\":{\"id\":\"1828\"},\"toolbar_location\":\"above\",\"x_range\":{\"id\":\"1806\"},\"x_scale\":{\"id\":\"1810\"},\"y_range\":{\"id\":\"1808\"},\"y_scale\":{\"id\":\"1812\"}},\"id\":\"1803\",\"subtype\":\"Figure\",\"type\":\"Plot\"},{\"attributes\":{},\"id\":\"1852\",\"type\":\"CategoricalScale\"},{\"attributes\":{\"factors\":[\"Wyoming\",\"West Virginia\",\"Wisconsin\",\"Washington\",\"Vermont\",\"Virginia\",\"Utah\",\"Texas\",\"Tennessee\",\"South Dakota\",\"South Carolina\",\"Rhode Island\",\"Pennsylvania\",\"Oregon\",\"Oklahoma\",\"Ohio\",\"Nevada\",\"New Mexico\",\"New Jersey\",\"New Hampshire\",\"Nebraska\",\"North Dakota\",\"North Carolina\",\"Montana\",\"Mississippi\",\"Missouri\",\"Minnesota\",\"Michigan\",\"Maine\",\"Maryland\",\"Massachusetts\",\"Louisiana\",\"Kentucky\",\"Kansas\",\"Indiana\",\"Illinois\",\"Idaho\",\"Iowa\",\"Hawaii\",\"Georgia\",\"Florida\",\"Delaware\",\"District of Columbia\",\"Connecticut\",\"Colorado\",\"California\",\"Arizona\",\"Arkansas\",\"Alabama\",\"Alaska\"]},\"id\":\"1688\",\"type\":\"FactorRange\"},{\"attributes\":{\"fill_alpha\":{\"value\":0.1},\"fill_color\":{\"value\":\"#1f77b4\"},\"height\":{\"value\":0.5},\"line_alpha\":{\"value\":0.1},\"line_color\":{\"value\":\"white\"},\"right\":{\"field\":\"hospitalized\"},\"y\":{\"field\":\"state_name\"}},\"id\":\"1758\",\"type\":\"HBar\"},{\"attributes\":{\"child\":{\"id\":\"1883\"},\"title\":\"Death Share\"},\"id\":\"1966\",\"type\":\"Panel\"},{\"attributes\":{\"axis_label\":\"Confirmed Cases as % of Total US Cases\",\"formatter\":{\"id\":\"1881\"},\"ticker\":{\"id\":\"1855\"}},\"id\":\"1854\",\"type\":\"LinearAxis\"},{\"attributes\":{},\"id\":\"1690\",\"type\":\"LinearScale\"},{\"attributes\":{\"source\":{\"id\":\"1642\"}},\"id\":\"1800\",\"type\":\"CDSView\"},{\"attributes\":{},\"id\":\"1861\",\"type\":\"PanTool\"},{\"attributes\":{\"child\":{\"id\":\"1643\"},\"title\":\"Positives\"},\"id\":\"1967\",\"type\":\"Panel\"},{\"attributes\":{},\"id\":\"1855\",\"type\":\"BasicTicker\"},{\"attributes\":{},\"id\":\"1761\",\"type\":\"NumeralTickFormatter\"},{\"attributes\":{\"fill_color\":{\"value\":\"#1f77b4\"},\"height\":{\"value\":0.5},\"line_color\":{\"value\":\"white\"},\"right\":{\"field\":\"hospitalized\"},\"y\":{\"field\":\"state_name\"}},\"id\":\"1757\",\"type\":\"HBar\"},{\"attributes\":{\"child\":{\"id\":\"1683\"},\"title\":\"Deaths\"},\"id\":\"1968\",\"type\":\"Panel\"},{\"attributes\":{\"data_source\":{\"id\":\"1642\"},\"glyph\":{\"id\":\"1797\"},\"hover_glyph\":null,\"muted_glyph\":null,\"nonselection_glyph\":{\"id\":\"1798\"},\"selection_glyph\":null,\"view\":{\"id\":\"1800\"}},\"id\":\"1799\",\"type\":\"GlyphRenderer\"},{\"attributes\":{\"axis\":{\"id\":\"1854\"},\"ticker\":null},\"id\":\"1857\",\"type\":\"Grid\"},{\"attributes\":{},\"id\":\"1741\",\"type\":\"PanTool\"},{\"attributes\":{\"child\":{\"id\":\"1723\"},\"title\":\"Hospitalized\"},\"id\":\"1969\",\"type\":\"Panel\"},{\"attributes\":{\"formatter\":{\"id\":\"2028\"},\"ticker\":{\"id\":\"1859\"}},\"id\":\"1858\",\"type\":\"CategoricalAxis\"},{\"attributes\":{},\"id\":\"1692\",\"type\":\"CategoricalScale\"},{\"attributes\":{\"fill_color\":{\"value\":\"#1f77b4\"},\"height\":{\"value\":0.5},\"line_color\":{\"value\":\"#1f77b4\"},\"right\":{\"field\":\"infectionRate\"},\"y\":{\"field\":\"state_name\"}},\"id\":\"1797\",\"type\":\"HBar\"},{\"attributes\":{\"end\":10397.709208826398,\"start\":0},\"id\":\"1686\",\"type\":\"DataRange1d\"},{\"attributes\":{},\"id\":\"1742\",\"type\":\"WheelZoomTool\"},{\"attributes\":{\"child\":{\"id\":\"1923\"},\"title\":\"Hospitalized Share\"},\"id\":\"1970\",\"type\":\"Panel\"},{\"attributes\":{\"axis_label\":\"Confirmed Deaths\",\"formatter\":{\"id\":\"1721\"},\"ticker\":{\"id\":\"1695\"}},\"id\":\"1694\",\"type\":\"LinearAxis\"},{\"attributes\":{},\"id\":\"1841\",\"type\":\"NumeralTickFormatter\"},{\"attributes\":{},\"id\":\"1859\",\"type\":\"CategoricalTicker\"},{\"attributes\":{},\"id\":\"1721\",\"type\":\"NumeralTickFormatter\"},{\"attributes\":{\"overlay\":{\"id\":\"2054\"}},\"id\":\"1743\",\"type\":\"BoxZoomTool\"},{\"attributes\":{\"axis\":{\"id\":\"1858\"},\"dimension\":1,\"grid_line_color\":null,\"ticker\":null},\"id\":\"1860\",\"type\":\"Grid\"}],\"root_ids\":[\"1971\"]},\"title\":\"Bokeh Application\",\"version\":\"2.0.0\"}};\n",
       "  var render_items = [{\"docid\":\"3289f3b6-7ec0-43f8-a948-cf667af8aca8\",\"root_ids\":[\"1971\"],\"roots\":{\"1971\":\"a255da1d-1d69-44c8-b301-880a07806361\"}}];\n",
       "  root.Bokeh.embed.embed_items_notebook(docs_json, render_items);\n",
       "\n",
       "  }\n",
       "  if (root.Bokeh !== undefined) {\n",
       "    embed_document(root);\n",
       "  } else {\n",
       "    var attempts = 0;\n",
       "    var timer = setInterval(function(root) {\n",
       "      if (root.Bokeh !== undefined) {\n",
       "        clearInterval(timer);\n",
       "        embed_document(root);\n",
       "      } else {\n",
       "        attempts++;\n",
       "        if (attempts > 100) {\n",
       "          clearInterval(timer);\n",
       "          console.log(\"Bokeh: ERROR: Unable to run BokehJS code because BokehJS library is missing\");\n",
       "        }\n",
       "      }\n",
       "    }, 10, root)\n",
       "  }\n",
       "})(window);"
      ],
      "application/vnd.bokehjs_exec.v0+json": ""
     },
     "metadata": {
      "application/vnd.bokehjs_exec.v0+json": {
       "id": "1971"
      }
     },
     "output_type": "display_data"
    }
   ],
   "source": [
    "source = ColumnDataSource(data=covid)\n",
    "plot_height = 1000\n",
    "plot_width = 800\n",
    "width = 0.5\n",
    "\n",
    "panels = []\n",
    "\n",
    "title_p = \"COVID Confirmed: {:,} - Death Rate: {:.2%} - Hosp. Rate: {:.2%}\".format(total_positives, death_rate, hospitalization_rate)\n",
    "title_q = \"COVID Deaths: {:,} - Death Rate: {:.2%}\".format(total_deaths, death_rate)\n",
    "title_z = \"COVID Hospitalized: {:,} - Hospitalization Rate: {:.2%}\".format(total_hospitalized, hospitalization_rate)\n",
    "title_x = \"COVID US National Infection Rate: {:.4%}\".format(infection_rate)\n",
    "title_y = \"COVID US Confirmed / Expected Delta\"\n",
    "title_m = \"COVID US Percentage Share of Confirmed Cases by State\"\n",
    "title_n = \"COVID US Percentage Share of Deaths by State\"\n",
    "title_o = \"COVID US Percentage Share of Hospitalizations by State\" # FIX O\n",
    "\n",
    "pTOOLTIPS = [\n",
    "    (\"State\", \"@state_name\"),\n",
    "    (\"Cases\", \"@positive{0,0}\"),\n",
    "]\n",
    "qTOOLTIPS = [\n",
    "    (\"State\", \"@state_name\"),\n",
    "    (\"Deaths\", \"@death{0,0}\"),\n",
    "]\n",
    "zTOOLTIPS = [\n",
    "    (\"State\", \"@state_name\"),\n",
    "    (\"Hospitalized\", \"@hospitalized{0,0}\"),\n",
    "]\n",
    "xTOOLTIPS = [\n",
    "    (\"State\", \"@state_name\"),\n",
    "    (\"Inf. Rate\", \"@infectionRate{0.0000%}\"),\n",
    "]\n",
    "yTOOLTIPS = [\n",
    "    (\"State\", \"@state_name\"),\n",
    "    (\"Positive Delta\", \"@positiveDelta{0,0}\"),\n",
    "]\n",
    "mTOOLTIPS = [\n",
    "    (\"State\", \"@state_name\"),\n",
    "    (\"Positive Share\", \"@positiveShare{0.0000%}\"),\n",
    "]\n",
    "nTOOLTIPS = [\n",
    "    (\"State\", \"@state_name\"),\n",
    "    (\"Death Share\", \"@deathShare{0.0000%}\"),\n",
    "]\n",
    "oTOOLTIPS = [\n",
    "    (\"State\", \"@state_name\"),\n",
    "    (\"Hosp. Share\", \"@hospitalShare{0.0000%}\"),\n",
    "]\n",
    "\n",
    "alpha_index = index[::-1]\n",
    "\n",
    "p = figure(y_range=alpha_index, plot_height=plot_height, plot_width=plot_width, title=title_p, toolbar_location=\"above\", tooltips=pTOOLTIPS)\n",
    "p.hbar(y='state_name', right='positive', height=width, source=source, line_color='white')\n",
    "p.ygrid.grid_line_color = None\n",
    "p.x_range.start = 0\n",
    "p.x_range.end = covid['positive'].max() + covid['positive'].std()\n",
    "#p.yaxis.major_label_orientation = math.pi / 4\n",
    "p.xaxis.axis_label = \"Confirmed Cases\"\n",
    "p.xaxis.formatter = NumeralTickFormatter(format=\"0,0\")\n",
    "\n",
    "q = figure(y_range=alpha_index, plot_height=plot_height, plot_width=plot_width, title=title_q, toolbar_location=\"above\", tooltips=qTOOLTIPS)\n",
    "q.hbar(y='state_name', right='death', height=width, source=source, line_color='white')\n",
    "q.ygrid.grid_line_color = None\n",
    "q.x_range.start = 0\n",
    "q.x_range.end = covid['death'].max() + covid['death'].std()\n",
    "#q.xaxis.major_label_orientation = math.pi / 4\n",
    "q.xaxis.axis_label = \"Confirmed Deaths\"\n",
    "q.xaxis.formatter = NumeralTickFormatter(format=\"0,0\")\n",
    "\n",
    "z = figure(y_range=alpha_index, plot_height=plot_height, plot_width=plot_width, title=title_z, toolbar_location=\"above\", tooltips=zTOOLTIPS)\n",
    "z.hbar(y='state_name', right='hospitalized', height=width, source=source, line_color='white')\n",
    "z.ygrid.grid_line_color = None\n",
    "z.x_range.start = 0\n",
    "z.x_range.end = covid['hospitalized'].max() + covid['hospitalized'].std()\n",
    "#z.xaxis.major_label_orientation = math.pi / 4\n",
    "z.xaxis.axis_label = \"Confirmed Hospitalizations\"\n",
    "z.xaxis.formatter = NumeralTickFormatter(format=\"0,0\")\n",
    "\n",
    "x = figure(y_range=alpha_index, plot_height=plot_height, plot_width=plot_width, title=title_x, toolbar_location=\"above\", tooltips=xTOOLTIPS)\n",
    "x.hbar(y='state_name', right='infectionRate', height=width, source=source)\n",
    "x.ygrid.grid_line_color = None\n",
    "x.x_range.start = 0\n",
    "x.x_range.end = covid['infectionRate'].max() + covid['infectionRate'].std()\n",
    "#x.xaxis.major_label_orientation = math.pi / 4\n",
    "x.xaxis.axis_label = \"Confirmed Cases as % of State Population\"\n",
    "x.xaxis.formatter = NumeralTickFormatter(format=\"0.0000%\")\n",
    "\n",
    "y = figure(y_range=alpha_index, plot_height=plot_height, plot_width=plot_width, title=title_y, toolbar_location=\"above\", tooltips=yTOOLTIPS)\n",
    "y.hbar(y='state_name', right='positiveDelta', height=width, source=source)\n",
    "y.ygrid.grid_line_color = None\n",
    "y.x_range.start = covid['positiveDelta'].min() - covid['positiveDelta'].std()\n",
    "y.x_range.end = covid['positiveDelta'].max() + covid['positiveDelta'].std()\n",
    "#y.xaxis.major_label_orientation = math.pi / 4\n",
    "y.xaxis.axis_label = \"Actual Covid Cases - Expected Covid Cases\"\n",
    "y.xaxis.formatter = NumeralTickFormatter(format=\"0,0\")\n",
    "\n",
    "m = figure(y_range=alpha_index, plot_height=plot_height, plot_width=plot_width, title=title_m, toolbar_location=\"above\", tooltips=mTOOLTIPS)\n",
    "m.hbar(y='state_name', right='positiveShare', height=width, source=source)\n",
    "m.ygrid.grid_line_color = None\n",
    "m.x_range.start = 0\n",
    "m.x_range.end = covid['positiveShare'].max() + covid['positiveShare'].std()\n",
    "#m.xaxis.major_label_orientation = math.pi / 4\n",
    "m.xaxis.axis_label = \"Confirmed Cases as % of Total US Cases\"\n",
    "m.xaxis.formatter = NumeralTickFormatter(format=\"0.0000%\")\n",
    "\n",
    "n = figure(y_range=alpha_index, plot_height=plot_height, plot_width=plot_width, title=title_n, toolbar_location=\"above\", tooltips=nTOOLTIPS)\n",
    "n.hbar(y='state_name', right='deathShare', height=width, source=source)\n",
    "n.ygrid.grid_line_color = None\n",
    "n.x_range.start = 0\n",
    "n.x_range.end = covid['deathShare'].max() + covid['deathShare'].std()\n",
    "#n.xaxis.major_label_orientation = math.pi / 4\n",
    "n.xaxis.axis_label = \"Confirmed Deaths as % of Total US Covid Deaths\"\n",
    "n.xaxis.formatter = NumeralTickFormatter(format=\"0.0000%\")\n",
    "\n",
    "o = figure(y_range=alpha_index, plot_height=plot_height, plot_width=plot_width, title=title_o, toolbar_location=\"above\", tooltips=oTOOLTIPS)\n",
    "o.hbar(y='state_name', right='hospitalShare', height=width, source=source)\n",
    "o.ygrid.grid_line_color = None\n",
    "o.x_range.start = 0\n",
    "o.x_range.end = covid['hospitalShare'].max() + covid['hospitalShare'].std()\n",
    "#o.xaxis.major_label_orientation = math.pi / 4\n",
    "o.xaxis.axis_label = \"Confirmed Recoveries as % of Total US Recoveries\"\n",
    "o.xaxis.formatter = NumeralTickFormatter(format=\"0.0000%\")\n",
    "\n",
    "charts = [\n",
    "    (x, \"Infection Rate\"),\n",
    "    (y, \"Positive Delta\"),\n",
    "    (m, \"Positive Share\"),\n",
    "    (n, \"Death Share\"),\n",
    "    (p, \"Positives\"),\n",
    "    (q, \"Deaths\"),\n",
    "    (z, \"Hospitalized\"),\n",
    "    (o, \"Hospitalized Share\"),\n",
    "]\n",
    "\n",
    "for viz, title in charts:\n",
    "    panel = Panel(child=viz, title=title)\n",
    "    panels.append(panel)\n",
    "\n",
    "tabs = Tabs(tabs=panels)\n",
    "\n",
    "show(tabs)"
   ]
  },
  {
   "cell_type": "code",
   "execution_count": 20,
   "metadata": {
    "jupyter": {
     "source_hidden": true
    }
   },
   "outputs": [
    {
     "data": {
      "application/vnd.plotly.v1+json": {
       "config": {
        "plotlyServerURL": "https://plot.ly"
       },
       "data": [
        {
         "marker": {
          "color": [
           "red",
           "red",
           "red",
           "red",
           "red",
           "red",
           "red",
           "red",
           "red",
           "red",
           "red",
           "red",
           "red",
           "red",
           "red",
           "red",
           "green",
           "green",
           "green",
           "green",
           "green",
           "green",
           "green",
           "green",
           "green",
           "green",
           "green",
           "green",
           "green",
           "green",
           "green",
           "green",
           "green",
           "green",
           "green",
           "green",
           "green",
           "green",
           "green",
           "green",
           "green",
           "green",
           "green",
           "green",
           "green",
           "green",
           "green",
           "green",
           "green",
           "green"
          ]
         },
         "type": "bar",
         "x": [
          "NJ",
          "MA",
          "IL",
          "CT",
          "LA",
          "MI",
          "PA",
          "MD",
          "RI",
          "DC",
          "DE",
          "IN",
          "IA",
          "NE",
          "CO",
          "SD",
          "MS",
          "GA",
          "ND",
          "VT",
          "WY",
          "NH",
          "AK",
          "NM",
          "KS",
          "ME",
          "MT",
          "ID",
          "NV",
          "HI",
          "VA",
          "UT",
          "WV",
          "AR",
          "AL",
          "TN",
          "WA",
          "OK",
          "KY",
          "MN",
          "WI",
          "SC",
          "MO",
          "OR",
          "AZ",
          "OH",
          "NC",
          "FL",
          "TX",
          "CA"
         ],
         "y": [
          0.11688223053451784,
          0.057916846281875566,
          0.036593116707962794,
          0.023190053960898432,
          0.018487601420327363,
          0.017503012438154636,
          0.01651896407391862,
          0.012485238598296693,
          0.008081330840617483,
          0.0038467404811413047,
          0.0033163851352591145,
          0.0028789408026874373,
          0.0018481053888875238,
          0.0011133408911838108,
          0.0006749588772379592,
          0.00026827073562833226,
          -0.00012512899310202462,
          -0.0001849304984974029,
          -0.0009492703610854652,
          -0.0010162213136860145,
          -0.0011308985418814813,
          -0.0014127087875763803,
          -0.0019461770004473066,
          -0.0020494644202877525,
          -0.0026405211583081173,
          -0.002866658690103854,
          -0.002987944973977257,
          -0.0035051517434934,
          -0.003787409621063733,
          -0.003847852075328337,
          -0.00416786728185577,
          -0.004289920396922378,
          -0.004299539316792094,
          -0.005811578596809234,
          -0.00604939896297781,
          -0.006764847811142803,
          -0.007678936348543948,
          -0.007965013526918332,
          -0.007965224934678519,
          -0.008079455256114393,
          -0.008727242440795722,
          -0.009151806495292675,
          -0.009608096066568084,
          -0.010535704439565842,
          -0.012827529035323179,
          -0.013565559180846187,
          -0.01943548742030312,
          -0.028231792666637258,
          -0.05595743455807021,
          -0.062042364253598825
         ]
        }
       ],
       "layout": {
        "autosize": false,
        "height": 800,
        "margin": {
         "b": 100,
         "l": 50,
         "pad": 4,
         "r": 50,
         "t": 100
        },
        "template": {
         "data": {
          "bar": [
           {
            "error_x": {
             "color": "#2a3f5f"
            },
            "error_y": {
             "color": "#2a3f5f"
            },
            "marker": {
             "line": {
              "color": "#E5ECF6",
              "width": 0.5
             }
            },
            "type": "bar"
           }
          ],
          "barpolar": [
           {
            "marker": {
             "line": {
              "color": "#E5ECF6",
              "width": 0.5
             }
            },
            "type": "barpolar"
           }
          ],
          "carpet": [
           {
            "aaxis": {
             "endlinecolor": "#2a3f5f",
             "gridcolor": "white",
             "linecolor": "white",
             "minorgridcolor": "white",
             "startlinecolor": "#2a3f5f"
            },
            "baxis": {
             "endlinecolor": "#2a3f5f",
             "gridcolor": "white",
             "linecolor": "white",
             "minorgridcolor": "white",
             "startlinecolor": "#2a3f5f"
            },
            "type": "carpet"
           }
          ],
          "choropleth": [
           {
            "colorbar": {
             "outlinewidth": 0,
             "ticks": ""
            },
            "type": "choropleth"
           }
          ],
          "contour": [
           {
            "colorbar": {
             "outlinewidth": 0,
             "ticks": ""
            },
            "colorscale": [
             [
              0,
              "#0d0887"
             ],
             [
              0.1111111111111111,
              "#46039f"
             ],
             [
              0.2222222222222222,
              "#7201a8"
             ],
             [
              0.3333333333333333,
              "#9c179e"
             ],
             [
              0.4444444444444444,
              "#bd3786"
             ],
             [
              0.5555555555555556,
              "#d8576b"
             ],
             [
              0.6666666666666666,
              "#ed7953"
             ],
             [
              0.7777777777777778,
              "#fb9f3a"
             ],
             [
              0.8888888888888888,
              "#fdca26"
             ],
             [
              1,
              "#f0f921"
             ]
            ],
            "type": "contour"
           }
          ],
          "contourcarpet": [
           {
            "colorbar": {
             "outlinewidth": 0,
             "ticks": ""
            },
            "type": "contourcarpet"
           }
          ],
          "heatmap": [
           {
            "colorbar": {
             "outlinewidth": 0,
             "ticks": ""
            },
            "colorscale": [
             [
              0,
              "#0d0887"
             ],
             [
              0.1111111111111111,
              "#46039f"
             ],
             [
              0.2222222222222222,
              "#7201a8"
             ],
             [
              0.3333333333333333,
              "#9c179e"
             ],
             [
              0.4444444444444444,
              "#bd3786"
             ],
             [
              0.5555555555555556,
              "#d8576b"
             ],
             [
              0.6666666666666666,
              "#ed7953"
             ],
             [
              0.7777777777777778,
              "#fb9f3a"
             ],
             [
              0.8888888888888888,
              "#fdca26"
             ],
             [
              1,
              "#f0f921"
             ]
            ],
            "type": "heatmap"
           }
          ],
          "heatmapgl": [
           {
            "colorbar": {
             "outlinewidth": 0,
             "ticks": ""
            },
            "colorscale": [
             [
              0,
              "#0d0887"
             ],
             [
              0.1111111111111111,
              "#46039f"
             ],
             [
              0.2222222222222222,
              "#7201a8"
             ],
             [
              0.3333333333333333,
              "#9c179e"
             ],
             [
              0.4444444444444444,
              "#bd3786"
             ],
             [
              0.5555555555555556,
              "#d8576b"
             ],
             [
              0.6666666666666666,
              "#ed7953"
             ],
             [
              0.7777777777777778,
              "#fb9f3a"
             ],
             [
              0.8888888888888888,
              "#fdca26"
             ],
             [
              1,
              "#f0f921"
             ]
            ],
            "type": "heatmapgl"
           }
          ],
          "histogram": [
           {
            "marker": {
             "colorbar": {
              "outlinewidth": 0,
              "ticks": ""
             }
            },
            "type": "histogram"
           }
          ],
          "histogram2d": [
           {
            "colorbar": {
             "outlinewidth": 0,
             "ticks": ""
            },
            "colorscale": [
             [
              0,
              "#0d0887"
             ],
             [
              0.1111111111111111,
              "#46039f"
             ],
             [
              0.2222222222222222,
              "#7201a8"
             ],
             [
              0.3333333333333333,
              "#9c179e"
             ],
             [
              0.4444444444444444,
              "#bd3786"
             ],
             [
              0.5555555555555556,
              "#d8576b"
             ],
             [
              0.6666666666666666,
              "#ed7953"
             ],
             [
              0.7777777777777778,
              "#fb9f3a"
             ],
             [
              0.8888888888888888,
              "#fdca26"
             ],
             [
              1,
              "#f0f921"
             ]
            ],
            "type": "histogram2d"
           }
          ],
          "histogram2dcontour": [
           {
            "colorbar": {
             "outlinewidth": 0,
             "ticks": ""
            },
            "colorscale": [
             [
              0,
              "#0d0887"
             ],
             [
              0.1111111111111111,
              "#46039f"
             ],
             [
              0.2222222222222222,
              "#7201a8"
             ],
             [
              0.3333333333333333,
              "#9c179e"
             ],
             [
              0.4444444444444444,
              "#bd3786"
             ],
             [
              0.5555555555555556,
              "#d8576b"
             ],
             [
              0.6666666666666666,
              "#ed7953"
             ],
             [
              0.7777777777777778,
              "#fb9f3a"
             ],
             [
              0.8888888888888888,
              "#fdca26"
             ],
             [
              1,
              "#f0f921"
             ]
            ],
            "type": "histogram2dcontour"
           }
          ],
          "mesh3d": [
           {
            "colorbar": {
             "outlinewidth": 0,
             "ticks": ""
            },
            "type": "mesh3d"
           }
          ],
          "parcoords": [
           {
            "line": {
             "colorbar": {
              "outlinewidth": 0,
              "ticks": ""
             }
            },
            "type": "parcoords"
           }
          ],
          "pie": [
           {
            "automargin": true,
            "type": "pie"
           }
          ],
          "scatter": [
           {
            "marker": {
             "colorbar": {
              "outlinewidth": 0,
              "ticks": ""
             }
            },
            "type": "scatter"
           }
          ],
          "scatter3d": [
           {
            "line": {
             "colorbar": {
              "outlinewidth": 0,
              "ticks": ""
             }
            },
            "marker": {
             "colorbar": {
              "outlinewidth": 0,
              "ticks": ""
             }
            },
            "type": "scatter3d"
           }
          ],
          "scattercarpet": [
           {
            "marker": {
             "colorbar": {
              "outlinewidth": 0,
              "ticks": ""
             }
            },
            "type": "scattercarpet"
           }
          ],
          "scattergeo": [
           {
            "marker": {
             "colorbar": {
              "outlinewidth": 0,
              "ticks": ""
             }
            },
            "type": "scattergeo"
           }
          ],
          "scattergl": [
           {
            "marker": {
             "colorbar": {
              "outlinewidth": 0,
              "ticks": ""
             }
            },
            "type": "scattergl"
           }
          ],
          "scattermapbox": [
           {
            "marker": {
             "colorbar": {
              "outlinewidth": 0,
              "ticks": ""
             }
            },
            "type": "scattermapbox"
           }
          ],
          "scatterpolar": [
           {
            "marker": {
             "colorbar": {
              "outlinewidth": 0,
              "ticks": ""
             }
            },
            "type": "scatterpolar"
           }
          ],
          "scatterpolargl": [
           {
            "marker": {
             "colorbar": {
              "outlinewidth": 0,
              "ticks": ""
             }
            },
            "type": "scatterpolargl"
           }
          ],
          "scatterternary": [
           {
            "marker": {
             "colorbar": {
              "outlinewidth": 0,
              "ticks": ""
             }
            },
            "type": "scatterternary"
           }
          ],
          "surface": [
           {
            "colorbar": {
             "outlinewidth": 0,
             "ticks": ""
            },
            "colorscale": [
             [
              0,
              "#0d0887"
             ],
             [
              0.1111111111111111,
              "#46039f"
             ],
             [
              0.2222222222222222,
              "#7201a8"
             ],
             [
              0.3333333333333333,
              "#9c179e"
             ],
             [
              0.4444444444444444,
              "#bd3786"
             ],
             [
              0.5555555555555556,
              "#d8576b"
             ],
             [
              0.6666666666666666,
              "#ed7953"
             ],
             [
              0.7777777777777778,
              "#fb9f3a"
             ],
             [
              0.8888888888888888,
              "#fdca26"
             ],
             [
              1,
              "#f0f921"
             ]
            ],
            "type": "surface"
           }
          ],
          "table": [
           {
            "cells": {
             "fill": {
              "color": "#EBF0F8"
             },
             "line": {
              "color": "white"
             }
            },
            "header": {
             "fill": {
              "color": "#C8D4E3"
             },
             "line": {
              "color": "white"
             }
            },
            "type": "table"
           }
          ]
         },
         "layout": {
          "annotationdefaults": {
           "arrowcolor": "#2a3f5f",
           "arrowhead": 0,
           "arrowwidth": 1
          },
          "coloraxis": {
           "colorbar": {
            "outlinewidth": 0,
            "ticks": ""
           }
          },
          "colorscale": {
           "diverging": [
            [
             0,
             "#8e0152"
            ],
            [
             0.1,
             "#c51b7d"
            ],
            [
             0.2,
             "#de77ae"
            ],
            [
             0.3,
             "#f1b6da"
            ],
            [
             0.4,
             "#fde0ef"
            ],
            [
             0.5,
             "#f7f7f7"
            ],
            [
             0.6,
             "#e6f5d0"
            ],
            [
             0.7,
             "#b8e186"
            ],
            [
             0.8,
             "#7fbc41"
            ],
            [
             0.9,
             "#4d9221"
            ],
            [
             1,
             "#276419"
            ]
           ],
           "sequential": [
            [
             0,
             "#0d0887"
            ],
            [
             0.1111111111111111,
             "#46039f"
            ],
            [
             0.2222222222222222,
             "#7201a8"
            ],
            [
             0.3333333333333333,
             "#9c179e"
            ],
            [
             0.4444444444444444,
             "#bd3786"
            ],
            [
             0.5555555555555556,
             "#d8576b"
            ],
            [
             0.6666666666666666,
             "#ed7953"
            ],
            [
             0.7777777777777778,
             "#fb9f3a"
            ],
            [
             0.8888888888888888,
             "#fdca26"
            ],
            [
             1,
             "#f0f921"
            ]
           ],
           "sequentialminus": [
            [
             0,
             "#0d0887"
            ],
            [
             0.1111111111111111,
             "#46039f"
            ],
            [
             0.2222222222222222,
             "#7201a8"
            ],
            [
             0.3333333333333333,
             "#9c179e"
            ],
            [
             0.4444444444444444,
             "#bd3786"
            ],
            [
             0.5555555555555556,
             "#d8576b"
            ],
            [
             0.6666666666666666,
             "#ed7953"
            ],
            [
             0.7777777777777778,
             "#fb9f3a"
            ],
            [
             0.8888888888888888,
             "#fdca26"
            ],
            [
             1,
             "#f0f921"
            ]
           ]
          },
          "colorway": [
           "#636efa",
           "#EF553B",
           "#00cc96",
           "#ab63fa",
           "#FFA15A",
           "#19d3f3",
           "#FF6692",
           "#B6E880",
           "#FF97FF",
           "#FECB52"
          ],
          "font": {
           "color": "#2a3f5f"
          },
          "geo": {
           "bgcolor": "white",
           "lakecolor": "white",
           "landcolor": "#E5ECF6",
           "showlakes": true,
           "showland": true,
           "subunitcolor": "white"
          },
          "hoverlabel": {
           "align": "left"
          },
          "hovermode": "closest",
          "mapbox": {
           "style": "light"
          },
          "paper_bgcolor": "white",
          "plot_bgcolor": "#E5ECF6",
          "polar": {
           "angularaxis": {
            "gridcolor": "white",
            "linecolor": "white",
            "ticks": ""
           },
           "bgcolor": "#E5ECF6",
           "radialaxis": {
            "gridcolor": "white",
            "linecolor": "white",
            "ticks": ""
           }
          },
          "scene": {
           "xaxis": {
            "backgroundcolor": "#E5ECF6",
            "gridcolor": "white",
            "gridwidth": 2,
            "linecolor": "white",
            "showbackground": true,
            "ticks": "",
            "zerolinecolor": "white"
           },
           "yaxis": {
            "backgroundcolor": "#E5ECF6",
            "gridcolor": "white",
            "gridwidth": 2,
            "linecolor": "white",
            "showbackground": true,
            "ticks": "",
            "zerolinecolor": "white"
           },
           "zaxis": {
            "backgroundcolor": "#E5ECF6",
            "gridcolor": "white",
            "gridwidth": 2,
            "linecolor": "white",
            "showbackground": true,
            "ticks": "",
            "zerolinecolor": "white"
           }
          },
          "shapedefaults": {
           "line": {
            "color": "#2a3f5f"
           }
          },
          "ternary": {
           "aaxis": {
            "gridcolor": "white",
            "linecolor": "white",
            "ticks": ""
           },
           "baxis": {
            "gridcolor": "white",
            "linecolor": "white",
            "ticks": ""
           },
           "bgcolor": "#E5ECF6",
           "caxis": {
            "gridcolor": "white",
            "linecolor": "white",
            "ticks": ""
           }
          },
          "title": {
           "x": 0.05
          },
          "xaxis": {
           "automargin": true,
           "gridcolor": "white",
           "linecolor": "white",
           "ticks": "",
           "title": {
            "standoff": 15
           },
           "zerolinecolor": "white",
           "zerolinewidth": 2
          },
          "yaxis": {
           "automargin": true,
           "gridcolor": "white",
           "linecolor": "white",
           "ticks": "",
           "title": {
            "standoff": 15
           },
           "zerolinecolor": "white",
           "zerolinewidth": 2
          }
         }
        },
        "title": {
         "text": "Share of Positive Tests vs Share of Population Delta - Without NY Data"
        },
        "width": 800,
        "xaxis": {
         "autorange": true,
         "range": [
          -0.5,
          49.5
         ],
         "tickfont": {
          "size": 8
         },
         "type": "category"
        },
        "yaxis": {
         "autorange": true,
         "range": [
          -0.0719826195196053,
          0.12682248580052433
         ],
         "tickformat": "0.0%",
         "type": "linear"
        }
       }
      },
      "image/png": "[encoded data removed]",
      "text/html": [
       "<div>\n",
       "        \n",
       "        \n",
       "            <div id=\"2a430ec1-97d8-414d-94bc-36a47eb768fa\" class=\"plotly-graph-div\" style=\"height:800px; width:800px;\"></div>\n",
       "            <script type=\"text/javascript\">\n",
       "                require([\"plotly\"], function(Plotly) {\n",
       "                    window.PLOTLYENV=window.PLOTLYENV || {};\n",
       "                    \n",
       "                if (document.getElementById(\"2a430ec1-97d8-414d-94bc-36a47eb768fa\")) {\n",
       "                    Plotly.newPlot(\n",
       "                        '2a430ec1-97d8-414d-94bc-36a47eb768fa',\n",
       "                        [{\"marker\": {\"color\": [\"red\", \"red\", \"red\", \"red\", \"red\", \"red\", \"red\", \"red\", \"red\", \"red\", \"red\", \"red\", \"red\", \"red\", \"red\", \"red\", \"green\", \"green\", \"green\", \"green\", \"green\", \"green\", \"green\", \"green\", \"green\", \"green\", \"green\", \"green\", \"green\", \"green\", \"green\", \"green\", \"green\", \"green\", \"green\", \"green\", \"green\", \"green\", \"green\", \"green\", \"green\", \"green\", \"green\", \"green\", \"green\", \"green\", \"green\", \"green\", \"green\", \"green\"]}, \"type\": \"bar\", \"x\": [\"NJ\", \"MA\", \"IL\", \"CT\", \"LA\", \"MI\", \"PA\", \"MD\", \"RI\", \"DC\", \"DE\", \"IN\", \"IA\", \"NE\", \"CO\", \"SD\", \"MS\", \"GA\", \"ND\", \"VT\", \"WY\", \"NH\", \"AK\", \"NM\", \"KS\", \"ME\", \"MT\", \"ID\", \"NV\", \"HI\", \"VA\", \"UT\", \"WV\", \"AR\", \"AL\", \"TN\", \"WA\", \"OK\", \"KY\", \"MN\", \"WI\", \"SC\", \"MO\", \"OR\", \"AZ\", \"OH\", \"NC\", \"FL\", \"TX\", \"CA\"], \"y\": [0.11688223053451784, 0.057916846281875566, 0.036593116707962794, 0.023190053960898432, 0.018487601420327363, 0.017503012438154636, 0.01651896407391862, 0.012485238598296693, 0.008081330840617483, 0.0038467404811413047, 0.0033163851352591145, 0.0028789408026874373, 0.0018481053888875238, 0.0011133408911838108, 0.0006749588772379592, 0.00026827073562833226, -0.00012512899310202462, -0.0001849304984974029, -0.0009492703610854652, -0.0010162213136860145, -0.0011308985418814813, -0.0014127087875763803, -0.0019461770004473066, -0.0020494644202877525, -0.0026405211583081173, -0.002866658690103854, -0.002987944973977257, -0.0035051517434934, -0.003787409621063733, -0.003847852075328337, -0.00416786728185577, -0.004289920396922378, -0.004299539316792094, -0.005811578596809234, -0.00604939896297781, -0.006764847811142803, -0.007678936348543948, -0.007965013526918332, -0.007965224934678519, -0.008079455256114393, -0.008727242440795722, -0.009151806495292675, -0.009608096066568084, -0.010535704439565842, -0.012827529035323179, -0.013565559180846187, -0.01943548742030312, -0.028231792666637258, -0.05595743455807021, -0.062042364253598825]}],\n",
       "                        {\"autosize\": false, \"height\": 800, \"margin\": {\"b\": 100, \"l\": 50, \"pad\": 4, \"r\": 50, \"t\": 100}, \"template\": {\"data\": {\"bar\": [{\"error_x\": {\"color\": \"#2a3f5f\"}, \"error_y\": {\"color\": \"#2a3f5f\"}, \"marker\": {\"line\": {\"color\": \"#E5ECF6\", \"width\": 0.5}}, \"type\": \"bar\"}], \"barpolar\": [{\"marker\": {\"line\": {\"color\": \"#E5ECF6\", \"width\": 0.5}}, \"type\": \"barpolar\"}], \"carpet\": [{\"aaxis\": {\"endlinecolor\": \"#2a3f5f\", \"gridcolor\": \"white\", \"linecolor\": \"white\", \"minorgridcolor\": \"white\", \"startlinecolor\": \"#2a3f5f\"}, \"baxis\": {\"endlinecolor\": \"#2a3f5f\", \"gridcolor\": \"white\", \"linecolor\": \"white\", \"minorgridcolor\": \"white\", \"startlinecolor\": \"#2a3f5f\"}, \"type\": \"carpet\"}], \"choropleth\": [{\"colorbar\": {\"outlinewidth\": 0, \"ticks\": \"\"}, \"type\": \"choropleth\"}], \"contour\": [{\"colorbar\": {\"outlinewidth\": 0, \"ticks\": \"\"}, \"colorscale\": [[0.0, \"#0d0887\"], [0.1111111111111111, \"#46039f\"], [0.2222222222222222, \"#7201a8\"], [0.3333333333333333, \"#9c179e\"], [0.4444444444444444, \"#bd3786\"], [0.5555555555555556, \"#d8576b\"], [0.6666666666666666, \"#ed7953\"], [0.7777777777777778, \"#fb9f3a\"], [0.8888888888888888, \"#fdca26\"], [1.0, \"#f0f921\"]], \"type\": \"contour\"}], \"contourcarpet\": [{\"colorbar\": {\"outlinewidth\": 0, \"ticks\": \"\"}, \"type\": \"contourcarpet\"}], \"heatmap\": [{\"colorbar\": {\"outlinewidth\": 0, \"ticks\": \"\"}, \"colorscale\": [[0.0, \"#0d0887\"], [0.1111111111111111, \"#46039f\"], [0.2222222222222222, \"#7201a8\"], [0.3333333333333333, \"#9c179e\"], [0.4444444444444444, \"#bd3786\"], [0.5555555555555556, \"#d8576b\"], [0.6666666666666666, \"#ed7953\"], [0.7777777777777778, \"#fb9f3a\"], [0.8888888888888888, \"#fdca26\"], [1.0, \"#f0f921\"]], \"type\": \"heatmap\"}], \"heatmapgl\": [{\"colorbar\": {\"outlinewidth\": 0, \"ticks\": \"\"}, \"colorscale\": [[0.0, \"#0d0887\"], [0.1111111111111111, \"#46039f\"], [0.2222222222222222, \"#7201a8\"], [0.3333333333333333, \"#9c179e\"], [0.4444444444444444, \"#bd3786\"], [0.5555555555555556, \"#d8576b\"], [0.6666666666666666, \"#ed7953\"], [0.7777777777777778, \"#fb9f3a\"], [0.8888888888888888, \"#fdca26\"], [1.0, \"#f0f921\"]], \"type\": \"heatmapgl\"}], \"histogram\": [{\"marker\": {\"colorbar\": {\"outlinewidth\": 0, \"ticks\": \"\"}}, \"type\": \"histogram\"}], \"histogram2d\": [{\"colorbar\": {\"outlinewidth\": 0, \"ticks\": \"\"}, \"colorscale\": [[0.0, \"#0d0887\"], [0.1111111111111111, \"#46039f\"], [0.2222222222222222, \"#7201a8\"], [0.3333333333333333, \"#9c179e\"], [0.4444444444444444, \"#bd3786\"], [0.5555555555555556, \"#d8576b\"], [0.6666666666666666, \"#ed7953\"], [0.7777777777777778, \"#fb9f3a\"], [0.8888888888888888, \"#fdca26\"], [1.0, \"#f0f921\"]], \"type\": \"histogram2d\"}], \"histogram2dcontour\": [{\"colorbar\": {\"outlinewidth\": 0, \"ticks\": \"\"}, \"colorscale\": [[0.0, \"#0d0887\"], [0.1111111111111111, \"#46039f\"], [0.2222222222222222, \"#7201a8\"], [0.3333333333333333, \"#9c179e\"], [0.4444444444444444, \"#bd3786\"], [0.5555555555555556, \"#d8576b\"], [0.6666666666666666, \"#ed7953\"], [0.7777777777777778, \"#fb9f3a\"], [0.8888888888888888, \"#fdca26\"], [1.0, \"#f0f921\"]], \"type\": \"histogram2dcontour\"}], \"mesh3d\": [{\"colorbar\": {\"outlinewidth\": 0, \"ticks\": \"\"}, \"type\": \"mesh3d\"}], \"parcoords\": [{\"line\": {\"colorbar\": {\"outlinewidth\": 0, \"ticks\": \"\"}}, \"type\": \"parcoords\"}], \"pie\": [{\"automargin\": true, \"type\": \"pie\"}], \"scatter\": [{\"marker\": {\"colorbar\": {\"outlinewidth\": 0, \"ticks\": \"\"}}, \"type\": \"scatter\"}], \"scatter3d\": [{\"line\": {\"colorbar\": {\"outlinewidth\": 0, \"ticks\": \"\"}}, \"marker\": {\"colorbar\": {\"outlinewidth\": 0, \"ticks\": \"\"}}, \"type\": \"scatter3d\"}], \"scattercarpet\": [{\"marker\": {\"colorbar\": {\"outlinewidth\": 0, \"ticks\": \"\"}}, \"type\": \"scattercarpet\"}], \"scattergeo\": [{\"marker\": {\"colorbar\": {\"outlinewidth\": 0, \"ticks\": \"\"}}, \"type\": \"scattergeo\"}], \"scattergl\": [{\"marker\": {\"colorbar\": {\"outlinewidth\": 0, \"ticks\": \"\"}}, \"type\": \"scattergl\"}], \"scattermapbox\": [{\"marker\": {\"colorbar\": {\"outlinewidth\": 0, \"ticks\": \"\"}}, \"type\": \"scattermapbox\"}], \"scatterpolar\": [{\"marker\": {\"colorbar\": {\"outlinewidth\": 0, \"ticks\": \"\"}}, \"type\": \"scatterpolar\"}], \"scatterpolargl\": [{\"marker\": {\"colorbar\": {\"outlinewidth\": 0, \"ticks\": \"\"}}, \"type\": \"scatterpolargl\"}], \"scatterternary\": [{\"marker\": {\"colorbar\": {\"outlinewidth\": 0, \"ticks\": \"\"}}, \"type\": \"scatterternary\"}], \"surface\": [{\"colorbar\": {\"outlinewidth\": 0, \"ticks\": \"\"}, \"colorscale\": [[0.0, \"#0d0887\"], [0.1111111111111111, \"#46039f\"], [0.2222222222222222, \"#7201a8\"], [0.3333333333333333, \"#9c179e\"], [0.4444444444444444, \"#bd3786\"], [0.5555555555555556, \"#d8576b\"], [0.6666666666666666, \"#ed7953\"], [0.7777777777777778, \"#fb9f3a\"], [0.8888888888888888, \"#fdca26\"], [1.0, \"#f0f921\"]], \"type\": \"surface\"}], \"table\": [{\"cells\": {\"fill\": {\"color\": \"#EBF0F8\"}, \"line\": {\"color\": \"white\"}}, \"header\": {\"fill\": {\"color\": \"#C8D4E3\"}, \"line\": {\"color\": \"white\"}}, \"type\": \"table\"}]}, \"layout\": {\"annotationdefaults\": {\"arrowcolor\": \"#2a3f5f\", \"arrowhead\": 0, \"arrowwidth\": 1}, \"coloraxis\": {\"colorbar\": {\"outlinewidth\": 0, \"ticks\": \"\"}}, \"colorscale\": {\"diverging\": [[0, \"#8e0152\"], [0.1, \"#c51b7d\"], [0.2, \"#de77ae\"], [0.3, \"#f1b6da\"], [0.4, \"#fde0ef\"], [0.5, \"#f7f7f7\"], [0.6, \"#e6f5d0\"], [0.7, \"#b8e186\"], [0.8, \"#7fbc41\"], [0.9, \"#4d9221\"], [1, \"#276419\"]], \"sequential\": [[0.0, \"#0d0887\"], [0.1111111111111111, \"#46039f\"], [0.2222222222222222, \"#7201a8\"], [0.3333333333333333, \"#9c179e\"], [0.4444444444444444, \"#bd3786\"], [0.5555555555555556, \"#d8576b\"], [0.6666666666666666, \"#ed7953\"], [0.7777777777777778, \"#fb9f3a\"], [0.8888888888888888, \"#fdca26\"], [1.0, \"#f0f921\"]], \"sequentialminus\": [[0.0, \"#0d0887\"], [0.1111111111111111, \"#46039f\"], [0.2222222222222222, \"#7201a8\"], [0.3333333333333333, \"#9c179e\"], [0.4444444444444444, \"#bd3786\"], [0.5555555555555556, \"#d8576b\"], [0.6666666666666666, \"#ed7953\"], [0.7777777777777778, \"#fb9f3a\"], [0.8888888888888888, \"#fdca26\"], [1.0, \"#f0f921\"]]}, \"colorway\": [\"#636efa\", \"#EF553B\", \"#00cc96\", \"#ab63fa\", \"#FFA15A\", \"#19d3f3\", \"#FF6692\", \"#B6E880\", \"#FF97FF\", \"#FECB52\"], \"font\": {\"color\": \"#2a3f5f\"}, \"geo\": {\"bgcolor\": \"white\", \"lakecolor\": \"white\", \"landcolor\": \"#E5ECF6\", \"showlakes\": true, \"showland\": true, \"subunitcolor\": \"white\"}, \"hoverlabel\": {\"align\": \"left\"}, \"hovermode\": \"closest\", \"mapbox\": {\"style\": \"light\"}, \"paper_bgcolor\": \"white\", \"plot_bgcolor\": \"#E5ECF6\", \"polar\": {\"angularaxis\": {\"gridcolor\": \"white\", \"linecolor\": \"white\", \"ticks\": \"\"}, \"bgcolor\": \"#E5ECF6\", \"radialaxis\": {\"gridcolor\": \"white\", \"linecolor\": \"white\", \"ticks\": \"\"}}, \"scene\": {\"xaxis\": {\"backgroundcolor\": \"#E5ECF6\", \"gridcolor\": \"white\", \"gridwidth\": 2, \"linecolor\": \"white\", \"showbackground\": true, \"ticks\": \"\", \"zerolinecolor\": \"white\"}, \"yaxis\": {\"backgroundcolor\": \"#E5ECF6\", \"gridcolor\": \"white\", \"gridwidth\": 2, \"linecolor\": \"white\", \"showbackground\": true, \"ticks\": \"\", \"zerolinecolor\": \"white\"}, \"zaxis\": {\"backgroundcolor\": \"#E5ECF6\", \"gridcolor\": \"white\", \"gridwidth\": 2, \"linecolor\": \"white\", \"showbackground\": true, \"ticks\": \"\", \"zerolinecolor\": \"white\"}}, \"shapedefaults\": {\"line\": {\"color\": \"#2a3f5f\"}}, \"ternary\": {\"aaxis\": {\"gridcolor\": \"white\", \"linecolor\": \"white\", \"ticks\": \"\"}, \"baxis\": {\"gridcolor\": \"white\", \"linecolor\": \"white\", \"ticks\": \"\"}, \"bgcolor\": \"#E5ECF6\", \"caxis\": {\"gridcolor\": \"white\", \"linecolor\": \"white\", \"ticks\": \"\"}}, \"title\": {\"x\": 0.05}, \"xaxis\": {\"automargin\": true, \"gridcolor\": \"white\", \"linecolor\": \"white\", \"ticks\": \"\", \"title\": {\"standoff\": 15}, \"zerolinecolor\": \"white\", \"zerolinewidth\": 2}, \"yaxis\": {\"automargin\": true, \"gridcolor\": \"white\", \"linecolor\": \"white\", \"ticks\": \"\", \"title\": {\"standoff\": 15}, \"zerolinecolor\": \"white\", \"zerolinewidth\": 2}}}, \"title\": {\"text\": \"Share of Positive Tests vs Share of Population Delta - Without NY Data\"}, \"width\": 800, \"xaxis\": {\"tickfont\": {\"size\": 8}}, \"yaxis\": {\"tickformat\": \"0.0%\"}},\n",
       "                        {\"responsive\": true}\n",
       "                    ).then(function(){\n",
       "                            \n",
       "var gd = document.getElementById('2a430ec1-97d8-414d-94bc-36a47eb768fa');\n",
       "var x = new MutationObserver(function (mutations, observer) {{\n",
       "        var display = window.getComputedStyle(gd).display;\n",
       "        if (!display || display === 'none') {{\n",
       "            console.log([gd, 'removed!']);\n",
       "            Plotly.purge(gd);\n",
       "            observer.disconnect();\n",
       "        }}\n",
       "}});\n",
       "\n",
       "// Listen for the removal of the full notebook cells\n",
       "var notebookContainer = gd.closest('#notebook-container');\n",
       "if (notebookContainer) {{\n",
       "    x.observe(notebookContainer, {childList: true});\n",
       "}}\n",
       "\n",
       "// Listen for the clearing of the current output cell\n",
       "var outputEl = gd.closest('.output');\n",
       "if (outputEl) {{\n",
       "    x.observe(outputEl, {childList: true});\n",
       "}}\n",
       "\n",
       "                        })\n",
       "                };\n",
       "                });\n",
       "            </script>\n",
       "        </div>"
      ]
     },
     "metadata": {},
     "output_type": "display_data"
    }
   ],
   "source": [
    "covid_sort = covid.sort_values(by='positiveShareDelta', ascending=False)\n",
    "covid_sort['polarity'] = covid_sort['positiveShareDelta'] < 0\n",
    "colors = []\n",
    "for polarity in covid_sort.polarity.values:\n",
    "    if polarity:\n",
    "        colors.append(\"green\")\n",
    "    else:\n",
    "        colors.append(\"red\")\n",
    "fig = go.Figure()\n",
    "fig.add_trace(go.Bar(x=covid_sort.state, y=covid_sort.positiveShareDelta, marker_color=colors))\n",
    "fig.layout.xaxis.tickfont.size = 8\n",
    "fig.layout.yaxis.tickformat = '0.0%'\n",
    "fig.update_layout(title_text='Share of Positive Tests vs Share of Population Delta - Without NY Data')\n",
    "fig.update_layout(\n",
    "    autosize=False,\n",
    "    width=800,\n",
    "    height=800,\n",
    "    margin=dict(\n",
    "        l=50,\n",
    "        r=50,\n",
    "        b=100,\n",
    "        t=100,\n",
    "        pad=4\n",
    "    ),\n",
    ")\n",
    "fig.show()"
   ]
  },
  {
   "cell_type": "code",
   "execution_count": 21,
   "metadata": {
    "jupyter": {
     "source_hidden": true
    }
   },
   "outputs": [
    {
     "data": {
      "application/vnd.plotly.v1+json": {
       "config": {
        "plotlyServerURL": "https://plot.ly"
       },
       "data": [
        {
         "marker": {
          "color": [
           "red",
           "red",
           "red",
           "red",
           "red",
           "red",
           "red",
           "red",
           "red",
           "red",
           "red",
           "red",
           "red",
           "red",
           "red",
           "red",
           "red",
           "red",
           "red",
           "red",
           "red",
           "red",
           "red",
           "red",
           "red",
           "red",
           "red",
           "red",
           "red",
           "green",
           "green",
           "green",
           "green",
           "green",
           "green",
           "green",
           "green",
           "green",
           "green",
           "green",
           "green",
           "green",
           "green",
           "green",
           "green",
           "green",
           "green",
           "green",
           "green",
           "green"
          ]
         },
         "type": "bar",
         "x": [
          "TX",
          "OH",
          "VA",
          "NC",
          "AZ",
          "CA",
          "CO",
          "SC",
          "MO",
          "MN",
          "WI",
          "IN",
          "OR",
          "PA",
          "GA",
          "KY",
          "KS",
          "NV",
          "ID",
          "AR",
          "ME",
          "NE",
          "IA",
          "MT",
          "NH",
          "OK",
          "FL",
          "WY",
          "SD",
          "HI",
          "VT",
          "AL",
          "DE",
          "AK",
          "DC",
          "MD",
          "MS",
          "WV",
          "MI",
          "ND",
          "CT",
          "NM",
          "WA",
          "RI",
          "UT",
          "TN",
          "NJ",
          "IL",
          "LA",
          "MA"
         ],
         "y": [
          -0.029540204364676526,
          -0.012541027037946274,
          -0.010083058711040413,
          -0.00957431563601864,
          -0.007804438213795027,
          -0.0077627497056795836,
          -0.00570624488716232,
          -0.005647575590344933,
          -0.004992447966442947,
          -0.00437492757309056,
          -0.00417017967039875,
          -0.0038197140804316736,
          -0.0037354012696653345,
          -0.0036044242199765875,
          -0.003411161230599872,
          -0.0032093452351406627,
          -0.0029348670009830685,
          -0.0027374414192393058,
          -0.001446835442961967,
          -0.0011819087036847621,
          -0.0009724070525014158,
          -0.0008719912207505323,
          -0.0007155759441310767,
          -0.0005949807844904836,
          -0.00028564458349134014,
          -0.0002804526011073536,
          -0.0001657838095698444,
          -0.00010064743536871844,
          -2.4848616574985136e-05,
          0.0005426735640206414,
          0.0006194580777334068,
          0.0006972162907980355,
          0.0007483338335068823,
          0.001120369960965309,
          0.0013792778371764449,
          0.0017028822841006416,
          0.001944927924447332,
          0.002508020825035231,
          0.003051629866026029,
          0.003390013672036171,
          0.005155353752765008,
          0.005505882190946735,
          0.007084053631949933,
          0.008361663844238391,
          0.00867777638141629,
          0.01161162434892761,
          0.013113037573294975,
          0.013503899877603247,
          0.013758504339220835,
          0.0278139999310558
         ]
        }
       ],
       "layout": {
        "autosize": false,
        "height": 800,
        "margin": {
         "b": 100,
         "l": 50,
         "pad": 4,
         "r": 50,
         "t": 100
        },
        "template": {
         "data": {
          "bar": [
           {
            "error_x": {
             "color": "#2a3f5f"
            },
            "error_y": {
             "color": "#2a3f5f"
            },
            "marker": {
             "line": {
              "color": "#E5ECF6",
              "width": 0.5
             }
            },
            "type": "bar"
           }
          ],
          "barpolar": [
           {
            "marker": {
             "line": {
              "color": "#E5ECF6",
              "width": 0.5
             }
            },
            "type": "barpolar"
           }
          ],
          "carpet": [
           {
            "aaxis": {
             "endlinecolor": "#2a3f5f",
             "gridcolor": "white",
             "linecolor": "white",
             "minorgridcolor": "white",
             "startlinecolor": "#2a3f5f"
            },
            "baxis": {
             "endlinecolor": "#2a3f5f",
             "gridcolor": "white",
             "linecolor": "white",
             "minorgridcolor": "white",
             "startlinecolor": "#2a3f5f"
            },
            "type": "carpet"
           }
          ],
          "choropleth": [
           {
            "colorbar": {
             "outlinewidth": 0,
             "ticks": ""
            },
            "type": "choropleth"
           }
          ],
          "contour": [
           {
            "colorbar": {
             "outlinewidth": 0,
             "ticks": ""
            },
            "colorscale": [
             [
              0,
              "#0d0887"
             ],
             [
              0.1111111111111111,
              "#46039f"
             ],
             [
              0.2222222222222222,
              "#7201a8"
             ],
             [
              0.3333333333333333,
              "#9c179e"
             ],
             [
              0.4444444444444444,
              "#bd3786"
             ],
             [
              0.5555555555555556,
              "#d8576b"
             ],
             [
              0.6666666666666666,
              "#ed7953"
             ],
             [
              0.7777777777777778,
              "#fb9f3a"
             ],
             [
              0.8888888888888888,
              "#fdca26"
             ],
             [
              1,
              "#f0f921"
             ]
            ],
            "type": "contour"
           }
          ],
          "contourcarpet": [
           {
            "colorbar": {
             "outlinewidth": 0,
             "ticks": ""
            },
            "type": "contourcarpet"
           }
          ],
          "heatmap": [
           {
            "colorbar": {
             "outlinewidth": 0,
             "ticks": ""
            },
            "colorscale": [
             [
              0,
              "#0d0887"
             ],
             [
              0.1111111111111111,
              "#46039f"
             ],
             [
              0.2222222222222222,
              "#7201a8"
             ],
             [
              0.3333333333333333,
              "#9c179e"
             ],
             [
              0.4444444444444444,
              "#bd3786"
             ],
             [
              0.5555555555555556,
              "#d8576b"
             ],
             [
              0.6666666666666666,
              "#ed7953"
             ],
             [
              0.7777777777777778,
              "#fb9f3a"
             ],
             [
              0.8888888888888888,
              "#fdca26"
             ],
             [
              1,
              "#f0f921"
             ]
            ],
            "type": "heatmap"
           }
          ],
          "heatmapgl": [
           {
            "colorbar": {
             "outlinewidth": 0,
             "ticks": ""
            },
            "colorscale": [
             [
              0,
              "#0d0887"
             ],
             [
              0.1111111111111111,
              "#46039f"
             ],
             [
              0.2222222222222222,
              "#7201a8"
             ],
             [
              0.3333333333333333,
              "#9c179e"
             ],
             [
              0.4444444444444444,
              "#bd3786"
             ],
             [
              0.5555555555555556,
              "#d8576b"
             ],
             [
              0.6666666666666666,
              "#ed7953"
             ],
             [
              0.7777777777777778,
              "#fb9f3a"
             ],
             [
              0.8888888888888888,
              "#fdca26"
             ],
             [
              1,
              "#f0f921"
             ]
            ],
            "type": "heatmapgl"
           }
          ],
          "histogram": [
           {
            "marker": {
             "colorbar": {
              "outlinewidth": 0,
              "ticks": ""
             }
            },
            "type": "histogram"
           }
          ],
          "histogram2d": [
           {
            "colorbar": {
             "outlinewidth": 0,
             "ticks": ""
            },
            "colorscale": [
             [
              0,
              "#0d0887"
             ],
             [
              0.1111111111111111,
              "#46039f"
             ],
             [
              0.2222222222222222,
              "#7201a8"
             ],
             [
              0.3333333333333333,
              "#9c179e"
             ],
             [
              0.4444444444444444,
              "#bd3786"
             ],
             [
              0.5555555555555556,
              "#d8576b"
             ],
             [
              0.6666666666666666,
              "#ed7953"
             ],
             [
              0.7777777777777778,
              "#fb9f3a"
             ],
             [
              0.8888888888888888,
              "#fdca26"
             ],
             [
              1,
              "#f0f921"
             ]
            ],
            "type": "histogram2d"
           }
          ],
          "histogram2dcontour": [
           {
            "colorbar": {
             "outlinewidth": 0,
             "ticks": ""
            },
            "colorscale": [
             [
              0,
              "#0d0887"
             ],
             [
              0.1111111111111111,
              "#46039f"
             ],
             [
              0.2222222222222222,
              "#7201a8"
             ],
             [
              0.3333333333333333,
              "#9c179e"
             ],
             [
              0.4444444444444444,
              "#bd3786"
             ],
             [
              0.5555555555555556,
              "#d8576b"
             ],
             [
              0.6666666666666666,
              "#ed7953"
             ],
             [
              0.7777777777777778,
              "#fb9f3a"
             ],
             [
              0.8888888888888888,
              "#fdca26"
             ],
             [
              1,
              "#f0f921"
             ]
            ],
            "type": "histogram2dcontour"
           }
          ],
          "mesh3d": [
           {
            "colorbar": {
             "outlinewidth": 0,
             "ticks": ""
            },
            "type": "mesh3d"
           }
          ],
          "parcoords": [
           {
            "line": {
             "colorbar": {
              "outlinewidth": 0,
              "ticks": ""
             }
            },
            "type": "parcoords"
           }
          ],
          "pie": [
           {
            "automargin": true,
            "type": "pie"
           }
          ],
          "scatter": [
           {
            "marker": {
             "colorbar": {
              "outlinewidth": 0,
              "ticks": ""
             }
            },
            "type": "scatter"
           }
          ],
          "scatter3d": [
           {
            "line": {
             "colorbar": {
              "outlinewidth": 0,
              "ticks": ""
             }
            },
            "marker": {
             "colorbar": {
              "outlinewidth": 0,
              "ticks": ""
             }
            },
            "type": "scatter3d"
           }
          ],
          "scattercarpet": [
           {
            "marker": {
             "colorbar": {
              "outlinewidth": 0,
              "ticks": ""
             }
            },
            "type": "scattercarpet"
           }
          ],
          "scattergeo": [
           {
            "marker": {
             "colorbar": {
              "outlinewidth": 0,
              "ticks": ""
             }
            },
            "type": "scattergeo"
           }
          ],
          "scattergl": [
           {
            "marker": {
             "colorbar": {
              "outlinewidth": 0,
              "ticks": ""
             }
            },
            "type": "scattergl"
           }
          ],
          "scattermapbox": [
           {
            "marker": {
             "colorbar": {
              "outlinewidth": 0,
              "ticks": ""
             }
            },
            "type": "scattermapbox"
           }
          ],
          "scatterpolar": [
           {
            "marker": {
             "colorbar": {
              "outlinewidth": 0,
              "ticks": ""
             }
            },
            "type": "scatterpolar"
           }
          ],
          "scatterpolargl": [
           {
            "marker": {
             "colorbar": {
              "outlinewidth": 0,
              "ticks": ""
             }
            },
            "type": "scatterpolargl"
           }
          ],
          "scatterternary": [
           {
            "marker": {
             "colorbar": {
              "outlinewidth": 0,
              "ticks": ""
             }
            },
            "type": "scatterternary"
           }
          ],
          "surface": [
           {
            "colorbar": {
             "outlinewidth": 0,
             "ticks": ""
            },
            "colorscale": [
             [
              0,
              "#0d0887"
             ],
             [
              0.1111111111111111,
              "#46039f"
             ],
             [
              0.2222222222222222,
              "#7201a8"
             ],
             [
              0.3333333333333333,
              "#9c179e"
             ],
             [
              0.4444444444444444,
              "#bd3786"
             ],
             [
              0.5555555555555556,
              "#d8576b"
             ],
             [
              0.6666666666666666,
              "#ed7953"
             ],
             [
              0.7777777777777778,
              "#fb9f3a"
             ],
             [
              0.8888888888888888,
              "#fdca26"
             ],
             [
              1,
              "#f0f921"
             ]
            ],
            "type": "surface"
           }
          ],
          "table": [
           {
            "cells": {
             "fill": {
              "color": "#EBF0F8"
             },
             "line": {
              "color": "white"
             }
            },
            "header": {
             "fill": {
              "color": "#C8D4E3"
             },
             "line": {
              "color": "white"
             }
            },
            "type": "table"
           }
          ]
         },
         "layout": {
          "annotationdefaults": {
           "arrowcolor": "#2a3f5f",
           "arrowhead": 0,
           "arrowwidth": 1
          },
          "coloraxis": {
           "colorbar": {
            "outlinewidth": 0,
            "ticks": ""
           }
          },
          "colorscale": {
           "diverging": [
            [
             0,
             "#8e0152"
            ],
            [
             0.1,
             "#c51b7d"
            ],
            [
             0.2,
             "#de77ae"
            ],
            [
             0.3,
             "#f1b6da"
            ],
            [
             0.4,
             "#fde0ef"
            ],
            [
             0.5,
             "#f7f7f7"
            ],
            [
             0.6,
             "#e6f5d0"
            ],
            [
             0.7,
             "#b8e186"
            ],
            [
             0.8,
             "#7fbc41"
            ],
            [
             0.9,
             "#4d9221"
            ],
            [
             1,
             "#276419"
            ]
           ],
           "sequential": [
            [
             0,
             "#0d0887"
            ],
            [
             0.1111111111111111,
             "#46039f"
            ],
            [
             0.2222222222222222,
             "#7201a8"
            ],
            [
             0.3333333333333333,
             "#9c179e"
            ],
            [
             0.4444444444444444,
             "#bd3786"
            ],
            [
             0.5555555555555556,
             "#d8576b"
            ],
            [
             0.6666666666666666,
             "#ed7953"
            ],
            [
             0.7777777777777778,
             "#fb9f3a"
            ],
            [
             0.8888888888888888,
             "#fdca26"
            ],
            [
             1,
             "#f0f921"
            ]
           ],
           "sequentialminus": [
            [
             0,
             "#0d0887"
            ],
            [
             0.1111111111111111,
             "#46039f"
            ],
            [
             0.2222222222222222,
             "#7201a8"
            ],
            [
             0.3333333333333333,
             "#9c179e"
            ],
            [
             0.4444444444444444,
             "#bd3786"
            ],
            [
             0.5555555555555556,
             "#d8576b"
            ],
            [
             0.6666666666666666,
             "#ed7953"
            ],
            [
             0.7777777777777778,
             "#fb9f3a"
            ],
            [
             0.8888888888888888,
             "#fdca26"
            ],
            [
             1,
             "#f0f921"
            ]
           ]
          },
          "colorway": [
           "#636efa",
           "#EF553B",
           "#00cc96",
           "#ab63fa",
           "#FFA15A",
           "#19d3f3",
           "#FF6692",
           "#B6E880",
           "#FF97FF",
           "#FECB52"
          ],
          "font": {
           "color": "#2a3f5f"
          },
          "geo": {
           "bgcolor": "white",
           "lakecolor": "white",
           "landcolor": "#E5ECF6",
           "showlakes": true,
           "showland": true,
           "subunitcolor": "white"
          },
          "hoverlabel": {
           "align": "left"
          },
          "hovermode": "closest",
          "mapbox": {
           "style": "light"
          },
          "paper_bgcolor": "white",
          "plot_bgcolor": "#E5ECF6",
          "polar": {
           "angularaxis": {
            "gridcolor": "white",
            "linecolor": "white",
            "ticks": ""
           },
           "bgcolor": "#E5ECF6",
           "radialaxis": {
            "gridcolor": "white",
            "linecolor": "white",
            "ticks": ""
           }
          },
          "scene": {
           "xaxis": {
            "backgroundcolor": "#E5ECF6",
            "gridcolor": "white",
            "gridwidth": 2,
            "linecolor": "white",
            "showbackground": true,
            "ticks": "",
            "zerolinecolor": "white"
           },
           "yaxis": {
            "backgroundcolor": "#E5ECF6",
            "gridcolor": "white",
            "gridwidth": 2,
            "linecolor": "white",
            "showbackground": true,
            "ticks": "",
            "zerolinecolor": "white"
           },
           "zaxis": {
            "backgroundcolor": "#E5ECF6",
            "gridcolor": "white",
            "gridwidth": 2,
            "linecolor": "white",
            "showbackground": true,
            "ticks": "",
            "zerolinecolor": "white"
           }
          },
          "shapedefaults": {
           "line": {
            "color": "#2a3f5f"
           }
          },
          "ternary": {
           "aaxis": {
            "gridcolor": "white",
            "linecolor": "white",
            "ticks": ""
           },
           "baxis": {
            "gridcolor": "white",
            "linecolor": "white",
            "ticks": ""
           },
           "bgcolor": "#E5ECF6",
           "caxis": {
            "gridcolor": "white",
            "linecolor": "white",
            "ticks": ""
           }
          },
          "title": {
           "x": 0.05
          },
          "xaxis": {
           "automargin": true,
           "gridcolor": "white",
           "linecolor": "white",
           "ticks": "",
           "title": {
            "standoff": 15
           },
           "zerolinecolor": "white",
           "zerolinewidth": 2
          },
          "yaxis": {
           "automargin": true,
           "gridcolor": "white",
           "linecolor": "white",
           "ticks": "",
           "title": {
            "standoff": 15
           },
           "zerolinecolor": "white",
           "zerolinewidth": 2
          }
         }
        },
        "title": {
         "text": "Share of Total Tests Completed vs Share of Population Delta - Without NY Data"
        },
        "width": 800,
        "xaxis": {
         "autorange": true,
         "range": [
          -0.5,
          49.5
         ],
         "tickfont": {
          "size": 8
         },
         "type": "category"
        },
        "yaxis": {
         "autorange": true,
         "range": [
          -0.032726549047772766,
          0.03100034461415204
         ],
         "tickformat": "0.0%",
         "type": "linear"
        }
       }
      },
      "image/png": "[encoded data removed]",
      "text/html": [
       "<div>\n",
       "        \n",
       "        \n",
       "            <div id=\"1f253967-1fcd-4b08-8ba1-d18038d7bf32\" class=\"plotly-graph-div\" style=\"height:800px; width:800px;\"></div>\n",
       "            <script type=\"text/javascript\">\n",
       "                require([\"plotly\"], function(Plotly) {\n",
       "                    window.PLOTLYENV=window.PLOTLYENV || {};\n",
       "                    \n",
       "                if (document.getElementById(\"1f253967-1fcd-4b08-8ba1-d18038d7bf32\")) {\n",
       "                    Plotly.newPlot(\n",
       "                        '1f253967-1fcd-4b08-8ba1-d18038d7bf32',\n",
       "                        [{\"marker\": {\"color\": [\"red\", \"red\", \"red\", \"red\", \"red\", \"red\", \"red\", \"red\", \"red\", \"red\", \"red\", \"red\", \"red\", \"red\", \"red\", \"red\", \"red\", \"red\", \"red\", \"red\", \"red\", \"red\", \"red\", \"red\", \"red\", \"red\", \"red\", \"red\", \"red\", \"green\", \"green\", \"green\", \"green\", \"green\", \"green\", \"green\", \"green\", \"green\", \"green\", \"green\", \"green\", \"green\", \"green\", \"green\", \"green\", \"green\", \"green\", \"green\", \"green\", \"green\"]}, \"type\": \"bar\", \"x\": [\"TX\", \"OH\", \"VA\", \"NC\", \"AZ\", \"CA\", \"CO\", \"SC\", \"MO\", \"MN\", \"WI\", \"IN\", \"OR\", \"PA\", \"GA\", \"KY\", \"KS\", \"NV\", \"ID\", \"AR\", \"ME\", \"NE\", \"IA\", \"MT\", \"NH\", \"OK\", \"FL\", \"WY\", \"SD\", \"HI\", \"VT\", \"AL\", \"DE\", \"AK\", \"DC\", \"MD\", \"MS\", \"WV\", \"MI\", \"ND\", \"CT\", \"NM\", \"WA\", \"RI\", \"UT\", \"TN\", \"NJ\", \"IL\", \"LA\", \"MA\"], \"y\": [-0.029540204364676526, -0.012541027037946274, -0.010083058711040413, -0.00957431563601864, -0.007804438213795027, -0.0077627497056795836, -0.00570624488716232, -0.005647575590344933, -0.004992447966442947, -0.00437492757309056, -0.00417017967039875, -0.0038197140804316736, -0.0037354012696653345, -0.0036044242199765875, -0.003411161230599872, -0.0032093452351406627, -0.0029348670009830685, -0.0027374414192393058, -0.001446835442961967, -0.0011819087036847621, -0.0009724070525014158, -0.0008719912207505323, -0.0007155759441310767, -0.0005949807844904836, -0.00028564458349134014, -0.0002804526011073536, -0.0001657838095698444, -0.00010064743536871844, -2.4848616574985136e-05, 0.0005426735640206414, 0.0006194580777334068, 0.0006972162907980355, 0.0007483338335068823, 0.001120369960965309, 0.0013792778371764449, 0.0017028822841006416, 0.001944927924447332, 0.002508020825035231, 0.003051629866026029, 0.003390013672036171, 0.005155353752765008, 0.005505882190946735, 0.007084053631949933, 0.008361663844238391, 0.00867777638141629, 0.01161162434892761, 0.013113037573294975, 0.013503899877603247, 0.013758504339220835, 0.0278139999310558]}],\n",
       "                        {\"autosize\": false, \"height\": 800, \"margin\": {\"b\": 100, \"l\": 50, \"pad\": 4, \"r\": 50, \"t\": 100}, \"template\": {\"data\": {\"bar\": [{\"error_x\": {\"color\": \"#2a3f5f\"}, \"error_y\": {\"color\": \"#2a3f5f\"}, \"marker\": {\"line\": {\"color\": \"#E5ECF6\", \"width\": 0.5}}, \"type\": \"bar\"}], \"barpolar\": [{\"marker\": {\"line\": {\"color\": \"#E5ECF6\", \"width\": 0.5}}, \"type\": \"barpolar\"}], \"carpet\": [{\"aaxis\": {\"endlinecolor\": \"#2a3f5f\", \"gridcolor\": \"white\", \"linecolor\": \"white\", \"minorgridcolor\": \"white\", \"startlinecolor\": \"#2a3f5f\"}, \"baxis\": {\"endlinecolor\": \"#2a3f5f\", \"gridcolor\": \"white\", \"linecolor\": \"white\", \"minorgridcolor\": \"white\", \"startlinecolor\": \"#2a3f5f\"}, \"type\": \"carpet\"}], \"choropleth\": [{\"colorbar\": {\"outlinewidth\": 0, \"ticks\": \"\"}, \"type\": \"choropleth\"}], \"contour\": [{\"colorbar\": {\"outlinewidth\": 0, \"ticks\": \"\"}, \"colorscale\": [[0.0, \"#0d0887\"], [0.1111111111111111, \"#46039f\"], [0.2222222222222222, \"#7201a8\"], [0.3333333333333333, \"#9c179e\"], [0.4444444444444444, \"#bd3786\"], [0.5555555555555556, \"#d8576b\"], [0.6666666666666666, \"#ed7953\"], [0.7777777777777778, \"#fb9f3a\"], [0.8888888888888888, \"#fdca26\"], [1.0, \"#f0f921\"]], \"type\": \"contour\"}], \"contourcarpet\": [{\"colorbar\": {\"outlinewidth\": 0, \"ticks\": \"\"}, \"type\": \"contourcarpet\"}], \"heatmap\": [{\"colorbar\": {\"outlinewidth\": 0, \"ticks\": \"\"}, \"colorscale\": [[0.0, \"#0d0887\"], [0.1111111111111111, \"#46039f\"], [0.2222222222222222, \"#7201a8\"], [0.3333333333333333, \"#9c179e\"], [0.4444444444444444, \"#bd3786\"], [0.5555555555555556, \"#d8576b\"], [0.6666666666666666, \"#ed7953\"], [0.7777777777777778, \"#fb9f3a\"], [0.8888888888888888, \"#fdca26\"], [1.0, \"#f0f921\"]], \"type\": \"heatmap\"}], \"heatmapgl\": [{\"colorbar\": {\"outlinewidth\": 0, \"ticks\": \"\"}, \"colorscale\": [[0.0, \"#0d0887\"], [0.1111111111111111, \"#46039f\"], [0.2222222222222222, \"#7201a8\"], [0.3333333333333333, \"#9c179e\"], [0.4444444444444444, \"#bd3786\"], [0.5555555555555556, \"#d8576b\"], [0.6666666666666666, \"#ed7953\"], [0.7777777777777778, \"#fb9f3a\"], [0.8888888888888888, \"#fdca26\"], [1.0, \"#f0f921\"]], \"type\": \"heatmapgl\"}], \"histogram\": [{\"marker\": {\"colorbar\": {\"outlinewidth\": 0, \"ticks\": \"\"}}, \"type\": \"histogram\"}], \"histogram2d\": [{\"colorbar\": {\"outlinewidth\": 0, \"ticks\": \"\"}, \"colorscale\": [[0.0, \"#0d0887\"], [0.1111111111111111, \"#46039f\"], [0.2222222222222222, \"#7201a8\"], [0.3333333333333333, \"#9c179e\"], [0.4444444444444444, \"#bd3786\"], [0.5555555555555556, \"#d8576b\"], [0.6666666666666666, \"#ed7953\"], [0.7777777777777778, \"#fb9f3a\"], [0.8888888888888888, \"#fdca26\"], [1.0, \"#f0f921\"]], \"type\": \"histogram2d\"}], \"histogram2dcontour\": [{\"colorbar\": {\"outlinewidth\": 0, \"ticks\": \"\"}, \"colorscale\": [[0.0, \"#0d0887\"], [0.1111111111111111, \"#46039f\"], [0.2222222222222222, \"#7201a8\"], [0.3333333333333333, \"#9c179e\"], [0.4444444444444444, \"#bd3786\"], [0.5555555555555556, \"#d8576b\"], [0.6666666666666666, \"#ed7953\"], [0.7777777777777778, \"#fb9f3a\"], [0.8888888888888888, \"#fdca26\"], [1.0, \"#f0f921\"]], \"type\": \"histogram2dcontour\"}], \"mesh3d\": [{\"colorbar\": {\"outlinewidth\": 0, \"ticks\": \"\"}, \"type\": \"mesh3d\"}], \"parcoords\": [{\"line\": {\"colorbar\": {\"outlinewidth\": 0, \"ticks\": \"\"}}, \"type\": \"parcoords\"}], \"pie\": [{\"automargin\": true, \"type\": \"pie\"}], \"scatter\": [{\"marker\": {\"colorbar\": {\"outlinewidth\": 0, \"ticks\": \"\"}}, \"type\": \"scatter\"}], \"scatter3d\": [{\"line\": {\"colorbar\": {\"outlinewidth\": 0, \"ticks\": \"\"}}, \"marker\": {\"colorbar\": {\"outlinewidth\": 0, \"ticks\": \"\"}}, \"type\": \"scatter3d\"}], \"scattercarpet\": [{\"marker\": {\"colorbar\": {\"outlinewidth\": 0, \"ticks\": \"\"}}, \"type\": \"scattercarpet\"}], \"scattergeo\": [{\"marker\": {\"colorbar\": {\"outlinewidth\": 0, \"ticks\": \"\"}}, \"type\": \"scattergeo\"}], \"scattergl\": [{\"marker\": {\"colorbar\": {\"outlinewidth\": 0, \"ticks\": \"\"}}, \"type\": \"scattergl\"}], \"scattermapbox\": [{\"marker\": {\"colorbar\": {\"outlinewidth\": 0, \"ticks\": \"\"}}, \"type\": \"scattermapbox\"}], \"scatterpolar\": [{\"marker\": {\"colorbar\": {\"outlinewidth\": 0, \"ticks\": \"\"}}, \"type\": \"scatterpolar\"}], \"scatterpolargl\": [{\"marker\": {\"colorbar\": {\"outlinewidth\": 0, \"ticks\": \"\"}}, \"type\": \"scatterpolargl\"}], \"scatterternary\": [{\"marker\": {\"colorbar\": {\"outlinewidth\": 0, \"ticks\": \"\"}}, \"type\": \"scatterternary\"}], \"surface\": [{\"colorbar\": {\"outlinewidth\": 0, \"ticks\": \"\"}, \"colorscale\": [[0.0, \"#0d0887\"], [0.1111111111111111, \"#46039f\"], [0.2222222222222222, \"#7201a8\"], [0.3333333333333333, \"#9c179e\"], [0.4444444444444444, \"#bd3786\"], [0.5555555555555556, \"#d8576b\"], [0.6666666666666666, \"#ed7953\"], [0.7777777777777778, \"#fb9f3a\"], [0.8888888888888888, \"#fdca26\"], [1.0, \"#f0f921\"]], \"type\": \"surface\"}], \"table\": [{\"cells\": {\"fill\": {\"color\": \"#EBF0F8\"}, \"line\": {\"color\": \"white\"}}, \"header\": {\"fill\": {\"color\": \"#C8D4E3\"}, \"line\": {\"color\": \"white\"}}, \"type\": \"table\"}]}, \"layout\": {\"annotationdefaults\": {\"arrowcolor\": \"#2a3f5f\", \"arrowhead\": 0, \"arrowwidth\": 1}, \"coloraxis\": {\"colorbar\": {\"outlinewidth\": 0, \"ticks\": \"\"}}, \"colorscale\": {\"diverging\": [[0, \"#8e0152\"], [0.1, \"#c51b7d\"], [0.2, \"#de77ae\"], [0.3, \"#f1b6da\"], [0.4, \"#fde0ef\"], [0.5, \"#f7f7f7\"], [0.6, \"#e6f5d0\"], [0.7, \"#b8e186\"], [0.8, \"#7fbc41\"], [0.9, \"#4d9221\"], [1, \"#276419\"]], \"sequential\": [[0.0, \"#0d0887\"], [0.1111111111111111, \"#46039f\"], [0.2222222222222222, \"#7201a8\"], [0.3333333333333333, \"#9c179e\"], [0.4444444444444444, \"#bd3786\"], [0.5555555555555556, \"#d8576b\"], [0.6666666666666666, \"#ed7953\"], [0.7777777777777778, \"#fb9f3a\"], [0.8888888888888888, \"#fdca26\"], [1.0, \"#f0f921\"]], \"sequentialminus\": [[0.0, \"#0d0887\"], [0.1111111111111111, \"#46039f\"], [0.2222222222222222, \"#7201a8\"], [0.3333333333333333, \"#9c179e\"], [0.4444444444444444, \"#bd3786\"], [0.5555555555555556, \"#d8576b\"], [0.6666666666666666, \"#ed7953\"], [0.7777777777777778, \"#fb9f3a\"], [0.8888888888888888, \"#fdca26\"], [1.0, \"#f0f921\"]]}, \"colorway\": [\"#636efa\", \"#EF553B\", \"#00cc96\", \"#ab63fa\", \"#FFA15A\", \"#19d3f3\", \"#FF6692\", \"#B6E880\", \"#FF97FF\", \"#FECB52\"], \"font\": {\"color\": \"#2a3f5f\"}, \"geo\": {\"bgcolor\": \"white\", \"lakecolor\": \"white\", \"landcolor\": \"#E5ECF6\", \"showlakes\": true, \"showland\": true, \"subunitcolor\": \"white\"}, \"hoverlabel\": {\"align\": \"left\"}, \"hovermode\": \"closest\", \"mapbox\": {\"style\": \"light\"}, \"paper_bgcolor\": \"white\", \"plot_bgcolor\": \"#E5ECF6\", \"polar\": {\"angularaxis\": {\"gridcolor\": \"white\", \"linecolor\": \"white\", \"ticks\": \"\"}, \"bgcolor\": \"#E5ECF6\", \"radialaxis\": {\"gridcolor\": \"white\", \"linecolor\": \"white\", \"ticks\": \"\"}}, \"scene\": {\"xaxis\": {\"backgroundcolor\": \"#E5ECF6\", \"gridcolor\": \"white\", \"gridwidth\": 2, \"linecolor\": \"white\", \"showbackground\": true, \"ticks\": \"\", \"zerolinecolor\": \"white\"}, \"yaxis\": {\"backgroundcolor\": \"#E5ECF6\", \"gridcolor\": \"white\", \"gridwidth\": 2, \"linecolor\": \"white\", \"showbackground\": true, \"ticks\": \"\", \"zerolinecolor\": \"white\"}, \"zaxis\": {\"backgroundcolor\": \"#E5ECF6\", \"gridcolor\": \"white\", \"gridwidth\": 2, \"linecolor\": \"white\", \"showbackground\": true, \"ticks\": \"\", \"zerolinecolor\": \"white\"}}, \"shapedefaults\": {\"line\": {\"color\": \"#2a3f5f\"}}, \"ternary\": {\"aaxis\": {\"gridcolor\": \"white\", \"linecolor\": \"white\", \"ticks\": \"\"}, \"baxis\": {\"gridcolor\": \"white\", \"linecolor\": \"white\", \"ticks\": \"\"}, \"bgcolor\": \"#E5ECF6\", \"caxis\": {\"gridcolor\": \"white\", \"linecolor\": \"white\", \"ticks\": \"\"}}, \"title\": {\"x\": 0.05}, \"xaxis\": {\"automargin\": true, \"gridcolor\": \"white\", \"linecolor\": \"white\", \"ticks\": \"\", \"title\": {\"standoff\": 15}, \"zerolinecolor\": \"white\", \"zerolinewidth\": 2}, \"yaxis\": {\"automargin\": true, \"gridcolor\": \"white\", \"linecolor\": \"white\", \"ticks\": \"\", \"title\": {\"standoff\": 15}, \"zerolinecolor\": \"white\", \"zerolinewidth\": 2}}}, \"title\": {\"text\": \"Share of Total Tests Completed vs Share of Population Delta - Without NY Data\"}, \"width\": 800, \"xaxis\": {\"tickfont\": {\"size\": 8}}, \"yaxis\": {\"tickformat\": \"0.0%\"}},\n",
       "                        {\"responsive\": true}\n",
       "                    ).then(function(){\n",
       "                            \n",
       "var gd = document.getElementById('1f253967-1fcd-4b08-8ba1-d18038d7bf32');\n",
       "var x = new MutationObserver(function (mutations, observer) {{\n",
       "        var display = window.getComputedStyle(gd).display;\n",
       "        if (!display || display === 'none') {{\n",
       "            console.log([gd, 'removed!']);\n",
       "            Plotly.purge(gd);\n",
       "            observer.disconnect();\n",
       "        }}\n",
       "}});\n",
       "\n",
       "// Listen for the removal of the full notebook cells\n",
       "var notebookContainer = gd.closest('#notebook-container');\n",
       "if (notebookContainer) {{\n",
       "    x.observe(notebookContainer, {childList: true});\n",
       "}}\n",
       "\n",
       "// Listen for the clearing of the current output cell\n",
       "var outputEl = gd.closest('.output');\n",
       "if (outputEl) {{\n",
       "    x.observe(outputEl, {childList: true});\n",
       "}}\n",
       "\n",
       "                        })\n",
       "                };\n",
       "                });\n",
       "            </script>\n",
       "        </div>"
      ]
     },
     "metadata": {},
     "output_type": "display_data"
    }
   ],
   "source": [
    "covid_sort = covid.sort_values(by='testShareDelta')\n",
    "covid_sort['polarity'] = covid_sort['testShareDelta'] > 0\n",
    "colors = []\n",
    "for polarity in covid_sort.polarity.values:\n",
    "    if polarity:\n",
    "        colors.append(\"green\")\n",
    "    else:\n",
    "        colors.append(\"red\")\n",
    "fig = go.Figure()\n",
    "fig.add_trace(go.Bar(x=covid_sort.state, y=covid_sort.testShareDelta, marker_color=colors))\n",
    "fig.layout.xaxis.tickfont.size = 8\n",
    "fig.layout.yaxis.tickformat = '0.0%'\n",
    "fig.update_layout(title_text='Share of Total Tests Completed vs Share of Population Delta - Without NY Data')\n",
    "fig.update_layout(\n",
    "    autosize=False,\n",
    "    width=800,\n",
    "    height=800,\n",
    "    margin=dict(\n",
    "        l=50,\n",
    "        r=50,\n",
    "        b=100,\n",
    "        t=100,\n",
    "        pad=4\n",
    "    ),\n",
    ")\n",
    "fig.show()"
   ]
  },
  {
   "cell_type": "code",
   "execution_count": 22,
   "metadata": {
    "jupyter": {
     "source_hidden": true
    }
   },
   "outputs": [
    {
     "data": {
      "application/vnd.plotly.v1+json": {
       "config": {
        "plotlyServerURL": "https://plot.ly"
       },
       "data": [
        {
         "marker": {
          "color": [
           "red",
           "red",
           "red",
           "red",
           "red",
           "red",
           "red",
           "red",
           "red",
           "red",
           "red",
           "red",
           "red",
           "red",
           "red",
           "red",
           "red",
           "red",
           "green",
           "green",
           "green",
           "green",
           "green",
           "green",
           "green",
           "green",
           "green",
           "green",
           "green",
           "green",
           "green",
           "green",
           "green",
           "green",
           "green",
           "green",
           "green",
           "green",
           "green",
           "green",
           "green",
           "green",
           "green",
           "green",
           "green",
           "green",
           "green",
           "green",
           "green",
           "green"
          ]
         },
         "type": "bar",
         "x": [
          "CT",
          "MA",
          "MD",
          "GA",
          "VA",
          "FL",
          "CO",
          "OH",
          "RI",
          "MS",
          "KY",
          "WI",
          "MN",
          "NM",
          "AL",
          "SC",
          "SD",
          "NH",
          "OK",
          "KS",
          "ND",
          "WY",
          "AZ",
          "ME",
          "VT",
          "DC",
          "TN",
          "AK",
          "MT",
          "AR",
          "ID",
          "UT",
          "DE",
          "HI",
          "OR",
          "WV",
          "NE",
          "NV",
          "IA",
          "LA",
          "MO",
          "IN",
          "WA",
          "NJ",
          "MI",
          "NC",
          "IL",
          "PA",
          "TX",
          "CA"
         ],
         "y": [
          0.13522357620246767,
          0.09066616070743641,
          0.06894646372689656,
          0.05671388305969389,
          0.041658914125332985,
          0.038660083557989194,
          0.02789582067888197,
          0.026995756299874524,
          0.014622425008226705,
          0.012938119835484803,
          0.010812841515510886,
          0.008289446286501526,
          0.00450984882700451,
          0.00400774013810386,
          0.0026595159298681073,
          0.0012877418775307202,
          0.000790675843813773,
          0.00039834998024860027,
          -0.00010722336561698811,
          -0.00016325478687705813,
          -0.0008492158901700672,
          -0.0008965645195929419,
          -0.001026069842260835,
          -0.0013162299998525973,
          -0.002013798160319465,
          -0.0023107917141267395,
          -0.002342370237346972,
          -0.0023534845775662044,
          -0.0025161684269789184,
          -0.002528121942116793,
          -0.0026534139662276954,
          -0.003088974647682239,
          -0.003151528502465844,
          -0.003373785622254012,
          -0.003716550763608467,
          -0.005701156567465948,
          -0.006260668746976771,
          -0.01006691627792888,
          -0.010195783636133576,
          -0.014894194980336962,
          -0.01978098397530505,
          -0.021628124459094806,
          -0.02500039895302542,
          -0.02865399424698996,
          -0.03220811500882187,
          -0.03402559333116375,
          -0.04059166915606835,
          -0.041108523742248444,
          -0.09449918630736913,
          -0.1280545072468739
         ]
        }
       ],
       "layout": {
        "autosize": false,
        "height": 800,
        "margin": {
         "b": 100,
         "l": 50,
         "pad": 4,
         "r": 50,
         "t": 100
        },
        "template": {
         "data": {
          "bar": [
           {
            "error_x": {
             "color": "#2a3f5f"
            },
            "error_y": {
             "color": "#2a3f5f"
            },
            "marker": {
             "line": {
              "color": "#E5ECF6",
              "width": 0.5
             }
            },
            "type": "bar"
           }
          ],
          "barpolar": [
           {
            "marker": {
             "line": {
              "color": "#E5ECF6",
              "width": 0.5
             }
            },
            "type": "barpolar"
           }
          ],
          "carpet": [
           {
            "aaxis": {
             "endlinecolor": "#2a3f5f",
             "gridcolor": "white",
             "linecolor": "white",
             "minorgridcolor": "white",
             "startlinecolor": "#2a3f5f"
            },
            "baxis": {
             "endlinecolor": "#2a3f5f",
             "gridcolor": "white",
             "linecolor": "white",
             "minorgridcolor": "white",
             "startlinecolor": "#2a3f5f"
            },
            "type": "carpet"
           }
          ],
          "choropleth": [
           {
            "colorbar": {
             "outlinewidth": 0,
             "ticks": ""
            },
            "type": "choropleth"
           }
          ],
          "contour": [
           {
            "colorbar": {
             "outlinewidth": 0,
             "ticks": ""
            },
            "colorscale": [
             [
              0,
              "#0d0887"
             ],
             [
              0.1111111111111111,
              "#46039f"
             ],
             [
              0.2222222222222222,
              "#7201a8"
             ],
             [
              0.3333333333333333,
              "#9c179e"
             ],
             [
              0.4444444444444444,
              "#bd3786"
             ],
             [
              0.5555555555555556,
              "#d8576b"
             ],
             [
              0.6666666666666666,
              "#ed7953"
             ],
             [
              0.7777777777777778,
              "#fb9f3a"
             ],
             [
              0.8888888888888888,
              "#fdca26"
             ],
             [
              1,
              "#f0f921"
             ]
            ],
            "type": "contour"
           }
          ],
          "contourcarpet": [
           {
            "colorbar": {
             "outlinewidth": 0,
             "ticks": ""
            },
            "type": "contourcarpet"
           }
          ],
          "heatmap": [
           {
            "colorbar": {
             "outlinewidth": 0,
             "ticks": ""
            },
            "colorscale": [
             [
              0,
              "#0d0887"
             ],
             [
              0.1111111111111111,
              "#46039f"
             ],
             [
              0.2222222222222222,
              "#7201a8"
             ],
             [
              0.3333333333333333,
              "#9c179e"
             ],
             [
              0.4444444444444444,
              "#bd3786"
             ],
             [
              0.5555555555555556,
              "#d8576b"
             ],
             [
              0.6666666666666666,
              "#ed7953"
             ],
             [
              0.7777777777777778,
              "#fb9f3a"
             ],
             [
              0.8888888888888888,
              "#fdca26"
             ],
             [
              1,
              "#f0f921"
             ]
            ],
            "type": "heatmap"
           }
          ],
          "heatmapgl": [
           {
            "colorbar": {
             "outlinewidth": 0,
             "ticks": ""
            },
            "colorscale": [
             [
              0,
              "#0d0887"
             ],
             [
              0.1111111111111111,
              "#46039f"
             ],
             [
              0.2222222222222222,
              "#7201a8"
             ],
             [
              0.3333333333333333,
              "#9c179e"
             ],
             [
              0.4444444444444444,
              "#bd3786"
             ],
             [
              0.5555555555555556,
              "#d8576b"
             ],
             [
              0.6666666666666666,
              "#ed7953"
             ],
             [
              0.7777777777777778,
              "#fb9f3a"
             ],
             [
              0.8888888888888888,
              "#fdca26"
             ],
             [
              1,
              "#f0f921"
             ]
            ],
            "type": "heatmapgl"
           }
          ],
          "histogram": [
           {
            "marker": {
             "colorbar": {
              "outlinewidth": 0,
              "ticks": ""
             }
            },
            "type": "histogram"
           }
          ],
          "histogram2d": [
           {
            "colorbar": {
             "outlinewidth": 0,
             "ticks": ""
            },
            "colorscale": [
             [
              0,
              "#0d0887"
             ],
             [
              0.1111111111111111,
              "#46039f"
             ],
             [
              0.2222222222222222,
              "#7201a8"
             ],
             [
              0.3333333333333333,
              "#9c179e"
             ],
             [
              0.4444444444444444,
              "#bd3786"
             ],
             [
              0.5555555555555556,
              "#d8576b"
             ],
             [
              0.6666666666666666,
              "#ed7953"
             ],
             [
              0.7777777777777778,
              "#fb9f3a"
             ],
             [
              0.8888888888888888,
              "#fdca26"
             ],
             [
              1,
              "#f0f921"
             ]
            ],
            "type": "histogram2d"
           }
          ],
          "histogram2dcontour": [
           {
            "colorbar": {
             "outlinewidth": 0,
             "ticks": ""
            },
            "colorscale": [
             [
              0,
              "#0d0887"
             ],
             [
              0.1111111111111111,
              "#46039f"
             ],
             [
              0.2222222222222222,
              "#7201a8"
             ],
             [
              0.3333333333333333,
              "#9c179e"
             ],
             [
              0.4444444444444444,
              "#bd3786"
             ],
             [
              0.5555555555555556,
              "#d8576b"
             ],
             [
              0.6666666666666666,
              "#ed7953"
             ],
             [
              0.7777777777777778,
              "#fb9f3a"
             ],
             [
              0.8888888888888888,
              "#fdca26"
             ],
             [
              1,
              "#f0f921"
             ]
            ],
            "type": "histogram2dcontour"
           }
          ],
          "mesh3d": [
           {
            "colorbar": {
             "outlinewidth": 0,
             "ticks": ""
            },
            "type": "mesh3d"
           }
          ],
          "parcoords": [
           {
            "line": {
             "colorbar": {
              "outlinewidth": 0,
              "ticks": ""
             }
            },
            "type": "parcoords"
           }
          ],
          "pie": [
           {
            "automargin": true,
            "type": "pie"
           }
          ],
          "scatter": [
           {
            "marker": {
             "colorbar": {
              "outlinewidth": 0,
              "ticks": ""
             }
            },
            "type": "scatter"
           }
          ],
          "scatter3d": [
           {
            "line": {
             "colorbar": {
              "outlinewidth": 0,
              "ticks": ""
             }
            },
            "marker": {
             "colorbar": {
              "outlinewidth": 0,
              "ticks": ""
             }
            },
            "type": "scatter3d"
           }
          ],
          "scattercarpet": [
           {
            "marker": {
             "colorbar": {
              "outlinewidth": 0,
              "ticks": ""
             }
            },
            "type": "scattercarpet"
           }
          ],
          "scattergeo": [
           {
            "marker": {
             "colorbar": {
              "outlinewidth": 0,
              "ticks": ""
             }
            },
            "type": "scattergeo"
           }
          ],
          "scattergl": [
           {
            "marker": {
             "colorbar": {
              "outlinewidth": 0,
              "ticks": ""
             }
            },
            "type": "scattergl"
           }
          ],
          "scattermapbox": [
           {
            "marker": {
             "colorbar": {
              "outlinewidth": 0,
              "ticks": ""
             }
            },
            "type": "scattermapbox"
           }
          ],
          "scatterpolar": [
           {
            "marker": {
             "colorbar": {
              "outlinewidth": 0,
              "ticks": ""
             }
            },
            "type": "scatterpolar"
           }
          ],
          "scatterpolargl": [
           {
            "marker": {
             "colorbar": {
              "outlinewidth": 0,
              "ticks": ""
             }
            },
            "type": "scatterpolargl"
           }
          ],
          "scatterternary": [
           {
            "marker": {
             "colorbar": {
              "outlinewidth": 0,
              "ticks": ""
             }
            },
            "type": "scatterternary"
           }
          ],
          "surface": [
           {
            "colorbar": {
             "outlinewidth": 0,
             "ticks": ""
            },
            "colorscale": [
             [
              0,
              "#0d0887"
             ],
             [
              0.1111111111111111,
              "#46039f"
             ],
             [
              0.2222222222222222,
              "#7201a8"
             ],
             [
              0.3333333333333333,
              "#9c179e"
             ],
             [
              0.4444444444444444,
              "#bd3786"
             ],
             [
              0.5555555555555556,
              "#d8576b"
             ],
             [
              0.6666666666666666,
              "#ed7953"
             ],
             [
              0.7777777777777778,
              "#fb9f3a"
             ],
             [
              0.8888888888888888,
              "#fdca26"
             ],
             [
              1,
              "#f0f921"
             ]
            ],
            "type": "surface"
           }
          ],
          "table": [
           {
            "cells": {
             "fill": {
              "color": "#EBF0F8"
             },
             "line": {
              "color": "white"
             }
            },
            "header": {
             "fill": {
              "color": "#C8D4E3"
             },
             "line": {
              "color": "white"
             }
            },
            "type": "table"
           }
          ]
         },
         "layout": {
          "annotationdefaults": {
           "arrowcolor": "#2a3f5f",
           "arrowhead": 0,
           "arrowwidth": 1
          },
          "coloraxis": {
           "colorbar": {
            "outlinewidth": 0,
            "ticks": ""
           }
          },
          "colorscale": {
           "diverging": [
            [
             0,
             "#8e0152"
            ],
            [
             0.1,
             "#c51b7d"
            ],
            [
             0.2,
             "#de77ae"
            ],
            [
             0.3,
             "#f1b6da"
            ],
            [
             0.4,
             "#fde0ef"
            ],
            [
             0.5,
             "#f7f7f7"
            ],
            [
             0.6,
             "#e6f5d0"
            ],
            [
             0.7,
             "#b8e186"
            ],
            [
             0.8,
             "#7fbc41"
            ],
            [
             0.9,
             "#4d9221"
            ],
            [
             1,
             "#276419"
            ]
           ],
           "sequential": [
            [
             0,
             "#0d0887"
            ],
            [
             0.1111111111111111,
             "#46039f"
            ],
            [
             0.2222222222222222,
             "#7201a8"
            ],
            [
             0.3333333333333333,
             "#9c179e"
            ],
            [
             0.4444444444444444,
             "#bd3786"
            ],
            [
             0.5555555555555556,
             "#d8576b"
            ],
            [
             0.6666666666666666,
             "#ed7953"
            ],
            [
             0.7777777777777778,
             "#fb9f3a"
            ],
            [
             0.8888888888888888,
             "#fdca26"
            ],
            [
             1,
             "#f0f921"
            ]
           ],
           "sequentialminus": [
            [
             0,
             "#0d0887"
            ],
            [
             0.1111111111111111,
             "#46039f"
            ],
            [
             0.2222222222222222,
             "#7201a8"
            ],
            [
             0.3333333333333333,
             "#9c179e"
            ],
            [
             0.4444444444444444,
             "#bd3786"
            ],
            [
             0.5555555555555556,
             "#d8576b"
            ],
            [
             0.6666666666666666,
             "#ed7953"
            ],
            [
             0.7777777777777778,
             "#fb9f3a"
            ],
            [
             0.8888888888888888,
             "#fdca26"
            ],
            [
             1,
             "#f0f921"
            ]
           ]
          },
          "colorway": [
           "#636efa",
           "#EF553B",
           "#00cc96",
           "#ab63fa",
           "#FFA15A",
           "#19d3f3",
           "#FF6692",
           "#B6E880",
           "#FF97FF",
           "#FECB52"
          ],
          "font": {
           "color": "#2a3f5f"
          },
          "geo": {
           "bgcolor": "white",
           "lakecolor": "white",
           "landcolor": "#E5ECF6",
           "showlakes": true,
           "showland": true,
           "subunitcolor": "white"
          },
          "hoverlabel": {
           "align": "left"
          },
          "hovermode": "closest",
          "mapbox": {
           "style": "light"
          },
          "paper_bgcolor": "white",
          "plot_bgcolor": "#E5ECF6",
          "polar": {
           "angularaxis": {
            "gridcolor": "white",
            "linecolor": "white",
            "ticks": ""
           },
           "bgcolor": "#E5ECF6",
           "radialaxis": {
            "gridcolor": "white",
            "linecolor": "white",
            "ticks": ""
           }
          },
          "scene": {
           "xaxis": {
            "backgroundcolor": "#E5ECF6",
            "gridcolor": "white",
            "gridwidth": 2,
            "linecolor": "white",
            "showbackground": true,
            "ticks": "",
            "zerolinecolor": "white"
           },
           "yaxis": {
            "backgroundcolor": "#E5ECF6",
            "gridcolor": "white",
            "gridwidth": 2,
            "linecolor": "white",
            "showbackground": true,
            "ticks": "",
            "zerolinecolor": "white"
           },
           "zaxis": {
            "backgroundcolor": "#E5ECF6",
            "gridcolor": "white",
            "gridwidth": 2,
            "linecolor": "white",
            "showbackground": true,
            "ticks": "",
            "zerolinecolor": "white"
           }
          },
          "shapedefaults": {
           "line": {
            "color": "#2a3f5f"
           }
          },
          "ternary": {
           "aaxis": {
            "gridcolor": "white",
            "linecolor": "white",
            "ticks": ""
           },
           "baxis": {
            "gridcolor": "white",
            "linecolor": "white",
            "ticks": ""
           },
           "bgcolor": "#E5ECF6",
           "caxis": {
            "gridcolor": "white",
            "linecolor": "white",
            "ticks": ""
           }
          },
          "title": {
           "x": 0.05
          },
          "xaxis": {
           "automargin": true,
           "gridcolor": "white",
           "linecolor": "white",
           "ticks": "",
           "title": {
            "standoff": 15
           },
           "zerolinecolor": "white",
           "zerolinewidth": 2
          },
          "yaxis": {
           "automargin": true,
           "gridcolor": "white",
           "linecolor": "white",
           "ticks": "",
           "title": {
            "standoff": 15
           },
           "zerolinecolor": "white",
           "zerolinewidth": 2
          }
         }
        },
        "title": {
         "text": "Share of Cumulative Hospitalizations vs Share of Population Delta - Without NY Data"
        },
        "width": 800,
        "xaxis": {
         "autorange": true,
         "range": [
          -0.5,
          49.5
         ],
         "tickfont": {
          "size": 8
         },
         "type": "category"
        },
        "yaxis": {
         "autorange": true,
         "range": [
          -0.14268106743850398,
          0.14985013639409775
         ],
         "tickformat": "0.0%",
         "type": "linear"
        }
       }
      },
      "image/png": "[encoded data removed]",
      "text/html": [
       "<div>\n",
       "        \n",
       "        \n",
       "            <div id=\"9aaff73d-24db-49b2-b458-85809ccdc46e\" class=\"plotly-graph-div\" style=\"height:800px; width:800px;\"></div>\n",
       "            <script type=\"text/javascript\">\n",
       "                require([\"plotly\"], function(Plotly) {\n",
       "                    window.PLOTLYENV=window.PLOTLYENV || {};\n",
       "                    \n",
       "                if (document.getElementById(\"9aaff73d-24db-49b2-b458-85809ccdc46e\")) {\n",
       "                    Plotly.newPlot(\n",
       "                        '9aaff73d-24db-49b2-b458-85809ccdc46e',\n",
       "                        [{\"marker\": {\"color\": [\"red\", \"red\", \"red\", \"red\", \"red\", \"red\", \"red\", \"red\", \"red\", \"red\", \"red\", \"red\", \"red\", \"red\", \"red\", \"red\", \"red\", \"red\", \"green\", \"green\", \"green\", \"green\", \"green\", \"green\", \"green\", \"green\", \"green\", \"green\", \"green\", \"green\", \"green\", \"green\", \"green\", \"green\", \"green\", \"green\", \"green\", \"green\", \"green\", \"green\", \"green\", \"green\", \"green\", \"green\", \"green\", \"green\", \"green\", \"green\", \"green\", \"green\"]}, \"type\": \"bar\", \"x\": [\"CT\", \"MA\", \"MD\", \"GA\", \"VA\", \"FL\", \"CO\", \"OH\", \"RI\", \"MS\", \"KY\", \"WI\", \"MN\", \"NM\", \"AL\", \"SC\", \"SD\", \"NH\", \"OK\", \"KS\", \"ND\", \"WY\", \"AZ\", \"ME\", \"VT\", \"DC\", \"TN\", \"AK\", \"MT\", \"AR\", \"ID\", \"UT\", \"DE\", \"HI\", \"OR\", \"WV\", \"NE\", \"NV\", \"IA\", \"LA\", \"MO\", \"IN\", \"WA\", \"NJ\", \"MI\", \"NC\", \"IL\", \"PA\", \"TX\", \"CA\"], \"y\": [0.13522357620246767, 0.09066616070743641, 0.06894646372689656, 0.05671388305969389, 0.041658914125332985, 0.038660083557989194, 0.02789582067888197, 0.026995756299874524, 0.014622425008226705, 0.012938119835484803, 0.010812841515510886, 0.008289446286501526, 0.00450984882700451, 0.00400774013810386, 0.0026595159298681073, 0.0012877418775307202, 0.000790675843813773, 0.00039834998024860027, -0.00010722336561698811, -0.00016325478687705813, -0.0008492158901700672, -0.0008965645195929419, -0.001026069842260835, -0.0013162299998525973, -0.002013798160319465, -0.0023107917141267395, -0.002342370237346972, -0.0023534845775662044, -0.0025161684269789184, -0.002528121942116793, -0.0026534139662276954, -0.003088974647682239, -0.003151528502465844, -0.003373785622254012, -0.003716550763608467, -0.005701156567465948, -0.006260668746976771, -0.01006691627792888, -0.010195783636133576, -0.014894194980336962, -0.01978098397530505, -0.021628124459094806, -0.02500039895302542, -0.02865399424698996, -0.03220811500882187, -0.03402559333116375, -0.04059166915606835, -0.041108523742248444, -0.09449918630736913, -0.1280545072468739]}],\n",
       "                        {\"autosize\": false, \"height\": 800, \"margin\": {\"b\": 100, \"l\": 50, \"pad\": 4, \"r\": 50, \"t\": 100}, \"template\": {\"data\": {\"bar\": [{\"error_x\": {\"color\": \"#2a3f5f\"}, \"error_y\": {\"color\": \"#2a3f5f\"}, \"marker\": {\"line\": {\"color\": \"#E5ECF6\", \"width\": 0.5}}, \"type\": \"bar\"}], \"barpolar\": [{\"marker\": {\"line\": {\"color\": \"#E5ECF6\", \"width\": 0.5}}, \"type\": \"barpolar\"}], \"carpet\": [{\"aaxis\": {\"endlinecolor\": \"#2a3f5f\", \"gridcolor\": \"white\", \"linecolor\": \"white\", \"minorgridcolor\": \"white\", \"startlinecolor\": \"#2a3f5f\"}, \"baxis\": {\"endlinecolor\": \"#2a3f5f\", \"gridcolor\": \"white\", \"linecolor\": \"white\", \"minorgridcolor\": \"white\", \"startlinecolor\": \"#2a3f5f\"}, \"type\": \"carpet\"}], \"choropleth\": [{\"colorbar\": {\"outlinewidth\": 0, \"ticks\": \"\"}, \"type\": \"choropleth\"}], \"contour\": [{\"colorbar\": {\"outlinewidth\": 0, \"ticks\": \"\"}, \"colorscale\": [[0.0, \"#0d0887\"], [0.1111111111111111, \"#46039f\"], [0.2222222222222222, \"#7201a8\"], [0.3333333333333333, \"#9c179e\"], [0.4444444444444444, \"#bd3786\"], [0.5555555555555556, \"#d8576b\"], [0.6666666666666666, \"#ed7953\"], [0.7777777777777778, \"#fb9f3a\"], [0.8888888888888888, \"#fdca26\"], [1.0, \"#f0f921\"]], \"type\": \"contour\"}], \"contourcarpet\": [{\"colorbar\": {\"outlinewidth\": 0, \"ticks\": \"\"}, \"type\": \"contourcarpet\"}], \"heatmap\": [{\"colorbar\": {\"outlinewidth\": 0, \"ticks\": \"\"}, \"colorscale\": [[0.0, \"#0d0887\"], [0.1111111111111111, \"#46039f\"], [0.2222222222222222, \"#7201a8\"], [0.3333333333333333, \"#9c179e\"], [0.4444444444444444, \"#bd3786\"], [0.5555555555555556, \"#d8576b\"], [0.6666666666666666, \"#ed7953\"], [0.7777777777777778, \"#fb9f3a\"], [0.8888888888888888, \"#fdca26\"], [1.0, \"#f0f921\"]], \"type\": \"heatmap\"}], \"heatmapgl\": [{\"colorbar\": {\"outlinewidth\": 0, \"ticks\": \"\"}, \"colorscale\": [[0.0, \"#0d0887\"], [0.1111111111111111, \"#46039f\"], [0.2222222222222222, \"#7201a8\"], [0.3333333333333333, \"#9c179e\"], [0.4444444444444444, \"#bd3786\"], [0.5555555555555556, \"#d8576b\"], [0.6666666666666666, \"#ed7953\"], [0.7777777777777778, \"#fb9f3a\"], [0.8888888888888888, \"#fdca26\"], [1.0, \"#f0f921\"]], \"type\": \"heatmapgl\"}], \"histogram\": [{\"marker\": {\"colorbar\": {\"outlinewidth\": 0, \"ticks\": \"\"}}, \"type\": \"histogram\"}], \"histogram2d\": [{\"colorbar\": {\"outlinewidth\": 0, \"ticks\": \"\"}, \"colorscale\": [[0.0, \"#0d0887\"], [0.1111111111111111, \"#46039f\"], [0.2222222222222222, \"#7201a8\"], [0.3333333333333333, \"#9c179e\"], [0.4444444444444444, \"#bd3786\"], [0.5555555555555556, \"#d8576b\"], [0.6666666666666666, \"#ed7953\"], [0.7777777777777778, \"#fb9f3a\"], [0.8888888888888888, \"#fdca26\"], [1.0, \"#f0f921\"]], \"type\": \"histogram2d\"}], \"histogram2dcontour\": [{\"colorbar\": {\"outlinewidth\": 0, \"ticks\": \"\"}, \"colorscale\": [[0.0, \"#0d0887\"], [0.1111111111111111, \"#46039f\"], [0.2222222222222222, \"#7201a8\"], [0.3333333333333333, \"#9c179e\"], [0.4444444444444444, \"#bd3786\"], [0.5555555555555556, \"#d8576b\"], [0.6666666666666666, \"#ed7953\"], [0.7777777777777778, \"#fb9f3a\"], [0.8888888888888888, \"#fdca26\"], [1.0, \"#f0f921\"]], \"type\": \"histogram2dcontour\"}], \"mesh3d\": [{\"colorbar\": {\"outlinewidth\": 0, \"ticks\": \"\"}, \"type\": \"mesh3d\"}], \"parcoords\": [{\"line\": {\"colorbar\": {\"outlinewidth\": 0, \"ticks\": \"\"}}, \"type\": \"parcoords\"}], \"pie\": [{\"automargin\": true, \"type\": \"pie\"}], \"scatter\": [{\"marker\": {\"colorbar\": {\"outlinewidth\": 0, \"ticks\": \"\"}}, \"type\": \"scatter\"}], \"scatter3d\": [{\"line\": {\"colorbar\": {\"outlinewidth\": 0, \"ticks\": \"\"}}, \"marker\": {\"colorbar\": {\"outlinewidth\": 0, \"ticks\": \"\"}}, \"type\": \"scatter3d\"}], \"scattercarpet\": [{\"marker\": {\"colorbar\": {\"outlinewidth\": 0, \"ticks\": \"\"}}, \"type\": \"scattercarpet\"}], \"scattergeo\": [{\"marker\": {\"colorbar\": {\"outlinewidth\": 0, \"ticks\": \"\"}}, \"type\": \"scattergeo\"}], \"scattergl\": [{\"marker\": {\"colorbar\": {\"outlinewidth\": 0, \"ticks\": \"\"}}, \"type\": \"scattergl\"}], \"scattermapbox\": [{\"marker\": {\"colorbar\": {\"outlinewidth\": 0, \"ticks\": \"\"}}, \"type\": \"scattermapbox\"}], \"scatterpolar\": [{\"marker\": {\"colorbar\": {\"outlinewidth\": 0, \"ticks\": \"\"}}, \"type\": \"scatterpolar\"}], \"scatterpolargl\": [{\"marker\": {\"colorbar\": {\"outlinewidth\": 0, \"ticks\": \"\"}}, \"type\": \"scatterpolargl\"}], \"scatterternary\": [{\"marker\": {\"colorbar\": {\"outlinewidth\": 0, \"ticks\": \"\"}}, \"type\": \"scatterternary\"}], \"surface\": [{\"colorbar\": {\"outlinewidth\": 0, \"ticks\": \"\"}, \"colorscale\": [[0.0, \"#0d0887\"], [0.1111111111111111, \"#46039f\"], [0.2222222222222222, \"#7201a8\"], [0.3333333333333333, \"#9c179e\"], [0.4444444444444444, \"#bd3786\"], [0.5555555555555556, \"#d8576b\"], [0.6666666666666666, \"#ed7953\"], [0.7777777777777778, \"#fb9f3a\"], [0.8888888888888888, \"#fdca26\"], [1.0, \"#f0f921\"]], \"type\": \"surface\"}], \"table\": [{\"cells\": {\"fill\": {\"color\": \"#EBF0F8\"}, \"line\": {\"color\": \"white\"}}, \"header\": {\"fill\": {\"color\": \"#C8D4E3\"}, \"line\": {\"color\": \"white\"}}, \"type\": \"table\"}]}, \"layout\": {\"annotationdefaults\": {\"arrowcolor\": \"#2a3f5f\", \"arrowhead\": 0, \"arrowwidth\": 1}, \"coloraxis\": {\"colorbar\": {\"outlinewidth\": 0, \"ticks\": \"\"}}, \"colorscale\": {\"diverging\": [[0, \"#8e0152\"], [0.1, \"#c51b7d\"], [0.2, \"#de77ae\"], [0.3, \"#f1b6da\"], [0.4, \"#fde0ef\"], [0.5, \"#f7f7f7\"], [0.6, \"#e6f5d0\"], [0.7, \"#b8e186\"], [0.8, \"#7fbc41\"], [0.9, \"#4d9221\"], [1, \"#276419\"]], \"sequential\": [[0.0, \"#0d0887\"], [0.1111111111111111, \"#46039f\"], [0.2222222222222222, \"#7201a8\"], [0.3333333333333333, \"#9c179e\"], [0.4444444444444444, \"#bd3786\"], [0.5555555555555556, \"#d8576b\"], [0.6666666666666666, \"#ed7953\"], [0.7777777777777778, \"#fb9f3a\"], [0.8888888888888888, \"#fdca26\"], [1.0, \"#f0f921\"]], \"sequentialminus\": [[0.0, \"#0d0887\"], [0.1111111111111111, \"#46039f\"], [0.2222222222222222, \"#7201a8\"], [0.3333333333333333, \"#9c179e\"], [0.4444444444444444, \"#bd3786\"], [0.5555555555555556, \"#d8576b\"], [0.6666666666666666, \"#ed7953\"], [0.7777777777777778, \"#fb9f3a\"], [0.8888888888888888, \"#fdca26\"], [1.0, \"#f0f921\"]]}, \"colorway\": [\"#636efa\", \"#EF553B\", \"#00cc96\", \"#ab63fa\", \"#FFA15A\", \"#19d3f3\", \"#FF6692\", \"#B6E880\", \"#FF97FF\", \"#FECB52\"], \"font\": {\"color\": \"#2a3f5f\"}, \"geo\": {\"bgcolor\": \"white\", \"lakecolor\": \"white\", \"landcolor\": \"#E5ECF6\", \"showlakes\": true, \"showland\": true, \"subunitcolor\": \"white\"}, \"hoverlabel\": {\"align\": \"left\"}, \"hovermode\": \"closest\", \"mapbox\": {\"style\": \"light\"}, \"paper_bgcolor\": \"white\", \"plot_bgcolor\": \"#E5ECF6\", \"polar\": {\"angularaxis\": {\"gridcolor\": \"white\", \"linecolor\": \"white\", \"ticks\": \"\"}, \"bgcolor\": \"#E5ECF6\", \"radialaxis\": {\"gridcolor\": \"white\", \"linecolor\": \"white\", \"ticks\": \"\"}}, \"scene\": {\"xaxis\": {\"backgroundcolor\": \"#E5ECF6\", \"gridcolor\": \"white\", \"gridwidth\": 2, \"linecolor\": \"white\", \"showbackground\": true, \"ticks\": \"\", \"zerolinecolor\": \"white\"}, \"yaxis\": {\"backgroundcolor\": \"#E5ECF6\", \"gridcolor\": \"white\", \"gridwidth\": 2, \"linecolor\": \"white\", \"showbackground\": true, \"ticks\": \"\", \"zerolinecolor\": \"white\"}, \"zaxis\": {\"backgroundcolor\": \"#E5ECF6\", \"gridcolor\": \"white\", \"gridwidth\": 2, \"linecolor\": \"white\", \"showbackground\": true, \"ticks\": \"\", \"zerolinecolor\": \"white\"}}, \"shapedefaults\": {\"line\": {\"color\": \"#2a3f5f\"}}, \"ternary\": {\"aaxis\": {\"gridcolor\": \"white\", \"linecolor\": \"white\", \"ticks\": \"\"}, \"baxis\": {\"gridcolor\": \"white\", \"linecolor\": \"white\", \"ticks\": \"\"}, \"bgcolor\": \"#E5ECF6\", \"caxis\": {\"gridcolor\": \"white\", \"linecolor\": \"white\", \"ticks\": \"\"}}, \"title\": {\"x\": 0.05}, \"xaxis\": {\"automargin\": true, \"gridcolor\": \"white\", \"linecolor\": \"white\", \"ticks\": \"\", \"title\": {\"standoff\": 15}, \"zerolinecolor\": \"white\", \"zerolinewidth\": 2}, \"yaxis\": {\"automargin\": true, \"gridcolor\": \"white\", \"linecolor\": \"white\", \"ticks\": \"\", \"title\": {\"standoff\": 15}, \"zerolinecolor\": \"white\", \"zerolinewidth\": 2}}}, \"title\": {\"text\": \"Share of Cumulative Hospitalizations vs Share of Population Delta - Without NY Data\"}, \"width\": 800, \"xaxis\": {\"tickfont\": {\"size\": 8}}, \"yaxis\": {\"tickformat\": \"0.0%\"}},\n",
       "                        {\"responsive\": true}\n",
       "                    ).then(function(){\n",
       "                            \n",
       "var gd = document.getElementById('9aaff73d-24db-49b2-b458-85809ccdc46e');\n",
       "var x = new MutationObserver(function (mutations, observer) {{\n",
       "        var display = window.getComputedStyle(gd).display;\n",
       "        if (!display || display === 'none') {{\n",
       "            console.log([gd, 'removed!']);\n",
       "            Plotly.purge(gd);\n",
       "            observer.disconnect();\n",
       "        }}\n",
       "}});\n",
       "\n",
       "// Listen for the removal of the full notebook cells\n",
       "var notebookContainer = gd.closest('#notebook-container');\n",
       "if (notebookContainer) {{\n",
       "    x.observe(notebookContainer, {childList: true});\n",
       "}}\n",
       "\n",
       "// Listen for the clearing of the current output cell\n",
       "var outputEl = gd.closest('.output');\n",
       "if (outputEl) {{\n",
       "    x.observe(outputEl, {childList: true});\n",
       "}}\n",
       "\n",
       "                        })\n",
       "                };\n",
       "                });\n",
       "            </script>\n",
       "        </div>"
      ]
     },
     "metadata": {},
     "output_type": "display_data"
    }
   ],
   "source": [
    "covid_sort = covid.sort_values(by='hospitalShareDelta', ascending=False)\n",
    "covid_sort['polarity'] = covid_sort['hospitalShareDelta'] < 0\n",
    "colors = []\n",
    "for polarity in covid_sort.polarity.values:\n",
    "    if polarity:\n",
    "        colors.append(\"green\")\n",
    "    else:\n",
    "        colors.append(\"red\")\n",
    "fig = go.Figure()\n",
    "fig.add_trace(go.Bar(x=covid_sort.state, y=covid_sort.hospitalShareDelta, marker_color=colors))\n",
    "fig.layout.xaxis.tickfont.size = 8\n",
    "fig.layout.yaxis.tickformat = '0.0%'\n",
    "fig.update_layout(title_text='Share of Cumulative Hospitalizations vs Share of Population Delta - Without NY Data')\n",
    "fig.update_layout(\n",
    "    autosize=False,\n",
    "    width=800,\n",
    "    height=800,\n",
    "    margin=dict(\n",
    "        l=50,\n",
    "        r=50,\n",
    "        b=100,\n",
    "        t=100,\n",
    "        pad=4\n",
    "    ),\n",
    ")\n",
    "fig.show()"
   ]
  },
  {
   "cell_type": "code",
   "execution_count": 23,
   "metadata": {
    "jupyter": {
     "source_hidden": true
    }
   },
   "outputs": [
    {
     "data": {
      "application/vnd.plotly.v1+json": {
       "config": {
        "plotlyServerURL": "https://plot.ly"
       },
       "data": [
        {
         "marker": {
          "color": [
           "red",
           "red",
           "red",
           "red",
           "red",
           "red",
           "red",
           "red",
           "red",
           "red",
           "red",
           "red",
           "red",
           "green",
           "green",
           "green",
           "green",
           "green",
           "green",
           "green",
           "green",
           "green",
           "green",
           "green",
           "green",
           "green",
           "green",
           "green",
           "green",
           "green",
           "green",
           "green",
           "green",
           "green",
           "green",
           "green",
           "green",
           "green",
           "green",
           "green",
           "green",
           "green",
           "green",
           "green",
           "green",
           "green",
           "green",
           "green",
           "green",
           "green"
          ]
         },
         "type": "bar",
         "x": [
          "NJ",
          "MA",
          "MI",
          "CT",
          "LA",
          "PA",
          "IL",
          "MD",
          "IN",
          "RI",
          "DC",
          "DE",
          "CO",
          "VT",
          "MS",
          "WY",
          "ND",
          "NH",
          "AK",
          "SD",
          "ME",
          "MT",
          "NM",
          "HI",
          "NV",
          "NE",
          "ID",
          "WV",
          "IA",
          "KS",
          "GA",
          "WA",
          "OK",
          "MN",
          "AR",
          "AL",
          "KY",
          "UT",
          "SC",
          "WI",
          "MO",
          "OR",
          "OH",
          "VA",
          "AZ",
          "TN",
          "NC",
          "FL",
          "TX",
          "CA"
         ],
         "y": [
          0.15073492974559072,
          0.07041287860408502,
          0.05631433663301176,
          0.04558610445047746,
          0.030111002630800195,
          0.02851908270686592,
          0.022819186717232237,
          0.011130589455130135,
          0.007193138866153356,
          0.004522075379090187,
          0.003498303086223845,
          0.0009657948297124644,
          2.9608674136583774e-05,
          -0.0009335103553419878,
          -0.0015130997588631654,
          -0.001675414424645898,
          -0.0018105020059891886,
          -0.0021342373121133276,
          -0.002149656689834605,
          -0.0022635754100785712,
          -0.003051372517633537,
          -0.0031584306615377606,
          -0.0032779196775627353,
          -0.004183094781896998,
          -0.004237438688805136,
          -0.004507748912485015,
          -0.004510074185594741,
          -0.004661634340034791,
          -0.005487359429533629,
          -0.006335421673408975,
          -0.007192409502478261,
          -0.007267372720376267,
          -0.00738110825585618,
          -0.007924023852714058,
          -0.007970863302358064,
          -0.008626241031957698,
          -0.008659364061135056,
          -0.009280336515525855,
          -0.010488760076956635,
          -0.011139746079074128,
          -0.011260978268124194,
          -0.011324580441886178,
          -0.011760970450208907,
          -0.011984477149666436,
          -0.01448595284260826,
          -0.017285484110053588,
          -0.02369151942317166,
          -0.03653961587903248,
          -0.0746667328310845,
          -0.0770160041588814
         ]
        }
       ],
       "layout": {
        "autosize": false,
        "height": 800,
        "margin": {
         "b": 100,
         "l": 50,
         "pad": 4,
         "r": 50,
         "t": 100
        },
        "template": {
         "data": {
          "bar": [
           {
            "error_x": {
             "color": "#2a3f5f"
            },
            "error_y": {
             "color": "#2a3f5f"
            },
            "marker": {
             "line": {
              "color": "#E5ECF6",
              "width": 0.5
             }
            },
            "type": "bar"
           }
          ],
          "barpolar": [
           {
            "marker": {
             "line": {
              "color": "#E5ECF6",
              "width": 0.5
             }
            },
            "type": "barpolar"
           }
          ],
          "carpet": [
           {
            "aaxis": {
             "endlinecolor": "#2a3f5f",
             "gridcolor": "white",
             "linecolor": "white",
             "minorgridcolor": "white",
             "startlinecolor": "#2a3f5f"
            },
            "baxis": {
             "endlinecolor": "#2a3f5f",
             "gridcolor": "white",
             "linecolor": "white",
             "minorgridcolor": "white",
             "startlinecolor": "#2a3f5f"
            },
            "type": "carpet"
           }
          ],
          "choropleth": [
           {
            "colorbar": {
             "outlinewidth": 0,
             "ticks": ""
            },
            "type": "choropleth"
           }
          ],
          "contour": [
           {
            "colorbar": {
             "outlinewidth": 0,
             "ticks": ""
            },
            "colorscale": [
             [
              0,
              "#0d0887"
             ],
             [
              0.1111111111111111,
              "#46039f"
             ],
             [
              0.2222222222222222,
              "#7201a8"
             ],
             [
              0.3333333333333333,
              "#9c179e"
             ],
             [
              0.4444444444444444,
              "#bd3786"
             ],
             [
              0.5555555555555556,
              "#d8576b"
             ],
             [
              0.6666666666666666,
              "#ed7953"
             ],
             [
              0.7777777777777778,
              "#fb9f3a"
             ],
             [
              0.8888888888888888,
              "#fdca26"
             ],
             [
              1,
              "#f0f921"
             ]
            ],
            "type": "contour"
           }
          ],
          "contourcarpet": [
           {
            "colorbar": {
             "outlinewidth": 0,
             "ticks": ""
            },
            "type": "contourcarpet"
           }
          ],
          "heatmap": [
           {
            "colorbar": {
             "outlinewidth": 0,
             "ticks": ""
            },
            "colorscale": [
             [
              0,
              "#0d0887"
             ],
             [
              0.1111111111111111,
              "#46039f"
             ],
             [
              0.2222222222222222,
              "#7201a8"
             ],
             [
              0.3333333333333333,
              "#9c179e"
             ],
             [
              0.4444444444444444,
              "#bd3786"
             ],
             [
              0.5555555555555556,
              "#d8576b"
             ],
             [
              0.6666666666666666,
              "#ed7953"
             ],
             [
              0.7777777777777778,
              "#fb9f3a"
             ],
             [
              0.8888888888888888,
              "#fdca26"
             ],
             [
              1,
              "#f0f921"
             ]
            ],
            "type": "heatmap"
           }
          ],
          "heatmapgl": [
           {
            "colorbar": {
             "outlinewidth": 0,
             "ticks": ""
            },
            "colorscale": [
             [
              0,
              "#0d0887"
             ],
             [
              0.1111111111111111,
              "#46039f"
             ],
             [
              0.2222222222222222,
              "#7201a8"
             ],
             [
              0.3333333333333333,
              "#9c179e"
             ],
             [
              0.4444444444444444,
              "#bd3786"
             ],
             [
              0.5555555555555556,
              "#d8576b"
             ],
             [
              0.6666666666666666,
              "#ed7953"
             ],
             [
              0.7777777777777778,
              "#fb9f3a"
             ],
             [
              0.8888888888888888,
              "#fdca26"
             ],
             [
              1,
              "#f0f921"
             ]
            ],
            "type": "heatmapgl"
           }
          ],
          "histogram": [
           {
            "marker": {
             "colorbar": {
              "outlinewidth": 0,
              "ticks": ""
             }
            },
            "type": "histogram"
           }
          ],
          "histogram2d": [
           {
            "colorbar": {
             "outlinewidth": 0,
             "ticks": ""
            },
            "colorscale": [
             [
              0,
              "#0d0887"
             ],
             [
              0.1111111111111111,
              "#46039f"
             ],
             [
              0.2222222222222222,
              "#7201a8"
             ],
             [
              0.3333333333333333,
              "#9c179e"
             ],
             [
              0.4444444444444444,
              "#bd3786"
             ],
             [
              0.5555555555555556,
              "#d8576b"
             ],
             [
              0.6666666666666666,
              "#ed7953"
             ],
             [
              0.7777777777777778,
              "#fb9f3a"
             ],
             [
              0.8888888888888888,
              "#fdca26"
             ],
             [
              1,
              "#f0f921"
             ]
            ],
            "type": "histogram2d"
           }
          ],
          "histogram2dcontour": [
           {
            "colorbar": {
             "outlinewidth": 0,
             "ticks": ""
            },
            "colorscale": [
             [
              0,
              "#0d0887"
             ],
             [
              0.1111111111111111,
              "#46039f"
             ],
             [
              0.2222222222222222,
              "#7201a8"
             ],
             [
              0.3333333333333333,
              "#9c179e"
             ],
             [
              0.4444444444444444,
              "#bd3786"
             ],
             [
              0.5555555555555556,
              "#d8576b"
             ],
             [
              0.6666666666666666,
              "#ed7953"
             ],
             [
              0.7777777777777778,
              "#fb9f3a"
             ],
             [
              0.8888888888888888,
              "#fdca26"
             ],
             [
              1,
              "#f0f921"
             ]
            ],
            "type": "histogram2dcontour"
           }
          ],
          "mesh3d": [
           {
            "colorbar": {
             "outlinewidth": 0,
             "ticks": ""
            },
            "type": "mesh3d"
           }
          ],
          "parcoords": [
           {
            "line": {
             "colorbar": {
              "outlinewidth": 0,
              "ticks": ""
             }
            },
            "type": "parcoords"
           }
          ],
          "pie": [
           {
            "automargin": true,
            "type": "pie"
           }
          ],
          "scatter": [
           {
            "marker": {
             "colorbar": {
              "outlinewidth": 0,
              "ticks": ""
             }
            },
            "type": "scatter"
           }
          ],
          "scatter3d": [
           {
            "line": {
             "colorbar": {
              "outlinewidth": 0,
              "ticks": ""
             }
            },
            "marker": {
             "colorbar": {
              "outlinewidth": 0,
              "ticks": ""
             }
            },
            "type": "scatter3d"
           }
          ],
          "scattercarpet": [
           {
            "marker": {
             "colorbar": {
              "outlinewidth": 0,
              "ticks": ""
             }
            },
            "type": "scattercarpet"
           }
          ],
          "scattergeo": [
           {
            "marker": {
             "colorbar": {
              "outlinewidth": 0,
              "ticks": ""
             }
            },
            "type": "scattergeo"
           }
          ],
          "scattergl": [
           {
            "marker": {
             "colorbar": {
              "outlinewidth": 0,
              "ticks": ""
             }
            },
            "type": "scattergl"
           }
          ],
          "scattermapbox": [
           {
            "marker": {
             "colorbar": {
              "outlinewidth": 0,
              "ticks": ""
             }
            },
            "type": "scattermapbox"
           }
          ],
          "scatterpolar": [
           {
            "marker": {
             "colorbar": {
              "outlinewidth": 0,
              "ticks": ""
             }
            },
            "type": "scatterpolar"
           }
          ],
          "scatterpolargl": [
           {
            "marker": {
             "colorbar": {
              "outlinewidth": 0,
              "ticks": ""
             }
            },
            "type": "scatterpolargl"
           }
          ],
          "scatterternary": [
           {
            "marker": {
             "colorbar": {
              "outlinewidth": 0,
              "ticks": ""
             }
            },
            "type": "scatterternary"
           }
          ],
          "surface": [
           {
            "colorbar": {
             "outlinewidth": 0,
             "ticks": ""
            },
            "colorscale": [
             [
              0,
              "#0d0887"
             ],
             [
              0.1111111111111111,
              "#46039f"
             ],
             [
              0.2222222222222222,
              "#7201a8"
             ],
             [
              0.3333333333333333,
              "#9c179e"
             ],
             [
              0.4444444444444444,
              "#bd3786"
             ],
             [
              0.5555555555555556,
              "#d8576b"
             ],
             [
              0.6666666666666666,
              "#ed7953"
             ],
             [
              0.7777777777777778,
              "#fb9f3a"
             ],
             [
              0.8888888888888888,
              "#fdca26"
             ],
             [
              1,
              "#f0f921"
             ]
            ],
            "type": "surface"
           }
          ],
          "table": [
           {
            "cells": {
             "fill": {
              "color": "#EBF0F8"
             },
             "line": {
              "color": "white"
             }
            },
            "header": {
             "fill": {
              "color": "#C8D4E3"
             },
             "line": {
              "color": "white"
             }
            },
            "type": "table"
           }
          ]
         },
         "layout": {
          "annotationdefaults": {
           "arrowcolor": "#2a3f5f",
           "arrowhead": 0,
           "arrowwidth": 1
          },
          "coloraxis": {
           "colorbar": {
            "outlinewidth": 0,
            "ticks": ""
           }
          },
          "colorscale": {
           "diverging": [
            [
             0,
             "#8e0152"
            ],
            [
             0.1,
             "#c51b7d"
            ],
            [
             0.2,
             "#de77ae"
            ],
            [
             0.3,
             "#f1b6da"
            ],
            [
             0.4,
             "#fde0ef"
            ],
            [
             0.5,
             "#f7f7f7"
            ],
            [
             0.6,
             "#e6f5d0"
            ],
            [
             0.7,
             "#b8e186"
            ],
            [
             0.8,
             "#7fbc41"
            ],
            [
             0.9,
             "#4d9221"
            ],
            [
             1,
             "#276419"
            ]
           ],
           "sequential": [
            [
             0,
             "#0d0887"
            ],
            [
             0.1111111111111111,
             "#46039f"
            ],
            [
             0.2222222222222222,
             "#7201a8"
            ],
            [
             0.3333333333333333,
             "#9c179e"
            ],
            [
             0.4444444444444444,
             "#bd3786"
            ],
            [
             0.5555555555555556,
             "#d8576b"
            ],
            [
             0.6666666666666666,
             "#ed7953"
            ],
            [
             0.7777777777777778,
             "#fb9f3a"
            ],
            [
             0.8888888888888888,
             "#fdca26"
            ],
            [
             1,
             "#f0f921"
            ]
           ],
           "sequentialminus": [
            [
             0,
             "#0d0887"
            ],
            [
             0.1111111111111111,
             "#46039f"
            ],
            [
             0.2222222222222222,
             "#7201a8"
            ],
            [
             0.3333333333333333,
             "#9c179e"
            ],
            [
             0.4444444444444444,
             "#bd3786"
            ],
            [
             0.5555555555555556,
             "#d8576b"
            ],
            [
             0.6666666666666666,
             "#ed7953"
            ],
            [
             0.7777777777777778,
             "#fb9f3a"
            ],
            [
             0.8888888888888888,
             "#fdca26"
            ],
            [
             1,
             "#f0f921"
            ]
           ]
          },
          "colorway": [
           "#636efa",
           "#EF553B",
           "#00cc96",
           "#ab63fa",
           "#FFA15A",
           "#19d3f3",
           "#FF6692",
           "#B6E880",
           "#FF97FF",
           "#FECB52"
          ],
          "font": {
           "color": "#2a3f5f"
          },
          "geo": {
           "bgcolor": "white",
           "lakecolor": "white",
           "landcolor": "#E5ECF6",
           "showlakes": true,
           "showland": true,
           "subunitcolor": "white"
          },
          "hoverlabel": {
           "align": "left"
          },
          "hovermode": "closest",
          "mapbox": {
           "style": "light"
          },
          "paper_bgcolor": "white",
          "plot_bgcolor": "#E5ECF6",
          "polar": {
           "angularaxis": {
            "gridcolor": "white",
            "linecolor": "white",
            "ticks": ""
           },
           "bgcolor": "#E5ECF6",
           "radialaxis": {
            "gridcolor": "white",
            "linecolor": "white",
            "ticks": ""
           }
          },
          "scene": {
           "xaxis": {
            "backgroundcolor": "#E5ECF6",
            "gridcolor": "white",
            "gridwidth": 2,
            "linecolor": "white",
            "showbackground": true,
            "ticks": "",
            "zerolinecolor": "white"
           },
           "yaxis": {
            "backgroundcolor": "#E5ECF6",
            "gridcolor": "white",
            "gridwidth": 2,
            "linecolor": "white",
            "showbackground": true,
            "ticks": "",
            "zerolinecolor": "white"
           },
           "zaxis": {
            "backgroundcolor": "#E5ECF6",
            "gridcolor": "white",
            "gridwidth": 2,
            "linecolor": "white",
            "showbackground": true,
            "ticks": "",
            "zerolinecolor": "white"
           }
          },
          "shapedefaults": {
           "line": {
            "color": "#2a3f5f"
           }
          },
          "ternary": {
           "aaxis": {
            "gridcolor": "white",
            "linecolor": "white",
            "ticks": ""
           },
           "baxis": {
            "gridcolor": "white",
            "linecolor": "white",
            "ticks": ""
           },
           "bgcolor": "#E5ECF6",
           "caxis": {
            "gridcolor": "white",
            "linecolor": "white",
            "ticks": ""
           }
          },
          "title": {
           "x": 0.05
          },
          "xaxis": {
           "automargin": true,
           "gridcolor": "white",
           "linecolor": "white",
           "ticks": "",
           "title": {
            "standoff": 15
           },
           "zerolinecolor": "white",
           "zerolinewidth": 2
          },
          "yaxis": {
           "automargin": true,
           "gridcolor": "white",
           "linecolor": "white",
           "ticks": "",
           "title": {
            "standoff": 15
           },
           "zerolinecolor": "white",
           "zerolinewidth": 2
          }
         }
        },
        "title": {
         "text": "Share of Covid Deaths vs Share of Population Delta - Without NY Data"
        },
        "width": 800,
        "xaxis": {
         "autorange": true,
         "range": [
          -0.5,
          49.5
         ],
         "tickfont": {
          "size": 8
         },
         "type": "category"
        },
        "yaxis": {
         "autorange": true,
         "range": [
          -0.08966883382024095,
          0.16338775940695027
         ],
         "tickformat": "0.0%",
         "type": "linear"
        }
       }
      },
      "image/png": "[encoded data removed]",
      "text/html": [
       "<div>\n",
       "        \n",
       "        \n",
       "            <div id=\"91392205-de01-4c27-af9f-6a380afb45d2\" class=\"plotly-graph-div\" style=\"height:800px; width:800px;\"></div>\n",
       "            <script type=\"text/javascript\">\n",
       "                require([\"plotly\"], function(Plotly) {\n",
       "                    window.PLOTLYENV=window.PLOTLYENV || {};\n",
       "                    \n",
       "                if (document.getElementById(\"91392205-de01-4c27-af9f-6a380afb45d2\")) {\n",
       "                    Plotly.newPlot(\n",
       "                        '91392205-de01-4c27-af9f-6a380afb45d2',\n",
       "                        [{\"marker\": {\"color\": [\"red\", \"red\", \"red\", \"red\", \"red\", \"red\", \"red\", \"red\", \"red\", \"red\", \"red\", \"red\", \"red\", \"green\", \"green\", \"green\", \"green\", \"green\", \"green\", \"green\", \"green\", \"green\", \"green\", \"green\", \"green\", \"green\", \"green\", \"green\", \"green\", \"green\", \"green\", \"green\", \"green\", \"green\", \"green\", \"green\", \"green\", \"green\", \"green\", \"green\", \"green\", \"green\", \"green\", \"green\", \"green\", \"green\", \"green\", \"green\", \"green\", \"green\"]}, \"type\": \"bar\", \"x\": [\"NJ\", \"MA\", \"MI\", \"CT\", \"LA\", \"PA\", \"IL\", \"MD\", \"IN\", \"RI\", \"DC\", \"DE\", \"CO\", \"VT\", \"MS\", \"WY\", \"ND\", \"NH\", \"AK\", \"SD\", \"ME\", \"MT\", \"NM\", \"HI\", \"NV\", \"NE\", \"ID\", \"WV\", \"IA\", \"KS\", \"GA\", \"WA\", \"OK\", \"MN\", \"AR\", \"AL\", \"KY\", \"UT\", \"SC\", \"WI\", \"MO\", \"OR\", \"OH\", \"VA\", \"AZ\", \"TN\", \"NC\", \"FL\", \"TX\", \"CA\"], \"y\": [0.15073492974559072, 0.07041287860408502, 0.05631433663301176, 0.04558610445047746, 0.030111002630800195, 0.02851908270686592, 0.022819186717232237, 0.011130589455130135, 0.007193138866153356, 0.004522075379090187, 0.003498303086223845, 0.0009657948297124644, 2.9608674136583774e-05, -0.0009335103553419878, -0.0015130997588631654, -0.001675414424645898, -0.0018105020059891886, -0.0021342373121133276, -0.002149656689834605, -0.0022635754100785712, -0.003051372517633537, -0.0031584306615377606, -0.0032779196775627353, -0.004183094781896998, -0.004237438688805136, -0.004507748912485015, -0.004510074185594741, -0.004661634340034791, -0.005487359429533629, -0.006335421673408975, -0.007192409502478261, -0.007267372720376267, -0.00738110825585618, -0.007924023852714058, -0.007970863302358064, -0.008626241031957698, -0.008659364061135056, -0.009280336515525855, -0.010488760076956635, -0.011139746079074128, -0.011260978268124194, -0.011324580441886178, -0.011760970450208907, -0.011984477149666436, -0.01448595284260826, -0.017285484110053588, -0.02369151942317166, -0.03653961587903248, -0.0746667328310845, -0.0770160041588814]}],\n",
       "                        {\"autosize\": false, \"height\": 800, \"margin\": {\"b\": 100, \"l\": 50, \"pad\": 4, \"r\": 50, \"t\": 100}, \"template\": {\"data\": {\"bar\": [{\"error_x\": {\"color\": \"#2a3f5f\"}, \"error_y\": {\"color\": \"#2a3f5f\"}, \"marker\": {\"line\": {\"color\": \"#E5ECF6\", \"width\": 0.5}}, \"type\": \"bar\"}], \"barpolar\": [{\"marker\": {\"line\": {\"color\": \"#E5ECF6\", \"width\": 0.5}}, \"type\": \"barpolar\"}], \"carpet\": [{\"aaxis\": {\"endlinecolor\": \"#2a3f5f\", \"gridcolor\": \"white\", \"linecolor\": \"white\", \"minorgridcolor\": \"white\", \"startlinecolor\": \"#2a3f5f\"}, \"baxis\": {\"endlinecolor\": \"#2a3f5f\", \"gridcolor\": \"white\", \"linecolor\": \"white\", \"minorgridcolor\": \"white\", \"startlinecolor\": \"#2a3f5f\"}, \"type\": \"carpet\"}], \"choropleth\": [{\"colorbar\": {\"outlinewidth\": 0, \"ticks\": \"\"}, \"type\": \"choropleth\"}], \"contour\": [{\"colorbar\": {\"outlinewidth\": 0, \"ticks\": \"\"}, \"colorscale\": [[0.0, \"#0d0887\"], [0.1111111111111111, \"#46039f\"], [0.2222222222222222, \"#7201a8\"], [0.3333333333333333, \"#9c179e\"], [0.4444444444444444, \"#bd3786\"], [0.5555555555555556, \"#d8576b\"], [0.6666666666666666, \"#ed7953\"], [0.7777777777777778, \"#fb9f3a\"], [0.8888888888888888, \"#fdca26\"], [1.0, \"#f0f921\"]], \"type\": \"contour\"}], \"contourcarpet\": [{\"colorbar\": {\"outlinewidth\": 0, \"ticks\": \"\"}, \"type\": \"contourcarpet\"}], \"heatmap\": [{\"colorbar\": {\"outlinewidth\": 0, \"ticks\": \"\"}, \"colorscale\": [[0.0, \"#0d0887\"], [0.1111111111111111, \"#46039f\"], [0.2222222222222222, \"#7201a8\"], [0.3333333333333333, \"#9c179e\"], [0.4444444444444444, \"#bd3786\"], [0.5555555555555556, \"#d8576b\"], [0.6666666666666666, \"#ed7953\"], [0.7777777777777778, \"#fb9f3a\"], [0.8888888888888888, \"#fdca26\"], [1.0, \"#f0f921\"]], \"type\": \"heatmap\"}], \"heatmapgl\": [{\"colorbar\": {\"outlinewidth\": 0, \"ticks\": \"\"}, \"colorscale\": [[0.0, \"#0d0887\"], [0.1111111111111111, \"#46039f\"], [0.2222222222222222, \"#7201a8\"], [0.3333333333333333, \"#9c179e\"], [0.4444444444444444, \"#bd3786\"], [0.5555555555555556, \"#d8576b\"], [0.6666666666666666, \"#ed7953\"], [0.7777777777777778, \"#fb9f3a\"], [0.8888888888888888, \"#fdca26\"], [1.0, \"#f0f921\"]], \"type\": \"heatmapgl\"}], \"histogram\": [{\"marker\": {\"colorbar\": {\"outlinewidth\": 0, \"ticks\": \"\"}}, \"type\": \"histogram\"}], \"histogram2d\": [{\"colorbar\": {\"outlinewidth\": 0, \"ticks\": \"\"}, \"colorscale\": [[0.0, \"#0d0887\"], [0.1111111111111111, \"#46039f\"], [0.2222222222222222, \"#7201a8\"], [0.3333333333333333, \"#9c179e\"], [0.4444444444444444, \"#bd3786\"], [0.5555555555555556, \"#d8576b\"], [0.6666666666666666, \"#ed7953\"], [0.7777777777777778, \"#fb9f3a\"], [0.8888888888888888, \"#fdca26\"], [1.0, \"#f0f921\"]], \"type\": \"histogram2d\"}], \"histogram2dcontour\": [{\"colorbar\": {\"outlinewidth\": 0, \"ticks\": \"\"}, \"colorscale\": [[0.0, \"#0d0887\"], [0.1111111111111111, \"#46039f\"], [0.2222222222222222, \"#7201a8\"], [0.3333333333333333, \"#9c179e\"], [0.4444444444444444, \"#bd3786\"], [0.5555555555555556, \"#d8576b\"], [0.6666666666666666, \"#ed7953\"], [0.7777777777777778, \"#fb9f3a\"], [0.8888888888888888, \"#fdca26\"], [1.0, \"#f0f921\"]], \"type\": \"histogram2dcontour\"}], \"mesh3d\": [{\"colorbar\": {\"outlinewidth\": 0, \"ticks\": \"\"}, \"type\": \"mesh3d\"}], \"parcoords\": [{\"line\": {\"colorbar\": {\"outlinewidth\": 0, \"ticks\": \"\"}}, \"type\": \"parcoords\"}], \"pie\": [{\"automargin\": true, \"type\": \"pie\"}], \"scatter\": [{\"marker\": {\"colorbar\": {\"outlinewidth\": 0, \"ticks\": \"\"}}, \"type\": \"scatter\"}], \"scatter3d\": [{\"line\": {\"colorbar\": {\"outlinewidth\": 0, \"ticks\": \"\"}}, \"marker\": {\"colorbar\": {\"outlinewidth\": 0, \"ticks\": \"\"}}, \"type\": \"scatter3d\"}], \"scattercarpet\": [{\"marker\": {\"colorbar\": {\"outlinewidth\": 0, \"ticks\": \"\"}}, \"type\": \"scattercarpet\"}], \"scattergeo\": [{\"marker\": {\"colorbar\": {\"outlinewidth\": 0, \"ticks\": \"\"}}, \"type\": \"scattergeo\"}], \"scattergl\": [{\"marker\": {\"colorbar\": {\"outlinewidth\": 0, \"ticks\": \"\"}}, \"type\": \"scattergl\"}], \"scattermapbox\": [{\"marker\": {\"colorbar\": {\"outlinewidth\": 0, \"ticks\": \"\"}}, \"type\": \"scattermapbox\"}], \"scatterpolar\": [{\"marker\": {\"colorbar\": {\"outlinewidth\": 0, \"ticks\": \"\"}}, \"type\": \"scatterpolar\"}], \"scatterpolargl\": [{\"marker\": {\"colorbar\": {\"outlinewidth\": 0, \"ticks\": \"\"}}, \"type\": \"scatterpolargl\"}], \"scatterternary\": [{\"marker\": {\"colorbar\": {\"outlinewidth\": 0, \"ticks\": \"\"}}, \"type\": \"scatterternary\"}], \"surface\": [{\"colorbar\": {\"outlinewidth\": 0, \"ticks\": \"\"}, \"colorscale\": [[0.0, \"#0d0887\"], [0.1111111111111111, \"#46039f\"], [0.2222222222222222, \"#7201a8\"], [0.3333333333333333, \"#9c179e\"], [0.4444444444444444, \"#bd3786\"], [0.5555555555555556, \"#d8576b\"], [0.6666666666666666, \"#ed7953\"], [0.7777777777777778, \"#fb9f3a\"], [0.8888888888888888, \"#fdca26\"], [1.0, \"#f0f921\"]], \"type\": \"surface\"}], \"table\": [{\"cells\": {\"fill\": {\"color\": \"#EBF0F8\"}, \"line\": {\"color\": \"white\"}}, \"header\": {\"fill\": {\"color\": \"#C8D4E3\"}, \"line\": {\"color\": \"white\"}}, \"type\": \"table\"}]}, \"layout\": {\"annotationdefaults\": {\"arrowcolor\": \"#2a3f5f\", \"arrowhead\": 0, \"arrowwidth\": 1}, \"coloraxis\": {\"colorbar\": {\"outlinewidth\": 0, \"ticks\": \"\"}}, \"colorscale\": {\"diverging\": [[0, \"#8e0152\"], [0.1, \"#c51b7d\"], [0.2, \"#de77ae\"], [0.3, \"#f1b6da\"], [0.4, \"#fde0ef\"], [0.5, \"#f7f7f7\"], [0.6, \"#e6f5d0\"], [0.7, \"#b8e186\"], [0.8, \"#7fbc41\"], [0.9, \"#4d9221\"], [1, \"#276419\"]], \"sequential\": [[0.0, \"#0d0887\"], [0.1111111111111111, \"#46039f\"], [0.2222222222222222, \"#7201a8\"], [0.3333333333333333, \"#9c179e\"], [0.4444444444444444, \"#bd3786\"], [0.5555555555555556, \"#d8576b\"], [0.6666666666666666, \"#ed7953\"], [0.7777777777777778, \"#fb9f3a\"], [0.8888888888888888, \"#fdca26\"], [1.0, \"#f0f921\"]], \"sequentialminus\": [[0.0, \"#0d0887\"], [0.1111111111111111, \"#46039f\"], [0.2222222222222222, \"#7201a8\"], [0.3333333333333333, \"#9c179e\"], [0.4444444444444444, \"#bd3786\"], [0.5555555555555556, \"#d8576b\"], [0.6666666666666666, \"#ed7953\"], [0.7777777777777778, \"#fb9f3a\"], [0.8888888888888888, \"#fdca26\"], [1.0, \"#f0f921\"]]}, \"colorway\": [\"#636efa\", \"#EF553B\", \"#00cc96\", \"#ab63fa\", \"#FFA15A\", \"#19d3f3\", \"#FF6692\", \"#B6E880\", \"#FF97FF\", \"#FECB52\"], \"font\": {\"color\": \"#2a3f5f\"}, \"geo\": {\"bgcolor\": \"white\", \"lakecolor\": \"white\", \"landcolor\": \"#E5ECF6\", \"showlakes\": true, \"showland\": true, \"subunitcolor\": \"white\"}, \"hoverlabel\": {\"align\": \"left\"}, \"hovermode\": \"closest\", \"mapbox\": {\"style\": \"light\"}, \"paper_bgcolor\": \"white\", \"plot_bgcolor\": \"#E5ECF6\", \"polar\": {\"angularaxis\": {\"gridcolor\": \"white\", \"linecolor\": \"white\", \"ticks\": \"\"}, \"bgcolor\": \"#E5ECF6\", \"radialaxis\": {\"gridcolor\": \"white\", \"linecolor\": \"white\", \"ticks\": \"\"}}, \"scene\": {\"xaxis\": {\"backgroundcolor\": \"#E5ECF6\", \"gridcolor\": \"white\", \"gridwidth\": 2, \"linecolor\": \"white\", \"showbackground\": true, \"ticks\": \"\", \"zerolinecolor\": \"white\"}, \"yaxis\": {\"backgroundcolor\": \"#E5ECF6\", \"gridcolor\": \"white\", \"gridwidth\": 2, \"linecolor\": \"white\", \"showbackground\": true, \"ticks\": \"\", \"zerolinecolor\": \"white\"}, \"zaxis\": {\"backgroundcolor\": \"#E5ECF6\", \"gridcolor\": \"white\", \"gridwidth\": 2, \"linecolor\": \"white\", \"showbackground\": true, \"ticks\": \"\", \"zerolinecolor\": \"white\"}}, \"shapedefaults\": {\"line\": {\"color\": \"#2a3f5f\"}}, \"ternary\": {\"aaxis\": {\"gridcolor\": \"white\", \"linecolor\": \"white\", \"ticks\": \"\"}, \"baxis\": {\"gridcolor\": \"white\", \"linecolor\": \"white\", \"ticks\": \"\"}, \"bgcolor\": \"#E5ECF6\", \"caxis\": {\"gridcolor\": \"white\", \"linecolor\": \"white\", \"ticks\": \"\"}}, \"title\": {\"x\": 0.05}, \"xaxis\": {\"automargin\": true, \"gridcolor\": \"white\", \"linecolor\": \"white\", \"ticks\": \"\", \"title\": {\"standoff\": 15}, \"zerolinecolor\": \"white\", \"zerolinewidth\": 2}, \"yaxis\": {\"automargin\": true, \"gridcolor\": \"white\", \"linecolor\": \"white\", \"ticks\": \"\", \"title\": {\"standoff\": 15}, \"zerolinecolor\": \"white\", \"zerolinewidth\": 2}}}, \"title\": {\"text\": \"Share of Covid Deaths vs Share of Population Delta - Without NY Data\"}, \"width\": 800, \"xaxis\": {\"tickfont\": {\"size\": 8}}, \"yaxis\": {\"tickformat\": \"0.0%\"}},\n",
       "                        {\"responsive\": true}\n",
       "                    ).then(function(){\n",
       "                            \n",
       "var gd = document.getElementById('91392205-de01-4c27-af9f-6a380afb45d2');\n",
       "var x = new MutationObserver(function (mutations, observer) {{\n",
       "        var display = window.getComputedStyle(gd).display;\n",
       "        if (!display || display === 'none') {{\n",
       "            console.log([gd, 'removed!']);\n",
       "            Plotly.purge(gd);\n",
       "            observer.disconnect();\n",
       "        }}\n",
       "}});\n",
       "\n",
       "// Listen for the removal of the full notebook cells\n",
       "var notebookContainer = gd.closest('#notebook-container');\n",
       "if (notebookContainer) {{\n",
       "    x.observe(notebookContainer, {childList: true});\n",
       "}}\n",
       "\n",
       "// Listen for the clearing of the current output cell\n",
       "var outputEl = gd.closest('.output');\n",
       "if (outputEl) {{\n",
       "    x.observe(outputEl, {childList: true});\n",
       "}}\n",
       "\n",
       "                        })\n",
       "                };\n",
       "                });\n",
       "            </script>\n",
       "        </div>"
      ]
     },
     "metadata": {},
     "output_type": "display_data"
    }
   ],
   "source": [
    "covid_sort = covid.sort_values(by='deathShareDelta', ascending=False)\n",
    "covid_sort['polarity'] = covid_sort['deathShareDelta'] < 0\n",
    "colors = []\n",
    "for polarity in covid_sort.polarity.values:\n",
    "    if polarity:\n",
    "        colors.append(\"green\")\n",
    "    else:\n",
    "        colors.append(\"red\")\n",
    "fig = go.Figure()\n",
    "fig.add_trace(go.Bar(x=covid_sort.state, y=covid_sort.deathShareDelta, marker_color=colors))\n",
    "fig.layout.xaxis.tickfont.size = 8\n",
    "fig.layout.yaxis.tickformat = '0.0%'\n",
    "fig.update_layout(title_text='Share of Covid Deaths vs Share of Population Delta - Without NY Data')\n",
    "fig.update_layout(\n",
    "    autosize=False,\n",
    "    width=800,\n",
    "    height=800,\n",
    "    margin=dict(\n",
    "        l=50,\n",
    "        r=50,\n",
    "        b=100,\n",
    "        t=100,\n",
    "        pad=4\n",
    "    ),\n",
    ")\n",
    "fig.show()"
   ]
  },
  {
   "cell_type": "code",
   "execution_count": null,
   "metadata": {},
   "outputs": [],
   "source": []
  }
 ],
 "metadata": {
  "kernelspec": {
   "display_name": "Python 3",
   "language": "python",
   "name": "python3"
  },
  "language_info": {
   "codemirror_mode": {
    "name": "ipython",
    "version": 3
   },
   "file_extension": ".py",
   "mimetype": "text/x-python",
   "name": "python",
   "nbconvert_exporter": "python",
   "pygments_lexer": "ipython3",
   "version": "3.7.3"
  },
  "nteract": {
   "version": "0.22.0"
  }
 },
 "nbformat": 4,
 "nbformat_minor": 4
}
